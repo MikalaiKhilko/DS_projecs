{
 "cells": [
  {
   "cell_type": "markdown",
   "metadata": {},
   "source": [
    "# Восстановление золота из руды"
   ]
  },
  {
   "cell_type": "markdown",
   "metadata": {},
   "source": [
    "В данной работе будет необходимо построить модель машинного обучения, которая предскажет коэффициент восстановления золота из золотосодержащей руды.\n",
    "\n",
    "В работе используем данные с параметрами добычи и очистки.\n",
    "\n",
    "Модель поможет оптимизировать производство, чтобы не запускать предприятие с убыточными характеристиками.\n",
    "\n",
    "Описание проекта\n",
    "\n",
    "Данные находятся в трёх файлах:\n",
    "-\tgold_recovery_train_new.csv — обучающая выборка;\n",
    "-\tgold_recovery_test_new.csv — тестовая выборка;\n",
    "-\tgold_recovery_full_new.csv — исходные данные.\n",
    "\n",
    "Данные индексируются датой и временем получения информации (признак date). Соседние по времени параметры часто похожи.\n",
    "\n",
    "Некоторые параметры недоступны, потому что замеряются и/или рассчитываются значительно позже. \n",
    "Из-за этого в тестовой выборке отсутствуют некоторые признаки, которые могут быть в обучающей. \n",
    "\n",
    "Также в тестовом наборе нет целевых признаков.\n",
    "\n",
    "Исходный датасет содержит обучающую и тестовую выборки со всеми признаками.\n",
    "\n",
    "В нашем распоряжении сырые данные: их просто выгрузили из хранилища. Прежде чем приступить к построению модели, надо проверить их на корректность.\n",
    "\n",
    "Нам нужно:\n",
    "\n",
    "Подготовить данные\n",
    "Провести исследовательский анализ данных\n",
    "Построить и обучить модель\n",
    "Описание данных\n",
    "\n",
    "Для полного понимания о данной работе для начала познакомимся с технологическим процессом и познакомимся с каждой стадией:\n",
    "\n",
    "1. Флотация:\n",
    "\n",
    "Во флотационную установку подаётся смесь золотосодержащей руды. После обогащения получается черновой концентрат и «отвальные хвосты», то есть остатки продукта с низкой концентрацией ценных металлов. На стабильность этого процесса влияет непостоянное и неоптимальное физико-химическое состояние флотационной пульпы (смеси твёрдых частиц и жидкости).\n",
    "\n",
    "2. Очистка:\n",
    "\n",
    "Черновой концентрат проходит две очистки. На выходе получается финальный концентрат и новые отвальные хвосты.\n",
    "\n",
    "Технологический процесс:\n",
    "\n",
    "Rougher feed — исходное сырье\n",
    "Rougher additions (или reagent additions) — флотационные реагенты:\n",
    " 1. Xanthate - ксантогенат (промотер, или активатор флотации)\n",
    " 2. Sulphate - сульфат (на данном производстве сульфид натрия)\n",
    " 3. Depressant -  депрессант (силикат натрия)\n",
    "Rougher process (англ. «грубый процесс») — флотация\n",
    "Rougher tails — отвальные хвосты\n",
    "Float banks — флотационная установка\n",
    "Cleaner process — очистка\n",
    "Rougher Au — черновой концентрат золота\n",
    "Final Au — финальный концентрат золота\n",
    "Параметры этапов:\n",
    "\n",
    "air amount — объём воздуха\n",
    "fluid levels — уровень жидкости\n",
    "feed size — размер гранул сырья\n",
    "feed rate — скорость подачи\n",
    "Значения признаков в наших данных\n",
    "\n",
    "Описываются они так:\n",
    "\n",
    "[этап].[тип_параметра].[название_параметра]\n",
    "\n",
    "значения для блока [этап]:\n",
    "\n",
    "rougher — флотация\n",
    "primary_cleaner — первичная очистка\n",
    "secondary_cleaner — вторичная очистка\n",
    "final — финальные характеристики\n",
    "значения для блока [тип_параметра]:\n",
    "\n",
    "input — параметры сырья\n",
    "output — параметры продукта\n",
    "state — параметры, характеризующие текущее состояние этапа\n",
    "calculation — расчётные характеристики"
   ]
  },
  {
   "cell_type": "markdown",
   "metadata": {},
   "source": [
    "## 1. Подготовка данных"
   ]
  },
  {
   "cell_type": "markdown",
   "metadata": {},
   "source": [
    "### 1.1. Откроем файлы и изучим их"
   ]
  },
  {
   "cell_type": "code",
   "execution_count": 1,
   "metadata": {},
   "outputs": [],
   "source": [
    "import pandas as pd\n",
    "import numpy as np\n",
    "import matplotlib.pyplot as plt\n",
    "import seaborn as sns\n",
    "from scipy import stats as st\n",
    "from IPython.display import display\n",
    "from numpy.random import RandomState\n",
    "from scipy import stats\n",
    "\n",
    "from sklearn.inspection import permutation_importance\n",
    "from sklearn.preprocessing import StandardScaler\n",
    "from sklearn.model_selection import train_test_split, RandomizedSearchCV, GridSearchCV, cross_val_score\n",
    "from sklearn.tree import DecisionTreeRegressor\n",
    "from sklearn.ensemble import RandomForestRegressor\n",
    "from sklearn.linear_model import LinearRegression\n",
    "from sklearn.metrics import mean_absolute_error,fbeta_score, make_scorer\n",
    "from sklearn.metrics import mean_squared_error, make_scorer\n",
    "from sklearn.metrics import mean_absolute_error\n",
    "sns.set()\n",
    "\n",
    "import warnings\n",
    "warnings.filterwarnings('ignore')"
   ]
  },
  {
   "cell_type": "markdown",
   "metadata": {},
   "source": [
    "Импортируем файлы с данными и запишим их в переменные."
   ]
  },
  {
   "cell_type": "code",
   "execution_count": 2,
   "metadata": {},
   "outputs": [],
   "source": [
    "# data_train = pd.read_csv('/datasets/gold_recovery_train_new.csv', index_col = 'date')\n",
    "# data_test = pd.read_csv('/datasets/gold_recovery_test_new.csv', index_col = 'date')\n",
    "# data_full = pd.read_csv('/datasets/gold_recovery_full_new.csv', index_col = 'date')\n",
    "data_train = pd.read_csv('/Users/Mikalai/Documents/Data Science/Сборный проект_2/gold_recovery_train_new.csv')\n",
    "data_test = pd.read_csv('/Users/Mikalai/Documents/Data Science/Сборный проект_2/gold_recovery_test_new.csv')\n",
    "data_full = pd.read_csv('/Users/Mikalai/Documents/Data Science/Сборный проект_2/gold_recovery_full_new.csv')"
   ]
  },
  {
   "cell_type": "markdown",
   "metadata": {},
   "source": [
    "Рассмотрим датафрейм data_full"
   ]
  },
  {
   "cell_type": "code",
   "execution_count": 3,
   "metadata": {},
   "outputs": [
    {
     "data": {
      "text/plain": [
       "(19439, 87)"
      ]
     },
     "execution_count": 3,
     "metadata": {},
     "output_type": "execute_result"
    }
   ],
   "source": [
    "data_full.shape"
   ]
  },
  {
   "cell_type": "code",
   "execution_count": 4,
   "metadata": {},
   "outputs": [
    {
     "name": "stdout",
     "output_type": "stream",
     "text": [
      "<class 'pandas.core.frame.DataFrame'>\n",
      "RangeIndex: 19439 entries, 0 to 19438\n",
      "Data columns (total 87 columns):\n",
      " #   Column                                              Non-Null Count  Dtype  \n",
      "---  ------                                              --------------  -----  \n",
      " 0   date                                                19439 non-null  object \n",
      " 1   final.output.concentrate_ag                         19438 non-null  float64\n",
      " 2   final.output.concentrate_pb                         19438 non-null  float64\n",
      " 3   final.output.concentrate_sol                        19228 non-null  float64\n",
      " 4   final.output.concentrate_au                         19439 non-null  float64\n",
      " 5   final.output.recovery                               19439 non-null  float64\n",
      " 6   final.output.tail_ag                                19438 non-null  float64\n",
      " 7   final.output.tail_pb                                19338 non-null  float64\n",
      " 8   final.output.tail_sol                               19433 non-null  float64\n",
      " 9   final.output.tail_au                                19439 non-null  float64\n",
      " 10  primary_cleaner.input.sulfate                       19415 non-null  float64\n",
      " 11  primary_cleaner.input.depressant                    19402 non-null  float64\n",
      " 12  primary_cleaner.input.feed_size                     19439 non-null  float64\n",
      " 13  primary_cleaner.input.xanthate                      19335 non-null  float64\n",
      " 14  primary_cleaner.output.concentrate_ag               19439 non-null  float64\n",
      " 15  primary_cleaner.output.concentrate_pb               19323 non-null  float64\n",
      " 16  primary_cleaner.output.concentrate_sol              19069 non-null  float64\n",
      " 17  primary_cleaner.output.concentrate_au               19439 non-null  float64\n",
      " 18  primary_cleaner.output.tail_ag                      19435 non-null  float64\n",
      " 19  primary_cleaner.output.tail_pb                      19418 non-null  float64\n",
      " 20  primary_cleaner.output.tail_sol                     19377 non-null  float64\n",
      " 21  primary_cleaner.output.tail_au                      19439 non-null  float64\n",
      " 22  primary_cleaner.state.floatbank8_a_air              19435 non-null  float64\n",
      " 23  primary_cleaner.state.floatbank8_a_level            19438 non-null  float64\n",
      " 24  primary_cleaner.state.floatbank8_b_air              19435 non-null  float64\n",
      " 25  primary_cleaner.state.floatbank8_b_level            19438 non-null  float64\n",
      " 26  primary_cleaner.state.floatbank8_c_air              19437 non-null  float64\n",
      " 27  primary_cleaner.state.floatbank8_c_level            19438 non-null  float64\n",
      " 28  primary_cleaner.state.floatbank8_d_air              19436 non-null  float64\n",
      " 29  primary_cleaner.state.floatbank8_d_level            19438 non-null  float64\n",
      " 30  rougher.calculation.sulfate_to_au_concentrate       19437 non-null  float64\n",
      " 31  rougher.calculation.floatbank10_sulfate_to_au_feed  19437 non-null  float64\n",
      " 32  rougher.calculation.floatbank11_sulfate_to_au_feed  19437 non-null  float64\n",
      " 33  rougher.calculation.au_pb_ratio                     19439 non-null  float64\n",
      " 34  rougher.input.feed_ag                               19439 non-null  float64\n",
      " 35  rougher.input.feed_pb                               19339 non-null  float64\n",
      " 36  rougher.input.feed_rate                             19428 non-null  float64\n",
      " 37  rougher.input.feed_size                             19294 non-null  float64\n",
      " 38  rougher.input.feed_sol                              19340 non-null  float64\n",
      " 39  rougher.input.feed_au                               19439 non-null  float64\n",
      " 40  rougher.input.floatbank10_sulfate                   19405 non-null  float64\n",
      " 41  rougher.input.floatbank10_xanthate                  19431 non-null  float64\n",
      " 42  rougher.input.floatbank11_sulfate                   19395 non-null  float64\n",
      " 43  rougher.input.floatbank11_xanthate                  18986 non-null  float64\n",
      " 44  rougher.output.concentrate_ag                       19439 non-null  float64\n",
      " 45  rougher.output.concentrate_pb                       19439 non-null  float64\n",
      " 46  rougher.output.concentrate_sol                      19416 non-null  float64\n",
      " 47  rougher.output.concentrate_au                       19439 non-null  float64\n",
      " 48  rougher.output.recovery                             19439 non-null  float64\n",
      " 49  rougher.output.tail_ag                              19438 non-null  float64\n",
      " 50  rougher.output.tail_pb                              19439 non-null  float64\n",
      " 51  rougher.output.tail_sol                             19439 non-null  float64\n",
      " 52  rougher.output.tail_au                              19439 non-null  float64\n",
      " 53  rougher.state.floatbank10_a_air                     19438 non-null  float64\n",
      " 54  rougher.state.floatbank10_a_level                   19438 non-null  float64\n",
      " 55  rougher.state.floatbank10_b_air                     19438 non-null  float64\n",
      " 56  rougher.state.floatbank10_b_level                   19438 non-null  float64\n",
      " 57  rougher.state.floatbank10_c_air                     19438 non-null  float64\n",
      " 58  rougher.state.floatbank10_c_level                   19438 non-null  float64\n",
      " 59  rougher.state.floatbank10_d_air                     19439 non-null  float64\n",
      " 60  rougher.state.floatbank10_d_level                   19439 non-null  float64\n",
      " 61  rougher.state.floatbank10_e_air                     19003 non-null  float64\n",
      " 62  rougher.state.floatbank10_e_level                   19439 non-null  float64\n",
      " 63  rougher.state.floatbank10_f_air                     19439 non-null  float64\n",
      " 64  rougher.state.floatbank10_f_level                   19439 non-null  float64\n",
      " 65  secondary_cleaner.output.tail_ag                    19437 non-null  float64\n",
      " 66  secondary_cleaner.output.tail_pb                    19427 non-null  float64\n",
      " 67  secondary_cleaner.output.tail_sol                   17691 non-null  float64\n",
      " 68  secondary_cleaner.output.tail_au                    19439 non-null  float64\n",
      " 69  secondary_cleaner.state.floatbank2_a_air            19219 non-null  float64\n",
      " 70  secondary_cleaner.state.floatbank2_a_level          19438 non-null  float64\n",
      " 71  secondary_cleaner.state.floatbank2_b_air            19416 non-null  float64\n",
      " 72  secondary_cleaner.state.floatbank2_b_level          19438 non-null  float64\n",
      " 73  secondary_cleaner.state.floatbank3_a_air            19426 non-null  float64\n",
      " 74  secondary_cleaner.state.floatbank3_a_level          19438 non-null  float64\n",
      " 75  secondary_cleaner.state.floatbank3_b_air            19438 non-null  float64\n",
      " 76  secondary_cleaner.state.floatbank3_b_level          19438 non-null  float64\n",
      " 77  secondary_cleaner.state.floatbank4_a_air            19433 non-null  float64\n",
      " 78  secondary_cleaner.state.floatbank4_a_level          19438 non-null  float64\n",
      " 79  secondary_cleaner.state.floatbank4_b_air            19438 non-null  float64\n",
      " 80  secondary_cleaner.state.floatbank4_b_level          19438 non-null  float64\n",
      " 81  secondary_cleaner.state.floatbank5_a_air            19438 non-null  float64\n",
      " 82  secondary_cleaner.state.floatbank5_a_level          19438 non-null  float64\n",
      " 83  secondary_cleaner.state.floatbank5_b_air            19438 non-null  float64\n",
      " 84  secondary_cleaner.state.floatbank5_b_level          19438 non-null  float64\n",
      " 85  secondary_cleaner.state.floatbank6_a_air            19437 non-null  float64\n",
      " 86  secondary_cleaner.state.floatbank6_a_level          19438 non-null  float64\n",
      "dtypes: float64(86), object(1)\n",
      "memory usage: 12.9+ MB\n"
     ]
    }
   ],
   "source": [
    "data_full.info()"
   ]
  },
  {
   "cell_type": "code",
   "execution_count": 5,
   "metadata": {},
   "outputs": [
    {
     "data": {
      "text/html": [
       "<div>\n",
       "<style scoped>\n",
       "    .dataframe tbody tr th:only-of-type {\n",
       "        vertical-align: middle;\n",
       "    }\n",
       "\n",
       "    .dataframe tbody tr th {\n",
       "        vertical-align: top;\n",
       "    }\n",
       "\n",
       "    .dataframe thead th {\n",
       "        text-align: right;\n",
       "    }\n",
       "</style>\n",
       "<table border=\"1\" class=\"dataframe\">\n",
       "  <thead>\n",
       "    <tr style=\"text-align: right;\">\n",
       "      <th></th>\n",
       "      <th>date</th>\n",
       "      <th>final.output.concentrate_ag</th>\n",
       "      <th>final.output.concentrate_pb</th>\n",
       "      <th>final.output.concentrate_sol</th>\n",
       "      <th>final.output.concentrate_au</th>\n",
       "      <th>final.output.recovery</th>\n",
       "      <th>final.output.tail_ag</th>\n",
       "      <th>final.output.tail_pb</th>\n",
       "      <th>final.output.tail_sol</th>\n",
       "      <th>final.output.tail_au</th>\n",
       "      <th>...</th>\n",
       "      <th>secondary_cleaner.state.floatbank4_a_air</th>\n",
       "      <th>secondary_cleaner.state.floatbank4_a_level</th>\n",
       "      <th>secondary_cleaner.state.floatbank4_b_air</th>\n",
       "      <th>secondary_cleaner.state.floatbank4_b_level</th>\n",
       "      <th>secondary_cleaner.state.floatbank5_a_air</th>\n",
       "      <th>secondary_cleaner.state.floatbank5_a_level</th>\n",
       "      <th>secondary_cleaner.state.floatbank5_b_air</th>\n",
       "      <th>secondary_cleaner.state.floatbank5_b_level</th>\n",
       "      <th>secondary_cleaner.state.floatbank6_a_air</th>\n",
       "      <th>secondary_cleaner.state.floatbank6_a_level</th>\n",
       "    </tr>\n",
       "  </thead>\n",
       "  <tbody>\n",
       "    <tr>\n",
       "      <th>0</th>\n",
       "      <td>2016-01-15 00:00:00</td>\n",
       "      <td>6.055403</td>\n",
       "      <td>9.889648</td>\n",
       "      <td>5.507324</td>\n",
       "      <td>42.192020</td>\n",
       "      <td>70.541216</td>\n",
       "      <td>10.411962</td>\n",
       "      <td>0.895447</td>\n",
       "      <td>16.904297</td>\n",
       "      <td>2.143149</td>\n",
       "      <td>...</td>\n",
       "      <td>14.016835</td>\n",
       "      <td>-502.488007</td>\n",
       "      <td>12.099931</td>\n",
       "      <td>-504.715942</td>\n",
       "      <td>9.925633</td>\n",
       "      <td>-498.310211</td>\n",
       "      <td>8.079666</td>\n",
       "      <td>-500.470978</td>\n",
       "      <td>14.151341</td>\n",
       "      <td>-605.841980</td>\n",
       "    </tr>\n",
       "    <tr>\n",
       "      <th>1</th>\n",
       "      <td>2016-01-15 01:00:00</td>\n",
       "      <td>6.029369</td>\n",
       "      <td>9.968944</td>\n",
       "      <td>5.257781</td>\n",
       "      <td>42.701629</td>\n",
       "      <td>69.266198</td>\n",
       "      <td>10.462676</td>\n",
       "      <td>0.927452</td>\n",
       "      <td>16.634514</td>\n",
       "      <td>2.224930</td>\n",
       "      <td>...</td>\n",
       "      <td>13.992281</td>\n",
       "      <td>-505.503262</td>\n",
       "      <td>11.950531</td>\n",
       "      <td>-501.331529</td>\n",
       "      <td>10.039245</td>\n",
       "      <td>-500.169983</td>\n",
       "      <td>7.984757</td>\n",
       "      <td>-500.582168</td>\n",
       "      <td>13.998353</td>\n",
       "      <td>-599.787184</td>\n",
       "    </tr>\n",
       "    <tr>\n",
       "      <th>2</th>\n",
       "      <td>2016-01-15 02:00:00</td>\n",
       "      <td>6.055926</td>\n",
       "      <td>10.213995</td>\n",
       "      <td>5.383759</td>\n",
       "      <td>42.657501</td>\n",
       "      <td>68.116445</td>\n",
       "      <td>10.507046</td>\n",
       "      <td>0.953716</td>\n",
       "      <td>16.208849</td>\n",
       "      <td>2.257889</td>\n",
       "      <td>...</td>\n",
       "      <td>14.015015</td>\n",
       "      <td>-502.520901</td>\n",
       "      <td>11.912783</td>\n",
       "      <td>-501.133383</td>\n",
       "      <td>10.070913</td>\n",
       "      <td>-500.129135</td>\n",
       "      <td>8.013877</td>\n",
       "      <td>-500.517572</td>\n",
       "      <td>14.028663</td>\n",
       "      <td>-601.427363</td>\n",
       "    </tr>\n",
       "    <tr>\n",
       "      <th>3</th>\n",
       "      <td>2016-01-15 03:00:00</td>\n",
       "      <td>6.047977</td>\n",
       "      <td>9.977019</td>\n",
       "      <td>4.858634</td>\n",
       "      <td>42.689819</td>\n",
       "      <td>68.347543</td>\n",
       "      <td>10.422762</td>\n",
       "      <td>0.883763</td>\n",
       "      <td>16.532835</td>\n",
       "      <td>2.146849</td>\n",
       "      <td>...</td>\n",
       "      <td>14.036510</td>\n",
       "      <td>-500.857308</td>\n",
       "      <td>11.999550</td>\n",
       "      <td>-501.193686</td>\n",
       "      <td>9.970366</td>\n",
       "      <td>-499.201640</td>\n",
       "      <td>7.977324</td>\n",
       "      <td>-500.255908</td>\n",
       "      <td>14.005551</td>\n",
       "      <td>-599.996129</td>\n",
       "    </tr>\n",
       "    <tr>\n",
       "      <th>4</th>\n",
       "      <td>2016-01-15 04:00:00</td>\n",
       "      <td>6.148599</td>\n",
       "      <td>10.142511</td>\n",
       "      <td>4.939416</td>\n",
       "      <td>42.774141</td>\n",
       "      <td>66.927016</td>\n",
       "      <td>10.360302</td>\n",
       "      <td>0.792826</td>\n",
       "      <td>16.525686</td>\n",
       "      <td>2.055292</td>\n",
       "      <td>...</td>\n",
       "      <td>14.027298</td>\n",
       "      <td>-499.838632</td>\n",
       "      <td>11.953070</td>\n",
       "      <td>-501.053894</td>\n",
       "      <td>9.925709</td>\n",
       "      <td>-501.686727</td>\n",
       "      <td>7.894242</td>\n",
       "      <td>-500.356035</td>\n",
       "      <td>13.996647</td>\n",
       "      <td>-601.496691</td>\n",
       "    </tr>\n",
       "  </tbody>\n",
       "</table>\n",
       "<p>5 rows × 87 columns</p>\n",
       "</div>"
      ],
      "text/plain": [
       "                  date  final.output.concentrate_ag  \\\n",
       "0  2016-01-15 00:00:00                     6.055403   \n",
       "1  2016-01-15 01:00:00                     6.029369   \n",
       "2  2016-01-15 02:00:00                     6.055926   \n",
       "3  2016-01-15 03:00:00                     6.047977   \n",
       "4  2016-01-15 04:00:00                     6.148599   \n",
       "\n",
       "   final.output.concentrate_pb  final.output.concentrate_sol  \\\n",
       "0                     9.889648                      5.507324   \n",
       "1                     9.968944                      5.257781   \n",
       "2                    10.213995                      5.383759   \n",
       "3                     9.977019                      4.858634   \n",
       "4                    10.142511                      4.939416   \n",
       "\n",
       "   final.output.concentrate_au  final.output.recovery  final.output.tail_ag  \\\n",
       "0                    42.192020              70.541216             10.411962   \n",
       "1                    42.701629              69.266198             10.462676   \n",
       "2                    42.657501              68.116445             10.507046   \n",
       "3                    42.689819              68.347543             10.422762   \n",
       "4                    42.774141              66.927016             10.360302   \n",
       "\n",
       "   final.output.tail_pb  final.output.tail_sol  final.output.tail_au  ...  \\\n",
       "0              0.895447              16.904297              2.143149  ...   \n",
       "1              0.927452              16.634514              2.224930  ...   \n",
       "2              0.953716              16.208849              2.257889  ...   \n",
       "3              0.883763              16.532835              2.146849  ...   \n",
       "4              0.792826              16.525686              2.055292  ...   \n",
       "\n",
       "   secondary_cleaner.state.floatbank4_a_air  \\\n",
       "0                                 14.016835   \n",
       "1                                 13.992281   \n",
       "2                                 14.015015   \n",
       "3                                 14.036510   \n",
       "4                                 14.027298   \n",
       "\n",
       "   secondary_cleaner.state.floatbank4_a_level  \\\n",
       "0                                 -502.488007   \n",
       "1                                 -505.503262   \n",
       "2                                 -502.520901   \n",
       "3                                 -500.857308   \n",
       "4                                 -499.838632   \n",
       "\n",
       "   secondary_cleaner.state.floatbank4_b_air  \\\n",
       "0                                 12.099931   \n",
       "1                                 11.950531   \n",
       "2                                 11.912783   \n",
       "3                                 11.999550   \n",
       "4                                 11.953070   \n",
       "\n",
       "   secondary_cleaner.state.floatbank4_b_level  \\\n",
       "0                                 -504.715942   \n",
       "1                                 -501.331529   \n",
       "2                                 -501.133383   \n",
       "3                                 -501.193686   \n",
       "4                                 -501.053894   \n",
       "\n",
       "   secondary_cleaner.state.floatbank5_a_air  \\\n",
       "0                                  9.925633   \n",
       "1                                 10.039245   \n",
       "2                                 10.070913   \n",
       "3                                  9.970366   \n",
       "4                                  9.925709   \n",
       "\n",
       "   secondary_cleaner.state.floatbank5_a_level  \\\n",
       "0                                 -498.310211   \n",
       "1                                 -500.169983   \n",
       "2                                 -500.129135   \n",
       "3                                 -499.201640   \n",
       "4                                 -501.686727   \n",
       "\n",
       "   secondary_cleaner.state.floatbank5_b_air  \\\n",
       "0                                  8.079666   \n",
       "1                                  7.984757   \n",
       "2                                  8.013877   \n",
       "3                                  7.977324   \n",
       "4                                  7.894242   \n",
       "\n",
       "   secondary_cleaner.state.floatbank5_b_level  \\\n",
       "0                                 -500.470978   \n",
       "1                                 -500.582168   \n",
       "2                                 -500.517572   \n",
       "3                                 -500.255908   \n",
       "4                                 -500.356035   \n",
       "\n",
       "   secondary_cleaner.state.floatbank6_a_air  \\\n",
       "0                                 14.151341   \n",
       "1                                 13.998353   \n",
       "2                                 14.028663   \n",
       "3                                 14.005551   \n",
       "4                                 13.996647   \n",
       "\n",
       "   secondary_cleaner.state.floatbank6_a_level  \n",
       "0                                 -605.841980  \n",
       "1                                 -599.787184  \n",
       "2                                 -601.427363  \n",
       "3                                 -599.996129  \n",
       "4                                 -601.496691  \n",
       "\n",
       "[5 rows x 87 columns]"
      ]
     },
     "execution_count": 5,
     "metadata": {},
     "output_type": "execute_result"
    }
   ],
   "source": [
    "data_full.head()"
   ]
  },
  {
   "cell_type": "code",
   "execution_count": 6,
   "metadata": {},
   "outputs": [
    {
     "data": {
      "text/plain": [
       "date                                            0\n",
       "final.output.concentrate_ag                     1\n",
       "final.output.concentrate_pb                     1\n",
       "final.output.concentrate_sol                  211\n",
       "final.output.concentrate_au                     0\n",
       "                                             ... \n",
       "secondary_cleaner.state.floatbank5_a_level      1\n",
       "secondary_cleaner.state.floatbank5_b_air        1\n",
       "secondary_cleaner.state.floatbank5_b_level      1\n",
       "secondary_cleaner.state.floatbank6_a_air        2\n",
       "secondary_cleaner.state.floatbank6_a_level      1\n",
       "Length: 87, dtype: int64"
      ]
     },
     "execution_count": 6,
     "metadata": {},
     "output_type": "execute_result"
    }
   ],
   "source": [
    "data_full.isna().sum()"
   ]
  },
  {
   "cell_type": "markdown",
   "metadata": {},
   "source": [
    "Рассмотрим датафрейм data_train"
   ]
  },
  {
   "cell_type": "code",
   "execution_count": 7,
   "metadata": {},
   "outputs": [
    {
     "data": {
      "text/plain": [
       "(14149, 87)"
      ]
     },
     "execution_count": 7,
     "metadata": {},
     "output_type": "execute_result"
    }
   ],
   "source": [
    "data_train.shape"
   ]
  },
  {
   "cell_type": "code",
   "execution_count": 8,
   "metadata": {},
   "outputs": [
    {
     "name": "stdout",
     "output_type": "stream",
     "text": [
      "<class 'pandas.core.frame.DataFrame'>\n",
      "RangeIndex: 14149 entries, 0 to 14148\n",
      "Data columns (total 87 columns):\n",
      " #   Column                                              Non-Null Count  Dtype  \n",
      "---  ------                                              --------------  -----  \n",
      " 0   date                                                14149 non-null  object \n",
      " 1   final.output.concentrate_ag                         14148 non-null  float64\n",
      " 2   final.output.concentrate_pb                         14148 non-null  float64\n",
      " 3   final.output.concentrate_sol                        13938 non-null  float64\n",
      " 4   final.output.concentrate_au                         14149 non-null  float64\n",
      " 5   final.output.recovery                               14149 non-null  float64\n",
      " 6   final.output.tail_ag                                14149 non-null  float64\n",
      " 7   final.output.tail_pb                                14049 non-null  float64\n",
      " 8   final.output.tail_sol                               14144 non-null  float64\n",
      " 9   final.output.tail_au                                14149 non-null  float64\n",
      " 10  primary_cleaner.input.sulfate                       14129 non-null  float64\n",
      " 11  primary_cleaner.input.depressant                    14117 non-null  float64\n",
      " 12  primary_cleaner.input.feed_size                     14149 non-null  float64\n",
      " 13  primary_cleaner.input.xanthate                      14049 non-null  float64\n",
      " 14  primary_cleaner.output.concentrate_ag               14149 non-null  float64\n",
      " 15  primary_cleaner.output.concentrate_pb               14063 non-null  float64\n",
      " 16  primary_cleaner.output.concentrate_sol              13863 non-null  float64\n",
      " 17  primary_cleaner.output.concentrate_au               14149 non-null  float64\n",
      " 18  primary_cleaner.output.tail_ag                      14148 non-null  float64\n",
      " 19  primary_cleaner.output.tail_pb                      14134 non-null  float64\n",
      " 20  primary_cleaner.output.tail_sol                     14103 non-null  float64\n",
      " 21  primary_cleaner.output.tail_au                      14149 non-null  float64\n",
      " 22  primary_cleaner.state.floatbank8_a_air              14145 non-null  float64\n",
      " 23  primary_cleaner.state.floatbank8_a_level            14148 non-null  float64\n",
      " 24  primary_cleaner.state.floatbank8_b_air              14145 non-null  float64\n",
      " 25  primary_cleaner.state.floatbank8_b_level            14148 non-null  float64\n",
      " 26  primary_cleaner.state.floatbank8_c_air              14147 non-null  float64\n",
      " 27  primary_cleaner.state.floatbank8_c_level            14148 non-null  float64\n",
      " 28  primary_cleaner.state.floatbank8_d_air              14146 non-null  float64\n",
      " 29  primary_cleaner.state.floatbank8_d_level            14148 non-null  float64\n",
      " 30  rougher.calculation.sulfate_to_au_concentrate       14148 non-null  float64\n",
      " 31  rougher.calculation.floatbank10_sulfate_to_au_feed  14148 non-null  float64\n",
      " 32  rougher.calculation.floatbank11_sulfate_to_au_feed  14148 non-null  float64\n",
      " 33  rougher.calculation.au_pb_ratio                     14149 non-null  float64\n",
      " 34  rougher.input.feed_ag                               14149 non-null  float64\n",
      " 35  rougher.input.feed_pb                               14049 non-null  float64\n",
      " 36  rougher.input.feed_rate                             14141 non-null  float64\n",
      " 37  rougher.input.feed_size                             14005 non-null  float64\n",
      " 38  rougher.input.feed_sol                              14071 non-null  float64\n",
      " 39  rougher.input.feed_au                               14149 non-null  float64\n",
      " 40  rougher.input.floatbank10_sulfate                   14120 non-null  float64\n",
      " 41  rougher.input.floatbank10_xanthate                  14141 non-null  float64\n",
      " 42  rougher.input.floatbank11_sulfate                   14113 non-null  float64\n",
      " 43  rougher.input.floatbank11_xanthate                  13721 non-null  float64\n",
      " 44  rougher.output.concentrate_ag                       14149 non-null  float64\n",
      " 45  rougher.output.concentrate_pb                       14149 non-null  float64\n",
      " 46  rougher.output.concentrate_sol                      14127 non-null  float64\n",
      " 47  rougher.output.concentrate_au                       14149 non-null  float64\n",
      " 48  rougher.output.recovery                             14149 non-null  float64\n",
      " 49  rougher.output.tail_ag                              14148 non-null  float64\n",
      " 50  rougher.output.tail_pb                              14149 non-null  float64\n",
      " 51  rougher.output.tail_sol                             14149 non-null  float64\n",
      " 52  rougher.output.tail_au                              14149 non-null  float64\n",
      " 53  rougher.state.floatbank10_a_air                     14148 non-null  float64\n",
      " 54  rougher.state.floatbank10_a_level                   14148 non-null  float64\n",
      " 55  rougher.state.floatbank10_b_air                     14148 non-null  float64\n",
      " 56  rougher.state.floatbank10_b_level                   14148 non-null  float64\n",
      " 57  rougher.state.floatbank10_c_air                     14148 non-null  float64\n",
      " 58  rougher.state.floatbank10_c_level                   14148 non-null  float64\n",
      " 59  rougher.state.floatbank10_d_air                     14149 non-null  float64\n",
      " 60  rougher.state.floatbank10_d_level                   14149 non-null  float64\n",
      " 61  rougher.state.floatbank10_e_air                     13713 non-null  float64\n",
      " 62  rougher.state.floatbank10_e_level                   14149 non-null  float64\n",
      " 63  rougher.state.floatbank10_f_air                     14149 non-null  float64\n",
      " 64  rougher.state.floatbank10_f_level                   14149 non-null  float64\n",
      " 65  secondary_cleaner.output.tail_ag                    14147 non-null  float64\n",
      " 66  secondary_cleaner.output.tail_pb                    14139 non-null  float64\n",
      " 67  secondary_cleaner.output.tail_sol                   12544 non-null  float64\n",
      " 68  secondary_cleaner.output.tail_au                    14149 non-null  float64\n",
      " 69  secondary_cleaner.state.floatbank2_a_air            13932 non-null  float64\n",
      " 70  secondary_cleaner.state.floatbank2_a_level          14148 non-null  float64\n",
      " 71  secondary_cleaner.state.floatbank2_b_air            14128 non-null  float64\n",
      " 72  secondary_cleaner.state.floatbank2_b_level          14148 non-null  float64\n",
      " 73  secondary_cleaner.state.floatbank3_a_air            14145 non-null  float64\n",
      " 74  secondary_cleaner.state.floatbank3_a_level          14148 non-null  float64\n",
      " 75  secondary_cleaner.state.floatbank3_b_air            14148 non-null  float64\n",
      " 76  secondary_cleaner.state.floatbank3_b_level          14148 non-null  float64\n",
      " 77  secondary_cleaner.state.floatbank4_a_air            14143 non-null  float64\n",
      " 78  secondary_cleaner.state.floatbank4_a_level          14148 non-null  float64\n",
      " 79  secondary_cleaner.state.floatbank4_b_air            14148 non-null  float64\n",
      " 80  secondary_cleaner.state.floatbank4_b_level          14148 non-null  float64\n",
      " 81  secondary_cleaner.state.floatbank5_a_air            14148 non-null  float64\n",
      " 82  secondary_cleaner.state.floatbank5_a_level          14148 non-null  float64\n",
      " 83  secondary_cleaner.state.floatbank5_b_air            14148 non-null  float64\n",
      " 84  secondary_cleaner.state.floatbank5_b_level          14148 non-null  float64\n",
      " 85  secondary_cleaner.state.floatbank6_a_air            14147 non-null  float64\n",
      " 86  secondary_cleaner.state.floatbank6_a_level          14148 non-null  float64\n",
      "dtypes: float64(86), object(1)\n",
      "memory usage: 9.4+ MB\n"
     ]
    }
   ],
   "source": [
    "data_train.info()"
   ]
  },
  {
   "cell_type": "code",
   "execution_count": 9,
   "metadata": {},
   "outputs": [
    {
     "data": {
      "text/html": [
       "<div>\n",
       "<style scoped>\n",
       "    .dataframe tbody tr th:only-of-type {\n",
       "        vertical-align: middle;\n",
       "    }\n",
       "\n",
       "    .dataframe tbody tr th {\n",
       "        vertical-align: top;\n",
       "    }\n",
       "\n",
       "    .dataframe thead th {\n",
       "        text-align: right;\n",
       "    }\n",
       "</style>\n",
       "<table border=\"1\" class=\"dataframe\">\n",
       "  <thead>\n",
       "    <tr style=\"text-align: right;\">\n",
       "      <th></th>\n",
       "      <th>date</th>\n",
       "      <th>final.output.concentrate_ag</th>\n",
       "      <th>final.output.concentrate_pb</th>\n",
       "      <th>final.output.concentrate_sol</th>\n",
       "      <th>final.output.concentrate_au</th>\n",
       "      <th>final.output.recovery</th>\n",
       "      <th>final.output.tail_ag</th>\n",
       "      <th>final.output.tail_pb</th>\n",
       "      <th>final.output.tail_sol</th>\n",
       "      <th>final.output.tail_au</th>\n",
       "      <th>...</th>\n",
       "      <th>secondary_cleaner.state.floatbank4_a_air</th>\n",
       "      <th>secondary_cleaner.state.floatbank4_a_level</th>\n",
       "      <th>secondary_cleaner.state.floatbank4_b_air</th>\n",
       "      <th>secondary_cleaner.state.floatbank4_b_level</th>\n",
       "      <th>secondary_cleaner.state.floatbank5_a_air</th>\n",
       "      <th>secondary_cleaner.state.floatbank5_a_level</th>\n",
       "      <th>secondary_cleaner.state.floatbank5_b_air</th>\n",
       "      <th>secondary_cleaner.state.floatbank5_b_level</th>\n",
       "      <th>secondary_cleaner.state.floatbank6_a_air</th>\n",
       "      <th>secondary_cleaner.state.floatbank6_a_level</th>\n",
       "    </tr>\n",
       "  </thead>\n",
       "  <tbody>\n",
       "    <tr>\n",
       "      <th>0</th>\n",
       "      <td>2016-01-15 00:00:00</td>\n",
       "      <td>6.055403</td>\n",
       "      <td>9.889648</td>\n",
       "      <td>5.507324</td>\n",
       "      <td>42.192020</td>\n",
       "      <td>70.541216</td>\n",
       "      <td>10.411962</td>\n",
       "      <td>0.895447</td>\n",
       "      <td>16.904297</td>\n",
       "      <td>2.143149</td>\n",
       "      <td>...</td>\n",
       "      <td>14.016835</td>\n",
       "      <td>-502.488007</td>\n",
       "      <td>12.099931</td>\n",
       "      <td>-504.715942</td>\n",
       "      <td>9.925633</td>\n",
       "      <td>-498.310211</td>\n",
       "      <td>8.079666</td>\n",
       "      <td>-500.470978</td>\n",
       "      <td>14.151341</td>\n",
       "      <td>-605.841980</td>\n",
       "    </tr>\n",
       "    <tr>\n",
       "      <th>1</th>\n",
       "      <td>2016-01-15 01:00:00</td>\n",
       "      <td>6.029369</td>\n",
       "      <td>9.968944</td>\n",
       "      <td>5.257781</td>\n",
       "      <td>42.701629</td>\n",
       "      <td>69.266198</td>\n",
       "      <td>10.462676</td>\n",
       "      <td>0.927452</td>\n",
       "      <td>16.634514</td>\n",
       "      <td>2.224930</td>\n",
       "      <td>...</td>\n",
       "      <td>13.992281</td>\n",
       "      <td>-505.503262</td>\n",
       "      <td>11.950531</td>\n",
       "      <td>-501.331529</td>\n",
       "      <td>10.039245</td>\n",
       "      <td>-500.169983</td>\n",
       "      <td>7.984757</td>\n",
       "      <td>-500.582168</td>\n",
       "      <td>13.998353</td>\n",
       "      <td>-599.787184</td>\n",
       "    </tr>\n",
       "    <tr>\n",
       "      <th>2</th>\n",
       "      <td>2016-01-15 02:00:00</td>\n",
       "      <td>6.055926</td>\n",
       "      <td>10.213995</td>\n",
       "      <td>5.383759</td>\n",
       "      <td>42.657501</td>\n",
       "      <td>68.116445</td>\n",
       "      <td>10.507046</td>\n",
       "      <td>0.953716</td>\n",
       "      <td>16.208849</td>\n",
       "      <td>2.257889</td>\n",
       "      <td>...</td>\n",
       "      <td>14.015015</td>\n",
       "      <td>-502.520901</td>\n",
       "      <td>11.912783</td>\n",
       "      <td>-501.133383</td>\n",
       "      <td>10.070913</td>\n",
       "      <td>-500.129135</td>\n",
       "      <td>8.013877</td>\n",
       "      <td>-500.517572</td>\n",
       "      <td>14.028663</td>\n",
       "      <td>-601.427363</td>\n",
       "    </tr>\n",
       "    <tr>\n",
       "      <th>3</th>\n",
       "      <td>2016-01-15 03:00:00</td>\n",
       "      <td>6.047977</td>\n",
       "      <td>9.977019</td>\n",
       "      <td>4.858634</td>\n",
       "      <td>42.689819</td>\n",
       "      <td>68.347543</td>\n",
       "      <td>10.422762</td>\n",
       "      <td>0.883763</td>\n",
       "      <td>16.532835</td>\n",
       "      <td>2.146849</td>\n",
       "      <td>...</td>\n",
       "      <td>14.036510</td>\n",
       "      <td>-500.857308</td>\n",
       "      <td>11.999550</td>\n",
       "      <td>-501.193686</td>\n",
       "      <td>9.970366</td>\n",
       "      <td>-499.201640</td>\n",
       "      <td>7.977324</td>\n",
       "      <td>-500.255908</td>\n",
       "      <td>14.005551</td>\n",
       "      <td>-599.996129</td>\n",
       "    </tr>\n",
       "    <tr>\n",
       "      <th>4</th>\n",
       "      <td>2016-01-15 04:00:00</td>\n",
       "      <td>6.148599</td>\n",
       "      <td>10.142511</td>\n",
       "      <td>4.939416</td>\n",
       "      <td>42.774141</td>\n",
       "      <td>66.927016</td>\n",
       "      <td>10.360302</td>\n",
       "      <td>0.792826</td>\n",
       "      <td>16.525686</td>\n",
       "      <td>2.055292</td>\n",
       "      <td>...</td>\n",
       "      <td>14.027298</td>\n",
       "      <td>-499.838632</td>\n",
       "      <td>11.953070</td>\n",
       "      <td>-501.053894</td>\n",
       "      <td>9.925709</td>\n",
       "      <td>-501.686727</td>\n",
       "      <td>7.894242</td>\n",
       "      <td>-500.356035</td>\n",
       "      <td>13.996647</td>\n",
       "      <td>-601.496691</td>\n",
       "    </tr>\n",
       "  </tbody>\n",
       "</table>\n",
       "<p>5 rows × 87 columns</p>\n",
       "</div>"
      ],
      "text/plain": [
       "                  date  final.output.concentrate_ag  \\\n",
       "0  2016-01-15 00:00:00                     6.055403   \n",
       "1  2016-01-15 01:00:00                     6.029369   \n",
       "2  2016-01-15 02:00:00                     6.055926   \n",
       "3  2016-01-15 03:00:00                     6.047977   \n",
       "4  2016-01-15 04:00:00                     6.148599   \n",
       "\n",
       "   final.output.concentrate_pb  final.output.concentrate_sol  \\\n",
       "0                     9.889648                      5.507324   \n",
       "1                     9.968944                      5.257781   \n",
       "2                    10.213995                      5.383759   \n",
       "3                     9.977019                      4.858634   \n",
       "4                    10.142511                      4.939416   \n",
       "\n",
       "   final.output.concentrate_au  final.output.recovery  final.output.tail_ag  \\\n",
       "0                    42.192020              70.541216             10.411962   \n",
       "1                    42.701629              69.266198             10.462676   \n",
       "2                    42.657501              68.116445             10.507046   \n",
       "3                    42.689819              68.347543             10.422762   \n",
       "4                    42.774141              66.927016             10.360302   \n",
       "\n",
       "   final.output.tail_pb  final.output.tail_sol  final.output.tail_au  ...  \\\n",
       "0              0.895447              16.904297              2.143149  ...   \n",
       "1              0.927452              16.634514              2.224930  ...   \n",
       "2              0.953716              16.208849              2.257889  ...   \n",
       "3              0.883763              16.532835              2.146849  ...   \n",
       "4              0.792826              16.525686              2.055292  ...   \n",
       "\n",
       "   secondary_cleaner.state.floatbank4_a_air  \\\n",
       "0                                 14.016835   \n",
       "1                                 13.992281   \n",
       "2                                 14.015015   \n",
       "3                                 14.036510   \n",
       "4                                 14.027298   \n",
       "\n",
       "   secondary_cleaner.state.floatbank4_a_level  \\\n",
       "0                                 -502.488007   \n",
       "1                                 -505.503262   \n",
       "2                                 -502.520901   \n",
       "3                                 -500.857308   \n",
       "4                                 -499.838632   \n",
       "\n",
       "   secondary_cleaner.state.floatbank4_b_air  \\\n",
       "0                                 12.099931   \n",
       "1                                 11.950531   \n",
       "2                                 11.912783   \n",
       "3                                 11.999550   \n",
       "4                                 11.953070   \n",
       "\n",
       "   secondary_cleaner.state.floatbank4_b_level  \\\n",
       "0                                 -504.715942   \n",
       "1                                 -501.331529   \n",
       "2                                 -501.133383   \n",
       "3                                 -501.193686   \n",
       "4                                 -501.053894   \n",
       "\n",
       "   secondary_cleaner.state.floatbank5_a_air  \\\n",
       "0                                  9.925633   \n",
       "1                                 10.039245   \n",
       "2                                 10.070913   \n",
       "3                                  9.970366   \n",
       "4                                  9.925709   \n",
       "\n",
       "   secondary_cleaner.state.floatbank5_a_level  \\\n",
       "0                                 -498.310211   \n",
       "1                                 -500.169983   \n",
       "2                                 -500.129135   \n",
       "3                                 -499.201640   \n",
       "4                                 -501.686727   \n",
       "\n",
       "   secondary_cleaner.state.floatbank5_b_air  \\\n",
       "0                                  8.079666   \n",
       "1                                  7.984757   \n",
       "2                                  8.013877   \n",
       "3                                  7.977324   \n",
       "4                                  7.894242   \n",
       "\n",
       "   secondary_cleaner.state.floatbank5_b_level  \\\n",
       "0                                 -500.470978   \n",
       "1                                 -500.582168   \n",
       "2                                 -500.517572   \n",
       "3                                 -500.255908   \n",
       "4                                 -500.356035   \n",
       "\n",
       "   secondary_cleaner.state.floatbank6_a_air  \\\n",
       "0                                 14.151341   \n",
       "1                                 13.998353   \n",
       "2                                 14.028663   \n",
       "3                                 14.005551   \n",
       "4                                 13.996647   \n",
       "\n",
       "   secondary_cleaner.state.floatbank6_a_level  \n",
       "0                                 -605.841980  \n",
       "1                                 -599.787184  \n",
       "2                                 -601.427363  \n",
       "3                                 -599.996129  \n",
       "4                                 -601.496691  \n",
       "\n",
       "[5 rows x 87 columns]"
      ]
     },
     "execution_count": 9,
     "metadata": {},
     "output_type": "execute_result"
    }
   ],
   "source": [
    "data_train.head()"
   ]
  },
  {
   "cell_type": "code",
   "execution_count": 10,
   "metadata": {},
   "outputs": [
    {
     "data": {
      "text/plain": [
       "date                                            0\n",
       "final.output.concentrate_ag                     1\n",
       "final.output.concentrate_pb                     1\n",
       "final.output.concentrate_sol                  211\n",
       "final.output.concentrate_au                     0\n",
       "                                             ... \n",
       "secondary_cleaner.state.floatbank5_a_level      1\n",
       "secondary_cleaner.state.floatbank5_b_air        1\n",
       "secondary_cleaner.state.floatbank5_b_level      1\n",
       "secondary_cleaner.state.floatbank6_a_air        2\n",
       "secondary_cleaner.state.floatbank6_a_level      1\n",
       "Length: 87, dtype: int64"
      ]
     },
     "execution_count": 10,
     "metadata": {},
     "output_type": "execute_result"
    }
   ],
   "source": [
    "data_train.isna().sum()"
   ]
  },
  {
   "cell_type": "markdown",
   "metadata": {},
   "source": [
    "Рассмотрим датафрейм data_test"
   ]
  },
  {
   "cell_type": "code",
   "execution_count": 11,
   "metadata": {},
   "outputs": [
    {
     "data": {
      "text/plain": [
       "(5290, 53)"
      ]
     },
     "execution_count": 11,
     "metadata": {},
     "output_type": "execute_result"
    }
   ],
   "source": [
    "data_test.shape"
   ]
  },
  {
   "cell_type": "code",
   "execution_count": 12,
   "metadata": {},
   "outputs": [
    {
     "name": "stdout",
     "output_type": "stream",
     "text": [
      "<class 'pandas.core.frame.DataFrame'>\n",
      "RangeIndex: 5290 entries, 0 to 5289\n",
      "Data columns (total 53 columns):\n",
      " #   Column                                      Non-Null Count  Dtype  \n",
      "---  ------                                      --------------  -----  \n",
      " 0   date                                        5290 non-null   object \n",
      " 1   primary_cleaner.input.sulfate               5286 non-null   float64\n",
      " 2   primary_cleaner.input.depressant            5285 non-null   float64\n",
      " 3   primary_cleaner.input.feed_size             5290 non-null   float64\n",
      " 4   primary_cleaner.input.xanthate              5286 non-null   float64\n",
      " 5   primary_cleaner.state.floatbank8_a_air      5290 non-null   float64\n",
      " 6   primary_cleaner.state.floatbank8_a_level    5290 non-null   float64\n",
      " 7   primary_cleaner.state.floatbank8_b_air      5290 non-null   float64\n",
      " 8   primary_cleaner.state.floatbank8_b_level    5290 non-null   float64\n",
      " 9   primary_cleaner.state.floatbank8_c_air      5290 non-null   float64\n",
      " 10  primary_cleaner.state.floatbank8_c_level    5290 non-null   float64\n",
      " 11  primary_cleaner.state.floatbank8_d_air      5290 non-null   float64\n",
      " 12  primary_cleaner.state.floatbank8_d_level    5290 non-null   float64\n",
      " 13  rougher.input.feed_ag                       5290 non-null   float64\n",
      " 14  rougher.input.feed_pb                       5290 non-null   float64\n",
      " 15  rougher.input.feed_rate                     5287 non-null   float64\n",
      " 16  rougher.input.feed_size                     5289 non-null   float64\n",
      " 17  rougher.input.feed_sol                      5269 non-null   float64\n",
      " 18  rougher.input.feed_au                       5290 non-null   float64\n",
      " 19  rougher.input.floatbank10_sulfate           5285 non-null   float64\n",
      " 20  rougher.input.floatbank10_xanthate          5290 non-null   float64\n",
      " 21  rougher.input.floatbank11_sulfate           5282 non-null   float64\n",
      " 22  rougher.input.floatbank11_xanthate          5265 non-null   float64\n",
      " 23  rougher.state.floatbank10_a_air             5290 non-null   float64\n",
      " 24  rougher.state.floatbank10_a_level           5290 non-null   float64\n",
      " 25  rougher.state.floatbank10_b_air             5290 non-null   float64\n",
      " 26  rougher.state.floatbank10_b_level           5290 non-null   float64\n",
      " 27  rougher.state.floatbank10_c_air             5290 non-null   float64\n",
      " 28  rougher.state.floatbank10_c_level           5290 non-null   float64\n",
      " 29  rougher.state.floatbank10_d_air             5290 non-null   float64\n",
      " 30  rougher.state.floatbank10_d_level           5290 non-null   float64\n",
      " 31  rougher.state.floatbank10_e_air             5290 non-null   float64\n",
      " 32  rougher.state.floatbank10_e_level           5290 non-null   float64\n",
      " 33  rougher.state.floatbank10_f_air             5290 non-null   float64\n",
      " 34  rougher.state.floatbank10_f_level           5290 non-null   float64\n",
      " 35  secondary_cleaner.state.floatbank2_a_air    5287 non-null   float64\n",
      " 36  secondary_cleaner.state.floatbank2_a_level  5290 non-null   float64\n",
      " 37  secondary_cleaner.state.floatbank2_b_air    5288 non-null   float64\n",
      " 38  secondary_cleaner.state.floatbank2_b_level  5290 non-null   float64\n",
      " 39  secondary_cleaner.state.floatbank3_a_air    5281 non-null   float64\n",
      " 40  secondary_cleaner.state.floatbank3_a_level  5290 non-null   float64\n",
      " 41  secondary_cleaner.state.floatbank3_b_air    5290 non-null   float64\n",
      " 42  secondary_cleaner.state.floatbank3_b_level  5290 non-null   float64\n",
      " 43  secondary_cleaner.state.floatbank4_a_air    5290 non-null   float64\n",
      " 44  secondary_cleaner.state.floatbank4_a_level  5290 non-null   float64\n",
      " 45  secondary_cleaner.state.floatbank4_b_air    5290 non-null   float64\n",
      " 46  secondary_cleaner.state.floatbank4_b_level  5290 non-null   float64\n",
      " 47  secondary_cleaner.state.floatbank5_a_air    5290 non-null   float64\n",
      " 48  secondary_cleaner.state.floatbank5_a_level  5290 non-null   float64\n",
      " 49  secondary_cleaner.state.floatbank5_b_air    5290 non-null   float64\n",
      " 50  secondary_cleaner.state.floatbank5_b_level  5290 non-null   float64\n",
      " 51  secondary_cleaner.state.floatbank6_a_air    5290 non-null   float64\n",
      " 52  secondary_cleaner.state.floatbank6_a_level  5290 non-null   float64\n",
      "dtypes: float64(52), object(1)\n",
      "memory usage: 2.1+ MB\n"
     ]
    }
   ],
   "source": [
    "data_test.info()"
   ]
  },
  {
   "cell_type": "code",
   "execution_count": 13,
   "metadata": {},
   "outputs": [
    {
     "data": {
      "text/html": [
       "<div>\n",
       "<style scoped>\n",
       "    .dataframe tbody tr th:only-of-type {\n",
       "        vertical-align: middle;\n",
       "    }\n",
       "\n",
       "    .dataframe tbody tr th {\n",
       "        vertical-align: top;\n",
       "    }\n",
       "\n",
       "    .dataframe thead th {\n",
       "        text-align: right;\n",
       "    }\n",
       "</style>\n",
       "<table border=\"1\" class=\"dataframe\">\n",
       "  <thead>\n",
       "    <tr style=\"text-align: right;\">\n",
       "      <th></th>\n",
       "      <th>date</th>\n",
       "      <th>primary_cleaner.input.sulfate</th>\n",
       "      <th>primary_cleaner.input.depressant</th>\n",
       "      <th>primary_cleaner.input.feed_size</th>\n",
       "      <th>primary_cleaner.input.xanthate</th>\n",
       "      <th>primary_cleaner.state.floatbank8_a_air</th>\n",
       "      <th>primary_cleaner.state.floatbank8_a_level</th>\n",
       "      <th>primary_cleaner.state.floatbank8_b_air</th>\n",
       "      <th>primary_cleaner.state.floatbank8_b_level</th>\n",
       "      <th>primary_cleaner.state.floatbank8_c_air</th>\n",
       "      <th>...</th>\n",
       "      <th>secondary_cleaner.state.floatbank4_a_air</th>\n",
       "      <th>secondary_cleaner.state.floatbank4_a_level</th>\n",
       "      <th>secondary_cleaner.state.floatbank4_b_air</th>\n",
       "      <th>secondary_cleaner.state.floatbank4_b_level</th>\n",
       "      <th>secondary_cleaner.state.floatbank5_a_air</th>\n",
       "      <th>secondary_cleaner.state.floatbank5_a_level</th>\n",
       "      <th>secondary_cleaner.state.floatbank5_b_air</th>\n",
       "      <th>secondary_cleaner.state.floatbank5_b_level</th>\n",
       "      <th>secondary_cleaner.state.floatbank6_a_air</th>\n",
       "      <th>secondary_cleaner.state.floatbank6_a_level</th>\n",
       "    </tr>\n",
       "  </thead>\n",
       "  <tbody>\n",
       "    <tr>\n",
       "      <th>0</th>\n",
       "      <td>2016-09-01 00:59:59</td>\n",
       "      <td>210.800909</td>\n",
       "      <td>14.993118</td>\n",
       "      <td>8.080000</td>\n",
       "      <td>1.005021</td>\n",
       "      <td>1398.981301</td>\n",
       "      <td>-500.225577</td>\n",
       "      <td>1399.144926</td>\n",
       "      <td>-499.919735</td>\n",
       "      <td>1400.102998</td>\n",
       "      <td>...</td>\n",
       "      <td>12.023554</td>\n",
       "      <td>-497.795834</td>\n",
       "      <td>8.016656</td>\n",
       "      <td>-501.289139</td>\n",
       "      <td>7.946562</td>\n",
       "      <td>-432.317850</td>\n",
       "      <td>4.872511</td>\n",
       "      <td>-500.037437</td>\n",
       "      <td>26.705889</td>\n",
       "      <td>-499.709414</td>\n",
       "    </tr>\n",
       "    <tr>\n",
       "      <th>1</th>\n",
       "      <td>2016-09-01 01:59:59</td>\n",
       "      <td>215.392455</td>\n",
       "      <td>14.987471</td>\n",
       "      <td>8.080000</td>\n",
       "      <td>0.990469</td>\n",
       "      <td>1398.777912</td>\n",
       "      <td>-500.057435</td>\n",
       "      <td>1398.055362</td>\n",
       "      <td>-499.778182</td>\n",
       "      <td>1396.151033</td>\n",
       "      <td>...</td>\n",
       "      <td>12.058140</td>\n",
       "      <td>-498.695773</td>\n",
       "      <td>8.130979</td>\n",
       "      <td>-499.634209</td>\n",
       "      <td>7.958270</td>\n",
       "      <td>-525.839648</td>\n",
       "      <td>4.878850</td>\n",
       "      <td>-500.162375</td>\n",
       "      <td>25.019940</td>\n",
       "      <td>-499.819438</td>\n",
       "    </tr>\n",
       "    <tr>\n",
       "      <th>2</th>\n",
       "      <td>2016-09-01 02:59:59</td>\n",
       "      <td>215.259946</td>\n",
       "      <td>12.884934</td>\n",
       "      <td>7.786667</td>\n",
       "      <td>0.996043</td>\n",
       "      <td>1398.493666</td>\n",
       "      <td>-500.868360</td>\n",
       "      <td>1398.860436</td>\n",
       "      <td>-499.764529</td>\n",
       "      <td>1398.075709</td>\n",
       "      <td>...</td>\n",
       "      <td>11.962366</td>\n",
       "      <td>-498.767484</td>\n",
       "      <td>8.096893</td>\n",
       "      <td>-500.827423</td>\n",
       "      <td>8.071056</td>\n",
       "      <td>-500.801673</td>\n",
       "      <td>4.905125</td>\n",
       "      <td>-499.828510</td>\n",
       "      <td>24.994862</td>\n",
       "      <td>-500.622559</td>\n",
       "    </tr>\n",
       "    <tr>\n",
       "      <th>3</th>\n",
       "      <td>2016-09-01 03:59:59</td>\n",
       "      <td>215.336236</td>\n",
       "      <td>12.006805</td>\n",
       "      <td>7.640000</td>\n",
       "      <td>0.863514</td>\n",
       "      <td>1399.618111</td>\n",
       "      <td>-498.863574</td>\n",
       "      <td>1397.440120</td>\n",
       "      <td>-499.211024</td>\n",
       "      <td>1400.129303</td>\n",
       "      <td>...</td>\n",
       "      <td>12.033091</td>\n",
       "      <td>-498.350935</td>\n",
       "      <td>8.074946</td>\n",
       "      <td>-499.474407</td>\n",
       "      <td>7.897085</td>\n",
       "      <td>-500.868509</td>\n",
       "      <td>4.931400</td>\n",
       "      <td>-499.963623</td>\n",
       "      <td>24.948919</td>\n",
       "      <td>-498.709987</td>\n",
       "    </tr>\n",
       "    <tr>\n",
       "      <th>4</th>\n",
       "      <td>2016-09-01 04:59:59</td>\n",
       "      <td>199.099327</td>\n",
       "      <td>10.682530</td>\n",
       "      <td>7.530000</td>\n",
       "      <td>0.805575</td>\n",
       "      <td>1401.268123</td>\n",
       "      <td>-500.808305</td>\n",
       "      <td>1398.128818</td>\n",
       "      <td>-499.504543</td>\n",
       "      <td>1402.172226</td>\n",
       "      <td>...</td>\n",
       "      <td>12.025367</td>\n",
       "      <td>-500.786497</td>\n",
       "      <td>8.054678</td>\n",
       "      <td>-500.397500</td>\n",
       "      <td>8.107890</td>\n",
       "      <td>-509.526725</td>\n",
       "      <td>4.957674</td>\n",
       "      <td>-500.360026</td>\n",
       "      <td>25.003331</td>\n",
       "      <td>-500.856333</td>\n",
       "    </tr>\n",
       "  </tbody>\n",
       "</table>\n",
       "<p>5 rows × 53 columns</p>\n",
       "</div>"
      ],
      "text/plain": [
       "                  date  primary_cleaner.input.sulfate  \\\n",
       "0  2016-09-01 00:59:59                     210.800909   \n",
       "1  2016-09-01 01:59:59                     215.392455   \n",
       "2  2016-09-01 02:59:59                     215.259946   \n",
       "3  2016-09-01 03:59:59                     215.336236   \n",
       "4  2016-09-01 04:59:59                     199.099327   \n",
       "\n",
       "   primary_cleaner.input.depressant  primary_cleaner.input.feed_size  \\\n",
       "0                         14.993118                         8.080000   \n",
       "1                         14.987471                         8.080000   \n",
       "2                         12.884934                         7.786667   \n",
       "3                         12.006805                         7.640000   \n",
       "4                         10.682530                         7.530000   \n",
       "\n",
       "   primary_cleaner.input.xanthate  primary_cleaner.state.floatbank8_a_air  \\\n",
       "0                        1.005021                             1398.981301   \n",
       "1                        0.990469                             1398.777912   \n",
       "2                        0.996043                             1398.493666   \n",
       "3                        0.863514                             1399.618111   \n",
       "4                        0.805575                             1401.268123   \n",
       "\n",
       "   primary_cleaner.state.floatbank8_a_level  \\\n",
       "0                               -500.225577   \n",
       "1                               -500.057435   \n",
       "2                               -500.868360   \n",
       "3                               -498.863574   \n",
       "4                               -500.808305   \n",
       "\n",
       "   primary_cleaner.state.floatbank8_b_air  \\\n",
       "0                             1399.144926   \n",
       "1                             1398.055362   \n",
       "2                             1398.860436   \n",
       "3                             1397.440120   \n",
       "4                             1398.128818   \n",
       "\n",
       "   primary_cleaner.state.floatbank8_b_level  \\\n",
       "0                               -499.919735   \n",
       "1                               -499.778182   \n",
       "2                               -499.764529   \n",
       "3                               -499.211024   \n",
       "4                               -499.504543   \n",
       "\n",
       "   primary_cleaner.state.floatbank8_c_air  ...  \\\n",
       "0                             1400.102998  ...   \n",
       "1                             1396.151033  ...   \n",
       "2                             1398.075709  ...   \n",
       "3                             1400.129303  ...   \n",
       "4                             1402.172226  ...   \n",
       "\n",
       "   secondary_cleaner.state.floatbank4_a_air  \\\n",
       "0                                 12.023554   \n",
       "1                                 12.058140   \n",
       "2                                 11.962366   \n",
       "3                                 12.033091   \n",
       "4                                 12.025367   \n",
       "\n",
       "   secondary_cleaner.state.floatbank4_a_level  \\\n",
       "0                                 -497.795834   \n",
       "1                                 -498.695773   \n",
       "2                                 -498.767484   \n",
       "3                                 -498.350935   \n",
       "4                                 -500.786497   \n",
       "\n",
       "   secondary_cleaner.state.floatbank4_b_air  \\\n",
       "0                                  8.016656   \n",
       "1                                  8.130979   \n",
       "2                                  8.096893   \n",
       "3                                  8.074946   \n",
       "4                                  8.054678   \n",
       "\n",
       "   secondary_cleaner.state.floatbank4_b_level  \\\n",
       "0                                 -501.289139   \n",
       "1                                 -499.634209   \n",
       "2                                 -500.827423   \n",
       "3                                 -499.474407   \n",
       "4                                 -500.397500   \n",
       "\n",
       "   secondary_cleaner.state.floatbank5_a_air  \\\n",
       "0                                  7.946562   \n",
       "1                                  7.958270   \n",
       "2                                  8.071056   \n",
       "3                                  7.897085   \n",
       "4                                  8.107890   \n",
       "\n",
       "   secondary_cleaner.state.floatbank5_a_level  \\\n",
       "0                                 -432.317850   \n",
       "1                                 -525.839648   \n",
       "2                                 -500.801673   \n",
       "3                                 -500.868509   \n",
       "4                                 -509.526725   \n",
       "\n",
       "   secondary_cleaner.state.floatbank5_b_air  \\\n",
       "0                                  4.872511   \n",
       "1                                  4.878850   \n",
       "2                                  4.905125   \n",
       "3                                  4.931400   \n",
       "4                                  4.957674   \n",
       "\n",
       "   secondary_cleaner.state.floatbank5_b_level  \\\n",
       "0                                 -500.037437   \n",
       "1                                 -500.162375   \n",
       "2                                 -499.828510   \n",
       "3                                 -499.963623   \n",
       "4                                 -500.360026   \n",
       "\n",
       "   secondary_cleaner.state.floatbank6_a_air  \\\n",
       "0                                 26.705889   \n",
       "1                                 25.019940   \n",
       "2                                 24.994862   \n",
       "3                                 24.948919   \n",
       "4                                 25.003331   \n",
       "\n",
       "   secondary_cleaner.state.floatbank6_a_level  \n",
       "0                                 -499.709414  \n",
       "1                                 -499.819438  \n",
       "2                                 -500.622559  \n",
       "3                                 -498.709987  \n",
       "4                                 -500.856333  \n",
       "\n",
       "[5 rows x 53 columns]"
      ]
     },
     "execution_count": 13,
     "metadata": {},
     "output_type": "execute_result"
    }
   ],
   "source": [
    "data_test.head()"
   ]
  },
  {
   "cell_type": "code",
   "execution_count": 14,
   "metadata": {},
   "outputs": [
    {
     "data": {
      "text/plain": [
       "date                                           0\n",
       "primary_cleaner.input.sulfate                  4\n",
       "primary_cleaner.input.depressant               5\n",
       "primary_cleaner.input.feed_size                0\n",
       "primary_cleaner.input.xanthate                 4\n",
       "primary_cleaner.state.floatbank8_a_air         0\n",
       "primary_cleaner.state.floatbank8_a_level       0\n",
       "primary_cleaner.state.floatbank8_b_air         0\n",
       "primary_cleaner.state.floatbank8_b_level       0\n",
       "primary_cleaner.state.floatbank8_c_air         0\n",
       "primary_cleaner.state.floatbank8_c_level       0\n",
       "primary_cleaner.state.floatbank8_d_air         0\n",
       "primary_cleaner.state.floatbank8_d_level       0\n",
       "rougher.input.feed_ag                          0\n",
       "rougher.input.feed_pb                          0\n",
       "rougher.input.feed_rate                        3\n",
       "rougher.input.feed_size                        1\n",
       "rougher.input.feed_sol                        21\n",
       "rougher.input.feed_au                          0\n",
       "rougher.input.floatbank10_sulfate              5\n",
       "rougher.input.floatbank10_xanthate             0\n",
       "rougher.input.floatbank11_sulfate              8\n",
       "rougher.input.floatbank11_xanthate            25\n",
       "rougher.state.floatbank10_a_air                0\n",
       "rougher.state.floatbank10_a_level              0\n",
       "rougher.state.floatbank10_b_air                0\n",
       "rougher.state.floatbank10_b_level              0\n",
       "rougher.state.floatbank10_c_air                0\n",
       "rougher.state.floatbank10_c_level              0\n",
       "rougher.state.floatbank10_d_air                0\n",
       "rougher.state.floatbank10_d_level              0\n",
       "rougher.state.floatbank10_e_air                0\n",
       "rougher.state.floatbank10_e_level              0\n",
       "rougher.state.floatbank10_f_air                0\n",
       "rougher.state.floatbank10_f_level              0\n",
       "secondary_cleaner.state.floatbank2_a_air       3\n",
       "secondary_cleaner.state.floatbank2_a_level     0\n",
       "secondary_cleaner.state.floatbank2_b_air       2\n",
       "secondary_cleaner.state.floatbank2_b_level     0\n",
       "secondary_cleaner.state.floatbank3_a_air       9\n",
       "secondary_cleaner.state.floatbank3_a_level     0\n",
       "secondary_cleaner.state.floatbank3_b_air       0\n",
       "secondary_cleaner.state.floatbank3_b_level     0\n",
       "secondary_cleaner.state.floatbank4_a_air       0\n",
       "secondary_cleaner.state.floatbank4_a_level     0\n",
       "secondary_cleaner.state.floatbank4_b_air       0\n",
       "secondary_cleaner.state.floatbank4_b_level     0\n",
       "secondary_cleaner.state.floatbank5_a_air       0\n",
       "secondary_cleaner.state.floatbank5_a_level     0\n",
       "secondary_cleaner.state.floatbank5_b_air       0\n",
       "secondary_cleaner.state.floatbank5_b_level     0\n",
       "secondary_cleaner.state.floatbank6_a_air       0\n",
       "secondary_cleaner.state.floatbank6_a_level     0\n",
       "dtype: int64"
      ]
     },
     "execution_count": 14,
     "metadata": {},
     "output_type": "execute_result"
    }
   ],
   "source": [
    "data_test.isna().sum()"
   ]
  },
  {
   "cell_type": "markdown",
   "metadata": {},
   "source": [
    "##### Вывод\n",
    "\n",
    "По итогам ознакомления с данными имеются: \n",
    "- датасет full - содержащий весь объем данных, \n",
    "- train и test - это разбитый full для обучающей и тестовой выборки. \n",
    "\n",
    "Все данные типа float, кроме колонки date - она типа object.\n",
    "\n",
    "Обучающая и полные выборки имеют одинаковое количесво признаков, в тестовой выборке некоторые признаки отсутвуют. \n",
    "\n",
    "Во всех выборках имеются пропуски. При этом видим, что данные содержат различное количество пропущенных значений, меняющееся от поля к полю.\n",
    "\n",
    "Набор данных содержит атрибуты, описывающие 4 этапа технологического процесса получения золота из руды:\n",
    "- rougher — флотация\n",
    "- primary_cleaner — первичная очистка\n",
    "- secondary_cleaner — вторичная очистка\n",
    "- final — финальные характеристики"
   ]
  },
  {
   "cell_type": "markdown",
   "metadata": {},
   "source": [
    "### 1.2. Проверим формулу вычисления эффективности обогащения"
   ]
  },
  {
   "cell_type": "markdown",
   "metadata": {},
   "source": [
    "Проверим, что эффективность обогащения рассчитана правильно. Вычислим её на обучающей выборке для признака rougher.output.recovery. Найдем MAE между нашими расчётами и значением признака\n",
    "\n",
    "Расчитаем эффективность обогащения золота по формуле"
   ]
  },
  {
   "cell_type": "code",
   "execution_count": 15,
   "metadata": {},
   "outputs": [],
   "source": [
    "# Создадим таблицу с данными по содержанию золота на этапах технологического процесса: \n",
    "data_train_for_calс = data_train.dropna()\n",
    "\n",
    "data_train_au = data_train_for_calс[['rougher.output.concentrate_au', \n",
    "                        'rougher.input.feed_au', \n",
    "                        'rougher.output.tail_au',\n",
    "                        'rougher.output.recovery']]\n",
    "\n",
    "# Создадим переменные содержания зоолота во фракциях\n",
    "с = data_train_au['rougher.output.concentrate_au'] # C — доля золота в концентрате после флотации/очистки;\n",
    "f = data_train_au['rougher.input.feed_au'] # F — доля золота в сырье/концентрате до флотации/очистки;\n",
    "t = data_train_au['rougher.output.tail_au'] # T — доля золота в отвальных хвостах после флотации/очистки.\n",
    "\n",
    "# Расчитаем эффективность обогащения золота по формуле и добавим значения в новый столбец\n",
    "data_train_au['recovery_calculation'] = (с * (f - t)) / (f * (с - t)) * 100"
   ]
  },
  {
   "cell_type": "markdown",
   "metadata": {},
   "source": [
    "Выведем результат на экран"
   ]
  },
  {
   "cell_type": "code",
   "execution_count": 16,
   "metadata": {},
   "outputs": [
    {
     "data": {
      "text/html": [
       "<div>\n",
       "<style scoped>\n",
       "    .dataframe tbody tr th:only-of-type {\n",
       "        vertical-align: middle;\n",
       "    }\n",
       "\n",
       "    .dataframe tbody tr th {\n",
       "        vertical-align: top;\n",
       "    }\n",
       "\n",
       "    .dataframe thead th {\n",
       "        text-align: right;\n",
       "    }\n",
       "</style>\n",
       "<table border=\"1\" class=\"dataframe\">\n",
       "  <thead>\n",
       "    <tr style=\"text-align: right;\">\n",
       "      <th></th>\n",
       "      <th>rougher.output.concentrate_au</th>\n",
       "      <th>rougher.input.feed_au</th>\n",
       "      <th>rougher.output.tail_au</th>\n",
       "      <th>rougher.output.recovery</th>\n",
       "      <th>recovery_calculation</th>\n",
       "    </tr>\n",
       "  </thead>\n",
       "  <tbody>\n",
       "    <tr>\n",
       "      <th>0</th>\n",
       "      <td>19.793808</td>\n",
       "      <td>6.486150</td>\n",
       "      <td>1.170244</td>\n",
       "      <td>87.107763</td>\n",
       "      <td>87.107763</td>\n",
       "    </tr>\n",
       "    <tr>\n",
       "      <th>1</th>\n",
       "      <td>20.050975</td>\n",
       "      <td>6.478583</td>\n",
       "      <td>1.184827</td>\n",
       "      <td>86.843261</td>\n",
       "      <td>86.843261</td>\n",
       "    </tr>\n",
       "    <tr>\n",
       "      <th>2</th>\n",
       "      <td>19.737170</td>\n",
       "      <td>6.362222</td>\n",
       "      <td>1.162562</td>\n",
       "      <td>86.842308</td>\n",
       "      <td>86.842308</td>\n",
       "    </tr>\n",
       "    <tr>\n",
       "      <th>3</th>\n",
       "      <td>19.320810</td>\n",
       "      <td>6.118189</td>\n",
       "      <td>1.079755</td>\n",
       "      <td>87.226430</td>\n",
       "      <td>87.226430</td>\n",
       "    </tr>\n",
       "    <tr>\n",
       "      <th>4</th>\n",
       "      <td>19.216101</td>\n",
       "      <td>5.663707</td>\n",
       "      <td>1.012642</td>\n",
       "      <td>86.688794</td>\n",
       "      <td>86.688794</td>\n",
       "    </tr>\n",
       "  </tbody>\n",
       "</table>\n",
       "</div>"
      ],
      "text/plain": [
       "   rougher.output.concentrate_au  rougher.input.feed_au  \\\n",
       "0                      19.793808               6.486150   \n",
       "1                      20.050975               6.478583   \n",
       "2                      19.737170               6.362222   \n",
       "3                      19.320810               6.118189   \n",
       "4                      19.216101               5.663707   \n",
       "\n",
       "   rougher.output.tail_au  rougher.output.recovery  recovery_calculation  \n",
       "0                1.170244                87.107763             87.107763  \n",
       "1                1.184827                86.843261             86.843261  \n",
       "2                1.162562                86.842308             86.842308  \n",
       "3                1.079755                87.226430             87.226430  \n",
       "4                1.012642                86.688794             86.688794  "
      ]
     },
     "execution_count": 16,
     "metadata": {},
     "output_type": "execute_result"
    }
   ],
   "source": [
    "data_train_au.head(5)"
   ]
  },
  {
   "cell_type": "markdown",
   "metadata": {},
   "source": [
    "Эффективность обогащения посчитана успешно.\n",
    "\n",
    "Следующий этап - понять, насколько расчётное значение этого показателя будет отличаться от исходного. Для этого рассчитаем среднюю абсолютную ошибку - MAE.\n",
    "\n",
    "В отличие от простой суммы отклонений расчитанного значения от реального, где отрицательные значения были бы компенсированы положительными, MAE считает отклонения по модулю, следовательно, результаты не будут искажены."
   ]
  },
  {
   "cell_type": "code",
   "execution_count": 17,
   "metadata": {},
   "outputs": [
    {
     "name": "stdout",
     "output_type": "stream",
     "text": [
      "МАЕ между расчетными данными и значением признака: 9.82970122149377e-15\n"
     ]
    }
   ],
   "source": [
    "print('МАЕ между расчетными данными и значением признака:', \n",
    "      mean_absolute_error(data_train_au['recovery_calculation'], data_train_au['rougher.output.recovery']))"
   ]
  },
  {
   "cell_type": "markdown",
   "metadata": {},
   "source": [
    "##### Вывод\n",
    "\n",
    "MAE эффективности обогащения 9.82970122149377e-15 - это очень маленькое значение. \n",
    "\n",
    "Это говорит о том, что изначально рассчитанная эффективность обогащения получена верно."
   ]
  },
  {
   "cell_type": "markdown",
   "metadata": {},
   "source": [
    "### 1.3. Проанализируем признаки, недоступные в тестовой выборке"
   ]
  },
  {
   "cell_type": "markdown",
   "metadata": {},
   "source": [
    "Проанализируем признаки, недоступные в тестовой выборке. Что это за параметры? К какому типу относятся?"
   ]
  },
  {
   "cell_type": "code",
   "execution_count": 18,
   "metadata": {},
   "outputs": [
    {
     "name": "stdout",
     "output_type": "stream",
     "text": [
      "Количество наблюдений и признаков полных данных (19439, 87)\n",
      "\n",
      "Количество наблюдений и признаков в тренировочной выборке (14149, 87)\n",
      "\n",
      "Количество наблюдений и признаков тестовых данных (5290, 53)\n"
     ]
    }
   ],
   "source": [
    "print('Количество наблюдений и признаков полных данных', data_full.shape)\n",
    "#print('Признаки полных данных')\n",
    "#print(data_full.columns)\n",
    "print()\n",
    "print('Количество наблюдений и признаков в тренировочной выборке', data_train.shape)\n",
    "#print('Признаки тренировочных данных')\n",
    "#print(data_train.columns)\n",
    "print()\n",
    "print('Количество наблюдений и признаков тестовых данных', data_test.shape)\n",
    "#print('Признаки тестовых данных')\n",
    "#print(data_test.columns)"
   ]
  },
  {
   "cell_type": "markdown",
   "metadata": {},
   "source": [
    "Посчитаем сколько у нас недоступных признаков в тестовой выборке."
   ]
  },
  {
   "cell_type": "code",
   "execution_count": 19,
   "metadata": {},
   "outputs": [
    {
     "name": "stdout",
     "output_type": "stream",
     "text": [
      "\n",
      "Количество недостающих признаков: 34\n"
     ]
    }
   ],
   "source": [
    "print('\\nКоличество недостающих признаков:', data_train.shape[1] - data_test.shape[1])"
   ]
  },
  {
   "cell_type": "markdown",
   "metadata": {},
   "source": [
    "Выясним, какие признаки из тренировочной выборки не попали в тестовую."
   ]
  },
  {
   "cell_type": "code",
   "execution_count": 20,
   "metadata": {},
   "outputs": [
    {
     "name": "stdout",
     "output_type": "stream",
     "text": [
      "\n",
      "Список недостающих признаков\n",
      "\n"
     ]
    },
    {
     "data": {
      "text/plain": [
       "Index(['final.output.concentrate_ag', 'final.output.concentrate_pb',\n",
       "       'final.output.concentrate_sol', 'final.output.concentrate_au',\n",
       "       'final.output.recovery', 'final.output.tail_ag', 'final.output.tail_pb',\n",
       "       'final.output.tail_sol', 'final.output.tail_au',\n",
       "       'primary_cleaner.output.concentrate_ag',\n",
       "       'primary_cleaner.output.concentrate_pb',\n",
       "       'primary_cleaner.output.concentrate_sol',\n",
       "       'primary_cleaner.output.concentrate_au',\n",
       "       'primary_cleaner.output.tail_ag', 'primary_cleaner.output.tail_pb',\n",
       "       'primary_cleaner.output.tail_sol', 'primary_cleaner.output.tail_au',\n",
       "       'rougher.calculation.sulfate_to_au_concentrate',\n",
       "       'rougher.calculation.floatbank10_sulfate_to_au_feed',\n",
       "       'rougher.calculation.floatbank11_sulfate_to_au_feed',\n",
       "       'rougher.calculation.au_pb_ratio', 'rougher.output.concentrate_ag',\n",
       "       'rougher.output.concentrate_pb', 'rougher.output.concentrate_sol',\n",
       "       'rougher.output.concentrate_au', 'rougher.output.recovery',\n",
       "       'rougher.output.tail_ag', 'rougher.output.tail_pb',\n",
       "       'rougher.output.tail_sol', 'rougher.output.tail_au',\n",
       "       'secondary_cleaner.output.tail_ag', 'secondary_cleaner.output.tail_pb',\n",
       "       'secondary_cleaner.output.tail_sol',\n",
       "       'secondary_cleaner.output.tail_au'],\n",
       "      dtype='object')"
      ]
     },
     "execution_count": 20,
     "metadata": {},
     "output_type": "execute_result"
    }
   ],
   "source": [
    "print('\\nСписок недостающих признаков\\n')\n",
    "data_train.columns.drop(data_test.columns)"
   ]
  },
  {
   "cell_type": "markdown",
   "metadata": {},
   "source": [
    "##### Вывод\n",
    "В тестовой выборке отсутствуют признаки (34 шт), которые относятся к типу параметра \"output - \"Параметры продукта\", calculation - \"Расчётные характеристики\":\n",
    "\n",
    "Этап final - финальные характеристики\n",
    "\n",
    "Тип параметра output - параметры продукта:\n",
    "- 'final.output.concentrate_ag'\n",
    "- 'final.output.concentrate_pb'                         \n",
    "- 'final.output.concentrate_sol'                          \n",
    "- 'final.output.concentrate_au'                         \n",
    "- 'final.output.recovery'                          \n",
    "- 'final.output.tail_ag' \n",
    "- 'final.output.tail_pb'\n",
    "- 'final.output.tail_sol' \n",
    "- 'final.output.tail_au' \n",
    "                                                 \n",
    "Этап primary_cleaner - первичная очистка:\n",
    "\n",
    "Тип параметра output - параметры продукта:\n",
    "- 'primary_cleaner.output.concentrate_ag'\n",
    "- 'primary_cleaner.output.concentrate_pb'\n",
    "- 'primary_cleaner.output.concentrate_sol'\n",
    "- 'primary_cleaner.output.concentrate_au'\n",
    "- 'primary_cleaner.output.tail_ag' \n",
    "- 'primary_cleaner.output.tail_pb'\n",
    "- 'primary_cleaner.output.tail_sol' \n",
    "- 'primary_cleaner.output.tail_au'\n",
    "\n",
    "Этап rougher - флотация:\n",
    "\n",
    "Тип параметра calculation - расчётные характеристики:\n",
    "- 'rougher.calculation.sulfate_to_au_concentrate'\n",
    "- 'rougher.calculation.floatbank10_sulfate_to_au_feed'\n",
    "- 'rougher.calculation.floatbank11_sulfate_to_au_feed'\n",
    "- 'rougher.calculation.au_pb_ratio'\n",
    "\n",
    "Тип параметра output - параметры продукта:\n",
    "- 'rougher.output.concentrate_ag',\n",
    "- 'rougher.output.concentrate_pb' \n",
    "- 'rougher.output.concentrate_sol'\n",
    "- 'rougher.output.concentrate_au' \n",
    "- 'rougher.output.recovery'\n",
    "- 'rougher.output.tail_ag' \n",
    "- 'rougher.output.tail_pb'\n",
    "- 'rougher.output.tail_sol' \n",
    "- 'rougher.output.tail_au'\n",
    "\n",
    "Этап secondary_cleaner - вторичная очистка:\n",
    "\n",
    "Тип параметра output - параметры продукта:\n",
    "- 'secondary_cleaner.output.tail_ag' \n",
    "- 'secondary_cleaner.output.tail_pb'\n",
    "- 'secondary_cleaner.output.tail_sol' \n",
    "- 'secondary_cleaner.output.tail_au'"
   ]
  },
  {
   "cell_type": "markdown",
   "metadata": {},
   "source": [
    "### 1.4. Проведем предобработку данных"
   ]
  },
  {
   "cell_type": "markdown",
   "metadata": {},
   "source": [
    "Добавим в тестовую выборку целевые признаки, которые надо спрогнозировать: rougher.output.recovery final.output.recovery"
   ]
  },
  {
   "cell_type": "markdown",
   "metadata": {},
   "source": [
    "Так как в условиия проекта сказано, что соседние по времени параметры часто похожи, то заполним пропуски в данных ближайшими значениями методом ffill."
   ]
  },
  {
   "cell_type": "code",
   "execution_count": 21,
   "metadata": {},
   "outputs": [],
   "source": [
    "# <Сначала заполним пропуски только у features>\n",
    "data_full_target_rougher = data_full['rougher.output.recovery']\n",
    "data_full_target_final = data_full['final.output.recovery']\n",
    "data_full_features = data_full.drop(['final.output.recovery','rougher.output.recovery'], axis=1)\n",
    "data_full_features.ffill(axis=0,inplace=True)\n",
    "\n",
    "# <Затем добавим их обратно и сбросим пропуски у целевых>\n",
    "data_full_features['rougher.output.recovery'] = data_full_target_rougher\n",
    "data_full_features['final.output.recovery'] = data_full_target_final\n",
    "data_full = data_full_features.dropna()\n",
    "data_full.reset_index(inplace=True, drop = True)"
   ]
  },
  {
   "cell_type": "code",
   "execution_count": 22,
   "metadata": {},
   "outputs": [],
   "source": [
    "# <Сделаем также на обучающей выборке>\n",
    "data_train_target_rougher = data_train['rougher.output.recovery']\n",
    "data_train_target_final = data_train['final.output.recovery']\n",
    "data_train_features = data_train.drop(['final.output.recovery','rougher.output.recovery'], axis=1)\n",
    "data_train_features.ffill(axis=0,inplace=True)\n",
    "data_train_features['rougher.output.recovery'] = data_train_target_rougher\n",
    "data_train_features['final.output.recovery'] = data_train_target_final\n",
    "data_train = data_train_features.dropna()\n",
    "data_train.reset_index(inplace=True, drop = True)"
   ]
  },
  {
   "cell_type": "code",
   "execution_count": 23,
   "metadata": {},
   "outputs": [],
   "source": [
    "# <На тестовой выборке>\n",
    "data_test = data_test.ffill(axis=0)"
   ]
  },
  {
   "cell_type": "markdown",
   "metadata": {},
   "source": [
    "Добавим в тестовую выборку данные целевых признаков из полного датасета:"
   ]
  },
  {
   "cell_type": "code",
   "execution_count": 24,
   "metadata": {},
   "outputs": [],
   "source": [
    "data_test = data_test.merge(right = data_full[['final.output.recovery','date']], how='left', on='date')\n",
    "data_test = data_test.merge(right = data_full[['rougher.output.recovery','date']], how='left', on='date')\n",
    "data_test = data_test.dropna()"
   ]
  },
  {
   "cell_type": "markdown",
   "metadata": {},
   "source": [
    "Удалим столбец date, так как для обучения модели он не понадобится"
   ]
  },
  {
   "cell_type": "code",
   "execution_count": 25,
   "metadata": {},
   "outputs": [],
   "source": [
    "data_test = data_test.drop(['date'], axis=1)\n",
    "data_train = data_train.drop(['date'], axis=1)"
   ]
  },
  {
   "cell_type": "code",
   "execution_count": 26,
   "metadata": {},
   "outputs": [
    {
     "data": {
      "text/plain": [
       "0"
      ]
     },
     "execution_count": 26,
     "metadata": {},
     "output_type": "execute_result"
    }
   ],
   "source": [
    "data_train.duplicated().sum()"
   ]
  },
  {
   "cell_type": "code",
   "execution_count": 27,
   "metadata": {},
   "outputs": [
    {
     "data": {
      "text/plain": [
       "0"
      ]
     },
     "execution_count": 27,
     "metadata": {},
     "output_type": "execute_result"
    }
   ],
   "source": [
    "data_test.duplicated().sum()"
   ]
  },
  {
   "cell_type": "markdown",
   "metadata": {},
   "source": [
    "#### Вывод\n",
    "\n",
    "- Дубликатов в обучающей и тестовой выборках нет.\n",
    "- Пропуски в данных в обучающей и тестовой выборках заполнены с помощью метода ffill. Замена пропущенных значений с помощью метода ffill предполагает замену пропущенных значений на значения ближайших к нему соседей. Этот способ максимально полно соответствует условиям проекта в части схожести соседтствующих по дате параметрам."
   ]
  },
  {
   "cell_type": "markdown",
   "metadata": {},
   "source": [
    "## 2. Анализ данных"
   ]
  },
  {
   "cell_type": "markdown",
   "metadata": {},
   "source": [
    "### 2.1. Посмотрим, как меняется концентрация металлов (Au, Ag, Pb) на различных этапах очистки "
   ]
  },
  {
   "cell_type": "markdown",
   "metadata": {},
   "source": [
    "Посмотрим, как меняется концентрация золота (Au) на различных этапах очистки"
   ]
  },
  {
   "cell_type": "code",
   "execution_count": 28,
   "metadata": {},
   "outputs": [
    {
     "name": "stdout",
     "output_type": "stream",
     "text": [
      "Концентрация золота (Au) после флотации\n",
      "20.280214025891475\n",
      "\n",
      "Концентрация золота (Au) после первого этапа очистки\n",
      "32.841295480233306\n",
      "\n",
      "Финальный концентрат золота (Au) после второго этапа очистки\n",
      "45.01124391455689\n"
     ]
    }
   ],
   "source": [
    "print(\"Концентрация золота (Au) после флотации\")\n",
    "print(data_full['rougher.output.concentrate_au'].median())\n",
    "print()\n",
    "print(\"Концентрация золота (Au) после первого этапа очистки\")\n",
    "print(data_full['primary_cleaner.output.concentrate_au'].median())\n",
    "print()\n",
    "print(\"Финальный концентрат золота (Au) после второго этапа очистки\")\n",
    "print(data_full['final.output.concentrate_au'].median())"
   ]
  },
  {
   "cell_type": "markdown",
   "metadata": {},
   "source": [
    "Посмотрим, как меняется концентрация серебра (Ag) на различных этапах очистки"
   ]
  },
  {
   "cell_type": "code",
   "execution_count": 29,
   "metadata": {},
   "outputs": [
    {
     "name": "stdout",
     "output_type": "stream",
     "text": [
      "Концентрация серебра (Ag) после флотации\n",
      "12.098114967346191\n",
      "\n",
      "Концентрация серебра (Ag) после первого этапа очистки\n",
      "8.507297972365805\n",
      "\n",
      "Финальный концентрат серебра (Ag) после второго этапа очистки\n",
      "5.066039118467836\n"
     ]
    }
   ],
   "source": [
    "print(\"Концентрация серебра (Ag) после флотации\")\n",
    "print(data_full['rougher.output.concentrate_ag'].median())\n",
    "print()\n",
    "print(\"Концентрация серебра (Ag) после первого этапа очистки\")\n",
    "print(data_full['primary_cleaner.output.concentrate_ag'].median())\n",
    "print()\n",
    "print(\"Финальный концентрат серебра (Ag) после второго этапа очистки\")\n",
    "print(data_full['final.output.concentrate_ag'].median())"
   ]
  },
  {
   "cell_type": "markdown",
   "metadata": {},
   "source": [
    "Посмотрим, как меняется концентрация свинца (Pb) на различных этапах очистки"
   ]
  },
  {
   "cell_type": "code",
   "execution_count": 30,
   "metadata": {},
   "outputs": [
    {
     "name": "stdout",
     "output_type": "stream",
     "text": [
      "Концентрация свинца (Pb) после флотации\n",
      "7.742580079502529\n",
      "\n",
      "Концентрация свинца (Pb) после первого этапа очистки\n",
      "10.142270415359071\n",
      "\n",
      "Финальный концентрат свинца (Pb) после второго этапа очистки\n",
      "10.10226350598865\n"
     ]
    }
   ],
   "source": [
    "print(\"Концентрация свинца (Pb) после флотации\")\n",
    "print(data_full['rougher.output.concentrate_pb'].median())\n",
    "print()\n",
    "print(\"Концентрация свинца (Pb) после первого этапа очистки\")\n",
    "print(data_full['primary_cleaner.output.concentrate_pb'].median())\n",
    "print()\n",
    "print(\"Финальный концентрат свинца (Pb) после второго этапа очистки\")\n",
    "print(data_full['final.output.concentrate_pb'].median())"
   ]
  },
  {
   "cell_type": "markdown",
   "metadata": {},
   "source": [
    "Построим графики изменения концентрации металлов на разных этапах очистки."
   ]
  },
  {
   "cell_type": "code",
   "execution_count": 31,
   "metadata": {},
   "outputs": [],
   "source": [
    "# <Создадим датафреймы, которые будем использовать для исследования изменений концентрации металлов>\n",
    "concentrate_au = data_full[['rougher.output.concentrate_au','primary_cleaner.output.concentrate_au','final.output.concentrate_au']]\n",
    "concentrate_ag = data_full[['rougher.output.concentrate_ag','primary_cleaner.output.concentrate_ag','final.output.concentrate_ag']]\n",
    "concentrate_pb = data_full[['rougher.output.concentrate_pb','primary_cleaner.output.concentrate_pb','final.output.concentrate_pb']]"
   ]
  },
  {
   "cell_type": "code",
   "execution_count": 32,
   "metadata": {},
   "outputs": [
    {
     "data": {
      "text/plain": [
       "<seaborn.axisgrid.FacetGrid at 0x2221b5a54c0>"
      ]
     },
     "execution_count": 32,
     "metadata": {},
     "output_type": "execute_result"
    },
    {
     "data": {
      "image/png": "[encoded data removed]",
      "text/plain": [
       "<Figure size 432x432 with 1 Axes>"
      ]
     },
     "metadata": {},
     "output_type": "display_data"
    },
    {
     "data": {
      "image/png": "[encoded data removed]",
      "text/plain": [
       "<Figure size 432x432 with 1 Axes>"
      ]
     },
     "metadata": {},
     "output_type": "display_data"
    },
    {
     "data": {
      "image/png": "[encoded data removed]",
      "text/plain": [
       "<Figure size 432x432 with 1 Axes>"
      ]
     },
     "metadata": {},
     "output_type": "display_data"
    }
   ],
   "source": [
    "g = sns.catplot(data=concentrate_au, height = 6)\n",
    "g.set_xticklabels(['Флоатация','Первичная очистка','Вторичная очистка'])\n",
    "g.set_axis_labels('Золото')\n",
    "r = sns.catplot(data=concentrate_ag, height = 6)\n",
    "r.set_axis_labels('Серебро')\n",
    "r.set_xticklabels(['Флоатация','Первичная очистка','Вторичная очистка'])\n",
    "y = sns.catplot(data=concentrate_pb, height = 6)\n",
    "y.set_axis_labels('Свинец')\n",
    "y.set_xticklabels(['Флоатация','Первичная очистка','Вторичная очистка'])"
   ]
  },
  {
   "cell_type": "markdown",
   "metadata": {},
   "source": [
    "##### Вывод:\n",
    "\n",
    "Концентрация металлов в процессе очистки изменяется:\n",
    "- Концентрация золота повышается\n",
    "- Концентрация серебра снижается\n",
    "- Концентрация свинца примерно одинакова\n",
    "\n",
    "Так же заметно разделение золота от других металлов"
   ]
  },
  {
   "cell_type": "markdown",
   "metadata": {},
   "source": [
    "### 2.2. Сравним распределения размеров гранул сырья на обучающей и тестовой выборках. Если распределения сильно отличаются друг от друга, оценка модели будет неправильной."
   ]
  },
  {
   "cell_type": "markdown",
   "metadata": {},
   "source": [
    "Построим график распределения размеров гранул сырья на обучающей и тестовой выборках"
   ]
  },
  {
   "cell_type": "code",
   "execution_count": 33,
   "metadata": {},
   "outputs": [
    {
     "data": {
      "image/png": "[encoded data removed]",
      "text/plain": [
       "<Figure size 1152x648 with 1 Axes>"
      ]
     },
     "metadata": {},
     "output_type": "display_data"
    }
   ],
   "source": [
    "data_train['rougher.input.feed_size'].plot.kde(legend = True, label = 'Обучающая выборка', figsize = (16, 9))\n",
    "data_test['rougher.input.feed_size'].plot.kde(legend = True, label = 'Тестовая выборка', figsize = (16, 9))\n",
    "plt.suptitle(\"График распределения размеров гранул сырья на обучающей и тестовой выборках\")\n",
    "plt.xlabel(\"Размер гранул\")\n",
    "plt.ylabel(\"Количество наблюдений\")\n",
    "plt.show()"
   ]
  },
  {
   "cell_type": "markdown",
   "metadata": {},
   "source": [
    "Вывод\n",
    "\n",
    "Из графика видно, что на обучающей и тестовой выборках размер гранул на входе этапа флотации можно считать одинаковым"
   ]
  },
  {
   "cell_type": "markdown",
   "metadata": {},
   "source": [
    "### 2.3. Исследуем суммарную концентрацию всех веществ на разных стадиях: в сырье, в черновом и финальном концентратах"
   ]
  },
  {
   "cell_type": "markdown",
   "metadata": {},
   "source": [
    "#### Сырье"
   ]
  },
  {
   "cell_type": "code",
   "execution_count": 34,
   "metadata": {},
   "outputs": [
    {
     "data": {
      "text/plain": [
       "<AxesSubplot:ylabel='Density'>"
      ]
     },
     "execution_count": 34,
     "metadata": {},
     "output_type": "execute_result"
    },
    {
     "data": {
      "image/png": "[encoded data removed]",
      "text/plain": [
       "<Figure size 432x288 with 1 Axes>"
      ]
     },
     "metadata": {},
     "output_type": "display_data"
    }
   ],
   "source": [
    "sum_concentrat_rougher_input = data_full['rougher.input.feed_ag']+ \\\n",
    "data_full['rougher.input.feed_pb']+\\\n",
    "data_full['rougher.input.feed_au']+\\\n",
    "data_full['rougher.input.feed_sol']\n",
    "sns.distplot(sum_concentrat_rougher_input)"
   ]
  },
  {
   "cell_type": "markdown",
   "metadata": {},
   "source": [
    "#### Черновой концентрат"
   ]
  },
  {
   "cell_type": "code",
   "execution_count": 35,
   "metadata": {},
   "outputs": [
    {
     "data": {
      "text/plain": [
       "<AxesSubplot:ylabel='Density'>"
      ]
     },
     "execution_count": 35,
     "metadata": {},
     "output_type": "execute_result"
    },
    {
     "data": {
      "image/png": "[encoded data removed]",
      "text/plain": [
       "<Figure size 432x288 with 1 Axes>"
      ]
     },
     "metadata": {},
     "output_type": "display_data"
    }
   ],
   "source": [
    "sum_concentrat_rougher_output = data_full['rougher.output.concentrate_ag']+ \\\n",
    "data_full['rougher.output.concentrate_pb']+\\\n",
    "data_full['rougher.output.concentrate_au']+\\\n",
    "data_full['rougher.output.concentrate_sol']\n",
    "sns.distplot(sum_concentrat_rougher_output)"
   ]
  },
  {
   "cell_type": "markdown",
   "metadata": {},
   "source": [
    "#### Финальный концентрат"
   ]
  },
  {
   "cell_type": "code",
   "execution_count": 36,
   "metadata": {},
   "outputs": [
    {
     "data": {
      "text/plain": [
       "<AxesSubplot:ylabel='Density'>"
      ]
     },
     "execution_count": 36,
     "metadata": {},
     "output_type": "execute_result"
    },
    {
     "data": {
      "image/png": "[encoded data removed]",
      "text/plain": [
       "<Figure size 432x288 with 1 Axes>"
      ]
     },
     "metadata": {},
     "output_type": "display_data"
    }
   ],
   "source": [
    "sum_concentrat_final_output = data_full['final.output.concentrate_ag']+ \\\n",
    "data_full['final.output.concentrate_pb']+\\\n",
    "data_full['final.output.concentrate_au']+\\\n",
    "data_full['final.output.concentrate_sol']\n",
    "sns.distplot(sum_concentrat_final_output)"
   ]
  },
  {
   "cell_type": "markdown",
   "metadata": {},
   "source": [
    "Видим, что на всех стадиях очистки имеются нулевые значения концентрации веществ - похоже на аномалии, так как не может быть нулевая концентрация веществ в какой-либо стадии технологического процесса.\n",
    "\n",
    "Отфильтруем нулевые значения"
   ]
  },
  {
   "cell_type": "code",
   "execution_count": 37,
   "metadata": {},
   "outputs": [],
   "source": [
    "data_train = data_train.loc[data_train['rougher.input.feed_au'] > 0.1]\n",
    "data_test = data_test.loc[data_test['rougher.input.feed_au'] > 0.1]"
   ]
  },
  {
   "cell_type": "markdown",
   "metadata": {},
   "source": [
    "#### Вывод\n",
    "\n",
    "Мы проанализировали как меняется концентрация металлов на разных этапах очистки, и пришли к выводу что доля золота увелчивается, доля серебра уменьшается, и доля свинца уменьшается тоже, хотя по графику сразу и не скажешь.\n",
    "\n",
    "Мы оценили распределения размеров гранул на обучающей и тестовой выборке и пришли к выводу что они различаются не слишком сильно, и это не слишком повлияет на оценку модели.\n",
    "\n",
    "Мы исследовали суммарную концентрацию всех веществ на разных стадиях: в сырье, в черновом и финальном концентратах. Пришли к выводу что в данных есть аномалии и избавились от них."
   ]
  },
  {
   "cell_type": "markdown",
   "metadata": {},
   "source": [
    "## 3. Модель"
   ]
  },
  {
   "cell_type": "markdown",
   "metadata": {},
   "source": [
    "### 3.1. Напишем функцию для вычисления итоговой sMAPE."
   ]
  },
  {
   "cell_type": "markdown",
   "metadata": {},
   "source": [
    "Напишем фунцию для вычисления sMAPE"
   ]
  },
  {
   "cell_type": "code",
   "execution_count": 38,
   "metadata": {},
   "outputs": [],
   "source": [
    "def sMAPE(y_true, y_pred):\n",
    "    \"\"\"Функция на вход принимает вектор истинных и предсказанных значений и вычисляет метрику sMAPE\"\"\"\n",
    "    denominator = (np.abs(y_true) + np.abs(y_pred)) / 200.0\n",
    "    diff = np.abs(y_true - y_pred) / denominator\n",
    "    diff[denominator == 0] = 0.0\n",
    "    return np.nanmean(diff)"
   ]
  },
  {
   "cell_type": "markdown",
   "metadata": {},
   "source": [
    "Напишем функцию вычисления Итоговой sMAPE"
   ]
  },
  {
   "cell_type": "code",
   "execution_count": 39,
   "metadata": {},
   "outputs": [],
   "source": [
    "def func_total_sMAPE(sMAPE_rougher, sMAPE_final):\n",
    "    total_sMAPE = 0.25 * sMAPE_rougher + 0.75 * sMAPE_final\n",
    "    return total_sMAPE"
   ]
  },
  {
   "cell_type": "code",
   "execution_count": 40,
   "metadata": {},
   "outputs": [],
   "source": [
    "score_sMAPE = make_scorer(sMAPE, greater_is_better = True)"
   ]
  },
  {
   "cell_type": "markdown",
   "metadata": {},
   "source": [
    "Удалим в обучающей выборке признаки, которых нет в тестовой выборке"
   ]
  },
  {
   "cell_type": "code",
   "execution_count": 41,
   "metadata": {},
   "outputs": [
    {
     "name": "stdout",
     "output_type": "stream",
     "text": [
      "\n",
      "Список признаков для удаления в обучающей выборке\n",
      "\n"
     ]
    },
    {
     "data": {
      "text/plain": [
       "Index(['final.output.concentrate_ag', 'final.output.concentrate_pb',\n",
       "       'final.output.concentrate_sol', 'final.output.concentrate_au',\n",
       "       'final.output.tail_ag', 'final.output.tail_pb', 'final.output.tail_sol',\n",
       "       'final.output.tail_au', 'primary_cleaner.output.concentrate_ag',\n",
       "       'primary_cleaner.output.concentrate_pb',\n",
       "       'primary_cleaner.output.concentrate_sol',\n",
       "       'primary_cleaner.output.concentrate_au',\n",
       "       'primary_cleaner.output.tail_ag', 'primary_cleaner.output.tail_pb',\n",
       "       'primary_cleaner.output.tail_sol', 'primary_cleaner.output.tail_au',\n",
       "       'rougher.calculation.sulfate_to_au_concentrate',\n",
       "       'rougher.calculation.floatbank10_sulfate_to_au_feed',\n",
       "       'rougher.calculation.floatbank11_sulfate_to_au_feed',\n",
       "       'rougher.calculation.au_pb_ratio', 'rougher.output.concentrate_ag',\n",
       "       'rougher.output.concentrate_pb', 'rougher.output.concentrate_sol',\n",
       "       'rougher.output.concentrate_au', 'rougher.output.tail_ag',\n",
       "       'rougher.output.tail_pb', 'rougher.output.tail_sol',\n",
       "       'rougher.output.tail_au', 'secondary_cleaner.output.tail_ag',\n",
       "       'secondary_cleaner.output.tail_pb', 'secondary_cleaner.output.tail_sol',\n",
       "       'secondary_cleaner.output.tail_au'],\n",
       "      dtype='object')"
      ]
     },
     "execution_count": 41,
     "metadata": {},
     "output_type": "execute_result"
    }
   ],
   "source": [
    "print('\\nСписок признаков для удаления в обучающей выборке\\n')\n",
    "data_train.columns.drop(data_test.columns)"
   ]
  },
  {
   "cell_type": "code",
   "execution_count": 42,
   "metadata": {},
   "outputs": [
    {
     "data": {
      "text/plain": [
       "(14144, 54)"
      ]
     },
     "execution_count": 42,
     "metadata": {},
     "output_type": "execute_result"
    }
   ],
   "source": [
    "data_train = data_train.drop(['final.output.concentrate_ag', \n",
    "                         'final.output.concentrate_pb',\n",
    "                         'final.output.concentrate_sol', \n",
    "                         'final.output.concentrate_au',\n",
    "                         'final.output.tail_ag', \n",
    "                         'final.output.tail_pb',\n",
    "                         'final.output.tail_sol', \n",
    "                         'final.output.tail_au',\n",
    "                         'primary_cleaner.output.concentrate_ag',\n",
    "                         'primary_cleaner.output.concentrate_pb',\n",
    "                         'primary_cleaner.output.concentrate_sol',\n",
    "                         'primary_cleaner.output.concentrate_au',\n",
    "                         'primary_cleaner.output.tail_ag', \n",
    "                         'primary_cleaner.output.tail_pb',\n",
    "                         'primary_cleaner.output.tail_sol', \n",
    "                         'primary_cleaner.output.tail_au',\n",
    "                         'rougher.calculation.sulfate_to_au_concentrate',\n",
    "                         'rougher.calculation.floatbank10_sulfate_to_au_feed',\n",
    "                         'rougher.calculation.floatbank11_sulfate_to_au_feed',\n",
    "                         'rougher.calculation.au_pb_ratio',\n",
    "                         'rougher.output.concentrate_ag',\n",
    "                         'rougher.output.concentrate_pb', \n",
    "                         'rougher.output.concentrate_sol',\n",
    "                         'rougher.output.concentrate_au',\n",
    "                         'rougher.output.tail_ag', \n",
    "                         'rougher.output.tail_pb',\n",
    "                         'rougher.output.tail_sol', \n",
    "                         'rougher.output.tail_au',\n",
    "                         'secondary_cleaner.output.tail_ag', \n",
    "                         'secondary_cleaner.output.tail_pb',\n",
    "                         'secondary_cleaner.output.tail_sol', \n",
    "                         'secondary_cleaner.output.tail_au'], axis = 1)\n",
    "#data_train = data_train.fillna(method = 'ffill')\n",
    "data_train.shape"
   ]
  },
  {
   "cell_type": "code",
   "execution_count": 43,
   "metadata": {},
   "outputs": [
    {
     "name": "stdout",
     "output_type": "stream",
     "text": [
      "<class 'pandas.core.frame.DataFrame'>\n",
      "Int64Index: 14144 entries, 0 to 14148\n",
      "Data columns (total 54 columns):\n",
      " #   Column                                      Non-Null Count  Dtype  \n",
      "---  ------                                      --------------  -----  \n",
      " 0   primary_cleaner.input.sulfate               14144 non-null  float64\n",
      " 1   primary_cleaner.input.depressant            14144 non-null  float64\n",
      " 2   primary_cleaner.input.feed_size             14144 non-null  float64\n",
      " 3   primary_cleaner.input.xanthate              14144 non-null  float64\n",
      " 4   primary_cleaner.state.floatbank8_a_air      14144 non-null  float64\n",
      " 5   primary_cleaner.state.floatbank8_a_level    14144 non-null  float64\n",
      " 6   primary_cleaner.state.floatbank8_b_air      14144 non-null  float64\n",
      " 7   primary_cleaner.state.floatbank8_b_level    14144 non-null  float64\n",
      " 8   primary_cleaner.state.floatbank8_c_air      14144 non-null  float64\n",
      " 9   primary_cleaner.state.floatbank8_c_level    14144 non-null  float64\n",
      " 10  primary_cleaner.state.floatbank8_d_air      14144 non-null  float64\n",
      " 11  primary_cleaner.state.floatbank8_d_level    14144 non-null  float64\n",
      " 12  rougher.input.feed_ag                       14144 non-null  float64\n",
      " 13  rougher.input.feed_pb                       14144 non-null  float64\n",
      " 14  rougher.input.feed_rate                     14144 non-null  float64\n",
      " 15  rougher.input.feed_size                     14144 non-null  float64\n",
      " 16  rougher.input.feed_sol                      14144 non-null  float64\n",
      " 17  rougher.input.feed_au                       14144 non-null  float64\n",
      " 18  rougher.input.floatbank10_sulfate           14144 non-null  float64\n",
      " 19  rougher.input.floatbank10_xanthate          14144 non-null  float64\n",
      " 20  rougher.input.floatbank11_sulfate           14144 non-null  float64\n",
      " 21  rougher.input.floatbank11_xanthate          14144 non-null  float64\n",
      " 22  rougher.state.floatbank10_a_air             14144 non-null  float64\n",
      " 23  rougher.state.floatbank10_a_level           14144 non-null  float64\n",
      " 24  rougher.state.floatbank10_b_air             14144 non-null  float64\n",
      " 25  rougher.state.floatbank10_b_level           14144 non-null  float64\n",
      " 26  rougher.state.floatbank10_c_air             14144 non-null  float64\n",
      " 27  rougher.state.floatbank10_c_level           14144 non-null  float64\n",
      " 28  rougher.state.floatbank10_d_air             14144 non-null  float64\n",
      " 29  rougher.state.floatbank10_d_level           14144 non-null  float64\n",
      " 30  rougher.state.floatbank10_e_air             14144 non-null  float64\n",
      " 31  rougher.state.floatbank10_e_level           14144 non-null  float64\n",
      " 32  rougher.state.floatbank10_f_air             14144 non-null  float64\n",
      " 33  rougher.state.floatbank10_f_level           14144 non-null  float64\n",
      " 34  secondary_cleaner.state.floatbank2_a_air    14144 non-null  float64\n",
      " 35  secondary_cleaner.state.floatbank2_a_level  14144 non-null  float64\n",
      " 36  secondary_cleaner.state.floatbank2_b_air    14144 non-null  float64\n",
      " 37  secondary_cleaner.state.floatbank2_b_level  14144 non-null  float64\n",
      " 38  secondary_cleaner.state.floatbank3_a_air    14144 non-null  float64\n",
      " 39  secondary_cleaner.state.floatbank3_a_level  14144 non-null  float64\n",
      " 40  secondary_cleaner.state.floatbank3_b_air    14144 non-null  float64\n",
      " 41  secondary_cleaner.state.floatbank3_b_level  14144 non-null  float64\n",
      " 42  secondary_cleaner.state.floatbank4_a_air    14144 non-null  float64\n",
      " 43  secondary_cleaner.state.floatbank4_a_level  14144 non-null  float64\n",
      " 44  secondary_cleaner.state.floatbank4_b_air    14144 non-null  float64\n",
      " 45  secondary_cleaner.state.floatbank4_b_level  14144 non-null  float64\n",
      " 46  secondary_cleaner.state.floatbank5_a_air    14144 non-null  float64\n",
      " 47  secondary_cleaner.state.floatbank5_a_level  14144 non-null  float64\n",
      " 48  secondary_cleaner.state.floatbank5_b_air    14144 non-null  float64\n",
      " 49  secondary_cleaner.state.floatbank5_b_level  14144 non-null  float64\n",
      " 50  secondary_cleaner.state.floatbank6_a_air    14144 non-null  float64\n",
      " 51  secondary_cleaner.state.floatbank6_a_level  14144 non-null  float64\n",
      " 52  rougher.output.recovery                     14144 non-null  float64\n",
      " 53  final.output.recovery                       14144 non-null  float64\n",
      "dtypes: float64(54)\n",
      "memory usage: 5.9 MB\n"
     ]
    }
   ],
   "source": [
    "data_train.info()"
   ]
  },
  {
   "cell_type": "code",
   "execution_count": 44,
   "metadata": {},
   "outputs": [
    {
     "name": "stdout",
     "output_type": "stream",
     "text": [
      "<class 'pandas.core.frame.DataFrame'>\n",
      "Int64Index: 5290 entries, 0 to 5289\n",
      "Data columns (total 54 columns):\n",
      " #   Column                                      Non-Null Count  Dtype  \n",
      "---  ------                                      --------------  -----  \n",
      " 0   primary_cleaner.input.sulfate               5290 non-null   float64\n",
      " 1   primary_cleaner.input.depressant            5290 non-null   float64\n",
      " 2   primary_cleaner.input.feed_size             5290 non-null   float64\n",
      " 3   primary_cleaner.input.xanthate              5290 non-null   float64\n",
      " 4   primary_cleaner.state.floatbank8_a_air      5290 non-null   float64\n",
      " 5   primary_cleaner.state.floatbank8_a_level    5290 non-null   float64\n",
      " 6   primary_cleaner.state.floatbank8_b_air      5290 non-null   float64\n",
      " 7   primary_cleaner.state.floatbank8_b_level    5290 non-null   float64\n",
      " 8   primary_cleaner.state.floatbank8_c_air      5290 non-null   float64\n",
      " 9   primary_cleaner.state.floatbank8_c_level    5290 non-null   float64\n",
      " 10  primary_cleaner.state.floatbank8_d_air      5290 non-null   float64\n",
      " 11  primary_cleaner.state.floatbank8_d_level    5290 non-null   float64\n",
      " 12  rougher.input.feed_ag                       5290 non-null   float64\n",
      " 13  rougher.input.feed_pb                       5290 non-null   float64\n",
      " 14  rougher.input.feed_rate                     5290 non-null   float64\n",
      " 15  rougher.input.feed_size                     5290 non-null   float64\n",
      " 16  rougher.input.feed_sol                      5290 non-null   float64\n",
      " 17  rougher.input.feed_au                       5290 non-null   float64\n",
      " 18  rougher.input.floatbank10_sulfate           5290 non-null   float64\n",
      " 19  rougher.input.floatbank10_xanthate          5290 non-null   float64\n",
      " 20  rougher.input.floatbank11_sulfate           5290 non-null   float64\n",
      " 21  rougher.input.floatbank11_xanthate          5290 non-null   float64\n",
      " 22  rougher.state.floatbank10_a_air             5290 non-null   float64\n",
      " 23  rougher.state.floatbank10_a_level           5290 non-null   float64\n",
      " 24  rougher.state.floatbank10_b_air             5290 non-null   float64\n",
      " 25  rougher.state.floatbank10_b_level           5290 non-null   float64\n",
      " 26  rougher.state.floatbank10_c_air             5290 non-null   float64\n",
      " 27  rougher.state.floatbank10_c_level           5290 non-null   float64\n",
      " 28  rougher.state.floatbank10_d_air             5290 non-null   float64\n",
      " 29  rougher.state.floatbank10_d_level           5290 non-null   float64\n",
      " 30  rougher.state.floatbank10_e_air             5290 non-null   float64\n",
      " 31  rougher.state.floatbank10_e_level           5290 non-null   float64\n",
      " 32  rougher.state.floatbank10_f_air             5290 non-null   float64\n",
      " 33  rougher.state.floatbank10_f_level           5290 non-null   float64\n",
      " 34  secondary_cleaner.state.floatbank2_a_air    5290 non-null   float64\n",
      " 35  secondary_cleaner.state.floatbank2_a_level  5290 non-null   float64\n",
      " 36  secondary_cleaner.state.floatbank2_b_air    5290 non-null   float64\n",
      " 37  secondary_cleaner.state.floatbank2_b_level  5290 non-null   float64\n",
      " 38  secondary_cleaner.state.floatbank3_a_air    5290 non-null   float64\n",
      " 39  secondary_cleaner.state.floatbank3_a_level  5290 non-null   float64\n",
      " 40  secondary_cleaner.state.floatbank3_b_air    5290 non-null   float64\n",
      " 41  secondary_cleaner.state.floatbank3_b_level  5290 non-null   float64\n",
      " 42  secondary_cleaner.state.floatbank4_a_air    5290 non-null   float64\n",
      " 43  secondary_cleaner.state.floatbank4_a_level  5290 non-null   float64\n",
      " 44  secondary_cleaner.state.floatbank4_b_air    5290 non-null   float64\n",
      " 45  secondary_cleaner.state.floatbank4_b_level  5290 non-null   float64\n",
      " 46  secondary_cleaner.state.floatbank5_a_air    5290 non-null   float64\n",
      " 47  secondary_cleaner.state.floatbank5_a_level  5290 non-null   float64\n",
      " 48  secondary_cleaner.state.floatbank5_b_air    5290 non-null   float64\n",
      " 49  secondary_cleaner.state.floatbank5_b_level  5290 non-null   float64\n",
      " 50  secondary_cleaner.state.floatbank6_a_air    5290 non-null   float64\n",
      " 51  secondary_cleaner.state.floatbank6_a_level  5290 non-null   float64\n",
      " 52  final.output.recovery                       5290 non-null   float64\n",
      " 53  rougher.output.recovery                     5290 non-null   float64\n",
      "dtypes: float64(54)\n",
      "memory usage: 2.2 MB\n"
     ]
    }
   ],
   "source": [
    "data_test.info()"
   ]
  },
  {
   "cell_type": "markdown",
   "metadata": {},
   "source": [
    "### 3.2. Обучим разные модели и оцените их качество кросс-валидацией"
   ]
  },
  {
   "cell_type": "markdown",
   "metadata": {},
   "source": [
    "#### 3.2.1. Спрогнозируем эффективность обогащения чернового концентрата rougher.output.recovery"
   ]
  },
  {
   "cell_type": "markdown",
   "metadata": {},
   "source": [
    "Разделим обучающую выборку на целевой признак и признаки"
   ]
  },
  {
   "cell_type": "code",
   "execution_count": 45,
   "metadata": {},
   "outputs": [
    {
     "name": "stdout",
     "output_type": "stream",
     "text": [
      "Размер выборки до разделения на целевой признак и признаки (14144, 54)\n",
      "Размер таблицы целевого признака (10608,)\n",
      "Размер таблицы признаков (10608, 52)\n",
      "Размер таблицы целевого признака валидация (3536,)\n",
      "Размер таблицы признаков валидации (3536, 52)\n"
     ]
    }
   ],
   "source": [
    "target = data_train['rougher.output.recovery'] # Целевой признак\n",
    "features = data_train.drop(columns = ['rougher.output.recovery', 'final.output.recovery'], axis = 1) # Признаки\n",
    "\n",
    "\n",
    "# Разделим выборку датасет train на тренировочную и валидационную выборки\n",
    "features_train, features_valid, target_train, target_valid = train_test_split(\n",
    "    features, target, test_size = 0.25, random_state = 12345)\n",
    "\n",
    "# проверим корректность разделения\n",
    "print('Размер выборки до разделения на целевой признак и признаки', data_train.shape)\n",
    "print('Размер таблицы целевого признака', target_train.shape)\n",
    "print('Размер таблицы признаков', features_train.shape)\n",
    "print('Размер таблицы целевого признака валидация', target_valid.shape)\n",
    "print('Размер таблицы признаков валидации', features_valid.shape)"
   ]
  },
  {
   "cell_type": "markdown",
   "metadata": {},
   "source": [
    "Подберем гиперпараметры и обучим модель Решающее дерево для регрессии DecisionTreeRegressor "
   ]
  },
  {
   "cell_type": "code",
   "execution_count": 46,
   "metadata": {},
   "outputs": [
    {
     "name": "stdout",
     "output_type": "stream",
     "text": [
      "Fitting 4 folds for each of 10 candidates, totalling 40 fits\n",
      "\n",
      "Результат для модели Решающее дерево \n",
      "\n",
      "Лучшие параметры: {'min_samples_split': 10, 'max_leaf_nodes': 10, 'max_features': 'auto', 'max_depth': 2, 'criterion': 'mse'}\n",
      "\n",
      "Лучший результат sMAPE_rougher: 11.3937\n"
     ]
    }
   ],
   "source": [
    "# <сетка гиперпараметров, по которой будет происходит случайный поиск>\n",
    "param_grid = {\n",
    "    'max_depth': [None] + list(np.arange(2, 21,2).astype(int)),\n",
    "    'max_features': ['auto', 'sqrt', None],\n",
    "    'criterion': ['mse', 'mae'],\n",
    "    'max_leaf_nodes': [None] + list(np.arange(10, 101, 10).astype(int)),\n",
    "    'min_samples_split': [2, 5, 10]\n",
    "}\n",
    "\n",
    "# <дерево принятия решений к которому будем подбирать параметры>\n",
    "estimator = DecisionTreeRegressor(random_state = 12345)\n",
    "\n",
    "# <модель>\n",
    "grid = RandomizedSearchCV(estimator, param_grid, cv=4, verbose=10, scoring = score_sMAPE, n_jobs=-1)\n",
    "\n",
    "# <обучаем модель> \n",
    "grid.fit(features_train, target_train)\n",
    "\n",
    "print()\n",
    "print(\"Результат для модели Решающее дерево \")\n",
    "print()\n",
    "print(f'Лучшие параметры: {grid.best_params_}')\n",
    "print()\n",
    "print(f'Лучший результат sMAPE_rougher: {round(grid.best_score_, 4)}')"
   ]
  },
  {
   "cell_type": "markdown",
   "metadata": {},
   "source": [
    "Подберем гиперпараметры и обучим модель Случайный лес для регрессии RandomForestRegressor"
   ]
  },
  {
   "cell_type": "code",
   "execution_count": 47,
   "metadata": {},
   "outputs": [
    {
     "name": "stdout",
     "output_type": "stream",
     "text": [
      "Fitting 4 folds for each of 10 candidates, totalling 40 fits\n",
      "\n",
      "Результат для модели Случайный лес\n",
      "\n",
      "Лучшие параметры: {'n_estimators': 50, 'min_samples_split': 5, 'max_leaf_nodes': 20, 'max_features': 'auto', 'max_depth': 2, 'bootstrap': False}\n",
      "\n",
      "Лучший результат sMAPE_rougher: 11.3937\n"
     ]
    }
   ],
   "source": [
    "# <сетка гиперпараметров, по которой будет происходит случайный поиск>\n",
    "param_grid = {\n",
    "    'n_estimators': list(np.arange(2, 101, 2).astype(int)),\n",
    "    'max_depth': [None] + list(np.arange(2, 21,2).astype(int)),\n",
    "    'max_features': ['auto', 'sqrt', None],\n",
    "    'max_leaf_nodes': [None] + list(np.arange(10, 101, 10).astype(int)),\n",
    "    'min_samples_split': [2, 5, 10],\n",
    "    'bootstrap': [True, False]\n",
    "}\n",
    "\n",
    "# <случайный лес к которому будем подбирать параметры>\n",
    "estimator = RandomForestRegressor(random_state = 12345)\n",
    "\n",
    "# <модель>\n",
    "grid = RandomizedSearchCV(estimator, param_grid, cv=4, verbose=10, scoring = score_sMAPE, n_jobs=-1)\n",
    "\n",
    "# <обучаем модель> \n",
    "grid.fit(features_train, target_train)\n",
    "\n",
    "print()\n",
    "print(\"Результат для модели Случайный лес\")\n",
    "print()\n",
    "print(f'Лучшие параметры: {grid.best_params_}')\n",
    "print()\n",
    "print(f'Лучший результат sMAPE_rougher: {round(grid.best_score_, 4)}')"
   ]
  },
  {
   "cell_type": "markdown",
   "metadata": {},
   "source": [
    "Подберем гиперпараметры и обучим модель Линейная регрессия LinearRegression"
   ]
  },
  {
   "cell_type": "code",
   "execution_count": 48,
   "metadata": {},
   "outputs": [
    {
     "name": "stdout",
     "output_type": "stream",
     "text": [
      "Fitting 5 folds for each of 4 candidates, totalling 20 fits\n",
      "\n",
      "Результат для модели Линейная регрессия\n",
      "\n",
      "Лучшие параметры: {'normalize': True, 'fit_intercept': False}\n",
      "\n",
      "Лучший результат sMAPE_rougher: 10.5453\n"
     ]
    }
   ],
   "source": [
    "# <сетка гиперпараметров, по которой будет происходит случайный поиск>\n",
    "param_grid = {'fit_intercept': [True, False], \n",
    "                  'normalize': [True, False]                  \n",
    "}\n",
    "\n",
    "# <случайный лес к которому будем подбирать параметры>\n",
    "estimator = LinearRegression()\n",
    "\n",
    "# <модель>\n",
    "grid = RandomizedSearchCV(estimator, param_grid, verbose=10, scoring = score_sMAPE, n_jobs=-1)\n",
    "\n",
    "# <обучаем модель> \n",
    "grid.fit(features_train, target_train)\n",
    "\n",
    "print()\n",
    "print(\"Результат для модели Линейная регрессия\")\n",
    "print()\n",
    "print(f'Лучшие параметры: {grid.best_params_}')\n",
    "print()\n",
    "print(f'Лучший результат sMAPE_rougher: {round(grid.best_score_, 4)}')"
   ]
  },
  {
   "cell_type": "markdown",
   "metadata": {},
   "source": [
    "Подберем лучшую модель для прогноза обогащения чернового концентрата rougher.output.recovery"
   ]
  },
  {
   "cell_type": "code",
   "execution_count": 49,
   "metadata": {},
   "outputs": [
    {
     "name": "stdout",
     "output_type": "stream",
     "text": [
      "\n",
      "Расчеты на модели DecisionTreeRegressor - Дерево решений для регрессии на черновом концентрате\n",
      "Метрика sMAPE на модели DecisionTreeRegressor by cross_val_score: 12.0592\n",
      "Метрика sMAPE на модели DecisionTreeRegressor by fit-predict: 9.9877\n"
     ]
    }
   ],
   "source": [
    "# DecisionTreeRegressor\n",
    "print()\n",
    "print('Расчеты на модели DecisionTreeRegressor - Дерево решений для регрессии на черновом концентрате')\n",
    "\n",
    "model_tree = DecisionTreeRegressor(criterion='mse', max_depth=6, max_features='sqrt',\n",
    "                      max_leaf_nodes=50, min_samples_split=10,\n",
    "                      random_state=12345)\n",
    "'min_samples_split': 10, 'max_leaf_nodes': 10, 'max_features': 'auto', 'max_depth': 2, 'criterion': 'mse'\n",
    "# Перекрестная проверка кросс-валидация CV\n",
    "score_sMAPE = make_scorer(sMAPE, greater_is_better = True)\n",
    "score = cross_val_score(model_tree, features, target, cv = 5, scoring = score_sMAPE).sum() / 5\n",
    "print(f'Метрика sMAPE на модели DecisionTreeRegressor by cross_val_score: {round(score, 4)}')\n",
    "\n",
    "# Fit - predict\n",
    "model_tree.fit(features_train, target_train)\n",
    "predictions_rougher = model_tree.predict(features_valid)\n",
    "sMAPE_rougher = sMAPE(target_valid, predictions_rougher)\n",
    "print(f'Метрика sMAPE на модели DecisionTreeRegressor by fit-predict: {round(sMAPE_rougher, 4)}')"
   ]
  },
  {
   "cell_type": "code",
   "execution_count": 50,
   "metadata": {},
   "outputs": [
    {
     "name": "stdout",
     "output_type": "stream",
     "text": [
      "\n",
      "Расчеты на модели RandomForestRegressor - Случаный лес для регрессии на черновом концентрате\n",
      "Метрика sMAPE на модели RandomForestRegressor by cross_val_score: 11.5931\n",
      "Метрика sMAPE на модели RandomForestRegressor by fit-predict: 10.3184\n"
     ]
    }
   ],
   "source": [
    "# RandomForestRegressor\n",
    "print()\n",
    "print('Расчеты на модели RandomForestRegressor - Случаный лес для регрессии на черновом концентрате')\n",
    "model_forest = RandomForestRegressor(max_depth=None, n_estimators=44, min_samples_split=10, max_leaf_nodes=10, \n",
    "                            max_features='auto', bootstrap=False, random_state=12345)\n",
    "                        \n",
    "# Перекрестная проверка кросс-валидация CV\n",
    "score_sMAPE = make_scorer(sMAPE, greater_is_better = True)\n",
    "score = cross_val_score(model_forest, features, target, cv = 5, scoring = score_sMAPE).sum() / 5\n",
    "print(f'Метрика sMAPE на модели RandomForestRegressor by cross_val_score: {round(score, 4)}')\n",
    "\n",
    "# Fit - predict\n",
    "model_forest.fit(features_train, target_train)\n",
    "predictions_rougher = model_forest.predict(features_valid)\n",
    "sMAPE_rougher = sMAPE(target_valid, predictions_rougher)\n",
    "print(f'Метрика sMAPE на модели RandomForestRegressor by fit-predict: {round(sMAPE_rougher, 4)}')"
   ]
  },
  {
   "cell_type": "code",
   "execution_count": 51,
   "metadata": {},
   "outputs": [
    {
     "name": "stdout",
     "output_type": "stream",
     "text": [
      "\n",
      "Расчеты на модели LinearRegression - Линейная регрессия на черновом концентрате\n",
      "Метрика sMAPE на модели LinearRegression by cross_val_score: 13.0091\n",
      "Метрика sMAPE на модели LinearRegression by fit-predict: 9.9024\n"
     ]
    }
   ],
   "source": [
    "# LinearRegression\n",
    "print()\n",
    "print('Расчеты на модели LinearRegression - Линейная регрессия на черновом концентрате')\n",
    "\n",
    "model_linear = LinearRegression(normalize=True, fit_intercept=False)\n",
    "\n",
    "# Перекрестная проверка кросс-валидация CV\n",
    "score_sMAPE = make_scorer(sMAPE, greater_is_better = True)\n",
    "score = cross_val_score(model_linear, features, target, cv = 5, scoring = score_sMAPE).sum() / 5\n",
    "print(f'Метрика sMAPE на модели LinearRegression by cross_val_score: {round(score, 4)}')\n",
    "\n",
    "# Fit - predict\n",
    "model_linear.fit(features_train, target_train)\n",
    "predictions_rougher = model_linear.predict(features_valid)\n",
    "sMAPE_rougher = sMAPE(target_valid, predictions_rougher)\n",
    "print(f'Метрика sMAPE на модели LinearRegression by fit-predict: {round(sMAPE_rougher, 4)}')"
   ]
  },
  {
   "cell_type": "markdown",
   "metadata": {},
   "source": [
    "#### Лучшая модель Случаный лес для регрессии - RandomForestRegressor "
   ]
  },
  {
   "cell_type": "markdown",
   "metadata": {},
   "source": [
    "Проверим лучшую модель на тестовой выборке"
   ]
  },
  {
   "cell_type": "code",
   "execution_count": 52,
   "metadata": {},
   "outputs": [
    {
     "name": "stdout",
     "output_type": "stream",
     "text": [
      "Размер target_test_rougher (5290,)\n",
      "Размер features_test_rougher (5290, 52)\n",
      "Размер target_train_rougher (14144,)\n",
      "Размер features_train_rougher (14144, 52)\n"
     ]
    }
   ],
   "source": [
    "target_test = data_test['rougher.output.recovery'] # Целевой признак\n",
    "features_test = data_test.drop(columns = ['rougher.output.recovery', 'final.output.recovery'], axis = 1) # Признаки\n",
    "\n",
    "target_train = data_train['rougher.output.recovery'] # Целевой признак\n",
    "features_train = data_train.drop(columns = ['rougher.output.recovery', 'final.output.recovery'], axis = 1) # Признаки\n",
    "print('Размер target_test_rougher', target_test.shape)\n",
    "print('Размер features_test_rougher', features_test.shape)\n",
    "print('Размер target_train_rougher', target_train.shape)\n",
    "print('Размер features_train_rougher', features_train.shape)"
   ]
  },
  {
   "cell_type": "markdown",
   "metadata": {},
   "source": [
    "Сделаем предсказания на тестовых признаках и вычислим метрику sMAPE rougher.output.recovery"
   ]
  },
  {
   "cell_type": "code",
   "execution_count": 53,
   "metadata": {},
   "outputs": [
    {
     "name": "stdout",
     "output_type": "stream",
     "text": [
      "Метрика sMAPE_rougher: 11.46019434781976\n"
     ]
    }
   ],
   "source": [
    "predicted_test = model_forest.predict(features_test)\n",
    "sMAPE_rougher = sMAPE(target_test, predicted_test)\n",
    "print('Метрика sMAPE_rougher:' , sMAPE_rougher)"
   ]
  },
  {
   "cell_type": "code",
   "execution_count": 54,
   "metadata": {},
   "outputs": [
    {
     "name": "stdout",
     "output_type": "stream",
     "text": [
      "Константная модель Метрика sMAPE rougher: 8.628662163379941\n"
     ]
    }
   ],
   "source": [
    "predicted_rougher_constant = pd.Series(target_train.median(), index = target_test.index)\n",
    "sMAPE_rougher_constant = sMAPE(target_test, predicted_rougher_constant)\n",
    "print('Константная модель Метрика sMAPE rougher:', sMAPE_rougher_constant)"
   ]
  },
  {
   "cell_type": "markdown",
   "metadata": {},
   "source": [
    "#### Вывод \n",
    "\n",
    "Качество модели немного хуже, чем метрика константной модели"
   ]
  },
  {
   "cell_type": "markdown",
   "metadata": {},
   "source": [
    "#### 3.2.2. Спрогнозируем эффективность обогащения финального концентрата final.output.recovery"
   ]
  },
  {
   "cell_type": "markdown",
   "metadata": {},
   "source": [
    "Разделим обучающую выборку на целевой признак и признаки"
   ]
  },
  {
   "cell_type": "code",
   "execution_count": 55,
   "metadata": {},
   "outputs": [],
   "source": [
    "target = data_train['final.output.recovery'] # Целевой признак\n",
    "features = data_train.drop(columns = ['rougher.output.recovery', 'final.output.recovery'], axis = 1) # Признаки\n",
    "\n",
    "\n",
    "# Разделим выборку датасет train на тренировочную и валидационную выборки\n",
    "features_train, features_valid, target_train, target_valid = train_test_split(\n",
    "    features, target, test_size = 0.25, random_state = 12345)"
   ]
  },
  {
   "cell_type": "code",
   "execution_count": 56,
   "metadata": {},
   "outputs": [
    {
     "name": "stdout",
     "output_type": "stream",
     "text": [
      "Размер выборки до разделения на целевой признак и признаки (14144, 54)\n",
      "Размер таблицы целевого признака (10608,)\n",
      "Размер таблицы признаков (10608, 52)\n",
      "Размер таблицы целевого признака валидация (3536,)\n",
      "Размер таблицы признаков валидации (3536, 52)\n"
     ]
    }
   ],
   "source": [
    "# проверим корректность разделения\n",
    "print('Размер выборки до разделения на целевой признак и признаки', data_train.shape)\n",
    "print('Размер таблицы целевого признака', target_train.shape)\n",
    "print('Размер таблицы признаков', features_train.shape)\n",
    "print('Размер таблицы целевого признака валидация', target_valid.shape)\n",
    "print('Размер таблицы признаков валидации', features_valid.shape)"
   ]
  },
  {
   "cell_type": "markdown",
   "metadata": {},
   "source": [
    "Подберем гиперпараметры и обучим модель Решающее дерево для регрессии DecisionTreeRegressor "
   ]
  },
  {
   "cell_type": "code",
   "execution_count": 57,
   "metadata": {},
   "outputs": [
    {
     "name": "stdout",
     "output_type": "stream",
     "text": [
      "Fitting 4 folds for each of 10 candidates, totalling 40 fits\n",
      "\n",
      "Результат для модели Решающее дерево \n",
      "\n",
      "Лучшие параметры: {'min_samples_split': 5, 'max_leaf_nodes': 30, 'max_features': 'auto', 'max_depth': 12, 'criterion': 'mse'}\n",
      "\n",
      "Лучший результат sMAPE_rougher: 9.3052\n"
     ]
    }
   ],
   "source": [
    "# <сетка гиперпараметров, по которой будет происходит случайный поиск>\n",
    "param_grid = {\n",
    "    'max_depth': [None] + list(np.arange(2, 21,2).astype(int)),\n",
    "    'max_features': ['auto', 'sqrt', None],\n",
    "    'criterion': ['mse', 'mae'],\n",
    "    'max_leaf_nodes': [None] + list(np.arange(10, 101, 10).astype(int)),\n",
    "    'min_samples_split': [2, 5, 10]\n",
    "}\n",
    "\n",
    "# <дерево принятия решений к которому будем подбирать параметры>\n",
    "estimator = DecisionTreeRegressor(random_state = 12345)\n",
    "\n",
    "# <модель>\n",
    "grid = RandomizedSearchCV(estimator, param_grid, cv=4, verbose=10, scoring = score_sMAPE, n_jobs=-1)\n",
    "\n",
    "# <обучаем модель> \n",
    "grid.fit(features_train, target_train)\n",
    "\n",
    "print()\n",
    "print(\"Результат для модели Решающее дерево \")\n",
    "print()\n",
    "print(f'Лучшие параметры: {grid.best_params_}')\n",
    "print()\n",
    "print(f'Лучший результат sMAPE_rougher: {round(grid.best_score_, 4)}')"
   ]
  },
  {
   "cell_type": "markdown",
   "metadata": {},
   "source": [
    "Подберем гиперпараметры и обучим модель Случайный лес для регрессии RandomForestRegressor"
   ]
  },
  {
   "cell_type": "code",
   "execution_count": 58,
   "metadata": {},
   "outputs": [
    {
     "name": "stdout",
     "output_type": "stream",
     "text": [
      "Fitting 4 folds for each of 10 candidates, totalling 40 fits\n",
      "\n",
      "Результат для модели Случайный лес\n",
      "\n",
      "Лучшие параметры: {'n_estimators': 88, 'min_samples_split': 10, 'max_leaf_nodes': 10, 'max_features': None, 'max_depth': 10, 'bootstrap': False}\n",
      "\n",
      "Лучший результат sMAPE_rougher: 9.5293\n"
     ]
    }
   ],
   "source": [
    "# <сетка гиперпараметров, по которой будет происходит случайный поиск>\n",
    "param_grid = {\n",
    "    'n_estimators': list(np.arange(2, 101, 2).astype(int)),\n",
    "    'max_depth': [None] + list(np.arange(2, 21,2).astype(int)),\n",
    "    'max_features': ['auto', 'sqrt', None],\n",
    "    'max_leaf_nodes': [None] + list(np.arange(10, 101, 10).astype(int)),\n",
    "    'min_samples_split': [2, 5, 10],\n",
    "    'bootstrap': [True, False]\n",
    "}\n",
    "\n",
    "# <случайный лес к которому будем подбирать параметры>\n",
    "estimator = RandomForestRegressor(random_state = 12345)\n",
    "\n",
    "# <модель>\n",
    "grid = RandomizedSearchCV(estimator, param_grid, cv=4, verbose=10, scoring = score_sMAPE, n_jobs=-1)\n",
    "\n",
    "# <обучаем модель> \n",
    "grid.fit(features_train, target_train)\n",
    "\n",
    "print()\n",
    "print(\"Результат для модели Случайный лес\")\n",
    "print()\n",
    "print(f'Лучшие параметры: {grid.best_params_}')\n",
    "print()\n",
    "print(f'Лучший результат sMAPE_rougher: {round(grid.best_score_, 4)}')"
   ]
  },
  {
   "cell_type": "markdown",
   "metadata": {},
   "source": [
    "Подберем гиперпараметры и обучим модель Линейная регрессия LinearRegression"
   ]
  },
  {
   "cell_type": "code",
   "execution_count": 59,
   "metadata": {},
   "outputs": [
    {
     "name": "stdout",
     "output_type": "stream",
     "text": [
      "Fitting 5 folds for each of 4 candidates, totalling 20 fits\n",
      "\n",
      "Результат для модели Линейная регрессия\n",
      "\n",
      "Лучшие параметры: {'normalize': True, 'fit_intercept': False}\n",
      "\n",
      "Лучший результат sMAPE_rougher: 9.1986\n"
     ]
    }
   ],
   "source": [
    "# <сетка гиперпараметров, по которой будет происходит случайный поиск>\n",
    "param_grid = {'fit_intercept': [True, False], \n",
    "                  'normalize': [True, False]                  \n",
    "}\n",
    "\n",
    "# <случайный лес к которому будем подбирать параметры>\n",
    "estimator = LinearRegression()\n",
    "\n",
    "# <модель>\n",
    "grid = RandomizedSearchCV(estimator, param_grid, verbose=10, scoring = score_sMAPE, n_jobs=-1)\n",
    "\n",
    "# <обучаем модель> \n",
    "grid.fit(features_train, target_train)\n",
    "\n",
    "print()\n",
    "print(\"Результат для модели Линейная регрессия\")\n",
    "print()\n",
    "print(f'Лучшие параметры: {grid.best_params_}')\n",
    "print()\n",
    "print(f'Лучший результат sMAPE_rougher: {round(grid.best_score_, 4)}')"
   ]
  },
  {
   "cell_type": "markdown",
   "metadata": {},
   "source": [
    "Подберем лучшую модель для прогноза обогащения финального концентрата final.output.recovery"
   ]
  },
  {
   "cell_type": "code",
   "execution_count": 60,
   "metadata": {},
   "outputs": [
    {
     "name": "stdout",
     "output_type": "stream",
     "text": [
      "\n",
      "Расчеты на модели DecisionTreeRegressor - Дерево решений для регрессии на черновом концентрате\n",
      "Метрика sMAPE на модели DecisionTreeRegressor by cross_val_score: 10.5297\n",
      "Метрика sMAPE на модели DecisionTreeRegressor by fit-predict: 9.454\n"
     ]
    }
   ],
   "source": [
    "# DecisionTreeRegressor\n",
    "print()\n",
    "print('Расчеты на модели DecisionTreeRegressor - Дерево решений для регрессии на черновом концентрате')\n",
    "\n",
    "model_tree = DecisionTreeRegressor(criterion='mse', max_depth=2, max_features=None,\n",
    "                      max_leaf_nodes=100, min_samples_split=2,\n",
    "                      random_state=12345)\n",
    "\n",
    "# Перекрестная проверка кросс-валидация CV\n",
    "score_sMAPE = make_scorer(sMAPE, greater_is_better = True)\n",
    "score = cross_val_score(model_tree, features, target, cv = 5, scoring = score_sMAPE).sum() / 5\n",
    "print(f'Метрика sMAPE на модели DecisionTreeRegressor by cross_val_score: {round(score, 4)}')\n",
    "\n",
    "# Fit - predict\n",
    "model_tree.fit(features_train, target_train)\n",
    "predictions_rougher = model_tree.predict(features_valid)\n",
    "sMAPE_rougher = sMAPE(target_valid, predictions_rougher)\n",
    "print(f'Метрика sMAPE на модели DecisionTreeRegressor by fit-predict: {round(sMAPE_rougher, 4)}')"
   ]
  },
  {
   "cell_type": "code",
   "execution_count": 61,
   "metadata": {},
   "outputs": [
    {
     "name": "stdout",
     "output_type": "stream",
     "text": [
      "\n",
      "Расчеты на модели RandomForestRegressor - Случаный лес для регрессии на черновом концентрате\n",
      "Метрика sMAPE на модели RandomForestRegressor by cross_val_score: 10.4361\n",
      "Метрика sMAPE на модели RandomForestRegressor by fit-predict: 9.3688\n"
     ]
    }
   ],
   "source": [
    "# RandomForestRegressor\n",
    "print()\n",
    "print('Расчеты на модели RandomForestRegressor - Случаный лес для регрессии на черновом концентрате')\n",
    "model_forest = RandomForestRegressor(max_depth=2, n_estimators=30, min_samples_split=5, max_leaf_nodes=40, \n",
    "                            max_features='sqrt', bootstrap=True, random_state=12345)\n",
    "                   \n",
    "# Перекрестная проверка кросс-валидация CV\n",
    "score_sMAPE = make_scorer(sMAPE, greater_is_better = True)\n",
    "score = cross_val_score(model_forest, features, target, cv = 5, scoring = score_sMAPE).sum() / 5\n",
    "print(f'Метрика sMAPE на модели RandomForestRegressor by cross_val_score: {round(score, 4)}')\n",
    "\n",
    "# Fit - predict\n",
    "model_forest.fit(features_train, target_train)\n",
    "predictions_rougher = model_forest.predict(features_valid)\n",
    "sMAPE_rougher = sMAPE(target_valid, predictions_rougher)\n",
    "print(f'Метрика sMAPE на модели RandomForestRegressor by fit-predict: {round(sMAPE_rougher, 4)}')"
   ]
  },
  {
   "cell_type": "code",
   "execution_count": 62,
   "metadata": {
    "scrolled": true
   },
   "outputs": [
    {
     "name": "stdout",
     "output_type": "stream",
     "text": [
      "\n",
      "Расчеты на модели LinearRegression - Линейная регрессия на черновом концентрате\n",
      "Метрика sMAPE на модели LinearRegression by cross_val_score: 12.031\n",
      "Метрика sMAPE на модели LinearRegression by fit-predict: 8.7569\n"
     ]
    }
   ],
   "source": [
    "# LinearRegression\n",
    "print()\n",
    "print('Расчеты на модели LinearRegression - Линейная регрессия на черновом концентрате')\n",
    "\n",
    "model_linear = LinearRegression(normalize=True, fit_intercept=False)\n",
    "\n",
    "# Перекрестная проверка кросс-валидация CV\n",
    "score_sMAPE = make_scorer(sMAPE, greater_is_better = True)\n",
    "score = cross_val_score(model_linear, features, target, cv = 5, scoring = score_sMAPE).sum() / 5\n",
    "print(f'Метрика sMAPE на модели LinearRegression by cross_val_score: {round(score, 4)}')\n",
    "\n",
    "# Fit - predict\n",
    "model_linear.fit(features_train, target_train)\n",
    "predictions_rougher = model_linear.predict(features_valid)\n",
    "sMAPE_rougher = sMAPE(target_valid, predictions_rougher)\n",
    "print(f'Метрика sMAPE на модели LinearRegression by fit-predict: {round(sMAPE_rougher, 4)}')"
   ]
  },
  {
   "cell_type": "markdown",
   "metadata": {},
   "source": [
    "#### Снова лучший результат на модели Случаный лес для регрессии - RandomForestRegressor "
   ]
  },
  {
   "cell_type": "markdown",
   "metadata": {},
   "source": [
    "Проверим лучшую модель на тестовой выборке"
   ]
  },
  {
   "cell_type": "code",
   "execution_count": 63,
   "metadata": {},
   "outputs": [
    {
     "name": "stdout",
     "output_type": "stream",
     "text": [
      "Размер target_test (5290,)\n",
      "Размер features_test (5290, 52)\n",
      "Размер target_train (14144,)\n",
      "Размер features_train (14144, 52)\n"
     ]
    }
   ],
   "source": [
    "target_test = data_test['final.output.recovery'] # Целевой признак\n",
    "features_test = data_test.drop(columns = ['rougher.output.recovery', 'final.output.recovery'], axis = 1) # Признаки\n",
    "\n",
    "target_train = data_train['final.output.recovery'] # Целевой признак\n",
    "features_train = data_train.drop(columns = ['rougher.output.recovery', 'final.output.recovery'], axis = 1) # Признаки\n",
    "\n",
    "print('Размер target_test', target_test.shape)\n",
    "print('Размер features_test', features_test.shape)\n",
    "print('Размер target_train', target_train.shape)\n",
    "print('Размер features_train', features_train.shape)"
   ]
  },
  {
   "cell_type": "code",
   "execution_count": 64,
   "metadata": {},
   "outputs": [
    {
     "name": "stdout",
     "output_type": "stream",
     "text": [
      "Метрика sMAPE_final: 9.267938190453062\n"
     ]
    }
   ],
   "source": [
    "predicted_test = model_forest.predict(features_test)\n",
    "sMAPE_final = sMAPE(target_test, predicted_test)\n",
    "print('Метрика sMAPE_final:' , sMAPE_final)"
   ]
  },
  {
   "cell_type": "code",
   "execution_count": 65,
   "metadata": {},
   "outputs": [
    {
     "name": "stdout",
     "output_type": "stream",
     "text": [
      "Метрика sMAPE final для константной модели: 9.765139297160315\n"
     ]
    }
   ],
   "source": [
    "predicted_final_constant = pd.Series(target_train.median(), index = target_test.index)\n",
    "sMAPE_final_constant = sMAPE(target_test, predicted_final_constant)\n",
    "print('Метрика sMAPE final для константной модели:', sMAPE_final_constant)"
   ]
  },
  {
   "cell_type": "markdown",
   "metadata": {},
   "source": [
    "#### Вывод \n",
    "\n",
    "Метрика предсказаний лучше, чем константная модель"
   ]
  },
  {
   "cell_type": "markdown",
   "metadata": {},
   "source": [
    "Итоговая метрика"
   ]
  },
  {
   "cell_type": "code",
   "execution_count": 66,
   "metadata": {},
   "outputs": [
    {
     "name": "stdout",
     "output_type": "stream",
     "text": [
      "Итоговая метрика sMAPE: 9.14017077535231\n"
     ]
    }
   ],
   "source": [
    "print('Итоговая метрика sMAPE:', func_total_sMAPE(sMAPE_rougher, sMAPE_final))"
   ]
  },
  {
   "cell_type": "code",
   "execution_count": 67,
   "metadata": {},
   "outputs": [
    {
     "name": "stdout",
     "output_type": "stream",
     "text": [
      "Итоговая метрика sMAPE для константной модели: 9.481020013715222\n"
     ]
    }
   ],
   "source": [
    "print('Итоговая метрика sMAPE для константной модели:', func_total_sMAPE(sMAPE_rougher_constant, sMAPE_final_constant))"
   ]
  },
  {
   "cell_type": "markdown",
   "metadata": {},
   "source": [
    "#### Вывод \n",
    "\n",
    "Итоговая метрика sMAPE  лучше, чем у константной модели"
   ]
  },
  {
   "cell_type": "markdown",
   "metadata": {},
   "source": [
    "### Итоговый вывод\n",
    "\n",
    "Проверили данные на корректность\n",
    "\n",
    "Сделали предобработку данных\n",
    "\n",
    "Провели анализ данных в выборках и выяснили, как меняется концентрация металлов в разных стадиях очистки\n",
    "\n",
    "Нашли аномалии в данных и убрали их\n",
    "\n",
    "Подобрали оптимальную модель, проверили её на тестовой выборке\n",
    "\n",
    "Рассчитали метрику оченки качества модели sMAPE на целевых признаках: эффективность обогащения чернового концентрата и эффективность обогащения финального концентрата\n",
    "\n",
    "Вычислили итоговую метрику качества моделирования технологического процесса по обогащению золота sMAPE: 9.14"
   ]
  }
 ],
 "metadata": {
  "ExecuteTimeLog": [
   {
    "duration": 1628,
    "start_time": "2022-08-16T10:10:46.571Z"
   },
   {
    "duration": 127,
    "start_time": "2022-08-16T10:10:48.201Z"
   },
   {
    "duration": 457,
    "start_time": "2022-08-16T10:11:22.449Z"
   },
   {
    "duration": 17,
    "start_time": "2022-08-16T10:11:30.912Z"
   },
   {
    "duration": 17,
    "start_time": "2022-08-16T10:11:37.929Z"
   },
   {
    "duration": 18,
    "start_time": "2022-08-16T10:11:41.285Z"
   },
   {
    "duration": 52,
    "start_time": "2022-08-16T10:12:05.107Z"
   }
  ],
  "kernelspec": {
   "display_name": "Python 3 (ipykernel)",
   "language": "python",
   "name": "python3"
  },
  "language_info": {
   "codemirror_mode": {
    "name": "ipython",
    "version": 3
   },
   "file_extension": ".py",
   "mimetype": "text/x-python",
   "name": "python",
   "nbconvert_exporter": "python",
   "pygments_lexer": "ipython3",
   "version": "3.9.7"
  },
  "toc": {
   "base_numbering": 1,
   "nav_menu": {},
   "number_sections": true,
   "sideBar": true,
   "skip_h1_title": true,
   "title_cell": "Table of Contents",
   "title_sidebar": "Contents",
   "toc_cell": false,
   "toc_position": {},
   "toc_section_display": true,
   "toc_window_display": false
  }
 },
 "nbformat": 4,
 "nbformat_minor": 2
}
