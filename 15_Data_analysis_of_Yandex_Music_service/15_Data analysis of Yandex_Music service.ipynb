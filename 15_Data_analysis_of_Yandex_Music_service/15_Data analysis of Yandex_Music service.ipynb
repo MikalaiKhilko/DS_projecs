{
 "cells": [
  {
   "cell_type": "markdown",
   "metadata": {
    "id": "E0vqbgi9ay0H"
   },
   "source": [
    "## Исследование данных сервиса “Яндекс.Музыка” — сравнение пользователей двух городов"
   ]
  },
  {
   "cell_type": "markdown",
   "metadata": {
    "id": "VUC88oWjTJw2"
   },
   "source": [
    "Сравнение Москвы и Петербурга окружено мифами. Например:\n",
    " * Москва — мегаполис, подчинённый жёсткому ритму рабочей недели;\n",
    " * Петербург — культурная столица, со своими вкусами.\n",
    "\n",
    "На данных Яндекс.Музыки в проекте будем сравнивать поведение пользователей двух столиц.\n",
    "\n",
    "**Цель исследования** — проверить три гипотезы:\n",
    "1. Активность пользователей зависит от дня недели. Причём в Москве и Петербурге это проявляется по-разному.\n",
    "2. В понедельник утром в Москве преобладают одни жанры, а в Петербурге — другие. Так же и вечером пятницы преобладают разные жанры — в зависимости от города. \n",
    "3. Москва и Петербург предпочитают разные жанры музыки. В Москве чаще слушают поп-музыку, в Петербурге — русский рэп.\n",
    "\n",
    "**Ход исследования**\n",
    "\n",
    "Данные о поведении пользователей получены из файла `yandex_music_project.csv`. О качестве данных ничего не известно. Поэтому перед проверкой гипотез понадобится обзор данных. \n",
    "\n",
    "Необходимо проверить данные на ошибки и оценить их влияние на исследование. Затем, на этапе предобработки найти возможность исправить самые критичные ошибки данных.\n",
    " \n",
    "Таким образом, исследование пройдёт в три этапа:\n",
    " 1. Обзор данных\n",
    " 2. Предобработка данных\n",
    " 3. Проверка гипотез"
   ]
  },
  {
   "cell_type": "markdown",
   "metadata": {
    "id": "Ml1hmfXC_Zcs"
   },
   "source": [
    "## Обзор данных\n",
    "\n",
    "Составим первое представление о данных Яндекс.Музыки."
   ]
  },
  {
   "cell_type": "code",
   "execution_count": 1,
   "metadata": {
    "id": "AXN7PHPN_Zcs"
   },
   "outputs": [],
   "source": [
    "import pandas as pd"
   ]
  },
  {
   "cell_type": "code",
   "execution_count": 2,
   "metadata": {
    "id": "fFVu7vqh_Zct"
   },
   "outputs": [],
   "source": [
    "df = pd.read_csv('/datasets/music_project.csv') # чтение файла с данными и сохранение в df\n",
    "#df = pd.read_csv('/Users/Mikalai/Documents/Data Science/Project Muzyka 2/yandex_music_project.csv') "
   ]
  },
  {
   "cell_type": "code",
   "execution_count": 3,
   "metadata": {
    "id": "oWTVX3gW_Zct"
   },
   "outputs": [
    {
     "data": {
      "text/html": [
       "<div>\n",
       "<style scoped>\n",
       "    .dataframe tbody tr th:only-of-type {\n",
       "        vertical-align: middle;\n",
       "    }\n",
       "\n",
       "    .dataframe tbody tr th {\n",
       "        vertical-align: top;\n",
       "    }\n",
       "\n",
       "    .dataframe thead th {\n",
       "        text-align: right;\n",
       "    }\n",
       "</style>\n",
       "<table border=\"1\" class=\"dataframe\">\n",
       "  <thead>\n",
       "    <tr style=\"text-align: right;\">\n",
       "      <th></th>\n",
       "      <th>userID</th>\n",
       "      <th>Track</th>\n",
       "      <th>artist</th>\n",
       "      <th>genre</th>\n",
       "      <th>City</th>\n",
       "      <th>time</th>\n",
       "      <th>Day</th>\n",
       "    </tr>\n",
       "  </thead>\n",
       "  <tbody>\n",
       "    <tr>\n",
       "      <th>0</th>\n",
       "      <td>FFB692EC</td>\n",
       "      <td>Kamigata To Boots</td>\n",
       "      <td>The Mass Missile</td>\n",
       "      <td>rock</td>\n",
       "      <td>Saint-Petersburg</td>\n",
       "      <td>20:28:33</td>\n",
       "      <td>Wednesday</td>\n",
       "    </tr>\n",
       "    <tr>\n",
       "      <th>1</th>\n",
       "      <td>55204538</td>\n",
       "      <td>Delayed Because of Accident</td>\n",
       "      <td>Andreas Rönnberg</td>\n",
       "      <td>rock</td>\n",
       "      <td>Moscow</td>\n",
       "      <td>14:07:09</td>\n",
       "      <td>Friday</td>\n",
       "    </tr>\n",
       "    <tr>\n",
       "      <th>2</th>\n",
       "      <td>20EC38</td>\n",
       "      <td>Funiculì funiculà</td>\n",
       "      <td>Mario Lanza</td>\n",
       "      <td>pop</td>\n",
       "      <td>Saint-Petersburg</td>\n",
       "      <td>20:58:07</td>\n",
       "      <td>Wednesday</td>\n",
       "    </tr>\n",
       "    <tr>\n",
       "      <th>3</th>\n",
       "      <td>A3DD03C9</td>\n",
       "      <td>Dragons in the Sunset</td>\n",
       "      <td>Fire + Ice</td>\n",
       "      <td>folk</td>\n",
       "      <td>Saint-Petersburg</td>\n",
       "      <td>08:37:09</td>\n",
       "      <td>Monday</td>\n",
       "    </tr>\n",
       "    <tr>\n",
       "      <th>4</th>\n",
       "      <td>E2DC1FAE</td>\n",
       "      <td>Soul People</td>\n",
       "      <td>Space Echo</td>\n",
       "      <td>dance</td>\n",
       "      <td>Moscow</td>\n",
       "      <td>08:34:34</td>\n",
       "      <td>Monday</td>\n",
       "    </tr>\n",
       "    <tr>\n",
       "      <th>5</th>\n",
       "      <td>842029A1</td>\n",
       "      <td>Преданная</td>\n",
       "      <td>IMPERVTOR</td>\n",
       "      <td>rusrap</td>\n",
       "      <td>Saint-Petersburg</td>\n",
       "      <td>13:09:41</td>\n",
       "      <td>Friday</td>\n",
       "    </tr>\n",
       "    <tr>\n",
       "      <th>6</th>\n",
       "      <td>4CB90AA5</td>\n",
       "      <td>True</td>\n",
       "      <td>Roman Messer</td>\n",
       "      <td>dance</td>\n",
       "      <td>Moscow</td>\n",
       "      <td>13:00:07</td>\n",
       "      <td>Wednesday</td>\n",
       "    </tr>\n",
       "    <tr>\n",
       "      <th>7</th>\n",
       "      <td>F03E1C1F</td>\n",
       "      <td>Feeling This Way</td>\n",
       "      <td>Polina Griffith</td>\n",
       "      <td>dance</td>\n",
       "      <td>Moscow</td>\n",
       "      <td>20:47:49</td>\n",
       "      <td>Wednesday</td>\n",
       "    </tr>\n",
       "    <tr>\n",
       "      <th>8</th>\n",
       "      <td>8FA1D3BE</td>\n",
       "      <td>И вновь продолжается бой</td>\n",
       "      <td>NaN</td>\n",
       "      <td>ruspop</td>\n",
       "      <td>Moscow</td>\n",
       "      <td>09:17:40</td>\n",
       "      <td>Friday</td>\n",
       "    </tr>\n",
       "    <tr>\n",
       "      <th>9</th>\n",
       "      <td>E772D5C0</td>\n",
       "      <td>Pessimist</td>\n",
       "      <td>NaN</td>\n",
       "      <td>dance</td>\n",
       "      <td>Saint-Petersburg</td>\n",
       "      <td>21:20:49</td>\n",
       "      <td>Wednesday</td>\n",
       "    </tr>\n",
       "  </tbody>\n",
       "</table>\n",
       "</div>"
      ],
      "text/plain": [
       "     userID                        Track            artist   genre  \\\n",
       "0  FFB692EC            Kamigata To Boots  The Mass Missile    rock   \n",
       "1  55204538  Delayed Because of Accident  Andreas Rönnberg    rock   \n",
       "2    20EC38            Funiculì funiculà       Mario Lanza     pop   \n",
       "3  A3DD03C9        Dragons in the Sunset        Fire + Ice    folk   \n",
       "4  E2DC1FAE                  Soul People        Space Echo   dance   \n",
       "5  842029A1                    Преданная         IMPERVTOR  rusrap   \n",
       "6  4CB90AA5                         True      Roman Messer   dance   \n",
       "7  F03E1C1F             Feeling This Way   Polina Griffith   dance   \n",
       "8  8FA1D3BE     И вновь продолжается бой               NaN  ruspop   \n",
       "9  E772D5C0                    Pessimist               NaN   dance   \n",
       "\n",
       "             City        time        Day  \n",
       "0  Saint-Petersburg  20:28:33  Wednesday  \n",
       "1            Moscow  14:07:09     Friday  \n",
       "2  Saint-Petersburg  20:58:07  Wednesday  \n",
       "3  Saint-Petersburg  08:37:09     Monday  \n",
       "4            Moscow  08:34:34     Monday  \n",
       "5  Saint-Petersburg  13:09:41     Friday  \n",
       "6            Moscow  13:00:07  Wednesday  \n",
       "7            Moscow  20:47:49  Wednesday  \n",
       "8            Moscow  09:17:40     Friday  \n",
       "9  Saint-Petersburg  21:20:49  Wednesday  "
      ]
     },
     "execution_count": 3,
     "metadata": {},
     "output_type": "execute_result"
    }
   ],
   "source": [
    "df.head(10) # получение первых 10 строк таблицы df"
   ]
  },
  {
   "cell_type": "code",
   "execution_count": 4,
   "metadata": {
    "id": "DSf2kIb-_Zct"
   },
   "outputs": [
    {
     "name": "stdout",
     "output_type": "stream",
     "text": [
      "<class 'pandas.core.frame.DataFrame'>\n",
      "RangeIndex: 65079 entries, 0 to 65078\n",
      "Data columns (total 7 columns):\n",
      " #   Column    Non-Null Count  Dtype \n",
      "---  ------    --------------  ----- \n",
      " 0     userID  65079 non-null  object\n",
      " 1   Track     63848 non-null  object\n",
      " 2   artist    57876 non-null  object\n",
      " 3   genre     63881 non-null  object\n",
      " 4     City    65079 non-null  object\n",
      " 5   time      65079 non-null  object\n",
      " 6   Day       65079 non-null  object\n",
      "dtypes: object(7)\n",
      "memory usage: 3.5+ MB\n"
     ]
    }
   ],
   "source": [
    "df.info() # получение общей информации о данных в таблице df"
   ]
  },
  {
   "cell_type": "markdown",
   "metadata": {
    "id": "TaQ2Iwbr_Zct"
   },
   "source": [
    "Итак, в таблице семь столбцов. Тип данных во всех столбцах — `object`.\n",
    "\n",
    "Согласно документации к данным:\n",
    "* `userID` — идентификатор пользователя;\n",
    "* `Track` — название трека;  \n",
    "* `artist` — имя исполнителя;\n",
    "* `genre` — название жанра;\n",
    "* `City` — город пользователя;\n",
    "* `time` — время начала прослушивания;\n",
    "* `Day` — день недели.\n",
    "\n",
    "В названиях колонок видны три нарушения стиля:\n",
    "1. Строчные буквы сочетаются с прописными.\n",
    "2. Встречаются пробелы.\n",
    "3. Не использована форма записи «змеиный регистр» когда название колонки состоит из нескольких слов.\n",
    "\n",
    "\n",
    "\n",
    "Количество значений в столбцах различается. Значит, в данных есть пропущенные значения.\n"
   ]
  },
  {
   "cell_type": "markdown",
   "metadata": {
    "id": "MCB6-dXG_Zct"
   },
   "source": [
    "**Выводы**\n",
    "\n",
    "В каждой строке таблицы — данные о прослушанном треке. Часть колонок описывает саму композицию: название, исполнителя и жанр. Остальные данные рассказывают о пользователе: из какого он города, когда он слушал музыку. \n",
    "\n",
    "Предварительно можно утверждать, что, данных достаточно для проверки гипотез. Но встречаются пропуски в данных, а в названиях колонок — расхождения с хорошим стилем.\n",
    "\n",
    "Чтобы двигаться дальше, нужно устранить проблемы в данных."
   ]
  },
  {
   "cell_type": "markdown",
   "metadata": {
    "id": "SjYF6Ub9_Zct"
   },
   "source": [
    "## Предобработка данных"
   ]
  },
  {
   "cell_type": "markdown",
   "metadata": {
    "id": "dIaKXr29_Zct"
   },
   "source": [
    "### Стиль заголовков\n",
    "Выведем на экран названия столбцов:"
   ]
  },
  {
   "cell_type": "code",
   "execution_count": 5,
   "metadata": {
    "id": "oKOTdF_Q_Zct"
   },
   "outputs": [
    {
     "data": {
      "text/plain": [
       "Index(['  userID', 'Track', 'artist', 'genre', '  City  ', 'time', 'Day'], dtype='object')"
      ]
     },
     "execution_count": 5,
     "metadata": {},
     "output_type": "execute_result"
    }
   ],
   "source": [
    "df.columns # перечень названий столбцов таблицы df"
   ]
  },
  {
   "cell_type": "markdown",
   "metadata": {
    "id": "zj5534cv_Zct"
   },
   "source": [
    "Приведем названия в соответствие с хорошим стилем:\n",
    "* несколько слов в названии запишите в «змеином_регистре»,\n",
    "* все символы сделайте строчными,\n",
    "* устраните пробелы.\n",
    "\n",
    "Для этого переименуем колонки так:\n",
    "* `'  userID'` → `'user_id'`;\n",
    "* `'Track'` → `'track'`;\n",
    "* `'  City  '` → `'city'`;\n",
    "* `'Day'` → `'day'`."
   ]
  },
  {
   "cell_type": "code",
   "execution_count": 6,
   "metadata": {
    "id": "ISlFqs5y_Zct"
   },
   "outputs": [],
   "source": [
    "df = df.rename(columns={'  userID': 'user_id', 'Track': 'track', '  City  ': 'city', 'Day': 'day'}) # переименование столбцов"
   ]
  },
  {
   "cell_type": "markdown",
   "metadata": {
    "id": "1dqbh00J_Zct"
   },
   "source": [
    "Проверим результат. Для этого ещё раз выведем на экран названия столбцов:"
   ]
  },
  {
   "cell_type": "code",
   "execution_count": 7,
   "metadata": {
    "id": "d4NOAmTW_Zct"
   },
   "outputs": [
    {
     "data": {
      "text/plain": [
       "Index(['user_id', 'track', 'artist', 'genre', 'city', 'time', 'day'], dtype='object')"
      ]
     },
     "execution_count": 7,
     "metadata": {},
     "output_type": "execute_result"
    }
   ],
   "source": [
    "df.columns # проверка результатов - перечень названий столбцов"
   ]
  },
  {
   "cell_type": "markdown",
   "metadata": {
    "id": "5ISfbcfY_Zct"
   },
   "source": [
    "### Пропуски значений"
   ]
  },
  {
   "cell_type": "code",
   "execution_count": 8,
   "metadata": {
    "id": "RskX29qr_Zct"
   },
   "outputs": [
    {
     "data": {
      "text/plain": [
       "user_id       0\n",
       "track      1231\n",
       "artist     7203\n",
       "genre      1198\n",
       "city          0\n",
       "time          0\n",
       "day           0\n",
       "dtype: int64"
      ]
     },
     "execution_count": 8,
     "metadata": {},
     "output_type": "execute_result"
    }
   ],
   "source": [
    "df.isna().sum() # подсчёт пропусков"
   ]
  },
  {
   "cell_type": "markdown",
   "metadata": {
    "id": "qubhgnlO_Zct"
   },
   "source": [
    "Не все пропущенные значения влияют на исследование. Так в `track` и `artist` пропуски не важны для вашей работы. Достаточно заменить их явными обозначениями.\n",
    "\n",
    "Но пропуски в `genre` могут помешать сравнению музыкальных вкусов в Москве и Санкт-Петербурге. На практике было бы правильно установить причину пропусков и восстановить данные. Такой возможности нет в учебном проекте. Придётся:\n",
    "* заполнить и эти пропуски явными обозначениями,\n",
    "* оценить, насколько они повредят расчётам. "
   ]
  },
  {
   "cell_type": "markdown",
   "metadata": {
    "id": "fSv2laPA_Zct"
   },
   "source": [
    "Заменим пропущенные значения в столбцах `track`, `artist` и `genre` на строку `'unknown'`. "
   ]
  },
  {
   "cell_type": "code",
   "execution_count": 9,
   "metadata": {
    "id": "KplB5qWs_Zct"
   },
   "outputs": [],
   "source": [
    "columns_to_replace = ['track', 'artist', 'genre']\n",
    "for column in columns_to_replace:\n",
    "    df[column] = df[column].fillna('unknown') # перебор названий столбцов в цикле и замена пропущенных значений на 'unknown'"
   ]
  },
  {
   "cell_type": "markdown",
   "metadata": {
    "id": "Ilsm-MZo_Zct"
   },
   "source": [
    "Убедиися, что в таблице не осталось пропусков. Для этого ещё раз посчитаем пропущенные значения."
   ]
  },
  {
   "cell_type": "code",
   "execution_count": 10,
   "metadata": {
    "id": "Tq4nYRX4_Zct"
   },
   "outputs": [
    {
     "data": {
      "text/plain": [
       "user_id    0\n",
       "track      0\n",
       "artist     0\n",
       "genre      0\n",
       "city       0\n",
       "time       0\n",
       "day        0\n",
       "dtype: int64"
      ]
     },
     "execution_count": 10,
     "metadata": {},
     "output_type": "execute_result"
    }
   ],
   "source": [
    "df.isna().sum() # подсчёт пропусков"
   ]
  },
  {
   "cell_type": "markdown",
   "metadata": {
    "id": "BWKRtBJ3_Zct"
   },
   "source": [
    "### Дубликаты"
   ]
  },
  {
   "cell_type": "code",
   "execution_count": 11,
   "metadata": {
    "id": "36eES_S0_Zct"
   },
   "outputs": [
    {
     "data": {
      "text/plain": [
       "3826"
      ]
     },
     "execution_count": 11,
     "metadata": {},
     "output_type": "execute_result"
    }
   ],
   "source": [
    "df.duplicated().sum() # подсчёт явных дубликатов"
   ]
  },
  {
   "cell_type": "markdown",
   "metadata": {
    "id": "Ot25h6XR_Zct"
   },
   "source": [
    "Удалим явные дубликаты:"
   ]
  },
  {
   "cell_type": "code",
   "execution_count": 12,
   "metadata": {
    "id": "exFHq6tt_Zct"
   },
   "outputs": [],
   "source": [
    "df = df.drop_duplicates().reset_index(drop=True) # удаление явных дубликатов (с удалением старых индексов и формированием новых)"
   ]
  },
  {
   "cell_type": "markdown",
   "metadata": {
    "id": "Im2YwBEG_Zct"
   },
   "source": [
    "Убедимся, что полностью от дубликатов избавились:"
   ]
  },
  {
   "cell_type": "code",
   "execution_count": 13,
   "metadata": {
    "id": "-8PuNWQ0_Zct"
   },
   "outputs": [
    {
     "data": {
      "text/plain": [
       "0"
      ]
     },
     "execution_count": 13,
     "metadata": {},
     "output_type": "execute_result"
    }
   ],
   "source": [
    "df.duplicated().sum() # проверка на отсутствие дубликатов"
   ]
  },
  {
   "cell_type": "markdown",
   "metadata": {
    "id": "QlFBsxAr_Zct"
   },
   "source": [
    "Теперь избавимся от неявных дубликатов в колонке `genre`. Например, название одного и того же жанра может быть записано немного по-разному. Такие ошибки тоже повлияют на результат исследования."
   ]
  },
  {
   "cell_type": "markdown",
   "metadata": {
    "id": "eSjWwsOh_Zct"
   },
   "source": [
    "Выведем на экран список уникальных названий жанров, отсортированный в алфавитном порядке"
   ]
  },
  {
   "cell_type": "code",
   "execution_count": 14,
   "metadata": {
    "id": "JIUcqzZN_Zct"
   },
   "outputs": [
    {
     "data": {
      "text/plain": [
       "array(['acid', 'acoustic', 'action', 'adult', 'africa', 'afrikaans',\n",
       "       'alternative', 'alternativepunk', 'ambient', 'americana',\n",
       "       'animated', 'anime', 'arabesk', 'arabic', 'arena',\n",
       "       'argentinetango', 'art', 'audiobook', 'author', 'avantgarde',\n",
       "       'axé', 'baile', 'balkan', 'beats', 'bigroom', 'black', 'bluegrass',\n",
       "       'blues', 'bollywood', 'bossa', 'brazilian', 'breakbeat', 'breaks',\n",
       "       'broadway', 'cantautori', 'cantopop', 'canzone', 'caribbean',\n",
       "       'caucasian', 'celtic', 'chamber', 'chanson', 'children', 'chill',\n",
       "       'chinese', 'choral', 'christian', 'christmas', 'classical',\n",
       "       'classicmetal', 'club', 'colombian', 'comedy', 'conjazz',\n",
       "       'contemporary', 'country', 'cuban', 'dance', 'dancehall',\n",
       "       'dancepop', 'dark', 'death', 'deep', 'deutschrock', 'deutschspr',\n",
       "       'dirty', 'disco', 'dnb', 'documentary', 'downbeat', 'downtempo',\n",
       "       'drum', 'dub', 'dubstep', 'eastern', 'easy', 'electronic',\n",
       "       'electropop', 'emo', 'entehno', 'epicmetal', 'estrada', 'ethnic',\n",
       "       'eurofolk', 'european', 'experimental', 'extrememetal', 'fado',\n",
       "       'fairytail', 'film', 'fitness', 'flamenco', 'folk', 'folklore',\n",
       "       'folkmetal', 'folkrock', 'folktronica', 'forró', 'frankreich',\n",
       "       'französisch', 'french', 'funk', 'future', 'gangsta', 'garage',\n",
       "       'german', 'ghazal', 'gitarre', 'glitch', 'gospel', 'gothic',\n",
       "       'grime', 'grunge', 'gypsy', 'handsup', \"hard'n'heavy\", 'hardcore',\n",
       "       'hardstyle', 'hardtechno', 'hip', 'hip-hop', 'hiphop',\n",
       "       'historisch', 'holiday', 'hop', 'horror', 'house', 'hymn', 'idm',\n",
       "       'independent', 'indian', 'indie', 'indipop', 'industrial',\n",
       "       'inspirational', 'instrumental', 'international', 'irish', 'jam',\n",
       "       'japanese', 'jazz', 'jewish', 'jpop', 'jungle', 'k-pop',\n",
       "       'karadeniz', 'karaoke', 'kayokyoku', 'korean', 'laiko', 'latin',\n",
       "       'latino', 'leftfield', 'local', 'lounge', 'loungeelectronic',\n",
       "       'lovers', 'malaysian', 'mandopop', 'marschmusik', 'meditative',\n",
       "       'mediterranean', 'melodic', 'metal', 'metalcore', 'mexican',\n",
       "       'middle', 'minimal', 'miscellaneous', 'modern', 'mood', 'mpb',\n",
       "       'muslim', 'native', 'neoklassik', 'neue', 'new', 'newage',\n",
       "       'newwave', 'nu', 'nujazz', 'numetal', 'oceania', 'old', 'opera',\n",
       "       'orchestral', 'other', 'piano', 'podcasts', 'pop', 'popdance',\n",
       "       'popelectronic', 'popeurodance', 'poprussian', 'post',\n",
       "       'posthardcore', 'postrock', 'power', 'progmetal', 'progressive',\n",
       "       'psychedelic', 'punjabi', 'punk', 'quebecois', 'ragga', 'ram',\n",
       "       'rancheras', 'rap', 'rave', 'reggae', 'reggaeton', 'regional',\n",
       "       'relax', 'religious', 'retro', 'rhythm', 'rnb', 'rnr', 'rock',\n",
       "       'rockabilly', 'rockalternative', 'rockindie', 'rockother',\n",
       "       'romance', 'roots', 'ruspop', 'rusrap', 'rusrock', 'russian',\n",
       "       'salsa', 'samba', 'scenic', 'schlager', 'self', 'sertanejo',\n",
       "       'shanson', 'shoegazing', 'showtunes', 'singer', 'ska', 'skarock',\n",
       "       'slow', 'smooth', 'soft', 'soul', 'soulful', 'sound', 'soundtrack',\n",
       "       'southern', 'specialty', 'speech', 'spiritual', 'sport',\n",
       "       'stonerrock', 'surf', 'swing', 'synthpop', 'synthrock',\n",
       "       'sängerportrait', 'tango', 'tanzorchester', 'taraftar', 'tatar',\n",
       "       'tech', 'techno', 'teen', 'thrash', 'top', 'traditional',\n",
       "       'tradjazz', 'trance', 'tribal', 'trip', 'triphop', 'tropical',\n",
       "       'türk', 'türkçe', 'ukrrock', 'unknown', 'urban', 'uzbek',\n",
       "       'variété', 'vi', 'videogame', 'vocal', 'western', 'world',\n",
       "       'worldbeat', 'ïîï', 'электроника'], dtype=object)"
      ]
     },
     "execution_count": 14,
     "metadata": {},
     "output_type": "execute_result"
    }
   ],
   "source": [
    "df['genre'].sort_values().unique() # Просмотр уникальных названий жанров"
   ]
  },
  {
   "cell_type": "markdown",
   "metadata": {
    "id": "qej-Qmuo_Zct"
   },
   "source": [
    "Найдем неявные дубликаты названия `hiphop`. Это могут быть названия с ошибками или альтернативные названия того же жанра.\n",
    "\n",
    "Мы увидим следующие неявные дубликаты:\n",
    "* *hip*,\n",
    "* *hop*,\n",
    "* *hip-hop*.\n",
    "\n",
    "Чтобы очистить от них таблицу, напишем функцию `replace_wrong_genres()` с двумя параметрами: \n",
    "* `wrong_genres` — список дубликатов,\n",
    "* `correct_genre` — строка с правильным значением.\n",
    "\n",
    "Функция должна исправить колонку `genre` в таблице `df`: заменить каждое значение из списка `wrong_genres` на значение из `correct_genre`."
   ]
  },
  {
   "cell_type": "code",
   "execution_count": 15,
   "metadata": {
    "id": "ErNDkmns_Zct"
   },
   "outputs": [],
   "source": [
    "def replace_wrong_genres(wrong_genres, correct_genre):\n",
    "    for wrong_genre in wrong_genres: \n",
    "        df['genre'] = df['genre'].replace(wrong_genre, correct_genre) # Функция для замены неявных дубликатов"
   ]
  },
  {
   "cell_type": "markdown",
   "metadata": {
    "id": "aDoBJxbA_Zct"
   },
   "source": [
    "Вызовем `replace_wrong_genres()` и передадим ей такие аргументы, чтобы она устранила неявные дубликаты: вместо `hip`, `hop` и `hip-hop` в таблице должно быть значение `hiphop`:"
   ]
  },
  {
   "cell_type": "code",
   "execution_count": 16,
   "metadata": {
    "id": "YN5i2hpmSo09"
   },
   "outputs": [],
   "source": [
    "wrong_genres = ['hip', 'hop', 'hip-hop']\n",
    "correct_genre = 'hiphop'\n",
    "replace_wrong_genres(wrong_genres, correct_genre) # Устранение неявных дубликатов"
   ]
  },
  {
   "cell_type": "markdown",
   "metadata": {
    "id": "zQKF16_RG15m"
   },
   "source": [
    "Проверим, что заменили неправильные названия:\n",
    "\n",
    "*   hip\n",
    "*   hop\n",
    "*   hip-hop\n",
    "\n",
    "Выведем отсортированный список уникальных значений столбца `genre`:"
   ]
  },
  {
   "cell_type": "code",
   "execution_count": 17,
   "metadata": {
    "id": "wvixALnFG15m"
   },
   "outputs": [
    {
     "data": {
      "text/plain": [
       "array(['acid', 'acoustic', 'action', 'adult', 'africa', 'afrikaans',\n",
       "       'alternative', 'alternativepunk', 'ambient', 'americana',\n",
       "       'animated', 'anime', 'arabesk', 'arabic', 'arena',\n",
       "       'argentinetango', 'art', 'audiobook', 'author', 'avantgarde',\n",
       "       'axé', 'baile', 'balkan', 'beats', 'bigroom', 'black', 'bluegrass',\n",
       "       'blues', 'bollywood', 'bossa', 'brazilian', 'breakbeat', 'breaks',\n",
       "       'broadway', 'cantautori', 'cantopop', 'canzone', 'caribbean',\n",
       "       'caucasian', 'celtic', 'chamber', 'chanson', 'children', 'chill',\n",
       "       'chinese', 'choral', 'christian', 'christmas', 'classical',\n",
       "       'classicmetal', 'club', 'colombian', 'comedy', 'conjazz',\n",
       "       'contemporary', 'country', 'cuban', 'dance', 'dancehall',\n",
       "       'dancepop', 'dark', 'death', 'deep', 'deutschrock', 'deutschspr',\n",
       "       'dirty', 'disco', 'dnb', 'documentary', 'downbeat', 'downtempo',\n",
       "       'drum', 'dub', 'dubstep', 'eastern', 'easy', 'electronic',\n",
       "       'electropop', 'emo', 'entehno', 'epicmetal', 'estrada', 'ethnic',\n",
       "       'eurofolk', 'european', 'experimental', 'extrememetal', 'fado',\n",
       "       'fairytail', 'film', 'fitness', 'flamenco', 'folk', 'folklore',\n",
       "       'folkmetal', 'folkrock', 'folktronica', 'forró', 'frankreich',\n",
       "       'französisch', 'french', 'funk', 'future', 'gangsta', 'garage',\n",
       "       'german', 'ghazal', 'gitarre', 'glitch', 'gospel', 'gothic',\n",
       "       'grime', 'grunge', 'gypsy', 'handsup', \"hard'n'heavy\", 'hardcore',\n",
       "       'hardstyle', 'hardtechno', 'hiphop', 'historisch', 'holiday',\n",
       "       'horror', 'house', 'hymn', 'idm', 'independent', 'indian', 'indie',\n",
       "       'indipop', 'industrial', 'inspirational', 'instrumental',\n",
       "       'international', 'irish', 'jam', 'japanese', 'jazz', 'jewish',\n",
       "       'jpop', 'jungle', 'k-pop', 'karadeniz', 'karaoke', 'kayokyoku',\n",
       "       'korean', 'laiko', 'latin', 'latino', 'leftfield', 'local',\n",
       "       'lounge', 'loungeelectronic', 'lovers', 'malaysian', 'mandopop',\n",
       "       'marschmusik', 'meditative', 'mediterranean', 'melodic', 'metal',\n",
       "       'metalcore', 'mexican', 'middle', 'minimal', 'miscellaneous',\n",
       "       'modern', 'mood', 'mpb', 'muslim', 'native', 'neoklassik', 'neue',\n",
       "       'new', 'newage', 'newwave', 'nu', 'nujazz', 'numetal', 'oceania',\n",
       "       'old', 'opera', 'orchestral', 'other', 'piano', 'podcasts', 'pop',\n",
       "       'popdance', 'popelectronic', 'popeurodance', 'poprussian', 'post',\n",
       "       'posthardcore', 'postrock', 'power', 'progmetal', 'progressive',\n",
       "       'psychedelic', 'punjabi', 'punk', 'quebecois', 'ragga', 'ram',\n",
       "       'rancheras', 'rap', 'rave', 'reggae', 'reggaeton', 'regional',\n",
       "       'relax', 'religious', 'retro', 'rhythm', 'rnb', 'rnr', 'rock',\n",
       "       'rockabilly', 'rockalternative', 'rockindie', 'rockother',\n",
       "       'romance', 'roots', 'ruspop', 'rusrap', 'rusrock', 'russian',\n",
       "       'salsa', 'samba', 'scenic', 'schlager', 'self', 'sertanejo',\n",
       "       'shanson', 'shoegazing', 'showtunes', 'singer', 'ska', 'skarock',\n",
       "       'slow', 'smooth', 'soft', 'soul', 'soulful', 'sound', 'soundtrack',\n",
       "       'southern', 'specialty', 'speech', 'spiritual', 'sport',\n",
       "       'stonerrock', 'surf', 'swing', 'synthpop', 'synthrock',\n",
       "       'sängerportrait', 'tango', 'tanzorchester', 'taraftar', 'tatar',\n",
       "       'tech', 'techno', 'teen', 'thrash', 'top', 'traditional',\n",
       "       'tradjazz', 'trance', 'tribal', 'trip', 'triphop', 'tropical',\n",
       "       'türk', 'türkçe', 'ukrrock', 'unknown', 'urban', 'uzbek',\n",
       "       'variété', 'vi', 'videogame', 'vocal', 'western', 'world',\n",
       "       'worldbeat', 'ïîï', 'электроника'], dtype=object)"
      ]
     },
     "execution_count": 17,
     "metadata": {},
     "output_type": "execute_result"
    }
   ],
   "source": [
    "df['genre'].sort_values().unique() # Проверка на неявные дубликаты"
   ]
  },
  {
   "cell_type": "markdown",
   "metadata": {
    "id": "jz6a9-7HQUDd"
   },
   "source": [
    "**Выводы**\n",
    "\n",
    "Предобработка обнаружила три проблемы в данных:\n",
    "\n",
    "- нарушения в стиле заголовков,\n",
    "- пропущенные значения,\n",
    "- дубликаты — явные и неявные.\n",
    "\n",
    "Вы исправили заголовки, чтобы упростить работу с таблицей. Без дубликатов исследование станет более точным.\n",
    "\n",
    "Пропущенные значения вы заменили на `'unknown'`. Ещё предстоит увидеть, не повредят ли исследованию пропуски в колонке `genre`.\n",
    "\n",
    "Теперь можно перейти к проверке гипотез. "
   ]
  },
  {
   "cell_type": "markdown",
   "metadata": {
    "id": "WttZHXH0SqKk"
   },
   "source": [
    "## Проверка гипотез"
   ]
  },
  {
   "cell_type": "markdown",
   "metadata": {
    "id": "Im936VVi_Zcu"
   },
   "source": [
    "### Сравнение поведения пользователей двух столиц"
   ]
  },
  {
   "cell_type": "markdown",
   "metadata": {
    "id": "nwt_MuaL_Zcu"
   },
   "source": [
    "Первая гипотеза утверждает, что пользователи по-разному слушают музыку в Москве и Санкт-Петербурге. Проверим это предположение по данным о трёх днях недели — понедельнике, среде и пятнице. Для этого:\n",
    "\n",
    "* Разделим пользователей Москвы и Санкт-Петербурга\n",
    "* Сравним, сколько треков послушала каждая группа пользователей в понедельник, среду и пятницу."
   ]
  },
  {
   "cell_type": "markdown",
   "metadata": {
    "id": "8Dw_YMmT_Zcu"
   },
   "source": [
    "Оценим активность пользователей в каждом городе. Сгруппируем данные по городу и посчитаем прослушивания в каждой группе."
   ]
  },
  {
   "cell_type": "code",
   "execution_count": 18,
   "metadata": {
    "id": "0_Qs96oh_Zcu"
   },
   "outputs": [
    {
     "data": {
      "text/html": [
       "<div>\n",
       "<style scoped>\n",
       "    .dataframe tbody tr th:only-of-type {\n",
       "        vertical-align: middle;\n",
       "    }\n",
       "\n",
       "    .dataframe tbody tr th {\n",
       "        vertical-align: top;\n",
       "    }\n",
       "\n",
       "    .dataframe thead th {\n",
       "        text-align: right;\n",
       "    }\n",
       "</style>\n",
       "<table border=\"1\" class=\"dataframe\">\n",
       "  <thead>\n",
       "    <tr style=\"text-align: right;\">\n",
       "      <th></th>\n",
       "      <th>genre</th>\n",
       "    </tr>\n",
       "    <tr>\n",
       "      <th>city</th>\n",
       "      <th></th>\n",
       "    </tr>\n",
       "  </thead>\n",
       "  <tbody>\n",
       "    <tr>\n",
       "      <th>Moscow</th>\n",
       "      <td>42741</td>\n",
       "    </tr>\n",
       "    <tr>\n",
       "      <th>Saint-Petersburg</th>\n",
       "      <td>18512</td>\n",
       "    </tr>\n",
       "  </tbody>\n",
       "</table>\n",
       "</div>"
      ],
      "text/plain": [
       "                  genre\n",
       "city                   \n",
       "Moscow            42741\n",
       "Saint-Petersburg  18512"
      ]
     },
     "execution_count": 18,
     "metadata": {},
     "output_type": "execute_result"
    }
   ],
   "source": [
    "df.groupby('city')[['genre']].count() # Подсчёт прослушиваний в каждом городе"
   ]
  },
  {
   "cell_type": "markdown",
   "metadata": {
    "id": "dzli3w8o_Zcu"
   },
   "source": [
    "В Москве прослушиваний больше, чем в Петербурге. Из этого не следует, что московские пользователи чаще слушают музыку. Просто самих пользователей в Москве больше.\n",
    "\n",
    "Теперь сгруппируем данные по дню недели и подсчитаем прослушивания в понедельник, среду и пятницу. Учтем, что в данных есть информация только о прослушиваниях только за эти дни."
   ]
  },
  {
   "cell_type": "code",
   "execution_count": 19,
   "metadata": {
    "id": "uZMKjiJz_Zcu"
   },
   "outputs": [
    {
     "data": {
      "text/html": [
       "<div>\n",
       "<style scoped>\n",
       "    .dataframe tbody tr th:only-of-type {\n",
       "        vertical-align: middle;\n",
       "    }\n",
       "\n",
       "    .dataframe tbody tr th {\n",
       "        vertical-align: top;\n",
       "    }\n",
       "\n",
       "    .dataframe thead th {\n",
       "        text-align: right;\n",
       "    }\n",
       "</style>\n",
       "<table border=\"1\" class=\"dataframe\">\n",
       "  <thead>\n",
       "    <tr style=\"text-align: right;\">\n",
       "      <th></th>\n",
       "      <th>genre</th>\n",
       "    </tr>\n",
       "    <tr>\n",
       "      <th>day</th>\n",
       "      <th></th>\n",
       "    </tr>\n",
       "  </thead>\n",
       "  <tbody>\n",
       "    <tr>\n",
       "      <th>Friday</th>\n",
       "      <td>21840</td>\n",
       "    </tr>\n",
       "    <tr>\n",
       "      <th>Monday</th>\n",
       "      <td>21354</td>\n",
       "    </tr>\n",
       "    <tr>\n",
       "      <th>Wednesday</th>\n",
       "      <td>18059</td>\n",
       "    </tr>\n",
       "  </tbody>\n",
       "</table>\n",
       "</div>"
      ],
      "text/plain": [
       "           genre\n",
       "day             \n",
       "Friday     21840\n",
       "Monday     21354\n",
       "Wednesday  18059"
      ]
     },
     "execution_count": 19,
     "metadata": {},
     "output_type": "execute_result"
    }
   ],
   "source": [
    "df.groupby('day')[['genre']].count() # Подсчёт прослушиваний в каждый из трёх дней"
   ]
  },
  {
   "cell_type": "code",
   "execution_count": 20,
   "metadata": {},
   "outputs": [
    {
     "data": {
      "text/html": [
       "<div>\n",
       "<style scoped>\n",
       "    .dataframe tbody tr th:only-of-type {\n",
       "        vertical-align: middle;\n",
       "    }\n",
       "\n",
       "    .dataframe tbody tr th {\n",
       "        vertical-align: top;\n",
       "    }\n",
       "\n",
       "    .dataframe thead th {\n",
       "        text-align: right;\n",
       "    }\n",
       "</style>\n",
       "<table border=\"1\" class=\"dataframe\">\n",
       "  <thead>\n",
       "    <tr style=\"text-align: right;\">\n",
       "      <th></th>\n",
       "      <th>user_id</th>\n",
       "    </tr>\n",
       "    <tr>\n",
       "      <th>day</th>\n",
       "      <th></th>\n",
       "    </tr>\n",
       "  </thead>\n",
       "  <tbody>\n",
       "    <tr>\n",
       "      <th>Friday</th>\n",
       "      <td>21840</td>\n",
       "    </tr>\n",
       "    <tr>\n",
       "      <th>Monday</th>\n",
       "      <td>21354</td>\n",
       "    </tr>\n",
       "    <tr>\n",
       "      <th>Wednesday</th>\n",
       "      <td>18059</td>\n",
       "    </tr>\n",
       "  </tbody>\n",
       "</table>\n",
       "</div>"
      ],
      "text/plain": [
       "           user_id\n",
       "day               \n",
       "Friday       21840\n",
       "Monday       21354\n",
       "Wednesday    18059"
      ]
     },
     "execution_count": 20,
     "metadata": {},
     "output_type": "execute_result"
    }
   ],
   "source": [
    "df.groupby('day')[['user_id']].count()"
   ]
  },
  {
   "cell_type": "markdown",
   "metadata": {
    "id": "cC2tNrlL_Zcu"
   },
   "source": [
    "В среднем пользователи из двух городов менее активны по средам. Но картина может измениться, если рассмотреть каждый город в отдельности."
   ]
  },
  {
   "cell_type": "markdown",
   "metadata": {
    "id": "POzs8bGa_Zcu"
   },
   "source": [
    "Мы видели, как работает группировка по городу и по дням недели. Теперь напишите функцию, которая объединит два эти расчёта.\n",
    "\n",
    "Создаим функцию `number_tracks()`, которая посчитает прослушивания для заданного дня и города. Ей понадобятся два параметра:\n",
    "* день недели,\n",
    "* название города.\n",
    "\n",
    "В функции сохраним в переменную строки исходной таблицы, у которых значение:\n",
    "  * в колонке `day` равно параметру `day`,\n",
    "  * в колонке `city` равно параметру `city`.\n",
    "\n",
    "Для этого применим последовательную фильтрацию с логической индексацией.\n",
    "\n",
    "Затем посчитаем значения в столбце `user_id` получившейся таблицы. Результат сохраним в новую переменную. Вернем эту переменную из функции."
   ]
  },
  {
   "cell_type": "code",
   "execution_count": 21,
   "metadata": {
    "id": "Nz3GdQB1_Zcu"
   },
   "outputs": [],
   "source": [
    "def number_tracks(df, day, city): \n",
    "    track_list=df[(df['day']==day) & (df['city']==city)]\n",
    "    track_list_count = track_list['user_id'].count()\n",
    "    return track_list_count"
   ]
  },
  {
   "cell_type": "markdown",
   "metadata": {
    "id": "ytf7xFrFJQ2r"
   },
   "source": [
    "Вызовем `number_tracks()` шесть раз, меняя значение параметров — так, чтобы получить данные для каждого города в каждый из трёх дней."
   ]
  },
  {
   "cell_type": "code",
   "execution_count": 22,
   "metadata": {
    "id": "rJcRATNQ_Zcu"
   },
   "outputs": [
    {
     "data": {
      "text/plain": [
       "15740"
      ]
     },
     "execution_count": 22,
     "metadata": {},
     "output_type": "execute_result"
    }
   ],
   "source": [
    "number_tracks(df, 'Monday', 'Moscow') # количество прослушиваний в Москве по понедельникам"
   ]
  },
  {
   "cell_type": "code",
   "execution_count": 23,
   "metadata": {
    "id": "hq_ncZ5T_Zcu"
   },
   "outputs": [
    {
     "data": {
      "text/plain": [
       "5614"
      ]
     },
     "execution_count": 23,
     "metadata": {},
     "output_type": "execute_result"
    }
   ],
   "source": [
    "number_tracks(df, 'Monday', 'Saint-Petersburg') # количество прослушиваний в Санкт-Петербурге по понедельникам"
   ]
  },
  {
   "cell_type": "code",
   "execution_count": 24,
   "metadata": {
    "id": "_NTy2VPU_Zcu"
   },
   "outputs": [
    {
     "data": {
      "text/plain": [
       "11056"
      ]
     },
     "execution_count": 24,
     "metadata": {},
     "output_type": "execute_result"
    }
   ],
   "source": [
    "number_tracks(df, 'Wednesday', 'Moscow') # количество прослушиваний в Москве по средам"
   ]
  },
  {
   "cell_type": "code",
   "execution_count": 25,
   "metadata": {
    "id": "j2y3TAwo_Zcu"
   },
   "outputs": [
    {
     "data": {
      "text/plain": [
       "7003"
      ]
     },
     "execution_count": 25,
     "metadata": {},
     "output_type": "execute_result"
    }
   ],
   "source": [
    "number_tracks(df, 'Wednesday', 'Saint-Petersburg') # количество прослушиваний в Санкт-Петербурге по средам"
   ]
  },
  {
   "cell_type": "code",
   "execution_count": 26,
   "metadata": {
    "id": "vYDw5u_K_Zcu"
   },
   "outputs": [
    {
     "data": {
      "text/plain": [
       "15945"
      ]
     },
     "execution_count": 26,
     "metadata": {},
     "output_type": "execute_result"
    }
   ],
   "source": [
    "number_tracks(df, 'Friday', 'Moscow') # количество прослушиваний в Москве по пятницам"
   ]
  },
  {
   "cell_type": "code",
   "execution_count": 27,
   "metadata": {
    "id": "8_yzFtW3_Zcu"
   },
   "outputs": [
    {
     "data": {
      "text/plain": [
       "5895"
      ]
     },
     "execution_count": 27,
     "metadata": {},
     "output_type": "execute_result"
    }
   ],
   "source": [
    "number_tracks(df, 'Friday', 'Saint-Petersburg') # количество прослушиваний в Санкт-Петербурге по пятницам"
   ]
  },
  {
   "cell_type": "markdown",
   "metadata": {
    "id": "7QXffbO-_Zcu"
   },
   "source": [
    "Создадим c помощью конструктора `pd.DataFrame` таблицу, где\n",
    "* названия колонок — `['city', 'monday', 'wednesday', 'friday']`;\n",
    "* данные — результаты, которые вы получили с помощью `number_tracks`."
   ]
  },
  {
   "cell_type": "code",
   "execution_count": 28,
   "metadata": {
    "id": "APAcLpOr_Zcu"
   },
   "outputs": [
    {
     "data": {
      "text/html": [
       "<div>\n",
       "<style scoped>\n",
       "    .dataframe tbody tr th:only-of-type {\n",
       "        vertical-align: middle;\n",
       "    }\n",
       "\n",
       "    .dataframe tbody tr th {\n",
       "        vertical-align: top;\n",
       "    }\n",
       "\n",
       "    .dataframe thead th {\n",
       "        text-align: right;\n",
       "    }\n",
       "</style>\n",
       "<table border=\"1\" class=\"dataframe\">\n",
       "  <thead>\n",
       "    <tr style=\"text-align: right;\">\n",
       "      <th></th>\n",
       "      <th>city</th>\n",
       "      <th>monday</th>\n",
       "      <th>wednesday</th>\n",
       "      <th>friday</th>\n",
       "    </tr>\n",
       "  </thead>\n",
       "  <tbody>\n",
       "    <tr>\n",
       "      <th>0</th>\n",
       "      <td>Moscow</td>\n",
       "      <td>15740</td>\n",
       "      <td>11056</td>\n",
       "      <td>15945</td>\n",
       "    </tr>\n",
       "    <tr>\n",
       "      <th>1</th>\n",
       "      <td>Saint-Petersburg</td>\n",
       "      <td>5614</td>\n",
       "      <td>7003</td>\n",
       "      <td>5895</td>\n",
       "    </tr>\n",
       "  </tbody>\n",
       "</table>\n",
       "</div>"
      ],
      "text/plain": [
       "               city  monday  wednesday  friday\n",
       "0            Moscow   15740      11056   15945\n",
       "1  Saint-Petersburg    5614       7003    5895"
      ]
     },
     "execution_count": 28,
     "metadata": {},
     "output_type": "execute_result"
    }
   ],
   "source": [
    "# Таблица с результатами\n",
    "columns = ['city', 'monday', 'wednesday', 'friday']\n",
    "data = [['Moscow', 15740, 11056, 15945],\n",
    "    ['Saint-Petersburg', 5614, 7003, 5895]]\n",
    "table = pd.DataFrame(data=data, columns=columns)\n",
    "table"
   ]
  },
  {
   "cell_type": "markdown",
   "metadata": {
    "id": "-EgPIHYu_Zcu"
   },
   "source": [
    "**Выводы**\n",
    "\n",
    "Данные показывают разницу поведения пользователей:\n",
    "\n",
    "- В Москве пик прослушиваний приходится на понедельник и пятницу, а в среду заметен спад.\n",
    "- В Петербурге, наоборот, больше слушают музыку по средам. Активность в понедельник и пятницу здесь почти в равной мере уступает среде.\n",
    "\n",
    "Значит, данные говорят в пользу первой гипотезы."
   ]
  },
  {
   "cell_type": "markdown",
   "metadata": {
    "id": "atZAxtq4_Zcu"
   },
   "source": [
    "### Музыка в начале и в конце недели"
   ]
  },
  {
   "cell_type": "markdown",
   "metadata": {
    "id": "eXrQqXFH_Zcu"
   },
   "source": [
    "Согласно второй гипотезе, утром в понедельник в Москве преобладают одни жанры, а в Петербурге — другие. Так же и вечером пятницы преобладают разные жанры — в зависимости от города."
   ]
  },
  {
   "cell_type": "markdown",
   "metadata": {
    "id": "S8UcW6Hw_Zcu"
   },
   "source": [
    "Сохраним таблицы с данными в две переменные:\n",
    "* по Москве — в `moscow_general`;\n",
    "* по Санкт-Петербургу — в `spb_general`."
   ]
  },
  {
   "cell_type": "code",
   "execution_count": 29,
   "metadata": {
    "id": "qeaFfM_P_Zcu"
   },
   "outputs": [
    {
     "data": {
      "text/html": [
       "<div>\n",
       "<style scoped>\n",
       "    .dataframe tbody tr th:only-of-type {\n",
       "        vertical-align: middle;\n",
       "    }\n",
       "\n",
       "    .dataframe tbody tr th {\n",
       "        vertical-align: top;\n",
       "    }\n",
       "\n",
       "    .dataframe thead th {\n",
       "        text-align: right;\n",
       "    }\n",
       "</style>\n",
       "<table border=\"1\" class=\"dataframe\">\n",
       "  <thead>\n",
       "    <tr style=\"text-align: right;\">\n",
       "      <th></th>\n",
       "      <th>user_id</th>\n",
       "      <th>track</th>\n",
       "      <th>artist</th>\n",
       "      <th>genre</th>\n",
       "      <th>city</th>\n",
       "      <th>time</th>\n",
       "      <th>day</th>\n",
       "    </tr>\n",
       "  </thead>\n",
       "  <tbody>\n",
       "    <tr>\n",
       "      <th>1</th>\n",
       "      <td>55204538</td>\n",
       "      <td>Delayed Because of Accident</td>\n",
       "      <td>Andreas Rönnberg</td>\n",
       "      <td>rock</td>\n",
       "      <td>Moscow</td>\n",
       "      <td>14:07:09</td>\n",
       "      <td>Friday</td>\n",
       "    </tr>\n",
       "    <tr>\n",
       "      <th>4</th>\n",
       "      <td>E2DC1FAE</td>\n",
       "      <td>Soul People</td>\n",
       "      <td>Space Echo</td>\n",
       "      <td>dance</td>\n",
       "      <td>Moscow</td>\n",
       "      <td>08:34:34</td>\n",
       "      <td>Monday</td>\n",
       "    </tr>\n",
       "    <tr>\n",
       "      <th>6</th>\n",
       "      <td>4CB90AA5</td>\n",
       "      <td>True</td>\n",
       "      <td>Roman Messer</td>\n",
       "      <td>dance</td>\n",
       "      <td>Moscow</td>\n",
       "      <td>13:00:07</td>\n",
       "      <td>Wednesday</td>\n",
       "    </tr>\n",
       "    <tr>\n",
       "      <th>7</th>\n",
       "      <td>F03E1C1F</td>\n",
       "      <td>Feeling This Way</td>\n",
       "      <td>Polina Griffith</td>\n",
       "      <td>dance</td>\n",
       "      <td>Moscow</td>\n",
       "      <td>20:47:49</td>\n",
       "      <td>Wednesday</td>\n",
       "    </tr>\n",
       "    <tr>\n",
       "      <th>8</th>\n",
       "      <td>8FA1D3BE</td>\n",
       "      <td>И вновь продолжается бой</td>\n",
       "      <td>unknown</td>\n",
       "      <td>ruspop</td>\n",
       "      <td>Moscow</td>\n",
       "      <td>09:17:40</td>\n",
       "      <td>Friday</td>\n",
       "    </tr>\n",
       "    <tr>\n",
       "      <th>...</th>\n",
       "      <td>...</td>\n",
       "      <td>...</td>\n",
       "      <td>...</td>\n",
       "      <td>...</td>\n",
       "      <td>...</td>\n",
       "      <td>...</td>\n",
       "      <td>...</td>\n",
       "    </tr>\n",
       "    <tr>\n",
       "      <th>61247</th>\n",
       "      <td>83A474E7</td>\n",
       "      <td>I Worship Only What You Bleed</td>\n",
       "      <td>The Black Dahlia Murder</td>\n",
       "      <td>extrememetal</td>\n",
       "      <td>Moscow</td>\n",
       "      <td>21:07:12</td>\n",
       "      <td>Monday</td>\n",
       "    </tr>\n",
       "    <tr>\n",
       "      <th>61248</th>\n",
       "      <td>729CBB09</td>\n",
       "      <td>My Name</td>\n",
       "      <td>McLean</td>\n",
       "      <td>rnb</td>\n",
       "      <td>Moscow</td>\n",
       "      <td>13:32:28</td>\n",
       "      <td>Wednesday</td>\n",
       "    </tr>\n",
       "    <tr>\n",
       "      <th>61250</th>\n",
       "      <td>C5E3A0D5</td>\n",
       "      <td>Jalopiina</td>\n",
       "      <td>unknown</td>\n",
       "      <td>industrial</td>\n",
       "      <td>Moscow</td>\n",
       "      <td>20:09:26</td>\n",
       "      <td>Friday</td>\n",
       "    </tr>\n",
       "    <tr>\n",
       "      <th>61251</th>\n",
       "      <td>321D0506</td>\n",
       "      <td>Freight Train</td>\n",
       "      <td>Chas McDevitt</td>\n",
       "      <td>rock</td>\n",
       "      <td>Moscow</td>\n",
       "      <td>21:43:59</td>\n",
       "      <td>Friday</td>\n",
       "    </tr>\n",
       "    <tr>\n",
       "      <th>61252</th>\n",
       "      <td>3A64EF84</td>\n",
       "      <td>Tell Me Sweet Little Lies</td>\n",
       "      <td>Monica Lopez</td>\n",
       "      <td>country</td>\n",
       "      <td>Moscow</td>\n",
       "      <td>21:59:46</td>\n",
       "      <td>Friday</td>\n",
       "    </tr>\n",
       "  </tbody>\n",
       "</table>\n",
       "<p>42741 rows × 7 columns</p>\n",
       "</div>"
      ],
      "text/plain": [
       "        user_id                          track                   artist  \\\n",
       "1      55204538    Delayed Because of Accident         Andreas Rönnberg   \n",
       "4      E2DC1FAE                    Soul People               Space Echo   \n",
       "6      4CB90AA5                           True             Roman Messer   \n",
       "7      F03E1C1F               Feeling This Way          Polina Griffith   \n",
       "8      8FA1D3BE       И вновь продолжается бой                  unknown   \n",
       "...         ...                            ...                      ...   \n",
       "61247  83A474E7  I Worship Only What You Bleed  The Black Dahlia Murder   \n",
       "61248  729CBB09                        My Name                   McLean   \n",
       "61250  C5E3A0D5                      Jalopiina                  unknown   \n",
       "61251  321D0506                  Freight Train            Chas McDevitt   \n",
       "61252  3A64EF84      Tell Me Sweet Little Lies             Monica Lopez   \n",
       "\n",
       "              genre    city      time        day  \n",
       "1              rock  Moscow  14:07:09     Friday  \n",
       "4             dance  Moscow  08:34:34     Monday  \n",
       "6             dance  Moscow  13:00:07  Wednesday  \n",
       "7             dance  Moscow  20:47:49  Wednesday  \n",
       "8            ruspop  Moscow  09:17:40     Friday  \n",
       "...             ...     ...       ...        ...  \n",
       "61247  extrememetal  Moscow  21:07:12     Monday  \n",
       "61248           rnb  Moscow  13:32:28  Wednesday  \n",
       "61250    industrial  Moscow  20:09:26     Friday  \n",
       "61251          rock  Moscow  21:43:59     Friday  \n",
       "61252       country  Moscow  21:59:46     Friday  \n",
       "\n",
       "[42741 rows x 7 columns]"
      ]
     },
     "execution_count": 29,
     "metadata": {},
     "output_type": "execute_result"
    }
   ],
   "source": [
    "moscow_general = df[df['city'] == 'Moscow']\n",
    "moscow_general"
   ]
  },
  {
   "cell_type": "code",
   "execution_count": 30,
   "metadata": {
    "id": "ORaVRKto_Zcu"
   },
   "outputs": [
    {
     "data": {
      "text/html": [
       "<div>\n",
       "<style scoped>\n",
       "    .dataframe tbody tr th:only-of-type {\n",
       "        vertical-align: middle;\n",
       "    }\n",
       "\n",
       "    .dataframe tbody tr th {\n",
       "        vertical-align: top;\n",
       "    }\n",
       "\n",
       "    .dataframe thead th {\n",
       "        text-align: right;\n",
       "    }\n",
       "</style>\n",
       "<table border=\"1\" class=\"dataframe\">\n",
       "  <thead>\n",
       "    <tr style=\"text-align: right;\">\n",
       "      <th></th>\n",
       "      <th>user_id</th>\n",
       "      <th>track</th>\n",
       "      <th>artist</th>\n",
       "      <th>genre</th>\n",
       "      <th>city</th>\n",
       "      <th>time</th>\n",
       "      <th>day</th>\n",
       "    </tr>\n",
       "  </thead>\n",
       "  <tbody>\n",
       "    <tr>\n",
       "      <th>0</th>\n",
       "      <td>FFB692EC</td>\n",
       "      <td>Kamigata To Boots</td>\n",
       "      <td>The Mass Missile</td>\n",
       "      <td>rock</td>\n",
       "      <td>Saint-Petersburg</td>\n",
       "      <td>20:28:33</td>\n",
       "      <td>Wednesday</td>\n",
       "    </tr>\n",
       "    <tr>\n",
       "      <th>2</th>\n",
       "      <td>20EC38</td>\n",
       "      <td>Funiculì funiculà</td>\n",
       "      <td>Mario Lanza</td>\n",
       "      <td>pop</td>\n",
       "      <td>Saint-Petersburg</td>\n",
       "      <td>20:58:07</td>\n",
       "      <td>Wednesday</td>\n",
       "    </tr>\n",
       "    <tr>\n",
       "      <th>3</th>\n",
       "      <td>A3DD03C9</td>\n",
       "      <td>Dragons in the Sunset</td>\n",
       "      <td>Fire + Ice</td>\n",
       "      <td>folk</td>\n",
       "      <td>Saint-Petersburg</td>\n",
       "      <td>08:37:09</td>\n",
       "      <td>Monday</td>\n",
       "    </tr>\n",
       "    <tr>\n",
       "      <th>5</th>\n",
       "      <td>842029A1</td>\n",
       "      <td>Преданная</td>\n",
       "      <td>IMPERVTOR</td>\n",
       "      <td>rusrap</td>\n",
       "      <td>Saint-Petersburg</td>\n",
       "      <td>13:09:41</td>\n",
       "      <td>Friday</td>\n",
       "    </tr>\n",
       "    <tr>\n",
       "      <th>9</th>\n",
       "      <td>E772D5C0</td>\n",
       "      <td>Pessimist</td>\n",
       "      <td>unknown</td>\n",
       "      <td>dance</td>\n",
       "      <td>Saint-Petersburg</td>\n",
       "      <td>21:20:49</td>\n",
       "      <td>Wednesday</td>\n",
       "    </tr>\n",
       "    <tr>\n",
       "      <th>...</th>\n",
       "      <td>...</td>\n",
       "      <td>...</td>\n",
       "      <td>...</td>\n",
       "      <td>...</td>\n",
       "      <td>...</td>\n",
       "      <td>...</td>\n",
       "      <td>...</td>\n",
       "    </tr>\n",
       "    <tr>\n",
       "      <th>61239</th>\n",
       "      <td>D94F810B</td>\n",
       "      <td>Theme from the Walking Dead</td>\n",
       "      <td>Proyecto Halloween</td>\n",
       "      <td>film</td>\n",
       "      <td>Saint-Petersburg</td>\n",
       "      <td>21:14:40</td>\n",
       "      <td>Monday</td>\n",
       "    </tr>\n",
       "    <tr>\n",
       "      <th>61240</th>\n",
       "      <td>BC8EC5CF</td>\n",
       "      <td>Red Lips: Gta (Rover Rework)</td>\n",
       "      <td>Rover</td>\n",
       "      <td>electronic</td>\n",
       "      <td>Saint-Petersburg</td>\n",
       "      <td>21:06:50</td>\n",
       "      <td>Monday</td>\n",
       "    </tr>\n",
       "    <tr>\n",
       "      <th>61241</th>\n",
       "      <td>29E04611</td>\n",
       "      <td>Bre Petrunko</td>\n",
       "      <td>Perunika Trio</td>\n",
       "      <td>world</td>\n",
       "      <td>Saint-Petersburg</td>\n",
       "      <td>13:56:00</td>\n",
       "      <td>Monday</td>\n",
       "    </tr>\n",
       "    <tr>\n",
       "      <th>61242</th>\n",
       "      <td>1B91C621</td>\n",
       "      <td>(Hello) Cloud Mountain</td>\n",
       "      <td>sleepmakeswaves</td>\n",
       "      <td>postrock</td>\n",
       "      <td>Saint-Petersburg</td>\n",
       "      <td>09:22:13</td>\n",
       "      <td>Monday</td>\n",
       "    </tr>\n",
       "    <tr>\n",
       "      <th>61249</th>\n",
       "      <td>D08D4A55</td>\n",
       "      <td>Maybe One Day (feat. Black Spade)</td>\n",
       "      <td>Blu &amp; Exile</td>\n",
       "      <td>hiphop</td>\n",
       "      <td>Saint-Petersburg</td>\n",
       "      <td>10:00:00</td>\n",
       "      <td>Monday</td>\n",
       "    </tr>\n",
       "  </tbody>\n",
       "</table>\n",
       "<p>18512 rows × 7 columns</p>\n",
       "</div>"
      ],
      "text/plain": [
       "        user_id                              track              artist  \\\n",
       "0      FFB692EC                  Kamigata To Boots    The Mass Missile   \n",
       "2        20EC38                  Funiculì funiculà         Mario Lanza   \n",
       "3      A3DD03C9              Dragons in the Sunset          Fire + Ice   \n",
       "5      842029A1                          Преданная           IMPERVTOR   \n",
       "9      E772D5C0                          Pessimist             unknown   \n",
       "...         ...                                ...                 ...   \n",
       "61239  D94F810B        Theme from the Walking Dead  Proyecto Halloween   \n",
       "61240  BC8EC5CF       Red Lips: Gta (Rover Rework)               Rover   \n",
       "61241  29E04611                       Bre Petrunko       Perunika Trio   \n",
       "61242  1B91C621             (Hello) Cloud Mountain     sleepmakeswaves   \n",
       "61249  D08D4A55  Maybe One Day (feat. Black Spade)         Blu & Exile   \n",
       "\n",
       "            genre              city      time        day  \n",
       "0            rock  Saint-Petersburg  20:28:33  Wednesday  \n",
       "2             pop  Saint-Petersburg  20:58:07  Wednesday  \n",
       "3            folk  Saint-Petersburg  08:37:09     Monday  \n",
       "5          rusrap  Saint-Petersburg  13:09:41     Friday  \n",
       "9           dance  Saint-Petersburg  21:20:49  Wednesday  \n",
       "...           ...               ...       ...        ...  \n",
       "61239        film  Saint-Petersburg  21:14:40     Monday  \n",
       "61240  electronic  Saint-Petersburg  21:06:50     Monday  \n",
       "61241       world  Saint-Petersburg  13:56:00     Monday  \n",
       "61242    postrock  Saint-Petersburg  09:22:13     Monday  \n",
       "61249      hiphop  Saint-Petersburg  10:00:00     Monday  \n",
       "\n",
       "[18512 rows x 7 columns]"
      ]
     },
     "execution_count": 30,
     "metadata": {},
     "output_type": "execute_result"
    }
   ],
   "source": [
    "spb_general = df[df['city'] == 'Saint-Petersburg']\n",
    "spb_general"
   ]
  },
  {
   "cell_type": "markdown",
   "metadata": {
    "id": "MEJV-CX2_Zcu"
   },
   "source": [
    "Создадим функцию `genre_weekday()` с четырьмя параметрами:\n",
    "* таблица (датафрейм) с данными,\n",
    "* день недели,\n",
    "* начальная временная метка в формате 'hh:mm', \n",
    "* последняя временная метка в формате 'hh:mm'.\n",
    "\n",
    "Функция должна вернуть информацию о топ-10 жанров тех треков, которые прослушивали в указанный день, в промежутке между двумя отметками времени."
   ]
  },
  {
   "cell_type": "code",
   "execution_count": 31,
   "metadata": {
    "id": "laJT9BYl_Zcu"
   },
   "outputs": [],
   "source": [
    "def genre_weekday(table, day, time1, time2):\n",
    "    genre_df = table.loc[table.loc[:,'day'] == day]\n",
    "    genre_df = genre_df.loc[genre_df.loc[:,'time'] > time1]\n",
    "    genre_df = genre_df.loc[genre_df.loc[:,'time'] < time2]    \n",
    "    genre_df_count = genre_df.groupby('genre')['track'].count()\n",
    "    genre_df_sorted = genre_df_count.sort_values(ascending=False)\n",
    "    return genre_df_sorted.head(10)"
   ]
  },
  {
   "cell_type": "markdown",
   "metadata": {
    "id": "la2s2_PF_Zcu"
   },
   "source": [
    "Cравним результаты функции `genre_weekday()` для Москвы и Санкт-Петербурга в понедельник утром (с 7:00 до 11:00) и в пятницу вечером (с 17:00 до 23:00):"
   ]
  },
  {
   "cell_type": "code",
   "execution_count": 32,
   "metadata": {
    "id": "yz7itPUQ_Zcu"
   },
   "outputs": [
    {
     "data": {
      "text/plain": [
       "genre\n",
       "pop            781\n",
       "dance          549\n",
       "electronic     480\n",
       "rock           474\n",
       "hiphop         286\n",
       "ruspop         186\n",
       "world          181\n",
       "rusrap         175\n",
       "alternative    164\n",
       "unknown        161\n",
       "Name: track, dtype: int64"
      ]
     },
     "execution_count": 32,
     "metadata": {},
     "output_type": "execute_result"
    }
   ],
   "source": [
    "genre_weekday(moscow_general, 'Monday', '07:00', '11:00')"
   ]
  },
  {
   "cell_type": "code",
   "execution_count": 33,
   "metadata": {
    "id": "kwUcHPdy_Zcu"
   },
   "outputs": [
    {
     "data": {
      "text/plain": [
       "genre\n",
       "pop            218\n",
       "dance          182\n",
       "rock           162\n",
       "electronic     147\n",
       "hiphop          80\n",
       "ruspop          64\n",
       "alternative     58\n",
       "rusrap          55\n",
       "jazz            44\n",
       "classical       40\n",
       "Name: track, dtype: int64"
      ]
     },
     "execution_count": 33,
     "metadata": {},
     "output_type": "execute_result"
    }
   ],
   "source": [
    "genre_weekday(spb_general, 'Monday', '07:00', '11:00')"
   ]
  },
  {
   "cell_type": "code",
   "execution_count": 34,
   "metadata": {
    "id": "EzXVRE1o_Zcu"
   },
   "outputs": [
    {
     "data": {
      "text/plain": [
       "genre\n",
       "pop            713\n",
       "rock           517\n",
       "dance          495\n",
       "electronic     482\n",
       "hiphop         273\n",
       "world          208\n",
       "ruspop         170\n",
       "alternative    163\n",
       "classical      163\n",
       "rusrap         142\n",
       "Name: track, dtype: int64"
      ]
     },
     "execution_count": 34,
     "metadata": {},
     "output_type": "execute_result"
    }
   ],
   "source": [
    "genre_weekday(moscow_general, 'Friday', '17:00', '23:00')"
   ]
  },
  {
   "cell_type": "code",
   "execution_count": 35,
   "metadata": {
    "id": "JZaEKu5v_Zcu"
   },
   "outputs": [
    {
     "data": {
      "text/plain": [
       "genre\n",
       "pop            256\n",
       "electronic     216\n",
       "rock           216\n",
       "dance          210\n",
       "hiphop          97\n",
       "alternative     63\n",
       "jazz            61\n",
       "classical       60\n",
       "rusrap          59\n",
       "world           54\n",
       "Name: track, dtype: int64"
      ]
     },
     "execution_count": 35,
     "metadata": {},
     "output_type": "execute_result"
    }
   ],
   "source": [
    "genre_weekday(spb_general, 'Friday', '17:00', '23:00')"
   ]
  },
  {
   "cell_type": "markdown",
   "metadata": {
    "id": "wrCe4MNX_Zcu"
   },
   "source": [
    "**Выводы**\n",
    "\n",
    "Если сравнить топ-10 жанров в понедельник утром, можно сделать вывод:\n",
    "\n",
    "В Москве и Петербурге слушают похожую музыку. Жанр \"pop\" безусловный лидер, а топ-5 не отличается в обоих городах. Единственное отличие — в Москве больше слушают \"world\", а в Петербурге “jazz” и \"classical\". В Москве а топ-10 вошла музыка неизвестного жанра \"unknown\". \n",
    "\n",
    "Вечер пятницы не меняет эту картину. Некоторые жанры поднимаются немного выше, другие спускаются. Единственное отличие — в Москве в топ-10 входит \"ruspop\", а в Петербурге - “jazz”.\n",
    "\n",
    "Таким образом, вторая гипотеза подтвердилась лишь частично:\n",
    "* Пользователи слушают похожую музыку в начале недели и в конце.\n",
    "* Разница между Москвой и Петербургом не слишком выражена."
   ]
  },
  {
   "cell_type": "markdown",
   "metadata": {
    "id": "JolODAqr_Zcu"
   },
   "source": [
    "### Жанровые предпочтения в Москве и Петербурге\n",
    "\n",
    "Гипотеза: Петербург — столица рэпа, музыку этого жанра там слушают чаще, чем в Москве.  А Москва — город контрастов, в котором, тем не менее, преобладает поп-музыка."
   ]
  },
  {
   "cell_type": "markdown",
   "metadata": {
    "id": "DlegSvaT_Zcu"
   },
   "source": [
    "Сгруппируем таблицу `moscow_general` по жанру и посчитаем прослушивания треков каждого жанра методом `count()`. Затем отсортируем результат в порядке убывания и сохраним его в таблице `moscow_genres`."
   ]
  },
  {
   "cell_type": "code",
   "execution_count": 36,
   "metadata": {
    "id": "r19lIPke_Zcu"
   },
   "outputs": [],
   "source": [
    "# одной строкой: группировка таблицы moscow_general по столбцу 'genre', \n",
    "# подсчёт числа значений 'genre' в этой группировке методом count(), \n",
    "# сортировка получившегося Series в порядке убывания и сохранение в moscow_genres\n",
    "moscow_genres = moscow_general.groupby('genre')['genre'].count().sort_values(ascending=False)"
   ]
  },
  {
   "cell_type": "markdown",
   "metadata": {
    "id": "6kMuomxTiIr8"
   },
   "source": [
    "Выведите на экран первые десять строк `moscow_genres`:"
   ]
  },
  {
   "cell_type": "code",
   "execution_count": 37,
   "metadata": {
    "id": "WhCSooF8_Zcv"
   },
   "outputs": [
    {
     "data": {
      "text/html": [
       "<div>\n",
       "<style scoped>\n",
       "    .dataframe tbody tr th:only-of-type {\n",
       "        vertical-align: middle;\n",
       "    }\n",
       "\n",
       "    .dataframe tbody tr th {\n",
       "        vertical-align: top;\n",
       "    }\n",
       "\n",
       "    .dataframe thead th {\n",
       "        text-align: right;\n",
       "    }\n",
       "</style>\n",
       "<table border=\"1\" class=\"dataframe\">\n",
       "  <thead>\n",
       "    <tr style=\"text-align: right;\">\n",
       "      <th></th>\n",
       "      <th>genre</th>\n",
       "    </tr>\n",
       "    <tr>\n",
       "      <th>genre</th>\n",
       "      <th></th>\n",
       "    </tr>\n",
       "  </thead>\n",
       "  <tbody>\n",
       "    <tr>\n",
       "      <th>pop</th>\n",
       "      <td>5892</td>\n",
       "    </tr>\n",
       "    <tr>\n",
       "      <th>dance</th>\n",
       "      <td>4435</td>\n",
       "    </tr>\n",
       "    <tr>\n",
       "      <th>rock</th>\n",
       "      <td>3965</td>\n",
       "    </tr>\n",
       "    <tr>\n",
       "      <th>electronic</th>\n",
       "      <td>3786</td>\n",
       "    </tr>\n",
       "    <tr>\n",
       "      <th>hiphop</th>\n",
       "      <td>2096</td>\n",
       "    </tr>\n",
       "    <tr>\n",
       "      <th>classical</th>\n",
       "      <td>1616</td>\n",
       "    </tr>\n",
       "    <tr>\n",
       "      <th>world</th>\n",
       "      <td>1432</td>\n",
       "    </tr>\n",
       "    <tr>\n",
       "      <th>alternative</th>\n",
       "      <td>1379</td>\n",
       "    </tr>\n",
       "    <tr>\n",
       "      <th>ruspop</th>\n",
       "      <td>1372</td>\n",
       "    </tr>\n",
       "    <tr>\n",
       "      <th>rusrap</th>\n",
       "      <td>1161</td>\n",
       "    </tr>\n",
       "  </tbody>\n",
       "</table>\n",
       "</div>"
      ],
      "text/plain": [
       "             genre\n",
       "genre             \n",
       "pop           5892\n",
       "dance         4435\n",
       "rock          3965\n",
       "electronic    3786\n",
       "hiphop        2096\n",
       "classical     1616\n",
       "world         1432\n",
       "alternative   1379\n",
       "ruspop        1372\n",
       "rusrap        1161"
      ]
     },
     "execution_count": 37,
     "metadata": {},
     "output_type": "execute_result"
    }
   ],
   "source": [
    "moscow_genres.to_frame().head(10) # просмотр первых 10 строк moscow_genres"
   ]
  },
  {
   "cell_type": "markdown",
   "metadata": {
    "id": "cnPG2vnN_Zcv"
   },
   "source": [
    "Теперь повторим то же и для Петербурга.\n",
    "\n",
    "Сгруппируем таблицу `spb_general` по жанру. Посчитаеме прослушивания треков каждого жанра. Результат отсортируем в порядке убывания и сохраните в таблице `spb_genres`:"
   ]
  },
  {
   "cell_type": "code",
   "execution_count": 38,
   "metadata": {
    "id": "gluLIpE7_Zcv"
   },
   "outputs": [],
   "source": [
    "# одной строкой: группировка таблицы spb_general по столбцу 'genre', \n",
    "# подсчёт числа значений 'genre' в этой группировке методом count(), \n",
    "# сортировка получившегося Series в порядке убывания и сохранение в spb_genres\n",
    "spb_genres = spb_general.groupby('genre')['genre'].count().sort_values(ascending=False)"
   ]
  },
  {
   "cell_type": "markdown",
   "metadata": {
    "id": "5Doha_ODgyQ8"
   },
   "source": [
    "Выведем на экран первые десять строк `spb_genres`:"
   ]
  },
  {
   "cell_type": "code",
   "execution_count": 39,
   "metadata": {
    "id": "uaGJHjVU_Zcv"
   },
   "outputs": [
    {
     "data": {
      "text/html": [
       "<div>\n",
       "<style scoped>\n",
       "    .dataframe tbody tr th:only-of-type {\n",
       "        vertical-align: middle;\n",
       "    }\n",
       "\n",
       "    .dataframe tbody tr th {\n",
       "        vertical-align: top;\n",
       "    }\n",
       "\n",
       "    .dataframe thead th {\n",
       "        text-align: right;\n",
       "    }\n",
       "</style>\n",
       "<table border=\"1\" class=\"dataframe\">\n",
       "  <thead>\n",
       "    <tr style=\"text-align: right;\">\n",
       "      <th></th>\n",
       "      <th>genre</th>\n",
       "    </tr>\n",
       "    <tr>\n",
       "      <th>genre</th>\n",
       "      <th></th>\n",
       "    </tr>\n",
       "  </thead>\n",
       "  <tbody>\n",
       "    <tr>\n",
       "      <th>pop</th>\n",
       "      <td>2431</td>\n",
       "    </tr>\n",
       "    <tr>\n",
       "      <th>dance</th>\n",
       "      <td>1932</td>\n",
       "    </tr>\n",
       "    <tr>\n",
       "      <th>rock</th>\n",
       "      <td>1879</td>\n",
       "    </tr>\n",
       "    <tr>\n",
       "      <th>electronic</th>\n",
       "      <td>1736</td>\n",
       "    </tr>\n",
       "    <tr>\n",
       "      <th>hiphop</th>\n",
       "      <td>960</td>\n",
       "    </tr>\n",
       "    <tr>\n",
       "      <th>alternative</th>\n",
       "      <td>649</td>\n",
       "    </tr>\n",
       "    <tr>\n",
       "      <th>classical</th>\n",
       "      <td>646</td>\n",
       "    </tr>\n",
       "    <tr>\n",
       "      <th>rusrap</th>\n",
       "      <td>564</td>\n",
       "    </tr>\n",
       "    <tr>\n",
       "      <th>ruspop</th>\n",
       "      <td>538</td>\n",
       "    </tr>\n",
       "    <tr>\n",
       "      <th>world</th>\n",
       "      <td>515</td>\n",
       "    </tr>\n",
       "  </tbody>\n",
       "</table>\n",
       "</div>"
      ],
      "text/plain": [
       "             genre\n",
       "genre             \n",
       "pop           2431\n",
       "dance         1932\n",
       "rock          1879\n",
       "electronic    1736\n",
       "hiphop         960\n",
       "alternative    649\n",
       "classical      646\n",
       "rusrap         564\n",
       "ruspop         538\n",
       "world          515"
      ]
     },
     "execution_count": 39,
     "metadata": {},
     "output_type": "execute_result"
    }
   ],
   "source": [
    "spb_genres.to_frame().head(10) # просмотр первых 10 строк spb_genres"
   ]
  },
  {
   "cell_type": "markdown",
   "metadata": {
    "id": "RY51YJYu_Zcv"
   },
   "source": [
    "**Выводы**"
   ]
  },
  {
   "cell_type": "markdown",
   "metadata": {
    "id": "nVhnJEm__Zcv"
   },
   "source": [
    "Гипотеза частично подтвердилась:\n",
    "* Поп-музыка — самый популярный жанр в Москве, как и предполагала гипотеза. Более того, в топ-10 жанров встречается близкий жанр — русская популярная музыка.\n",
    "* Вопреки ожиданиям, рэп одинаково популярен в Москве и Петербурге. \n"
   ]
  },
  {
   "cell_type": "markdown",
   "metadata": {
    "id": "ykKQ0N65_Zcv"
   },
   "source": [
    "## Итоги исследования"
   ]
  },
  {
   "cell_type": "markdown",
   "metadata": {
    "id": "tjUwbHb3_Zcv"
   },
   "source": [
    "Вы проверили три гипотезы и установили:\n",
    "\n",
    "1. День недели по-разному влияет на активность пользователей в Москве и Петербурге. \n",
    "\n",
    "Первая гипотеза полностью подтвердилась.\n",
    "\n",
    "2. Музыкальные предпочтения не сильно меняются в течение недели — будь то Москва или Петербург. Небольшие различия заметны что в начале недели, по понедельникам, что в конце неделе, по пятницам:\n",
    "* в Москве больше слушают музыку жанра \"world\",\n",
    "* в Петербурге — “jazz” и \"classical\".\n",
    "\n",
    "Таким образом, вторая гипотеза подтвердилась лишь отчасти. \n",
    "\n",
    "3. Во вкусах пользователей Москвы и Петербурга больше общего чем различий. Вопреки ожиданиям, предпочтения жанров в Петербурге напоминают московские.\n",
    "\n",
    "Третья гипотеза не подтвердилась. Жанр \"pop\" безусловный лидер для жителей Москвы и Петербурга. Если различия в предпочтениях, на основной массе пользователей они незаметны.\n"
   ]
  }
 ],
 "metadata": {
  "ExecuteTimeLog": [
   {
    "duration": 294,
    "start_time": "2022-01-30T10:00:15.190Z"
   },
   {
    "duration": 251,
    "start_time": "2022-01-30T10:03:25.479Z"
   },
   {
    "duration": 602,
    "start_time": "2022-01-30T10:04:09.551Z"
   },
   {
    "duration": 146,
    "start_time": "2022-01-30T10:04:19.467Z"
   },
   {
    "duration": 17,
    "start_time": "2022-01-30T10:04:25.752Z"
   },
   {
    "duration": 25,
    "start_time": "2022-01-30T10:05:10.492Z"
   },
   {
    "duration": 4,
    "start_time": "2022-01-30T10:16:11.323Z"
   },
   {
    "duration": 79,
    "start_time": "2022-01-30T10:28:54.089Z"
   },
   {
    "duration": 83,
    "start_time": "2022-01-30T10:30:43.991Z"
   },
   {
    "duration": 22,
    "start_time": "2022-01-30T10:31:16.019Z"
   },
   {
    "duration": 5,
    "start_time": "2022-01-30T10:31:57.939Z"
   },
   {
    "duration": 23,
    "start_time": "2022-01-30T10:36:05.740Z"
   },
   {
    "duration": 18,
    "start_time": "2022-01-30T10:41:14.611Z"
   },
   {
    "duration": 24,
    "start_time": "2022-01-30T10:41:33.943Z"
   },
   {
    "duration": 61,
    "start_time": "2022-01-30T10:44:20.665Z"
   },
   {
    "duration": 73,
    "start_time": "2022-01-30T10:46:24.532Z"
   },
   {
    "duration": 48,
    "start_time": "2022-01-30T10:47:14.317Z"
   },
   {
    "duration": 79,
    "start_time": "2022-01-30T11:35:19.179Z"
   },
   {
    "duration": 13,
    "start_time": "2022-01-30T11:40:47.518Z"
   },
   {
    "duration": 22,
    "start_time": "2022-01-30T11:40:54.584Z"
   },
   {
    "duration": 76,
    "start_time": "2022-01-30T11:41:07.772Z"
   },
   {
    "duration": 52,
    "start_time": "2022-01-30T11:41:28.350Z"
   },
   {
    "duration": 52,
    "start_time": "2022-01-30T11:43:05.624Z"
   },
   {
    "duration": 59,
    "start_time": "2022-01-30T11:43:17.744Z"
   },
   {
    "duration": 52,
    "start_time": "2022-01-30T11:43:21.465Z"
   },
   {
    "duration": 52,
    "start_time": "2022-01-30T11:44:30.442Z"
   },
   {
    "duration": 66,
    "start_time": "2022-01-30T11:44:30.495Z"
   },
   {
    "duration": 50,
    "start_time": "2022-01-30T11:44:30.563Z"
   },
   {
    "duration": 11,
    "start_time": "2022-01-30T11:44:30.615Z"
   },
   {
    "duration": 2,
    "start_time": "2022-01-30T11:44:30.628Z"
   },
   {
    "duration": 29,
    "start_time": "2022-01-30T11:44:30.631Z"
   },
   {
    "duration": 2,
    "start_time": "2022-01-30T11:44:30.662Z"
   },
   {
    "duration": 6,
    "start_time": "2022-01-30T11:44:30.666Z"
   },
   {
    "duration": 11,
    "start_time": "2022-01-30T11:44:30.674Z"
   },
   {
    "duration": 6,
    "start_time": "2022-01-30T11:44:30.687Z"
   },
   {
    "duration": 9,
    "start_time": "2022-01-30T11:44:30.695Z"
   },
   {
    "duration": 5,
    "start_time": "2022-01-30T11:44:30.705Z"
   },
   {
    "duration": 9,
    "start_time": "2022-01-30T11:44:30.712Z"
   },
   {
    "duration": 9,
    "start_time": "2022-01-30T11:44:30.723Z"
   },
   {
    "duration": 11,
    "start_time": "2022-01-30T11:44:30.734Z"
   },
   {
    "duration": 12,
    "start_time": "2022-01-30T11:44:30.746Z"
   },
   {
    "duration": 25,
    "start_time": "2022-01-30T11:44:30.760Z"
   },
   {
    "duration": 5,
    "start_time": "2022-01-30T11:44:30.793Z"
   },
   {
    "duration": 21,
    "start_time": "2022-01-30T11:44:30.800Z"
   },
   {
    "duration": 8,
    "start_time": "2022-01-30T11:44:30.824Z"
   },
   {
    "duration": 13,
    "start_time": "2022-01-30T11:44:30.834Z"
   },
   {
    "duration": 3,
    "start_time": "2022-01-30T11:44:30.914Z"
   },
   {
    "duration": 13,
    "start_time": "2022-01-30T11:44:30.919Z"
   },
   {
    "duration": 11,
    "start_time": "2022-01-30T11:44:30.934Z"
   },
   {
    "duration": 17,
    "start_time": "2022-01-30T11:44:30.947Z"
   },
   {
    "duration": 12,
    "start_time": "2022-01-30T11:44:30.966Z"
   },
   {
    "duration": 18,
    "start_time": "2022-01-30T11:44:30.980Z"
   },
   {
    "duration": 9,
    "start_time": "2022-01-30T11:44:31.000Z"
   },
   {
    "duration": 3,
    "start_time": "2022-01-30T11:45:03.784Z"
   },
   {
    "duration": 136,
    "start_time": "2022-01-30T11:45:03.789Z"
   },
   {
    "duration": 10,
    "start_time": "2022-01-30T11:45:03.927Z"
   },
   {
    "duration": 29,
    "start_time": "2022-01-30T11:45:03.939Z"
   },
   {
    "duration": 4,
    "start_time": "2022-01-30T11:45:03.970Z"
   },
   {
    "duration": 20,
    "start_time": "2022-01-30T11:45:03.976Z"
   },
   {
    "duration": 5,
    "start_time": "2022-01-30T11:45:03.998Z"
   },
   {
    "duration": 24,
    "start_time": "2022-01-30T11:45:04.006Z"
   },
   {
    "duration": 46,
    "start_time": "2022-01-30T11:45:04.032Z"
   },
   {
    "duration": 37,
    "start_time": "2022-01-30T11:45:04.079Z"
   },
   {
    "duration": 15,
    "start_time": "2022-01-30T11:45:38.676Z"
   },
   {
    "duration": 24,
    "start_time": "2022-01-30T11:45:42.001Z"
   },
   {
    "duration": 14,
    "start_time": "2022-01-30T11:48:08.425Z"
   },
   {
    "duration": 273,
    "start_time": "2022-01-30T11:48:11.695Z"
   },
   {
    "duration": 291,
    "start_time": "2022-01-30T11:49:16.736Z"
   },
   {
    "duration": 252,
    "start_time": "2022-01-30T11:50:54.666Z"
   },
   {
    "duration": 261,
    "start_time": "2022-01-30T11:53:28.309Z"
   },
   {
    "duration": 417,
    "start_time": "2022-01-30T11:53:56.117Z"
   },
   {
    "duration": 3,
    "start_time": "2022-01-30T11:54:02.976Z"
   },
   {
    "duration": 150,
    "start_time": "2022-01-30T11:54:07.674Z"
   },
   {
    "duration": 11,
    "start_time": "2022-01-30T11:54:12.743Z"
   },
   {
    "duration": 30,
    "start_time": "2022-01-30T11:54:16.940Z"
   },
   {
    "duration": 4,
    "start_time": "2022-01-30T11:54:23.547Z"
   },
   {
    "duration": 17,
    "start_time": "2022-01-30T11:54:30.274Z"
   },
   {
    "duration": 4,
    "start_time": "2022-01-30T11:54:36.145Z"
   },
   {
    "duration": 23,
    "start_time": "2022-01-30T11:54:39.712Z"
   },
   {
    "duration": 18,
    "start_time": "2022-01-30T11:54:44.539Z"
   },
   {
    "duration": 24,
    "start_time": "2022-01-30T11:54:52.886Z"
   },
   {
    "duration": 17,
    "start_time": "2022-01-30T11:56:42.464Z"
   },
   {
    "duration": 24,
    "start_time": "2022-01-30T11:56:46.377Z"
   },
   {
    "duration": 54,
    "start_time": "2022-01-30T11:58:10.632Z"
   },
   {
    "duration": 64,
    "start_time": "2022-01-30T11:58:29.272Z"
   },
   {
    "duration": 57,
    "start_time": "2022-01-30T11:58:45.824Z"
   },
   {
    "duration": 241,
    "start_time": "2022-01-30T12:51:44.707Z"
   },
   {
    "duration": 256,
    "start_time": "2022-01-30T12:53:07.179Z"
   },
   {
    "duration": 11,
    "start_time": "2022-01-30T12:54:56.015Z"
   },
   {
    "duration": 9,
    "start_time": "2022-01-30T12:55:52.979Z"
   },
   {
    "duration": 3458,
    "start_time": "2022-01-30T13:08:24.093Z"
   },
   {
    "duration": 7,
    "start_time": "2022-01-30T13:09:32.355Z"
   },
   {
    "duration": 11,
    "start_time": "2022-01-30T13:16:55.045Z"
   },
   {
    "duration": 7,
    "start_time": "2022-01-30T13:18:04.579Z"
   },
   {
    "duration": 125,
    "start_time": "2022-01-30T14:24:29.983Z"
   },
   {
    "duration": 92,
    "start_time": "2022-01-30T14:25:03.141Z"
   },
   {
    "duration": 92,
    "start_time": "2022-01-30T14:26:24.524Z"
   },
   {
    "duration": 85,
    "start_time": "2022-01-30T14:27:25.409Z"
   },
   {
    "duration": 86,
    "start_time": "2022-01-30T14:31:20.792Z"
   },
   {
    "duration": 88,
    "start_time": "2022-01-30T14:32:09.170Z"
   },
   {
    "duration": 82,
    "start_time": "2022-01-30T14:32:25.760Z"
   },
   {
    "duration": 86,
    "start_time": "2022-01-30T14:32:39.792Z"
   },
   {
    "duration": 105,
    "start_time": "2022-01-30T14:32:57.031Z"
   },
   {
    "duration": 88,
    "start_time": "2022-01-30T14:33:42.791Z"
   },
   {
    "duration": 84,
    "start_time": "2022-01-30T14:33:58.712Z"
   },
   {
    "duration": 256,
    "start_time": "2022-01-30T14:35:03.589Z"
   },
   {
    "duration": 3,
    "start_time": "2022-01-30T14:37:02.681Z"
   },
   {
    "duration": 3,
    "start_time": "2022-01-30T14:40:51.488Z"
   },
   {
    "duration": 3,
    "start_time": "2022-01-30T15:11:02.896Z"
   },
   {
    "duration": 300,
    "start_time": "2022-01-30T15:11:56.632Z"
   },
   {
    "duration": 5,
    "start_time": "2022-01-30T15:12:06.120Z"
   },
   {
    "duration": 295,
    "start_time": "2022-01-30T15:19:23.664Z"
   },
   {
    "duration": 3,
    "start_time": "2022-01-30T15:20:08.465Z"
   },
   {
    "duration": 352,
    "start_time": "2022-01-30T15:20:13.458Z"
   },
   {
    "duration": 4,
    "start_time": "2022-01-30T15:20:21.051Z"
   },
   {
    "duration": 91,
    "start_time": "2022-01-30T15:27:07.416Z"
   },
   {
    "duration": 3,
    "start_time": "2022-01-30T15:29:49.991Z"
   },
   {
    "duration": 3,
    "start_time": "2022-01-30T15:30:14.482Z"
   },
   {
    "duration": 6,
    "start_time": "2022-01-30T15:32:52.837Z"
   },
   {
    "duration": 3,
    "start_time": "2022-01-30T15:39:25.449Z"
   },
   {
    "duration": 8,
    "start_time": "2022-01-30T15:39:29.368Z"
   },
   {
    "duration": 3,
    "start_time": "2022-01-30T15:43:07.430Z"
   },
   {
    "duration": 8,
    "start_time": "2022-01-30T15:43:11.678Z"
   },
   {
    "duration": 259,
    "start_time": "2022-01-30T15:44:06.350Z"
   },
   {
    "duration": 4,
    "start_time": "2022-01-30T15:45:23.719Z"
   },
   {
    "duration": 7,
    "start_time": "2022-01-30T15:45:26.473Z"
   },
   {
    "duration": 91,
    "start_time": "2022-01-30T16:00:06.774Z"
   },
   {
    "duration": 12,
    "start_time": "2022-01-30T16:00:20.517Z"
   },
   {
    "duration": 413,
    "start_time": "2022-01-30T16:03:09.142Z"
   },
   {
    "duration": 479,
    "start_time": "2022-01-30T16:03:45.205Z"
   },
   {
    "duration": 3,
    "start_time": "2022-01-30T16:04:58.575Z"
   },
   {
    "duration": 5,
    "start_time": "2022-01-30T16:05:15.003Z"
   },
   {
    "duration": 6,
    "start_time": "2022-01-30T16:05:25.122Z"
   },
   {
    "duration": 15,
    "start_time": "2022-01-30T16:16:16.535Z"
   },
   {
    "duration": 271,
    "start_time": "2022-01-30T16:17:32.474Z"
   },
   {
    "duration": 10,
    "start_time": "2022-01-30T16:18:22.252Z"
   },
   {
    "duration": 3,
    "start_time": "2022-01-30T17:57:51.245Z"
   },
   {
    "duration": 16,
    "start_time": "2022-01-30T17:57:59.400Z"
   },
   {
    "duration": 13,
    "start_time": "2022-01-30T17:59:25.870Z"
   },
   {
    "duration": 16,
    "start_time": "2022-01-30T18:00:20.849Z"
   },
   {
    "duration": 14,
    "start_time": "2022-01-30T18:00:42.596Z"
   },
   {
    "duration": 18,
    "start_time": "2022-01-30T18:01:41.025Z"
   },
   {
    "duration": 14,
    "start_time": "2022-01-30T18:02:03.087Z"
   },
   {
    "duration": 10,
    "start_time": "2022-01-30T18:10:39.486Z"
   },
   {
    "duration": 12,
    "start_time": "2022-01-30T18:16:38.091Z"
   },
   {
    "duration": 10,
    "start_time": "2022-01-30T18:17:49.167Z"
   },
   {
    "duration": 24,
    "start_time": "2022-01-30T18:19:51.075Z"
   },
   {
    "duration": 22,
    "start_time": "2022-01-30T18:20:15.588Z"
   },
   {
    "duration": 4,
    "start_time": "2022-01-30T19:24:34.991Z"
   },
   {
    "duration": 27,
    "start_time": "2022-01-30T19:32:44.529Z"
   },
   {
    "duration": 18,
    "start_time": "2022-01-30T19:34:37.536Z"
   },
   {
    "duration": 30,
    "start_time": "2022-01-30T19:35:44.074Z"
   },
   {
    "duration": 25,
    "start_time": "2022-01-30T19:37:05.187Z"
   },
   {
    "duration": 28,
    "start_time": "2022-01-30T19:39:29.370Z"
   },
   {
    "duration": 19,
    "start_time": "2022-01-30T19:39:35.472Z"
   },
   {
    "duration": 3,
    "start_time": "2022-01-30T19:52:18.214Z"
   },
   {
    "duration": 18,
    "start_time": "2022-01-30T19:52:22.909Z"
   },
   {
    "duration": 23,
    "start_time": "2022-01-30T19:52:28.856Z"
   },
   {
    "duration": 17,
    "start_time": "2022-01-30T19:52:34.426Z"
   },
   {
    "duration": 24,
    "start_time": "2022-01-30T19:52:40.856Z"
   },
   {
    "duration": 20,
    "start_time": "2022-01-30T19:52:45.001Z"
   },
   {
    "duration": 18,
    "start_time": "2022-01-30T19:52:49.649Z"
   },
   {
    "duration": 9,
    "start_time": "2022-01-30T19:52:59.316Z"
   },
   {
    "duration": 21,
    "start_time": "2022-01-30T19:53:18.471Z"
   },
   {
    "duration": 21,
    "start_time": "2022-01-30T19:53:22.198Z"
   },
   {
    "duration": 4,
    "start_time": "2022-01-30T19:53:30.733Z"
   },
   {
    "duration": 31,
    "start_time": "2022-01-30T19:53:37.603Z"
   },
   {
    "duration": 16,
    "start_time": "2022-01-30T19:53:51.385Z"
   },
   {
    "duration": 72,
    "start_time": "2022-01-30T19:53:57.072Z"
   },
   {
    "duration": 44,
    "start_time": "2022-01-30T19:54:01.230Z"
   },
   {
    "duration": 563,
    "start_time": "2022-01-31T16:18:53.961Z"
   },
   {
    "duration": 792,
    "start_time": "2022-01-31T16:19:10.459Z"
   },
   {
    "duration": 189,
    "start_time": "2022-01-31T16:19:11.254Z"
   },
   {
    "duration": 30,
    "start_time": "2022-01-31T16:19:11.447Z"
   },
   {
    "duration": 33,
    "start_time": "2022-01-31T16:19:11.480Z"
   },
   {
    "duration": 5,
    "start_time": "2022-01-31T16:19:11.516Z"
   },
   {
    "duration": 58,
    "start_time": "2022-01-31T16:19:11.524Z"
   },
   {
    "duration": 5,
    "start_time": "2022-01-31T16:19:11.585Z"
   },
   {
    "duration": 32,
    "start_time": "2022-01-31T16:19:11.594Z"
   },
   {
    "duration": 44,
    "start_time": "2022-01-31T16:19:11.629Z"
   },
   {
    "duration": 31,
    "start_time": "2022-01-31T16:19:11.676Z"
   },
   {
    "duration": 113,
    "start_time": "2022-01-31T16:19:11.710Z"
   },
   {
    "duration": 111,
    "start_time": "2022-01-31T16:19:11.825Z"
   },
   {
    "duration": 121,
    "start_time": "2022-01-31T16:19:11.939Z"
   },
   {
    "duration": 443,
    "start_time": "2022-01-31T16:19:12.063Z"
   },
   {
    "duration": -421,
    "start_time": "2022-01-31T16:19:12.932Z"
   },
   {
    "duration": -427,
    "start_time": "2022-01-31T16:19:12.940Z"
   },
   {
    "duration": -428,
    "start_time": "2022-01-31T16:19:12.943Z"
   },
   {
    "duration": -428,
    "start_time": "2022-01-31T16:19:12.945Z"
   },
   {
    "duration": -587,
    "start_time": "2022-01-31T16:19:13.106Z"
   },
   {
    "duration": -588,
    "start_time": "2022-01-31T16:19:13.109Z"
   },
   {
    "duration": -590,
    "start_time": "2022-01-31T16:19:13.113Z"
   },
   {
    "duration": -640,
    "start_time": "2022-01-31T16:19:13.165Z"
   },
   {
    "duration": -647,
    "start_time": "2022-01-31T16:19:13.175Z"
   },
   {
    "duration": -657,
    "start_time": "2022-01-31T16:19:13.187Z"
   },
   {
    "duration": -662,
    "start_time": "2022-01-31T16:19:13.194Z"
   },
   {
    "duration": -663,
    "start_time": "2022-01-31T16:19:13.197Z"
   },
   {
    "duration": -664,
    "start_time": "2022-01-31T16:19:13.200Z"
   },
   {
    "duration": -743,
    "start_time": "2022-01-31T16:19:13.281Z"
   },
   {
    "duration": -744,
    "start_time": "2022-01-31T16:19:13.284Z"
   },
   {
    "duration": -862,
    "start_time": "2022-01-31T16:19:13.405Z"
   },
   {
    "duration": -866,
    "start_time": "2022-01-31T16:19:13.411Z"
   },
   {
    "duration": -869,
    "start_time": "2022-01-31T16:19:13.415Z"
   },
   {
    "duration": -864,
    "start_time": "2022-01-31T16:19:13.422Z"
   },
   {
    "duration": -865,
    "start_time": "2022-01-31T16:19:13.425Z"
   },
   {
    "duration": -867,
    "start_time": "2022-01-31T16:19:13.428Z"
   },
   {
    "duration": -869,
    "start_time": "2022-01-31T16:19:13.432Z"
   },
   {
    "duration": -872,
    "start_time": "2022-01-31T16:19:13.436Z"
   },
   {
    "duration": -873,
    "start_time": "2022-01-31T16:19:13.439Z"
   },
   {
    "duration": 483,
    "start_time": "2022-01-31T16:29:21.876Z"
   },
   {
    "duration": 4,
    "start_time": "2022-01-31T16:29:36.319Z"
   },
   {
    "duration": 468,
    "start_time": "2022-01-31T16:30:02.669Z"
   },
   {
    "duration": 369,
    "start_time": "2022-01-31T16:32:19.785Z"
   },
   {
    "duration": 9,
    "start_time": "2022-01-31T16:32:48.226Z"
   },
   {
    "duration": 377,
    "start_time": "2022-01-31T16:42:28.864Z"
   },
   {
    "duration": 480,
    "start_time": "2022-01-31T16:42:46.844Z"
   },
   {
    "duration": 68,
    "start_time": "2022-01-31T16:55:12.288Z"
   },
   {
    "duration": 496,
    "start_time": "2022-01-31T16:55:57.873Z"
   },
   {
    "duration": 4,
    "start_time": "2022-01-31T16:56:35.179Z"
   },
   {
    "duration": 183,
    "start_time": "2022-01-31T16:56:35.190Z"
   },
   {
    "duration": 15,
    "start_time": "2022-01-31T16:56:35.376Z"
   },
   {
    "duration": 73,
    "start_time": "2022-01-31T16:56:35.395Z"
   },
   {
    "duration": 6,
    "start_time": "2022-01-31T16:56:35.472Z"
   },
   {
    "duration": 33,
    "start_time": "2022-01-31T16:56:35.481Z"
   },
   {
    "duration": 44,
    "start_time": "2022-01-31T16:56:35.517Z"
   },
   {
    "duration": 31,
    "start_time": "2022-01-31T16:56:35.563Z"
   },
   {
    "duration": 24,
    "start_time": "2022-01-31T16:56:35.596Z"
   },
   {
    "duration": 64,
    "start_time": "2022-01-31T16:56:35.624Z"
   },
   {
    "duration": 96,
    "start_time": "2022-01-31T16:56:35.691Z"
   },
   {
    "duration": 108,
    "start_time": "2022-01-31T16:56:35.789Z"
   },
   {
    "duration": 79,
    "start_time": "2022-01-31T16:56:35.899Z"
   },
   {
    "duration": 94,
    "start_time": "2022-01-31T16:56:35.980Z"
   },
   {
    "duration": 355,
    "start_time": "2022-01-31T16:56:36.077Z"
   },
   {
    "duration": -311,
    "start_time": "2022-01-31T16:56:36.746Z"
   },
   {
    "duration": -314,
    "start_time": "2022-01-31T16:56:36.750Z"
   },
   {
    "duration": -315,
    "start_time": "2022-01-31T16:56:36.753Z"
   },
   {
    "duration": -317,
    "start_time": "2022-01-31T16:56:36.756Z"
   },
   {
    "duration": -318,
    "start_time": "2022-01-31T16:56:36.759Z"
   },
   {
    "duration": -460,
    "start_time": "2022-01-31T16:56:36.902Z"
   },
   {
    "duration": -464,
    "start_time": "2022-01-31T16:56:36.908Z"
   },
   {
    "duration": -583,
    "start_time": "2022-01-31T16:56:37.028Z"
   },
   {
    "duration": -598,
    "start_time": "2022-01-31T16:56:37.044Z"
   },
   {
    "duration": -608,
    "start_time": "2022-01-31T16:56:37.056Z"
   },
   {
    "duration": -610,
    "start_time": "2022-01-31T16:56:37.059Z"
   },
   {
    "duration": -610,
    "start_time": "2022-01-31T16:56:37.061Z"
   },
   {
    "duration": -612,
    "start_time": "2022-01-31T16:56:37.064Z"
   },
   {
    "duration": 26,
    "start_time": "2022-01-31T16:56:36.489Z"
   },
   {
    "duration": 5,
    "start_time": "2022-01-31T16:56:36.518Z"
   },
   {
    "duration": 383,
    "start_time": "2022-01-31T16:56:36.526Z"
   },
   {
    "duration": -670,
    "start_time": "2022-01-31T16:56:37.582Z"
   },
   {
    "duration": -679,
    "start_time": "2022-01-31T16:56:37.592Z"
   },
   {
    "duration": -681,
    "start_time": "2022-01-31T16:56:37.595Z"
   },
   {
    "duration": -684,
    "start_time": "2022-01-31T16:56:37.600Z"
   },
   {
    "duration": -686,
    "start_time": "2022-01-31T16:56:37.603Z"
   },
   {
    "duration": -815,
    "start_time": "2022-01-31T16:56:37.734Z"
   },
   {
    "duration": -820,
    "start_time": "2022-01-31T16:56:37.740Z"
   },
   {
    "duration": 503,
    "start_time": "2022-01-31T17:16:40.668Z"
   },
   {
    "duration": 5,
    "start_time": "2022-01-31T17:17:26.032Z"
   },
   {
    "duration": 5,
    "start_time": "2022-01-31T17:17:35.584Z"
   },
   {
    "duration": 380,
    "start_time": "2022-01-31T17:17:42.634Z"
   },
   {
    "duration": 71,
    "start_time": "2022-01-31T17:18:06.625Z"
   },
   {
    "duration": 3,
    "start_time": "2022-01-31T17:19:43.177Z"
   },
   {
    "duration": 4,
    "start_time": "2022-01-31T17:19:46.970Z"
   },
   {
    "duration": 76,
    "start_time": "2022-01-31T17:19:52.883Z"
   },
   {
    "duration": 28,
    "start_time": "2022-01-31T17:32:41.510Z"
   },
   {
    "duration": 29,
    "start_time": "2022-01-31T17:34:01.369Z"
   },
   {
    "duration": 4,
    "start_time": "2022-01-31T17:34:11.524Z"
   },
   {
    "duration": 74,
    "start_time": "2022-01-31T17:34:15.254Z"
   },
   {
    "duration": 29,
    "start_time": "2022-01-31T17:39:49.983Z"
   },
   {
    "duration": 5,
    "start_time": "2022-01-31T17:40:06.967Z"
   },
   {
    "duration": 73,
    "start_time": "2022-01-31T17:40:11.245Z"
   },
   {
    "duration": 15,
    "start_time": "2022-01-31T17:43:02.081Z"
   },
   {
    "duration": 15,
    "start_time": "2022-01-31T17:43:10.042Z"
   },
   {
    "duration": 5,
    "start_time": "2022-01-31T17:43:20.368Z"
   },
   {
    "duration": 21,
    "start_time": "2022-01-31T17:43:27.900Z"
   },
   {
    "duration": 26,
    "start_time": "2022-01-31T17:43:31.045Z"
   },
   {
    "duration": 18,
    "start_time": "2022-01-31T17:43:34.160Z"
   },
   {
    "duration": 18,
    "start_time": "2022-01-31T17:43:39.000Z"
   },
   {
    "duration": 22,
    "start_time": "2022-01-31T17:43:42.240Z"
   },
   {
    "duration": 17,
    "start_time": "2022-01-31T17:43:45.340Z"
   },
   {
    "duration": 13,
    "start_time": "2022-01-31T17:43:52.399Z"
   },
   {
    "duration": 13,
    "start_time": "2022-01-31T17:44:40.895Z"
   },
   {
    "duration": 46,
    "start_time": "2022-01-31T17:45:35.620Z"
   },
   {
    "duration": 31,
    "start_time": "2022-01-31T17:46:06.938Z"
   },
   {
    "duration": 6,
    "start_time": "2022-01-31T17:46:18.948Z"
   },
   {
    "duration": 39,
    "start_time": "2022-01-31T17:46:29.681Z"
   },
   {
    "duration": 23,
    "start_time": "2022-01-31T17:46:38.409Z"
   },
   {
    "duration": 39,
    "start_time": "2022-01-31T17:46:43.748Z"
   },
   {
    "duration": 26,
    "start_time": "2022-01-31T17:46:51.427Z"
   },
   {
    "duration": 15,
    "start_time": "2022-01-31T17:53:01.031Z"
   },
   {
    "duration": 776,
    "start_time": "2022-01-31T17:53:40.627Z"
   },
   {
    "duration": 439,
    "start_time": "2022-01-31T17:54:16.708Z"
   },
   {
    "duration": 366,
    "start_time": "2022-01-31T17:54:33.141Z"
   },
   {
    "duration": 11,
    "start_time": "2022-01-31T18:13:45.406Z"
   },
   {
    "duration": 7,
    "start_time": "2022-01-31T18:13:57.861Z"
   },
   {
    "duration": 9,
    "start_time": "2022-01-31T18:25:18.817Z"
   },
   {
    "duration": 8,
    "start_time": "2022-01-31T18:25:25.246Z"
   },
   {
    "duration": 556,
    "start_time": "2022-02-10T03:52:33.160Z"
   },
   {
    "duration": 126,
    "start_time": "2022-02-10T03:52:33.717Z"
   },
   {
    "duration": 19,
    "start_time": "2022-02-10T03:52:33.845Z"
   },
   {
    "duration": 27,
    "start_time": "2022-02-10T03:52:33.865Z"
   },
   {
    "duration": 19,
    "start_time": "2022-02-10T03:52:33.894Z"
   },
   {
    "duration": 39,
    "start_time": "2022-02-10T03:52:33.914Z"
   },
   {
    "duration": 17,
    "start_time": "2022-02-10T03:52:33.955Z"
   },
   {
    "duration": 39,
    "start_time": "2022-02-10T03:52:33.973Z"
   },
   {
    "duration": 30,
    "start_time": "2022-02-10T03:52:34.015Z"
   },
   {
    "duration": 40,
    "start_time": "2022-02-10T03:52:34.047Z"
   },
   {
    "duration": 67,
    "start_time": "2022-02-10T03:52:34.089Z"
   },
   {
    "duration": 67,
    "start_time": "2022-02-10T03:52:34.158Z"
   },
   {
    "duration": 65,
    "start_time": "2022-02-10T03:52:34.226Z"
   },
   {
    "duration": 45,
    "start_time": "2022-02-10T03:52:34.293Z"
   },
   {
    "duration": 224,
    "start_time": "2022-02-10T03:52:34.339Z"
   },
   {
    "duration": -3195,
    "start_time": "2022-02-10T03:52:37.760Z"
   },
   {
    "duration": -3196,
    "start_time": "2022-02-10T03:52:37.762Z"
   },
   {
    "duration": -3201,
    "start_time": "2022-02-10T03:52:37.768Z"
   },
   {
    "duration": -3200,
    "start_time": "2022-02-10T03:52:37.769Z"
   },
   {
    "duration": -3201,
    "start_time": "2022-02-10T03:52:37.771Z"
   },
   {
    "duration": -3201,
    "start_time": "2022-02-10T03:52:37.772Z"
   },
   {
    "duration": -3201,
    "start_time": "2022-02-10T03:52:37.773Z"
   },
   {
    "duration": -3202,
    "start_time": "2022-02-10T03:52:37.774Z"
   },
   {
    "duration": -3202,
    "start_time": "2022-02-10T03:52:37.775Z"
   },
   {
    "duration": -3202,
    "start_time": "2022-02-10T03:52:37.777Z"
   },
   {
    "duration": -3203,
    "start_time": "2022-02-10T03:52:37.778Z"
   },
   {
    "duration": -3231,
    "start_time": "2022-02-10T03:52:37.807Z"
   },
   {
    "duration": -3231,
    "start_time": "2022-02-10T03:52:37.808Z"
   },
   {
    "duration": -3231,
    "start_time": "2022-02-10T03:52:37.809Z"
   },
   {
    "duration": -3231,
    "start_time": "2022-02-10T03:52:37.810Z"
   },
   {
    "duration": -3231,
    "start_time": "2022-02-10T03:52:37.811Z"
   },
   {
    "duration": -3231,
    "start_time": "2022-02-10T03:52:37.812Z"
   },
   {
    "duration": -3231,
    "start_time": "2022-02-10T03:52:37.813Z"
   },
   {
    "duration": -3234,
    "start_time": "2022-02-10T03:52:37.817Z"
   },
   {
    "duration": -3234,
    "start_time": "2022-02-10T03:52:37.818Z"
   },
   {
    "duration": -3234,
    "start_time": "2022-02-10T03:52:37.819Z"
   },
   {
    "duration": -3234,
    "start_time": "2022-02-10T03:52:37.820Z"
   },
   {
    "duration": -3234,
    "start_time": "2022-02-10T03:52:37.821Z"
   },
   {
    "duration": 52,
    "start_time": "2022-02-10T03:56:54.333Z"
   },
   {
    "duration": 10,
    "start_time": "2022-02-10T03:56:54.387Z"
   },
   {
    "duration": 12,
    "start_time": "2022-02-10T03:56:54.399Z"
   },
   {
    "duration": 3,
    "start_time": "2022-02-10T03:56:54.413Z"
   },
   {
    "duration": 42,
    "start_time": "2022-02-10T03:56:54.417Z"
   },
   {
    "duration": 15,
    "start_time": "2022-02-10T03:56:54.461Z"
   },
   {
    "duration": 15,
    "start_time": "2022-02-10T03:56:54.478Z"
   },
   {
    "duration": 13,
    "start_time": "2022-02-10T03:56:54.496Z"
   },
   {
    "duration": 16,
    "start_time": "2022-02-10T03:56:54.512Z"
   },
   {
    "duration": 44,
    "start_time": "2022-02-10T03:56:54.529Z"
   },
   {
    "duration": 9,
    "start_time": "2022-02-10T03:56:54.574Z"
   },
   {
    "duration": 23,
    "start_time": "2022-02-10T03:56:54.584Z"
   },
   {
    "duration": 17,
    "start_time": "2022-02-10T03:56:54.608Z"
   },
   {
    "duration": 3,
    "start_time": "2022-02-10T03:56:54.627Z"
   },
   {
    "duration": 62,
    "start_time": "2022-02-10T03:56:54.632Z"
   },
   {
    "duration": 17,
    "start_time": "2022-02-10T03:56:54.696Z"
   },
   {
    "duration": 28,
    "start_time": "2022-02-10T03:56:54.715Z"
   },
   {
    "duration": 19,
    "start_time": "2022-02-10T03:56:54.759Z"
   },
   {
    "duration": 7,
    "start_time": "2022-02-10T03:56:54.780Z"
   },
   {
    "duration": 7,
    "start_time": "2022-02-10T03:56:54.789Z"
   },
   {
    "duration": 9,
    "start_time": "2022-02-10T03:56:54.798Z"
   },
   {
    "duration": 8,
    "start_time": "2022-02-10T03:56:54.809Z"
   },
   {
    "duration": 14,
    "start_time": "2022-02-10T03:57:11.772Z"
   },
   {
    "duration": 6,
    "start_time": "2022-02-10T03:58:19.016Z"
   },
   {
    "duration": 324,
    "start_time": "2022-02-10T16:50:25.717Z"
   },
   {
    "duration": 705,
    "start_time": "2022-02-10T16:52:55.562Z"
   },
   {
    "duration": 184,
    "start_time": "2022-02-10T16:52:56.270Z"
   },
   {
    "duration": 27,
    "start_time": "2022-02-10T16:52:56.458Z"
   },
   {
    "duration": 53,
    "start_time": "2022-02-10T16:52:56.488Z"
   },
   {
    "duration": 6,
    "start_time": "2022-02-10T16:52:56.543Z"
   },
   {
    "duration": 25,
    "start_time": "2022-02-10T16:52:58.239Z"
   },
   {
    "duration": 7,
    "start_time": "2022-02-10T16:52:58.267Z"
   },
   {
    "duration": 31,
    "start_time": "2022-02-10T16:52:58.277Z"
   },
   {
    "duration": 21,
    "start_time": "2022-02-10T16:52:58.794Z"
   },
   {
    "duration": 32,
    "start_time": "2022-02-10T16:52:58.819Z"
   },
   {
    "duration": 106,
    "start_time": "2022-02-10T16:52:58.854Z"
   },
   {
    "duration": 113,
    "start_time": "2022-02-10T16:53:01.306Z"
   },
   {
    "duration": 83,
    "start_time": "2022-02-10T16:53:01.422Z"
   },
   {
    "duration": 73,
    "start_time": "2022-02-10T16:53:02.364Z"
   },
   {
    "duration": 275,
    "start_time": "2022-02-10T16:53:02.440Z"
   },
   {
    "duration": -3522,
    "start_time": "2022-02-10T16:53:06.239Z"
   },
   {
    "duration": -3528,
    "start_time": "2022-02-10T16:53:06.247Z"
   },
   {
    "duration": -3534,
    "start_time": "2022-02-10T16:53:06.254Z"
   },
   {
    "duration": -3538,
    "start_time": "2022-02-10T16:53:06.260Z"
   },
   {
    "duration": -3552,
    "start_time": "2022-02-10T16:53:06.275Z"
   },
   {
    "duration": 5,
    "start_time": "2022-02-10T16:53:04.326Z"
   },
   {
    "duration": 25,
    "start_time": "2022-02-10T16:53:04.334Z"
   },
   {
    "duration": 17,
    "start_time": "2022-02-10T16:53:04.363Z"
   },
   {
    "duration": 20,
    "start_time": "2022-02-10T16:53:04.383Z"
   },
   {
    "duration": 18,
    "start_time": "2022-02-10T16:53:04.433Z"
   },
   {
    "duration": 23,
    "start_time": "2022-02-10T16:53:04.454Z"
   },
   {
    "duration": 20,
    "start_time": "2022-02-10T16:53:04.479Z"
   },
   {
    "duration": 42,
    "start_time": "2022-02-10T16:53:04.501Z"
   },
   {
    "duration": 30,
    "start_time": "2022-02-10T16:53:04.546Z"
   },
   {
    "duration": 25,
    "start_time": "2022-02-10T16:53:04.640Z"
   },
   {
    "duration": 6,
    "start_time": "2022-02-10T16:53:04.668Z"
   },
   {
    "duration": 55,
    "start_time": "2022-02-10T16:53:04.677Z"
   },
   {
    "duration": 23,
    "start_time": "2022-02-10T16:53:04.734Z"
   },
   {
    "duration": 38,
    "start_time": "2022-02-10T16:53:04.759Z"
   },
   {
    "duration": 48,
    "start_time": "2022-02-10T16:53:04.799Z"
   },
   {
    "duration": 12,
    "start_time": "2022-02-10T16:53:04.850Z"
   },
   {
    "duration": 10,
    "start_time": "2022-02-10T16:53:04.865Z"
   },
   {
    "duration": 12,
    "start_time": "2022-02-10T16:53:04.877Z"
   },
   {
    "duration": 9,
    "start_time": "2022-02-10T16:53:04.891Z"
   },
   {
    "duration": 7,
    "start_time": "2022-02-10T16:53:06.592Z"
   },
   {
    "duration": 23,
    "start_time": "2022-02-10T17:18:20.591Z"
   },
   {
    "duration": 32,
    "start_time": "2022-02-10T17:18:42.871Z"
   },
   {
    "duration": 5,
    "start_time": "2022-02-10T17:24:00.205Z"
   },
   {
    "duration": 243,
    "start_time": "2022-02-10T17:24:00.212Z"
   },
   {
    "duration": 17,
    "start_time": "2022-02-10T17:24:00.458Z"
   },
   {
    "duration": 35,
    "start_time": "2022-02-10T17:24:00.950Z"
   },
   {
    "duration": 8,
    "start_time": "2022-02-10T17:24:01.461Z"
   },
   {
    "duration": 52,
    "start_time": "2022-02-10T17:24:01.472Z"
   },
   {
    "duration": 14,
    "start_time": "2022-02-10T17:24:01.527Z"
   },
   {
    "duration": 31,
    "start_time": "2022-02-10T17:24:02.412Z"
   },
   {
    "duration": 31,
    "start_time": "2022-02-10T17:24:02.446Z"
   },
   {
    "duration": 52,
    "start_time": "2022-02-10T17:24:02.480Z"
   },
   {
    "duration": 85,
    "start_time": "2022-02-10T17:24:02.752Z"
   },
   {
    "duration": 102,
    "start_time": "2022-02-10T17:24:02.839Z"
   },
   {
    "duration": 96,
    "start_time": "2022-02-10T17:24:02.944Z"
   },
   {
    "duration": 76,
    "start_time": "2022-02-10T17:24:03.042Z"
   },
   {
    "duration": 271,
    "start_time": "2022-02-10T17:24:03.133Z"
   },
   {
    "duration": -3879,
    "start_time": "2022-02-10T17:24:07.285Z"
   },
   {
    "duration": -3893,
    "start_time": "2022-02-10T17:24:07.301Z"
   },
   {
    "duration": -4134,
    "start_time": "2022-02-10T17:24:07.543Z"
   },
   {
    "duration": -4148,
    "start_time": "2022-02-10T17:24:07.558Z"
   },
   {
    "duration": -4151,
    "start_time": "2022-02-10T17:24:07.562Z"
   },
   {
    "duration": 5,
    "start_time": "2022-02-10T17:24:03.428Z"
   },
   {
    "duration": 30,
    "start_time": "2022-02-10T17:24:03.438Z"
   },
   {
    "duration": 19,
    "start_time": "2022-02-10T17:24:03.529Z"
   },
   {
    "duration": 23,
    "start_time": "2022-02-10T17:24:03.550Z"
   },
   {
    "duration": 19,
    "start_time": "2022-02-10T17:24:03.576Z"
   },
   {
    "duration": 50,
    "start_time": "2022-02-10T17:24:03.598Z"
   },
   {
    "duration": 19,
    "start_time": "2022-02-10T17:24:03.651Z"
   },
   {
    "duration": 12,
    "start_time": "2022-02-10T17:24:03.993Z"
   },
   {
    "duration": 33,
    "start_time": "2022-02-10T17:24:04.008Z"
   },
   {
    "duration": 27,
    "start_time": "2022-02-10T17:24:04.044Z"
   },
   {
    "duration": 6,
    "start_time": "2022-02-10T17:24:04.074Z"
   },
   {
    "duration": 88,
    "start_time": "2022-02-10T17:24:04.083Z"
   },
   {
    "duration": 24,
    "start_time": "2022-02-10T17:24:04.290Z"
   },
   {
    "duration": 39,
    "start_time": "2022-02-10T17:24:04.316Z"
   },
   {
    "duration": 24,
    "start_time": "2022-02-10T17:24:04.358Z"
   },
   {
    "duration": 11,
    "start_time": "2022-02-10T17:24:04.385Z"
   },
   {
    "duration": 36,
    "start_time": "2022-02-10T17:24:04.398Z"
   },
   {
    "duration": 13,
    "start_time": "2022-02-10T17:24:04.437Z"
   },
   {
    "duration": 9,
    "start_time": "2022-02-10T17:24:04.479Z"
   },
   {
    "duration": 7,
    "start_time": "2022-02-10T17:24:04.490Z"
   },
   {
    "duration": 242,
    "start_time": "2022-02-10T17:37:31.399Z"
   },
   {
    "duration": 3,
    "start_time": "2022-02-10T17:39:37.752Z"
   },
   {
    "duration": 5,
    "start_time": "2022-02-10T17:40:09.136Z"
   },
   {
    "duration": 74,
    "start_time": "2022-02-10T17:40:16.838Z"
   },
   {
    "duration": 4,
    "start_time": "2022-02-10T17:42:53.700Z"
   },
   {
    "duration": 76,
    "start_time": "2022-02-10T17:43:01.758Z"
   },
   {
    "duration": 4,
    "start_time": "2022-02-10T18:12:02.752Z"
   },
   {
    "duration": 4,
    "start_time": "2022-02-10T18:12:15.681Z"
   },
   {
    "duration": 78,
    "start_time": "2022-02-10T18:12:23.780Z"
   },
   {
    "duration": 13,
    "start_time": "2022-02-10T18:24:30.639Z"
   },
   {
    "duration": 4,
    "start_time": "2022-02-10T18:25:03.567Z"
   },
   {
    "duration": 77,
    "start_time": "2022-02-10T18:25:27.782Z"
   },
   {
    "duration": 3,
    "start_time": "2022-02-10T18:42:21.710Z"
   },
   {
    "duration": 174,
    "start_time": "2022-02-10T18:42:21.727Z"
   },
   {
    "duration": 15,
    "start_time": "2022-02-10T18:42:21.903Z"
   },
   {
    "duration": 35,
    "start_time": "2022-02-10T18:42:22.127Z"
   },
   {
    "duration": 7,
    "start_time": "2022-02-10T18:42:22.165Z"
   },
   {
    "duration": 54,
    "start_time": "2022-02-10T18:42:22.178Z"
   },
   {
    "duration": 5,
    "start_time": "2022-02-10T18:42:22.235Z"
   },
   {
    "duration": 36,
    "start_time": "2022-02-10T18:42:22.242Z"
   },
   {
    "duration": 23,
    "start_time": "2022-02-10T18:42:22.960Z"
   },
   {
    "duration": 30,
    "start_time": "2022-02-10T18:42:22.987Z"
   },
   {
    "duration": 87,
    "start_time": "2022-02-10T18:42:23.021Z"
   },
   {
    "duration": 102,
    "start_time": "2022-02-10T18:42:23.111Z"
   },
   {
    "duration": 81,
    "start_time": "2022-02-10T18:42:23.216Z"
   },
   {
    "duration": 90,
    "start_time": "2022-02-10T18:42:23.299Z"
   },
   {
    "duration": 18,
    "start_time": "2022-02-10T18:42:23.392Z"
   },
   {
    "duration": 19,
    "start_time": "2022-02-10T18:42:23.413Z"
   },
   {
    "duration": 132,
    "start_time": "2022-02-10T18:42:23.435Z"
   },
   {
    "duration": 15,
    "start_time": "2022-02-10T18:42:24.278Z"
   },
   {
    "duration": 20,
    "start_time": "2022-02-10T18:42:24.297Z"
   },
   {
    "duration": 26,
    "start_time": "2022-02-10T18:42:24.320Z"
   },
   {
    "duration": 6,
    "start_time": "2022-02-10T18:42:24.350Z"
   },
   {
    "duration": 26,
    "start_time": "2022-02-10T18:42:24.359Z"
   },
   {
    "duration": 51,
    "start_time": "2022-02-10T18:42:24.388Z"
   },
   {
    "duration": 30,
    "start_time": "2022-02-10T18:42:24.443Z"
   },
   {
    "duration": 28,
    "start_time": "2022-02-10T18:42:24.476Z"
   },
   {
    "duration": 33,
    "start_time": "2022-02-10T18:42:24.533Z"
   },
   {
    "duration": 28,
    "start_time": "2022-02-10T18:42:24.570Z"
   },
   {
    "duration": 45,
    "start_time": "2022-02-10T18:42:24.601Z"
   },
   {
    "duration": 34,
    "start_time": "2022-02-10T18:42:24.649Z"
   },
   {
    "duration": 48,
    "start_time": "2022-02-10T18:42:24.686Z"
   },
   {
    "duration": 7,
    "start_time": "2022-02-10T18:42:24.736Z"
   },
   {
    "duration": 41,
    "start_time": "2022-02-10T18:42:25.973Z"
   },
   {
    "duration": 21,
    "start_time": "2022-02-10T18:42:26.017Z"
   },
   {
    "duration": 39,
    "start_time": "2022-02-10T18:42:26.041Z"
   },
   {
    "duration": 24,
    "start_time": "2022-02-10T18:42:26.083Z"
   },
   {
    "duration": 10,
    "start_time": "2022-02-10T18:42:26.134Z"
   },
   {
    "duration": 8,
    "start_time": "2022-02-10T18:42:26.147Z"
   },
   {
    "duration": 12,
    "start_time": "2022-02-10T18:42:26.157Z"
   },
   {
    "duration": 8,
    "start_time": "2022-02-10T18:42:26.172Z"
   },
   {
    "duration": 51,
    "start_time": "2022-02-10T18:42:26.183Z"
   },
   {
    "duration": 9,
    "start_time": "2022-02-10T18:53:49.086Z"
   },
   {
    "duration": 18,
    "start_time": "2022-02-10T18:55:15.982Z"
   },
   {
    "duration": 21,
    "start_time": "2022-02-10T18:56:03.756Z"
   },
   {
    "duration": 10,
    "start_time": "2022-02-10T19:02:26.293Z"
   },
   {
    "duration": 7,
    "start_time": "2022-02-10T19:13:55.013Z"
   },
   {
    "duration": 6,
    "start_time": "2022-02-10T19:14:43.431Z"
   },
   {
    "duration": 14,
    "start_time": "2022-02-10T19:18:24.121Z"
   },
   {
    "duration": 10,
    "start_time": "2022-02-10T19:18:34.169Z"
   },
   {
    "duration": 4,
    "start_time": "2022-02-10T19:56:18.559Z"
   },
   {
    "duration": 177,
    "start_time": "2022-02-10T19:56:18.815Z"
   },
   {
    "duration": 17,
    "start_time": "2022-02-10T19:56:18.995Z"
   },
   {
    "duration": 33,
    "start_time": "2022-02-10T19:56:22.880Z"
   },
   {
    "duration": 6,
    "start_time": "2022-02-10T19:56:23.266Z"
   },
   {
    "duration": 19,
    "start_time": "2022-02-10T19:56:23.275Z"
   },
   {
    "duration": 4,
    "start_time": "2022-02-10T19:56:23.297Z"
   },
   {
    "duration": 34,
    "start_time": "2022-02-10T19:56:23.304Z"
   },
   {
    "duration": 22,
    "start_time": "2022-02-10T19:56:27.291Z"
   },
   {
    "duration": 29,
    "start_time": "2022-02-10T19:56:27.316Z"
   },
   {
    "duration": 126,
    "start_time": "2022-02-10T19:56:27.348Z"
   },
   {
    "duration": 115,
    "start_time": "2022-02-10T19:56:27.477Z"
   },
   {
    "duration": 92,
    "start_time": "2022-02-10T19:56:27.595Z"
   },
   {
    "duration": 94,
    "start_time": "2022-02-10T19:56:27.690Z"
   },
   {
    "duration": 14,
    "start_time": "2022-02-10T19:56:27.786Z"
   },
   {
    "duration": 9,
    "start_time": "2022-02-10T19:56:27.803Z"
   },
   {
    "duration": 78,
    "start_time": "2022-02-10T19:56:27.833Z"
   },
   {
    "duration": 33,
    "start_time": "2022-02-10T19:56:27.915Z"
   },
   {
    "duration": 16,
    "start_time": "2022-02-10T19:56:27.951Z"
   },
   {
    "duration": 19,
    "start_time": "2022-02-10T19:56:27.969Z"
   },
   {
    "duration": 6,
    "start_time": "2022-02-10T19:56:27.991Z"
   },
   {
    "duration": 22,
    "start_time": "2022-02-10T19:56:28.033Z"
   },
   {
    "duration": 22,
    "start_time": "2022-02-10T19:56:28.058Z"
   },
   {
    "duration": 22,
    "start_time": "2022-02-10T19:56:28.082Z"
   },
   {
    "duration": 20,
    "start_time": "2022-02-10T19:56:28.134Z"
   },
   {
    "duration": 22,
    "start_time": "2022-02-10T19:56:28.157Z"
   },
   {
    "duration": 53,
    "start_time": "2022-02-10T19:56:28.182Z"
   },
   {
    "duration": 12,
    "start_time": "2022-02-10T19:56:28.238Z"
   },
   {
    "duration": 28,
    "start_time": "2022-02-10T19:56:28.253Z"
   },
   {
    "duration": 62,
    "start_time": "2022-02-10T19:56:28.284Z"
   },
   {
    "duration": 6,
    "start_time": "2022-02-10T19:56:28.350Z"
   },
   {
    "duration": 57,
    "start_time": "2022-02-10T19:56:28.359Z"
   },
   {
    "duration": 34,
    "start_time": "2022-02-10T19:56:28.421Z"
   },
   {
    "duration": 41,
    "start_time": "2022-02-10T19:56:28.458Z"
   },
   {
    "duration": 48,
    "start_time": "2022-02-10T19:56:28.501Z"
   },
   {
    "duration": 11,
    "start_time": "2022-02-10T19:56:28.552Z"
   },
   {
    "duration": 10,
    "start_time": "2022-02-10T19:56:28.566Z"
   },
   {
    "duration": 10,
    "start_time": "2022-02-10T19:56:28.579Z"
   },
   {
    "duration": 49,
    "start_time": "2022-02-10T19:56:28.592Z"
   },
   {
    "duration": 10,
    "start_time": "2022-02-10T19:56:28.644Z"
   },
   {
    "duration": 59,
    "start_time": "2022-02-10T20:11:52.309Z"
   },
   {
    "duration": 75,
    "start_time": "2022-02-10T20:14:56.688Z"
   },
   {
    "duration": 3,
    "start_time": "2022-02-10T20:16:10.275Z"
   },
   {
    "duration": 180,
    "start_time": "2022-02-10T20:16:10.299Z"
   },
   {
    "duration": 15,
    "start_time": "2022-02-10T20:16:10.481Z"
   },
   {
    "duration": 50,
    "start_time": "2022-02-10T20:16:10.499Z"
   },
   {
    "duration": 5,
    "start_time": "2022-02-10T20:16:10.552Z"
   },
   {
    "duration": 20,
    "start_time": "2022-02-10T20:16:10.559Z"
   },
   {
    "duration": 5,
    "start_time": "2022-02-10T20:16:10.582Z"
   },
   {
    "duration": 70,
    "start_time": "2022-02-10T20:16:10.589Z"
   },
   {
    "duration": 20,
    "start_time": "2022-02-10T20:16:10.662Z"
   },
   {
    "duration": 50,
    "start_time": "2022-02-10T20:16:10.685Z"
   },
   {
    "duration": 77,
    "start_time": "2022-02-10T20:16:10.738Z"
   },
   {
    "duration": 99,
    "start_time": "2022-02-10T20:16:10.817Z"
   },
   {
    "duration": 79,
    "start_time": "2022-02-10T20:16:10.919Z"
   },
   {
    "duration": 68,
    "start_time": "2022-02-10T20:16:11.001Z"
   },
   {
    "duration": 13,
    "start_time": "2022-02-10T20:16:11.072Z"
   },
   {
    "duration": 8,
    "start_time": "2022-02-10T20:16:11.088Z"
   },
   {
    "duration": 82,
    "start_time": "2022-02-10T20:16:11.099Z"
   },
   {
    "duration": 17,
    "start_time": "2022-02-10T20:16:11.183Z"
   },
   {
    "duration": 38,
    "start_time": "2022-02-10T20:16:11.202Z"
   },
   {
    "duration": 17,
    "start_time": "2022-02-10T20:16:11.242Z"
   },
   {
    "duration": 4,
    "start_time": "2022-02-10T20:16:11.633Z"
   },
   {
    "duration": 20,
    "start_time": "2022-02-10T20:16:11.848Z"
   },
   {
    "duration": 20,
    "start_time": "2022-02-10T20:16:11.968Z"
   },
   {
    "duration": 29,
    "start_time": "2022-02-10T20:16:12.031Z"
   },
   {
    "duration": 19,
    "start_time": "2022-02-10T20:16:12.139Z"
   },
   {
    "duration": 20,
    "start_time": "2022-02-10T20:16:12.335Z"
   },
   {
    "duration": 18,
    "start_time": "2022-02-10T20:16:12.471Z"
   },
   {
    "duration": 12,
    "start_time": "2022-02-10T20:16:12.624Z"
   },
   {
    "duration": 29,
    "start_time": "2022-02-10T20:16:13.130Z"
   },
   {
    "duration": 26,
    "start_time": "2022-02-10T20:16:13.352Z"
   },
   {
    "duration": 7,
    "start_time": "2022-02-10T20:16:13.765Z"
   },
   {
    "duration": 36,
    "start_time": "2022-02-10T20:16:13.911Z"
   },
   {
    "duration": 22,
    "start_time": "2022-02-10T20:16:13.949Z"
   },
   {
    "duration": 37,
    "start_time": "2022-02-10T20:16:14.182Z"
   },
   {
    "duration": 24,
    "start_time": "2022-02-10T20:16:14.257Z"
   },
   {
    "duration": 11,
    "start_time": "2022-02-10T20:16:14.283Z"
   },
   {
    "duration": 10,
    "start_time": "2022-02-10T20:16:14.346Z"
   },
   {
    "duration": 9,
    "start_time": "2022-02-10T20:16:14.428Z"
   },
   {
    "duration": 10,
    "start_time": "2022-02-10T20:16:14.440Z"
   },
   {
    "duration": 9,
    "start_time": "2022-02-10T20:16:14.458Z"
   },
   {
    "duration": 856,
    "start_time": "2022-02-11T11:30:25.925Z"
   },
   {
    "duration": 184,
    "start_time": "2022-02-11T11:30:26.784Z"
   },
   {
    "duration": 24,
    "start_time": "2022-02-11T11:30:26.971Z"
   },
   {
    "duration": 55,
    "start_time": "2022-02-11T11:30:26.998Z"
   },
   {
    "duration": 6,
    "start_time": "2022-02-11T11:30:27.056Z"
   },
   {
    "duration": 26,
    "start_time": "2022-02-11T11:30:27.064Z"
   },
   {
    "duration": 33,
    "start_time": "2022-02-11T11:30:27.092Z"
   },
   {
    "duration": 32,
    "start_time": "2022-02-11T11:30:27.128Z"
   },
   {
    "duration": 20,
    "start_time": "2022-02-11T11:30:27.164Z"
   },
   {
    "duration": 56,
    "start_time": "2022-02-11T11:30:27.187Z"
   },
   {
    "duration": 102,
    "start_time": "2022-02-11T11:30:27.246Z"
   },
   {
    "duration": 203,
    "start_time": "2022-02-11T11:30:27.351Z"
   },
   {
    "duration": 184,
    "start_time": "2022-02-11T11:30:27.556Z"
   },
   {
    "duration": 119,
    "start_time": "2022-02-11T11:30:27.742Z"
   },
   {
    "duration": 551,
    "start_time": "2022-02-11T11:30:27.863Z"
   },
   {
    "duration": -225,
    "start_time": "2022-02-11T11:30:28.642Z"
   },
   {
    "duration": -227,
    "start_time": "2022-02-11T11:30:28.646Z"
   },
   {
    "duration": -279,
    "start_time": "2022-02-11T11:30:28.699Z"
   },
   {
    "duration": -281,
    "start_time": "2022-02-11T11:30:28.702Z"
   },
   {
    "duration": -280,
    "start_time": "2022-02-11T11:30:28.703Z"
   },
   {
    "duration": -280,
    "start_time": "2022-02-11T11:30:28.704Z"
   },
   {
    "duration": -280,
    "start_time": "2022-02-11T11:30:28.705Z"
   },
   {
    "duration": -280,
    "start_time": "2022-02-11T11:30:28.707Z"
   },
   {
    "duration": -280,
    "start_time": "2022-02-11T11:30:28.708Z"
   },
   {
    "duration": -280,
    "start_time": "2022-02-11T11:30:28.709Z"
   },
   {
    "duration": -337,
    "start_time": "2022-02-11T11:30:28.768Z"
   },
   {
    "duration": -337,
    "start_time": "2022-02-11T11:30:28.770Z"
   },
   {
    "duration": -337,
    "start_time": "2022-02-11T11:30:28.771Z"
   },
   {
    "duration": -335,
    "start_time": "2022-02-11T11:30:28.772Z"
   },
   {
    "duration": -335,
    "start_time": "2022-02-11T11:30:28.773Z"
   },
   {
    "duration": -335,
    "start_time": "2022-02-11T11:30:28.775Z"
   },
   {
    "duration": -335,
    "start_time": "2022-02-11T11:30:28.776Z"
   },
   {
    "duration": -335,
    "start_time": "2022-02-11T11:30:28.777Z"
   },
   {
    "duration": -334,
    "start_time": "2022-02-11T11:30:28.778Z"
   },
   {
    "duration": -393,
    "start_time": "2022-02-11T11:30:28.838Z"
   },
   {
    "duration": -392,
    "start_time": "2022-02-11T11:30:28.839Z"
   },
   {
    "duration": -393,
    "start_time": "2022-02-11T11:30:28.841Z"
   },
   {
    "duration": -392,
    "start_time": "2022-02-11T11:30:28.842Z"
   },
   {
    "duration": -392,
    "start_time": "2022-02-11T11:30:28.843Z"
   },
   {
    "duration": -391,
    "start_time": "2022-02-11T11:30:28.844Z"
   },
   {
    "duration": 4,
    "start_time": "2022-02-11T11:32:21.068Z"
   },
   {
    "duration": 186,
    "start_time": "2022-02-11T11:32:21.075Z"
   },
   {
    "duration": 16,
    "start_time": "2022-02-11T11:32:21.264Z"
   },
   {
    "duration": 51,
    "start_time": "2022-02-11T11:32:21.283Z"
   },
   {
    "duration": 5,
    "start_time": "2022-02-11T11:32:21.337Z"
   },
   {
    "duration": 28,
    "start_time": "2022-02-11T11:32:21.344Z"
   },
   {
    "duration": 5,
    "start_time": "2022-02-11T11:32:21.374Z"
   },
   {
    "duration": 63,
    "start_time": "2022-02-11T11:32:21.382Z"
   },
   {
    "duration": 26,
    "start_time": "2022-02-11T11:32:21.449Z"
   },
   {
    "duration": 51,
    "start_time": "2022-02-11T11:32:21.479Z"
   },
   {
    "duration": 103,
    "start_time": "2022-02-11T11:32:21.532Z"
   },
   {
    "duration": 110,
    "start_time": "2022-02-11T11:32:21.637Z"
   },
   {
    "duration": 84,
    "start_time": "2022-02-11T11:32:21.750Z"
   },
   {
    "duration": 56,
    "start_time": "2022-02-11T11:32:21.836Z"
   },
   {
    "duration": 403,
    "start_time": "2022-02-11T11:32:21.894Z"
   },
   {
    "duration": -204,
    "start_time": "2022-02-11T11:32:22.507Z"
   },
   {
    "duration": -207,
    "start_time": "2022-02-11T11:32:22.512Z"
   },
   {
    "duration": -233,
    "start_time": "2022-02-11T11:32:22.541Z"
   },
   {
    "duration": -231,
    "start_time": "2022-02-11T11:32:22.542Z"
   },
   {
    "duration": -229,
    "start_time": "2022-02-11T11:32:22.543Z"
   },
   {
    "duration": -228,
    "start_time": "2022-02-11T11:32:22.545Z"
   },
   {
    "duration": -226,
    "start_time": "2022-02-11T11:32:22.546Z"
   },
   {
    "duration": -226,
    "start_time": "2022-02-11T11:32:22.548Z"
   },
   {
    "duration": -225,
    "start_time": "2022-02-11T11:32:22.549Z"
   },
   {
    "duration": -223,
    "start_time": "2022-02-11T11:32:22.550Z"
   },
   {
    "duration": -222,
    "start_time": "2022-02-11T11:32:22.551Z"
   },
   {
    "duration": -221,
    "start_time": "2022-02-11T11:32:22.552Z"
   },
   {
    "duration": -220,
    "start_time": "2022-02-11T11:32:22.554Z"
   },
   {
    "duration": -245,
    "start_time": "2022-02-11T11:32:22.581Z"
   },
   {
    "duration": -244,
    "start_time": "2022-02-11T11:32:22.583Z"
   },
   {
    "duration": -244,
    "start_time": "2022-02-11T11:32:22.585Z"
   },
   {
    "duration": -244,
    "start_time": "2022-02-11T11:32:22.587Z"
   },
   {
    "duration": -242,
    "start_time": "2022-02-11T11:32:22.588Z"
   },
   {
    "duration": -242,
    "start_time": "2022-02-11T11:32:22.589Z"
   },
   {
    "duration": -242,
    "start_time": "2022-02-11T11:32:22.591Z"
   },
   {
    "duration": -241,
    "start_time": "2022-02-11T11:32:22.592Z"
   },
   {
    "duration": -240,
    "start_time": "2022-02-11T11:32:22.593Z"
   },
   {
    "duration": -239,
    "start_time": "2022-02-11T11:32:22.594Z"
   },
   {
    "duration": -238,
    "start_time": "2022-02-11T11:32:22.596Z"
   },
   {
    "duration": -263,
    "start_time": "2022-02-11T11:32:22.623Z"
   },
   {
    "duration": 4,
    "start_time": "2022-02-11T11:32:26.624Z"
   },
   {
    "duration": 119,
    "start_time": "2022-02-11T11:32:26.631Z"
   },
   {
    "duration": 19,
    "start_time": "2022-02-11T11:32:26.754Z"
   },
   {
    "duration": 16,
    "start_time": "2022-02-11T11:32:26.775Z"
   },
   {
    "duration": 45,
    "start_time": "2022-02-11T11:32:26.794Z"
   },
   {
    "duration": 4,
    "start_time": "2022-02-11T11:32:26.842Z"
   },
   {
    "duration": 26,
    "start_time": "2022-02-11T11:32:26.849Z"
   },
   {
    "duration": 56,
    "start_time": "2022-02-11T11:32:26.879Z"
   },
   {
    "duration": 18,
    "start_time": "2022-02-11T11:32:26.938Z"
   },
   {
    "duration": 20,
    "start_time": "2022-02-11T11:32:26.960Z"
   },
   {
    "duration": 51,
    "start_time": "2022-02-11T11:32:26.983Z"
   },
   {
    "duration": 17,
    "start_time": "2022-02-11T11:32:27.037Z"
   },
   {
    "duration": 12,
    "start_time": "2022-02-11T11:32:27.056Z"
   },
   {
    "duration": 77,
    "start_time": "2022-02-11T11:32:27.071Z"
   },
   {
    "duration": 28,
    "start_time": "2022-02-11T11:32:27.150Z"
   },
   {
    "duration": 6,
    "start_time": "2022-02-11T11:32:27.180Z"
   },
   {
    "duration": 34,
    "start_time": "2022-02-11T11:32:27.223Z"
   },
   {
    "duration": 20,
    "start_time": "2022-02-11T11:32:27.260Z"
   },
   {
    "duration": 60,
    "start_time": "2022-02-11T11:32:27.283Z"
   },
   {
    "duration": 23,
    "start_time": "2022-02-11T11:32:27.346Z"
   },
   {
    "duration": 10,
    "start_time": "2022-02-11T11:32:27.372Z"
   },
   {
    "duration": 40,
    "start_time": "2022-02-11T11:32:27.384Z"
   },
   {
    "duration": 8,
    "start_time": "2022-02-11T11:32:27.429Z"
   },
   {
    "duration": 12,
    "start_time": "2022-02-11T11:32:27.440Z"
   },
   {
    "duration": 13,
    "start_time": "2022-02-11T11:32:27.455Z"
   },
   {
    "duration": 6,
    "start_time": "2022-02-11T11:34:51.185Z"
   },
   {
    "duration": 6,
    "start_time": "2022-02-11T11:35:06.395Z"
   },
   {
    "duration": 404,
    "start_time": "2022-02-11T17:44:19.970Z"
   },
   {
    "duration": 359,
    "start_time": "2022-02-11T17:46:19.035Z"
   },
   {
    "duration": 4,
    "start_time": "2022-02-11T17:46:36.761Z"
   },
   {
    "duration": 5,
    "start_time": "2022-02-11T17:46:51.584Z"
   },
   {
    "duration": 410,
    "start_time": "2022-02-11T17:46:59.878Z"
   },
   {
    "duration": 1228,
    "start_time": "2022-02-11T17:47:25.478Z"
   },
   {
    "duration": 899,
    "start_time": "2022-02-11T17:47:26.709Z"
   },
   {
    "duration": 30,
    "start_time": "2022-02-11T17:47:27.611Z"
   },
   {
    "duration": 55,
    "start_time": "2022-02-11T17:47:27.658Z"
   },
   {
    "duration": 6,
    "start_time": "2022-02-11T17:47:27.716Z"
   },
   {
    "duration": 56,
    "start_time": "2022-02-11T17:47:27.725Z"
   },
   {
    "duration": 18,
    "start_time": "2022-02-11T17:47:27.783Z"
   },
   {
    "duration": 48,
    "start_time": "2022-02-11T17:47:27.804Z"
   },
   {
    "duration": 40,
    "start_time": "2022-02-11T17:47:27.860Z"
   },
   {
    "duration": 46,
    "start_time": "2022-02-11T17:47:27.904Z"
   },
   {
    "duration": 129,
    "start_time": "2022-02-11T17:47:27.966Z"
   },
   {
    "duration": 146,
    "start_time": "2022-02-11T17:47:28.098Z"
   },
   {
    "duration": 80,
    "start_time": "2022-02-11T17:47:28.246Z"
   },
   {
    "duration": 68,
    "start_time": "2022-02-11T17:47:28.328Z"
   },
   {
    "duration": 4,
    "start_time": "2022-02-11T17:47:28.398Z"
   },
   {
    "duration": 5,
    "start_time": "2022-02-11T17:47:28.405Z"
   },
   {
    "duration": 108,
    "start_time": "2022-02-11T17:47:28.413Z"
   },
   {
    "duration": 35,
    "start_time": "2022-02-11T17:47:28.524Z"
   },
   {
    "duration": 19,
    "start_time": "2022-02-11T17:47:28.561Z"
   },
   {
    "duration": 20,
    "start_time": "2022-02-11T17:47:28.583Z"
   },
   {
    "duration": 7,
    "start_time": "2022-02-11T17:47:28.606Z"
   },
   {
    "duration": 73,
    "start_time": "2022-02-11T17:47:28.615Z"
   },
   {
    "duration": 19,
    "start_time": "2022-02-11T17:47:28.691Z"
   },
   {
    "duration": 47,
    "start_time": "2022-02-11T17:47:28.713Z"
   },
   {
    "duration": 28,
    "start_time": "2022-02-11T17:47:28.763Z"
   },
   {
    "duration": 32,
    "start_time": "2022-02-11T17:47:28.795Z"
   },
   {
    "duration": 27,
    "start_time": "2022-02-11T17:47:28.884Z"
   },
   {
    "duration": 12,
    "start_time": "2022-02-11T17:47:28.914Z"
   },
   {
    "duration": 44,
    "start_time": "2022-02-11T17:47:28.929Z"
   },
   {
    "duration": 38,
    "start_time": "2022-02-11T17:47:28.975Z"
   },
   {
    "duration": 9,
    "start_time": "2022-02-11T17:47:29.017Z"
   },
   {
    "duration": 33,
    "start_time": "2022-02-11T17:47:29.030Z"
   },
   {
    "duration": 54,
    "start_time": "2022-02-11T17:47:29.066Z"
   },
   {
    "duration": 50,
    "start_time": "2022-02-11T17:47:29.123Z"
   },
   {
    "duration": 60,
    "start_time": "2022-02-11T17:47:29.176Z"
   },
   {
    "duration": 56,
    "start_time": "2022-02-11T17:47:29.239Z"
   },
   {
    "duration": 11,
    "start_time": "2022-02-11T17:47:29.297Z"
   },
   {
    "duration": 9,
    "start_time": "2022-02-11T17:47:29.311Z"
   },
   {
    "duration": 50,
    "start_time": "2022-02-11T17:47:29.323Z"
   },
   {
    "duration": 13,
    "start_time": "2022-02-11T17:47:29.377Z"
   },
   {
    "duration": 14,
    "start_time": "2022-02-11T17:47:29.394Z"
   },
   {
    "duration": 14,
    "start_time": "2022-02-11T17:49:19.527Z"
   },
   {
    "duration": 4,
    "start_time": "2022-02-11T17:49:28.697Z"
   },
   {
    "duration": 56,
    "start_time": "2022-02-11T17:49:34.521Z"
   },
   {
    "duration": 3,
    "start_time": "2022-02-11T17:49:49.778Z"
   },
   {
    "duration": 185,
    "start_time": "2022-02-11T17:49:49.785Z"
   },
   {
    "duration": 18,
    "start_time": "2022-02-11T17:49:49.973Z"
   },
   {
    "duration": 31,
    "start_time": "2022-02-11T17:49:49.994Z"
   },
   {
    "duration": 32,
    "start_time": "2022-02-11T17:49:50.027Z"
   },
   {
    "duration": 31,
    "start_time": "2022-02-11T17:49:50.062Z"
   },
   {
    "duration": 6,
    "start_time": "2022-02-11T17:49:50.096Z"
   },
   {
    "duration": 79,
    "start_time": "2022-02-11T17:49:50.104Z"
   },
   {
    "duration": 30,
    "start_time": "2022-02-11T17:49:50.188Z"
   },
   {
    "duration": 65,
    "start_time": "2022-02-11T17:49:50.221Z"
   },
   {
    "duration": 103,
    "start_time": "2022-02-11T17:49:50.289Z"
   },
   {
    "duration": 105,
    "start_time": "2022-02-11T17:49:50.395Z"
   },
   {
    "duration": 92,
    "start_time": "2022-02-11T17:49:50.502Z"
   },
   {
    "duration": 73,
    "start_time": "2022-02-11T17:49:50.596Z"
   },
   {
    "duration": 14,
    "start_time": "2022-02-11T17:49:50.672Z"
   },
   {
    "duration": 5,
    "start_time": "2022-02-11T17:49:50.688Z"
   },
   {
    "duration": 94,
    "start_time": "2022-02-11T17:49:50.695Z"
   },
   {
    "duration": 18,
    "start_time": "2022-02-11T17:49:50.792Z"
   },
   {
    "duration": 48,
    "start_time": "2022-02-11T17:49:50.813Z"
   },
   {
    "duration": 19,
    "start_time": "2022-02-11T17:49:50.864Z"
   },
   {
    "duration": 4,
    "start_time": "2022-02-11T17:49:50.889Z"
   },
   {
    "duration": 24,
    "start_time": "2022-02-11T17:49:50.897Z"
   },
   {
    "duration": 55,
    "start_time": "2022-02-11T17:49:50.924Z"
   },
   {
    "duration": 24,
    "start_time": "2022-02-11T17:49:50.982Z"
   },
   {
    "duration": 18,
    "start_time": "2022-02-11T17:49:51.009Z"
   },
   {
    "duration": 29,
    "start_time": "2022-02-11T17:49:51.061Z"
   },
   {
    "duration": 18,
    "start_time": "2022-02-11T17:49:51.093Z"
   },
   {
    "duration": 46,
    "start_time": "2022-02-11T17:49:51.114Z"
   },
   {
    "duration": 41,
    "start_time": "2022-02-11T17:49:51.163Z"
   },
   {
    "duration": 67,
    "start_time": "2022-02-11T17:49:51.206Z"
   },
   {
    "duration": 8,
    "start_time": "2022-02-11T17:49:51.276Z"
   },
   {
    "duration": 11,
    "start_time": "2022-02-11T17:49:51.286Z"
   },
   {
    "duration": 65,
    "start_time": "2022-02-11T17:49:51.300Z"
   },
   {
    "duration": 21,
    "start_time": "2022-02-11T17:49:51.367Z"
   },
   {
    "duration": 39,
    "start_time": "2022-02-11T17:49:51.390Z"
   },
   {
    "duration": 48,
    "start_time": "2022-02-11T17:49:51.431Z"
   },
   {
    "duration": 10,
    "start_time": "2022-02-11T17:49:51.481Z"
   },
   {
    "duration": 8,
    "start_time": "2022-02-11T17:49:51.494Z"
   },
   {
    "duration": 9,
    "start_time": "2022-02-11T17:49:51.505Z"
   },
   {
    "duration": 45,
    "start_time": "2022-02-11T17:49:51.516Z"
   },
   {
    "duration": 11,
    "start_time": "2022-02-11T17:49:51.564Z"
   },
   {
    "duration": 4,
    "start_time": "2022-02-11T18:26:01.399Z"
   },
   {
    "duration": 13,
    "start_time": "2022-02-11T18:26:07.111Z"
   },
   {
    "duration": 61,
    "start_time": "2022-02-11T18:26:13.399Z"
   },
   {
    "duration": 4,
    "start_time": "2022-02-11T18:36:47.962Z"
   },
   {
    "duration": 222,
    "start_time": "2022-02-11T18:36:47.969Z"
   },
   {
    "duration": 19,
    "start_time": "2022-02-11T18:36:48.195Z"
   },
   {
    "duration": 64,
    "start_time": "2022-02-11T18:36:48.217Z"
   },
   {
    "duration": 6,
    "start_time": "2022-02-11T18:36:48.284Z"
   },
   {
    "duration": 67,
    "start_time": "2022-02-11T18:36:48.293Z"
   },
   {
    "duration": 6,
    "start_time": "2022-02-11T18:36:48.364Z"
   },
   {
    "duration": 31,
    "start_time": "2022-02-11T18:36:48.373Z"
   },
   {
    "duration": 21,
    "start_time": "2022-02-11T18:36:48.407Z"
   },
   {
    "duration": 29,
    "start_time": "2022-02-11T18:36:48.460Z"
   },
   {
    "duration": 97,
    "start_time": "2022-02-11T18:36:48.491Z"
   },
   {
    "duration": 95,
    "start_time": "2022-02-11T18:36:48.591Z"
   },
   {
    "duration": 75,
    "start_time": "2022-02-11T18:36:48.688Z"
   },
   {
    "duration": 58,
    "start_time": "2022-02-11T18:36:48.765Z"
   },
   {
    "duration": 4,
    "start_time": "2022-02-11T18:36:48.825Z"
   },
   {
    "duration": 38,
    "start_time": "2022-02-11T18:36:48.832Z"
   },
   {
    "duration": 61,
    "start_time": "2022-02-11T18:36:48.872Z"
   },
   {
    "duration": 38,
    "start_time": "2022-02-11T18:36:48.936Z"
   },
   {
    "duration": 18,
    "start_time": "2022-02-11T18:36:48.978Z"
   },
   {
    "duration": 17,
    "start_time": "2022-02-11T18:36:48.999Z"
   },
   {
    "duration": 5,
    "start_time": "2022-02-11T18:36:49.018Z"
   },
   {
    "duration": 21,
    "start_time": "2022-02-11T18:36:49.059Z"
   },
   {
    "duration": 18,
    "start_time": "2022-02-11T18:36:49.082Z"
   },
   {
    "duration": 18,
    "start_time": "2022-02-11T18:36:49.102Z"
   },
   {
    "duration": 51,
    "start_time": "2022-02-11T18:36:49.122Z"
   },
   {
    "duration": 22,
    "start_time": "2022-02-11T18:36:49.176Z"
   },
   {
    "duration": 19,
    "start_time": "2022-02-11T18:36:49.200Z"
   },
   {
    "duration": 44,
    "start_time": "2022-02-11T18:36:49.221Z"
   },
   {
    "duration": 30,
    "start_time": "2022-02-11T18:36:49.268Z"
   },
   {
    "duration": 25,
    "start_time": "2022-02-11T18:36:49.301Z"
   },
   {
    "duration": 34,
    "start_time": "2022-02-11T18:36:49.328Z"
   },
   {
    "duration": 9,
    "start_time": "2022-02-11T18:36:49.365Z"
   },
   {
    "duration": 38,
    "start_time": "2022-02-11T18:36:49.376Z"
   },
   {
    "duration": 50,
    "start_time": "2022-02-11T18:36:49.416Z"
   },
   {
    "duration": 37,
    "start_time": "2022-02-11T18:36:49.468Z"
   },
   {
    "duration": 23,
    "start_time": "2022-02-11T18:36:49.507Z"
   },
   {
    "duration": 12,
    "start_time": "2022-02-11T18:36:49.560Z"
   },
   {
    "duration": 10,
    "start_time": "2022-02-11T18:36:49.574Z"
   },
   {
    "duration": 9,
    "start_time": "2022-02-11T18:36:49.586Z"
   },
   {
    "duration": 8,
    "start_time": "2022-02-11T18:36:49.597Z"
   },
   {
    "duration": 8,
    "start_time": "2022-02-11T18:36:49.608Z"
   },
   {
    "duration": 4,
    "start_time": "2022-02-11T18:44:19.132Z"
   },
   {
    "duration": 194,
    "start_time": "2022-02-11T18:44:19.142Z"
   },
   {
    "duration": 32,
    "start_time": "2022-02-11T18:44:19.339Z"
   },
   {
    "duration": 32,
    "start_time": "2022-02-11T18:44:19.373Z"
   },
   {
    "duration": 5,
    "start_time": "2022-02-11T18:44:19.408Z"
   },
   {
    "duration": 53,
    "start_time": "2022-02-11T18:44:19.415Z"
   },
   {
    "duration": 6,
    "start_time": "2022-02-11T18:44:19.470Z"
   },
   {
    "duration": 28,
    "start_time": "2022-02-11T18:44:19.478Z"
   },
   {
    "duration": 55,
    "start_time": "2022-02-11T18:44:19.510Z"
   },
   {
    "duration": 38,
    "start_time": "2022-02-11T18:44:19.568Z"
   },
   {
    "duration": 103,
    "start_time": "2022-02-11T18:44:19.608Z"
   },
   {
    "duration": 101,
    "start_time": "2022-02-11T18:44:19.714Z"
   },
   {
    "duration": 86,
    "start_time": "2022-02-11T18:44:19.818Z"
   },
   {
    "duration": 70,
    "start_time": "2022-02-11T18:44:19.907Z"
   },
   {
    "duration": 137,
    "start_time": "2022-02-11T18:44:19.980Z"
   },
   {
    "duration": -479,
    "start_time": "2022-02-11T18:44:20.600Z"
   },
   {
    "duration": -480,
    "start_time": "2022-02-11T18:44:20.603Z"
   },
   {
    "duration": -482,
    "start_time": "2022-02-11T18:44:20.606Z"
   },
   {
    "duration": -484,
    "start_time": "2022-02-11T18:44:20.609Z"
   },
   {
    "duration": -484,
    "start_time": "2022-02-11T18:44:20.611Z"
   },
   {
    "duration": -486,
    "start_time": "2022-02-11T18:44:20.614Z"
   },
   {
    "duration": -487,
    "start_time": "2022-02-11T18:44:20.616Z"
   },
   {
    "duration": -489,
    "start_time": "2022-02-11T18:44:20.620Z"
   },
   {
    "duration": -491,
    "start_time": "2022-02-11T18:44:20.623Z"
   },
   {
    "duration": -493,
    "start_time": "2022-02-11T18:44:20.626Z"
   },
   {
    "duration": -493,
    "start_time": "2022-02-11T18:44:20.628Z"
   },
   {
    "duration": -500,
    "start_time": "2022-02-11T18:44:20.636Z"
   },
   {
    "duration": -501,
    "start_time": "2022-02-11T18:44:20.639Z"
   },
   {
    "duration": -503,
    "start_time": "2022-02-11T18:44:20.642Z"
   },
   {
    "duration": -546,
    "start_time": "2022-02-11T18:44:20.687Z"
   },
   {
    "duration": -554,
    "start_time": "2022-02-11T18:44:20.696Z"
   },
   {
    "duration": -558,
    "start_time": "2022-02-11T18:44:20.701Z"
   },
   {
    "duration": -563,
    "start_time": "2022-02-11T18:44:20.707Z"
   },
   {
    "duration": -564,
    "start_time": "2022-02-11T18:44:20.710Z"
   },
   {
    "duration": -566,
    "start_time": "2022-02-11T18:44:20.713Z"
   },
   {
    "duration": -575,
    "start_time": "2022-02-11T18:44:20.724Z"
   },
   {
    "duration": -578,
    "start_time": "2022-02-11T18:44:20.728Z"
   },
   {
    "duration": -581,
    "start_time": "2022-02-11T18:44:20.732Z"
   },
   {
    "duration": -584,
    "start_time": "2022-02-11T18:44:20.737Z"
   },
   {
    "duration": -586,
    "start_time": "2022-02-11T18:44:20.740Z"
   },
   {
    "duration": -588,
    "start_time": "2022-02-11T18:44:20.744Z"
   },
   {
    "duration": 4,
    "start_time": "2022-02-11T18:45:34.905Z"
   },
   {
    "duration": 8,
    "start_time": "2022-02-11T18:45:42.160Z"
   },
   {
    "duration": 7,
    "start_time": "2022-02-11T18:46:40.225Z"
   },
   {
    "duration": 59,
    "start_time": "2022-02-11T18:46:51.812Z"
   },
   {
    "duration": 8,
    "start_time": "2022-02-11T18:47:33.086Z"
   },
   {
    "duration": 61,
    "start_time": "2022-02-11T18:47:39.049Z"
   },
   {
    "duration": 4,
    "start_time": "2022-02-11T18:49:09.709Z"
   },
   {
    "duration": 186,
    "start_time": "2022-02-11T18:49:09.716Z"
   },
   {
    "duration": 16,
    "start_time": "2022-02-11T18:49:09.905Z"
   },
   {
    "duration": 50,
    "start_time": "2022-02-11T18:49:09.925Z"
   },
   {
    "duration": 5,
    "start_time": "2022-02-11T18:49:09.978Z"
   },
   {
    "duration": 15,
    "start_time": "2022-02-11T18:49:09.986Z"
   },
   {
    "duration": 6,
    "start_time": "2022-02-11T18:49:10.004Z"
   },
   {
    "duration": 90,
    "start_time": "2022-02-11T18:49:10.013Z"
   },
   {
    "duration": 20,
    "start_time": "2022-02-11T18:49:10.106Z"
   },
   {
    "duration": 50,
    "start_time": "2022-02-11T18:49:10.129Z"
   },
   {
    "duration": 109,
    "start_time": "2022-02-11T18:49:10.182Z"
   },
   {
    "duration": 107,
    "start_time": "2022-02-11T18:49:10.294Z"
   },
   {
    "duration": 87,
    "start_time": "2022-02-11T18:49:10.403Z"
   },
   {
    "duration": 70,
    "start_time": "2022-02-11T18:49:10.492Z"
   },
   {
    "duration": 3,
    "start_time": "2022-02-11T18:49:10.564Z"
   },
   {
    "duration": 8,
    "start_time": "2022-02-11T18:49:11.036Z"
   },
   {
    "duration": 64,
    "start_time": "2022-02-11T18:49:11.047Z"
   },
   {
    "duration": 19,
    "start_time": "2022-02-11T18:49:11.304Z"
   },
   {
    "duration": 19,
    "start_time": "2022-02-11T18:49:11.326Z"
   },
   {
    "duration": 18,
    "start_time": "2022-02-11T18:49:11.348Z"
   },
   {
    "duration": 5,
    "start_time": "2022-02-11T18:49:11.403Z"
   },
   {
    "duration": 24,
    "start_time": "2022-02-11T18:49:11.411Z"
   },
   {
    "duration": 17,
    "start_time": "2022-02-11T18:49:11.443Z"
   },
   {
    "duration": 19,
    "start_time": "2022-02-11T18:49:11.462Z"
   },
   {
    "duration": 27,
    "start_time": "2022-02-11T18:49:11.485Z"
   },
   {
    "duration": 56,
    "start_time": "2022-02-11T18:49:11.516Z"
   },
   {
    "duration": 28,
    "start_time": "2022-02-11T18:49:11.575Z"
   },
   {
    "duration": 53,
    "start_time": "2022-02-11T18:49:11.606Z"
   },
   {
    "duration": 31,
    "start_time": "2022-02-11T18:49:11.664Z"
   },
   {
    "duration": 61,
    "start_time": "2022-02-11T18:49:11.698Z"
   },
   {
    "duration": 6,
    "start_time": "2022-02-11T18:49:11.763Z"
   },
   {
    "duration": 12,
    "start_time": "2022-02-11T18:49:11.772Z"
   },
   {
    "duration": 76,
    "start_time": "2022-02-11T18:49:11.787Z"
   },
   {
    "duration": 22,
    "start_time": "2022-02-11T18:49:11.866Z"
   },
   {
    "duration": 70,
    "start_time": "2022-02-11T18:49:11.891Z"
   },
   {
    "duration": 27,
    "start_time": "2022-02-11T18:49:11.964Z"
   },
   {
    "duration": 13,
    "start_time": "2022-02-11T18:49:11.994Z"
   },
   {
    "duration": 50,
    "start_time": "2022-02-11T18:49:12.009Z"
   },
   {
    "duration": 10,
    "start_time": "2022-02-11T18:49:12.062Z"
   },
   {
    "duration": 11,
    "start_time": "2022-02-11T18:49:12.074Z"
   },
   {
    "duration": 11,
    "start_time": "2022-02-11T18:49:12.088Z"
   },
   {
    "duration": 4,
    "start_time": "2022-02-11T18:51:55.150Z"
   },
   {
    "duration": 172,
    "start_time": "2022-02-11T18:51:55.164Z"
   },
   {
    "duration": 27,
    "start_time": "2022-02-11T18:51:55.340Z"
   },
   {
    "duration": 32,
    "start_time": "2022-02-11T18:51:55.370Z"
   },
   {
    "duration": 6,
    "start_time": "2022-02-11T18:51:55.404Z"
   },
   {
    "duration": 58,
    "start_time": "2022-02-11T18:51:55.412Z"
   },
   {
    "duration": 5,
    "start_time": "2022-02-11T18:51:55.472Z"
   },
   {
    "duration": 32,
    "start_time": "2022-02-11T18:51:55.480Z"
   },
   {
    "duration": 55,
    "start_time": "2022-02-11T18:51:55.516Z"
   },
   {
    "duration": 29,
    "start_time": "2022-02-11T18:51:55.575Z"
   },
   {
    "duration": 110,
    "start_time": "2022-02-11T18:51:55.606Z"
   },
   {
    "duration": 102,
    "start_time": "2022-02-11T18:51:55.718Z"
   },
   {
    "duration": 82,
    "start_time": "2022-02-11T18:51:55.822Z"
   },
   {
    "duration": 68,
    "start_time": "2022-02-11T18:51:55.906Z"
   },
   {
    "duration": 4,
    "start_time": "2022-02-11T18:51:55.976Z"
   },
   {
    "duration": 15,
    "start_time": "2022-02-11T18:51:55.982Z"
   },
   {
    "duration": 76,
    "start_time": "2022-02-11T18:51:55.999Z"
   },
   {
    "duration": 18,
    "start_time": "2022-02-11T18:51:56.077Z"
   },
   {
    "duration": 17,
    "start_time": "2022-02-11T18:51:56.097Z"
   },
   {
    "duration": 51,
    "start_time": "2022-02-11T18:51:56.116Z"
   },
   {
    "duration": 4,
    "start_time": "2022-02-11T18:51:56.170Z"
   },
   {
    "duration": 23,
    "start_time": "2022-02-11T18:51:56.177Z"
   },
   {
    "duration": 19,
    "start_time": "2022-02-11T18:51:56.203Z"
   },
   {
    "duration": 19,
    "start_time": "2022-02-11T18:51:56.260Z"
   },
   {
    "duration": 17,
    "start_time": "2022-02-11T18:51:56.281Z"
   },
   {
    "duration": 20,
    "start_time": "2022-02-11T18:51:56.300Z"
   },
   {
    "duration": 51,
    "start_time": "2022-02-11T18:51:56.322Z"
   },
   {
    "duration": 14,
    "start_time": "2022-02-11T18:51:56.375Z"
   },
   {
    "duration": 33,
    "start_time": "2022-02-11T18:51:56.392Z"
   },
   {
    "duration": 29,
    "start_time": "2022-02-11T18:51:56.460Z"
   },
   {
    "duration": 8,
    "start_time": "2022-02-11T18:51:56.492Z"
   },
   {
    "duration": 9,
    "start_time": "2022-02-11T18:51:56.502Z"
   },
   {
    "duration": 74,
    "start_time": "2022-02-11T18:51:56.514Z"
   },
   {
    "duration": 22,
    "start_time": "2022-02-11T18:51:56.591Z"
   },
   {
    "duration": 60,
    "start_time": "2022-02-11T18:51:56.615Z"
   },
   {
    "duration": 23,
    "start_time": "2022-02-11T18:51:56.677Z"
   },
   {
    "duration": 10,
    "start_time": "2022-02-11T18:51:56.702Z"
   },
   {
    "duration": 9,
    "start_time": "2022-02-11T18:51:56.715Z"
   },
   {
    "duration": 36,
    "start_time": "2022-02-11T18:51:56.726Z"
   },
   {
    "duration": 8,
    "start_time": "2022-02-11T18:51:56.765Z"
   },
   {
    "duration": 9,
    "start_time": "2022-02-11T18:51:56.775Z"
   },
   {
    "duration": 4,
    "start_time": "2022-02-11T18:57:13.152Z"
   },
   {
    "duration": 189,
    "start_time": "2022-02-11T18:57:13.158Z"
   },
   {
    "duration": 16,
    "start_time": "2022-02-11T18:57:13.350Z"
   },
   {
    "duration": 32,
    "start_time": "2022-02-11T18:57:13.368Z"
   },
   {
    "duration": 5,
    "start_time": "2022-02-11T18:57:13.403Z"
   },
   {
    "duration": 56,
    "start_time": "2022-02-11T18:57:13.410Z"
   },
   {
    "duration": 5,
    "start_time": "2022-02-11T18:57:13.468Z"
   },
   {
    "duration": 32,
    "start_time": "2022-02-11T18:57:13.476Z"
   },
   {
    "duration": 52,
    "start_time": "2022-02-11T18:57:13.510Z"
   },
   {
    "duration": 30,
    "start_time": "2022-02-11T18:57:13.564Z"
   },
   {
    "duration": 98,
    "start_time": "2022-02-11T18:57:13.596Z"
   },
   {
    "duration": 102,
    "start_time": "2022-02-11T18:57:13.696Z"
   },
   {
    "duration": 85,
    "start_time": "2022-02-11T18:57:13.800Z"
   },
   {
    "duration": 73,
    "start_time": "2022-02-11T18:57:13.887Z"
   },
   {
    "duration": 4,
    "start_time": "2022-02-11T18:57:13.964Z"
   },
   {
    "duration": 15,
    "start_time": "2022-02-11T18:57:13.970Z"
   },
   {
    "duration": 80,
    "start_time": "2022-02-11T18:57:13.987Z"
   },
   {
    "duration": 18,
    "start_time": "2022-02-11T18:57:14.070Z"
   },
   {
    "duration": 19,
    "start_time": "2022-02-11T18:57:14.091Z"
   },
   {
    "duration": 57,
    "start_time": "2022-02-11T18:57:14.113Z"
   },
   {
    "duration": 5,
    "start_time": "2022-02-11T18:57:14.174Z"
   },
   {
    "duration": 24,
    "start_time": "2022-02-11T18:57:14.182Z"
   },
   {
    "duration": 52,
    "start_time": "2022-02-11T18:57:14.208Z"
   },
   {
    "duration": 20,
    "start_time": "2022-02-11T18:57:14.263Z"
   },
   {
    "duration": 16,
    "start_time": "2022-02-11T18:57:14.285Z"
   },
   {
    "duration": 20,
    "start_time": "2022-02-11T18:57:14.303Z"
   },
   {
    "duration": 17,
    "start_time": "2022-02-11T18:57:14.360Z"
   },
   {
    "duration": 11,
    "start_time": "2022-02-11T18:57:14.382Z"
   },
   {
    "duration": 63,
    "start_time": "2022-02-11T18:57:14.397Z"
   },
   {
    "duration": 27,
    "start_time": "2022-02-11T18:57:14.463Z"
   },
   {
    "duration": 8,
    "start_time": "2022-02-11T18:57:14.492Z"
   },
   {
    "duration": 10,
    "start_time": "2022-02-11T18:57:14.503Z"
   },
   {
    "duration": 67,
    "start_time": "2022-02-11T18:57:14.515Z"
   },
   {
    "duration": 22,
    "start_time": "2022-02-11T18:57:14.584Z"
   },
   {
    "duration": 26,
    "start_time": "2022-02-11T18:57:14.609Z"
   },
   {
    "duration": 38,
    "start_time": "2022-02-11T18:57:14.637Z"
   },
   {
    "duration": 10,
    "start_time": "2022-02-11T18:57:14.677Z"
   },
   {
    "duration": 9,
    "start_time": "2022-02-11T18:57:14.689Z"
   },
   {
    "duration": 10,
    "start_time": "2022-02-11T18:57:14.700Z"
   },
   {
    "duration": 52,
    "start_time": "2022-02-11T18:57:14.712Z"
   },
   {
    "duration": 9,
    "start_time": "2022-02-11T18:57:14.766Z"
   },
   {
    "duration": 764,
    "start_time": "2022-02-12T02:31:42.775Z"
   },
   {
    "duration": 173,
    "start_time": "2022-02-12T02:31:43.541Z"
   },
   {
    "duration": 25,
    "start_time": "2022-02-12T02:31:43.717Z"
   },
   {
    "duration": 45,
    "start_time": "2022-02-12T02:31:43.744Z"
   },
   {
    "duration": 5,
    "start_time": "2022-02-12T02:31:43.792Z"
   },
   {
    "duration": 59,
    "start_time": "2022-02-12T02:31:43.800Z"
   },
   {
    "duration": 5,
    "start_time": "2022-02-12T02:31:43.862Z"
   },
   {
    "duration": 31,
    "start_time": "2022-02-12T02:31:43.869Z"
   },
   {
    "duration": 82,
    "start_time": "2022-02-12T02:31:43.904Z"
   },
   {
    "duration": 94,
    "start_time": "2022-02-12T02:31:43.990Z"
   },
   {
    "duration": 271,
    "start_time": "2022-02-12T02:31:44.088Z"
   },
   {
    "duration": 239,
    "start_time": "2022-02-12T02:31:44.362Z"
   },
   {
    "duration": 267,
    "start_time": "2022-02-12T02:31:44.605Z"
   },
   {
    "duration": 123,
    "start_time": "2022-02-12T02:31:44.875Z"
   },
   {
    "duration": 3,
    "start_time": "2022-02-12T02:31:45.001Z"
   },
   {
    "duration": 352,
    "start_time": "2022-02-12T02:31:45.006Z"
   },
   {
    "duration": -4185,
    "start_time": "2022-02-12T02:31:49.546Z"
   },
   {
    "duration": -4184,
    "start_time": "2022-02-12T02:31:49.547Z"
   },
   {
    "duration": -4185,
    "start_time": "2022-02-12T02:31:49.549Z"
   },
   {
    "duration": -4185,
    "start_time": "2022-02-12T02:31:49.550Z"
   },
   {
    "duration": -4184,
    "start_time": "2022-02-12T02:31:49.551Z"
   },
   {
    "duration": -4184,
    "start_time": "2022-02-12T02:31:49.552Z"
   },
   {
    "duration": -4184,
    "start_time": "2022-02-12T02:31:49.554Z"
   },
   {
    "duration": -4189,
    "start_time": "2022-02-12T02:31:49.560Z"
   },
   {
    "duration": -4188,
    "start_time": "2022-02-12T02:31:49.561Z"
   },
   {
    "duration": -4188,
    "start_time": "2022-02-12T02:31:49.562Z"
   },
   {
    "duration": -4206,
    "start_time": "2022-02-12T02:31:49.581Z"
   },
   {
    "duration": -4206,
    "start_time": "2022-02-12T02:31:49.582Z"
   },
   {
    "duration": -4206,
    "start_time": "2022-02-12T02:31:49.584Z"
   },
   {
    "duration": -4206,
    "start_time": "2022-02-12T02:31:49.585Z"
   },
   {
    "duration": -4206,
    "start_time": "2022-02-12T02:31:49.586Z"
   },
   {
    "duration": -4206,
    "start_time": "2022-02-12T02:31:49.587Z"
   },
   {
    "duration": -4205,
    "start_time": "2022-02-12T02:31:49.588Z"
   },
   {
    "duration": -4205,
    "start_time": "2022-02-12T02:31:49.589Z"
   },
   {
    "duration": -4205,
    "start_time": "2022-02-12T02:31:49.591Z"
   },
   {
    "duration": -4205,
    "start_time": "2022-02-12T02:31:49.592Z"
   },
   {
    "duration": -4252,
    "start_time": "2022-02-12T02:31:49.641Z"
   },
   {
    "duration": -4253,
    "start_time": "2022-02-12T02:31:49.643Z"
   },
   {
    "duration": -4255,
    "start_time": "2022-02-12T02:31:49.646Z"
   },
   {
    "duration": -4257,
    "start_time": "2022-02-12T02:31:49.650Z"
   },
   {
    "duration": -4258,
    "start_time": "2022-02-12T02:31:49.652Z"
   },
   {
    "duration": 830,
    "start_time": "2022-02-12T11:24:22.700Z"
   },
   {
    "duration": 187,
    "start_time": "2022-02-12T11:24:23.533Z"
   },
   {
    "duration": 25,
    "start_time": "2022-02-12T11:24:23.724Z"
   },
   {
    "duration": 36,
    "start_time": "2022-02-12T11:24:23.752Z"
   },
   {
    "duration": 5,
    "start_time": "2022-02-12T11:24:23.791Z"
   },
   {
    "duration": 48,
    "start_time": "2022-02-12T11:24:23.799Z"
   },
   {
    "duration": 8,
    "start_time": "2022-02-12T11:24:23.850Z"
   },
   {
    "duration": 65,
    "start_time": "2022-02-12T11:24:23.860Z"
   },
   {
    "duration": 23,
    "start_time": "2022-02-12T11:24:23.931Z"
   },
   {
    "duration": 30,
    "start_time": "2022-02-12T11:24:23.958Z"
   },
   {
    "duration": 112,
    "start_time": "2022-02-12T11:24:23.991Z"
   },
   {
    "duration": 121,
    "start_time": "2022-02-12T11:24:24.106Z"
   },
   {
    "duration": 77,
    "start_time": "2022-02-12T11:24:24.230Z"
   },
   {
    "duration": 60,
    "start_time": "2022-02-12T11:24:24.324Z"
   },
   {
    "duration": 4,
    "start_time": "2022-02-12T11:24:24.386Z"
   },
   {
    "duration": 405,
    "start_time": "2022-02-12T11:24:24.392Z"
   },
   {
    "duration": 466,
    "start_time": "2022-02-12T11:24:24.336Z"
   },
   {
    "duration": 305,
    "start_time": "2022-02-12T11:24:24.499Z"
   },
   {
    "duration": 298,
    "start_time": "2022-02-12T11:24:24.508Z"
   },
   {
    "duration": 295,
    "start_time": "2022-02-12T11:24:24.514Z"
   },
   {
    "duration": 287,
    "start_time": "2022-02-12T11:24:24.524Z"
   },
   {
    "duration": 284,
    "start_time": "2022-02-12T11:24:24.530Z"
   },
   {
    "duration": 281,
    "start_time": "2022-02-12T11:24:24.535Z"
   },
   {
    "duration": 279,
    "start_time": "2022-02-12T11:24:24.539Z"
   },
   {
    "duration": 276,
    "start_time": "2022-02-12T11:24:24.544Z"
   },
   {
    "duration": 272,
    "start_time": "2022-02-12T11:24:24.549Z"
   },
   {
    "duration": 269,
    "start_time": "2022-02-12T11:24:24.555Z"
   },
   {
    "duration": 266,
    "start_time": "2022-02-12T11:24:24.560Z"
   },
   {
    "duration": 157,
    "start_time": "2022-02-12T11:24:24.671Z"
   },
   {
    "duration": 50,
    "start_time": "2022-02-12T11:24:24.780Z"
   },
   {
    "duration": 38,
    "start_time": "2022-02-12T11:24:24.794Z"
   },
   {
    "duration": 36,
    "start_time": "2022-02-12T11:24:24.798Z"
   },
   {
    "duration": 33,
    "start_time": "2022-02-12T11:24:24.803Z"
   },
   {
    "duration": 30,
    "start_time": "2022-02-12T11:24:24.808Z"
   },
   {
    "duration": 25,
    "start_time": "2022-02-12T11:24:24.814Z"
   },
   {
    "duration": 23,
    "start_time": "2022-02-12T11:24:24.818Z"
   },
   {
    "duration": 18,
    "start_time": "2022-02-12T11:24:24.825Z"
   },
   {
    "duration": 16,
    "start_time": "2022-02-12T11:24:24.829Z"
   },
   {
    "duration": 11,
    "start_time": "2022-02-12T11:24:24.835Z"
   },
   {
    "duration": 7,
    "start_time": "2022-02-12T11:24:24.841Z"
   },
   {
    "duration": 0,
    "start_time": "2022-02-12T11:24:24.849Z"
   },
   {
    "duration": 300,
    "start_time": "2022-02-12T11:25:11.513Z"
   },
   {
    "duration": 5,
    "start_time": "2022-02-12T11:26:15.204Z"
   },
   {
    "duration": 58,
    "start_time": "2022-02-12T11:26:25.245Z"
   },
   {
    "duration": 4,
    "start_time": "2022-02-12T11:26:38.234Z"
   },
   {
    "duration": 296,
    "start_time": "2022-02-12T11:26:38.248Z"
   },
   {
    "duration": 21,
    "start_time": "2022-02-12T11:26:38.547Z"
   },
   {
    "duration": 65,
    "start_time": "2022-02-12T11:26:38.571Z"
   },
   {
    "duration": 5,
    "start_time": "2022-02-12T11:26:38.639Z"
   },
   {
    "duration": 27,
    "start_time": "2022-02-12T11:26:38.647Z"
   },
   {
    "duration": 4,
    "start_time": "2022-02-12T11:26:38.677Z"
   },
   {
    "duration": 72,
    "start_time": "2022-02-12T11:26:38.684Z"
   },
   {
    "duration": 23,
    "start_time": "2022-02-12T11:26:38.759Z"
   },
   {
    "duration": 48,
    "start_time": "2022-02-12T11:26:38.788Z"
   },
   {
    "duration": 94,
    "start_time": "2022-02-12T11:26:38.839Z"
   },
   {
    "duration": 106,
    "start_time": "2022-02-12T11:26:38.935Z"
   },
   {
    "duration": 93,
    "start_time": "2022-02-12T11:26:39.043Z"
   },
   {
    "duration": 57,
    "start_time": "2022-02-12T11:26:39.139Z"
   },
   {
    "duration": 3,
    "start_time": "2022-02-12T11:26:39.198Z"
   },
   {
    "duration": 22,
    "start_time": "2022-02-12T11:26:39.203Z"
   },
   {
    "duration": 61,
    "start_time": "2022-02-12T11:26:39.228Z"
   },
   {
    "duration": 45,
    "start_time": "2022-02-12T11:26:39.291Z"
   },
   {
    "duration": 18,
    "start_time": "2022-02-12T11:26:39.339Z"
   },
   {
    "duration": 18,
    "start_time": "2022-02-12T11:26:39.359Z"
   },
   {
    "duration": 5,
    "start_time": "2022-02-12T11:26:39.424Z"
   },
   {
    "duration": 28,
    "start_time": "2022-02-12T11:26:39.432Z"
   },
   {
    "duration": 18,
    "start_time": "2022-02-12T11:26:39.462Z"
   },
   {
    "duration": 56,
    "start_time": "2022-02-12T11:26:39.482Z"
   },
   {
    "duration": 21,
    "start_time": "2022-02-12T11:26:39.540Z"
   },
   {
    "duration": 26,
    "start_time": "2022-02-12T11:26:39.563Z"
   },
   {
    "duration": 47,
    "start_time": "2022-02-12T11:26:39.592Z"
   },
   {
    "duration": 16,
    "start_time": "2022-02-12T11:26:39.645Z"
   },
   {
    "duration": 63,
    "start_time": "2022-02-12T11:26:39.665Z"
   },
   {
    "duration": 27,
    "start_time": "2022-02-12T11:26:39.731Z"
   },
   {
    "duration": 6,
    "start_time": "2022-02-12T11:26:39.760Z"
   },
   {
    "duration": 13,
    "start_time": "2022-02-12T11:26:39.769Z"
   },
   {
    "duration": 56,
    "start_time": "2022-02-12T11:26:39.785Z"
   },
   {
    "duration": 17,
    "start_time": "2022-02-12T11:26:39.844Z"
   },
   {
    "duration": 21,
    "start_time": "2022-02-12T11:26:39.863Z"
   },
   {
    "duration": 49,
    "start_time": "2022-02-12T11:26:39.887Z"
   },
   {
    "duration": 11,
    "start_time": "2022-02-12T11:26:39.938Z"
   },
   {
    "duration": 11,
    "start_time": "2022-02-12T11:26:39.951Z"
   },
   {
    "duration": 9,
    "start_time": "2022-02-12T11:26:39.964Z"
   },
   {
    "duration": 48,
    "start_time": "2022-02-12T11:26:39.975Z"
   },
   {
    "duration": 10,
    "start_time": "2022-02-12T11:26:40.026Z"
   },
   {
    "duration": 5,
    "start_time": "2022-02-12T11:32:13.906Z"
   },
   {
    "duration": 233,
    "start_time": "2022-02-12T11:32:13.913Z"
   },
   {
    "duration": 26,
    "start_time": "2022-02-12T11:32:14.150Z"
   },
   {
    "duration": 52,
    "start_time": "2022-02-12T11:32:14.179Z"
   },
   {
    "duration": 11,
    "start_time": "2022-02-12T11:32:14.233Z"
   },
   {
    "duration": 27,
    "start_time": "2022-02-12T11:32:14.246Z"
   },
   {
    "duration": 5,
    "start_time": "2022-02-12T11:32:14.276Z"
   },
   {
    "duration": 65,
    "start_time": "2022-02-12T11:32:14.284Z"
   },
   {
    "duration": 23,
    "start_time": "2022-02-12T11:32:14.354Z"
   },
   {
    "duration": 49,
    "start_time": "2022-02-12T11:32:14.385Z"
   },
   {
    "duration": 91,
    "start_time": "2022-02-12T11:32:14.437Z"
   },
   {
    "duration": 106,
    "start_time": "2022-02-12T11:32:14.530Z"
   },
   {
    "duration": 87,
    "start_time": "2022-02-12T11:32:14.638Z"
   },
   {
    "duration": 119,
    "start_time": "2022-02-12T11:32:14.728Z"
   },
   {
    "duration": 6,
    "start_time": "2022-02-12T11:32:14.850Z"
   },
   {
    "duration": 7,
    "start_time": "2022-02-12T11:32:14.859Z"
   },
   {
    "duration": 83,
    "start_time": "2022-02-12T11:32:14.869Z"
   },
   {
    "duration": 21,
    "start_time": "2022-02-12T11:32:14.955Z"
   },
   {
    "duration": 46,
    "start_time": "2022-02-12T11:32:14.979Z"
   },
   {
    "duration": 31,
    "start_time": "2022-02-12T11:32:15.028Z"
   },
   {
    "duration": 6,
    "start_time": "2022-02-12T11:32:15.062Z"
   },
   {
    "duration": 56,
    "start_time": "2022-02-12T11:32:15.071Z"
   },
   {
    "duration": 19,
    "start_time": "2022-02-12T11:32:15.130Z"
   },
   {
    "duration": 24,
    "start_time": "2022-02-12T11:32:15.152Z"
   },
   {
    "duration": 53,
    "start_time": "2022-02-12T11:32:15.179Z"
   },
   {
    "duration": 30,
    "start_time": "2022-02-12T11:32:15.235Z"
   },
   {
    "duration": 20,
    "start_time": "2022-02-12T11:32:15.273Z"
   },
   {
    "duration": 15,
    "start_time": "2022-02-12T11:32:15.323Z"
   },
   {
    "duration": 58,
    "start_time": "2022-02-12T11:32:15.341Z"
   },
   {
    "duration": 56,
    "start_time": "2022-02-12T11:32:15.402Z"
   },
   {
    "duration": 8,
    "start_time": "2022-02-12T11:32:15.461Z"
   },
   {
    "duration": 11,
    "start_time": "2022-02-12T11:32:15.472Z"
   },
   {
    "duration": 58,
    "start_time": "2022-02-12T11:32:15.485Z"
   },
   {
    "duration": 18,
    "start_time": "2022-02-12T11:32:15.545Z"
   },
   {
    "duration": 25,
    "start_time": "2022-02-12T11:32:15.566Z"
   },
   {
    "duration": 49,
    "start_time": "2022-02-12T11:32:15.594Z"
   },
   {
    "duration": 12,
    "start_time": "2022-02-12T11:32:15.645Z"
   },
   {
    "duration": 14,
    "start_time": "2022-02-12T11:32:15.660Z"
   },
   {
    "duration": 53,
    "start_time": "2022-02-12T11:32:15.678Z"
   },
   {
    "duration": 12,
    "start_time": "2022-02-12T11:32:15.733Z"
   },
   {
    "duration": 14,
    "start_time": "2022-02-12T11:32:15.748Z"
   },
   {
    "duration": 4,
    "start_time": "2022-02-12T11:47:56.183Z"
   },
   {
    "duration": 271,
    "start_time": "2022-02-12T11:47:56.190Z"
   },
   {
    "duration": 20,
    "start_time": "2022-02-12T11:47:56.465Z"
   },
   {
    "duration": 57,
    "start_time": "2022-02-12T11:47:56.488Z"
   },
   {
    "duration": 7,
    "start_time": "2022-02-12T11:47:56.548Z"
   },
   {
    "duration": 19,
    "start_time": "2022-02-12T11:47:56.558Z"
   },
   {
    "duration": 7,
    "start_time": "2022-02-12T11:47:56.579Z"
   },
   {
    "duration": 32,
    "start_time": "2022-02-12T11:47:56.627Z"
   },
   {
    "duration": 23,
    "start_time": "2022-02-12T11:47:56.662Z"
   },
   {
    "duration": 54,
    "start_time": "2022-02-12T11:47:56.688Z"
   },
   {
    "duration": 102,
    "start_time": "2022-02-12T11:47:56.745Z"
   },
   {
    "duration": 100,
    "start_time": "2022-02-12T11:47:56.849Z"
   },
   {
    "duration": 85,
    "start_time": "2022-02-12T11:47:56.952Z"
   },
   {
    "duration": 60,
    "start_time": "2022-02-12T11:47:57.040Z"
   },
   {
    "duration": 4,
    "start_time": "2022-02-12T11:47:57.123Z"
   },
   {
    "duration": 7,
    "start_time": "2022-02-12T11:47:57.130Z"
   },
   {
    "duration": 88,
    "start_time": "2022-02-12T11:47:57.140Z"
   },
   {
    "duration": 20,
    "start_time": "2022-02-12T11:47:57.231Z"
   },
   {
    "duration": 18,
    "start_time": "2022-02-12T11:47:57.253Z"
   },
   {
    "duration": 60,
    "start_time": "2022-02-12T11:47:57.274Z"
   },
   {
    "duration": 5,
    "start_time": "2022-02-12T11:47:57.336Z"
   },
   {
    "duration": 26,
    "start_time": "2022-02-12T11:47:57.344Z"
   },
   {
    "duration": 50,
    "start_time": "2022-02-12T11:47:57.375Z"
   },
   {
    "duration": 19,
    "start_time": "2022-02-12T11:47:57.429Z"
   },
   {
    "duration": 18,
    "start_time": "2022-02-12T11:47:57.451Z"
   },
   {
    "duration": 59,
    "start_time": "2022-02-12T11:47:57.471Z"
   },
   {
    "duration": 18,
    "start_time": "2022-02-12T11:47:57.532Z"
   },
   {
    "duration": 12,
    "start_time": "2022-02-12T11:47:57.553Z"
   },
   {
    "duration": 61,
    "start_time": "2022-02-12T11:47:57.567Z"
   },
   {
    "duration": 38,
    "start_time": "2022-02-12T11:47:57.630Z"
   },
   {
    "duration": 8,
    "start_time": "2022-02-12T11:47:57.670Z"
   },
   {
    "duration": 9,
    "start_time": "2022-02-12T11:47:57.681Z"
   },
   {
    "duration": 26,
    "start_time": "2022-02-12T11:47:57.725Z"
   },
   {
    "duration": 21,
    "start_time": "2022-02-12T11:47:57.754Z"
   },
   {
    "duration": 58,
    "start_time": "2022-02-12T11:47:57.777Z"
   },
   {
    "duration": 18,
    "start_time": "2022-02-12T11:47:57.838Z"
   },
   {
    "duration": 10,
    "start_time": "2022-02-12T11:47:57.859Z"
   },
   {
    "duration": 10,
    "start_time": "2022-02-12T11:47:57.873Z"
   },
   {
    "duration": 12,
    "start_time": "2022-02-12T11:47:57.924Z"
   },
   {
    "duration": 10,
    "start_time": "2022-02-12T11:47:57.939Z"
   },
   {
    "duration": 11,
    "start_time": "2022-02-12T11:47:57.952Z"
   },
   {
    "duration": 130,
    "start_time": "2022-02-12T11:48:55.818Z"
   },
   {
    "duration": 4,
    "start_time": "2022-02-12T11:49:45.999Z"
   },
   {
    "duration": 261,
    "start_time": "2022-02-12T11:49:46.006Z"
   },
   {
    "duration": 17,
    "start_time": "2022-02-12T11:49:46.272Z"
   },
   {
    "duration": 50,
    "start_time": "2022-02-12T11:49:46.292Z"
   },
   {
    "duration": 5,
    "start_time": "2022-02-12T11:49:46.346Z"
   },
   {
    "duration": 19,
    "start_time": "2022-02-12T11:49:46.354Z"
   },
   {
    "duration": 6,
    "start_time": "2022-02-12T11:49:46.375Z"
   },
   {
    "duration": 34,
    "start_time": "2022-02-12T11:49:46.424Z"
   },
   {
    "duration": 23,
    "start_time": "2022-02-12T11:49:46.463Z"
   },
   {
    "duration": 59,
    "start_time": "2022-02-12T11:49:46.489Z"
   },
   {
    "duration": 99,
    "start_time": "2022-02-12T11:49:46.550Z"
   },
   {
    "duration": 103,
    "start_time": "2022-02-12T11:49:46.652Z"
   },
   {
    "duration": 89,
    "start_time": "2022-02-12T11:49:46.758Z"
   },
   {
    "duration": 74,
    "start_time": "2022-02-12T11:49:46.850Z"
   },
   {
    "duration": 109,
    "start_time": "2022-02-12T11:49:46.927Z"
   },
   {
    "duration": 580,
    "start_time": "2022-02-12T11:49:46.460Z"
   },
   {
    "duration": 577,
    "start_time": "2022-02-12T11:49:46.465Z"
   },
   {
    "duration": 575,
    "start_time": "2022-02-12T11:49:46.469Z"
   },
   {
    "duration": 572,
    "start_time": "2022-02-12T11:49:46.474Z"
   },
   {
    "duration": 566,
    "start_time": "2022-02-12T11:49:46.483Z"
   },
   {
    "duration": 565,
    "start_time": "2022-02-12T11:49:46.486Z"
   },
   {
    "duration": 565,
    "start_time": "2022-02-12T11:49:46.489Z"
   },
   {
    "duration": 564,
    "start_time": "2022-02-12T11:49:46.492Z"
   },
   {
    "duration": 565,
    "start_time": "2022-02-12T11:49:46.494Z"
   },
   {
    "duration": 562,
    "start_time": "2022-02-12T11:49:46.499Z"
   },
   {
    "duration": 560,
    "start_time": "2022-02-12T11:49:46.503Z"
   },
   {
    "duration": 554,
    "start_time": "2022-02-12T11:49:46.512Z"
   },
   {
    "duration": 544,
    "start_time": "2022-02-12T11:49:46.524Z"
   },
   {
    "duration": 542,
    "start_time": "2022-02-12T11:49:46.528Z"
   },
   {
    "duration": 540,
    "start_time": "2022-02-12T11:49:46.532Z"
   },
   {
    "duration": 539,
    "start_time": "2022-02-12T11:49:46.536Z"
   },
   {
    "duration": 579,
    "start_time": "2022-02-12T11:49:46.544Z"
   },
   {
    "duration": 577,
    "start_time": "2022-02-12T11:49:46.549Z"
   },
   {
    "duration": 574,
    "start_time": "2022-02-12T11:49:46.554Z"
   },
   {
    "duration": 573,
    "start_time": "2022-02-12T11:49:46.558Z"
   },
   {
    "duration": 567,
    "start_time": "2022-02-12T11:49:46.566Z"
   },
   {
    "duration": 564,
    "start_time": "2022-02-12T11:49:46.571Z"
   },
   {
    "duration": 562,
    "start_time": "2022-02-12T11:49:46.576Z"
   },
   {
    "duration": 559,
    "start_time": "2022-02-12T11:49:46.581Z"
   },
   {
    "duration": 559,
    "start_time": "2022-02-12T11:49:46.584Z"
   },
   {
    "duration": 557,
    "start_time": "2022-02-12T11:49:46.587Z"
   },
   {
    "duration": 4,
    "start_time": "2022-02-12T11:51:01.358Z"
   },
   {
    "duration": 219,
    "start_time": "2022-02-12T11:51:01.365Z"
   },
   {
    "duration": 17,
    "start_time": "2022-02-12T11:51:01.587Z"
   },
   {
    "duration": 47,
    "start_time": "2022-02-12T11:51:01.607Z"
   },
   {
    "duration": 8,
    "start_time": "2022-02-12T11:51:01.657Z"
   },
   {
    "duration": 19,
    "start_time": "2022-02-12T11:51:01.667Z"
   },
   {
    "duration": 36,
    "start_time": "2022-02-12T11:51:01.689Z"
   },
   {
    "duration": 31,
    "start_time": "2022-02-12T11:51:01.728Z"
   },
   {
    "duration": 25,
    "start_time": "2022-02-12T11:51:01.763Z"
   },
   {
    "duration": 54,
    "start_time": "2022-02-12T11:51:01.792Z"
   },
   {
    "duration": 101,
    "start_time": "2022-02-12T11:51:01.849Z"
   },
   {
    "duration": 110,
    "start_time": "2022-02-12T11:51:01.953Z"
   },
   {
    "duration": 91,
    "start_time": "2022-02-12T11:51:02.066Z"
   },
   {
    "duration": 67,
    "start_time": "2022-02-12T11:51:02.161Z"
   },
   {
    "duration": 106,
    "start_time": "2022-02-12T11:51:02.231Z"
   },
   {
    "duration": 580,
    "start_time": "2022-02-12T11:51:01.762Z"
   },
   {
    "duration": 578,
    "start_time": "2022-02-12T11:51:01.766Z"
   },
   {
    "duration": 576,
    "start_time": "2022-02-12T11:51:01.770Z"
   },
   {
    "duration": 576,
    "start_time": "2022-02-12T11:51:01.772Z"
   },
   {
    "duration": 568,
    "start_time": "2022-02-12T11:51:01.782Z"
   },
   {
    "duration": 567,
    "start_time": "2022-02-12T11:51:01.785Z"
   },
   {
    "duration": 567,
    "start_time": "2022-02-12T11:51:01.788Z"
   },
   {
    "duration": 566,
    "start_time": "2022-02-12T11:51:01.791Z"
   },
   {
    "duration": 564,
    "start_time": "2022-02-12T11:51:01.795Z"
   },
   {
    "duration": 563,
    "start_time": "2022-02-12T11:51:01.798Z"
   },
   {
    "duration": 562,
    "start_time": "2022-02-12T11:51:01.801Z"
   },
   {
    "duration": 553,
    "start_time": "2022-02-12T11:51:01.812Z"
   },
   {
    "duration": 550,
    "start_time": "2022-02-12T11:51:01.818Z"
   },
   {
    "duration": 546,
    "start_time": "2022-02-12T11:51:01.823Z"
   },
   {
    "duration": 543,
    "start_time": "2022-02-12T11:51:01.828Z"
   },
   {
    "duration": 544,
    "start_time": "2022-02-12T11:51:01.831Z"
   },
   {
    "duration": 538,
    "start_time": "2022-02-12T11:51:01.840Z"
   },
   {
    "duration": 536,
    "start_time": "2022-02-12T11:51:01.844Z"
   },
   {
    "duration": 533,
    "start_time": "2022-02-12T11:51:01.848Z"
   },
   {
    "duration": 573,
    "start_time": "2022-02-12T11:51:01.851Z"
   },
   {
    "duration": 572,
    "start_time": "2022-02-12T11:51:01.854Z"
   },
   {
    "duration": 571,
    "start_time": "2022-02-12T11:51:01.857Z"
   },
   {
    "duration": 565,
    "start_time": "2022-02-12T11:51:01.865Z"
   },
   {
    "duration": 557,
    "start_time": "2022-02-12T11:51:01.875Z"
   },
   {
    "duration": 552,
    "start_time": "2022-02-12T11:51:01.882Z"
   },
   {
    "duration": 552,
    "start_time": "2022-02-12T11:51:01.885Z"
   },
   {
    "duration": 92,
    "start_time": "2022-02-12T11:51:54.276Z"
   },
   {
    "duration": 5,
    "start_time": "2022-02-12T11:52:06.460Z"
   },
   {
    "duration": 4,
    "start_time": "2022-02-12T11:52:12.495Z"
   },
   {
    "duration": 60,
    "start_time": "2022-02-12T11:52:20.779Z"
   },
   {
    "duration": 4,
    "start_time": "2022-02-12T11:52:29.421Z"
   },
   {
    "duration": 204,
    "start_time": "2022-02-12T11:52:29.428Z"
   },
   {
    "duration": 16,
    "start_time": "2022-02-12T11:52:29.636Z"
   },
   {
    "duration": 32,
    "start_time": "2022-02-12T11:52:29.657Z"
   },
   {
    "duration": 33,
    "start_time": "2022-02-12T11:52:29.692Z"
   },
   {
    "duration": 14,
    "start_time": "2022-02-12T11:52:29.727Z"
   },
   {
    "duration": 5,
    "start_time": "2022-02-12T11:52:29.744Z"
   },
   {
    "duration": 34,
    "start_time": "2022-02-12T11:52:29.752Z"
   },
   {
    "duration": 54,
    "start_time": "2022-02-12T11:52:29.790Z"
   },
   {
    "duration": 30,
    "start_time": "2022-02-12T11:52:29.847Z"
   },
   {
    "duration": 111,
    "start_time": "2022-02-12T11:52:29.879Z"
   },
   {
    "duration": 106,
    "start_time": "2022-02-12T11:52:29.993Z"
   },
   {
    "duration": 82,
    "start_time": "2022-02-12T11:52:30.102Z"
   },
   {
    "duration": 72,
    "start_time": "2022-02-12T11:52:30.186Z"
   },
   {
    "duration": 4,
    "start_time": "2022-02-12T11:52:30.261Z"
   },
   {
    "duration": 9,
    "start_time": "2022-02-12T11:52:30.268Z"
   },
   {
    "duration": 117,
    "start_time": "2022-02-12T11:52:30.280Z"
   },
   {
    "duration": 29,
    "start_time": "2022-02-12T11:52:30.400Z"
   },
   {
    "duration": 17,
    "start_time": "2022-02-12T11:52:30.432Z"
   },
   {
    "duration": 19,
    "start_time": "2022-02-12T11:52:30.451Z"
   },
   {
    "duration": 5,
    "start_time": "2022-02-12T11:52:30.472Z"
   },
   {
    "duration": 58,
    "start_time": "2022-02-12T11:52:30.479Z"
   },
   {
    "duration": 26,
    "start_time": "2022-02-12T11:52:30.540Z"
   },
   {
    "duration": 36,
    "start_time": "2022-02-12T11:52:30.568Z"
   },
   {
    "duration": 33,
    "start_time": "2022-02-12T11:52:30.607Z"
   },
   {
    "duration": 39,
    "start_time": "2022-02-12T11:52:30.643Z"
   },
   {
    "duration": 29,
    "start_time": "2022-02-12T11:52:30.689Z"
   },
   {
    "duration": 32,
    "start_time": "2022-02-12T11:52:30.722Z"
   },
   {
    "duration": 46,
    "start_time": "2022-02-12T11:52:30.756Z"
   },
   {
    "duration": 33,
    "start_time": "2022-02-12T11:52:30.804Z"
   },
   {
    "duration": 28,
    "start_time": "2022-02-12T11:52:30.840Z"
   },
   {
    "duration": 35,
    "start_time": "2022-02-12T11:52:30.871Z"
   },
   {
    "duration": 51,
    "start_time": "2022-02-12T11:52:30.909Z"
   },
   {
    "duration": 25,
    "start_time": "2022-02-12T11:52:30.963Z"
   },
   {
    "duration": 27,
    "start_time": "2022-02-12T11:52:30.990Z"
   },
   {
    "duration": 18,
    "start_time": "2022-02-12T11:52:31.020Z"
   },
   {
    "duration": 17,
    "start_time": "2022-02-12T11:52:31.041Z"
   },
   {
    "duration": 16,
    "start_time": "2022-02-12T11:52:31.061Z"
   },
   {
    "duration": 48,
    "start_time": "2022-02-12T11:52:31.080Z"
   },
   {
    "duration": 23,
    "start_time": "2022-02-12T11:52:31.132Z"
   },
   {
    "duration": 31,
    "start_time": "2022-02-12T11:52:31.158Z"
   },
   {
    "duration": 5,
    "start_time": "2022-02-12T12:03:06.574Z"
   },
   {
    "duration": 219,
    "start_time": "2022-02-12T12:03:06.582Z"
   },
   {
    "duration": 26,
    "start_time": "2022-02-12T12:03:06.804Z"
   },
   {
    "duration": 49,
    "start_time": "2022-02-12T12:03:06.833Z"
   },
   {
    "duration": 21,
    "start_time": "2022-02-12T12:03:06.885Z"
   },
   {
    "duration": 36,
    "start_time": "2022-02-12T12:03:06.909Z"
   },
   {
    "duration": 16,
    "start_time": "2022-02-12T12:03:06.948Z"
   },
   {
    "duration": 43,
    "start_time": "2022-02-12T12:03:06.977Z"
   },
   {
    "duration": 38,
    "start_time": "2022-02-12T12:03:07.027Z"
   },
   {
    "duration": 59,
    "start_time": "2022-02-12T12:03:07.072Z"
   },
   {
    "duration": 111,
    "start_time": "2022-02-12T12:03:07.133Z"
   },
   {
    "duration": 108,
    "start_time": "2022-02-12T12:03:07.246Z"
   },
   {
    "duration": 93,
    "start_time": "2022-02-12T12:03:07.357Z"
   },
   {
    "duration": 71,
    "start_time": "2022-02-12T12:03:07.453Z"
   },
   {
    "duration": 15,
    "start_time": "2022-02-12T12:03:07.527Z"
   },
   {
    "duration": 19,
    "start_time": "2022-02-12T12:03:07.544Z"
   },
   {
    "duration": 75,
    "start_time": "2022-02-12T12:03:07.565Z"
   },
   {
    "duration": 33,
    "start_time": "2022-02-12T12:03:07.643Z"
   },
   {
    "duration": 17,
    "start_time": "2022-02-12T12:03:07.679Z"
   },
   {
    "duration": 40,
    "start_time": "2022-02-12T12:03:07.699Z"
   },
   {
    "duration": 5,
    "start_time": "2022-02-12T12:03:07.741Z"
   },
   {
    "duration": 45,
    "start_time": "2022-02-12T12:03:07.748Z"
   },
   {
    "duration": 34,
    "start_time": "2022-02-12T12:03:07.795Z"
   },
   {
    "duration": 32,
    "start_time": "2022-02-12T12:03:07.832Z"
   },
   {
    "duration": 26,
    "start_time": "2022-02-12T12:03:07.867Z"
   },
   {
    "duration": 47,
    "start_time": "2022-02-12T12:03:07.896Z"
   },
   {
    "duration": 31,
    "start_time": "2022-02-12T12:03:07.951Z"
   },
   {
    "duration": 17,
    "start_time": "2022-02-12T12:03:07.985Z"
   },
   {
    "duration": 34,
    "start_time": "2022-02-12T12:03:08.022Z"
   },
   {
    "duration": 30,
    "start_time": "2022-02-12T12:03:08.058Z"
   },
   {
    "duration": 38,
    "start_time": "2022-02-12T12:03:08.091Z"
   },
   {
    "duration": 38,
    "start_time": "2022-02-12T12:03:08.132Z"
   },
   {
    "duration": 59,
    "start_time": "2022-02-12T12:03:08.174Z"
   },
   {
    "duration": 28,
    "start_time": "2022-02-12T12:03:08.237Z"
   },
   {
    "duration": 59,
    "start_time": "2022-02-12T12:03:08.268Z"
   },
   {
    "duration": 23,
    "start_time": "2022-02-12T12:03:08.331Z"
   },
   {
    "duration": 13,
    "start_time": "2022-02-12T12:03:08.357Z"
   },
   {
    "duration": 16,
    "start_time": "2022-02-12T12:03:08.373Z"
   },
   {
    "duration": 41,
    "start_time": "2022-02-12T12:03:08.391Z"
   },
   {
    "duration": 14,
    "start_time": "2022-02-12T12:03:08.436Z"
   },
   {
    "duration": 24,
    "start_time": "2022-02-12T12:03:08.453Z"
   }
  ],
  "colab": {
   "collapsed_sections": [
    "E0vqbgi9ay0H",
    "VUC88oWjTJw2"
   ],
   "name": "yandex_music_project_2021.2.ipynb",
   "provenance": []
  },
  "kernelspec": {
   "display_name": "Python 3 (ipykernel)",
   "language": "python",
   "name": "python3"
  },
  "language_info": {
   "codemirror_mode": {
    "name": "ipython",
    "version": 3
   },
   "file_extension": ".py",
   "mimetype": "text/x-python",
   "name": "python",
   "nbconvert_exporter": "python",
   "pygments_lexer": "ipython3",
   "version": "3.9.7"
  },
  "toc": {
   "base_numbering": 1,
   "nav_menu": {},
   "number_sections": true,
   "sideBar": true,
   "skip_h1_title": true,
   "title_cell": "Table of Contents",
   "title_sidebar": "Contents",
   "toc_cell": false,
   "toc_position": {
    "height": "calc(100% - 180px)",
    "left": "10px",
    "top": "150px",
    "width": "292px"
   },
   "toc_section_display": true,
   "toc_window_display": true
  }
 },
 "nbformat": 4,
 "nbformat_minor": 1
}
