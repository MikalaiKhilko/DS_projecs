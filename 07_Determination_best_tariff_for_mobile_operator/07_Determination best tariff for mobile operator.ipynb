{
 "cells": [
  {
   "cell_type": "markdown",
   "id": "4fe0266b",
   "metadata": {},
   "source": [
    "# Статистический анализ данных\n",
    "# Определение перспективного тарифа для оператора сотовой связи"
   ]
  },
  {
   "cell_type": "markdown",
   "id": "fa4fd6cd",
   "metadata": {},
   "source": [
    "Описание проекта\n",
    "\n",
    "Вы аналитик компании «Мегалайн» — федерального оператора сотовой связи. Клиентам предлагают два тарифных плана: «Смарт» и «Ультра». Чтобы скорректировать рекламный бюджет, коммерческий департамент хочет понять, какой тариф приносит больше денег.\n",
    "Вам предстоит сделать предварительный анализ тарифов на небольшой выборке клиентов. В вашем распоряжении данные 500 пользователей «Мегалайна»: кто они, откуда, каким тарифом пользуются, сколько звонков и сообщений каждый отправил за 2018 год. Нужно проанализировать поведение клиентов и сделать вывод — какой тариф лучше.\n",
    "\n",
    "Описание тарифов\n",
    "\n",
    "Тариф «Смарт»\n",
    "1.\tЕжемесячная плата: 550 рублей\n",
    "2.\tВключено 500 минут разговора, 50 сообщений и 15 Гб интернет-трафика\n",
    "3.\tСтоимость услуг сверх тарифного пакета:\n",
    "- минута разговора: 3 рубля\n",
    "- сообщение: 3 рубля\n",
    "- 1 Гб интернет-трафика: 200 рублей\n",
    "\n",
    "Тариф «Ультра»\n",
    "1.\tЕжемесячная плата: 1950 рублей\n",
    "2.\tВключено 3000 минут разговора, 1000 сообщений и 30 Гб интернет-трафика\n",
    "3.\tСтоимость услуг сверх тарифного пакета:\n",
    "- минута разговора: 1 рубль\n",
    "- сообщение: 1 рубль\n",
    "- 1 Гб интернет-трафика: 150 рублей\n",
    "\n",
    "Примечание:\n",
    "- «Мегалайн» всегда округляет секунды до минут, а мегабайты — до гигабайт. Каждый звонок округляется отдельно: даже если он длился всего 1 секунду, будет засчитан как 1 минута.\n",
    "\n",
    "- Для веб-трафика отдельные сессии не считаются. Вместо этого общая сумма за месяц округляется в бо́льшую сторону. Если абонент использует 1025 мегабайт в этом месяце, с него возьмут плату за 2 гигабайта.\n",
    "\n",
    "Инструкция по выполнению проекта\n",
    "\n",
    "Шаг 1. Откройте файл с данными и изучите общую информацию\n",
    "\n",
    "Путь к файлам:\n",
    "\n",
    "•\t/datasets/calls.csv. Скачать датасет\n",
    "\n",
    "•\t/datasets/internet.csv. Скачать датасет\n",
    "\n",
    "•\t/datasets/messages.csv. Скачать датасет\n",
    "\n",
    "•\t/datasets/tariffs.csv. Скачать датасет\n",
    "\n",
    "•\t/datasets/users.csv. Скачать датасет\n",
    "\n",
    "\n",
    "Шаг 2. Подготовьте данные\n",
    "\n",
    "•\tПриведите данные к нужным типам;\n",
    "\n",
    "•\tНайдите и исправьте ошибки в данных, если они есть.\n",
    "\n",
    "Поясните, какие ошибки вы нашли и как их исправили. В данных вы найдёте звонки с нулевой продолжительностью. Это не ошибка: нулями обозначены пропущенные звонки, поэтому их не нужно удалять.\n",
    "\n",
    "Посчитайте для каждого пользователя:\n",
    "\n",
    "•\tколичество сделанных звонков и израсходованных минут разговора по месяцам;\n",
    "\n",
    "•\tколичество отправленных сообщений по месяцам;\n",
    "\n",
    "•\tобъем израсходованного интернет-трафика по месяцам;\n",
    "\n",
    "•\tпомесячную выручку с каждого пользователя (вычтите бесплатный лимит из суммарного количества звонков, сообщений и интернет-трафика; остаток умножьте на значение из тарифного плана; прибавьте абонентскую плату, соответствующую тарифному плану).\n",
    "\n",
    "Шаг 3. Проанализируйте данные\n",
    "\n",
    "Опишите поведение клиентов оператора, исходя из выборки. Сколько минут разговора, сколько сообщений и какой объём интернет-трафика требуется пользователям каждого тарифа в месяц? Посчитайте среднее количество, дисперсию и стандартное отклонение. Постройте гистограммы. Опишите распределения.\n",
    "\n",
    "Шаг 4. Проверьте гипотезы\n",
    "\n",
    "•\tсредняя выручка пользователей тарифов «Ультра» и «Смарт» различаются;\n",
    "\n",
    "•\tсредняя выручка пользователей из Москвы отличается от выручки пользователей из других регионов.\n",
    "\n",
    "Пороговое значение alpha задайте самостоятельно.\n",
    "\n",
    "Поясните:\n",
    "\n",
    "•\tкак вы формулировали нулевую и альтернативную гипотезы;\n",
    "\n",
    "•\tкакой критерий использовали для проверки гипотез и почему.\n",
    "\n",
    "Шаг 5. Напишите общий вывод\n",
    "\n",
    "Оформление: Задание выполните в Jupyter Notebook. Программный код заполните в ячейках типа code, текстовые пояснения — в ячейках типа markdown. Примените форматирование и заголовки.\n",
    "\n",
    "Описание данных\n",
    "\n",
    "Таблица users (информация о пользователях):\n",
    "\n",
    "•\tuser_id — уникальный идентификатор пользователя\n",
    "\n",
    "•\tfirst_name — имя пользователя\n",
    "\n",
    "•\tlast_name — фамилия пользователя\n",
    "\n",
    "•\tage — возраст пользователя (годы)\n",
    "\n",
    "•\treg_date — дата подключения тарифа (день, месяц, год)\n",
    "\n",
    "•\tchurn_date — дата прекращения пользования тарифом (если значение пропущено, то тариф ещё действовал на момент выгрузки данных)\n",
    "\n",
    "•\tcity — город проживания пользователя\n",
    "\n",
    "•\ttariff — название тарифного плана\n",
    "\n",
    "Таблица calls (информация о звонках):\n",
    "\n",
    "•\tid — уникальный номер звонка\n",
    "\n",
    "•\tcall_date — дата звонка\n",
    "\n",
    "•\tduration — длительность звонка в минутах\n",
    "\n",
    "•\tuser_id — идентификатор пользователя, сделавшего звонок\n",
    "\n",
    "Таблица messages (информация о сообщениях):\n",
    "\n",
    "•\tid — уникальный номер сообщения\n",
    "\n",
    "•\tmessage_date — дата сообщения\n",
    "\n",
    "•\tuser_id — идентификатор пользователя, отправившего сообщение\n",
    "\n",
    "Таблица internet (информация об интернет-сессиях):\n",
    "\n",
    "•\tid — уникальный номер сессии\n",
    "\n",
    "•\tmb_used — объём потраченного за сессию интернет-трафика (в мегабайтах)\n",
    "\n",
    "•\tsession_date — дата интернет-сессии\n",
    "\n",
    "•\tuser_id — идентификатор пользователя\n",
    "\n",
    "Таблица tariffs (информация о тарифах):\n",
    "\n",
    "•\ttariff_name — название тарифа\n",
    "\n",
    "•\trub_monthly_fee — ежемесячная абонентская плата в рублях\n",
    "\n",
    "•\tminutes_included — количество минут разговора в месяц, включённых в абонентскую плату\n",
    "\n",
    "•\tmessages_included — количество сообщений в месяц, включённых в абонентскую плату\n",
    "\n",
    "•\tmb_per_month_included — объём интернет-трафика, включённого в абонентскую плату (в мегабайтах)\n",
    "\n",
    "•\trub_per_minute — стоимость минуты разговора сверх тарифного пакета (например, если в тарифе 100 минут разговора в месяц, то со 101 минуты будет взиматься плата)\n",
    "\n",
    "•\trub_per_message — стоимость отправки сообщения сверх тарифного пакета\n",
    "\n",
    "•\trub_per_gb — стоимость дополнительного гигабайта интернет-трафика сверх тарифного пакета (1 гигабайт = 1024 мегабайта)"
   ]
  },
  {
   "cell_type": "markdown",
   "id": "1c1528de",
   "metadata": {},
   "source": [
    "### Шаг 1. Откройте файл с данными и изучите общую информацию"
   ]
  },
  {
   "cell_type": "code",
   "execution_count": 1,
   "id": "ff428f28",
   "metadata": {},
   "outputs": [],
   "source": [
    "import pandas as pd\n",
    "import numpy as np\n",
    "import matplotlib.pyplot as plt\n",
    "import seaborn as sns\n",
    "import datetime as dt\n",
    "from scipy import stats as st\n",
    "from IPython.display import display"
   ]
  },
  {
   "cell_type": "code",
   "execution_count": 2,
   "id": "6d0afd8c",
   "metadata": {},
   "outputs": [],
   "source": [
    "#calls = pd.read_csv('/Users/Mikalai/Documents/Data Science/Project 5/calls.csv')\n",
    "#internet = pd.read_csv('/Users/Mikalai/Documents/Data Science/Project 5/internet.csv')\n",
    "#messages = pd.read_csv('/Users/Mikalai/Documents/Data Science/Project 5/messages.csv')\n",
    "#tariffs = pd.read_csv('/Users/Mikalai/Documents/Data Science/Project 5/tariffs.csv')\n",
    "#users = pd.read_csv('/Users/Mikalai/Documents/Data Science/Project 5/users.csv')\n",
    "calls = pd.read_csv('/datasets/calls.csv')\n",
    "internet = pd.read_csv('/datasets/internet.csv')\n",
    "messages = pd.read_csv('/datasets/messages.csv')\n",
    "tariffs = pd.read_csv('/datasets/tariffs.csv')\n",
    "users = pd.read_csv('/datasets/users.csv')"
   ]
  },
  {
   "cell_type": "markdown",
   "id": "4288b064",
   "metadata": {},
   "source": [
    "1.1 Изучаем общую информацию о данных в таблице users"
   ]
  },
  {
   "cell_type": "code",
   "execution_count": 3,
   "id": "fdb59ab7",
   "metadata": {},
   "outputs": [
    {
     "data": {
      "text/html": [
       "<div>\n",
       "<style scoped>\n",
       "    .dataframe tbody tr th:only-of-type {\n",
       "        vertical-align: middle;\n",
       "    }\n",
       "\n",
       "    .dataframe tbody tr th {\n",
       "        vertical-align: top;\n",
       "    }\n",
       "\n",
       "    .dataframe thead th {\n",
       "        text-align: right;\n",
       "    }\n",
       "</style>\n",
       "<table border=\"1\" class=\"dataframe\">\n",
       "  <thead>\n",
       "    <tr style=\"text-align: right;\">\n",
       "      <th></th>\n",
       "      <th>user_id</th>\n",
       "      <th>age</th>\n",
       "      <th>churn_date</th>\n",
       "      <th>city</th>\n",
       "      <th>first_name</th>\n",
       "      <th>last_name</th>\n",
       "      <th>reg_date</th>\n",
       "      <th>tariff</th>\n",
       "    </tr>\n",
       "  </thead>\n",
       "  <tbody>\n",
       "    <tr>\n",
       "      <th>0</th>\n",
       "      <td>1000</td>\n",
       "      <td>52</td>\n",
       "      <td>NaN</td>\n",
       "      <td>Краснодар</td>\n",
       "      <td>Рафаил</td>\n",
       "      <td>Верещагин</td>\n",
       "      <td>2018-05-25</td>\n",
       "      <td>ultra</td>\n",
       "    </tr>\n",
       "    <tr>\n",
       "      <th>1</th>\n",
       "      <td>1001</td>\n",
       "      <td>41</td>\n",
       "      <td>NaN</td>\n",
       "      <td>Москва</td>\n",
       "      <td>Иван</td>\n",
       "      <td>Ежов</td>\n",
       "      <td>2018-11-01</td>\n",
       "      <td>smart</td>\n",
       "    </tr>\n",
       "    <tr>\n",
       "      <th>2</th>\n",
       "      <td>1002</td>\n",
       "      <td>59</td>\n",
       "      <td>NaN</td>\n",
       "      <td>Стерлитамак</td>\n",
       "      <td>Евгений</td>\n",
       "      <td>Абрамович</td>\n",
       "      <td>2018-06-17</td>\n",
       "      <td>smart</td>\n",
       "    </tr>\n",
       "    <tr>\n",
       "      <th>3</th>\n",
       "      <td>1003</td>\n",
       "      <td>23</td>\n",
       "      <td>NaN</td>\n",
       "      <td>Москва</td>\n",
       "      <td>Белла</td>\n",
       "      <td>Белякова</td>\n",
       "      <td>2018-08-17</td>\n",
       "      <td>ultra</td>\n",
       "    </tr>\n",
       "    <tr>\n",
       "      <th>4</th>\n",
       "      <td>1004</td>\n",
       "      <td>68</td>\n",
       "      <td>NaN</td>\n",
       "      <td>Новокузнецк</td>\n",
       "      <td>Татьяна</td>\n",
       "      <td>Авдеенко</td>\n",
       "      <td>2018-05-14</td>\n",
       "      <td>ultra</td>\n",
       "    </tr>\n",
       "    <tr>\n",
       "      <th>5</th>\n",
       "      <td>1005</td>\n",
       "      <td>67</td>\n",
       "      <td>NaN</td>\n",
       "      <td>Набережные Челны</td>\n",
       "      <td>Афанасий</td>\n",
       "      <td>Горлов</td>\n",
       "      <td>2018-01-25</td>\n",
       "      <td>smart</td>\n",
       "    </tr>\n",
       "    <tr>\n",
       "      <th>6</th>\n",
       "      <td>1006</td>\n",
       "      <td>21</td>\n",
       "      <td>NaN</td>\n",
       "      <td>Ульяновск</td>\n",
       "      <td>Леонид</td>\n",
       "      <td>Ермолаев</td>\n",
       "      <td>2018-02-26</td>\n",
       "      <td>smart</td>\n",
       "    </tr>\n",
       "    <tr>\n",
       "      <th>7</th>\n",
       "      <td>1007</td>\n",
       "      <td>65</td>\n",
       "      <td>NaN</td>\n",
       "      <td>Москва</td>\n",
       "      <td>Юна</td>\n",
       "      <td>Березина</td>\n",
       "      <td>2018-04-19</td>\n",
       "      <td>smart</td>\n",
       "    </tr>\n",
       "    <tr>\n",
       "      <th>8</th>\n",
       "      <td>1008</td>\n",
       "      <td>63</td>\n",
       "      <td>NaN</td>\n",
       "      <td>Челябинск</td>\n",
       "      <td>Рустэм</td>\n",
       "      <td>Пономарёв</td>\n",
       "      <td>2018-12-19</td>\n",
       "      <td>smart</td>\n",
       "    </tr>\n",
       "    <tr>\n",
       "      <th>9</th>\n",
       "      <td>1009</td>\n",
       "      <td>24</td>\n",
       "      <td>NaN</td>\n",
       "      <td>Пермь</td>\n",
       "      <td>Василиса</td>\n",
       "      <td>Блинова</td>\n",
       "      <td>2018-03-22</td>\n",
       "      <td>smart</td>\n",
       "    </tr>\n",
       "  </tbody>\n",
       "</table>\n",
       "</div>"
      ],
      "text/plain": [
       "   user_id  age churn_date              city first_name  last_name  \\\n",
       "0     1000   52        NaN         Краснодар     Рафаил  Верещагин   \n",
       "1     1001   41        NaN            Москва       Иван       Ежов   \n",
       "2     1002   59        NaN       Стерлитамак    Евгений  Абрамович   \n",
       "3     1003   23        NaN            Москва      Белла   Белякова   \n",
       "4     1004   68        NaN       Новокузнецк    Татьяна   Авдеенко   \n",
       "5     1005   67        NaN  Набережные Челны   Афанасий     Горлов   \n",
       "6     1006   21        NaN         Ульяновск     Леонид   Ермолаев   \n",
       "7     1007   65        NaN            Москва        Юна   Березина   \n",
       "8     1008   63        NaN         Челябинск     Рустэм  Пономарёв   \n",
       "9     1009   24        NaN             Пермь   Василиса    Блинова   \n",
       "\n",
       "     reg_date tariff  \n",
       "0  2018-05-25  ultra  \n",
       "1  2018-11-01  smart  \n",
       "2  2018-06-17  smart  \n",
       "3  2018-08-17  ultra  \n",
       "4  2018-05-14  ultra  \n",
       "5  2018-01-25  smart  \n",
       "6  2018-02-26  smart  \n",
       "7  2018-04-19  smart  \n",
       "8  2018-12-19  smart  \n",
       "9  2018-03-22  smart  "
      ]
     },
     "metadata": {},
     "output_type": "display_data"
    },
    {
     "data": {
      "text/html": [
       "<div>\n",
       "<style scoped>\n",
       "    .dataframe tbody tr th:only-of-type {\n",
       "        vertical-align: middle;\n",
       "    }\n",
       "\n",
       "    .dataframe tbody tr th {\n",
       "        vertical-align: top;\n",
       "    }\n",
       "\n",
       "    .dataframe thead th {\n",
       "        text-align: right;\n",
       "    }\n",
       "</style>\n",
       "<table border=\"1\" class=\"dataframe\">\n",
       "  <thead>\n",
       "    <tr style=\"text-align: right;\">\n",
       "      <th></th>\n",
       "      <th>user_id</th>\n",
       "      <th>age</th>\n",
       "    </tr>\n",
       "  </thead>\n",
       "  <tbody>\n",
       "    <tr>\n",
       "      <th>count</th>\n",
       "      <td>500.000000</td>\n",
       "      <td>500.00000</td>\n",
       "    </tr>\n",
       "    <tr>\n",
       "      <th>mean</th>\n",
       "      <td>1249.500000</td>\n",
       "      <td>46.58800</td>\n",
       "    </tr>\n",
       "    <tr>\n",
       "      <th>std</th>\n",
       "      <td>144.481833</td>\n",
       "      <td>16.66763</td>\n",
       "    </tr>\n",
       "    <tr>\n",
       "      <th>min</th>\n",
       "      <td>1000.000000</td>\n",
       "      <td>18.00000</td>\n",
       "    </tr>\n",
       "    <tr>\n",
       "      <th>25%</th>\n",
       "      <td>1124.750000</td>\n",
       "      <td>32.00000</td>\n",
       "    </tr>\n",
       "    <tr>\n",
       "      <th>50%</th>\n",
       "      <td>1249.500000</td>\n",
       "      <td>46.00000</td>\n",
       "    </tr>\n",
       "    <tr>\n",
       "      <th>75%</th>\n",
       "      <td>1374.250000</td>\n",
       "      <td>62.00000</td>\n",
       "    </tr>\n",
       "    <tr>\n",
       "      <th>max</th>\n",
       "      <td>1499.000000</td>\n",
       "      <td>75.00000</td>\n",
       "    </tr>\n",
       "  </tbody>\n",
       "</table>\n",
       "</div>"
      ],
      "text/plain": [
       "           user_id        age\n",
       "count   500.000000  500.00000\n",
       "mean   1249.500000   46.58800\n",
       "std     144.481833   16.66763\n",
       "min    1000.000000   18.00000\n",
       "25%    1124.750000   32.00000\n",
       "50%    1249.500000   46.00000\n",
       "75%    1374.250000   62.00000\n",
       "max    1499.000000   75.00000"
      ]
     },
     "metadata": {},
     "output_type": "display_data"
    },
    {
     "name": "stdout",
     "output_type": "stream",
     "text": [
      "<class 'pandas.core.frame.DataFrame'>\n",
      "RangeIndex: 500 entries, 0 to 499\n",
      "Data columns (total 8 columns):\n",
      " #   Column      Non-Null Count  Dtype \n",
      "---  ------      --------------  ----- \n",
      " 0   user_id     500 non-null    int64 \n",
      " 1   age         500 non-null    int64 \n",
      " 2   churn_date  38 non-null     object\n",
      " 3   city        500 non-null    object\n",
      " 4   first_name  500 non-null    object\n",
      " 5   last_name   500 non-null    object\n",
      " 6   reg_date    500 non-null    object\n",
      " 7   tariff      500 non-null    object\n",
      "dtypes: int64(2), object(6)\n",
      "memory usage: 31.4+ KB\n"
     ]
    },
    {
     "data": {
      "text/plain": [
       "None"
      ]
     },
     "metadata": {},
     "output_type": "display_data"
    }
   ],
   "source": [
    "display(users.head(10)) # структуру таблицы\n",
    "display(users.describe()) # разброс значений, среднее и медиана \n",
    "display(users.info()) # состав таблицы, формат столбцов, наличие пропусков "
   ]
  },
  {
   "cell_type": "markdown",
   "id": "510fd90b",
   "metadata": {},
   "source": [
    "Много пропусков в столбце churn_date.\n",
    "\n",
    "Из описания проекта: столбец churn_date - дата прекращения пользования тарифом (если значение пропущено, то тариф ещё действовал на момент выгрузки данных). Значит, 38 пользователей на момент выгрузки данных прекратили пользоваться тарифом. Оставим данные в этом столбце как есть.\n",
    "\n",
    "Тип данных в столбцах reg_date и  churn_date надо заменить на datetime."
   ]
  },
  {
   "cell_type": "markdown",
   "id": "325062b6",
   "metadata": {},
   "source": [
    "1.2 Изучаем общую информацию о данных в таблице calls"
   ]
  },
  {
   "cell_type": "code",
   "execution_count": 4,
   "id": "95bfd639",
   "metadata": {},
   "outputs": [
    {
     "data": {
      "text/html": [
       "<div>\n",
       "<style scoped>\n",
       "    .dataframe tbody tr th:only-of-type {\n",
       "        vertical-align: middle;\n",
       "    }\n",
       "\n",
       "    .dataframe tbody tr th {\n",
       "        vertical-align: top;\n",
       "    }\n",
       "\n",
       "    .dataframe thead th {\n",
       "        text-align: right;\n",
       "    }\n",
       "</style>\n",
       "<table border=\"1\" class=\"dataframe\">\n",
       "  <thead>\n",
       "    <tr style=\"text-align: right;\">\n",
       "      <th></th>\n",
       "      <th>id</th>\n",
       "      <th>call_date</th>\n",
       "      <th>duration</th>\n",
       "      <th>user_id</th>\n",
       "    </tr>\n",
       "  </thead>\n",
       "  <tbody>\n",
       "    <tr>\n",
       "      <th>0</th>\n",
       "      <td>1000_0</td>\n",
       "      <td>2018-07-25</td>\n",
       "      <td>0.00</td>\n",
       "      <td>1000</td>\n",
       "    </tr>\n",
       "    <tr>\n",
       "      <th>1</th>\n",
       "      <td>1000_1</td>\n",
       "      <td>2018-08-17</td>\n",
       "      <td>0.00</td>\n",
       "      <td>1000</td>\n",
       "    </tr>\n",
       "    <tr>\n",
       "      <th>2</th>\n",
       "      <td>1000_2</td>\n",
       "      <td>2018-06-11</td>\n",
       "      <td>2.85</td>\n",
       "      <td>1000</td>\n",
       "    </tr>\n",
       "    <tr>\n",
       "      <th>3</th>\n",
       "      <td>1000_3</td>\n",
       "      <td>2018-09-21</td>\n",
       "      <td>13.80</td>\n",
       "      <td>1000</td>\n",
       "    </tr>\n",
       "    <tr>\n",
       "      <th>4</th>\n",
       "      <td>1000_4</td>\n",
       "      <td>2018-12-15</td>\n",
       "      <td>5.18</td>\n",
       "      <td>1000</td>\n",
       "    </tr>\n",
       "    <tr>\n",
       "      <th>5</th>\n",
       "      <td>1000_5</td>\n",
       "      <td>2018-11-02</td>\n",
       "      <td>0.00</td>\n",
       "      <td>1000</td>\n",
       "    </tr>\n",
       "    <tr>\n",
       "      <th>6</th>\n",
       "      <td>1000_6</td>\n",
       "      <td>2018-10-18</td>\n",
       "      <td>0.00</td>\n",
       "      <td>1000</td>\n",
       "    </tr>\n",
       "    <tr>\n",
       "      <th>7</th>\n",
       "      <td>1000_7</td>\n",
       "      <td>2018-08-22</td>\n",
       "      <td>18.31</td>\n",
       "      <td>1000</td>\n",
       "    </tr>\n",
       "    <tr>\n",
       "      <th>8</th>\n",
       "      <td>1000_8</td>\n",
       "      <td>2018-09-15</td>\n",
       "      <td>18.44</td>\n",
       "      <td>1000</td>\n",
       "    </tr>\n",
       "    <tr>\n",
       "      <th>9</th>\n",
       "      <td>1000_9</td>\n",
       "      <td>2018-08-15</td>\n",
       "      <td>0.00</td>\n",
       "      <td>1000</td>\n",
       "    </tr>\n",
       "  </tbody>\n",
       "</table>\n",
       "</div>"
      ],
      "text/plain": [
       "       id   call_date  duration  user_id\n",
       "0  1000_0  2018-07-25      0.00     1000\n",
       "1  1000_1  2018-08-17      0.00     1000\n",
       "2  1000_2  2018-06-11      2.85     1000\n",
       "3  1000_3  2018-09-21     13.80     1000\n",
       "4  1000_4  2018-12-15      5.18     1000\n",
       "5  1000_5  2018-11-02      0.00     1000\n",
       "6  1000_6  2018-10-18      0.00     1000\n",
       "7  1000_7  2018-08-22     18.31     1000\n",
       "8  1000_8  2018-09-15     18.44     1000\n",
       "9  1000_9  2018-08-15      0.00     1000"
      ]
     },
     "metadata": {},
     "output_type": "display_data"
    },
    {
     "data": {
      "text/html": [
       "<div>\n",
       "<style scoped>\n",
       "    .dataframe tbody tr th:only-of-type {\n",
       "        vertical-align: middle;\n",
       "    }\n",
       "\n",
       "    .dataframe tbody tr th {\n",
       "        vertical-align: top;\n",
       "    }\n",
       "\n",
       "    .dataframe thead th {\n",
       "        text-align: right;\n",
       "    }\n",
       "</style>\n",
       "<table border=\"1\" class=\"dataframe\">\n",
       "  <thead>\n",
       "    <tr style=\"text-align: right;\">\n",
       "      <th></th>\n",
       "      <th>duration</th>\n",
       "      <th>user_id</th>\n",
       "    </tr>\n",
       "  </thead>\n",
       "  <tbody>\n",
       "    <tr>\n",
       "      <th>count</th>\n",
       "      <td>202607.000000</td>\n",
       "      <td>202607.000000</td>\n",
       "    </tr>\n",
       "    <tr>\n",
       "      <th>mean</th>\n",
       "      <td>6.755887</td>\n",
       "      <td>1253.940619</td>\n",
       "    </tr>\n",
       "    <tr>\n",
       "      <th>std</th>\n",
       "      <td>5.843365</td>\n",
       "      <td>144.722751</td>\n",
       "    </tr>\n",
       "    <tr>\n",
       "      <th>min</th>\n",
       "      <td>0.000000</td>\n",
       "      <td>1000.000000</td>\n",
       "    </tr>\n",
       "    <tr>\n",
       "      <th>25%</th>\n",
       "      <td>1.300000</td>\n",
       "      <td>1126.000000</td>\n",
       "    </tr>\n",
       "    <tr>\n",
       "      <th>50%</th>\n",
       "      <td>6.000000</td>\n",
       "      <td>1260.000000</td>\n",
       "    </tr>\n",
       "    <tr>\n",
       "      <th>75%</th>\n",
       "      <td>10.700000</td>\n",
       "      <td>1379.000000</td>\n",
       "    </tr>\n",
       "    <tr>\n",
       "      <th>max</th>\n",
       "      <td>38.000000</td>\n",
       "      <td>1499.000000</td>\n",
       "    </tr>\n",
       "  </tbody>\n",
       "</table>\n",
       "</div>"
      ],
      "text/plain": [
       "            duration        user_id\n",
       "count  202607.000000  202607.000000\n",
       "mean        6.755887    1253.940619\n",
       "std         5.843365     144.722751\n",
       "min         0.000000    1000.000000\n",
       "25%         1.300000    1126.000000\n",
       "50%         6.000000    1260.000000\n",
       "75%        10.700000    1379.000000\n",
       "max        38.000000    1499.000000"
      ]
     },
     "metadata": {},
     "output_type": "display_data"
    },
    {
     "name": "stdout",
     "output_type": "stream",
     "text": [
      "<class 'pandas.core.frame.DataFrame'>\n",
      "RangeIndex: 202607 entries, 0 to 202606\n",
      "Data columns (total 4 columns):\n",
      " #   Column     Non-Null Count   Dtype  \n",
      "---  ------     --------------   -----  \n",
      " 0   id         202607 non-null  object \n",
      " 1   call_date  202607 non-null  object \n",
      " 2   duration   202607 non-null  float64\n",
      " 3   user_id    202607 non-null  int64  \n",
      "dtypes: float64(1), int64(1), object(2)\n",
      "memory usage: 6.2+ MB\n"
     ]
    },
    {
     "data": {
      "text/plain": [
       "None"
      ]
     },
     "metadata": {},
     "output_type": "display_data"
    }
   ],
   "source": [
    "display(calls.head(10))\n",
    "display(calls.describe())\n",
    "display(calls.info())"
   ]
  },
  {
   "cell_type": "markdown",
   "id": "380c314f",
   "metadata": {},
   "source": [
    "Пропусков данных нет.\n",
    "\n",
    "Есть звонки с нулевой продолжительностью. Это не ошибка: нулями обозначены пропущенные звонки, поэтому их не нужно удалять.\n",
    "\n",
    "В столбце duration данные необходимо округлить в большую сторону и преобразовать тип в целочисленный int.\n",
    "\n",
    "Тип данных в столбце call_date надо заменить на datetime.\n",
    "\n",
    "Необходимо добавить дополнительный столбец month."
   ]
  },
  {
   "cell_type": "markdown",
   "id": "d2cf58eb",
   "metadata": {},
   "source": [
    "1.3 Изучаем общую информацию о данных в таблице messages"
   ]
  },
  {
   "cell_type": "code",
   "execution_count": 5,
   "id": "83080a64",
   "metadata": {},
   "outputs": [
    {
     "data": {
      "text/html": [
       "<div>\n",
       "<style scoped>\n",
       "    .dataframe tbody tr th:only-of-type {\n",
       "        vertical-align: middle;\n",
       "    }\n",
       "\n",
       "    .dataframe tbody tr th {\n",
       "        vertical-align: top;\n",
       "    }\n",
       "\n",
       "    .dataframe thead th {\n",
       "        text-align: right;\n",
       "    }\n",
       "</style>\n",
       "<table border=\"1\" class=\"dataframe\">\n",
       "  <thead>\n",
       "    <tr style=\"text-align: right;\">\n",
       "      <th></th>\n",
       "      <th>id</th>\n",
       "      <th>message_date</th>\n",
       "      <th>user_id</th>\n",
       "    </tr>\n",
       "  </thead>\n",
       "  <tbody>\n",
       "    <tr>\n",
       "      <th>0</th>\n",
       "      <td>1000_0</td>\n",
       "      <td>2018-06-27</td>\n",
       "      <td>1000</td>\n",
       "    </tr>\n",
       "    <tr>\n",
       "      <th>1</th>\n",
       "      <td>1000_1</td>\n",
       "      <td>2018-10-08</td>\n",
       "      <td>1000</td>\n",
       "    </tr>\n",
       "    <tr>\n",
       "      <th>2</th>\n",
       "      <td>1000_2</td>\n",
       "      <td>2018-08-04</td>\n",
       "      <td>1000</td>\n",
       "    </tr>\n",
       "    <tr>\n",
       "      <th>3</th>\n",
       "      <td>1000_3</td>\n",
       "      <td>2018-06-16</td>\n",
       "      <td>1000</td>\n",
       "    </tr>\n",
       "    <tr>\n",
       "      <th>4</th>\n",
       "      <td>1000_4</td>\n",
       "      <td>2018-12-05</td>\n",
       "      <td>1000</td>\n",
       "    </tr>\n",
       "    <tr>\n",
       "      <th>5</th>\n",
       "      <td>1000_5</td>\n",
       "      <td>2018-06-20</td>\n",
       "      <td>1000</td>\n",
       "    </tr>\n",
       "    <tr>\n",
       "      <th>6</th>\n",
       "      <td>1000_6</td>\n",
       "      <td>2018-11-19</td>\n",
       "      <td>1000</td>\n",
       "    </tr>\n",
       "    <tr>\n",
       "      <th>7</th>\n",
       "      <td>1000_7</td>\n",
       "      <td>2018-10-29</td>\n",
       "      <td>1000</td>\n",
       "    </tr>\n",
       "    <tr>\n",
       "      <th>8</th>\n",
       "      <td>1000_8</td>\n",
       "      <td>2018-06-25</td>\n",
       "      <td>1000</td>\n",
       "    </tr>\n",
       "    <tr>\n",
       "      <th>9</th>\n",
       "      <td>1000_9</td>\n",
       "      <td>2018-12-18</td>\n",
       "      <td>1000</td>\n",
       "    </tr>\n",
       "  </tbody>\n",
       "</table>\n",
       "</div>"
      ],
      "text/plain": [
       "       id message_date  user_id\n",
       "0  1000_0   2018-06-27     1000\n",
       "1  1000_1   2018-10-08     1000\n",
       "2  1000_2   2018-08-04     1000\n",
       "3  1000_3   2018-06-16     1000\n",
       "4  1000_4   2018-12-05     1000\n",
       "5  1000_5   2018-06-20     1000\n",
       "6  1000_6   2018-11-19     1000\n",
       "7  1000_7   2018-10-29     1000\n",
       "8  1000_8   2018-06-25     1000\n",
       "9  1000_9   2018-12-18     1000"
      ]
     },
     "metadata": {},
     "output_type": "display_data"
    },
    {
     "data": {
      "text/html": [
       "<div>\n",
       "<style scoped>\n",
       "    .dataframe tbody tr th:only-of-type {\n",
       "        vertical-align: middle;\n",
       "    }\n",
       "\n",
       "    .dataframe tbody tr th {\n",
       "        vertical-align: top;\n",
       "    }\n",
       "\n",
       "    .dataframe thead th {\n",
       "        text-align: right;\n",
       "    }\n",
       "</style>\n",
       "<table border=\"1\" class=\"dataframe\">\n",
       "  <thead>\n",
       "    <tr style=\"text-align: right;\">\n",
       "      <th></th>\n",
       "      <th>user_id</th>\n",
       "    </tr>\n",
       "  </thead>\n",
       "  <tbody>\n",
       "    <tr>\n",
       "      <th>count</th>\n",
       "      <td>123036.000000</td>\n",
       "    </tr>\n",
       "    <tr>\n",
       "      <th>mean</th>\n",
       "      <td>1256.989410</td>\n",
       "    </tr>\n",
       "    <tr>\n",
       "      <th>std</th>\n",
       "      <td>143.523967</td>\n",
       "    </tr>\n",
       "    <tr>\n",
       "      <th>min</th>\n",
       "      <td>1000.000000</td>\n",
       "    </tr>\n",
       "    <tr>\n",
       "      <th>25%</th>\n",
       "      <td>1134.000000</td>\n",
       "    </tr>\n",
       "    <tr>\n",
       "      <th>50%</th>\n",
       "      <td>1271.000000</td>\n",
       "    </tr>\n",
       "    <tr>\n",
       "      <th>75%</th>\n",
       "      <td>1381.000000</td>\n",
       "    </tr>\n",
       "    <tr>\n",
       "      <th>max</th>\n",
       "      <td>1499.000000</td>\n",
       "    </tr>\n",
       "  </tbody>\n",
       "</table>\n",
       "</div>"
      ],
      "text/plain": [
       "             user_id\n",
       "count  123036.000000\n",
       "mean     1256.989410\n",
       "std       143.523967\n",
       "min      1000.000000\n",
       "25%      1134.000000\n",
       "50%      1271.000000\n",
       "75%      1381.000000\n",
       "max      1499.000000"
      ]
     },
     "metadata": {},
     "output_type": "display_data"
    },
    {
     "name": "stdout",
     "output_type": "stream",
     "text": [
      "<class 'pandas.core.frame.DataFrame'>\n",
      "RangeIndex: 123036 entries, 0 to 123035\n",
      "Data columns (total 3 columns):\n",
      " #   Column        Non-Null Count   Dtype \n",
      "---  ------        --------------   ----- \n",
      " 0   id            123036 non-null  object\n",
      " 1   message_date  123036 non-null  object\n",
      " 2   user_id       123036 non-null  int64 \n",
      "dtypes: int64(1), object(2)\n",
      "memory usage: 2.8+ MB\n"
     ]
    },
    {
     "data": {
      "text/plain": [
       "None"
      ]
     },
     "metadata": {},
     "output_type": "display_data"
    }
   ],
   "source": [
    "display(messages.head(10))\n",
    "display(messages.describe())\n",
    "display(messages.info())"
   ]
  },
  {
   "cell_type": "markdown",
   "id": "08725b18",
   "metadata": {},
   "source": [
    "В таблице messages пропусков нет. \n",
    "\n",
    "Тип данных в столбце message_date необходимо заменить на datetime.\n",
    "\n",
    "Необходимо добавить дополнительный столбец month."
   ]
  },
  {
   "cell_type": "markdown",
   "id": "eff6beff",
   "metadata": {},
   "source": [
    "1.4 Изучаем общую информацию о данных в таблице internet"
   ]
  },
  {
   "cell_type": "code",
   "execution_count": 6,
   "id": "5877c478",
   "metadata": {},
   "outputs": [
    {
     "data": {
      "text/html": [
       "<div>\n",
       "<style scoped>\n",
       "    .dataframe tbody tr th:only-of-type {\n",
       "        vertical-align: middle;\n",
       "    }\n",
       "\n",
       "    .dataframe tbody tr th {\n",
       "        vertical-align: top;\n",
       "    }\n",
       "\n",
       "    .dataframe thead th {\n",
       "        text-align: right;\n",
       "    }\n",
       "</style>\n",
       "<table border=\"1\" class=\"dataframe\">\n",
       "  <thead>\n",
       "    <tr style=\"text-align: right;\">\n",
       "      <th></th>\n",
       "      <th>Unnamed: 0</th>\n",
       "      <th>id</th>\n",
       "      <th>mb_used</th>\n",
       "      <th>session_date</th>\n",
       "      <th>user_id</th>\n",
       "    </tr>\n",
       "  </thead>\n",
       "  <tbody>\n",
       "    <tr>\n",
       "      <th>0</th>\n",
       "      <td>0</td>\n",
       "      <td>1000_0</td>\n",
       "      <td>112.95</td>\n",
       "      <td>2018-11-25</td>\n",
       "      <td>1000</td>\n",
       "    </tr>\n",
       "    <tr>\n",
       "      <th>1</th>\n",
       "      <td>1</td>\n",
       "      <td>1000_1</td>\n",
       "      <td>1052.81</td>\n",
       "      <td>2018-09-07</td>\n",
       "      <td>1000</td>\n",
       "    </tr>\n",
       "    <tr>\n",
       "      <th>2</th>\n",
       "      <td>2</td>\n",
       "      <td>1000_2</td>\n",
       "      <td>1197.26</td>\n",
       "      <td>2018-06-25</td>\n",
       "      <td>1000</td>\n",
       "    </tr>\n",
       "    <tr>\n",
       "      <th>3</th>\n",
       "      <td>3</td>\n",
       "      <td>1000_3</td>\n",
       "      <td>550.27</td>\n",
       "      <td>2018-08-22</td>\n",
       "      <td>1000</td>\n",
       "    </tr>\n",
       "    <tr>\n",
       "      <th>4</th>\n",
       "      <td>4</td>\n",
       "      <td>1000_4</td>\n",
       "      <td>302.56</td>\n",
       "      <td>2018-09-24</td>\n",
       "      <td>1000</td>\n",
       "    </tr>\n",
       "    <tr>\n",
       "      <th>5</th>\n",
       "      <td>5</td>\n",
       "      <td>1000_5</td>\n",
       "      <td>399.97</td>\n",
       "      <td>2018-10-02</td>\n",
       "      <td>1000</td>\n",
       "    </tr>\n",
       "    <tr>\n",
       "      <th>6</th>\n",
       "      <td>6</td>\n",
       "      <td>1000_6</td>\n",
       "      <td>540.08</td>\n",
       "      <td>2018-09-07</td>\n",
       "      <td>1000</td>\n",
       "    </tr>\n",
       "    <tr>\n",
       "      <th>7</th>\n",
       "      <td>7</td>\n",
       "      <td>1000_7</td>\n",
       "      <td>415.70</td>\n",
       "      <td>2018-07-11</td>\n",
       "      <td>1000</td>\n",
       "    </tr>\n",
       "    <tr>\n",
       "      <th>8</th>\n",
       "      <td>8</td>\n",
       "      <td>1000_8</td>\n",
       "      <td>505.40</td>\n",
       "      <td>2018-10-08</td>\n",
       "      <td>1000</td>\n",
       "    </tr>\n",
       "    <tr>\n",
       "      <th>9</th>\n",
       "      <td>9</td>\n",
       "      <td>1000_9</td>\n",
       "      <td>345.54</td>\n",
       "      <td>2018-09-03</td>\n",
       "      <td>1000</td>\n",
       "    </tr>\n",
       "  </tbody>\n",
       "</table>\n",
       "</div>"
      ],
      "text/plain": [
       "   Unnamed: 0      id  mb_used session_date  user_id\n",
       "0           0  1000_0   112.95   2018-11-25     1000\n",
       "1           1  1000_1  1052.81   2018-09-07     1000\n",
       "2           2  1000_2  1197.26   2018-06-25     1000\n",
       "3           3  1000_3   550.27   2018-08-22     1000\n",
       "4           4  1000_4   302.56   2018-09-24     1000\n",
       "5           5  1000_5   399.97   2018-10-02     1000\n",
       "6           6  1000_6   540.08   2018-09-07     1000\n",
       "7           7  1000_7   415.70   2018-07-11     1000\n",
       "8           8  1000_8   505.40   2018-10-08     1000\n",
       "9           9  1000_9   345.54   2018-09-03     1000"
      ]
     },
     "metadata": {},
     "output_type": "display_data"
    },
    {
     "data": {
      "text/html": [
       "<div>\n",
       "<style scoped>\n",
       "    .dataframe tbody tr th:only-of-type {\n",
       "        vertical-align: middle;\n",
       "    }\n",
       "\n",
       "    .dataframe tbody tr th {\n",
       "        vertical-align: top;\n",
       "    }\n",
       "\n",
       "    .dataframe thead th {\n",
       "        text-align: right;\n",
       "    }\n",
       "</style>\n",
       "<table border=\"1\" class=\"dataframe\">\n",
       "  <thead>\n",
       "    <tr style=\"text-align: right;\">\n",
       "      <th></th>\n",
       "      <th>Unnamed: 0</th>\n",
       "      <th>mb_used</th>\n",
       "      <th>user_id</th>\n",
       "    </tr>\n",
       "  </thead>\n",
       "  <tbody>\n",
       "    <tr>\n",
       "      <th>count</th>\n",
       "      <td>149396.000000</td>\n",
       "      <td>149396.000000</td>\n",
       "      <td>149396.000000</td>\n",
       "    </tr>\n",
       "    <tr>\n",
       "      <th>mean</th>\n",
       "      <td>74697.500000</td>\n",
       "      <td>370.192426</td>\n",
       "      <td>1252.099842</td>\n",
       "    </tr>\n",
       "    <tr>\n",
       "      <th>std</th>\n",
       "      <td>43127.054745</td>\n",
       "      <td>278.300951</td>\n",
       "      <td>144.050823</td>\n",
       "    </tr>\n",
       "    <tr>\n",
       "      <th>min</th>\n",
       "      <td>0.000000</td>\n",
       "      <td>0.000000</td>\n",
       "      <td>1000.000000</td>\n",
       "    </tr>\n",
       "    <tr>\n",
       "      <th>25%</th>\n",
       "      <td>37348.750000</td>\n",
       "      <td>138.187500</td>\n",
       "      <td>1130.000000</td>\n",
       "    </tr>\n",
       "    <tr>\n",
       "      <th>50%</th>\n",
       "      <td>74697.500000</td>\n",
       "      <td>348.015000</td>\n",
       "      <td>1251.000000</td>\n",
       "    </tr>\n",
       "    <tr>\n",
       "      <th>75%</th>\n",
       "      <td>112046.250000</td>\n",
       "      <td>559.552500</td>\n",
       "      <td>1380.000000</td>\n",
       "    </tr>\n",
       "    <tr>\n",
       "      <th>max</th>\n",
       "      <td>149395.000000</td>\n",
       "      <td>1724.830000</td>\n",
       "      <td>1499.000000</td>\n",
       "    </tr>\n",
       "  </tbody>\n",
       "</table>\n",
       "</div>"
      ],
      "text/plain": [
       "          Unnamed: 0        mb_used        user_id\n",
       "count  149396.000000  149396.000000  149396.000000\n",
       "mean    74697.500000     370.192426    1252.099842\n",
       "std     43127.054745     278.300951     144.050823\n",
       "min         0.000000       0.000000    1000.000000\n",
       "25%     37348.750000     138.187500    1130.000000\n",
       "50%     74697.500000     348.015000    1251.000000\n",
       "75%    112046.250000     559.552500    1380.000000\n",
       "max    149395.000000    1724.830000    1499.000000"
      ]
     },
     "metadata": {},
     "output_type": "display_data"
    },
    {
     "name": "stdout",
     "output_type": "stream",
     "text": [
      "<class 'pandas.core.frame.DataFrame'>\n",
      "RangeIndex: 149396 entries, 0 to 149395\n",
      "Data columns (total 5 columns):\n",
      " #   Column        Non-Null Count   Dtype  \n",
      "---  ------        --------------   -----  \n",
      " 0   Unnamed: 0    149396 non-null  int64  \n",
      " 1   id            149396 non-null  object \n",
      " 2   mb_used       149396 non-null  float64\n",
      " 3   session_date  149396 non-null  object \n",
      " 4   user_id       149396 non-null  int64  \n",
      "dtypes: float64(1), int64(2), object(2)\n",
      "memory usage: 5.7+ MB\n"
     ]
    },
    {
     "data": {
      "text/plain": [
       "None"
      ]
     },
     "metadata": {},
     "output_type": "display_data"
    }
   ],
   "source": [
    "display(internet.head(10))\n",
    "display(internet.describe())\n",
    "display(internet.info())"
   ]
  },
  {
   "cell_type": "markdown",
   "id": "4fc97399",
   "metadata": {},
   "source": [
    "В таблице internet все столбцы заполнены. Пропусков нет.\n",
    "\n",
    "Появился столбец Unnamed: 0, которого нет в описании. Возможно образовался в результате ошибки при выгрузке данных. Его можно удалить.\n",
    "\n",
    "Тип данных в столбце session_date надо заменить на datetime.\n",
    "\n",
    "Данные в столбце mb_used необходимо округлить в большую сторону и преобразовать к целочисленному типу int.\n",
    "\n",
    "Необходимо добавить дополнительный столбец month."
   ]
  },
  {
   "cell_type": "markdown",
   "id": "077776bc",
   "metadata": {},
   "source": [
    "1.5 Изучаем общую информацию о данных в таблице tariffs"
   ]
  },
  {
   "cell_type": "code",
   "execution_count": 7,
   "id": "74abaef0",
   "metadata": {},
   "outputs": [
    {
     "data": {
      "text/html": [
       "<div>\n",
       "<style scoped>\n",
       "    .dataframe tbody tr th:only-of-type {\n",
       "        vertical-align: middle;\n",
       "    }\n",
       "\n",
       "    .dataframe tbody tr th {\n",
       "        vertical-align: top;\n",
       "    }\n",
       "\n",
       "    .dataframe thead th {\n",
       "        text-align: right;\n",
       "    }\n",
       "</style>\n",
       "<table border=\"1\" class=\"dataframe\">\n",
       "  <thead>\n",
       "    <tr style=\"text-align: right;\">\n",
       "      <th></th>\n",
       "      <th>messages_included</th>\n",
       "      <th>mb_per_month_included</th>\n",
       "      <th>minutes_included</th>\n",
       "      <th>rub_monthly_fee</th>\n",
       "      <th>rub_per_gb</th>\n",
       "      <th>rub_per_message</th>\n",
       "      <th>rub_per_minute</th>\n",
       "      <th>tariff_name</th>\n",
       "    </tr>\n",
       "  </thead>\n",
       "  <tbody>\n",
       "    <tr>\n",
       "      <th>0</th>\n",
       "      <td>50</td>\n",
       "      <td>15360</td>\n",
       "      <td>500</td>\n",
       "      <td>550</td>\n",
       "      <td>200</td>\n",
       "      <td>3</td>\n",
       "      <td>3</td>\n",
       "      <td>smart</td>\n",
       "    </tr>\n",
       "    <tr>\n",
       "      <th>1</th>\n",
       "      <td>1000</td>\n",
       "      <td>30720</td>\n",
       "      <td>3000</td>\n",
       "      <td>1950</td>\n",
       "      <td>150</td>\n",
       "      <td>1</td>\n",
       "      <td>1</td>\n",
       "      <td>ultra</td>\n",
       "    </tr>\n",
       "  </tbody>\n",
       "</table>\n",
       "</div>"
      ],
      "text/plain": [
       "   messages_included  mb_per_month_included  minutes_included  \\\n",
       "0                 50                  15360               500   \n",
       "1               1000                  30720              3000   \n",
       "\n",
       "   rub_monthly_fee  rub_per_gb  rub_per_message  rub_per_minute tariff_name  \n",
       "0              550         200                3               3       smart  \n",
       "1             1950         150                1               1       ultra  "
      ]
     },
     "metadata": {},
     "output_type": "display_data"
    },
    {
     "data": {
      "text/html": [
       "<div>\n",
       "<style scoped>\n",
       "    .dataframe tbody tr th:only-of-type {\n",
       "        vertical-align: middle;\n",
       "    }\n",
       "\n",
       "    .dataframe tbody tr th {\n",
       "        vertical-align: top;\n",
       "    }\n",
       "\n",
       "    .dataframe thead th {\n",
       "        text-align: right;\n",
       "    }\n",
       "</style>\n",
       "<table border=\"1\" class=\"dataframe\">\n",
       "  <thead>\n",
       "    <tr style=\"text-align: right;\">\n",
       "      <th></th>\n",
       "      <th>messages_included</th>\n",
       "      <th>mb_per_month_included</th>\n",
       "      <th>minutes_included</th>\n",
       "      <th>rub_monthly_fee</th>\n",
       "      <th>rub_per_gb</th>\n",
       "      <th>rub_per_message</th>\n",
       "      <th>rub_per_minute</th>\n",
       "    </tr>\n",
       "  </thead>\n",
       "  <tbody>\n",
       "    <tr>\n",
       "      <th>count</th>\n",
       "      <td>2.000000</td>\n",
       "      <td>2.000000</td>\n",
       "      <td>2.000000</td>\n",
       "      <td>2.000000</td>\n",
       "      <td>2.000000</td>\n",
       "      <td>2.000000</td>\n",
       "      <td>2.000000</td>\n",
       "    </tr>\n",
       "    <tr>\n",
       "      <th>mean</th>\n",
       "      <td>525.000000</td>\n",
       "      <td>23040.000000</td>\n",
       "      <td>1750.000000</td>\n",
       "      <td>1250.000000</td>\n",
       "      <td>175.000000</td>\n",
       "      <td>2.000000</td>\n",
       "      <td>2.000000</td>\n",
       "    </tr>\n",
       "    <tr>\n",
       "      <th>std</th>\n",
       "      <td>671.751442</td>\n",
       "      <td>10861.160159</td>\n",
       "      <td>1767.766953</td>\n",
       "      <td>989.949494</td>\n",
       "      <td>35.355339</td>\n",
       "      <td>1.414214</td>\n",
       "      <td>1.414214</td>\n",
       "    </tr>\n",
       "    <tr>\n",
       "      <th>min</th>\n",
       "      <td>50.000000</td>\n",
       "      <td>15360.000000</td>\n",
       "      <td>500.000000</td>\n",
       "      <td>550.000000</td>\n",
       "      <td>150.000000</td>\n",
       "      <td>1.000000</td>\n",
       "      <td>1.000000</td>\n",
       "    </tr>\n",
       "    <tr>\n",
       "      <th>25%</th>\n",
       "      <td>287.500000</td>\n",
       "      <td>19200.000000</td>\n",
       "      <td>1125.000000</td>\n",
       "      <td>900.000000</td>\n",
       "      <td>162.500000</td>\n",
       "      <td>1.500000</td>\n",
       "      <td>1.500000</td>\n",
       "    </tr>\n",
       "    <tr>\n",
       "      <th>50%</th>\n",
       "      <td>525.000000</td>\n",
       "      <td>23040.000000</td>\n",
       "      <td>1750.000000</td>\n",
       "      <td>1250.000000</td>\n",
       "      <td>175.000000</td>\n",
       "      <td>2.000000</td>\n",
       "      <td>2.000000</td>\n",
       "    </tr>\n",
       "    <tr>\n",
       "      <th>75%</th>\n",
       "      <td>762.500000</td>\n",
       "      <td>26880.000000</td>\n",
       "      <td>2375.000000</td>\n",
       "      <td>1600.000000</td>\n",
       "      <td>187.500000</td>\n",
       "      <td>2.500000</td>\n",
       "      <td>2.500000</td>\n",
       "    </tr>\n",
       "    <tr>\n",
       "      <th>max</th>\n",
       "      <td>1000.000000</td>\n",
       "      <td>30720.000000</td>\n",
       "      <td>3000.000000</td>\n",
       "      <td>1950.000000</td>\n",
       "      <td>200.000000</td>\n",
       "      <td>3.000000</td>\n",
       "      <td>3.000000</td>\n",
       "    </tr>\n",
       "  </tbody>\n",
       "</table>\n",
       "</div>"
      ],
      "text/plain": [
       "       messages_included  mb_per_month_included  minutes_included  \\\n",
       "count           2.000000               2.000000          2.000000   \n",
       "mean          525.000000           23040.000000       1750.000000   \n",
       "std           671.751442           10861.160159       1767.766953   \n",
       "min            50.000000           15360.000000        500.000000   \n",
       "25%           287.500000           19200.000000       1125.000000   \n",
       "50%           525.000000           23040.000000       1750.000000   \n",
       "75%           762.500000           26880.000000       2375.000000   \n",
       "max          1000.000000           30720.000000       3000.000000   \n",
       "\n",
       "       rub_monthly_fee  rub_per_gb  rub_per_message  rub_per_minute  \n",
       "count         2.000000    2.000000         2.000000        2.000000  \n",
       "mean       1250.000000  175.000000         2.000000        2.000000  \n",
       "std         989.949494   35.355339         1.414214        1.414214  \n",
       "min         550.000000  150.000000         1.000000        1.000000  \n",
       "25%         900.000000  162.500000         1.500000        1.500000  \n",
       "50%        1250.000000  175.000000         2.000000        2.000000  \n",
       "75%        1600.000000  187.500000         2.500000        2.500000  \n",
       "max        1950.000000  200.000000         3.000000        3.000000  "
      ]
     },
     "metadata": {},
     "output_type": "display_data"
    },
    {
     "name": "stdout",
     "output_type": "stream",
     "text": [
      "<class 'pandas.core.frame.DataFrame'>\n",
      "RangeIndex: 2 entries, 0 to 1\n",
      "Data columns (total 8 columns):\n",
      " #   Column                 Non-Null Count  Dtype \n",
      "---  ------                 --------------  ----- \n",
      " 0   messages_included      2 non-null      int64 \n",
      " 1   mb_per_month_included  2 non-null      int64 \n",
      " 2   minutes_included       2 non-null      int64 \n",
      " 3   rub_monthly_fee        2 non-null      int64 \n",
      " 4   rub_per_gb             2 non-null      int64 \n",
      " 5   rub_per_message        2 non-null      int64 \n",
      " 6   rub_per_minute         2 non-null      int64 \n",
      " 7   tariff_name            2 non-null      object\n",
      "dtypes: int64(7), object(1)\n",
      "memory usage: 256.0+ bytes\n"
     ]
    },
    {
     "data": {
      "text/plain": [
       "None"
      ]
     },
     "metadata": {},
     "output_type": "display_data"
    }
   ],
   "source": [
    "display(tariffs.head())\n",
    "display(tariffs.describe())\n",
    "display(tariffs.info())"
   ]
  },
  {
   "cell_type": "markdown",
   "id": "6a2ff111",
   "metadata": {},
   "source": [
    "В таблице tariffs хранится информация о тарифах. С данными  проблем нет."
   ]
  },
  {
   "cell_type": "markdown",
   "id": "74ccfbc9",
   "metadata": {},
   "source": [
    "### Шаг 2. Подготовьте данные"
   ]
  },
  {
   "cell_type": "markdown",
   "id": "e045d8cf",
   "metadata": {},
   "source": [
    " 2.1 Подготовка данных в в таблице users"
   ]
  },
  {
   "cell_type": "markdown",
   "id": "8e1ef4ba",
   "metadata": {},
   "source": [
    "Тип данных в столбцах reg_date и churn_date надо заменить на datetime."
   ]
  },
  {
   "cell_type": "code",
   "execution_count": 8,
   "id": "20dbcda1",
   "metadata": {},
   "outputs": [
    {
     "name": "stdout",
     "output_type": "stream",
     "text": [
      "<class 'pandas.core.frame.DataFrame'>\n",
      "RangeIndex: 500 entries, 0 to 499\n",
      "Data columns (total 8 columns):\n",
      " #   Column      Non-Null Count  Dtype         \n",
      "---  ------      --------------  -----         \n",
      " 0   user_id     500 non-null    int64         \n",
      " 1   age         500 non-null    int64         \n",
      " 2   churn_date  38 non-null     datetime64[ns]\n",
      " 3   city        500 non-null    object        \n",
      " 4   first_name  500 non-null    object        \n",
      " 5   last_name   500 non-null    object        \n",
      " 6   reg_date    500 non-null    datetime64[ns]\n",
      " 7   tariff      500 non-null    object        \n",
      "dtypes: datetime64[ns](2), int64(2), object(4)\n",
      "memory usage: 31.4+ KB\n"
     ]
    },
    {
     "data": {
      "text/plain": [
       "None"
      ]
     },
     "metadata": {},
     "output_type": "display_data"
    }
   ],
   "source": [
    "users['churn_date'] = pd.to_datetime(users['churn_date'], format=\"%Y-%m-%d\")\n",
    "users['reg_date'] = pd.to_datetime(users['reg_date'], format=\"%Y-%m-%d\")\n",
    "display(users.info())"
   ]
  },
  {
   "cell_type": "markdown",
   "id": "1920e2ac",
   "metadata": {},
   "source": [
    "2.2 Подготовка данных в в таблице calls"
   ]
  },
  {
   "cell_type": "markdown",
   "id": "336505ca",
   "metadata": {},
   "source": [
    "Тип данных в столбце call_date надо заменить на datetime."
   ]
  },
  {
   "cell_type": "code",
   "execution_count": 9,
   "id": "ca2a9c00",
   "metadata": {},
   "outputs": [
    {
     "data": {
      "text/html": [
       "<div>\n",
       "<style scoped>\n",
       "    .dataframe tbody tr th:only-of-type {\n",
       "        vertical-align: middle;\n",
       "    }\n",
       "\n",
       "    .dataframe tbody tr th {\n",
       "        vertical-align: top;\n",
       "    }\n",
       "\n",
       "    .dataframe thead th {\n",
       "        text-align: right;\n",
       "    }\n",
       "</style>\n",
       "<table border=\"1\" class=\"dataframe\">\n",
       "  <thead>\n",
       "    <tr style=\"text-align: right;\">\n",
       "      <th></th>\n",
       "      <th>id</th>\n",
       "      <th>call_date</th>\n",
       "      <th>duration</th>\n",
       "      <th>user_id</th>\n",
       "    </tr>\n",
       "  </thead>\n",
       "  <tbody>\n",
       "    <tr>\n",
       "      <th>0</th>\n",
       "      <td>1000_0</td>\n",
       "      <td>2018-07-25</td>\n",
       "      <td>0.00</td>\n",
       "      <td>1000</td>\n",
       "    </tr>\n",
       "    <tr>\n",
       "      <th>1</th>\n",
       "      <td>1000_1</td>\n",
       "      <td>2018-08-17</td>\n",
       "      <td>0.00</td>\n",
       "      <td>1000</td>\n",
       "    </tr>\n",
       "    <tr>\n",
       "      <th>2</th>\n",
       "      <td>1000_2</td>\n",
       "      <td>2018-06-11</td>\n",
       "      <td>2.85</td>\n",
       "      <td>1000</td>\n",
       "    </tr>\n",
       "    <tr>\n",
       "      <th>3</th>\n",
       "      <td>1000_3</td>\n",
       "      <td>2018-09-21</td>\n",
       "      <td>13.80</td>\n",
       "      <td>1000</td>\n",
       "    </tr>\n",
       "    <tr>\n",
       "      <th>4</th>\n",
       "      <td>1000_4</td>\n",
       "      <td>2018-12-15</td>\n",
       "      <td>5.18</td>\n",
       "      <td>1000</td>\n",
       "    </tr>\n",
       "  </tbody>\n",
       "</table>\n",
       "</div>"
      ],
      "text/plain": [
       "       id  call_date  duration  user_id\n",
       "0  1000_0 2018-07-25      0.00     1000\n",
       "1  1000_1 2018-08-17      0.00     1000\n",
       "2  1000_2 2018-06-11      2.85     1000\n",
       "3  1000_3 2018-09-21     13.80     1000\n",
       "4  1000_4 2018-12-15      5.18     1000"
      ]
     },
     "metadata": {},
     "output_type": "display_data"
    },
    {
     "name": "stdout",
     "output_type": "stream",
     "text": [
      "<class 'pandas.core.frame.DataFrame'>\n",
      "RangeIndex: 202607 entries, 0 to 202606\n",
      "Data columns (total 4 columns):\n",
      " #   Column     Non-Null Count   Dtype         \n",
      "---  ------     --------------   -----         \n",
      " 0   id         202607 non-null  object        \n",
      " 1   call_date  202607 non-null  datetime64[ns]\n",
      " 2   duration   202607 non-null  float64       \n",
      " 3   user_id    202607 non-null  int64         \n",
      "dtypes: datetime64[ns](1), float64(1), int64(1), object(1)\n",
      "memory usage: 6.2+ MB\n"
     ]
    },
    {
     "data": {
      "text/plain": [
       "None"
      ]
     },
     "metadata": {},
     "output_type": "display_data"
    }
   ],
   "source": [
    "calls['call_date'] = pd.to_datetime(calls['call_date'], format=\"%Y-%m-%d\")\n",
    "display(calls.head())\n",
    "display(calls.info())"
   ]
  },
  {
   "cell_type": "markdown",
   "id": "e23da95c",
   "metadata": {},
   "source": [
    "В столбце duration данные необходимо округлить в большую сторону и преобразовать тип в целочисленный int."
   ]
  },
  {
   "cell_type": "code",
   "execution_count": 10,
   "id": "de1b2156",
   "metadata": {},
   "outputs": [
    {
     "data": {
      "text/html": [
       "<div>\n",
       "<style scoped>\n",
       "    .dataframe tbody tr th:only-of-type {\n",
       "        vertical-align: middle;\n",
       "    }\n",
       "\n",
       "    .dataframe tbody tr th {\n",
       "        vertical-align: top;\n",
       "    }\n",
       "\n",
       "    .dataframe thead th {\n",
       "        text-align: right;\n",
       "    }\n",
       "</style>\n",
       "<table border=\"1\" class=\"dataframe\">\n",
       "  <thead>\n",
       "    <tr style=\"text-align: right;\">\n",
       "      <th></th>\n",
       "      <th>id</th>\n",
       "      <th>call_date</th>\n",
       "      <th>duration</th>\n",
       "      <th>user_id</th>\n",
       "    </tr>\n",
       "  </thead>\n",
       "  <tbody>\n",
       "    <tr>\n",
       "      <th>0</th>\n",
       "      <td>1000_0</td>\n",
       "      <td>2018-07-25</td>\n",
       "      <td>0</td>\n",
       "      <td>1000</td>\n",
       "    </tr>\n",
       "    <tr>\n",
       "      <th>1</th>\n",
       "      <td>1000_1</td>\n",
       "      <td>2018-08-17</td>\n",
       "      <td>0</td>\n",
       "      <td>1000</td>\n",
       "    </tr>\n",
       "    <tr>\n",
       "      <th>2</th>\n",
       "      <td>1000_2</td>\n",
       "      <td>2018-06-11</td>\n",
       "      <td>3</td>\n",
       "      <td>1000</td>\n",
       "    </tr>\n",
       "    <tr>\n",
       "      <th>3</th>\n",
       "      <td>1000_3</td>\n",
       "      <td>2018-09-21</td>\n",
       "      <td>14</td>\n",
       "      <td>1000</td>\n",
       "    </tr>\n",
       "    <tr>\n",
       "      <th>4</th>\n",
       "      <td>1000_4</td>\n",
       "      <td>2018-12-15</td>\n",
       "      <td>6</td>\n",
       "      <td>1000</td>\n",
       "    </tr>\n",
       "  </tbody>\n",
       "</table>\n",
       "</div>"
      ],
      "text/plain": [
       "       id  call_date  duration  user_id\n",
       "0  1000_0 2018-07-25         0     1000\n",
       "1  1000_1 2018-08-17         0     1000\n",
       "2  1000_2 2018-06-11         3     1000\n",
       "3  1000_3 2018-09-21        14     1000\n",
       "4  1000_4 2018-12-15         6     1000"
      ]
     },
     "metadata": {},
     "output_type": "display_data"
    },
    {
     "name": "stdout",
     "output_type": "stream",
     "text": [
      "<class 'pandas.core.frame.DataFrame'>\n",
      "RangeIndex: 202607 entries, 0 to 202606\n",
      "Data columns (total 4 columns):\n",
      " #   Column     Non-Null Count   Dtype         \n",
      "---  ------     --------------   -----         \n",
      " 0   id         202607 non-null  object        \n",
      " 1   call_date  202607 non-null  datetime64[ns]\n",
      " 2   duration   202607 non-null  int32         \n",
      " 3   user_id    202607 non-null  int64         \n",
      "dtypes: datetime64[ns](1), int32(1), int64(1), object(1)\n",
      "memory usage: 5.4+ MB\n"
     ]
    },
    {
     "data": {
      "text/plain": [
       "None"
      ]
     },
     "metadata": {},
     "output_type": "display_data"
    }
   ],
   "source": [
    "calls['duration'] = calls['duration'].apply(np.ceil)\n",
    "calls['duration'] = calls['duration'].astype('int')\n",
    "display(calls.head())\n",
    "display(calls.info())"
   ]
  },
  {
   "cell_type": "markdown",
   "id": "b5d67f03",
   "metadata": {},
   "source": [
    "Необходимо добавить дополнительный столбец month."
   ]
  },
  {
   "cell_type": "code",
   "execution_count": 11,
   "id": "9615b9f2",
   "metadata": {},
   "outputs": [
    {
     "data": {
      "text/html": [
       "<div>\n",
       "<style scoped>\n",
       "    .dataframe tbody tr th:only-of-type {\n",
       "        vertical-align: middle;\n",
       "    }\n",
       "\n",
       "    .dataframe tbody tr th {\n",
       "        vertical-align: top;\n",
       "    }\n",
       "\n",
       "    .dataframe thead th {\n",
       "        text-align: right;\n",
       "    }\n",
       "</style>\n",
       "<table border=\"1\" class=\"dataframe\">\n",
       "  <thead>\n",
       "    <tr style=\"text-align: right;\">\n",
       "      <th></th>\n",
       "      <th>id</th>\n",
       "      <th>call_date</th>\n",
       "      <th>duration</th>\n",
       "      <th>user_id</th>\n",
       "      <th>month</th>\n",
       "    </tr>\n",
       "  </thead>\n",
       "  <tbody>\n",
       "    <tr>\n",
       "      <th>0</th>\n",
       "      <td>1000_0</td>\n",
       "      <td>2018-07-25</td>\n",
       "      <td>0</td>\n",
       "      <td>1000</td>\n",
       "      <td>7</td>\n",
       "    </tr>\n",
       "    <tr>\n",
       "      <th>1</th>\n",
       "      <td>1000_1</td>\n",
       "      <td>2018-08-17</td>\n",
       "      <td>0</td>\n",
       "      <td>1000</td>\n",
       "      <td>8</td>\n",
       "    </tr>\n",
       "    <tr>\n",
       "      <th>2</th>\n",
       "      <td>1000_2</td>\n",
       "      <td>2018-06-11</td>\n",
       "      <td>3</td>\n",
       "      <td>1000</td>\n",
       "      <td>6</td>\n",
       "    </tr>\n",
       "    <tr>\n",
       "      <th>3</th>\n",
       "      <td>1000_3</td>\n",
       "      <td>2018-09-21</td>\n",
       "      <td>14</td>\n",
       "      <td>1000</td>\n",
       "      <td>9</td>\n",
       "    </tr>\n",
       "    <tr>\n",
       "      <th>4</th>\n",
       "      <td>1000_4</td>\n",
       "      <td>2018-12-15</td>\n",
       "      <td>6</td>\n",
       "      <td>1000</td>\n",
       "      <td>12</td>\n",
       "    </tr>\n",
       "  </tbody>\n",
       "</table>\n",
       "</div>"
      ],
      "text/plain": [
       "       id  call_date  duration  user_id  month\n",
       "0  1000_0 2018-07-25         0     1000      7\n",
       "1  1000_1 2018-08-17         0     1000      8\n",
       "2  1000_2 2018-06-11         3     1000      6\n",
       "3  1000_3 2018-09-21        14     1000      9\n",
       "4  1000_4 2018-12-15         6     1000     12"
      ]
     },
     "metadata": {},
     "output_type": "display_data"
    }
   ],
   "source": [
    "calls['month'] = calls['call_date'].dt.month\n",
    "display(calls.head())"
   ]
  },
  {
   "cell_type": "markdown",
   "id": "2d69de66",
   "metadata": {},
   "source": [
    "2.3 Подготовка данных в в таблице messages"
   ]
  },
  {
   "cell_type": "markdown",
   "id": "7e5d09d9",
   "metadata": {},
   "source": [
    "Тип данных в столбце message_date необходимо заменить на datetime."
   ]
  },
  {
   "cell_type": "code",
   "execution_count": 12,
   "id": "fd57a2bd",
   "metadata": {},
   "outputs": [
    {
     "data": {
      "text/html": [
       "<div>\n",
       "<style scoped>\n",
       "    .dataframe tbody tr th:only-of-type {\n",
       "        vertical-align: middle;\n",
       "    }\n",
       "\n",
       "    .dataframe tbody tr th {\n",
       "        vertical-align: top;\n",
       "    }\n",
       "\n",
       "    .dataframe thead th {\n",
       "        text-align: right;\n",
       "    }\n",
       "</style>\n",
       "<table border=\"1\" class=\"dataframe\">\n",
       "  <thead>\n",
       "    <tr style=\"text-align: right;\">\n",
       "      <th></th>\n",
       "      <th>id</th>\n",
       "      <th>message_date</th>\n",
       "      <th>user_id</th>\n",
       "    </tr>\n",
       "  </thead>\n",
       "  <tbody>\n",
       "    <tr>\n",
       "      <th>0</th>\n",
       "      <td>1000_0</td>\n",
       "      <td>2018-06-27</td>\n",
       "      <td>1000</td>\n",
       "    </tr>\n",
       "    <tr>\n",
       "      <th>1</th>\n",
       "      <td>1000_1</td>\n",
       "      <td>2018-10-08</td>\n",
       "      <td>1000</td>\n",
       "    </tr>\n",
       "    <tr>\n",
       "      <th>2</th>\n",
       "      <td>1000_2</td>\n",
       "      <td>2018-08-04</td>\n",
       "      <td>1000</td>\n",
       "    </tr>\n",
       "    <tr>\n",
       "      <th>3</th>\n",
       "      <td>1000_3</td>\n",
       "      <td>2018-06-16</td>\n",
       "      <td>1000</td>\n",
       "    </tr>\n",
       "    <tr>\n",
       "      <th>4</th>\n",
       "      <td>1000_4</td>\n",
       "      <td>2018-12-05</td>\n",
       "      <td>1000</td>\n",
       "    </tr>\n",
       "  </tbody>\n",
       "</table>\n",
       "</div>"
      ],
      "text/plain": [
       "       id message_date  user_id\n",
       "0  1000_0   2018-06-27     1000\n",
       "1  1000_1   2018-10-08     1000\n",
       "2  1000_2   2018-08-04     1000\n",
       "3  1000_3   2018-06-16     1000\n",
       "4  1000_4   2018-12-05     1000"
      ]
     },
     "metadata": {},
     "output_type": "display_data"
    },
    {
     "name": "stdout",
     "output_type": "stream",
     "text": [
      "<class 'pandas.core.frame.DataFrame'>\n",
      "RangeIndex: 123036 entries, 0 to 123035\n",
      "Data columns (total 3 columns):\n",
      " #   Column        Non-Null Count   Dtype         \n",
      "---  ------        --------------   -----         \n",
      " 0   id            123036 non-null  object        \n",
      " 1   message_date  123036 non-null  datetime64[ns]\n",
      " 2   user_id       123036 non-null  int64         \n",
      "dtypes: datetime64[ns](1), int64(1), object(1)\n",
      "memory usage: 2.8+ MB\n"
     ]
    },
    {
     "data": {
      "text/plain": [
       "None"
      ]
     },
     "metadata": {},
     "output_type": "display_data"
    }
   ],
   "source": [
    "messages['message_date'] = pd.to_datetime(messages['message_date'], format=\"%Y-%m-%d\")\n",
    "display(messages.head())\n",
    "display(messages.info())"
   ]
  },
  {
   "cell_type": "markdown",
   "id": "1d87a2ee",
   "metadata": {},
   "source": [
    "Необходимо добавить дополнительный столбец month."
   ]
  },
  {
   "cell_type": "code",
   "execution_count": 13,
   "id": "e521af01",
   "metadata": {},
   "outputs": [
    {
     "data": {
      "text/html": [
       "<div>\n",
       "<style scoped>\n",
       "    .dataframe tbody tr th:only-of-type {\n",
       "        vertical-align: middle;\n",
       "    }\n",
       "\n",
       "    .dataframe tbody tr th {\n",
       "        vertical-align: top;\n",
       "    }\n",
       "\n",
       "    .dataframe thead th {\n",
       "        text-align: right;\n",
       "    }\n",
       "</style>\n",
       "<table border=\"1\" class=\"dataframe\">\n",
       "  <thead>\n",
       "    <tr style=\"text-align: right;\">\n",
       "      <th></th>\n",
       "      <th>id</th>\n",
       "      <th>message_date</th>\n",
       "      <th>user_id</th>\n",
       "      <th>month</th>\n",
       "    </tr>\n",
       "  </thead>\n",
       "  <tbody>\n",
       "    <tr>\n",
       "      <th>0</th>\n",
       "      <td>1000_0</td>\n",
       "      <td>2018-06-27</td>\n",
       "      <td>1000</td>\n",
       "      <td>6</td>\n",
       "    </tr>\n",
       "    <tr>\n",
       "      <th>1</th>\n",
       "      <td>1000_1</td>\n",
       "      <td>2018-10-08</td>\n",
       "      <td>1000</td>\n",
       "      <td>10</td>\n",
       "    </tr>\n",
       "    <tr>\n",
       "      <th>2</th>\n",
       "      <td>1000_2</td>\n",
       "      <td>2018-08-04</td>\n",
       "      <td>1000</td>\n",
       "      <td>8</td>\n",
       "    </tr>\n",
       "    <tr>\n",
       "      <th>3</th>\n",
       "      <td>1000_3</td>\n",
       "      <td>2018-06-16</td>\n",
       "      <td>1000</td>\n",
       "      <td>6</td>\n",
       "    </tr>\n",
       "    <tr>\n",
       "      <th>4</th>\n",
       "      <td>1000_4</td>\n",
       "      <td>2018-12-05</td>\n",
       "      <td>1000</td>\n",
       "      <td>12</td>\n",
       "    </tr>\n",
       "  </tbody>\n",
       "</table>\n",
       "</div>"
      ],
      "text/plain": [
       "       id message_date  user_id  month\n",
       "0  1000_0   2018-06-27     1000      6\n",
       "1  1000_1   2018-10-08     1000     10\n",
       "2  1000_2   2018-08-04     1000      8\n",
       "3  1000_3   2018-06-16     1000      6\n",
       "4  1000_4   2018-12-05     1000     12"
      ]
     },
     "metadata": {},
     "output_type": "display_data"
    }
   ],
   "source": [
    "messages['month'] = messages['message_date'].dt.month\n",
    "display(messages.head())"
   ]
  },
  {
   "cell_type": "markdown",
   "id": "98eb82d9",
   "metadata": {},
   "source": [
    "2.4 Подготовка данных в в таблице internet"
   ]
  },
  {
   "cell_type": "markdown",
   "id": "e5585978",
   "metadata": {},
   "source": [
    "Удаляем появившийся ненужный столбец Unnamed: 0"
   ]
  },
  {
   "cell_type": "code",
   "execution_count": 14,
   "id": "22e0a083",
   "metadata": {},
   "outputs": [
    {
     "data": {
      "text/html": [
       "<div>\n",
       "<style scoped>\n",
       "    .dataframe tbody tr th:only-of-type {\n",
       "        vertical-align: middle;\n",
       "    }\n",
       "\n",
       "    .dataframe tbody tr th {\n",
       "        vertical-align: top;\n",
       "    }\n",
       "\n",
       "    .dataframe thead th {\n",
       "        text-align: right;\n",
       "    }\n",
       "</style>\n",
       "<table border=\"1\" class=\"dataframe\">\n",
       "  <thead>\n",
       "    <tr style=\"text-align: right;\">\n",
       "      <th></th>\n",
       "      <th>id</th>\n",
       "      <th>mb_used</th>\n",
       "      <th>session_date</th>\n",
       "      <th>user_id</th>\n",
       "    </tr>\n",
       "  </thead>\n",
       "  <tbody>\n",
       "    <tr>\n",
       "      <th>0</th>\n",
       "      <td>1000_0</td>\n",
       "      <td>112.95</td>\n",
       "      <td>2018-11-25</td>\n",
       "      <td>1000</td>\n",
       "    </tr>\n",
       "    <tr>\n",
       "      <th>1</th>\n",
       "      <td>1000_1</td>\n",
       "      <td>1052.81</td>\n",
       "      <td>2018-09-07</td>\n",
       "      <td>1000</td>\n",
       "    </tr>\n",
       "    <tr>\n",
       "      <th>2</th>\n",
       "      <td>1000_2</td>\n",
       "      <td>1197.26</td>\n",
       "      <td>2018-06-25</td>\n",
       "      <td>1000</td>\n",
       "    </tr>\n",
       "    <tr>\n",
       "      <th>3</th>\n",
       "      <td>1000_3</td>\n",
       "      <td>550.27</td>\n",
       "      <td>2018-08-22</td>\n",
       "      <td>1000</td>\n",
       "    </tr>\n",
       "    <tr>\n",
       "      <th>4</th>\n",
       "      <td>1000_4</td>\n",
       "      <td>302.56</td>\n",
       "      <td>2018-09-24</td>\n",
       "      <td>1000</td>\n",
       "    </tr>\n",
       "  </tbody>\n",
       "</table>\n",
       "</div>"
      ],
      "text/plain": [
       "       id  mb_used session_date  user_id\n",
       "0  1000_0   112.95   2018-11-25     1000\n",
       "1  1000_1  1052.81   2018-09-07     1000\n",
       "2  1000_2  1197.26   2018-06-25     1000\n",
       "3  1000_3   550.27   2018-08-22     1000\n",
       "4  1000_4   302.56   2018-09-24     1000"
      ]
     },
     "metadata": {},
     "output_type": "display_data"
    }
   ],
   "source": [
    "internet = internet.drop(columns = ['Unnamed: 0'])\n",
    "display(internet.head())"
   ]
  },
  {
   "cell_type": "markdown",
   "id": "593c6136",
   "metadata": {},
   "source": [
    "Тип данных в столбце session_date надо заменить на datetime."
   ]
  },
  {
   "cell_type": "code",
   "execution_count": 15,
   "id": "9c67e38b",
   "metadata": {},
   "outputs": [
    {
     "name": "stdout",
     "output_type": "stream",
     "text": [
      "<class 'pandas.core.frame.DataFrame'>\n",
      "RangeIndex: 149396 entries, 0 to 149395\n",
      "Data columns (total 4 columns):\n",
      " #   Column        Non-Null Count   Dtype         \n",
      "---  ------        --------------   -----         \n",
      " 0   id            149396 non-null  object        \n",
      " 1   mb_used       149396 non-null  float64       \n",
      " 2   session_date  149396 non-null  datetime64[ns]\n",
      " 3   user_id       149396 non-null  int64         \n",
      "dtypes: datetime64[ns](1), float64(1), int64(1), object(1)\n",
      "memory usage: 4.6+ MB\n"
     ]
    },
    {
     "data": {
      "text/plain": [
       "None"
      ]
     },
     "metadata": {},
     "output_type": "display_data"
    }
   ],
   "source": [
    "internet['session_date'] = pd.to_datetime(internet['session_date'], format=\"%Y-%m-%d\")\n",
    "display(internet.info())"
   ]
  },
  {
   "cell_type": "markdown",
   "id": "54031919",
   "metadata": {},
   "source": [
    "Необходимо добавить дополнительный столбец month."
   ]
  },
  {
   "cell_type": "code",
   "execution_count": 16,
   "id": "a3989d93",
   "metadata": {},
   "outputs": [
    {
     "data": {
      "text/html": [
       "<div>\n",
       "<style scoped>\n",
       "    .dataframe tbody tr th:only-of-type {\n",
       "        vertical-align: middle;\n",
       "    }\n",
       "\n",
       "    .dataframe tbody tr th {\n",
       "        vertical-align: top;\n",
       "    }\n",
       "\n",
       "    .dataframe thead th {\n",
       "        text-align: right;\n",
       "    }\n",
       "</style>\n",
       "<table border=\"1\" class=\"dataframe\">\n",
       "  <thead>\n",
       "    <tr style=\"text-align: right;\">\n",
       "      <th></th>\n",
       "      <th>id</th>\n",
       "      <th>mb_used</th>\n",
       "      <th>session_date</th>\n",
       "      <th>user_id</th>\n",
       "      <th>month</th>\n",
       "    </tr>\n",
       "  </thead>\n",
       "  <tbody>\n",
       "    <tr>\n",
       "      <th>0</th>\n",
       "      <td>1000_0</td>\n",
       "      <td>112.95</td>\n",
       "      <td>2018-11-25</td>\n",
       "      <td>1000</td>\n",
       "      <td>11</td>\n",
       "    </tr>\n",
       "    <tr>\n",
       "      <th>1</th>\n",
       "      <td>1000_1</td>\n",
       "      <td>1052.81</td>\n",
       "      <td>2018-09-07</td>\n",
       "      <td>1000</td>\n",
       "      <td>9</td>\n",
       "    </tr>\n",
       "    <tr>\n",
       "      <th>2</th>\n",
       "      <td>1000_2</td>\n",
       "      <td>1197.26</td>\n",
       "      <td>2018-06-25</td>\n",
       "      <td>1000</td>\n",
       "      <td>6</td>\n",
       "    </tr>\n",
       "    <tr>\n",
       "      <th>3</th>\n",
       "      <td>1000_3</td>\n",
       "      <td>550.27</td>\n",
       "      <td>2018-08-22</td>\n",
       "      <td>1000</td>\n",
       "      <td>8</td>\n",
       "    </tr>\n",
       "    <tr>\n",
       "      <th>4</th>\n",
       "      <td>1000_4</td>\n",
       "      <td>302.56</td>\n",
       "      <td>2018-09-24</td>\n",
       "      <td>1000</td>\n",
       "      <td>9</td>\n",
       "    </tr>\n",
       "  </tbody>\n",
       "</table>\n",
       "</div>"
      ],
      "text/plain": [
       "       id  mb_used session_date  user_id  month\n",
       "0  1000_0   112.95   2018-11-25     1000     11\n",
       "1  1000_1  1052.81   2018-09-07     1000      9\n",
       "2  1000_2  1197.26   2018-06-25     1000      6\n",
       "3  1000_3   550.27   2018-08-22     1000      8\n",
       "4  1000_4   302.56   2018-09-24     1000      9"
      ]
     },
     "metadata": {},
     "output_type": "display_data"
    }
   ],
   "source": [
    "internet['month'] = internet['session_date'].dt.month\n",
    "display(internet.head())"
   ]
  },
  {
   "cell_type": "markdown",
   "id": "fbfaac98",
   "metadata": {},
   "source": [
    "2.5 Посчитаем для каждого пользователя:\n",
    "\n",
    "• количество сделанных звонков и израсходованных минут разговора по месяцам."
   ]
  },
  {
   "cell_type": "code",
   "execution_count": 17,
   "id": "a3723bd8",
   "metadata": {},
   "outputs": [],
   "source": [
    "user_calls = calls.groupby(['user_id', 'month'])\\\n",
    "                  .agg({'id':'count', 'duration':'sum'})\\\n",
    "                  .reset_index()\\\n",
    "                  .rename(columns = {'id':'calls_count', 'duration':'calls_sum'})"
   ]
  },
  {
   "cell_type": "code",
   "execution_count": 18,
   "id": "3ea0c198",
   "metadata": {},
   "outputs": [
    {
     "data": {
      "text/html": [
       "<div>\n",
       "<style scoped>\n",
       "    .dataframe tbody tr th:only-of-type {\n",
       "        vertical-align: middle;\n",
       "    }\n",
       "\n",
       "    .dataframe tbody tr th {\n",
       "        vertical-align: top;\n",
       "    }\n",
       "\n",
       "    .dataframe thead th {\n",
       "        text-align: right;\n",
       "    }\n",
       "</style>\n",
       "<table border=\"1\" class=\"dataframe\">\n",
       "  <thead>\n",
       "    <tr style=\"text-align: right;\">\n",
       "      <th></th>\n",
       "      <th>user_id</th>\n",
       "      <th>month</th>\n",
       "      <th>calls_count</th>\n",
       "      <th>calls_sum</th>\n",
       "    </tr>\n",
       "  </thead>\n",
       "  <tbody>\n",
       "    <tr>\n",
       "      <th>0</th>\n",
       "      <td>1000</td>\n",
       "      <td>5</td>\n",
       "      <td>22</td>\n",
       "      <td>159</td>\n",
       "    </tr>\n",
       "    <tr>\n",
       "      <th>1</th>\n",
       "      <td>1000</td>\n",
       "      <td>6</td>\n",
       "      <td>43</td>\n",
       "      <td>172</td>\n",
       "    </tr>\n",
       "    <tr>\n",
       "      <th>2</th>\n",
       "      <td>1000</td>\n",
       "      <td>7</td>\n",
       "      <td>47</td>\n",
       "      <td>340</td>\n",
       "    </tr>\n",
       "    <tr>\n",
       "      <th>3</th>\n",
       "      <td>1000</td>\n",
       "      <td>8</td>\n",
       "      <td>52</td>\n",
       "      <td>408</td>\n",
       "    </tr>\n",
       "    <tr>\n",
       "      <th>4</th>\n",
       "      <td>1000</td>\n",
       "      <td>9</td>\n",
       "      <td>58</td>\n",
       "      <td>466</td>\n",
       "    </tr>\n",
       "  </tbody>\n",
       "</table>\n",
       "</div>"
      ],
      "text/plain": [
       "   user_id  month  calls_count  calls_sum\n",
       "0     1000      5           22        159\n",
       "1     1000      6           43        172\n",
       "2     1000      7           47        340\n",
       "3     1000      8           52        408\n",
       "4     1000      9           58        466"
      ]
     },
     "metadata": {},
     "output_type": "display_data"
    }
   ],
   "source": [
    "display(user_calls.head())"
   ]
  },
  {
   "cell_type": "markdown",
   "id": "602cb113",
   "metadata": {},
   "source": [
    "2.6 Посчитаем для каждого пользователя:\n",
    "\n",
    "• количество отправленных сообщений по месяцам"
   ]
  },
  {
   "cell_type": "code",
   "execution_count": 19,
   "id": "ff8deb34",
   "metadata": {},
   "outputs": [
    {
     "data": {
      "text/html": [
       "<div>\n",
       "<style scoped>\n",
       "    .dataframe tbody tr th:only-of-type {\n",
       "        vertical-align: middle;\n",
       "    }\n",
       "\n",
       "    .dataframe tbody tr th {\n",
       "        vertical-align: top;\n",
       "    }\n",
       "\n",
       "    .dataframe thead th {\n",
       "        text-align: right;\n",
       "    }\n",
       "</style>\n",
       "<table border=\"1\" class=\"dataframe\">\n",
       "  <thead>\n",
       "    <tr style=\"text-align: right;\">\n",
       "      <th></th>\n",
       "      <th>user_id</th>\n",
       "      <th>month</th>\n",
       "      <th>messages_sum</th>\n",
       "    </tr>\n",
       "  </thead>\n",
       "  <tbody>\n",
       "    <tr>\n",
       "      <th>0</th>\n",
       "      <td>1000</td>\n",
       "      <td>5</td>\n",
       "      <td>22</td>\n",
       "    </tr>\n",
       "    <tr>\n",
       "      <th>1</th>\n",
       "      <td>1000</td>\n",
       "      <td>6</td>\n",
       "      <td>60</td>\n",
       "    </tr>\n",
       "    <tr>\n",
       "      <th>2</th>\n",
       "      <td>1000</td>\n",
       "      <td>7</td>\n",
       "      <td>75</td>\n",
       "    </tr>\n",
       "    <tr>\n",
       "      <th>3</th>\n",
       "      <td>1000</td>\n",
       "      <td>8</td>\n",
       "      <td>81</td>\n",
       "    </tr>\n",
       "    <tr>\n",
       "      <th>4</th>\n",
       "      <td>1000</td>\n",
       "      <td>9</td>\n",
       "      <td>57</td>\n",
       "    </tr>\n",
       "  </tbody>\n",
       "</table>\n",
       "</div>"
      ],
      "text/plain": [
       "   user_id  month  messages_sum\n",
       "0     1000      5            22\n",
       "1     1000      6            60\n",
       "2     1000      7            75\n",
       "3     1000      8            81\n",
       "4     1000      9            57"
      ]
     },
     "metadata": {},
     "output_type": "display_data"
    }
   ],
   "source": [
    "user_messages = messages.groupby(['user_id', 'month'])\\\n",
    "                        .agg({'id':'count'})\\\n",
    "                        .reset_index()\\\n",
    "                        .rename(columns = {'id':'messages_sum'})\n",
    "display(user_messages.head())"
   ]
  },
  {
   "cell_type": "markdown",
   "id": "240e424d",
   "metadata": {},
   "source": [
    "2.7 Посчитаем для каждого пользователя:\n",
    "\n",
    "• объем израсходованного интернет-трафика по месяцам"
   ]
  },
  {
   "cell_type": "code",
   "execution_count": 20,
   "id": "3f96065f",
   "metadata": {},
   "outputs": [
    {
     "data": {
      "text/html": [
       "<div>\n",
       "<style scoped>\n",
       "    .dataframe tbody tr th:only-of-type {\n",
       "        vertical-align: middle;\n",
       "    }\n",
       "\n",
       "    .dataframe tbody tr th {\n",
       "        vertical-align: top;\n",
       "    }\n",
       "\n",
       "    .dataframe thead th {\n",
       "        text-align: right;\n",
       "    }\n",
       "</style>\n",
       "<table border=\"1\" class=\"dataframe\">\n",
       "  <thead>\n",
       "    <tr style=\"text-align: right;\">\n",
       "      <th></th>\n",
       "      <th>user_id</th>\n",
       "      <th>month</th>\n",
       "      <th>internet_sum</th>\n",
       "    </tr>\n",
       "  </thead>\n",
       "  <tbody>\n",
       "    <tr>\n",
       "      <th>0</th>\n",
       "      <td>1000</td>\n",
       "      <td>5</td>\n",
       "      <td>2253.49</td>\n",
       "    </tr>\n",
       "    <tr>\n",
       "      <th>1</th>\n",
       "      <td>1000</td>\n",
       "      <td>6</td>\n",
       "      <td>23233.77</td>\n",
       "    </tr>\n",
       "    <tr>\n",
       "      <th>2</th>\n",
       "      <td>1000</td>\n",
       "      <td>7</td>\n",
       "      <td>14003.64</td>\n",
       "    </tr>\n",
       "    <tr>\n",
       "      <th>3</th>\n",
       "      <td>1000</td>\n",
       "      <td>8</td>\n",
       "      <td>14055.93</td>\n",
       "    </tr>\n",
       "    <tr>\n",
       "      <th>4</th>\n",
       "      <td>1000</td>\n",
       "      <td>9</td>\n",
       "      <td>14568.91</td>\n",
       "    </tr>\n",
       "  </tbody>\n",
       "</table>\n",
       "</div>"
      ],
      "text/plain": [
       "   user_id  month  internet_sum\n",
       "0     1000      5       2253.49\n",
       "1     1000      6      23233.77\n",
       "2     1000      7      14003.64\n",
       "3     1000      8      14055.93\n",
       "4     1000      9      14568.91"
      ]
     },
     "metadata": {},
     "output_type": "display_data"
    }
   ],
   "source": [
    "user_internet = internet.groupby(['user_id', 'month'])\\\n",
    "                        .agg({'mb_used':'sum'})\\\n",
    "                        .reset_index()\\\n",
    "                        .rename(columns={'mb_used':'internet_sum'})\n",
    "display(user_internet.head())"
   ]
  },
  {
   "cell_type": "markdown",
   "id": "0968cf8e",
   "metadata": {},
   "source": [
    "2.8 Посчитаем для каждого пользователя:\n",
    "\n",
    "• помесячную выручку с каждого пользователя (вычтите бесплатный лимит из суммарного количества звонков, сообщений и интернет-трафика; остаток умножьте на значение из тарифного плана; прибавьте абонентскую плату, соответствующую тарифному плану)"
   ]
  },
  {
   "cell_type": "markdown",
   "id": "d7ba39ea",
   "metadata": {},
   "source": [
    "2.8.1 Подготовим таблицу user_data для подсчета помесячной выручки с каждого пользователя"
   ]
  },
  {
   "cell_type": "code",
   "execution_count": 21,
   "id": "59381d41",
   "metadata": {},
   "outputs": [
    {
     "data": {
      "text/html": [
       "<div>\n",
       "<style scoped>\n",
       "    .dataframe tbody tr th:only-of-type {\n",
       "        vertical-align: middle;\n",
       "    }\n",
       "\n",
       "    .dataframe tbody tr th {\n",
       "        vertical-align: top;\n",
       "    }\n",
       "\n",
       "    .dataframe thead th {\n",
       "        text-align: right;\n",
       "    }\n",
       "</style>\n",
       "<table border=\"1\" class=\"dataframe\">\n",
       "  <thead>\n",
       "    <tr style=\"text-align: right;\">\n",
       "      <th></th>\n",
       "      <th>user_id</th>\n",
       "      <th>month</th>\n",
       "      <th>calls_count</th>\n",
       "      <th>calls_sum</th>\n",
       "      <th>messages_sum</th>\n",
       "    </tr>\n",
       "  </thead>\n",
       "  <tbody>\n",
       "    <tr>\n",
       "      <th>0</th>\n",
       "      <td>1000</td>\n",
       "      <td>5</td>\n",
       "      <td>22.0</td>\n",
       "      <td>159.0</td>\n",
       "      <td>22.0</td>\n",
       "    </tr>\n",
       "    <tr>\n",
       "      <th>1</th>\n",
       "      <td>1000</td>\n",
       "      <td>6</td>\n",
       "      <td>43.0</td>\n",
       "      <td>172.0</td>\n",
       "      <td>60.0</td>\n",
       "    </tr>\n",
       "    <tr>\n",
       "      <th>2</th>\n",
       "      <td>1000</td>\n",
       "      <td>7</td>\n",
       "      <td>47.0</td>\n",
       "      <td>340.0</td>\n",
       "      <td>75.0</td>\n",
       "    </tr>\n",
       "    <tr>\n",
       "      <th>3</th>\n",
       "      <td>1000</td>\n",
       "      <td>8</td>\n",
       "      <td>52.0</td>\n",
       "      <td>408.0</td>\n",
       "      <td>81.0</td>\n",
       "    </tr>\n",
       "    <tr>\n",
       "      <th>4</th>\n",
       "      <td>1000</td>\n",
       "      <td>9</td>\n",
       "      <td>58.0</td>\n",
       "      <td>466.0</td>\n",
       "      <td>57.0</td>\n",
       "    </tr>\n",
       "  </tbody>\n",
       "</table>\n",
       "</div>"
      ],
      "text/plain": [
       "   user_id  month  calls_count  calls_sum  messages_sum\n",
       "0     1000      5         22.0      159.0          22.0\n",
       "1     1000      6         43.0      172.0          60.0\n",
       "2     1000      7         47.0      340.0          75.0\n",
       "3     1000      8         52.0      408.0          81.0\n",
       "4     1000      9         58.0      466.0          57.0"
      ]
     },
     "metadata": {},
     "output_type": "display_data"
    }
   ],
   "source": [
    "user_data = user_calls.merge(user_messages, on=['user_id','month'], how='outer')\n",
    "display(user_data.head())"
   ]
  },
  {
   "cell_type": "code",
   "execution_count": 22,
   "id": "606bf298",
   "metadata": {},
   "outputs": [
    {
     "data": {
      "text/html": [
       "<div>\n",
       "<style scoped>\n",
       "    .dataframe tbody tr th:only-of-type {\n",
       "        vertical-align: middle;\n",
       "    }\n",
       "\n",
       "    .dataframe tbody tr th {\n",
       "        vertical-align: top;\n",
       "    }\n",
       "\n",
       "    .dataframe thead th {\n",
       "        text-align: right;\n",
       "    }\n",
       "</style>\n",
       "<table border=\"1\" class=\"dataframe\">\n",
       "  <thead>\n",
       "    <tr style=\"text-align: right;\">\n",
       "      <th></th>\n",
       "      <th>user_id</th>\n",
       "      <th>month</th>\n",
       "      <th>calls_count</th>\n",
       "      <th>calls_sum</th>\n",
       "      <th>messages_sum</th>\n",
       "      <th>internet_sum</th>\n",
       "    </tr>\n",
       "  </thead>\n",
       "  <tbody>\n",
       "    <tr>\n",
       "      <th>0</th>\n",
       "      <td>1000</td>\n",
       "      <td>5</td>\n",
       "      <td>22.0</td>\n",
       "      <td>159.0</td>\n",
       "      <td>22.0</td>\n",
       "      <td>2253.49</td>\n",
       "    </tr>\n",
       "    <tr>\n",
       "      <th>1</th>\n",
       "      <td>1000</td>\n",
       "      <td>6</td>\n",
       "      <td>43.0</td>\n",
       "      <td>172.0</td>\n",
       "      <td>60.0</td>\n",
       "      <td>23233.77</td>\n",
       "    </tr>\n",
       "    <tr>\n",
       "      <th>2</th>\n",
       "      <td>1000</td>\n",
       "      <td>7</td>\n",
       "      <td>47.0</td>\n",
       "      <td>340.0</td>\n",
       "      <td>75.0</td>\n",
       "      <td>14003.64</td>\n",
       "    </tr>\n",
       "    <tr>\n",
       "      <th>3</th>\n",
       "      <td>1000</td>\n",
       "      <td>8</td>\n",
       "      <td>52.0</td>\n",
       "      <td>408.0</td>\n",
       "      <td>81.0</td>\n",
       "      <td>14055.93</td>\n",
       "    </tr>\n",
       "    <tr>\n",
       "      <th>4</th>\n",
       "      <td>1000</td>\n",
       "      <td>9</td>\n",
       "      <td>58.0</td>\n",
       "      <td>466.0</td>\n",
       "      <td>57.0</td>\n",
       "      <td>14568.91</td>\n",
       "    </tr>\n",
       "  </tbody>\n",
       "</table>\n",
       "</div>"
      ],
      "text/plain": [
       "   user_id  month  calls_count  calls_sum  messages_sum  internet_sum\n",
       "0     1000      5         22.0      159.0          22.0       2253.49\n",
       "1     1000      6         43.0      172.0          60.0      23233.77\n",
       "2     1000      7         47.0      340.0          75.0      14003.64\n",
       "3     1000      8         52.0      408.0          81.0      14055.93\n",
       "4     1000      9         58.0      466.0          57.0      14568.91"
      ]
     },
     "metadata": {},
     "output_type": "display_data"
    }
   ],
   "source": [
    "user_data = user_data.merge(user_internet, on=['user_id','month'], how = 'outer')\n",
    "display(user_data.head())"
   ]
  },
  {
   "cell_type": "code",
   "execution_count": 23,
   "id": "a655f6e2",
   "metadata": {},
   "outputs": [
    {
     "data": {
      "text/html": [
       "<div>\n",
       "<style scoped>\n",
       "    .dataframe tbody tr th:only-of-type {\n",
       "        vertical-align: middle;\n",
       "    }\n",
       "\n",
       "    .dataframe tbody tr th {\n",
       "        vertical-align: top;\n",
       "    }\n",
       "\n",
       "    .dataframe thead th {\n",
       "        text-align: right;\n",
       "    }\n",
       "</style>\n",
       "<table border=\"1\" class=\"dataframe\">\n",
       "  <thead>\n",
       "    <tr style=\"text-align: right;\">\n",
       "      <th></th>\n",
       "      <th>user_id</th>\n",
       "      <th>month</th>\n",
       "      <th>calls_count</th>\n",
       "      <th>calls_sum</th>\n",
       "      <th>messages_sum</th>\n",
       "      <th>internet_sum</th>\n",
       "      <th>age</th>\n",
       "      <th>churn_date</th>\n",
       "      <th>city</th>\n",
       "      <th>first_name</th>\n",
       "      <th>last_name</th>\n",
       "      <th>reg_date</th>\n",
       "      <th>tariff</th>\n",
       "    </tr>\n",
       "  </thead>\n",
       "  <tbody>\n",
       "    <tr>\n",
       "      <th>0</th>\n",
       "      <td>1000</td>\n",
       "      <td>5</td>\n",
       "      <td>22.0</td>\n",
       "      <td>159.0</td>\n",
       "      <td>22.0</td>\n",
       "      <td>2253.49</td>\n",
       "      <td>52</td>\n",
       "      <td>NaT</td>\n",
       "      <td>Краснодар</td>\n",
       "      <td>Рафаил</td>\n",
       "      <td>Верещагин</td>\n",
       "      <td>2018-05-25</td>\n",
       "      <td>ultra</td>\n",
       "    </tr>\n",
       "    <tr>\n",
       "      <th>1</th>\n",
       "      <td>1000</td>\n",
       "      <td>6</td>\n",
       "      <td>43.0</td>\n",
       "      <td>172.0</td>\n",
       "      <td>60.0</td>\n",
       "      <td>23233.77</td>\n",
       "      <td>52</td>\n",
       "      <td>NaT</td>\n",
       "      <td>Краснодар</td>\n",
       "      <td>Рафаил</td>\n",
       "      <td>Верещагин</td>\n",
       "      <td>2018-05-25</td>\n",
       "      <td>ultra</td>\n",
       "    </tr>\n",
       "    <tr>\n",
       "      <th>2</th>\n",
       "      <td>1000</td>\n",
       "      <td>7</td>\n",
       "      <td>47.0</td>\n",
       "      <td>340.0</td>\n",
       "      <td>75.0</td>\n",
       "      <td>14003.64</td>\n",
       "      <td>52</td>\n",
       "      <td>NaT</td>\n",
       "      <td>Краснодар</td>\n",
       "      <td>Рафаил</td>\n",
       "      <td>Верещагин</td>\n",
       "      <td>2018-05-25</td>\n",
       "      <td>ultra</td>\n",
       "    </tr>\n",
       "    <tr>\n",
       "      <th>3</th>\n",
       "      <td>1000</td>\n",
       "      <td>8</td>\n",
       "      <td>52.0</td>\n",
       "      <td>408.0</td>\n",
       "      <td>81.0</td>\n",
       "      <td>14055.93</td>\n",
       "      <td>52</td>\n",
       "      <td>NaT</td>\n",
       "      <td>Краснодар</td>\n",
       "      <td>Рафаил</td>\n",
       "      <td>Верещагин</td>\n",
       "      <td>2018-05-25</td>\n",
       "      <td>ultra</td>\n",
       "    </tr>\n",
       "    <tr>\n",
       "      <th>4</th>\n",
       "      <td>1000</td>\n",
       "      <td>9</td>\n",
       "      <td>58.0</td>\n",
       "      <td>466.0</td>\n",
       "      <td>57.0</td>\n",
       "      <td>14568.91</td>\n",
       "      <td>52</td>\n",
       "      <td>NaT</td>\n",
       "      <td>Краснодар</td>\n",
       "      <td>Рафаил</td>\n",
       "      <td>Верещагин</td>\n",
       "      <td>2018-05-25</td>\n",
       "      <td>ultra</td>\n",
       "    </tr>\n",
       "  </tbody>\n",
       "</table>\n",
       "</div>"
      ],
      "text/plain": [
       "   user_id  month  calls_count  calls_sum  messages_sum  internet_sum  age  \\\n",
       "0     1000      5         22.0      159.0          22.0       2253.49   52   \n",
       "1     1000      6         43.0      172.0          60.0      23233.77   52   \n",
       "2     1000      7         47.0      340.0          75.0      14003.64   52   \n",
       "3     1000      8         52.0      408.0          81.0      14055.93   52   \n",
       "4     1000      9         58.0      466.0          57.0      14568.91   52   \n",
       "\n",
       "  churn_date       city first_name  last_name   reg_date tariff  \n",
       "0        NaT  Краснодар     Рафаил  Верещагин 2018-05-25  ultra  \n",
       "1        NaT  Краснодар     Рафаил  Верещагин 2018-05-25  ultra  \n",
       "2        NaT  Краснодар     Рафаил  Верещагин 2018-05-25  ultra  \n",
       "3        NaT  Краснодар     Рафаил  Верещагин 2018-05-25  ultra  \n",
       "4        NaT  Краснодар     Рафаил  Верещагин 2018-05-25  ultra  "
      ]
     },
     "metadata": {},
     "output_type": "display_data"
    }
   ],
   "source": [
    "user_data = user_data.merge(users, on='user_id', how='left')\n",
    "display(user_data.head())"
   ]
  },
  {
   "cell_type": "code",
   "execution_count": 24,
   "id": "50808cbf",
   "metadata": {},
   "outputs": [
    {
     "data": {
      "text/html": [
       "<div>\n",
       "<style scoped>\n",
       "    .dataframe tbody tr th:only-of-type {\n",
       "        vertical-align: middle;\n",
       "    }\n",
       "\n",
       "    .dataframe tbody tr th {\n",
       "        vertical-align: top;\n",
       "    }\n",
       "\n",
       "    .dataframe thead th {\n",
       "        text-align: right;\n",
       "    }\n",
       "</style>\n",
       "<table border=\"1\" class=\"dataframe\">\n",
       "  <thead>\n",
       "    <tr style=\"text-align: right;\">\n",
       "      <th></th>\n",
       "      <th>messages_included</th>\n",
       "      <th>mb_per_month_included</th>\n",
       "      <th>minutes_included</th>\n",
       "      <th>rub_monthly_fee</th>\n",
       "      <th>rub_per_gb</th>\n",
       "      <th>rub_per_message</th>\n",
       "      <th>rub_per_minute</th>\n",
       "      <th>tariff_name</th>\n",
       "    </tr>\n",
       "  </thead>\n",
       "  <tbody>\n",
       "    <tr>\n",
       "      <th>0</th>\n",
       "      <td>50</td>\n",
       "      <td>15360</td>\n",
       "      <td>500</td>\n",
       "      <td>550</td>\n",
       "      <td>200</td>\n",
       "      <td>3</td>\n",
       "      <td>3</td>\n",
       "      <td>smart</td>\n",
       "    </tr>\n",
       "    <tr>\n",
       "      <th>1</th>\n",
       "      <td>1000</td>\n",
       "      <td>30720</td>\n",
       "      <td>3000</td>\n",
       "      <td>1950</td>\n",
       "      <td>150</td>\n",
       "      <td>1</td>\n",
       "      <td>1</td>\n",
       "      <td>ultra</td>\n",
       "    </tr>\n",
       "  </tbody>\n",
       "</table>\n",
       "</div>"
      ],
      "text/plain": [
       "   messages_included  mb_per_month_included  minutes_included  \\\n",
       "0                 50                  15360               500   \n",
       "1               1000                  30720              3000   \n",
       "\n",
       "   rub_monthly_fee  rub_per_gb  rub_per_message  rub_per_minute tariff_name  \n",
       "0              550         200                3               3       smart  \n",
       "1             1950         150                1               1       ultra  "
      ]
     },
     "metadata": {},
     "output_type": "display_data"
    }
   ],
   "source": [
    "display(tariffs.head())"
   ]
  },
  {
   "cell_type": "code",
   "execution_count": 25,
   "id": "9b761e5d",
   "metadata": {},
   "outputs": [
    {
     "data": {
      "text/html": [
       "<div>\n",
       "<style scoped>\n",
       "    .dataframe tbody tr th:only-of-type {\n",
       "        vertical-align: middle;\n",
       "    }\n",
       "\n",
       "    .dataframe tbody tr th {\n",
       "        vertical-align: top;\n",
       "    }\n",
       "\n",
       "    .dataframe thead th {\n",
       "        text-align: right;\n",
       "    }\n",
       "</style>\n",
       "<table border=\"1\" class=\"dataframe\">\n",
       "  <thead>\n",
       "    <tr style=\"text-align: right;\">\n",
       "      <th></th>\n",
       "      <th>messages_included</th>\n",
       "      <th>mb_per_month_included</th>\n",
       "      <th>minutes_included</th>\n",
       "      <th>rub_monthly_fee</th>\n",
       "      <th>rub_per_gb</th>\n",
       "      <th>rub_per_message</th>\n",
       "      <th>rub_per_minute</th>\n",
       "      <th>tariff</th>\n",
       "    </tr>\n",
       "  </thead>\n",
       "  <tbody>\n",
       "    <tr>\n",
       "      <th>0</th>\n",
       "      <td>50</td>\n",
       "      <td>15360</td>\n",
       "      <td>500</td>\n",
       "      <td>550</td>\n",
       "      <td>200</td>\n",
       "      <td>3</td>\n",
       "      <td>3</td>\n",
       "      <td>smart</td>\n",
       "    </tr>\n",
       "    <tr>\n",
       "      <th>1</th>\n",
       "      <td>1000</td>\n",
       "      <td>30720</td>\n",
       "      <td>3000</td>\n",
       "      <td>1950</td>\n",
       "      <td>150</td>\n",
       "      <td>1</td>\n",
       "      <td>1</td>\n",
       "      <td>ultra</td>\n",
       "    </tr>\n",
       "  </tbody>\n",
       "</table>\n",
       "</div>"
      ],
      "text/plain": [
       "   messages_included  mb_per_month_included  minutes_included  \\\n",
       "0                 50                  15360               500   \n",
       "1               1000                  30720              3000   \n",
       "\n",
       "   rub_monthly_fee  rub_per_gb  rub_per_message  rub_per_minute tariff  \n",
       "0              550         200                3               3  smart  \n",
       "1             1950         150                1               1  ultra  "
      ]
     },
     "metadata": {},
     "output_type": "display_data"
    }
   ],
   "source": [
    "tariffs = tariffs.rename(columns={'tariff_name': 'tariff'})\n",
    "display(tariffs.head())"
   ]
  },
  {
   "cell_type": "code",
   "execution_count": 26,
   "id": "94cb3775",
   "metadata": {},
   "outputs": [
    {
     "data": {
      "text/html": [
       "<div>\n",
       "<style scoped>\n",
       "    .dataframe tbody tr th:only-of-type {\n",
       "        vertical-align: middle;\n",
       "    }\n",
       "\n",
       "    .dataframe tbody tr th {\n",
       "        vertical-align: top;\n",
       "    }\n",
       "\n",
       "    .dataframe thead th {\n",
       "        text-align: right;\n",
       "    }\n",
       "</style>\n",
       "<table border=\"1\" class=\"dataframe\">\n",
       "  <thead>\n",
       "    <tr style=\"text-align: right;\">\n",
       "      <th></th>\n",
       "      <th>user_id</th>\n",
       "      <th>month</th>\n",
       "      <th>calls_count</th>\n",
       "      <th>calls_sum</th>\n",
       "      <th>messages_sum</th>\n",
       "      <th>internet_sum</th>\n",
       "      <th>age</th>\n",
       "      <th>churn_date</th>\n",
       "      <th>city</th>\n",
       "      <th>first_name</th>\n",
       "      <th>last_name</th>\n",
       "      <th>reg_date</th>\n",
       "      <th>tariff</th>\n",
       "      <th>messages_included</th>\n",
       "      <th>mb_per_month_included</th>\n",
       "      <th>minutes_included</th>\n",
       "      <th>rub_monthly_fee</th>\n",
       "      <th>rub_per_gb</th>\n",
       "      <th>rub_per_message</th>\n",
       "      <th>rub_per_minute</th>\n",
       "    </tr>\n",
       "  </thead>\n",
       "  <tbody>\n",
       "    <tr>\n",
       "      <th>0</th>\n",
       "      <td>1000</td>\n",
       "      <td>5</td>\n",
       "      <td>22.0</td>\n",
       "      <td>159.0</td>\n",
       "      <td>22.0</td>\n",
       "      <td>2253.49</td>\n",
       "      <td>52</td>\n",
       "      <td>NaT</td>\n",
       "      <td>Краснодар</td>\n",
       "      <td>Рафаил</td>\n",
       "      <td>Верещагин</td>\n",
       "      <td>2018-05-25</td>\n",
       "      <td>ultra</td>\n",
       "      <td>1000</td>\n",
       "      <td>30720</td>\n",
       "      <td>3000</td>\n",
       "      <td>1950</td>\n",
       "      <td>150</td>\n",
       "      <td>1</td>\n",
       "      <td>1</td>\n",
       "    </tr>\n",
       "    <tr>\n",
       "      <th>1</th>\n",
       "      <td>1000</td>\n",
       "      <td>6</td>\n",
       "      <td>43.0</td>\n",
       "      <td>172.0</td>\n",
       "      <td>60.0</td>\n",
       "      <td>23233.77</td>\n",
       "      <td>52</td>\n",
       "      <td>NaT</td>\n",
       "      <td>Краснодар</td>\n",
       "      <td>Рафаил</td>\n",
       "      <td>Верещагин</td>\n",
       "      <td>2018-05-25</td>\n",
       "      <td>ultra</td>\n",
       "      <td>1000</td>\n",
       "      <td>30720</td>\n",
       "      <td>3000</td>\n",
       "      <td>1950</td>\n",
       "      <td>150</td>\n",
       "      <td>1</td>\n",
       "      <td>1</td>\n",
       "    </tr>\n",
       "    <tr>\n",
       "      <th>2</th>\n",
       "      <td>1000</td>\n",
       "      <td>7</td>\n",
       "      <td>47.0</td>\n",
       "      <td>340.0</td>\n",
       "      <td>75.0</td>\n",
       "      <td>14003.64</td>\n",
       "      <td>52</td>\n",
       "      <td>NaT</td>\n",
       "      <td>Краснодар</td>\n",
       "      <td>Рафаил</td>\n",
       "      <td>Верещагин</td>\n",
       "      <td>2018-05-25</td>\n",
       "      <td>ultra</td>\n",
       "      <td>1000</td>\n",
       "      <td>30720</td>\n",
       "      <td>3000</td>\n",
       "      <td>1950</td>\n",
       "      <td>150</td>\n",
       "      <td>1</td>\n",
       "      <td>1</td>\n",
       "    </tr>\n",
       "    <tr>\n",
       "      <th>3</th>\n",
       "      <td>1000</td>\n",
       "      <td>8</td>\n",
       "      <td>52.0</td>\n",
       "      <td>408.0</td>\n",
       "      <td>81.0</td>\n",
       "      <td>14055.93</td>\n",
       "      <td>52</td>\n",
       "      <td>NaT</td>\n",
       "      <td>Краснодар</td>\n",
       "      <td>Рафаил</td>\n",
       "      <td>Верещагин</td>\n",
       "      <td>2018-05-25</td>\n",
       "      <td>ultra</td>\n",
       "      <td>1000</td>\n",
       "      <td>30720</td>\n",
       "      <td>3000</td>\n",
       "      <td>1950</td>\n",
       "      <td>150</td>\n",
       "      <td>1</td>\n",
       "      <td>1</td>\n",
       "    </tr>\n",
       "    <tr>\n",
       "      <th>4</th>\n",
       "      <td>1000</td>\n",
       "      <td>9</td>\n",
       "      <td>58.0</td>\n",
       "      <td>466.0</td>\n",
       "      <td>57.0</td>\n",
       "      <td>14568.91</td>\n",
       "      <td>52</td>\n",
       "      <td>NaT</td>\n",
       "      <td>Краснодар</td>\n",
       "      <td>Рафаил</td>\n",
       "      <td>Верещагин</td>\n",
       "      <td>2018-05-25</td>\n",
       "      <td>ultra</td>\n",
       "      <td>1000</td>\n",
       "      <td>30720</td>\n",
       "      <td>3000</td>\n",
       "      <td>1950</td>\n",
       "      <td>150</td>\n",
       "      <td>1</td>\n",
       "      <td>1</td>\n",
       "    </tr>\n",
       "  </tbody>\n",
       "</table>\n",
       "</div>"
      ],
      "text/plain": [
       "   user_id  month  calls_count  calls_sum  messages_sum  internet_sum  age  \\\n",
       "0     1000      5         22.0      159.0          22.0       2253.49   52   \n",
       "1     1000      6         43.0      172.0          60.0      23233.77   52   \n",
       "2     1000      7         47.0      340.0          75.0      14003.64   52   \n",
       "3     1000      8         52.0      408.0          81.0      14055.93   52   \n",
       "4     1000      9         58.0      466.0          57.0      14568.91   52   \n",
       "\n",
       "  churn_date       city first_name  last_name   reg_date tariff  \\\n",
       "0        NaT  Краснодар     Рафаил  Верещагин 2018-05-25  ultra   \n",
       "1        NaT  Краснодар     Рафаил  Верещагин 2018-05-25  ultra   \n",
       "2        NaT  Краснодар     Рафаил  Верещагин 2018-05-25  ultra   \n",
       "3        NaT  Краснодар     Рафаил  Верещагин 2018-05-25  ultra   \n",
       "4        NaT  Краснодар     Рафаил  Верещагин 2018-05-25  ultra   \n",
       "\n",
       "   messages_included  mb_per_month_included  minutes_included  \\\n",
       "0               1000                  30720              3000   \n",
       "1               1000                  30720              3000   \n",
       "2               1000                  30720              3000   \n",
       "3               1000                  30720              3000   \n",
       "4               1000                  30720              3000   \n",
       "\n",
       "   rub_monthly_fee  rub_per_gb  rub_per_message  rub_per_minute  \n",
       "0             1950         150                1               1  \n",
       "1             1950         150                1               1  \n",
       "2             1950         150                1               1  \n",
       "3             1950         150                1               1  \n",
       "4             1950         150                1               1  "
      ]
     },
     "metadata": {},
     "output_type": "display_data"
    }
   ],
   "source": [
    "user_data = user_data.merge(tariffs, on='tariff', how='left')\n",
    "display(user_data.head())"
   ]
  },
  {
   "cell_type": "markdown",
   "id": "d6dc43f7",
   "metadata": {},
   "source": [
    "Подготовлена таблица user_data для подсчета помесячной выручки с каждого пользователя.\n",
    "\n",
    "Проверим таблицу user_data на наличие пропусков"
   ]
  },
  {
   "cell_type": "code",
   "execution_count": 27,
   "id": "8023b2a8",
   "metadata": {},
   "outputs": [
    {
     "data": {
      "text/plain": [
       "0"
      ]
     },
     "metadata": {},
     "output_type": "display_data"
    },
    {
     "data": {
      "text/plain": [
       "user_id                     0\n",
       "month                       0\n",
       "calls_count                40\n",
       "calls_sum                  40\n",
       "messages_sum              497\n",
       "internet_sum               11\n",
       "age                         0\n",
       "churn_date               3027\n",
       "city                        0\n",
       "first_name                  0\n",
       "last_name                   0\n",
       "reg_date                    0\n",
       "tariff                      0\n",
       "messages_included           0\n",
       "mb_per_month_included       0\n",
       "minutes_included            0\n",
       "rub_monthly_fee             0\n",
       "rub_per_gb                  0\n",
       "rub_per_message             0\n",
       "rub_per_minute              0\n",
       "dtype: int64"
      ]
     },
     "metadata": {},
     "output_type": "display_data"
    }
   ],
   "source": [
    "display(user_data.duplicated().sum()) # наличие дубликатов\n",
    "display(user_data.isna().sum()) # наличие пропусков"
   ]
  },
  {
   "cell_type": "markdown",
   "id": "07737528",
   "metadata": {},
   "source": [
    "Отсутствующие значения по месяцам в столбцах количество сделанных звонков calls_count, израсходованные минуты разговора calls_sum, количество отправленных сообщений messages_sum, объем израсходованного интернет-трафика internet_sum заменим нулями."
   ]
  },
  {
   "cell_type": "code",
   "execution_count": 28,
   "id": "7f791d91",
   "metadata": {},
   "outputs": [],
   "source": [
    "user_data['calls_count'] = user_data['calls_count'].fillna(0)\n",
    "user_data['calls_sum'] = user_data['calls_sum'].fillna(0)\n",
    "user_data['messages_sum'] = user_data['messages_sum'].fillna(0)\n",
    "user_data['internet_sum'] = user_data['internet_sum'].fillna(0)"
   ]
  },
  {
   "cell_type": "code",
   "execution_count": 29,
   "id": "77637154",
   "metadata": {},
   "outputs": [
    {
     "data": {
      "text/plain": [
       "user_id                     0\n",
       "month                       0\n",
       "calls_count                 0\n",
       "calls_sum                   0\n",
       "messages_sum                0\n",
       "internet_sum                0\n",
       "age                         0\n",
       "churn_date               3027\n",
       "city                        0\n",
       "first_name                  0\n",
       "last_name                   0\n",
       "reg_date                    0\n",
       "tariff                      0\n",
       "messages_included           0\n",
       "mb_per_month_included       0\n",
       "minutes_included            0\n",
       "rub_monthly_fee             0\n",
       "rub_per_gb                  0\n",
       "rub_per_message             0\n",
       "rub_per_minute              0\n",
       "dtype: int64"
      ]
     },
     "metadata": {},
     "output_type": "display_data"
    },
    {
     "name": "stdout",
     "output_type": "stream",
     "text": [
      "<class 'pandas.core.frame.DataFrame'>\n",
      "Int64Index: 3214 entries, 0 to 3213\n",
      "Data columns (total 20 columns):\n",
      " #   Column                 Non-Null Count  Dtype         \n",
      "---  ------                 --------------  -----         \n",
      " 0   user_id                3214 non-null   int64         \n",
      " 1   month                  3214 non-null   int64         \n",
      " 2   calls_count            3214 non-null   float64       \n",
      " 3   calls_sum              3214 non-null   float64       \n",
      " 4   messages_sum           3214 non-null   float64       \n",
      " 5   internet_sum           3214 non-null   float64       \n",
      " 6   age                    3214 non-null   int64         \n",
      " 7   churn_date             187 non-null    datetime64[ns]\n",
      " 8   city                   3214 non-null   object        \n",
      " 9   first_name             3214 non-null   object        \n",
      " 10  last_name              3214 non-null   object        \n",
      " 11  reg_date               3214 non-null   datetime64[ns]\n",
      " 12  tariff                 3214 non-null   object        \n",
      " 13  messages_included      3214 non-null   int64         \n",
      " 14  mb_per_month_included  3214 non-null   int64         \n",
      " 15  minutes_included       3214 non-null   int64         \n",
      " 16  rub_monthly_fee        3214 non-null   int64         \n",
      " 17  rub_per_gb             3214 non-null   int64         \n",
      " 18  rub_per_message        3214 non-null   int64         \n",
      " 19  rub_per_minute         3214 non-null   int64         \n",
      "dtypes: datetime64[ns](2), float64(4), int64(10), object(4)\n",
      "memory usage: 527.3+ KB\n"
     ]
    }
   ],
   "source": [
    "display(user_data.isna().sum())\n",
    "user_data.info()"
   ]
  },
  {
   "cell_type": "markdown",
   "id": "ec01a0be",
   "metadata": {},
   "source": [
    "Пропуски в столбцах  calls_count,  calls_sum,  messages_sum, internet_sum заполнены.\n",
    "\n",
    "Приведем данные в этих столбцах  calls_count,  calls_sum,  messages_sum, internet_sum к типу int"
   ]
  },
  {
   "cell_type": "code",
   "execution_count": 30,
   "id": "68e9dd1a",
   "metadata": {},
   "outputs": [
    {
     "name": "stdout",
     "output_type": "stream",
     "text": [
      "<class 'pandas.core.frame.DataFrame'>\n",
      "Int64Index: 3214 entries, 0 to 3213\n",
      "Data columns (total 20 columns):\n",
      " #   Column                 Non-Null Count  Dtype         \n",
      "---  ------                 --------------  -----         \n",
      " 0   user_id                3214 non-null   int64         \n",
      " 1   month                  3214 non-null   int64         \n",
      " 2   calls_count            3214 non-null   int32         \n",
      " 3   calls_sum              3214 non-null   int32         \n",
      " 4   messages_sum           3214 non-null   int32         \n",
      " 5   internet_sum           3214 non-null   float64       \n",
      " 6   age                    3214 non-null   int64         \n",
      " 7   churn_date             187 non-null    datetime64[ns]\n",
      " 8   city                   3214 non-null   object        \n",
      " 9   first_name             3214 non-null   object        \n",
      " 10  last_name              3214 non-null   object        \n",
      " 11  reg_date               3214 non-null   datetime64[ns]\n",
      " 12  tariff                 3214 non-null   object        \n",
      " 13  messages_included      3214 non-null   int64         \n",
      " 14  mb_per_month_included  3214 non-null   int64         \n",
      " 15  minutes_included       3214 non-null   int64         \n",
      " 16  rub_monthly_fee        3214 non-null   int64         \n",
      " 17  rub_per_gb             3214 non-null   int64         \n",
      " 18  rub_per_message        3214 non-null   int64         \n",
      " 19  rub_per_minute         3214 non-null   int64         \n",
      "dtypes: datetime64[ns](2), float64(1), int32(3), int64(10), object(4)\n",
      "memory usage: 489.6+ KB\n"
     ]
    }
   ],
   "source": [
    "user_data['calls_count'] = user_data['calls_count'].astype('int')\n",
    "user_data['calls_sum'] = user_data['calls_sum'].astype('int')\n",
    "user_data['messages_sum'] = user_data['messages_sum'].astype('int')\n",
    "# user_data['internet_sum'] = user_data['internet_sum'].astype('int')\n",
    "user_data.info()"
   ]
  },
  {
   "cell_type": "code",
   "execution_count": 31,
   "id": "4cd8e5ea",
   "metadata": {},
   "outputs": [
    {
     "data": {
      "text/html": [
       "<div>\n",
       "<style scoped>\n",
       "    .dataframe tbody tr th:only-of-type {\n",
       "        vertical-align: middle;\n",
       "    }\n",
       "\n",
       "    .dataframe tbody tr th {\n",
       "        vertical-align: top;\n",
       "    }\n",
       "\n",
       "    .dataframe thead th {\n",
       "        text-align: right;\n",
       "    }\n",
       "</style>\n",
       "<table border=\"1\" class=\"dataframe\">\n",
       "  <thead>\n",
       "    <tr style=\"text-align: right;\">\n",
       "      <th></th>\n",
       "      <th>user_id</th>\n",
       "      <th>month</th>\n",
       "      <th>calls_count</th>\n",
       "      <th>calls_sum</th>\n",
       "      <th>messages_sum</th>\n",
       "      <th>internet_sum</th>\n",
       "      <th>age</th>\n",
       "      <th>churn_date</th>\n",
       "      <th>city</th>\n",
       "      <th>first_name</th>\n",
       "      <th>last_name</th>\n",
       "      <th>reg_date</th>\n",
       "      <th>tariff</th>\n",
       "      <th>messages_included</th>\n",
       "      <th>mb_per_month_included</th>\n",
       "      <th>minutes_included</th>\n",
       "      <th>rub_monthly_fee</th>\n",
       "      <th>rub_per_gb</th>\n",
       "      <th>rub_per_message</th>\n",
       "      <th>rub_per_minute</th>\n",
       "    </tr>\n",
       "  </thead>\n",
       "  <tbody>\n",
       "    <tr>\n",
       "      <th>0</th>\n",
       "      <td>1000</td>\n",
       "      <td>5</td>\n",
       "      <td>22</td>\n",
       "      <td>159</td>\n",
       "      <td>22</td>\n",
       "      <td>2253.49</td>\n",
       "      <td>52</td>\n",
       "      <td>NaT</td>\n",
       "      <td>Краснодар</td>\n",
       "      <td>Рафаил</td>\n",
       "      <td>Верещагин</td>\n",
       "      <td>2018-05-25</td>\n",
       "      <td>ultra</td>\n",
       "      <td>1000</td>\n",
       "      <td>30720</td>\n",
       "      <td>3000</td>\n",
       "      <td>1950</td>\n",
       "      <td>150</td>\n",
       "      <td>1</td>\n",
       "      <td>1</td>\n",
       "    </tr>\n",
       "    <tr>\n",
       "      <th>1</th>\n",
       "      <td>1000</td>\n",
       "      <td>6</td>\n",
       "      <td>43</td>\n",
       "      <td>172</td>\n",
       "      <td>60</td>\n",
       "      <td>23233.77</td>\n",
       "      <td>52</td>\n",
       "      <td>NaT</td>\n",
       "      <td>Краснодар</td>\n",
       "      <td>Рафаил</td>\n",
       "      <td>Верещагин</td>\n",
       "      <td>2018-05-25</td>\n",
       "      <td>ultra</td>\n",
       "      <td>1000</td>\n",
       "      <td>30720</td>\n",
       "      <td>3000</td>\n",
       "      <td>1950</td>\n",
       "      <td>150</td>\n",
       "      <td>1</td>\n",
       "      <td>1</td>\n",
       "    </tr>\n",
       "    <tr>\n",
       "      <th>2</th>\n",
       "      <td>1000</td>\n",
       "      <td>7</td>\n",
       "      <td>47</td>\n",
       "      <td>340</td>\n",
       "      <td>75</td>\n",
       "      <td>14003.64</td>\n",
       "      <td>52</td>\n",
       "      <td>NaT</td>\n",
       "      <td>Краснодар</td>\n",
       "      <td>Рафаил</td>\n",
       "      <td>Верещагин</td>\n",
       "      <td>2018-05-25</td>\n",
       "      <td>ultra</td>\n",
       "      <td>1000</td>\n",
       "      <td>30720</td>\n",
       "      <td>3000</td>\n",
       "      <td>1950</td>\n",
       "      <td>150</td>\n",
       "      <td>1</td>\n",
       "      <td>1</td>\n",
       "    </tr>\n",
       "    <tr>\n",
       "      <th>3</th>\n",
       "      <td>1000</td>\n",
       "      <td>8</td>\n",
       "      <td>52</td>\n",
       "      <td>408</td>\n",
       "      <td>81</td>\n",
       "      <td>14055.93</td>\n",
       "      <td>52</td>\n",
       "      <td>NaT</td>\n",
       "      <td>Краснодар</td>\n",
       "      <td>Рафаил</td>\n",
       "      <td>Верещагин</td>\n",
       "      <td>2018-05-25</td>\n",
       "      <td>ultra</td>\n",
       "      <td>1000</td>\n",
       "      <td>30720</td>\n",
       "      <td>3000</td>\n",
       "      <td>1950</td>\n",
       "      <td>150</td>\n",
       "      <td>1</td>\n",
       "      <td>1</td>\n",
       "    </tr>\n",
       "    <tr>\n",
       "      <th>4</th>\n",
       "      <td>1000</td>\n",
       "      <td>9</td>\n",
       "      <td>58</td>\n",
       "      <td>466</td>\n",
       "      <td>57</td>\n",
       "      <td>14568.91</td>\n",
       "      <td>52</td>\n",
       "      <td>NaT</td>\n",
       "      <td>Краснодар</td>\n",
       "      <td>Рафаил</td>\n",
       "      <td>Верещагин</td>\n",
       "      <td>2018-05-25</td>\n",
       "      <td>ultra</td>\n",
       "      <td>1000</td>\n",
       "      <td>30720</td>\n",
       "      <td>3000</td>\n",
       "      <td>1950</td>\n",
       "      <td>150</td>\n",
       "      <td>1</td>\n",
       "      <td>1</td>\n",
       "    </tr>\n",
       "  </tbody>\n",
       "</table>\n",
       "</div>"
      ],
      "text/plain": [
       "   user_id  month  calls_count  calls_sum  messages_sum  internet_sum  age  \\\n",
       "0     1000      5           22        159            22       2253.49   52   \n",
       "1     1000      6           43        172            60      23233.77   52   \n",
       "2     1000      7           47        340            75      14003.64   52   \n",
       "3     1000      8           52        408            81      14055.93   52   \n",
       "4     1000      9           58        466            57      14568.91   52   \n",
       "\n",
       "  churn_date       city first_name  last_name   reg_date tariff  \\\n",
       "0        NaT  Краснодар     Рафаил  Верещагин 2018-05-25  ultra   \n",
       "1        NaT  Краснодар     Рафаил  Верещагин 2018-05-25  ultra   \n",
       "2        NaT  Краснодар     Рафаил  Верещагин 2018-05-25  ultra   \n",
       "3        NaT  Краснодар     Рафаил  Верещагин 2018-05-25  ultra   \n",
       "4        NaT  Краснодар     Рафаил  Верещагин 2018-05-25  ultra   \n",
       "\n",
       "   messages_included  mb_per_month_included  minutes_included  \\\n",
       "0               1000                  30720              3000   \n",
       "1               1000                  30720              3000   \n",
       "2               1000                  30720              3000   \n",
       "3               1000                  30720              3000   \n",
       "4               1000                  30720              3000   \n",
       "\n",
       "   rub_monthly_fee  rub_per_gb  rub_per_message  rub_per_minute  \n",
       "0             1950         150                1               1  \n",
       "1             1950         150                1               1  \n",
       "2             1950         150                1               1  \n",
       "3             1950         150                1               1  \n",
       "4             1950         150                1               1  "
      ]
     },
     "execution_count": 31,
     "metadata": {},
     "output_type": "execute_result"
    }
   ],
   "source": [
    "user_data.head()"
   ]
  },
  {
   "cell_type": "markdown",
   "id": "afb74a31",
   "metadata": {},
   "source": [
    "Таблица user_data для подсчета помесячной выручки с каждого пользователя подготовлена"
   ]
  },
  {
   "cell_type": "markdown",
   "id": "b959afee",
   "metadata": {},
   "source": [
    "2.8.2 Посчитаем для каждого пользователя:\n",
    "\n",
    "• помесячную выручку с каждого пользователя (вычтите бесплатный лимит из суммарного количества звонков, сообщений и интернет-трафика; остаток умножьте на значение из тарифного плана; прибавьте абонентскую плату, соответствующую тарифному плану)"
   ]
  },
  {
   "cell_type": "code",
   "execution_count": 32,
   "id": "de00c990",
   "metadata": {},
   "outputs": [],
   "source": [
    "def revenue_over_limit(row):\n",
    "    min = (row['calls_sum'] - row['minutes_included']) * row['rub_per_minute']\n",
    "    sms = (row['messages_sum'] - row['messages_included']) * row['rub_per_message']\n",
    "    gb = np.ceil((row['internet_sum'] - row['mb_per_month_included']) / 1024) * row['rub_per_gb']\n",
    "    total = 0\n",
    "    for i in [min, sms, gb]:\n",
    "        if i > 0:\n",
    "            total += i\n",
    "    return total"
   ]
  },
  {
   "cell_type": "code",
   "execution_count": 33,
   "id": "a8f4c9f4",
   "metadata": {},
   "outputs": [],
   "source": [
    "user_data['revenue_over_limit'] = user_data.apply(lambda x: revenue_over_limit(x), axis=1)"
   ]
  },
  {
   "cell_type": "code",
   "execution_count": 34,
   "id": "d1a9f4a6",
   "metadata": {},
   "outputs": [],
   "source": [
    "user_data['revenue_total'] = user_data['revenue_over_limit'] + user_data['rub_monthly_fee']"
   ]
  },
  {
   "cell_type": "code",
   "execution_count": 35,
   "id": "7778aee7",
   "metadata": {},
   "outputs": [
    {
     "data": {
      "text/html": [
       "<div>\n",
       "<style scoped>\n",
       "    .dataframe tbody tr th:only-of-type {\n",
       "        vertical-align: middle;\n",
       "    }\n",
       "\n",
       "    .dataframe tbody tr th {\n",
       "        vertical-align: top;\n",
       "    }\n",
       "\n",
       "    .dataframe thead th {\n",
       "        text-align: right;\n",
       "    }\n",
       "</style>\n",
       "<table border=\"1\" class=\"dataframe\">\n",
       "  <thead>\n",
       "    <tr style=\"text-align: right;\">\n",
       "      <th></th>\n",
       "      <th>user_id</th>\n",
       "      <th>month</th>\n",
       "      <th>calls_count</th>\n",
       "      <th>calls_sum</th>\n",
       "      <th>messages_sum</th>\n",
       "      <th>internet_sum</th>\n",
       "      <th>age</th>\n",
       "      <th>churn_date</th>\n",
       "      <th>city</th>\n",
       "      <th>first_name</th>\n",
       "      <th>...</th>\n",
       "      <th>tariff</th>\n",
       "      <th>messages_included</th>\n",
       "      <th>mb_per_month_included</th>\n",
       "      <th>minutes_included</th>\n",
       "      <th>rub_monthly_fee</th>\n",
       "      <th>rub_per_gb</th>\n",
       "      <th>rub_per_message</th>\n",
       "      <th>rub_per_minute</th>\n",
       "      <th>revenue_over_limit</th>\n",
       "      <th>revenue_total</th>\n",
       "    </tr>\n",
       "  </thead>\n",
       "  <tbody>\n",
       "    <tr>\n",
       "      <th>1793</th>\n",
       "      <td>1286</td>\n",
       "      <td>12</td>\n",
       "      <td>95</td>\n",
       "      <td>739</td>\n",
       "      <td>68</td>\n",
       "      <td>35108.07</td>\n",
       "      <td>19</td>\n",
       "      <td>NaT</td>\n",
       "      <td>Москва</td>\n",
       "      <td>Рашид</td>\n",
       "      <td>...</td>\n",
       "      <td>smart</td>\n",
       "      <td>50</td>\n",
       "      <td>15360</td>\n",
       "      <td>500</td>\n",
       "      <td>550</td>\n",
       "      <td>200</td>\n",
       "      <td>3</td>\n",
       "      <td>3</td>\n",
       "      <td>4771.0</td>\n",
       "      <td>5321.0</td>\n",
       "    </tr>\n",
       "    <tr>\n",
       "      <th>1622</th>\n",
       "      <td>1261</td>\n",
       "      <td>12</td>\n",
       "      <td>141</td>\n",
       "      <td>1074</td>\n",
       "      <td>22</td>\n",
       "      <td>32650.91</td>\n",
       "      <td>46</td>\n",
       "      <td>NaT</td>\n",
       "      <td>Казань</td>\n",
       "      <td>Мадина</td>\n",
       "      <td>...</td>\n",
       "      <td>smart</td>\n",
       "      <td>50</td>\n",
       "      <td>15360</td>\n",
       "      <td>500</td>\n",
       "      <td>550</td>\n",
       "      <td>200</td>\n",
       "      <td>3</td>\n",
       "      <td>3</td>\n",
       "      <td>5122.0</td>\n",
       "      <td>5672.0</td>\n",
       "    </tr>\n",
       "    <tr>\n",
       "      <th>3105</th>\n",
       "      <td>1486</td>\n",
       "      <td>11</td>\n",
       "      <td>108</td>\n",
       "      <td>764</td>\n",
       "      <td>96</td>\n",
       "      <td>36266.11</td>\n",
       "      <td>35</td>\n",
       "      <td>NaT</td>\n",
       "      <td>Нижний Новгород</td>\n",
       "      <td>Матвей</td>\n",
       "      <td>...</td>\n",
       "      <td>smart</td>\n",
       "      <td>50</td>\n",
       "      <td>15360</td>\n",
       "      <td>500</td>\n",
       "      <td>550</td>\n",
       "      <td>200</td>\n",
       "      <td>3</td>\n",
       "      <td>3</td>\n",
       "      <td>5130.0</td>\n",
       "      <td>5680.0</td>\n",
       "    </tr>\n",
       "    <tr>\n",
       "      <th>260</th>\n",
       "      <td>1042</td>\n",
       "      <td>12</td>\n",
       "      <td>121</td>\n",
       "      <td>728</td>\n",
       "      <td>75</td>\n",
       "      <td>37165.69</td>\n",
       "      <td>42</td>\n",
       "      <td>NaT</td>\n",
       "      <td>Хабаровск</td>\n",
       "      <td>Константин</td>\n",
       "      <td>...</td>\n",
       "      <td>smart</td>\n",
       "      <td>50</td>\n",
       "      <td>15360</td>\n",
       "      <td>500</td>\n",
       "      <td>550</td>\n",
       "      <td>200</td>\n",
       "      <td>3</td>\n",
       "      <td>3</td>\n",
       "      <td>5159.0</td>\n",
       "      <td>5709.0</td>\n",
       "    </tr>\n",
       "    <tr>\n",
       "      <th>3106</th>\n",
       "      <td>1486</td>\n",
       "      <td>12</td>\n",
       "      <td>133</td>\n",
       "      <td>1007</td>\n",
       "      <td>83</td>\n",
       "      <td>38552.45</td>\n",
       "      <td>35</td>\n",
       "      <td>NaT</td>\n",
       "      <td>Нижний Новгород</td>\n",
       "      <td>Матвей</td>\n",
       "      <td>...</td>\n",
       "      <td>smart</td>\n",
       "      <td>50</td>\n",
       "      <td>15360</td>\n",
       "      <td>500</td>\n",
       "      <td>550</td>\n",
       "      <td>200</td>\n",
       "      <td>3</td>\n",
       "      <td>3</td>\n",
       "      <td>6220.0</td>\n",
       "      <td>6770.0</td>\n",
       "    </tr>\n",
       "  </tbody>\n",
       "</table>\n",
       "<p>5 rows × 22 columns</p>\n",
       "</div>"
      ],
      "text/plain": [
       "      user_id  month  calls_count  calls_sum  messages_sum  internet_sum  age  \\\n",
       "1793     1286     12           95        739            68      35108.07   19   \n",
       "1622     1261     12          141       1074            22      32650.91   46   \n",
       "3105     1486     11          108        764            96      36266.11   35   \n",
       "260      1042     12          121        728            75      37165.69   42   \n",
       "3106     1486     12          133       1007            83      38552.45   35   \n",
       "\n",
       "     churn_date             city  first_name  ... tariff messages_included  \\\n",
       "1793        NaT           Москва       Рашид  ...  smart                50   \n",
       "1622        NaT           Казань      Мадина  ...  smart                50   \n",
       "3105        NaT  Нижний Новгород      Матвей  ...  smart                50   \n",
       "260         NaT        Хабаровск  Константин  ...  smart                50   \n",
       "3106        NaT  Нижний Новгород      Матвей  ...  smart                50   \n",
       "\n",
       "     mb_per_month_included  minutes_included  rub_monthly_fee  rub_per_gb  \\\n",
       "1793                 15360               500              550         200   \n",
       "1622                 15360               500              550         200   \n",
       "3105                 15360               500              550         200   \n",
       "260                  15360               500              550         200   \n",
       "3106                 15360               500              550         200   \n",
       "\n",
       "      rub_per_message  rub_per_minute  revenue_over_limit  revenue_total  \n",
       "1793                3               3              4771.0         5321.0  \n",
       "1622                3               3              5122.0         5672.0  \n",
       "3105                3               3              5130.0         5680.0  \n",
       "260                 3               3              5159.0         5709.0  \n",
       "3106                3               3              6220.0         6770.0  \n",
       "\n",
       "[5 rows x 22 columns]"
      ]
     },
     "execution_count": 35,
     "metadata": {},
     "output_type": "execute_result"
    }
   ],
   "source": [
    "user_data.sort_values(by='revenue_total').tail()"
   ]
  },
  {
   "cell_type": "markdown",
   "id": "8bc7ae66",
   "metadata": {},
   "source": [
    "Посчитали для каждого пользователя помесячную выручку в соответствии с тарифным планом"
   ]
  },
  {
   "cell_type": "markdown",
   "id": "3e2ba3aa",
   "metadata": {},
   "source": [
    "### Выводы по подготовке данных\n",
    "\n",
    "1. Выполнена подготовка данных в таблице users:\n",
    " \n",
    "- тип данных в столбцах reg_date и churn_date заменены на datetime\n",
    " \n",
    "2. Выполнена подготовка данных в таблице calls:\n",
    "\n",
    "- тип данных в столбце call_date заменен на datetime\n",
    "\n",
    "- в столбце duration выполнено округление данных в большую сторону и преобразованы в целочисленный тип int\n",
    "\n",
    "- добавлен дополнительный столбец month.\n",
    "\n",
    "3. Выполнена подготовка данных в таблице messages:\n",
    "\n",
    "- тип данных в столбце message_date заменены на datetime\n",
    "\n",
    "- добавлен дополнительный столбец month\n",
    "\n",
    "4. Выполнена подготовка данных в таблице internet:\n",
    "\n",
    "- удалили появившийся ненужный столбец Unnamed: 0\n",
    "\n",
    "- тип данных в столбце session_date заменен на datetime\n",
    "\n",
    "- добавлен дополнительный столбец month\n",
    "\n",
    "5. Посчитали для каждого пользователя:\n",
    "\n",
    "- количество сделанных звонков и израсходованных минут разговора по месяцам в таблице user_calls\n",
    "\n",
    "- количество отправленных сообщений по месяцам в таблице user_messages\n",
    "\n",
    "- объем израсходованного интернет-трафика по месяцам в таблице user_internet\n",
    "\n",
    "6. Подготовили таблицу user_data для подсчета помесячной выручки с каждого пользователя:\n",
    "\n",
    "- командой merge в таблицу user_data выполнили объединение таблиц user_calls, user_messages, user_internet, users и tariffs   \n",
    "\n",
    "- в таблице user_data отсутствующие значения по месяцам в столбцах количество сделанных звонков calls_count, израсходованные минуты разговора calls_sum, количество отправленных сообщений messages_sum, объем израсходованного интернет-трафика internet_sum заменили нулями\n",
    "\n",
    "- данные в столбцах calls_count, calls_sum, messages_sum, internet_sum приведены к типу int\n",
    "\n",
    "7. Посчитали для каждого пользователя:\n",
    "\n",
    "- помесячную выручку с каждого пользователя в соответствии с тарифном планом"
   ]
  },
  {
   "cell_type": "markdown",
   "id": "cb8a22d7",
   "metadata": {},
   "source": [
    "## Шаг 3. Проанализируйте данные"
   ]
  },
  {
   "cell_type": "markdown",
   "id": "62da254d",
   "metadata": {},
   "source": [
    "Опишите поведение клиентов оператора, исходя из выборки. Сколько минут разговора, сколько сообщений и какой объём интернет-трафика требуется пользователям каждого тарифа в месяц? Посчитайте среднее количество, дисперсию и стандартное отклонение. Постройте гистограммы. Опишите распределения."
   ]
  },
  {
   "cell_type": "markdown",
   "id": "9a0eca93",
   "metadata": {},
   "source": [
    "3.1 Посмотрим как распределены пользователи по тарифным планам"
   ]
  },
  {
   "cell_type": "code",
   "execution_count": 36,
   "id": "645ba1ae",
   "metadata": {},
   "outputs": [
    {
     "data": {
      "text/plain": [
       "smart    2229\n",
       "ultra     985\n",
       "Name: tariff, dtype: int64"
      ]
     },
     "execution_count": 36,
     "metadata": {},
     "output_type": "execute_result"
    }
   ],
   "source": [
    "user_data['tariff'].value_counts()"
   ]
  },
  {
   "cell_type": "code",
   "execution_count": 37,
   "id": "4a458f72",
   "metadata": {},
   "outputs": [
    {
     "name": "stdout",
     "output_type": "stream",
     "text": [
      "Всего пользователей = 3214\n",
      "Количество пользователей тарифа smart = 2229\n",
      "Процент пользователей тарифа smart = 69.35%\n",
      "Количество пользователей тарифа ultra = 985\n",
      "Процент пользователей тарифа ultra = 30.65%\n"
     ]
    }
   ],
   "source": [
    "user_all = user_data['user_id'].count()\n",
    "user_data_smart = user_data[user_data['tariff'] == 'smart']\n",
    "user_data_ultra = user_data[user_data['tariff'] == 'ultra']\n",
    "print(f'Всего пользователей = {user_all}')\n",
    "print(f'Количество пользователей тарифа smart = {len(user_data_smart)}')\n",
    "print(f'Процент пользователей тарифа smart = {len(user_data_smart)/len(user_data):,.2%}')\n",
    "print(f'Количество пользователей тарифа ultra = {len(user_data_ultra)}')\n",
    "print(f'Процент пользователей тарифа ultra = {len(user_data_ultra)/len(user_data):,.2%}') "
   ]
  },
  {
   "cell_type": "code",
   "execution_count": 38,
   "id": "13dd076e",
   "metadata": {},
   "outputs": [
    {
     "name": "stdout",
     "output_type": "stream",
     "text": [
      "Выручка всех пользователей = 4914451.0\n",
      "Выручка пользователей тарифа smart = 2875351.0\n",
      "Процент выручки от пользователей тарифа smart = 58.51%\n",
      "Выручка пользователей тарифа ultra = 2039100.0\n",
      "Процент выручки от пользователей тарифа ultra = 41.49%\n"
     ]
    }
   ],
   "source": [
    "user_all_revenue = user_data['revenue_total'].sum()\n",
    "user_data_revenue_smart = user_data[user_data['tariff'] == 'smart']['revenue_total'].sum()\n",
    "user_data_revenue_ultra = user_data[user_data['tariff'] == 'ultra']['revenue_total'].sum()\n",
    "print(f'Выручка всех пользователей = {user_all_revenue}')\n",
    "print(f'Выручка пользователей тарифа smart = {user_data_revenue_smart}')\n",
    "print(f'Процент выручки от пользователей тарифа smart = {user_data_revenue_smart/user_all_revenue:,.2%}')\n",
    "print(f'Выручка пользователей тарифа ultra = {user_data_revenue_ultra}')\n",
    "print(f'Процент выручки от пользователей тарифа ultra = {user_data_revenue_ultra/user_all_revenue:,.2%}') "
   ]
  },
  {
   "cell_type": "code",
   "execution_count": 39,
   "id": "ea60fdaa",
   "metadata": {},
   "outputs": [
    {
     "data": {
      "text/plain": [
       "<AxesSubplot:ylabel='Frequency'>"
      ]
     },
     "execution_count": 39,
     "metadata": {},
     "output_type": "execute_result"
    },
    {
     "data": {
      "image/png": "[encoded data removed]",
      "text/plain": [
       "<Figure size 432x288 with 1 Axes>"
      ]
     },
     "metadata": {
      "needs_background": "light"
     },
     "output_type": "display_data"
    }
   ],
   "source": [
    "user_data[user_data['tariff'] == 'smart']['revenue_total'].plot(kind='hist', bins=10)"
   ]
  },
  {
   "cell_type": "code",
   "execution_count": 40,
   "id": "be643d25",
   "metadata": {},
   "outputs": [
    {
     "data": {
      "text/plain": [
       "<AxesSubplot:ylabel='Frequency'>"
      ]
     },
     "execution_count": 40,
     "metadata": {},
     "output_type": "execute_result"
    },
    {
     "data": {
      "image/png": "[encoded data removed]",
      "text/plain": [
       "<Figure size 432x288 with 1 Axes>"
      ]
     },
     "metadata": {
      "needs_background": "light"
     },
     "output_type": "display_data"
    }
   ],
   "source": [
    "user_data[user_data['tariff'] == 'ultra']['revenue_total'].plot(kind='hist', bins=10)"
   ]
  },
  {
   "cell_type": "code",
   "execution_count": 41,
   "id": "499c8d8c",
   "metadata": {},
   "outputs": [
    {
     "data": {
      "text/html": [
       "<style type=\"text/css\">\n",
       "</style>\n",
       "<table id=\"T_278b8_\">\n",
       "  <thead>\n",
       "    <tr>\n",
       "      <th class=\"blank level0\" >&nbsp;</th>\n",
       "      <th class=\"col_heading level0 col0\" colspan=\"4\">revenue_total</th>\n",
       "    </tr>\n",
       "    <tr>\n",
       "      <th class=\"blank level1\" >&nbsp;</th>\n",
       "      <th class=\"col_heading level1 col0\" >median</th>\n",
       "      <th class=\"col_heading level1 col1\" >mean</th>\n",
       "      <th class=\"col_heading level1 col2\" >var</th>\n",
       "      <th class=\"col_heading level1 col3\" >std</th>\n",
       "    </tr>\n",
       "    <tr>\n",
       "      <th class=\"index_name level0\" >tariff</th>\n",
       "      <th class=\"blank col0\" >&nbsp;</th>\n",
       "      <th class=\"blank col1\" >&nbsp;</th>\n",
       "      <th class=\"blank col2\" >&nbsp;</th>\n",
       "      <th class=\"blank col3\" >&nbsp;</th>\n",
       "    </tr>\n",
       "  </thead>\n",
       "  <tbody>\n",
       "    <tr>\n",
       "      <th id=\"T_278b8_level0_row0\" class=\"row_heading level0 row0\" >smart</th>\n",
       "      <td id=\"T_278b8_row0_col0\" class=\"data row0 col0\" >1023.00</td>\n",
       "      <td id=\"T_278b8_row0_col1\" class=\"data row0 col1\" >1289.97</td>\n",
       "      <td id=\"T_278b8_row0_col2\" class=\"data row0 col2\" >669785.71</td>\n",
       "      <td id=\"T_278b8_row0_col3\" class=\"data row0 col3\" >818.40</td>\n",
       "    </tr>\n",
       "    <tr>\n",
       "      <th id=\"T_278b8_level0_row1\" class=\"row_heading level0 row1\" >ultra</th>\n",
       "      <td id=\"T_278b8_row1_col0\" class=\"data row1 col0\" >1950.00</td>\n",
       "      <td id=\"T_278b8_row1_col1\" class=\"data row1 col1\" >2070.15</td>\n",
       "      <td id=\"T_278b8_row1_col2\" class=\"data row1 col2\" >141516.75</td>\n",
       "      <td id=\"T_278b8_row1_col3\" class=\"data row1 col3\" >376.19</td>\n",
       "    </tr>\n",
       "  </tbody>\n",
       "</table>\n"
      ],
      "text/plain": [
       "<pandas.io.formats.style.Styler at 0x1c100114fd0>"
      ]
     },
     "execution_count": 41,
     "metadata": {},
     "output_type": "execute_result"
    }
   ],
   "source": [
    "user_data.groupby('tariff')\\\n",
    "         .agg({'revenue_total':['median','mean','var','std']})\\\n",
    "         .style.format(\"{:.2f}\")"
   ]
  },
  {
   "cell_type": "code",
   "execution_count": 42,
   "id": "d9fee7d2",
   "metadata": {},
   "outputs": [
    {
     "data": {
      "text/plain": [
       "count    2229.000000\n",
       "mean     1289.973531\n",
       "std       818.404367\n",
       "min       550.000000\n",
       "25%       550.000000\n",
       "50%      1023.000000\n",
       "75%      1750.000000\n",
       "max      6770.000000\n",
       "Name: revenue_total, dtype: float64"
      ]
     },
     "metadata": {},
     "output_type": "display_data"
    }
   ],
   "source": [
    "display(user_data[user_data['tariff'] == 'smart']['revenue_total'].describe())"
   ]
  },
  {
   "cell_type": "code",
   "execution_count": 43,
   "id": "a064f5c2",
   "metadata": {},
   "outputs": [
    {
     "data": {
      "text/plain": [
       "count     985.000000\n",
       "mean     2070.152284\n",
       "std       376.187114\n",
       "min      1950.000000\n",
       "25%      1950.000000\n",
       "50%      1950.000000\n",
       "75%      1950.000000\n",
       "max      4800.000000\n",
       "Name: revenue_total, dtype: float64"
      ]
     },
     "metadata": {},
     "output_type": "display_data"
    }
   ],
   "source": [
    "display(user_data[user_data['tariff'] == 'ultra']['revenue_total'].describe())"
   ]
  },
  {
   "cell_type": "markdown",
   "id": "58755338",
   "metadata": {},
   "source": [
    "На тарифе smart 69.35% процентов пользователей, и только 30.65% - на ultra.  При этом пользователи тарифа ultra являются более доходными для сотового оператора, и приносят 41.49% выручки компании. Пользователи тарифа smart приносят 58.51% выручки компании.  \n",
    "\n",
    "На тарифе ultra ежемесячная плата 1950 рублей и пользователи стараются укладываются в ежемесячную плату. На тарифе smart ежемесячная плата 550 рублей и это почти в 4 раза ниже, но меньше включено минут разговора, сообщений и интернет-трафика, и пользователи тарифа чаще платят сверх установленных лимитов в ежемесячной плате. Но даже при этом в среднем пользователи тарифа smart платят в 1,6 раза меньше пользователей тарифа ultra. Наверно поэтому тарифный план smart более прикательный для пользователей. "
   ]
  },
  {
   "cell_type": "markdown",
   "id": "d4acfff2",
   "metadata": {},
   "source": [
    "3.2 Опишите поведение клиентов оператора, исходя из выборки. Сколько минут разговора требуется пользователям каждого тарифа в месяц? Посчитайте среднее количество, дисперсию и стандартное отклонение. Постройте гистограммы. Опишите распределения."
   ]
  },
  {
   "cell_type": "code",
   "execution_count": 44,
   "id": "901e06f3",
   "metadata": {},
   "outputs": [
    {
     "data": {
      "text/html": [
       "<style type=\"text/css\">\n",
       "</style>\n",
       "<table id=\"T_b0635_\">\n",
       "  <thead>\n",
       "    <tr>\n",
       "      <th class=\"blank level0\" >&nbsp;</th>\n",
       "      <th class=\"col_heading level0 col0\" colspan=\"4\">calls_sum</th>\n",
       "    </tr>\n",
       "    <tr>\n",
       "      <th class=\"blank level1\" >&nbsp;</th>\n",
       "      <th class=\"col_heading level1 col0\" >median</th>\n",
       "      <th class=\"col_heading level1 col1\" >mean</th>\n",
       "      <th class=\"col_heading level1 col2\" >var</th>\n",
       "      <th class=\"col_heading level1 col3\" >std</th>\n",
       "    </tr>\n",
       "    <tr>\n",
       "      <th class=\"index_name level0\" >tariff</th>\n",
       "      <th class=\"blank col0\" >&nbsp;</th>\n",
       "      <th class=\"blank col1\" >&nbsp;</th>\n",
       "      <th class=\"blank col2\" >&nbsp;</th>\n",
       "      <th class=\"blank col3\" >&nbsp;</th>\n",
       "    </tr>\n",
       "  </thead>\n",
       "  <tbody>\n",
       "    <tr>\n",
       "      <th id=\"T_b0635_level0_row0\" class=\"row_heading level0 row0\" >smart</th>\n",
       "      <td id=\"T_b0635_row0_col0\" class=\"data row0 col0\" >422.00</td>\n",
       "      <td id=\"T_b0635_row0_col1\" class=\"data row0 col1\" >417.93</td>\n",
       "      <td id=\"T_b0635_row0_col2\" class=\"data row0 col2\" >36219.32</td>\n",
       "      <td id=\"T_b0635_row0_col3\" class=\"data row0 col3\" >190.31</td>\n",
       "    </tr>\n",
       "    <tr>\n",
       "      <th id=\"T_b0635_level0_row1\" class=\"row_heading level0 row1\" >ultra</th>\n",
       "      <td id=\"T_b0635_row1_col0\" class=\"data row1 col0\" >518.00</td>\n",
       "      <td id=\"T_b0635_row1_col1\" class=\"data row1 col1\" >526.62</td>\n",
       "      <td id=\"T_b0635_row1_col2\" class=\"data row1 col2\" >100873.63</td>\n",
       "      <td id=\"T_b0635_row1_col3\" class=\"data row1 col3\" >317.61</td>\n",
       "    </tr>\n",
       "  </tbody>\n",
       "</table>\n"
      ],
      "text/plain": [
       "<pandas.io.formats.style.Styler at 0x1c1002965e0>"
      ]
     },
     "execution_count": 44,
     "metadata": {},
     "output_type": "execute_result"
    }
   ],
   "source": [
    "user_data.groupby('tariff')\\\n",
    "         .agg({'calls_sum':['median','mean','var','std']})\\\n",
    "         .style.format(\"{:.2f}\")"
   ]
  },
  {
   "cell_type": "code",
   "execution_count": 45,
   "id": "98ea2843",
   "metadata": {},
   "outputs": [
    {
     "data": {
      "text/plain": [
       "Text(0, 0.5, 'количество')"
      ]
     },
     "execution_count": 45,
     "metadata": {},
     "output_type": "execute_result"
    },
    {
     "data": {
      "image/png": "[encoded data removed]",
      "text/plain": [
       "<Figure size 432x288 with 1 Axes>"
      ]
     },
     "metadata": {
      "needs_background": "light"
     },
     "output_type": "display_data"
    }
   ],
   "source": [
    "user_data[user_data['tariff'] == 'smart']['calls_sum'].plot(kind='hist', bins=10)\n",
    "plt.title('smart — количество минут разговора в месяц')\n",
    "plt.xlabel('минуты')\n",
    "plt.ylabel('количество')"
   ]
  },
  {
   "cell_type": "code",
   "execution_count": 46,
   "id": "613bdc4e",
   "metadata": {},
   "outputs": [
    {
     "data": {
      "text/plain": [
       "Text(0, 0.5, 'количество')"
      ]
     },
     "execution_count": 46,
     "metadata": {},
     "output_type": "execute_result"
    },
    {
     "data": {
      "image/png": "[encoded data removed]",
      "text/plain": [
       "<Figure size 432x288 with 1 Axes>"
      ]
     },
     "metadata": {
      "needs_background": "light"
     },
     "output_type": "display_data"
    }
   ],
   "source": [
    "user_data[user_data['tariff'] == 'ultra']['calls_sum'].plot(kind='hist', bins=10)\n",
    "plt.title('ultra — количество минут разговора в месяц')\n",
    "plt.xlabel('минуты')\n",
    "plt.ylabel('количество')"
   ]
  },
  {
   "cell_type": "markdown",
   "id": "100c6fb7",
   "metadata": {},
   "source": [
    "Тариф smart включает 500 минут разговора в месяц, и пользователи тарифа разговаривают в месяц в среднем 418 минут. Тариф ultra включает 3000 минут разговора в месяц, а пользователи тарифа разговаривают в месяц в среднем только 527 минут. Остается большой запас неиспользованных минут разговоров в месяц. Распределения количества в минут разговоров в месяц на двух тарифах нормальное. Больших выбросов данных нет, медиана и среднее находятся рядом."
   ]
  },
  {
   "cell_type": "markdown",
   "id": "9493f81d",
   "metadata": {},
   "source": [
    "3.3 Опишите поведение клиентов оператора, исходя из выборки. Сколько сообщений требуется пользователям каждого тарифа в месяц? Посчитайте среднее количество, дисперсию и стандартное отклонение. Постройте гистограммы. Опишите распределения."
   ]
  },
  {
   "cell_type": "code",
   "execution_count": 47,
   "id": "d93c28cd",
   "metadata": {},
   "outputs": [
    {
     "data": {
      "text/html": [
       "<style type=\"text/css\">\n",
       "</style>\n",
       "<table id=\"T_2bf80_\">\n",
       "  <thead>\n",
       "    <tr>\n",
       "      <th class=\"blank level0\" >&nbsp;</th>\n",
       "      <th class=\"col_heading level0 col0\" colspan=\"4\">messages_sum</th>\n",
       "    </tr>\n",
       "    <tr>\n",
       "      <th class=\"blank level1\" >&nbsp;</th>\n",
       "      <th class=\"col_heading level1 col0\" >median</th>\n",
       "      <th class=\"col_heading level1 col1\" >mean</th>\n",
       "      <th class=\"col_heading level1 col2\" >var</th>\n",
       "      <th class=\"col_heading level1 col3\" >std</th>\n",
       "    </tr>\n",
       "    <tr>\n",
       "      <th class=\"index_name level0\" >tariff</th>\n",
       "      <th class=\"blank col0\" >&nbsp;</th>\n",
       "      <th class=\"blank col1\" >&nbsp;</th>\n",
       "      <th class=\"blank col2\" >&nbsp;</th>\n",
       "      <th class=\"blank col3\" >&nbsp;</th>\n",
       "    </tr>\n",
       "  </thead>\n",
       "  <tbody>\n",
       "    <tr>\n",
       "      <th id=\"T_2bf80_level0_row0\" class=\"row_heading level0 row0\" >smart</th>\n",
       "      <td id=\"T_2bf80_row0_col0\" class=\"data row0 col0\" >28.00</td>\n",
       "      <td id=\"T_2bf80_row0_col1\" class=\"data row0 col1\" >33.38</td>\n",
       "      <td id=\"T_2bf80_row0_col2\" class=\"data row0 col2\" >796.81</td>\n",
       "      <td id=\"T_2bf80_row0_col3\" class=\"data row0 col3\" >28.23</td>\n",
       "    </tr>\n",
       "    <tr>\n",
       "      <th id=\"T_2bf80_level0_row1\" class=\"row_heading level0 row1\" >ultra</th>\n",
       "      <td id=\"T_2bf80_row1_col0\" class=\"data row1 col0\" >38.00</td>\n",
       "      <td id=\"T_2bf80_row1_col1\" class=\"data row1 col1\" >49.36</td>\n",
       "      <td id=\"T_2bf80_row1_col2\" class=\"data row1 col2\" >2285.27</td>\n",
       "      <td id=\"T_2bf80_row1_col3\" class=\"data row1 col3\" >47.80</td>\n",
       "    </tr>\n",
       "  </tbody>\n",
       "</table>\n"
      ],
      "text/plain": [
       "<pandas.io.formats.style.Styler at 0x1c10003b4f0>"
      ]
     },
     "execution_count": 47,
     "metadata": {},
     "output_type": "execute_result"
    }
   ],
   "source": [
    "user_data.groupby('tariff')\\\n",
    "         .agg({'messages_sum':['median','mean','var','std']})\\\n",
    "         .style.format(\"{:.2f}\")"
   ]
  },
  {
   "cell_type": "code",
   "execution_count": 48,
   "id": "a4292f56",
   "metadata": {},
   "outputs": [
    {
     "data": {
      "text/plain": [
       "Text(0, 0.5, 'количество')"
      ]
     },
     "execution_count": 48,
     "metadata": {},
     "output_type": "execute_result"
    },
    {
     "data": {
      "image/png": "[encoded data removed]",
      "text/plain": [
       "<Figure size 432x288 with 1 Axes>"
      ]
     },
     "metadata": {
      "needs_background": "light"
     },
     "output_type": "display_data"
    }
   ],
   "source": [
    "user_data[user_data['tariff'] == 'smart']['messages_sum'].plot(kind='hist', bins=10)\n",
    "plt.title('smart — количество сообщений в месяц')\n",
    "plt.xlabel('сообщения')\n",
    "plt.ylabel('количество')"
   ]
  },
  {
   "cell_type": "code",
   "execution_count": 49,
   "id": "4ae9aef0",
   "metadata": {},
   "outputs": [
    {
     "data": {
      "text/plain": [
       "Text(0, 0.5, 'количество')"
      ]
     },
     "execution_count": 49,
     "metadata": {},
     "output_type": "execute_result"
    },
    {
     "data": {
      "image/png": "[encoded data removed]",
      "text/plain": [
       "<Figure size 432x288 with 1 Axes>"
      ]
     },
     "metadata": {
      "needs_background": "light"
     },
     "output_type": "display_data"
    }
   ],
   "source": [
    "user_data[user_data['tariff'] == 'ultra']['messages_sum'].plot(kind='hist', bins=10)\n",
    "plt.title('ultra — количество сообщений в месяц')\n",
    "plt.xlabel('сообщения')\n",
    "plt.ylabel('количество')"
   ]
  },
  {
   "cell_type": "markdown",
   "id": "150fab56",
   "metadata": {},
   "source": [
    "Тариф smart влючает в ежемесячную плату 50 сообщений в месяц, и пользователи тарифа отправляют в месяц в средем 34 сообщения. Тариф ultra включает 1000 сообщений в месяц, и пользователи тарифа отправляют в месяц в средем только 50 сообщений. Остается большой запас неиспользованных сообщений в месяц. Распределения количества сообщений в месяц на двух тарифах Пуассона. Разброс данных есть, медиана и среднее более отличаются, чем при минутах разговоров."
   ]
  },
  {
   "cell_type": "markdown",
   "id": "feff0494",
   "metadata": {},
   "source": [
    "3.4 Опишите поведение клиентов оператора, исходя из выборки. Какой объём интернет-трафика требуется пользователям каждого тарифа в месяц? Посчитайте среднее количество, дисперсию и стандартное отклонение. Постройте гистограммы. Опишите распределения."
   ]
  },
  {
   "cell_type": "code",
   "execution_count": 50,
   "id": "b53ed9c4",
   "metadata": {},
   "outputs": [
    {
     "data": {
      "text/html": [
       "<style type=\"text/css\">\n",
       "</style>\n",
       "<table id=\"T_9933e_\">\n",
       "  <thead>\n",
       "    <tr>\n",
       "      <th class=\"blank level0\" >&nbsp;</th>\n",
       "      <th class=\"col_heading level0 col0\" colspan=\"4\">internet_sum</th>\n",
       "    </tr>\n",
       "    <tr>\n",
       "      <th class=\"blank level1\" >&nbsp;</th>\n",
       "      <th class=\"col_heading level1 col0\" >median</th>\n",
       "      <th class=\"col_heading level1 col1\" >mean</th>\n",
       "      <th class=\"col_heading level1 col2\" >var</th>\n",
       "      <th class=\"col_heading level1 col3\" >std</th>\n",
       "    </tr>\n",
       "    <tr>\n",
       "      <th class=\"index_name level0\" >tariff</th>\n",
       "      <th class=\"blank col0\" >&nbsp;</th>\n",
       "      <th class=\"blank col1\" >&nbsp;</th>\n",
       "      <th class=\"blank col2\" >&nbsp;</th>\n",
       "      <th class=\"blank col3\" >&nbsp;</th>\n",
       "    </tr>\n",
       "  </thead>\n",
       "  <tbody>\n",
       "    <tr>\n",
       "      <th id=\"T_9933e_level0_row0\" class=\"row_heading level0 row0\" >smart</th>\n",
       "      <td id=\"T_9933e_row0_col0\" class=\"data row0 col0\" >16506.84</td>\n",
       "      <td id=\"T_9933e_row0_col1\" class=\"data row0 col1\" >16208.39</td>\n",
       "      <td id=\"T_9933e_row0_col2\" class=\"data row0 col2\" >34462496.46</td>\n",
       "      <td id=\"T_9933e_row0_col3\" class=\"data row0 col3\" >5870.48</td>\n",
       "    </tr>\n",
       "    <tr>\n",
       "      <th id=\"T_9933e_level0_row1\" class=\"row_heading level0 row1\" >ultra</th>\n",
       "      <td id=\"T_9933e_row1_col0\" class=\"data row1 col0\" >19308.01</td>\n",
       "      <td id=\"T_9933e_row1_col1\" class=\"data row1 col1\" >19468.81</td>\n",
       "      <td id=\"T_9933e_row1_col2\" class=\"data row1 col2\" >101751013.78</td>\n",
       "      <td id=\"T_9933e_row1_col3\" class=\"data row1 col3\" >10087.17</td>\n",
       "    </tr>\n",
       "  </tbody>\n",
       "</table>\n"
      ],
      "text/plain": [
       "<pandas.io.formats.style.Styler at 0x1c1013b5d00>"
      ]
     },
     "execution_count": 50,
     "metadata": {},
     "output_type": "execute_result"
    }
   ],
   "source": [
    "user_data.groupby('tariff')\\\n",
    "         .agg({'internet_sum':['median','mean','var','std']})\\\n",
    "         .style.format(\"{:.2f}\")"
   ]
  },
  {
   "cell_type": "code",
   "execution_count": 51,
   "id": "e76ca4ab",
   "metadata": {},
   "outputs": [
    {
     "data": {
      "text/plain": [
       "Text(0, 0.5, 'количество')"
      ]
     },
     "execution_count": 51,
     "metadata": {},
     "output_type": "execute_result"
    },
    {
     "data": {
      "image/png": "[encoded data removed]",
      "text/plain": [
       "<Figure size 432x288 with 1 Axes>"
      ]
     },
     "metadata": {
      "needs_background": "light"
     },
     "output_type": "display_data"
    }
   ],
   "source": [
    "user_data[user_data['tariff'] == 'smart']['internet_sum'].plot(kind='hist', bins=10)\n",
    "plt.title('smart — объём интернет-трафика в месяц')\n",
    "plt.xlabel('объём интернет-трафика (mb)')\n",
    "plt.ylabel('количество')"
   ]
  },
  {
   "cell_type": "code",
   "execution_count": 52,
   "id": "4fc592d6",
   "metadata": {},
   "outputs": [
    {
     "data": {
      "text/plain": [
       "Text(0, 0.5, 'количество')"
      ]
     },
     "execution_count": 52,
     "metadata": {},
     "output_type": "execute_result"
    },
    {
     "data": {
      "image/png": "[encoded data removed]",
      "text/plain": [
       "<Figure size 432x288 with 1 Axes>"
      ]
     },
     "metadata": {
      "needs_background": "light"
     },
     "output_type": "display_data"
    }
   ],
   "source": [
    "user_data[user_data['tariff'] == 'ultra']['internet_sum'].plot(kind='hist', bins=10)\n",
    "plt.title('ultra — объём интернет-трафика в месяц')\n",
    "plt.xlabel('объём интернет-трафика (mb)')\n",
    "plt.ylabel('количество')"
   ]
  },
  {
   "cell_type": "markdown",
   "id": "be7a4d2e",
   "metadata": {},
   "source": [
    "Тариф smart влючает в ежемесячную плату 15 Гб интернет-трафика в месяц, и пользователи тарифа превышают это значение и используют в месяц в средем 16,21 Гб интернет-трафика. Тариф ultra влючает в ежемесячную плату 30 Гб интернет-трафика в месяц, и пользователи тарифа используют в месяц в средем 19,47 Гб интернет-трафика. Остается запас не использованного интернет-трафика в месяц. Распределения объём интернет-трафика в месяц на двух тарифах нормальное. Выбросов в данных нет, медиана и среднее находятся рядом."
   ]
  },
  {
   "cell_type": "markdown",
   "id": "39764790",
   "metadata": {},
   "source": [
    "### Выводы по анализу данных\n",
    "Анализ поведения клиентов оператора на тарифных планах smart и ultra показывает:\n",
    "-\tиз-за более низкой ежемесячной платы более привлекательным для пользователей является тариф smart. Им пользуются 69.35% клиентов оператора. Доля пользователей тарифа ultra - 30.65%;\n",
    "-\tпользователи тарифа ultra являются более доходными для сотового оператора. Всего 30.65% пользователей тарифа ultra приносят 41.49% выручки компании. За счет того, что пользователей тарифа smart значительно больше они приносят компании 58.51% выручки. Это подтверждают и значения средней выручки пользователей каждого тарифа: средняя выручка пользователей тарифа ultra 2070.15 руб., а средняя выручка пользователей тарифа smart в 1,6 раза ниже и составляет 1289.97 руб.;\n",
    "-\tпользователи тарифа smart разговаривают в месяц в среднем 418 минут и не превышают включенный в тариф лимит 500 минут разговора в месяц. Пользователи тарифа ultra разговаривают в месяц в среднем только 527 минут при включенных в ежемесячную плату 3000 минут разговора в месяц. На тарифе ultra остается большой запас неиспользованных минут разговоров в месяц;\n",
    "-\tпользователи тарифов smart и ultra в месяц в среднем не превышают лимиты сообщений, включенные в ежемесячные платы. На тарифе ultra остается большой запас неиспользованных сообщений в месяц;\n",
    "-\tпользователи тарифа smart используют в месяц в среднем 16,21 Гб интернет-трафика и превышают включенный в тариф лимит 15 Гб интернет-трафика в месяц. Тариф ultra включает в ежемесячную плату 30 Гб интернет-трафика в месяц, а пользователи тарифа используют в месяц в среднем 19,47 Гб интернет-трафика. Остается запас неиспользованного интернет-трафика в месяц, не такой значительный как в минутах разговоров и сообщениях. "
   ]
  },
  {
   "cell_type": "markdown",
   "id": "fdd77132",
   "metadata": {},
   "source": [
    "## Шаг 4. Проверьте гипотезы"
   ]
  },
  {
   "cell_type": "markdown",
   "id": "af866fe6",
   "metadata": {},
   "source": [
    "4.1 Проверка гипотезы\n",
    "- средняя выручка пользователей тарифов «Ультра» и «Смарт» различаются"
   ]
  },
  {
   "cell_type": "markdown",
   "id": "1b8b2532",
   "metadata": {},
   "source": [
    "Формируем нулевую и альтернатвную гипотезу: \n",
    "\n",
    "H0: Средняя выручка пользователей тарифов «Ультра» и «Смарт» равны.\n",
    "\n",
    "H1: Средняя выручка пользователей тарифов «Ультра» и «Смарт» различается."
   ]
  },
  {
   "cell_type": "markdown",
   "id": "4d2fd57c",
   "metadata": {},
   "source": [
    "Подготовим данные для проверки гипотезы.\n",
    "\n",
    "Для этого возмем срез данных по каждому тарифу smart и ultra, сгруппируем данные по пользователям и посчитаем среднюю месячную выручку с каждого пользователя"
   ]
  },
  {
   "cell_type": "code",
   "execution_count": 53,
   "id": "dae03567",
   "metadata": {},
   "outputs": [],
   "source": [
    "revenue_smart = user_data[user_data['tariff'] == 'smart']\n",
    "revenue_smart = revenue_smart['revenue_total']"
   ]
  },
  {
   "cell_type": "code",
   "execution_count": 54,
   "id": "33a2417c",
   "metadata": {},
   "outputs": [
    {
     "data": {
      "text/plain": [
       "count    2229.000000\n",
       "mean     1289.973531\n",
       "std       818.404367\n",
       "min       550.000000\n",
       "25%       550.000000\n",
       "50%      1023.000000\n",
       "75%      1750.000000\n",
       "max      6770.000000\n",
       "Name: revenue_total, dtype: float64"
      ]
     },
     "metadata": {},
     "output_type": "display_data"
    },
    {
     "name": "stdout",
     "output_type": "stream",
     "text": [
      "дисперсия 669785.7080064153\n"
     ]
    }
   ],
   "source": [
    "display(revenue_smart.describe())\n",
    "print('дисперсия', revenue_smart.var())"
   ]
  },
  {
   "cell_type": "code",
   "execution_count": 55,
   "id": "0df3d9d2",
   "metadata": {},
   "outputs": [],
   "source": [
    "revenue_ultra = user_data[user_data['tariff'] == 'ultra']\n",
    "revenue_ultra = revenue_ultra['revenue_total']"
   ]
  },
  {
   "cell_type": "code",
   "execution_count": 56,
   "id": "1d283056",
   "metadata": {},
   "outputs": [
    {
     "data": {
      "text/plain": [
       "count     985.000000\n",
       "mean     2070.152284\n",
       "std       376.187114\n",
       "min      1950.000000\n",
       "25%      1950.000000\n",
       "50%      1950.000000\n",
       "75%      1950.000000\n",
       "max      4800.000000\n",
       "Name: revenue_total, dtype: float64"
      ]
     },
     "metadata": {},
     "output_type": "display_data"
    },
    {
     "name": "stdout",
     "output_type": "stream",
     "text": [
      "дисперсия 141516.74507861698\n"
     ]
    }
   ],
   "source": [
    "display(revenue_ultra.describe())\n",
    "print('дисперсия', revenue_ultra.var())"
   ]
  },
  {
   "cell_type": "markdown",
   "id": "726e1c7e",
   "metadata": {},
   "source": [
    "Берем срезы по 50 элементов из обоих выборок"
   ]
  },
  {
   "cell_type": "code",
   "execution_count": 57,
   "id": "ec084e6b",
   "metadata": {},
   "outputs": [],
   "source": [
    "revenue_smart_50 = revenue_smart[100:151]\n",
    "revenue_ultra_50 = revenue_ultra[30:81]"
   ]
  },
  {
   "cell_type": "markdown",
   "id": "8a9ac1ef",
   "metadata": {},
   "source": [
    "Используем гипотезу о равенстве среднего двух генеральных совокупностей по взятым из них выборкам.\n",
    "Так как выборки у нас независимые, воспользуемся функцией ttest_ind из модуля scipy.stats.\n",
    "Считаем, что дисперсии выборок не равны, поэтому значение equal_var поставим False.\n",
    "Зададим пороговое значение alpha = 0.01"
   ]
  },
  {
   "cell_type": "code",
   "execution_count": 58,
   "id": "c6685f1d",
   "metadata": {},
   "outputs": [
    {
     "name": "stdout",
     "output_type": "stream",
     "text": [
      "p-значение: 1.7345394876827624e-10\n",
      "Отвергаем нулевую гипотезу\n"
     ]
    }
   ],
   "source": [
    "from scipy.stats import ttest_ind\n",
    "alpha = 0.01\n",
    "results = st.ttest_ind(revenue_smart_50, revenue_ultra_50, equal_var = False)\n",
    "print('p-значение:', results.pvalue)\n",
    "if (results.pvalue < alpha):\n",
    "    print(\"Отвергаем нулевую гипотезу\")\n",
    "else:\n",
    "    print(\"Не получилось отвергнуть нулевую гипотезу\")"
   ]
  },
  {
   "cell_type": "markdown",
   "id": "8d009f63",
   "metadata": {},
   "source": [
    "Таким образом, эмпирически полученные данные позволяют отвергнуть нулевую гипотезу Н0 в пользу альтернативной H1:\n",
    "- средняя выручка пользователей тарифов «Ультра» и «Смарт» различается"
   ]
  },
  {
   "cell_type": "markdown",
   "id": "f31892d3",
   "metadata": {},
   "source": [
    "4.2  Проверка гипотезы\n",
    "\n",
    "- средняя выручка пользователей из Москвы отличается от выручки пользователей из других регионов"
   ]
  },
  {
   "cell_type": "markdown",
   "id": "5b65abaa",
   "metadata": {},
   "source": [
    "Формируем нулевую и альтернатвную гипотезу: \n",
    "\n",
    "H0: Средняя выручка пользователей из Москвы и из других регионов равны.\n",
    "\n",
    "H1: Средняя выручка пользователей из Москвы и из других регионов различается."
   ]
  },
  {
   "cell_type": "markdown",
   "id": "c97e7a9f",
   "metadata": {},
   "source": [
    "Подготовим данные для проверки гипотезы.\n",
    "\n",
    "Для начала проверим географию пользователей сотового оператора."
   ]
  },
  {
   "cell_type": "code",
   "execution_count": 59,
   "id": "a7d85cd6",
   "metadata": {},
   "outputs": [
    {
     "data": {
      "text/plain": [
       "array(['Краснодар', 'Москва', 'Стерлитамак', 'Новокузнецк',\n",
       "       'Набережные Челны', 'Ульяновск', 'Челябинск', 'Пермь', 'Тюмень',\n",
       "       'Самара', 'Санкт-Петербург', 'Иваново', 'Чебоксары', 'Омск', 'Уфа',\n",
       "       'Томск', 'Чита', 'Мурманск', 'Петрозаводск', 'Тверь',\n",
       "       'Екатеринбург', 'Махачкала', 'Вологда', 'Череповец', 'Ярославль',\n",
       "       'Сочи', 'Хабаровск', 'Ставрополь', 'Рязань', 'Улан-Удэ', 'Тула',\n",
       "       'Саратов', 'Ростов-на-Дону', 'Казань', 'Иркутск', 'Курск',\n",
       "       'Калуга', 'Якутск', 'Астрахань', 'Химки', 'Владикавказ',\n",
       "       'Волгоград', 'Саранск', 'Ижевск', 'Новосибирск', 'Брянск',\n",
       "       'Тольятти', 'Нижний Тагил', 'Орёл', 'Белгород', 'Воронеж',\n",
       "       'Курган', 'Барнаул', 'Красноярск', 'Архангельск', 'Липецк',\n",
       "       'Кемерово', 'Киров', 'Сургут', 'Пенза', 'Волжский', 'Магнитогорск',\n",
       "       'Нижний Новгород', 'Кострома', 'Владивосток', 'Тамбов', 'Балашиха',\n",
       "       'Севастополь', 'Калининград', 'Оренбург', 'Смоленск',\n",
       "       'Нижневартовск', 'Владимир', 'Новороссийск', 'Грозный', 'Подольск'],\n",
       "      dtype=object)"
      ]
     },
     "execution_count": 59,
     "metadata": {},
     "output_type": "execute_result"
    }
   ],
   "source": [
    "user_data['city'].unique()"
   ]
  },
  {
   "cell_type": "markdown",
   "id": "36d6513b",
   "metadata": {},
   "source": [
    "Для подготовки данных возмем срез данных по региону Москва и остальным регионам, сгруппируем данные по пользователям и посчитаем среднюю месячную выручку с каждого пользователя."
   ]
  },
  {
   "cell_type": "code",
   "execution_count": 60,
   "id": "508f83b4",
   "metadata": {},
   "outputs": [],
   "source": [
    "revenue_moscow = user_data[user_data['city'] == \"Москва\"]\n",
    "revenue_moscow = revenue_moscow['revenue_total']"
   ]
  },
  {
   "cell_type": "code",
   "execution_count": 61,
   "id": "908353c0",
   "metadata": {},
   "outputs": [
    {
     "data": {
      "text/plain": [
       "count     611.000000\n",
       "mean     1546.713584\n",
       "std       752.088071\n",
       "min       550.000000\n",
       "25%       780.500000\n",
       "50%      1750.000000\n",
       "75%      1950.000000\n",
       "max      5321.000000\n",
       "Name: revenue_total, dtype: float64"
      ]
     },
     "metadata": {},
     "output_type": "display_data"
    },
    {
     "name": "stdout",
     "output_type": "stream",
     "text": [
      "дисперсия 565636.4670118855\n"
     ]
    }
   ],
   "source": [
    "display(revenue_moscow.describe())\n",
    "print('дисперсия', revenue_moscow.var())"
   ]
  },
  {
   "cell_type": "code",
   "execution_count": 62,
   "id": "e650be02",
   "metadata": {},
   "outputs": [],
   "source": [
    "revenue_other = user_data[user_data['city'] != \"Москва\"]\n",
    "revenue_other = revenue_other['revenue_total']"
   ]
  },
  {
   "cell_type": "code",
   "execution_count": 63,
   "id": "604a9037",
   "metadata": {},
   "outputs": [
    {
     "data": {
      "text/plain": [
       "count    2603.000000\n",
       "mean     1524.936227\n",
       "std       808.787752\n",
       "min       550.000000\n",
       "25%       750.000000\n",
       "50%      1583.000000\n",
       "75%      1950.000000\n",
       "max      6770.000000\n",
       "Name: revenue_total, dtype: float64"
      ]
     },
     "metadata": {},
     "output_type": "display_data"
    },
    {
     "name": "stdout",
     "output_type": "stream",
     "text": [
      "дисперсия 654137.6285218047\n"
     ]
    }
   ],
   "source": [
    "display(revenue_other.describe())\n",
    "print('дисперсия', revenue_other.var())"
   ]
  },
  {
   "cell_type": "markdown",
   "id": "9c8857c9",
   "metadata": {},
   "source": [
    "Берем срезы по 50 элементов из обоих выборок"
   ]
  },
  {
   "cell_type": "code",
   "execution_count": 64,
   "id": "1ad76dfb",
   "metadata": {},
   "outputs": [],
   "source": [
    "revenue_moscow_50 = revenue_moscow[50:101]\n",
    "revenue_other_50 = revenue_other[130:181]"
   ]
  },
  {
   "cell_type": "markdown",
   "id": "cf54c4af",
   "metadata": {},
   "source": [
    "Используем гипотезу о равенстве среднего двух генеральных совокупностей по взятым из них выборкам.\n",
    "Так как выборки у нас независимые, воспользуемся функцией ttest_ind из модуля scipy.stats.\n",
    "Дисперсии выборок близки, поэтому значение equal_var оставим по умолчанию True.\n",
    "Зададим пороговое значение alpha = 0.01"
   ]
  },
  {
   "cell_type": "code",
   "execution_count": 65,
   "id": "6bcee107",
   "metadata": {},
   "outputs": [
    {
     "name": "stdout",
     "output_type": "stream",
     "text": [
      "p-значение: 0.6236886543130815\n",
      "Не получилось отвергнуть нулевую гипотезу\n"
     ]
    }
   ],
   "source": [
    "from scipy.stats import ttest_ind\n",
    "alpha = 0.01\n",
    "results = st.ttest_ind(revenue_moscow_50, revenue_other_50)\n",
    "print('p-значение:', results.pvalue)\n",
    "if (results.pvalue < alpha):\n",
    "    print(\"Отвергаем нулевую гипотезу\")\n",
    "else:\n",
    "    print(\"Не получилось отвергнуть нулевую гипотезу\")"
   ]
  },
  {
   "cell_type": "markdown",
   "id": "0f7e42a5",
   "metadata": {},
   "source": [
    "Таким образом, эмпирически полученные данные не противоречат гипотезе H0:\n",
    "- средняя выручка пользователей из Москвы и из других регионов равны"
   ]
  },
  {
   "cell_type": "markdown",
   "id": "11d0599d",
   "metadata": {},
   "source": [
    "### Шаг 5. Общий вывод"
   ]
  },
  {
   "cell_type": "markdown",
   "id": "438eb7a7",
   "metadata": {},
   "source": [
    "1. В работе обработали полученные данные о пользователях сотового оператора «Мегалайна» за 2018 год. В ходе изучения общей информации о данных в таблицах users, calls, internet, messages, tariffs определили какую необходимо провести подготовку данных в каждой таблице. \n",
    "\n",
    "2. В ходе выполнения проекта проведена подготовка данных\n",
    "\n",
    "2.1 Выполнена подготовка данных в таблицах\n",
    "\n",
    "2.1.1 Выполнена подготовка данных в таблице users:\n",
    "- тип данных в столбцах reg_date и churn_date заменены на datetime\n",
    "\n",
    "2.1.3 Выполнена подготовка данных в таблице calls:\n",
    "- тип данных в столбце call_date заменен на datetime\n",
    "- в столбце duration выполнено округление данных в большую сторону и преобразованы в целочисленный тип int\n",
    "- добавлен дополнительный столбец month.\n",
    "\n",
    "2.1.4 Выполнена подготовка данных в таблице messages:\n",
    "- тип данных в столбце message_date заменены на datetime\n",
    "- добавлен дополнительный столбец month\n",
    "\n",
    "2.1.5 Выполнена подготовка данных в таблице internet:\n",
    "- удалили появившийся ненужный столбец Unnamed: 0\n",
    "- тип данных в столбце session_date заменен на datetime\n",
    "- добавлен дополнительный столбец month\n",
    "\n",
    "2.2 Посчитали для каждого пользователя:\n",
    "- количество сделанных звонков и израсходованных минут разговора по месяцам в таблице user_calls\n",
    "- количество отправленных сообщений по месяцам в таблице user_messages\n",
    "- объем израсходованного интернет-трафика по месяцам в таблице user_internet\n",
    "\n",
    "2.3 Подготовили таблицу user_data для подсчета помесячной выручки с каждого пользователя:\n",
    "- командой merge в таблицу user_data выполнили объединение таблиц user_calls, user_messages, user_internet, users и tariffs\n",
    "- в таблице user_data отсутствующие значения по месяцам в столбцах количество сделанных звонков calls_count, израсходованные минуты разговора calls_sum, количество отправленных сообщений messages_sum, объем израсходованного интернет-трафика internet_sum заменили нулями\n",
    "- данные в столбцах calls_count, calls_sum, messages_sum, internet_sum приведены к типу int\n",
    "\n",
    "2.4 Посчитали для каждого пользователя:\n",
    "- помесячную выручку с каждого пользователя в соответствии с тарифном планом\n",
    "\n",
    "3. Проведен анализ поведения клиентов оператора на тарифных планах smart и ultra, которые показывает, что:\n",
    "- из-за более низкой ежемесячной платы более привлекательным для пользователей является тариф smart. Им пользуются 69.35% клиентов оператора. Доля пользователей тарифа - 30.65%;\n",
    "- пользователи тарифа ultra являются более доходными для сотового оператора. Всего 30.65% пользователей тарифа ultra приносят 42.48% выручки компании. За счет того, что пользователей тарифа smart значительно больше они приносят компании 57.52% выручки. Это подтверждают и значения средней выручки пользователей каждого тарифа: средняя выручка пользователей тарифа ultra 2060.46 руб., а средняя выручка пользователей тарифа smart в 1,67 раза ниже и составляет 1233.06 руб.;\n",
    "- пользователи тарифа smart разговаривают в месяц в среднем 418 минут и не превышают включенный в тариф лимит 500 минут разговора в месяц. Пользователи тарифа ultra разговаривают в месяц в среднем только 527 минут при включенных в ежемесячную плату 3000 минут разговора в месяц. На тарифе ultra остается большой запас неиспользованных минут разговоров в месяц;\n",
    "- пользователи тарифов smart и ultra в месяц в среднем не превышают лимиты сообщений, включенные в ежемесячные платы. На тарифе ultra остается большой запас неиспользованных сообщений в месяц;\n",
    "- пользователи тарифа smart используют в месяц в среднем 16,23 Гб интернет-трафика и превышают включенный в тариф лимит 15 Гб интернет-трафика в месяц. Тариф ultra включает в ежемесячную плату 30 Гб интернет-трафика в месяц, а пользователи тарифа используют в месяц в среднем 19,49 Гб интернет-трафика. Остается запас неиспользованного интернет-трафика в месяц, не такой значительный как в минутах разговоров и сообщениях. \n",
    "\n",
    "4. Проверены гипотезы\n",
    "\n",
    "4.1 Проверена гипотеза\n",
    "- средняя выручка пользователей тарифов «Ультра» и «Смарт» различаются\n",
    "\n",
    "В результате проверки гипотезы делаем вывод, что эмпирически полученные данные позволяют отвергнуть нулевую гипотезу Н0 в пользу альтернативной H1:\n",
    "- средняя выручка пользователей тарифов «Ультра» и «Смарт» различается\n",
    "\n",
    "4.2 Проверена гипотеза\n",
    "- средняя выручка пользователей из Москвы отличается от выручки пользователей из других регионов\n",
    "\n",
    "В результате проверки гипотезы делаем вывод, что эмпирически полученные данные не противоречат гипотезе H0:\n",
    "- средняя выручка пользователей из Москвы и из других регионов равны\n",
    "\n",
    "\n",
    "ИТОГОВЫЙ ВЫВОД\n",
    "- тарифы smart и ultra рассчитаны на разную аудиторию и дополняют друг друга. Не целесообразно закрывать ни один из тарифов. Тариф ultra рассчитан на более состоятельных пользователей и приносит при меньшем количестве пользователей в 1,6 раза большую среднюю выручку с пользователя чем на тарифе smart. В то же время количество пользователей тарифа smart в 2,26 раза больше пользователей тарифа ultra и в результате приносят компании суммарно большую выручку, чем пользователи тарифа ultra. \n",
    "\n",
    "Исходя из этого, можно рекомендовать сотовому оператору:  \n",
    "- сделать акцент на более активное привлечение состоятельных пользователей на тариф ultra, в связи с его лучшей отдачей по прибыли с каждого нового привлеченного клиента;\n",
    "- разработать и предложить пользователям промежуточный вариант тарифа между тарифами smart и ultra, рассчитанный на среднюю категорию пользователей. В первую очередь тариф должен быть рассчитан на пользователей тарифа smart, которые превышают включенные в ежемесячную плату лимиты по интернет-трафику и минуты разговора. В новом тарифе может быть установлена более высокая ежемесячная плата по сравнению с тарифом smart (например, 1000 руб.) с расширением пакета включенного интернет-трафика и включенных минут;\n",
    "- активировать работу по привлечению новых пользователей в регионах, исходя из того, что средние выручки пользователей в Москве и регионах сопоставимы."
   ]
  }
 ],
 "metadata": {
  "ExecuteTimeLog": [
   {
    "duration": 1110,
    "start_time": "2022-04-19T07:26:19.403Z"
   },
   {
    "duration": 370,
    "start_time": "2022-04-19T07:26:20.514Z"
   },
   {
    "duration": 36,
    "start_time": "2022-04-19T07:26:20.885Z"
   },
   {
    "duration": 60,
    "start_time": "2022-04-19T07:26:20.924Z"
   },
   {
    "duration": 53,
    "start_time": "2022-04-19T07:26:20.986Z"
   },
   {
    "duration": 82,
    "start_time": "2022-04-19T07:26:21.041Z"
   },
   {
    "duration": 38,
    "start_time": "2022-04-19T07:26:21.125Z"
   },
   {
    "duration": 13,
    "start_time": "2022-04-19T07:26:21.164Z"
   },
   {
    "duration": 84,
    "start_time": "2022-04-19T07:26:21.179Z"
   },
   {
    "duration": 49,
    "start_time": "2022-04-19T07:26:21.266Z"
   },
   {
    "duration": 27,
    "start_time": "2022-04-19T07:26:21.316Z"
   },
   {
    "duration": 36,
    "start_time": "2022-04-19T07:26:21.344Z"
   },
   {
    "duration": 40,
    "start_time": "2022-04-19T07:26:21.382Z"
   },
   {
    "duration": 15,
    "start_time": "2022-04-19T07:26:21.424Z"
   },
   {
    "duration": 47,
    "start_time": "2022-04-19T07:26:21.441Z"
   },
   {
    "duration": 24,
    "start_time": "2022-04-19T07:26:21.507Z"
   },
   {
    "duration": 21,
    "start_time": "2022-04-19T07:26:21.533Z"
   },
   {
    "duration": 55,
    "start_time": "2022-04-19T07:26:21.555Z"
   },
   {
    "duration": 7,
    "start_time": "2022-04-19T07:26:21.612Z"
   },
   {
    "duration": 23,
    "start_time": "2022-04-19T07:26:21.621Z"
   },
   {
    "duration": 19,
    "start_time": "2022-04-19T07:26:21.646Z"
   },
   {
    "duration": 43,
    "start_time": "2022-04-19T07:26:21.667Z"
   },
   {
    "duration": 15,
    "start_time": "2022-04-19T07:26:21.712Z"
   },
   {
    "duration": 18,
    "start_time": "2022-04-19T07:26:21.729Z"
   },
   {
    "duration": 7,
    "start_time": "2022-04-19T07:26:21.749Z"
   },
   {
    "duration": 9,
    "start_time": "2022-04-19T07:26:21.757Z"
   },
   {
    "duration": 54,
    "start_time": "2022-04-19T07:26:21.768Z"
   },
   {
    "duration": 14,
    "start_time": "2022-04-19T07:26:21.827Z"
   },
   {
    "duration": 5,
    "start_time": "2022-04-19T07:26:21.842Z"
   },
   {
    "duration": 22,
    "start_time": "2022-04-19T07:26:21.848Z"
   },
   {
    "duration": 40,
    "start_time": "2022-04-19T07:26:21.872Z"
   },
   {
    "duration": 13,
    "start_time": "2022-04-19T07:26:21.914Z"
   },
   {
    "duration": 4,
    "start_time": "2022-04-19T07:26:21.929Z"
   },
   {
    "duration": 133,
    "start_time": "2022-04-19T07:26:21.935Z"
   },
   {
    "duration": 6,
    "start_time": "2022-04-19T07:26:22.070Z"
   },
   {
    "duration": 31,
    "start_time": "2022-04-19T07:26:22.077Z"
   },
   {
    "duration": 6,
    "start_time": "2022-04-19T07:26:22.110Z"
   },
   {
    "duration": 22,
    "start_time": "2022-04-19T07:26:22.117Z"
   },
   {
    "duration": 9,
    "start_time": "2022-04-19T07:26:22.141Z"
   },
   {
    "duration": 157,
    "start_time": "2022-04-19T07:26:22.151Z"
   },
   {
    "duration": 130,
    "start_time": "2022-04-19T07:26:22.310Z"
   },
   {
    "duration": 44,
    "start_time": "2022-04-19T07:26:22.442Z"
   },
   {
    "duration": 22,
    "start_time": "2022-04-19T07:26:22.488Z"
   },
   {
    "duration": 9,
    "start_time": "2022-04-19T07:26:22.512Z"
   },
   {
    "duration": 10,
    "start_time": "2022-04-19T07:26:22.522Z"
   },
   {
    "duration": 175,
    "start_time": "2022-04-19T07:26:22.534Z"
   },
   {
    "duration": 156,
    "start_time": "2022-04-19T07:26:22.710Z"
   },
   {
    "duration": 13,
    "start_time": "2022-04-19T07:26:22.868Z"
   },
   {
    "duration": 187,
    "start_time": "2022-04-19T07:26:22.883Z"
   },
   {
    "duration": 160,
    "start_time": "2022-04-19T07:26:23.071Z"
   },
   {
    "duration": 12,
    "start_time": "2022-04-19T07:26:23.233Z"
   },
   {
    "duration": 238,
    "start_time": "2022-04-19T07:26:23.246Z"
   },
   {
    "duration": 159,
    "start_time": "2022-04-19T07:26:23.486Z"
   },
   {
    "duration": 6,
    "start_time": "2022-04-19T07:26:23.647Z"
   },
   {
    "duration": 9,
    "start_time": "2022-04-19T07:26:23.655Z"
   },
   {
    "duration": 7,
    "start_time": "2022-04-19T07:26:23.665Z"
   },
   {
    "duration": 37,
    "start_time": "2022-04-19T07:26:23.673Z"
   },
   {
    "duration": 3,
    "start_time": "2022-04-19T07:26:23.712Z"
   },
   {
    "duration": 7,
    "start_time": "2022-04-19T07:26:23.716Z"
   },
   {
    "duration": 7,
    "start_time": "2022-04-19T07:26:23.725Z"
   },
   {
    "duration": 8,
    "start_time": "2022-04-19T07:26:23.733Z"
   },
   {
    "duration": 9,
    "start_time": "2022-04-19T07:26:23.743Z"
   },
   {
    "duration": 7,
    "start_time": "2022-04-19T07:26:23.754Z"
   },
   {
    "duration": 47,
    "start_time": "2022-04-19T07:26:23.762Z"
   },
   {
    "duration": 3,
    "start_time": "2022-04-19T07:26:23.811Z"
   },
   {
    "duration": 6,
    "start_time": "2022-04-19T07:26:23.815Z"
   },
   {
    "duration": 1134,
    "start_time": "2022-04-19T07:36:28.833Z"
   },
   {
    "duration": 379,
    "start_time": "2022-04-19T07:36:29.968Z"
   },
   {
    "duration": 36,
    "start_time": "2022-04-19T07:36:30.349Z"
   },
   {
    "duration": 59,
    "start_time": "2022-04-19T07:36:30.387Z"
   },
   {
    "duration": 35,
    "start_time": "2022-04-19T07:36:30.447Z"
   },
   {
    "duration": 70,
    "start_time": "2022-04-19T07:36:30.484Z"
   },
   {
    "duration": 53,
    "start_time": "2022-04-19T07:36:30.556Z"
   },
   {
    "duration": 15,
    "start_time": "2022-04-19T07:36:30.610Z"
   },
   {
    "duration": 62,
    "start_time": "2022-04-19T07:36:30.626Z"
   },
   {
    "duration": 27,
    "start_time": "2022-04-19T07:36:30.708Z"
   },
   {
    "duration": 26,
    "start_time": "2022-04-19T07:36:30.737Z"
   },
   {
    "duration": 63,
    "start_time": "2022-04-19T07:36:30.765Z"
   },
   {
    "duration": 18,
    "start_time": "2022-04-19T07:36:30.830Z"
   },
   {
    "duration": 41,
    "start_time": "2022-04-19T07:36:30.849Z"
   },
   {
    "duration": 69,
    "start_time": "2022-04-19T07:36:30.892Z"
   },
   {
    "duration": 23,
    "start_time": "2022-04-19T07:36:30.963Z"
   },
   {
    "duration": 21,
    "start_time": "2022-04-19T07:36:30.988Z"
   },
   {
    "duration": 29,
    "start_time": "2022-04-19T07:36:31.011Z"
   },
   {
    "duration": 7,
    "start_time": "2022-04-19T07:36:31.042Z"
   },
   {
    "duration": 38,
    "start_time": "2022-04-19T07:36:31.050Z"
   },
   {
    "duration": 37,
    "start_time": "2022-04-19T07:36:31.089Z"
   },
   {
    "duration": 14,
    "start_time": "2022-04-19T07:36:31.127Z"
   },
   {
    "duration": 15,
    "start_time": "2022-04-19T07:36:31.142Z"
   },
   {
    "duration": 38,
    "start_time": "2022-04-19T07:36:31.159Z"
   },
   {
    "duration": 11,
    "start_time": "2022-04-19T07:36:31.206Z"
   },
   {
    "duration": 40,
    "start_time": "2022-04-19T07:36:31.218Z"
   },
   {
    "duration": 32,
    "start_time": "2022-04-19T07:36:31.259Z"
   },
   {
    "duration": 27,
    "start_time": "2022-04-19T07:36:31.296Z"
   },
   {
    "duration": 15,
    "start_time": "2022-04-19T07:36:31.324Z"
   },
   {
    "duration": 20,
    "start_time": "2022-04-19T07:36:31.341Z"
   },
   {
    "duration": 16,
    "start_time": "2022-04-19T07:36:31.363Z"
   },
   {
    "duration": 31,
    "start_time": "2022-04-19T07:36:31.381Z"
   },
   {
    "duration": 18,
    "start_time": "2022-04-19T07:36:31.413Z"
   },
   {
    "duration": 117,
    "start_time": "2022-04-19T07:36:31.432Z"
   },
   {
    "duration": 5,
    "start_time": "2022-04-19T07:36:31.551Z"
   },
   {
    "duration": 18,
    "start_time": "2022-04-19T07:36:31.557Z"
   },
   {
    "duration": 4,
    "start_time": "2022-04-19T07:36:31.576Z"
   },
   {
    "duration": 27,
    "start_time": "2022-04-19T07:36:31.581Z"
   },
   {
    "duration": 12,
    "start_time": "2022-04-19T07:36:31.610Z"
   },
   {
    "duration": 153,
    "start_time": "2022-04-19T07:36:31.623Z"
   },
   {
    "duration": 116,
    "start_time": "2022-04-19T07:36:31.777Z"
   },
   {
    "duration": 50,
    "start_time": "2022-04-19T07:36:31.895Z"
   },
   {
    "duration": 9,
    "start_time": "2022-04-19T07:36:31.946Z"
   },
   {
    "duration": 7,
    "start_time": "2022-04-19T07:36:31.957Z"
   },
   {
    "duration": 10,
    "start_time": "2022-04-19T07:36:31.965Z"
   },
   {
    "duration": 166,
    "start_time": "2022-04-19T07:36:31.976Z"
   },
   {
    "duration": 154,
    "start_time": "2022-04-19T07:36:32.143Z"
   },
   {
    "duration": 18,
    "start_time": "2022-04-19T07:36:32.298Z"
   },
   {
    "duration": 148,
    "start_time": "2022-04-19T07:36:32.317Z"
   },
   {
    "duration": 143,
    "start_time": "2022-04-19T07:36:32.466Z"
   },
   {
    "duration": 9,
    "start_time": "2022-04-19T07:36:32.611Z"
   },
   {
    "duration": 219,
    "start_time": "2022-04-19T07:36:32.622Z"
   },
   {
    "duration": 152,
    "start_time": "2022-04-19T07:36:32.842Z"
   },
   {
    "duration": 12,
    "start_time": "2022-04-19T07:36:32.995Z"
   },
   {
    "duration": 7,
    "start_time": "2022-04-19T07:36:33.009Z"
   },
   {
    "duration": 6,
    "start_time": "2022-04-19T07:36:33.018Z"
   },
   {
    "duration": 9,
    "start_time": "2022-04-19T07:36:33.025Z"
   },
   {
    "duration": 5,
    "start_time": "2022-04-19T07:36:33.036Z"
   },
   {
    "duration": 9,
    "start_time": "2022-04-19T07:36:33.042Z"
   },
   {
    "duration": 9,
    "start_time": "2022-04-19T07:36:33.053Z"
   },
   {
    "duration": 9,
    "start_time": "2022-04-19T07:36:33.063Z"
   },
   {
    "duration": 37,
    "start_time": "2022-04-19T07:36:33.073Z"
   },
   {
    "duration": 8,
    "start_time": "2022-04-19T07:36:33.111Z"
   },
   {
    "duration": 13,
    "start_time": "2022-04-19T07:36:33.121Z"
   },
   {
    "duration": 3,
    "start_time": "2022-04-19T07:36:33.136Z"
   },
   {
    "duration": 6,
    "start_time": "2022-04-19T07:36:33.140Z"
   },
   {
    "duration": 1202,
    "start_time": "2022-04-22T07:59:57.384Z"
   },
   {
    "duration": 330,
    "start_time": "2022-04-22T07:59:58.588Z"
   },
   {
    "duration": 50,
    "start_time": "2022-04-22T07:59:58.920Z"
   },
   {
    "duration": 98,
    "start_time": "2022-04-22T07:59:58.972Z"
   },
   {
    "duration": 60,
    "start_time": "2022-04-22T07:59:59.072Z"
   },
   {
    "duration": 89,
    "start_time": "2022-04-22T07:59:59.134Z"
   },
   {
    "duration": 36,
    "start_time": "2022-04-22T07:59:59.225Z"
   },
   {
    "duration": 14,
    "start_time": "2022-04-22T07:59:59.263Z"
   },
   {
    "duration": 81,
    "start_time": "2022-04-22T07:59:59.279Z"
   },
   {
    "duration": 23,
    "start_time": "2022-04-22T07:59:59.362Z"
   },
   {
    "duration": 49,
    "start_time": "2022-04-22T07:59:59.386Z"
   },
   {
    "duration": 34,
    "start_time": "2022-04-22T07:59:59.437Z"
   },
   {
    "duration": 17,
    "start_time": "2022-04-22T07:59:59.472Z"
   },
   {
    "duration": 47,
    "start_time": "2022-04-22T07:59:59.491Z"
   },
   {
    "duration": 44,
    "start_time": "2022-04-22T07:59:59.539Z"
   },
   {
    "duration": 21,
    "start_time": "2022-04-22T07:59:59.585Z"
   },
   {
    "duration": 41,
    "start_time": "2022-04-22T07:59:59.608Z"
   },
   {
    "duration": 7,
    "start_time": "2022-04-22T07:59:59.651Z"
   },
   {
    "duration": 25,
    "start_time": "2022-04-22T07:59:59.660Z"
   },
   {
    "duration": 38,
    "start_time": "2022-04-22T07:59:59.687Z"
   },
   {
    "duration": 16,
    "start_time": "2022-04-22T07:59:59.727Z"
   },
   {
    "duration": 15,
    "start_time": "2022-04-22T07:59:59.745Z"
   },
   {
    "duration": 15,
    "start_time": "2022-04-22T07:59:59.762Z"
   },
   {
    "duration": 8,
    "start_time": "2022-04-22T07:59:59.779Z"
   },
   {
    "duration": 43,
    "start_time": "2022-04-22T07:59:59.788Z"
   },
   {
    "duration": 32,
    "start_time": "2022-04-22T07:59:59.833Z"
   },
   {
    "duration": 21,
    "start_time": "2022-04-22T07:59:59.867Z"
   },
   {
    "duration": 34,
    "start_time": "2022-04-22T07:59:59.891Z"
   },
   {
    "duration": 18,
    "start_time": "2022-04-22T07:59:59.927Z"
   },
   {
    "duration": 15,
    "start_time": "2022-04-22T07:59:59.946Z"
   },
   {
    "duration": 35,
    "start_time": "2022-04-22T07:59:59.962Z"
   },
   {
    "duration": 29,
    "start_time": "2022-04-22T08:00:00.003Z"
   },
   {
    "duration": 208,
    "start_time": "2022-04-22T08:00:00.034Z"
   },
   {
    "duration": 7,
    "start_time": "2022-04-22T08:00:00.244Z"
   },
   {
    "duration": 57,
    "start_time": "2022-04-22T08:00:00.253Z"
   },
   {
    "duration": 11,
    "start_time": "2022-04-22T08:00:00.312Z"
   },
   {
    "duration": 27,
    "start_time": "2022-04-22T08:00:00.325Z"
   },
   {
    "duration": 24,
    "start_time": "2022-04-22T08:00:00.354Z"
   },
   {
    "duration": 149,
    "start_time": "2022-04-22T08:00:00.380Z"
   },
   {
    "duration": 120,
    "start_time": "2022-04-22T08:00:00.530Z"
   },
   {
    "duration": 73,
    "start_time": "2022-04-22T08:00:00.652Z"
   },
   {
    "duration": 12,
    "start_time": "2022-04-22T08:00:00.727Z"
   },
   {
    "duration": 22,
    "start_time": "2022-04-22T08:00:00.740Z"
   },
   {
    "duration": 27,
    "start_time": "2022-04-22T08:00:00.764Z"
   },
   {
    "duration": 250,
    "start_time": "2022-04-22T08:00:00.793Z"
   },
   {
    "duration": 219,
    "start_time": "2022-04-22T08:00:01.045Z"
   },
   {
    "duration": 16,
    "start_time": "2022-04-22T08:00:01.266Z"
   },
   {
    "duration": 256,
    "start_time": "2022-04-22T08:00:01.285Z"
   },
   {
    "duration": 141,
    "start_time": "2022-04-22T08:00:01.543Z"
   },
   {
    "duration": 10,
    "start_time": "2022-04-22T08:00:01.686Z"
   },
   {
    "duration": 228,
    "start_time": "2022-04-22T08:00:01.697Z"
   },
   {
    "duration": 156,
    "start_time": "2022-04-22T08:00:01.928Z"
   },
   {
    "duration": 6,
    "start_time": "2022-04-22T08:00:02.086Z"
   },
   {
    "duration": 39,
    "start_time": "2022-04-22T08:00:02.093Z"
   },
   {
    "duration": 17,
    "start_time": "2022-04-22T08:00:02.134Z"
   },
   {
    "duration": 23,
    "start_time": "2022-04-22T08:00:02.153Z"
   },
   {
    "duration": 18,
    "start_time": "2022-04-22T08:00:02.179Z"
   },
   {
    "duration": 31,
    "start_time": "2022-04-22T08:00:02.199Z"
   },
   {
    "duration": 31,
    "start_time": "2022-04-22T08:00:02.231Z"
   },
   {
    "duration": 31,
    "start_time": "2022-04-22T08:00:02.264Z"
   },
   {
    "duration": 47,
    "start_time": "2022-04-22T08:00:02.297Z"
   },
   {
    "duration": 20,
    "start_time": "2022-04-22T08:00:02.346Z"
   },
   {
    "duration": 33,
    "start_time": "2022-04-22T08:00:02.368Z"
   },
   {
    "duration": 34,
    "start_time": "2022-04-22T08:00:02.403Z"
   },
   {
    "duration": 19,
    "start_time": "2022-04-22T08:00:02.438Z"
   },
   {
    "duration": 1370,
    "start_time": "2022-04-22T08:01:50.532Z"
   },
   {
    "duration": 346,
    "start_time": "2022-04-22T08:01:51.904Z"
   },
   {
    "duration": 34,
    "start_time": "2022-04-22T08:01:52.252Z"
   },
   {
    "duration": 88,
    "start_time": "2022-04-22T08:01:52.289Z"
   },
   {
    "duration": 65,
    "start_time": "2022-04-22T08:01:52.379Z"
   },
   {
    "duration": 55,
    "start_time": "2022-04-22T08:01:52.445Z"
   },
   {
    "duration": 59,
    "start_time": "2022-04-22T08:01:52.501Z"
   },
   {
    "duration": 14,
    "start_time": "2022-04-22T08:01:52.562Z"
   },
   {
    "duration": 81,
    "start_time": "2022-04-22T08:01:52.578Z"
   },
   {
    "duration": 25,
    "start_time": "2022-04-22T08:01:52.662Z"
   },
   {
    "duration": 52,
    "start_time": "2022-04-22T08:01:52.689Z"
   },
   {
    "duration": 37,
    "start_time": "2022-04-22T08:01:52.743Z"
   },
   {
    "duration": 45,
    "start_time": "2022-04-22T08:01:52.782Z"
   },
   {
    "duration": 15,
    "start_time": "2022-04-22T08:01:52.829Z"
   },
   {
    "duration": 40,
    "start_time": "2022-04-22T08:01:52.846Z"
   },
   {
    "duration": 44,
    "start_time": "2022-04-22T08:01:52.888Z"
   },
   {
    "duration": 26,
    "start_time": "2022-04-22T08:01:52.933Z"
   },
   {
    "duration": 7,
    "start_time": "2022-04-22T08:01:52.961Z"
   },
   {
    "duration": 23,
    "start_time": "2022-04-22T08:01:52.970Z"
   },
   {
    "duration": 46,
    "start_time": "2022-04-22T08:01:52.994Z"
   },
   {
    "duration": 14,
    "start_time": "2022-04-22T08:01:53.042Z"
   },
   {
    "duration": 14,
    "start_time": "2022-04-22T08:01:53.058Z"
   },
   {
    "duration": 53,
    "start_time": "2022-04-22T08:01:53.074Z"
   },
   {
    "duration": 8,
    "start_time": "2022-04-22T08:01:53.128Z"
   },
   {
    "duration": 14,
    "start_time": "2022-04-22T08:01:53.138Z"
   },
   {
    "duration": 33,
    "start_time": "2022-04-22T08:01:53.154Z"
   },
   {
    "duration": 50,
    "start_time": "2022-04-22T08:01:53.190Z"
   },
   {
    "duration": 7,
    "start_time": "2022-04-22T08:01:53.246Z"
   },
   {
    "duration": 27,
    "start_time": "2022-04-22T08:01:53.255Z"
   },
   {
    "duration": 47,
    "start_time": "2022-04-22T08:01:53.284Z"
   },
   {
    "duration": 22,
    "start_time": "2022-04-22T08:01:53.334Z"
   },
   {
    "duration": 6,
    "start_time": "2022-04-22T08:01:53.358Z"
   },
   {
    "duration": 111,
    "start_time": "2022-04-22T08:01:53.365Z"
   },
   {
    "duration": 8,
    "start_time": "2022-04-22T08:01:53.477Z"
   },
   {
    "duration": 18,
    "start_time": "2022-04-22T08:01:53.486Z"
   },
   {
    "duration": 6,
    "start_time": "2022-04-22T08:01:53.506Z"
   },
   {
    "duration": 13,
    "start_time": "2022-04-22T08:01:53.513Z"
   },
   {
    "duration": 8,
    "start_time": "2022-04-22T08:01:53.528Z"
   },
   {
    "duration": 145,
    "start_time": "2022-04-22T08:01:53.537Z"
   },
   {
    "duration": 121,
    "start_time": "2022-04-22T08:01:53.683Z"
   },
   {
    "duration": 51,
    "start_time": "2022-04-22T08:01:53.805Z"
   },
   {
    "duration": 13,
    "start_time": "2022-04-22T08:01:53.858Z"
   },
   {
    "duration": 12,
    "start_time": "2022-04-22T08:01:53.873Z"
   },
   {
    "duration": 10,
    "start_time": "2022-04-22T08:01:53.887Z"
   },
   {
    "duration": 162,
    "start_time": "2022-04-22T08:01:53.899Z"
   },
   {
    "duration": 271,
    "start_time": "2022-04-22T08:01:54.063Z"
   },
   {
    "duration": 11,
    "start_time": "2022-04-22T08:01:54.336Z"
   },
   {
    "duration": 397,
    "start_time": "2022-04-22T08:01:54.349Z"
   },
   {
    "duration": 215,
    "start_time": "2022-04-22T08:01:54.749Z"
   },
   {
    "duration": 15,
    "start_time": "2022-04-22T08:01:54.966Z"
   },
   {
    "duration": 231,
    "start_time": "2022-04-22T08:01:54.983Z"
   },
   {
    "duration": 216,
    "start_time": "2022-04-22T08:01:55.223Z"
   },
   {
    "duration": 4,
    "start_time": "2022-04-22T08:01:55.441Z"
   },
   {
    "duration": 12,
    "start_time": "2022-04-22T08:01:55.447Z"
   },
   {
    "duration": 5,
    "start_time": "2022-04-22T08:01:55.461Z"
   },
   {
    "duration": 11,
    "start_time": "2022-04-22T08:01:55.468Z"
   },
   {
    "duration": 4,
    "start_time": "2022-04-22T08:01:55.481Z"
   },
   {
    "duration": 7,
    "start_time": "2022-04-22T08:01:55.486Z"
   },
   {
    "duration": 34,
    "start_time": "2022-04-22T08:01:55.494Z"
   },
   {
    "duration": 6,
    "start_time": "2022-04-22T08:01:55.529Z"
   },
   {
    "duration": 12,
    "start_time": "2022-04-22T08:01:55.537Z"
   },
   {
    "duration": 6,
    "start_time": "2022-04-22T08:01:55.551Z"
   },
   {
    "duration": 12,
    "start_time": "2022-04-22T08:01:55.558Z"
   },
   {
    "duration": 5,
    "start_time": "2022-04-22T08:01:55.571Z"
   },
   {
    "duration": 7,
    "start_time": "2022-04-22T08:01:55.578Z"
   }
  ],
  "kernelspec": {
   "display_name": "Python 3 (ipykernel)",
   "language": "python",
   "name": "python3"
  },
  "language_info": {
   "codemirror_mode": {
    "name": "ipython",
    "version": 3
   },
   "file_extension": ".py",
   "mimetype": "text/x-python",
   "name": "python",
   "nbconvert_exporter": "python",
   "pygments_lexer": "ipython3",
   "version": "3.9.7"
  },
  "toc": {
   "base_numbering": 1,
   "nav_menu": {},
   "number_sections": true,
   "sideBar": true,
   "skip_h1_title": true,
   "title_cell": "Table of Contents",
   "title_sidebar": "Contents",
   "toc_cell": false,
   "toc_position": {},
   "toc_section_display": true,
   "toc_window_display": false
  }
 },
 "nbformat": 4,
 "nbformat_minor": 5
}
