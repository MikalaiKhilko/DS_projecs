{
 "cells": [
  {
   "cell_type": "markdown",
   "metadata": {},
   "source": [
    "# Прогнозирование оттока клиентов оператора связи"
   ]
  },
  {
   "cell_type": "markdown",
   "metadata": {},
   "source": [
    "### Описание проекта\n",
    "##### Цель: \n",
    "Оператору связи «Ниединогоразрыва.ком» необходимо научисться прогнозировать отток клиентов для применения упреждающих мер по удержанию клиентов (предложение промокодов и специальных условий). \n",
    "\n",
    "Для выборки клиентов доступны персональные данные о некоторых клиентах, информация об их тарифах и договорах.\n",
    "\n",
    "Информация о договорах актуальна на 1 февраля 2020."
   ]
  },
  {
   "cell_type": "markdown",
   "metadata": {},
   "source": [
    "### Описание Услуг\n",
    "- Стационарная телефонная связь. Возможно подключение телефонного аппарата к нескольким линиям одновременно.\n",
    "- Интернет. Подключение может быть двух типов: через телефонную линию DSL или оптоволоконный кабель Fiber optic.\n",
    "\n",
    "#### Дополнительные услуги:\n",
    "- Интернет-безопасность: антивирус (DeviceProtection) и блокировка небезопасных сайтов (OnlineSecurity);\n",
    "- Выделенная линия технической поддержки (TechSupport);\n",
    "- Облачное хранилище файлов для резервного копирования данных (OnlineBackup);\n",
    "- Стриминговое телевидение (StreamingTV) и каталог фильмов (StreamingMovies).\n",
    "\n",
    "За услуги клиенты могут платить каждый месяц или заключить договор на 1–2 года. Доступны различные способы расчёта и возможность получения электронного чека."
   ]
  },
  {
   "cell_type": "markdown",
   "metadata": {},
   "source": [
    "### Описание данных\n",
    "Данные состоят из файлов, полученных из разных источников:\n",
    "- contract.csv — информация о договоре;\n",
    "- personal.csv — персональные данные клиента;\n",
    "- internet.csv — информация об интернет-услугах;\n",
    "- phone.csv — информация об услугах телефонии.\n",
    "\n",
    "Во всех файлах столбец customerID содержит код клиента."
   ]
  },
  {
   "cell_type": "markdown",
   "metadata": {},
   "source": [
    "## 1. Исследовательский анализ данных"
   ]
  },
  {
   "cell_type": "markdown",
   "metadata": {},
   "source": [
    "### 1.1 Загрузка библиотек и  данных"
   ]
  },
  {
   "cell_type": "code",
   "execution_count": 1,
   "metadata": {},
   "outputs": [],
   "source": [
    "import pandas as pd\n",
    "import matplotlib\n",
    "import matplotlib.pyplot as plt\n",
    "%matplotlib inline\n",
    "from plotly.subplots import make_subplots\n",
    "import seaborn as sns\n",
    "import numpy as np\n",
    "import math\n",
    "pd.set_option('display.max_columns', 100)\n",
    "sns.set()\n",
    "import plotly\n",
    "\n",
    "from sklearn.compose import make_column_transformer\n",
    "from sklearn.model_selection import GridSearchCV, RandomizedSearchCV, train_test_split\n",
    "from sklearn.pipeline import make_pipeline\n",
    "from sklearn.preprocessing import OneHotEncoder, OrdinalEncoder, StandardScaler\n",
    "\n",
    "\n",
    "from sklearn.linear_model import LogisticRegression\n",
    "from sklearn.ensemble import RandomForestClassifier\n",
    "from lightgbm import LGBMClassifier\n",
    "\n",
    "from sklearn.metrics import accuracy_score, roc_auc_score, precision_score, recall_score, roc_curve, confusion_matrix\n",
    "\n",
    "from sklearn.preprocessing import OrdinalEncoder\n",
    "from xgboost import XGBClassifier\n",
    "from sklearn.utils import class_weight\n",
    "from sklearn.tree import DecisionTreeClassifier\n",
    "#from sklearn.ensemble import RandomForestClassifier\n",
    "from lightgbm import LGBMClassifier\n",
    "from catboost import CatBoostClassifier\n",
    "\n",
    "\n",
    "import warnings\n",
    "warnings.filterwarnings('ignore')\n",
    "\n",
    "#константы заглавными букваит\n",
    "RANDOM_STATE = 121222"
   ]
  },
  {
   "cell_type": "code",
   "execution_count": 2,
   "metadata": {},
   "outputs": [],
   "source": [
    "#contract = pd.read_csv('/datasets/final_provider/contract.csv')\n",
    "#personal = pd.read_csv('/datasets/final_provider/personal.csv')\n",
    "#internet = pd.read_csv('/datasets/final_provider/internet.csv')\n",
    "#phone = pd.read_csv('/datasets/final_provider/phone.csv')\n",
    "\n",
    "contract = pd.read_csv('/Users/Mikalai/Documents/Data Science/Выпускной проект/contract.csv')\n",
    "personal = pd.read_csv('/Users/Mikalai/Documents/Data Science/Выпускной проект/personal.csv')\n",
    "internet = pd.read_csv('/Users/Mikalai/Documents/Data Science/Выпускной проект/internet.csv')\n",
    "phone = pd.read_csv('/Users/Mikalai/Documents/Data Science/Выпускной проект/phone.csv')"
   ]
  },
  {
   "cell_type": "markdown",
   "metadata": {},
   "source": [
    "### 1.2 Изучение и предобработка данных таблицы contract"
   ]
  },
  {
   "cell_type": "markdown",
   "metadata": {},
   "source": [
    "#### 1.2.1 Изучение данных таблицы contract"
   ]
  },
  {
   "cell_type": "code",
   "execution_count": 3,
   "metadata": {},
   "outputs": [
    {
     "name": "stdout",
     "output_type": "stream",
     "text": [
      "<class 'pandas.core.frame.DataFrame'>\n",
      "RangeIndex: 7043 entries, 0 to 7042\n",
      "Data columns (total 8 columns):\n",
      " #   Column            Non-Null Count  Dtype  \n",
      "---  ------            --------------  -----  \n",
      " 0   customerID        7043 non-null   object \n",
      " 1   BeginDate         7043 non-null   object \n",
      " 2   EndDate           7043 non-null   object \n",
      " 3   Type              7043 non-null   object \n",
      " 4   PaperlessBilling  7043 non-null   object \n",
      " 5   PaymentMethod     7043 non-null   object \n",
      " 6   MonthlyCharges    7043 non-null   float64\n",
      " 7   TotalCharges      7043 non-null   object \n",
      "dtypes: float64(1), object(7)\n",
      "memory usage: 440.3+ KB\n"
     ]
    },
    {
     "data": {
      "text/plain": [
       "None"
      ]
     },
     "metadata": {},
     "output_type": "display_data"
    }
   ],
   "source": [
    "display(contract.info())"
   ]
  },
  {
   "cell_type": "code",
   "execution_count": 4,
   "metadata": {},
   "outputs": [
    {
     "data": {
      "text/html": [
       "<div>\n",
       "<style scoped>\n",
       "    .dataframe tbody tr th:only-of-type {\n",
       "        vertical-align: middle;\n",
       "    }\n",
       "\n",
       "    .dataframe tbody tr th {\n",
       "        vertical-align: top;\n",
       "    }\n",
       "\n",
       "    .dataframe thead th {\n",
       "        text-align: right;\n",
       "    }\n",
       "</style>\n",
       "<table border=\"1\" class=\"dataframe\">\n",
       "  <thead>\n",
       "    <tr style=\"text-align: right;\">\n",
       "      <th></th>\n",
       "      <th>customerID</th>\n",
       "      <th>BeginDate</th>\n",
       "      <th>EndDate</th>\n",
       "      <th>Type</th>\n",
       "      <th>PaperlessBilling</th>\n",
       "      <th>PaymentMethod</th>\n",
       "      <th>MonthlyCharges</th>\n",
       "      <th>TotalCharges</th>\n",
       "    </tr>\n",
       "  </thead>\n",
       "  <tbody>\n",
       "    <tr>\n",
       "      <th>0</th>\n",
       "      <td>7590-VHVEG</td>\n",
       "      <td>2020-01-01</td>\n",
       "      <td>No</td>\n",
       "      <td>Month-to-month</td>\n",
       "      <td>Yes</td>\n",
       "      <td>Electronic check</td>\n",
       "      <td>29.85</td>\n",
       "      <td>29.85</td>\n",
       "    </tr>\n",
       "    <tr>\n",
       "      <th>1</th>\n",
       "      <td>5575-GNVDE</td>\n",
       "      <td>2017-04-01</td>\n",
       "      <td>No</td>\n",
       "      <td>One year</td>\n",
       "      <td>No</td>\n",
       "      <td>Mailed check</td>\n",
       "      <td>56.95</td>\n",
       "      <td>1889.5</td>\n",
       "    </tr>\n",
       "    <tr>\n",
       "      <th>2</th>\n",
       "      <td>3668-QPYBK</td>\n",
       "      <td>2019-10-01</td>\n",
       "      <td>2019-12-01 00:00:00</td>\n",
       "      <td>Month-to-month</td>\n",
       "      <td>Yes</td>\n",
       "      <td>Mailed check</td>\n",
       "      <td>53.85</td>\n",
       "      <td>108.15</td>\n",
       "    </tr>\n",
       "    <tr>\n",
       "      <th>3</th>\n",
       "      <td>7795-CFOCW</td>\n",
       "      <td>2016-05-01</td>\n",
       "      <td>No</td>\n",
       "      <td>One year</td>\n",
       "      <td>No</td>\n",
       "      <td>Bank transfer (automatic)</td>\n",
       "      <td>42.30</td>\n",
       "      <td>1840.75</td>\n",
       "    </tr>\n",
       "    <tr>\n",
       "      <th>4</th>\n",
       "      <td>9237-HQITU</td>\n",
       "      <td>2019-09-01</td>\n",
       "      <td>2019-11-01 00:00:00</td>\n",
       "      <td>Month-to-month</td>\n",
       "      <td>Yes</td>\n",
       "      <td>Electronic check</td>\n",
       "      <td>70.70</td>\n",
       "      <td>151.65</td>\n",
       "    </tr>\n",
       "    <tr>\n",
       "      <th>5</th>\n",
       "      <td>9305-CDSKC</td>\n",
       "      <td>2019-03-01</td>\n",
       "      <td>2019-11-01 00:00:00</td>\n",
       "      <td>Month-to-month</td>\n",
       "      <td>Yes</td>\n",
       "      <td>Electronic check</td>\n",
       "      <td>99.65</td>\n",
       "      <td>820.5</td>\n",
       "    </tr>\n",
       "    <tr>\n",
       "      <th>6</th>\n",
       "      <td>1452-KIOVK</td>\n",
       "      <td>2018-04-01</td>\n",
       "      <td>No</td>\n",
       "      <td>Month-to-month</td>\n",
       "      <td>Yes</td>\n",
       "      <td>Credit card (automatic)</td>\n",
       "      <td>89.10</td>\n",
       "      <td>1949.4</td>\n",
       "    </tr>\n",
       "    <tr>\n",
       "      <th>7</th>\n",
       "      <td>6713-OKOMC</td>\n",
       "      <td>2019-04-01</td>\n",
       "      <td>No</td>\n",
       "      <td>Month-to-month</td>\n",
       "      <td>No</td>\n",
       "      <td>Mailed check</td>\n",
       "      <td>29.75</td>\n",
       "      <td>301.9</td>\n",
       "    </tr>\n",
       "    <tr>\n",
       "      <th>8</th>\n",
       "      <td>7892-POOKP</td>\n",
       "      <td>2017-07-01</td>\n",
       "      <td>2019-11-01 00:00:00</td>\n",
       "      <td>Month-to-month</td>\n",
       "      <td>Yes</td>\n",
       "      <td>Electronic check</td>\n",
       "      <td>104.80</td>\n",
       "      <td>3046.05</td>\n",
       "    </tr>\n",
       "    <tr>\n",
       "      <th>9</th>\n",
       "      <td>6388-TABGU</td>\n",
       "      <td>2014-12-01</td>\n",
       "      <td>No</td>\n",
       "      <td>One year</td>\n",
       "      <td>No</td>\n",
       "      <td>Bank transfer (automatic)</td>\n",
       "      <td>56.15</td>\n",
       "      <td>3487.95</td>\n",
       "    </tr>\n",
       "    <tr>\n",
       "      <th>10</th>\n",
       "      <td>9763-GRSKD</td>\n",
       "      <td>2019-01-01</td>\n",
       "      <td>No</td>\n",
       "      <td>Month-to-month</td>\n",
       "      <td>Yes</td>\n",
       "      <td>Mailed check</td>\n",
       "      <td>49.95</td>\n",
       "      <td>587.45</td>\n",
       "    </tr>\n",
       "    <tr>\n",
       "      <th>11</th>\n",
       "      <td>7469-LKBCI</td>\n",
       "      <td>2018-10-01</td>\n",
       "      <td>No</td>\n",
       "      <td>Two year</td>\n",
       "      <td>No</td>\n",
       "      <td>Credit card (automatic)</td>\n",
       "      <td>18.95</td>\n",
       "      <td>326.8</td>\n",
       "    </tr>\n",
       "    <tr>\n",
       "      <th>12</th>\n",
       "      <td>8091-TTVAX</td>\n",
       "      <td>2015-04-01</td>\n",
       "      <td>No</td>\n",
       "      <td>One year</td>\n",
       "      <td>No</td>\n",
       "      <td>Credit card (automatic)</td>\n",
       "      <td>100.35</td>\n",
       "      <td>5681.1</td>\n",
       "    </tr>\n",
       "    <tr>\n",
       "      <th>13</th>\n",
       "      <td>0280-XJGEX</td>\n",
       "      <td>2015-09-01</td>\n",
       "      <td>2019-10-01 00:00:00</td>\n",
       "      <td>Month-to-month</td>\n",
       "      <td>Yes</td>\n",
       "      <td>Bank transfer (automatic)</td>\n",
       "      <td>103.70</td>\n",
       "      <td>5036.3</td>\n",
       "    </tr>\n",
       "    <tr>\n",
       "      <th>14</th>\n",
       "      <td>5129-JLPIS</td>\n",
       "      <td>2018-01-01</td>\n",
       "      <td>No</td>\n",
       "      <td>Month-to-month</td>\n",
       "      <td>Yes</td>\n",
       "      <td>Electronic check</td>\n",
       "      <td>105.50</td>\n",
       "      <td>2686.05</td>\n",
       "    </tr>\n",
       "  </tbody>\n",
       "</table>\n",
       "</div>"
      ],
      "text/plain": [
       "    customerID   BeginDate              EndDate            Type  \\\n",
       "0   7590-VHVEG  2020-01-01                   No  Month-to-month   \n",
       "1   5575-GNVDE  2017-04-01                   No        One year   \n",
       "2   3668-QPYBK  2019-10-01  2019-12-01 00:00:00  Month-to-month   \n",
       "3   7795-CFOCW  2016-05-01                   No        One year   \n",
       "4   9237-HQITU  2019-09-01  2019-11-01 00:00:00  Month-to-month   \n",
       "5   9305-CDSKC  2019-03-01  2019-11-01 00:00:00  Month-to-month   \n",
       "6   1452-KIOVK  2018-04-01                   No  Month-to-month   \n",
       "7   6713-OKOMC  2019-04-01                   No  Month-to-month   \n",
       "8   7892-POOKP  2017-07-01  2019-11-01 00:00:00  Month-to-month   \n",
       "9   6388-TABGU  2014-12-01                   No        One year   \n",
       "10  9763-GRSKD  2019-01-01                   No  Month-to-month   \n",
       "11  7469-LKBCI  2018-10-01                   No        Two year   \n",
       "12  8091-TTVAX  2015-04-01                   No        One year   \n",
       "13  0280-XJGEX  2015-09-01  2019-10-01 00:00:00  Month-to-month   \n",
       "14  5129-JLPIS  2018-01-01                   No  Month-to-month   \n",
       "\n",
       "   PaperlessBilling              PaymentMethod  MonthlyCharges TotalCharges  \n",
       "0               Yes           Electronic check           29.85        29.85  \n",
       "1                No               Mailed check           56.95       1889.5  \n",
       "2               Yes               Mailed check           53.85       108.15  \n",
       "3                No  Bank transfer (automatic)           42.30      1840.75  \n",
       "4               Yes           Electronic check           70.70       151.65  \n",
       "5               Yes           Electronic check           99.65        820.5  \n",
       "6               Yes    Credit card (automatic)           89.10       1949.4  \n",
       "7                No               Mailed check           29.75        301.9  \n",
       "8               Yes           Electronic check          104.80      3046.05  \n",
       "9                No  Bank transfer (automatic)           56.15      3487.95  \n",
       "10              Yes               Mailed check           49.95       587.45  \n",
       "11               No    Credit card (automatic)           18.95        326.8  \n",
       "12               No    Credit card (automatic)          100.35       5681.1  \n",
       "13              Yes  Bank transfer (automatic)          103.70       5036.3  \n",
       "14              Yes           Electronic check          105.50      2686.05  "
      ]
     },
     "metadata": {},
     "output_type": "display_data"
    }
   ],
   "source": [
    "display(contract.head(15))"
   ]
  },
  {
   "cell_type": "code",
   "execution_count": 5,
   "metadata": {},
   "outputs": [
    {
     "data": {
      "text/html": [
       "<div>\n",
       "<style scoped>\n",
       "    .dataframe tbody tr th:only-of-type {\n",
       "        vertical-align: middle;\n",
       "    }\n",
       "\n",
       "    .dataframe tbody tr th {\n",
       "        vertical-align: top;\n",
       "    }\n",
       "\n",
       "    .dataframe thead th {\n",
       "        text-align: right;\n",
       "    }\n",
       "</style>\n",
       "<table border=\"1\" class=\"dataframe\">\n",
       "  <thead>\n",
       "    <tr style=\"text-align: right;\">\n",
       "      <th></th>\n",
       "      <th>customerID</th>\n",
       "      <th>BeginDate</th>\n",
       "      <th>EndDate</th>\n",
       "      <th>Type</th>\n",
       "      <th>PaperlessBilling</th>\n",
       "      <th>PaymentMethod</th>\n",
       "      <th>MonthlyCharges</th>\n",
       "      <th>TotalCharges</th>\n",
       "    </tr>\n",
       "  </thead>\n",
       "  <tbody>\n",
       "    <tr>\n",
       "      <th>count</th>\n",
       "      <td>7043</td>\n",
       "      <td>7043</td>\n",
       "      <td>7043</td>\n",
       "      <td>7043</td>\n",
       "      <td>7043</td>\n",
       "      <td>7043</td>\n",
       "      <td>7043.000000</td>\n",
       "      <td>7043</td>\n",
       "    </tr>\n",
       "    <tr>\n",
       "      <th>unique</th>\n",
       "      <td>7043</td>\n",
       "      <td>77</td>\n",
       "      <td>5</td>\n",
       "      <td>3</td>\n",
       "      <td>2</td>\n",
       "      <td>4</td>\n",
       "      <td>NaN</td>\n",
       "      <td>6531</td>\n",
       "    </tr>\n",
       "    <tr>\n",
       "      <th>top</th>\n",
       "      <td>7590-VHVEG</td>\n",
       "      <td>2014-02-01</td>\n",
       "      <td>No</td>\n",
       "      <td>Month-to-month</td>\n",
       "      <td>Yes</td>\n",
       "      <td>Electronic check</td>\n",
       "      <td>NaN</td>\n",
       "      <td></td>\n",
       "    </tr>\n",
       "    <tr>\n",
       "      <th>freq</th>\n",
       "      <td>1</td>\n",
       "      <td>366</td>\n",
       "      <td>5174</td>\n",
       "      <td>3875</td>\n",
       "      <td>4171</td>\n",
       "      <td>2365</td>\n",
       "      <td>NaN</td>\n",
       "      <td>11</td>\n",
       "    </tr>\n",
       "    <tr>\n",
       "      <th>mean</th>\n",
       "      <td>NaN</td>\n",
       "      <td>NaN</td>\n",
       "      <td>NaN</td>\n",
       "      <td>NaN</td>\n",
       "      <td>NaN</td>\n",
       "      <td>NaN</td>\n",
       "      <td>64.761692</td>\n",
       "      <td>NaN</td>\n",
       "    </tr>\n",
       "    <tr>\n",
       "      <th>std</th>\n",
       "      <td>NaN</td>\n",
       "      <td>NaN</td>\n",
       "      <td>NaN</td>\n",
       "      <td>NaN</td>\n",
       "      <td>NaN</td>\n",
       "      <td>NaN</td>\n",
       "      <td>30.090047</td>\n",
       "      <td>NaN</td>\n",
       "    </tr>\n",
       "    <tr>\n",
       "      <th>min</th>\n",
       "      <td>NaN</td>\n",
       "      <td>NaN</td>\n",
       "      <td>NaN</td>\n",
       "      <td>NaN</td>\n",
       "      <td>NaN</td>\n",
       "      <td>NaN</td>\n",
       "      <td>18.250000</td>\n",
       "      <td>NaN</td>\n",
       "    </tr>\n",
       "    <tr>\n",
       "      <th>25%</th>\n",
       "      <td>NaN</td>\n",
       "      <td>NaN</td>\n",
       "      <td>NaN</td>\n",
       "      <td>NaN</td>\n",
       "      <td>NaN</td>\n",
       "      <td>NaN</td>\n",
       "      <td>35.500000</td>\n",
       "      <td>NaN</td>\n",
       "    </tr>\n",
       "    <tr>\n",
       "      <th>50%</th>\n",
       "      <td>NaN</td>\n",
       "      <td>NaN</td>\n",
       "      <td>NaN</td>\n",
       "      <td>NaN</td>\n",
       "      <td>NaN</td>\n",
       "      <td>NaN</td>\n",
       "      <td>70.350000</td>\n",
       "      <td>NaN</td>\n",
       "    </tr>\n",
       "    <tr>\n",
       "      <th>75%</th>\n",
       "      <td>NaN</td>\n",
       "      <td>NaN</td>\n",
       "      <td>NaN</td>\n",
       "      <td>NaN</td>\n",
       "      <td>NaN</td>\n",
       "      <td>NaN</td>\n",
       "      <td>89.850000</td>\n",
       "      <td>NaN</td>\n",
       "    </tr>\n",
       "    <tr>\n",
       "      <th>max</th>\n",
       "      <td>NaN</td>\n",
       "      <td>NaN</td>\n",
       "      <td>NaN</td>\n",
       "      <td>NaN</td>\n",
       "      <td>NaN</td>\n",
       "      <td>NaN</td>\n",
       "      <td>118.750000</td>\n",
       "      <td>NaN</td>\n",
       "    </tr>\n",
       "  </tbody>\n",
       "</table>\n",
       "</div>"
      ],
      "text/plain": [
       "        customerID   BeginDate EndDate            Type PaperlessBilling  \\\n",
       "count         7043        7043    7043            7043             7043   \n",
       "unique        7043          77       5               3                2   \n",
       "top     7590-VHVEG  2014-02-01      No  Month-to-month              Yes   \n",
       "freq             1         366    5174            3875             4171   \n",
       "mean           NaN         NaN     NaN             NaN              NaN   \n",
       "std            NaN         NaN     NaN             NaN              NaN   \n",
       "min            NaN         NaN     NaN             NaN              NaN   \n",
       "25%            NaN         NaN     NaN             NaN              NaN   \n",
       "50%            NaN         NaN     NaN             NaN              NaN   \n",
       "75%            NaN         NaN     NaN             NaN              NaN   \n",
       "max            NaN         NaN     NaN             NaN              NaN   \n",
       "\n",
       "           PaymentMethod  MonthlyCharges TotalCharges  \n",
       "count               7043     7043.000000         7043  \n",
       "unique                 4             NaN         6531  \n",
       "top     Electronic check             NaN               \n",
       "freq                2365             NaN           11  \n",
       "mean                 NaN       64.761692          NaN  \n",
       "std                  NaN       30.090047          NaN  \n",
       "min                  NaN       18.250000          NaN  \n",
       "25%                  NaN       35.500000          NaN  \n",
       "50%                  NaN       70.350000          NaN  \n",
       "75%                  NaN       89.850000          NaN  \n",
       "max                  NaN      118.750000          NaN  "
      ]
     },
     "metadata": {},
     "output_type": "display_data"
    }
   ],
   "source": [
    "display(contract.describe(include = 'all')) "
   ]
  },
  {
   "cell_type": "markdown",
   "metadata": {},
   "source": [
    "Проверим данные на дубликаты по коду клиента"
   ]
  },
  {
   "cell_type": "code",
   "execution_count": 6,
   "metadata": {},
   "outputs": [
    {
     "name": "stdout",
     "output_type": "stream",
     "text": [
      "Дублирующих строк таблицы contract: 0\n"
     ]
    }
   ],
   "source": [
    "print('Дублирующих строк таблицы contract:', contract['customerID'].duplicated().sum())"
   ]
  },
  {
   "cell_type": "markdown",
   "metadata": {},
   "source": [
    "Проверим данные на пропуски"
   ]
  },
  {
   "cell_type": "code",
   "execution_count": 7,
   "metadata": {},
   "outputs": [
    {
     "data": {
      "text/plain": [
       "customerID          0\n",
       "BeginDate           0\n",
       "EndDate             0\n",
       "Type                0\n",
       "PaperlessBilling    0\n",
       "PaymentMethod       0\n",
       "MonthlyCharges      0\n",
       "TotalCharges        0\n",
       "dtype: int64"
      ]
     },
     "execution_count": 7,
     "metadata": {},
     "output_type": "execute_result"
    }
   ],
   "source": [
    "contract.isna().sum()"
   ]
  },
  {
   "cell_type": "markdown",
   "metadata": {},
   "source": [
    "Таблица contract содержит 7043 строки и 8 столбцов. Пропусков и дубликатов нет.\n",
    "\n",
    "В таблице contract представлена информация о договорах, и включает:\n",
    "- customerID - уникальный ID клиента\n",
    "- BeginDate - дата начала пользования услугами\n",
    "- EndDate - дата окончания пользования услугами\n",
    "- Type - тип оплаты: ежемесячный, годовой и т.д.\n",
    "- PaperlessBilling - безбумажная оплата или нет\n",
    "- PaymentMethod - способы оплаты за услуги\n",
    "- MonthlyCharges - ежемесячные траты на услуги \n",
    "- TotalCharges - всего потрачено денег на услуги"
   ]
  },
  {
   "cell_type": "markdown",
   "metadata": {},
   "source": [
    "По результату ознокомления с данными таблицы contract определяем необходимые действия по предобработке данных:\n",
    "- привести названия столбцов в соответствие с хорошим стилем\n",
    "- изменить тип данных в столбцах Type, PaperlessBilling, PaymentMethod на категориальный\n",
    "- тип данных в столбце BeginDate привести к типу date\n",
    "- тип данных в столбце EndDate привести к типу date\n",
    "- если в столбце EndDate дата расторжения договора обозначенена как 'No', то это значит что на момент выгрузки данных договор не расторгнут. Поэтому заменим данные в столбце EndDate с обозначением 'No' на дату выгрузки данных '2020-02-01'\n",
    "- тип данных в столбце TotalCharges привести к типу float"
   ]
  },
  {
   "cell_type": "markdown",
   "metadata": {},
   "source": [
    "#### 1.2.2 Предобработка данных таблицы contract"
   ]
  },
  {
   "cell_type": "code",
   "execution_count": 8,
   "metadata": {},
   "outputs": [
    {
     "name": "stdout",
     "output_type": "stream",
     "text": [
      "<class 'pandas.core.frame.DataFrame'>\n",
      "RangeIndex: 7043 entries, 0 to 7042\n",
      "Data columns (total 8 columns):\n",
      " #   Column            Non-Null Count  Dtype  \n",
      "---  ------            --------------  -----  \n",
      " 0   customerID        7043 non-null   object \n",
      " 1   BeginDate         7043 non-null   object \n",
      " 2   EndDate           7043 non-null   object \n",
      " 3   Type              7043 non-null   object \n",
      " 4   PaperlessBilling  7043 non-null   object \n",
      " 5   PaymentMethod     7043 non-null   object \n",
      " 6   MonthlyCharges    7043 non-null   float64\n",
      " 7   TotalCharges      7043 non-null   object \n",
      "dtypes: float64(1), object(7)\n",
      "memory usage: 440.3+ KB\n"
     ]
    }
   ],
   "source": [
    "contract.info()"
   ]
  },
  {
   "cell_type": "markdown",
   "metadata": {},
   "source": [
    "Названия столбцов приводим в соответствие с хорошим стилем"
   ]
  },
  {
   "cell_type": "code",
   "execution_count": 9,
   "metadata": {},
   "outputs": [
    {
     "name": "stdout",
     "output_type": "stream",
     "text": [
      "<class 'pandas.core.frame.DataFrame'>\n",
      "RangeIndex: 7043 entries, 0 to 7042\n",
      "Data columns (total 8 columns):\n",
      " #   Column             Non-Null Count  Dtype  \n",
      "---  ------             --------------  -----  \n",
      " 0   customer_id        7043 non-null   object \n",
      " 1   begin_date         7043 non-null   object \n",
      " 2   end_date           7043 non-null   object \n",
      " 3   billing_type       7043 non-null   object \n",
      " 4   paperless_billing  7043 non-null   object \n",
      " 5   payment_method     7043 non-null   object \n",
      " 6   monthly_charges    7043 non-null   float64\n",
      " 7   total_charges      7043 non-null   object \n",
      "dtypes: float64(1), object(7)\n",
      "memory usage: 440.3+ KB\n"
     ]
    }
   ],
   "source": [
    "contract = contract.rename(columns = {'customerID':'customer_id',\n",
    "                                                'BeginDate' : 'begin_date',\n",
    "                                                'EndDate' : 'end_date',\n",
    "                                                'Type' : 'billing_type',\n",
    "                                                'PaperlessBilling' : 'paperless_billing',\n",
    "                                                'PaymentMethod' : 'payment_method',\n",
    "                                                'MonthlyCharges' : 'monthly_charges',\n",
    "                                                'TotalCharges' : 'total_charges'})\n",
    "contract.info()"
   ]
  },
  {
   "cell_type": "markdown",
   "metadata": {},
   "source": [
    "Изменение типа данных в столбцах на категориальный"
   ]
  },
  {
   "cell_type": "code",
   "execution_count": 10,
   "metadata": {},
   "outputs": [
    {
     "name": "stdout",
     "output_type": "stream",
     "text": [
      "<class 'pandas.core.frame.DataFrame'>\n",
      "RangeIndex: 7043 entries, 0 to 7042\n",
      "Data columns (total 8 columns):\n",
      " #   Column             Non-Null Count  Dtype   \n",
      "---  ------             --------------  -----   \n",
      " 0   customer_id        7043 non-null   object  \n",
      " 1   begin_date         7043 non-null   object  \n",
      " 2   end_date           7043 non-null   object  \n",
      " 3   billing_type       7043 non-null   category\n",
      " 4   paperless_billing  7043 non-null   category\n",
      " 5   payment_method     7043 non-null   category\n",
      " 6   monthly_charges    7043 non-null   float64 \n",
      " 7   total_charges      7043 non-null   object  \n",
      "dtypes: category(3), float64(1), object(4)\n",
      "memory usage: 296.3+ KB\n"
     ]
    }
   ],
   "source": [
    "contract['billing_type'] = contract['billing_type'].astype('category')\n",
    "contract['payment_method'] = contract['payment_method'].astype('category')\n",
    "contract['paperless_billing'] = contract['paperless_billing'].astype('category')\n",
    "contract.info()"
   ]
  },
  {
   "cell_type": "markdown",
   "metadata": {},
   "source": [
    "Приведение типа данных столбца begin_date к типу date"
   ]
  },
  {
   "cell_type": "code",
   "execution_count": 11,
   "metadata": {},
   "outputs": [
    {
     "name": "stdout",
     "output_type": "stream",
     "text": [
      "<class 'pandas.core.frame.DataFrame'>\n",
      "RangeIndex: 7043 entries, 0 to 7042\n",
      "Data columns (total 8 columns):\n",
      " #   Column             Non-Null Count  Dtype         \n",
      "---  ------             --------------  -----         \n",
      " 0   customer_id        7043 non-null   object        \n",
      " 1   begin_date         7043 non-null   datetime64[ns]\n",
      " 2   end_date           7043 non-null   object        \n",
      " 3   billing_type       7043 non-null   category      \n",
      " 4   paperless_billing  7043 non-null   category      \n",
      " 5   payment_method     7043 non-null   category      \n",
      " 6   monthly_charges    7043 non-null   float64       \n",
      " 7   total_charges      7043 non-null   object        \n",
      "dtypes: category(3), datetime64[ns](1), float64(1), object(3)\n",
      "memory usage: 296.3+ KB\n"
     ]
    },
    {
     "data": {
      "text/plain": [
       "None"
      ]
     },
     "metadata": {},
     "output_type": "display_data"
    }
   ],
   "source": [
    "contract['begin_date'] = pd.to_datetime(contract['begin_date'], format='%Y-%m-%d')\n",
    "display(contract.info())"
   ]
  },
  {
   "cell_type": "markdown",
   "metadata": {},
   "source": [
    "Если в столбце end_date дата расторжения договора обозначенена как 'No', то это значит что на момент выгрузки данных договор не расторгнут. Поэтому заменим данные в столбце end_date с обозначением 'No' на дату выгрузки данных '2020-02-01'"
   ]
  },
  {
   "cell_type": "code",
   "execution_count": 12,
   "metadata": {},
   "outputs": [
    {
     "data": {
      "text/plain": [
       "array(['2020-02-01', '2019-12-01 00:00:00', '2019-11-01 00:00:00',\n",
       "       '2019-10-01 00:00:00', '2020-01-01 00:00:00'], dtype=object)"
      ]
     },
     "metadata": {},
     "output_type": "display_data"
    }
   ],
   "source": [
    "contract['end_date'] = contract['end_date'].replace(to_replace='No', value='2020-02-01')\n",
    "display(contract['end_date'].unique())"
   ]
  },
  {
   "cell_type": "markdown",
   "metadata": {},
   "source": [
    "Приведение типа данных столбца end_date к типу date "
   ]
  },
  {
   "cell_type": "code",
   "execution_count": 13,
   "metadata": {},
   "outputs": [
    {
     "name": "stdout",
     "output_type": "stream",
     "text": [
      "<class 'pandas.core.frame.DataFrame'>\n",
      "RangeIndex: 7043 entries, 0 to 7042\n",
      "Data columns (total 8 columns):\n",
      " #   Column             Non-Null Count  Dtype         \n",
      "---  ------             --------------  -----         \n",
      " 0   customer_id        7043 non-null   object        \n",
      " 1   begin_date         7043 non-null   datetime64[ns]\n",
      " 2   end_date           7043 non-null   datetime64[ns]\n",
      " 3   billing_type       7043 non-null   category      \n",
      " 4   paperless_billing  7043 non-null   category      \n",
      " 5   payment_method     7043 non-null   category      \n",
      " 6   monthly_charges    7043 non-null   float64       \n",
      " 7   total_charges      7043 non-null   object        \n",
      "dtypes: category(3), datetime64[ns](2), float64(1), object(2)\n",
      "memory usage: 296.3+ KB\n"
     ]
    },
    {
     "data": {
      "text/plain": [
       "None"
      ]
     },
     "metadata": {},
     "output_type": "display_data"
    }
   ],
   "source": [
    "contract['end_date'] = pd.to_datetime(contract['end_date'], format='%Y-%m-%d')\n",
    "display(contract.info())"
   ]
  },
  {
   "cell_type": "markdown",
   "metadata": {},
   "source": [
    "Изменение типа данных в столбце total_charges к типу float"
   ]
  },
  {
   "cell_type": "code",
   "execution_count": 14,
   "metadata": {},
   "outputs": [
    {
     "name": "stdout",
     "output_type": "stream",
     "text": [
      "<class 'pandas.core.frame.DataFrame'>\n",
      "RangeIndex: 7043 entries, 0 to 7042\n",
      "Data columns (total 8 columns):\n",
      " #   Column             Non-Null Count  Dtype         \n",
      "---  ------             --------------  -----         \n",
      " 0   customer_id        7043 non-null   object        \n",
      " 1   begin_date         7043 non-null   datetime64[ns]\n",
      " 2   end_date           7043 non-null   datetime64[ns]\n",
      " 3   billing_type       7043 non-null   category      \n",
      " 4   paperless_billing  7043 non-null   category      \n",
      " 5   payment_method     7043 non-null   category      \n",
      " 6   monthly_charges    7043 non-null   float64       \n",
      " 7   total_charges      7032 non-null   float64       \n",
      "dtypes: category(3), datetime64[ns](2), float64(2), object(1)\n",
      "memory usage: 296.3+ KB\n"
     ]
    },
    {
     "data": {
      "text/plain": [
       "None"
      ]
     },
     "metadata": {},
     "output_type": "display_data"
    }
   ],
   "source": [
    "contract['total_charges'] = pd.to_numeric(arg=contract['total_charges'], errors='coerce')\n",
    "display(contract.info())"
   ]
  },
  {
   "cell_type": "markdown",
   "metadata": {},
   "source": [
    "Появились для 11 клиентов пропуски значений total_charges. Посмотрим на пропуски"
   ]
  },
  {
   "cell_type": "code",
   "execution_count": 15,
   "metadata": {},
   "outputs": [
    {
     "data": {
      "text/html": [
       "<div>\n",
       "<style scoped>\n",
       "    .dataframe tbody tr th:only-of-type {\n",
       "        vertical-align: middle;\n",
       "    }\n",
       "\n",
       "    .dataframe tbody tr th {\n",
       "        vertical-align: top;\n",
       "    }\n",
       "\n",
       "    .dataframe thead th {\n",
       "        text-align: right;\n",
       "    }\n",
       "</style>\n",
       "<table border=\"1\" class=\"dataframe\">\n",
       "  <thead>\n",
       "    <tr style=\"text-align: right;\">\n",
       "      <th></th>\n",
       "      <th>customer_id</th>\n",
       "      <th>begin_date</th>\n",
       "      <th>end_date</th>\n",
       "      <th>billing_type</th>\n",
       "      <th>paperless_billing</th>\n",
       "      <th>payment_method</th>\n",
       "      <th>monthly_charges</th>\n",
       "      <th>total_charges</th>\n",
       "    </tr>\n",
       "  </thead>\n",
       "  <tbody>\n",
       "    <tr>\n",
       "      <th>488</th>\n",
       "      <td>4472-LVYGI</td>\n",
       "      <td>2020-02-01</td>\n",
       "      <td>2020-02-01</td>\n",
       "      <td>Two year</td>\n",
       "      <td>Yes</td>\n",
       "      <td>Bank transfer (automatic)</td>\n",
       "      <td>52.55</td>\n",
       "      <td>NaN</td>\n",
       "    </tr>\n",
       "    <tr>\n",
       "      <th>753</th>\n",
       "      <td>3115-CZMZD</td>\n",
       "      <td>2020-02-01</td>\n",
       "      <td>2020-02-01</td>\n",
       "      <td>Two year</td>\n",
       "      <td>No</td>\n",
       "      <td>Mailed check</td>\n",
       "      <td>20.25</td>\n",
       "      <td>NaN</td>\n",
       "    </tr>\n",
       "    <tr>\n",
       "      <th>936</th>\n",
       "      <td>5709-LVOEQ</td>\n",
       "      <td>2020-02-01</td>\n",
       "      <td>2020-02-01</td>\n",
       "      <td>Two year</td>\n",
       "      <td>No</td>\n",
       "      <td>Mailed check</td>\n",
       "      <td>80.85</td>\n",
       "      <td>NaN</td>\n",
       "    </tr>\n",
       "    <tr>\n",
       "      <th>1082</th>\n",
       "      <td>4367-NUYAO</td>\n",
       "      <td>2020-02-01</td>\n",
       "      <td>2020-02-01</td>\n",
       "      <td>Two year</td>\n",
       "      <td>No</td>\n",
       "      <td>Mailed check</td>\n",
       "      <td>25.75</td>\n",
       "      <td>NaN</td>\n",
       "    </tr>\n",
       "    <tr>\n",
       "      <th>1340</th>\n",
       "      <td>1371-DWPAZ</td>\n",
       "      <td>2020-02-01</td>\n",
       "      <td>2020-02-01</td>\n",
       "      <td>Two year</td>\n",
       "      <td>No</td>\n",
       "      <td>Credit card (automatic)</td>\n",
       "      <td>56.05</td>\n",
       "      <td>NaN</td>\n",
       "    </tr>\n",
       "    <tr>\n",
       "      <th>3331</th>\n",
       "      <td>7644-OMVMY</td>\n",
       "      <td>2020-02-01</td>\n",
       "      <td>2020-02-01</td>\n",
       "      <td>Two year</td>\n",
       "      <td>No</td>\n",
       "      <td>Mailed check</td>\n",
       "      <td>19.85</td>\n",
       "      <td>NaN</td>\n",
       "    </tr>\n",
       "    <tr>\n",
       "      <th>3826</th>\n",
       "      <td>3213-VVOLG</td>\n",
       "      <td>2020-02-01</td>\n",
       "      <td>2020-02-01</td>\n",
       "      <td>Two year</td>\n",
       "      <td>No</td>\n",
       "      <td>Mailed check</td>\n",
       "      <td>25.35</td>\n",
       "      <td>NaN</td>\n",
       "    </tr>\n",
       "    <tr>\n",
       "      <th>4380</th>\n",
       "      <td>2520-SGTTA</td>\n",
       "      <td>2020-02-01</td>\n",
       "      <td>2020-02-01</td>\n",
       "      <td>Two year</td>\n",
       "      <td>No</td>\n",
       "      <td>Mailed check</td>\n",
       "      <td>20.00</td>\n",
       "      <td>NaN</td>\n",
       "    </tr>\n",
       "    <tr>\n",
       "      <th>5218</th>\n",
       "      <td>2923-ARZLG</td>\n",
       "      <td>2020-02-01</td>\n",
       "      <td>2020-02-01</td>\n",
       "      <td>One year</td>\n",
       "      <td>Yes</td>\n",
       "      <td>Mailed check</td>\n",
       "      <td>19.70</td>\n",
       "      <td>NaN</td>\n",
       "    </tr>\n",
       "    <tr>\n",
       "      <th>6670</th>\n",
       "      <td>4075-WKNIU</td>\n",
       "      <td>2020-02-01</td>\n",
       "      <td>2020-02-01</td>\n",
       "      <td>Two year</td>\n",
       "      <td>No</td>\n",
       "      <td>Mailed check</td>\n",
       "      <td>73.35</td>\n",
       "      <td>NaN</td>\n",
       "    </tr>\n",
       "    <tr>\n",
       "      <th>6754</th>\n",
       "      <td>2775-SEFEE</td>\n",
       "      <td>2020-02-01</td>\n",
       "      <td>2020-02-01</td>\n",
       "      <td>Two year</td>\n",
       "      <td>Yes</td>\n",
       "      <td>Bank transfer (automatic)</td>\n",
       "      <td>61.90</td>\n",
       "      <td>NaN</td>\n",
       "    </tr>\n",
       "  </tbody>\n",
       "</table>\n",
       "</div>"
      ],
      "text/plain": [
       "     customer_id begin_date   end_date billing_type paperless_billing  \\\n",
       "488   4472-LVYGI 2020-02-01 2020-02-01     Two year               Yes   \n",
       "753   3115-CZMZD 2020-02-01 2020-02-01     Two year                No   \n",
       "936   5709-LVOEQ 2020-02-01 2020-02-01     Two year                No   \n",
       "1082  4367-NUYAO 2020-02-01 2020-02-01     Two year                No   \n",
       "1340  1371-DWPAZ 2020-02-01 2020-02-01     Two year                No   \n",
       "3331  7644-OMVMY 2020-02-01 2020-02-01     Two year                No   \n",
       "3826  3213-VVOLG 2020-02-01 2020-02-01     Two year                No   \n",
       "4380  2520-SGTTA 2020-02-01 2020-02-01     Two year                No   \n",
       "5218  2923-ARZLG 2020-02-01 2020-02-01     One year               Yes   \n",
       "6670  4075-WKNIU 2020-02-01 2020-02-01     Two year                No   \n",
       "6754  2775-SEFEE 2020-02-01 2020-02-01     Two year               Yes   \n",
       "\n",
       "                 payment_method  monthly_charges  total_charges  \n",
       "488   Bank transfer (automatic)            52.55            NaN  \n",
       "753                Mailed check            20.25            NaN  \n",
       "936                Mailed check            80.85            NaN  \n",
       "1082               Mailed check            25.75            NaN  \n",
       "1340    Credit card (automatic)            56.05            NaN  \n",
       "3331               Mailed check            19.85            NaN  \n",
       "3826               Mailed check            25.35            NaN  \n",
       "4380               Mailed check            20.00            NaN  \n",
       "5218               Mailed check            19.70            NaN  \n",
       "6670               Mailed check            73.35            NaN  \n",
       "6754  Bank transfer (automatic)            61.90            NaN  "
      ]
     },
     "execution_count": 15,
     "metadata": {},
     "output_type": "execute_result"
    }
   ],
   "source": [
    "contract.sort_values(by='total_charges').tail(11)"
   ]
  },
  {
   "cell_type": "markdown",
   "metadata": {},
   "source": [
    "Видим, что это клиенты, которые только что подключились. У них имеютя значения месячного платежа monthly_charges. Заполним пропуски в total_charges на значения monthly_charges"
   ]
  },
  {
   "cell_type": "code",
   "execution_count": 16,
   "metadata": {},
   "outputs": [
    {
     "data": {
      "text/html": [
       "<div>\n",
       "<style scoped>\n",
       "    .dataframe tbody tr th:only-of-type {\n",
       "        vertical-align: middle;\n",
       "    }\n",
       "\n",
       "    .dataframe tbody tr th {\n",
       "        vertical-align: top;\n",
       "    }\n",
       "\n",
       "    .dataframe thead th {\n",
       "        text-align: right;\n",
       "    }\n",
       "</style>\n",
       "<table border=\"1\" class=\"dataframe\">\n",
       "  <thead>\n",
       "    <tr style=\"text-align: right;\">\n",
       "      <th></th>\n",
       "      <th>customer_id</th>\n",
       "      <th>begin_date</th>\n",
       "      <th>end_date</th>\n",
       "      <th>billing_type</th>\n",
       "      <th>paperless_billing</th>\n",
       "      <th>payment_method</th>\n",
       "      <th>monthly_charges</th>\n",
       "      <th>total_charges</th>\n",
       "    </tr>\n",
       "  </thead>\n",
       "  <tbody>\n",
       "    <tr>\n",
       "      <th>488</th>\n",
       "      <td>4472-LVYGI</td>\n",
       "      <td>2020-02-01</td>\n",
       "      <td>2020-02-01</td>\n",
       "      <td>Two year</td>\n",
       "      <td>Yes</td>\n",
       "      <td>Bank transfer (automatic)</td>\n",
       "      <td>52.55</td>\n",
       "      <td>NaN</td>\n",
       "    </tr>\n",
       "    <tr>\n",
       "      <th>753</th>\n",
       "      <td>3115-CZMZD</td>\n",
       "      <td>2020-02-01</td>\n",
       "      <td>2020-02-01</td>\n",
       "      <td>Two year</td>\n",
       "      <td>No</td>\n",
       "      <td>Mailed check</td>\n",
       "      <td>20.25</td>\n",
       "      <td>NaN</td>\n",
       "    </tr>\n",
       "    <tr>\n",
       "      <th>936</th>\n",
       "      <td>5709-LVOEQ</td>\n",
       "      <td>2020-02-01</td>\n",
       "      <td>2020-02-01</td>\n",
       "      <td>Two year</td>\n",
       "      <td>No</td>\n",
       "      <td>Mailed check</td>\n",
       "      <td>80.85</td>\n",
       "      <td>NaN</td>\n",
       "    </tr>\n",
       "    <tr>\n",
       "      <th>1082</th>\n",
       "      <td>4367-NUYAO</td>\n",
       "      <td>2020-02-01</td>\n",
       "      <td>2020-02-01</td>\n",
       "      <td>Two year</td>\n",
       "      <td>No</td>\n",
       "      <td>Mailed check</td>\n",
       "      <td>25.75</td>\n",
       "      <td>NaN</td>\n",
       "    </tr>\n",
       "    <tr>\n",
       "      <th>1340</th>\n",
       "      <td>1371-DWPAZ</td>\n",
       "      <td>2020-02-01</td>\n",
       "      <td>2020-02-01</td>\n",
       "      <td>Two year</td>\n",
       "      <td>No</td>\n",
       "      <td>Credit card (automatic)</td>\n",
       "      <td>56.05</td>\n",
       "      <td>NaN</td>\n",
       "    </tr>\n",
       "    <tr>\n",
       "      <th>3331</th>\n",
       "      <td>7644-OMVMY</td>\n",
       "      <td>2020-02-01</td>\n",
       "      <td>2020-02-01</td>\n",
       "      <td>Two year</td>\n",
       "      <td>No</td>\n",
       "      <td>Mailed check</td>\n",
       "      <td>19.85</td>\n",
       "      <td>NaN</td>\n",
       "    </tr>\n",
       "    <tr>\n",
       "      <th>3826</th>\n",
       "      <td>3213-VVOLG</td>\n",
       "      <td>2020-02-01</td>\n",
       "      <td>2020-02-01</td>\n",
       "      <td>Two year</td>\n",
       "      <td>No</td>\n",
       "      <td>Mailed check</td>\n",
       "      <td>25.35</td>\n",
       "      <td>NaN</td>\n",
       "    </tr>\n",
       "    <tr>\n",
       "      <th>4380</th>\n",
       "      <td>2520-SGTTA</td>\n",
       "      <td>2020-02-01</td>\n",
       "      <td>2020-02-01</td>\n",
       "      <td>Two year</td>\n",
       "      <td>No</td>\n",
       "      <td>Mailed check</td>\n",
       "      <td>20.00</td>\n",
       "      <td>NaN</td>\n",
       "    </tr>\n",
       "    <tr>\n",
       "      <th>5218</th>\n",
       "      <td>2923-ARZLG</td>\n",
       "      <td>2020-02-01</td>\n",
       "      <td>2020-02-01</td>\n",
       "      <td>One year</td>\n",
       "      <td>Yes</td>\n",
       "      <td>Mailed check</td>\n",
       "      <td>19.70</td>\n",
       "      <td>NaN</td>\n",
       "    </tr>\n",
       "    <tr>\n",
       "      <th>6670</th>\n",
       "      <td>4075-WKNIU</td>\n",
       "      <td>2020-02-01</td>\n",
       "      <td>2020-02-01</td>\n",
       "      <td>Two year</td>\n",
       "      <td>No</td>\n",
       "      <td>Mailed check</td>\n",
       "      <td>73.35</td>\n",
       "      <td>NaN</td>\n",
       "    </tr>\n",
       "    <tr>\n",
       "      <th>6754</th>\n",
       "      <td>2775-SEFEE</td>\n",
       "      <td>2020-02-01</td>\n",
       "      <td>2020-02-01</td>\n",
       "      <td>Two year</td>\n",
       "      <td>Yes</td>\n",
       "      <td>Bank transfer (automatic)</td>\n",
       "      <td>61.90</td>\n",
       "      <td>NaN</td>\n",
       "    </tr>\n",
       "  </tbody>\n",
       "</table>\n",
       "</div>"
      ],
      "text/plain": [
       "     customer_id begin_date   end_date billing_type paperless_billing  \\\n",
       "488   4472-LVYGI 2020-02-01 2020-02-01     Two year               Yes   \n",
       "753   3115-CZMZD 2020-02-01 2020-02-01     Two year                No   \n",
       "936   5709-LVOEQ 2020-02-01 2020-02-01     Two year                No   \n",
       "1082  4367-NUYAO 2020-02-01 2020-02-01     Two year                No   \n",
       "1340  1371-DWPAZ 2020-02-01 2020-02-01     Two year                No   \n",
       "3331  7644-OMVMY 2020-02-01 2020-02-01     Two year                No   \n",
       "3826  3213-VVOLG 2020-02-01 2020-02-01     Two year                No   \n",
       "4380  2520-SGTTA 2020-02-01 2020-02-01     Two year                No   \n",
       "5218  2923-ARZLG 2020-02-01 2020-02-01     One year               Yes   \n",
       "6670  4075-WKNIU 2020-02-01 2020-02-01     Two year                No   \n",
       "6754  2775-SEFEE 2020-02-01 2020-02-01     Two year               Yes   \n",
       "\n",
       "                 payment_method  monthly_charges  total_charges  \n",
       "488   Bank transfer (automatic)            52.55            NaN  \n",
       "753                Mailed check            20.25            NaN  \n",
       "936                Mailed check            80.85            NaN  \n",
       "1082               Mailed check            25.75            NaN  \n",
       "1340    Credit card (automatic)            56.05            NaN  \n",
       "3331               Mailed check            19.85            NaN  \n",
       "3826               Mailed check            25.35            NaN  \n",
       "4380               Mailed check            20.00            NaN  \n",
       "5218               Mailed check            19.70            NaN  \n",
       "6670               Mailed check            73.35            NaN  \n",
       "6754  Bank transfer (automatic)            61.90            NaN  "
      ]
     },
     "execution_count": 16,
     "metadata": {},
     "output_type": "execute_result"
    }
   ],
   "source": [
    "total_charges_NaN = contract.sort_values(by='total_charges').tail(11)['total_charges'].index\n",
    "contract.loc[total_charges_NaN]"
   ]
  },
  {
   "cell_type": "code",
   "execution_count": 17,
   "metadata": {},
   "outputs": [
    {
     "data": {
      "text/html": [
       "<div>\n",
       "<style scoped>\n",
       "    .dataframe tbody tr th:only-of-type {\n",
       "        vertical-align: middle;\n",
       "    }\n",
       "\n",
       "    .dataframe tbody tr th {\n",
       "        vertical-align: top;\n",
       "    }\n",
       "\n",
       "    .dataframe thead th {\n",
       "        text-align: right;\n",
       "    }\n",
       "</style>\n",
       "<table border=\"1\" class=\"dataframe\">\n",
       "  <thead>\n",
       "    <tr style=\"text-align: right;\">\n",
       "      <th></th>\n",
       "      <th>customer_id</th>\n",
       "      <th>begin_date</th>\n",
       "      <th>end_date</th>\n",
       "      <th>billing_type</th>\n",
       "      <th>paperless_billing</th>\n",
       "      <th>payment_method</th>\n",
       "      <th>monthly_charges</th>\n",
       "      <th>total_charges</th>\n",
       "    </tr>\n",
       "  </thead>\n",
       "  <tbody>\n",
       "    <tr>\n",
       "      <th>488</th>\n",
       "      <td>4472-LVYGI</td>\n",
       "      <td>2020-02-01</td>\n",
       "      <td>2020-02-01</td>\n",
       "      <td>Two year</td>\n",
       "      <td>Yes</td>\n",
       "      <td>Bank transfer (automatic)</td>\n",
       "      <td>52.55</td>\n",
       "      <td>52.55</td>\n",
       "    </tr>\n",
       "    <tr>\n",
       "      <th>753</th>\n",
       "      <td>3115-CZMZD</td>\n",
       "      <td>2020-02-01</td>\n",
       "      <td>2020-02-01</td>\n",
       "      <td>Two year</td>\n",
       "      <td>No</td>\n",
       "      <td>Mailed check</td>\n",
       "      <td>20.25</td>\n",
       "      <td>20.25</td>\n",
       "    </tr>\n",
       "    <tr>\n",
       "      <th>936</th>\n",
       "      <td>5709-LVOEQ</td>\n",
       "      <td>2020-02-01</td>\n",
       "      <td>2020-02-01</td>\n",
       "      <td>Two year</td>\n",
       "      <td>No</td>\n",
       "      <td>Mailed check</td>\n",
       "      <td>80.85</td>\n",
       "      <td>80.85</td>\n",
       "    </tr>\n",
       "    <tr>\n",
       "      <th>1082</th>\n",
       "      <td>4367-NUYAO</td>\n",
       "      <td>2020-02-01</td>\n",
       "      <td>2020-02-01</td>\n",
       "      <td>Two year</td>\n",
       "      <td>No</td>\n",
       "      <td>Mailed check</td>\n",
       "      <td>25.75</td>\n",
       "      <td>25.75</td>\n",
       "    </tr>\n",
       "    <tr>\n",
       "      <th>1340</th>\n",
       "      <td>1371-DWPAZ</td>\n",
       "      <td>2020-02-01</td>\n",
       "      <td>2020-02-01</td>\n",
       "      <td>Two year</td>\n",
       "      <td>No</td>\n",
       "      <td>Credit card (automatic)</td>\n",
       "      <td>56.05</td>\n",
       "      <td>56.05</td>\n",
       "    </tr>\n",
       "    <tr>\n",
       "      <th>3331</th>\n",
       "      <td>7644-OMVMY</td>\n",
       "      <td>2020-02-01</td>\n",
       "      <td>2020-02-01</td>\n",
       "      <td>Two year</td>\n",
       "      <td>No</td>\n",
       "      <td>Mailed check</td>\n",
       "      <td>19.85</td>\n",
       "      <td>19.85</td>\n",
       "    </tr>\n",
       "    <tr>\n",
       "      <th>3826</th>\n",
       "      <td>3213-VVOLG</td>\n",
       "      <td>2020-02-01</td>\n",
       "      <td>2020-02-01</td>\n",
       "      <td>Two year</td>\n",
       "      <td>No</td>\n",
       "      <td>Mailed check</td>\n",
       "      <td>25.35</td>\n",
       "      <td>25.35</td>\n",
       "    </tr>\n",
       "    <tr>\n",
       "      <th>4380</th>\n",
       "      <td>2520-SGTTA</td>\n",
       "      <td>2020-02-01</td>\n",
       "      <td>2020-02-01</td>\n",
       "      <td>Two year</td>\n",
       "      <td>No</td>\n",
       "      <td>Mailed check</td>\n",
       "      <td>20.00</td>\n",
       "      <td>20.00</td>\n",
       "    </tr>\n",
       "    <tr>\n",
       "      <th>5218</th>\n",
       "      <td>2923-ARZLG</td>\n",
       "      <td>2020-02-01</td>\n",
       "      <td>2020-02-01</td>\n",
       "      <td>One year</td>\n",
       "      <td>Yes</td>\n",
       "      <td>Mailed check</td>\n",
       "      <td>19.70</td>\n",
       "      <td>19.70</td>\n",
       "    </tr>\n",
       "    <tr>\n",
       "      <th>6670</th>\n",
       "      <td>4075-WKNIU</td>\n",
       "      <td>2020-02-01</td>\n",
       "      <td>2020-02-01</td>\n",
       "      <td>Two year</td>\n",
       "      <td>No</td>\n",
       "      <td>Mailed check</td>\n",
       "      <td>73.35</td>\n",
       "      <td>73.35</td>\n",
       "    </tr>\n",
       "    <tr>\n",
       "      <th>6754</th>\n",
       "      <td>2775-SEFEE</td>\n",
       "      <td>2020-02-01</td>\n",
       "      <td>2020-02-01</td>\n",
       "      <td>Two year</td>\n",
       "      <td>Yes</td>\n",
       "      <td>Bank transfer (automatic)</td>\n",
       "      <td>61.90</td>\n",
       "      <td>61.90</td>\n",
       "    </tr>\n",
       "  </tbody>\n",
       "</table>\n",
       "</div>"
      ],
      "text/plain": [
       "     customer_id begin_date   end_date billing_type paperless_billing  \\\n",
       "488   4472-LVYGI 2020-02-01 2020-02-01     Two year               Yes   \n",
       "753   3115-CZMZD 2020-02-01 2020-02-01     Two year                No   \n",
       "936   5709-LVOEQ 2020-02-01 2020-02-01     Two year                No   \n",
       "1082  4367-NUYAO 2020-02-01 2020-02-01     Two year                No   \n",
       "1340  1371-DWPAZ 2020-02-01 2020-02-01     Two year                No   \n",
       "3331  7644-OMVMY 2020-02-01 2020-02-01     Two year                No   \n",
       "3826  3213-VVOLG 2020-02-01 2020-02-01     Two year                No   \n",
       "4380  2520-SGTTA 2020-02-01 2020-02-01     Two year                No   \n",
       "5218  2923-ARZLG 2020-02-01 2020-02-01     One year               Yes   \n",
       "6670  4075-WKNIU 2020-02-01 2020-02-01     Two year                No   \n",
       "6754  2775-SEFEE 2020-02-01 2020-02-01     Two year               Yes   \n",
       "\n",
       "                 payment_method  monthly_charges  total_charges  \n",
       "488   Bank transfer (automatic)            52.55          52.55  \n",
       "753                Mailed check            20.25          20.25  \n",
       "936                Mailed check            80.85          80.85  \n",
       "1082               Mailed check            25.75          25.75  \n",
       "1340    Credit card (automatic)            56.05          56.05  \n",
       "3331               Mailed check            19.85          19.85  \n",
       "3826               Mailed check            25.35          25.35  \n",
       "4380               Mailed check            20.00          20.00  \n",
       "5218               Mailed check            19.70          19.70  \n",
       "6670               Mailed check            73.35          73.35  \n",
       "6754  Bank transfer (automatic)            61.90          61.90  "
      ]
     },
     "execution_count": 17,
     "metadata": {},
     "output_type": "execute_result"
    }
   ],
   "source": [
    "contract['total_charges'] = np.where(contract['total_charges'] > 0, \\\n",
    "                                       contract['total_charges'], contract['monthly_charges'])\n",
    "contract.loc[total_charges_NaN]"
   ]
  },
  {
   "cell_type": "code",
   "execution_count": 18,
   "metadata": {},
   "outputs": [
    {
     "name": "stdout",
     "output_type": "stream",
     "text": [
      "<class 'pandas.core.frame.DataFrame'>\n",
      "RangeIndex: 7043 entries, 0 to 7042\n",
      "Data columns (total 8 columns):\n",
      " #   Column             Non-Null Count  Dtype         \n",
      "---  ------             --------------  -----         \n",
      " 0   customer_id        7043 non-null   object        \n",
      " 1   begin_date         7043 non-null   datetime64[ns]\n",
      " 2   end_date           7043 non-null   datetime64[ns]\n",
      " 3   billing_type       7043 non-null   category      \n",
      " 4   paperless_billing  7043 non-null   category      \n",
      " 5   payment_method     7043 non-null   category      \n",
      " 6   monthly_charges    7043 non-null   float64       \n",
      " 7   total_charges      7043 non-null   float64       \n",
      "dtypes: category(3), datetime64[ns](2), float64(2), object(1)\n",
      "memory usage: 296.3+ KB\n"
     ]
    },
    {
     "data": {
      "text/plain": [
       "None"
      ]
     },
     "metadata": {},
     "output_type": "display_data"
    }
   ],
   "source": [
    "display(contract.info())"
   ]
  },
  {
   "cell_type": "code",
   "execution_count": 19,
   "metadata": {},
   "outputs": [
    {
     "data": {
      "text/html": [
       "<div>\n",
       "<style scoped>\n",
       "    .dataframe tbody tr th:only-of-type {\n",
       "        vertical-align: middle;\n",
       "    }\n",
       "\n",
       "    .dataframe tbody tr th {\n",
       "        vertical-align: top;\n",
       "    }\n",
       "\n",
       "    .dataframe thead th {\n",
       "        text-align: right;\n",
       "    }\n",
       "</style>\n",
       "<table border=\"1\" class=\"dataframe\">\n",
       "  <thead>\n",
       "    <tr style=\"text-align: right;\">\n",
       "      <th></th>\n",
       "      <th>customer_id</th>\n",
       "      <th>begin_date</th>\n",
       "      <th>end_date</th>\n",
       "      <th>billing_type</th>\n",
       "      <th>paperless_billing</th>\n",
       "      <th>payment_method</th>\n",
       "      <th>monthly_charges</th>\n",
       "      <th>total_charges</th>\n",
       "    </tr>\n",
       "  </thead>\n",
       "  <tbody>\n",
       "    <tr>\n",
       "      <th>0</th>\n",
       "      <td>7590-VHVEG</td>\n",
       "      <td>2020-01-01</td>\n",
       "      <td>2020-02-01</td>\n",
       "      <td>Month-to-month</td>\n",
       "      <td>Yes</td>\n",
       "      <td>Electronic check</td>\n",
       "      <td>29.85</td>\n",
       "      <td>29.85</td>\n",
       "    </tr>\n",
       "    <tr>\n",
       "      <th>1</th>\n",
       "      <td>5575-GNVDE</td>\n",
       "      <td>2017-04-01</td>\n",
       "      <td>2020-02-01</td>\n",
       "      <td>One year</td>\n",
       "      <td>No</td>\n",
       "      <td>Mailed check</td>\n",
       "      <td>56.95</td>\n",
       "      <td>1889.50</td>\n",
       "    </tr>\n",
       "    <tr>\n",
       "      <th>2</th>\n",
       "      <td>3668-QPYBK</td>\n",
       "      <td>2019-10-01</td>\n",
       "      <td>2019-12-01</td>\n",
       "      <td>Month-to-month</td>\n",
       "      <td>Yes</td>\n",
       "      <td>Mailed check</td>\n",
       "      <td>53.85</td>\n",
       "      <td>108.15</td>\n",
       "    </tr>\n",
       "    <tr>\n",
       "      <th>3</th>\n",
       "      <td>7795-CFOCW</td>\n",
       "      <td>2016-05-01</td>\n",
       "      <td>2020-02-01</td>\n",
       "      <td>One year</td>\n",
       "      <td>No</td>\n",
       "      <td>Bank transfer (automatic)</td>\n",
       "      <td>42.30</td>\n",
       "      <td>1840.75</td>\n",
       "    </tr>\n",
       "    <tr>\n",
       "      <th>4</th>\n",
       "      <td>9237-HQITU</td>\n",
       "      <td>2019-09-01</td>\n",
       "      <td>2019-11-01</td>\n",
       "      <td>Month-to-month</td>\n",
       "      <td>Yes</td>\n",
       "      <td>Electronic check</td>\n",
       "      <td>70.70</td>\n",
       "      <td>151.65</td>\n",
       "    </tr>\n",
       "  </tbody>\n",
       "</table>\n",
       "</div>"
      ],
      "text/plain": [
       "  customer_id begin_date   end_date    billing_type paperless_billing  \\\n",
       "0  7590-VHVEG 2020-01-01 2020-02-01  Month-to-month               Yes   \n",
       "1  5575-GNVDE 2017-04-01 2020-02-01        One year                No   \n",
       "2  3668-QPYBK 2019-10-01 2019-12-01  Month-to-month               Yes   \n",
       "3  7795-CFOCW 2016-05-01 2020-02-01        One year                No   \n",
       "4  9237-HQITU 2019-09-01 2019-11-01  Month-to-month               Yes   \n",
       "\n",
       "              payment_method  monthly_charges  total_charges  \n",
       "0           Electronic check            29.85          29.85  \n",
       "1               Mailed check            56.95        1889.50  \n",
       "2               Mailed check            53.85         108.15  \n",
       "3  Bank transfer (automatic)            42.30        1840.75  \n",
       "4           Electronic check            70.70         151.65  "
      ]
     },
     "metadata": {},
     "output_type": "display_data"
    }
   ],
   "source": [
    "display(contract.head())"
   ]
  },
  {
   "cell_type": "markdown",
   "metadata": {},
   "source": [
    "### 1.3 Изучение и предобработка данных таблицы personal"
   ]
  },
  {
   "cell_type": "markdown",
   "metadata": {},
   "source": [
    "#### 1.3.1 Изучение данных таблицы personal"
   ]
  },
  {
   "cell_type": "code",
   "execution_count": 20,
   "metadata": {},
   "outputs": [
    {
     "name": "stdout",
     "output_type": "stream",
     "text": [
      "<class 'pandas.core.frame.DataFrame'>\n",
      "RangeIndex: 7043 entries, 0 to 7042\n",
      "Data columns (total 5 columns):\n",
      " #   Column         Non-Null Count  Dtype \n",
      "---  ------         --------------  ----- \n",
      " 0   customerID     7043 non-null   object\n",
      " 1   gender         7043 non-null   object\n",
      " 2   SeniorCitizen  7043 non-null   int64 \n",
      " 3   Partner        7043 non-null   object\n",
      " 4   Dependents     7043 non-null   object\n",
      "dtypes: int64(1), object(4)\n",
      "memory usage: 275.2+ KB\n"
     ]
    },
    {
     "data": {
      "text/plain": [
       "None"
      ]
     },
     "metadata": {},
     "output_type": "display_data"
    }
   ],
   "source": [
    "display(personal.info())"
   ]
  },
  {
   "cell_type": "code",
   "execution_count": 21,
   "metadata": {},
   "outputs": [
    {
     "data": {
      "text/html": [
       "<div>\n",
       "<style scoped>\n",
       "    .dataframe tbody tr th:only-of-type {\n",
       "        vertical-align: middle;\n",
       "    }\n",
       "\n",
       "    .dataframe tbody tr th {\n",
       "        vertical-align: top;\n",
       "    }\n",
       "\n",
       "    .dataframe thead th {\n",
       "        text-align: right;\n",
       "    }\n",
       "</style>\n",
       "<table border=\"1\" class=\"dataframe\">\n",
       "  <thead>\n",
       "    <tr style=\"text-align: right;\">\n",
       "      <th></th>\n",
       "      <th>customerID</th>\n",
       "      <th>gender</th>\n",
       "      <th>SeniorCitizen</th>\n",
       "      <th>Partner</th>\n",
       "      <th>Dependents</th>\n",
       "    </tr>\n",
       "  </thead>\n",
       "  <tbody>\n",
       "    <tr>\n",
       "      <th>0</th>\n",
       "      <td>7590-VHVEG</td>\n",
       "      <td>Female</td>\n",
       "      <td>0</td>\n",
       "      <td>Yes</td>\n",
       "      <td>No</td>\n",
       "    </tr>\n",
       "    <tr>\n",
       "      <th>1</th>\n",
       "      <td>5575-GNVDE</td>\n",
       "      <td>Male</td>\n",
       "      <td>0</td>\n",
       "      <td>No</td>\n",
       "      <td>No</td>\n",
       "    </tr>\n",
       "    <tr>\n",
       "      <th>2</th>\n",
       "      <td>3668-QPYBK</td>\n",
       "      <td>Male</td>\n",
       "      <td>0</td>\n",
       "      <td>No</td>\n",
       "      <td>No</td>\n",
       "    </tr>\n",
       "    <tr>\n",
       "      <th>3</th>\n",
       "      <td>7795-CFOCW</td>\n",
       "      <td>Male</td>\n",
       "      <td>0</td>\n",
       "      <td>No</td>\n",
       "      <td>No</td>\n",
       "    </tr>\n",
       "    <tr>\n",
       "      <th>4</th>\n",
       "      <td>9237-HQITU</td>\n",
       "      <td>Female</td>\n",
       "      <td>0</td>\n",
       "      <td>No</td>\n",
       "      <td>No</td>\n",
       "    </tr>\n",
       "    <tr>\n",
       "      <th>5</th>\n",
       "      <td>9305-CDSKC</td>\n",
       "      <td>Female</td>\n",
       "      <td>0</td>\n",
       "      <td>No</td>\n",
       "      <td>No</td>\n",
       "    </tr>\n",
       "    <tr>\n",
       "      <th>6</th>\n",
       "      <td>1452-KIOVK</td>\n",
       "      <td>Male</td>\n",
       "      <td>0</td>\n",
       "      <td>No</td>\n",
       "      <td>Yes</td>\n",
       "    </tr>\n",
       "    <tr>\n",
       "      <th>7</th>\n",
       "      <td>6713-OKOMC</td>\n",
       "      <td>Female</td>\n",
       "      <td>0</td>\n",
       "      <td>No</td>\n",
       "      <td>No</td>\n",
       "    </tr>\n",
       "    <tr>\n",
       "      <th>8</th>\n",
       "      <td>7892-POOKP</td>\n",
       "      <td>Female</td>\n",
       "      <td>0</td>\n",
       "      <td>Yes</td>\n",
       "      <td>No</td>\n",
       "    </tr>\n",
       "    <tr>\n",
       "      <th>9</th>\n",
       "      <td>6388-TABGU</td>\n",
       "      <td>Male</td>\n",
       "      <td>0</td>\n",
       "      <td>No</td>\n",
       "      <td>Yes</td>\n",
       "    </tr>\n",
       "  </tbody>\n",
       "</table>\n",
       "</div>"
      ],
      "text/plain": [
       "   customerID  gender  SeniorCitizen Partner Dependents\n",
       "0  7590-VHVEG  Female              0     Yes         No\n",
       "1  5575-GNVDE    Male              0      No         No\n",
       "2  3668-QPYBK    Male              0      No         No\n",
       "3  7795-CFOCW    Male              0      No         No\n",
       "4  9237-HQITU  Female              0      No         No\n",
       "5  9305-CDSKC  Female              0      No         No\n",
       "6  1452-KIOVK    Male              0      No        Yes\n",
       "7  6713-OKOMC  Female              0      No         No\n",
       "8  7892-POOKP  Female              0     Yes         No\n",
       "9  6388-TABGU    Male              0      No        Yes"
      ]
     },
     "metadata": {},
     "output_type": "display_data"
    }
   ],
   "source": [
    "display(personal.head(10))"
   ]
  },
  {
   "cell_type": "code",
   "execution_count": 22,
   "metadata": {},
   "outputs": [
    {
     "data": {
      "text/html": [
       "<div>\n",
       "<style scoped>\n",
       "    .dataframe tbody tr th:only-of-type {\n",
       "        vertical-align: middle;\n",
       "    }\n",
       "\n",
       "    .dataframe tbody tr th {\n",
       "        vertical-align: top;\n",
       "    }\n",
       "\n",
       "    .dataframe thead th {\n",
       "        text-align: right;\n",
       "    }\n",
       "</style>\n",
       "<table border=\"1\" class=\"dataframe\">\n",
       "  <thead>\n",
       "    <tr style=\"text-align: right;\">\n",
       "      <th></th>\n",
       "      <th>customerID</th>\n",
       "      <th>gender</th>\n",
       "      <th>SeniorCitizen</th>\n",
       "      <th>Partner</th>\n",
       "      <th>Dependents</th>\n",
       "    </tr>\n",
       "  </thead>\n",
       "  <tbody>\n",
       "    <tr>\n",
       "      <th>count</th>\n",
       "      <td>7043</td>\n",
       "      <td>7043</td>\n",
       "      <td>7043.000000</td>\n",
       "      <td>7043</td>\n",
       "      <td>7043</td>\n",
       "    </tr>\n",
       "    <tr>\n",
       "      <th>unique</th>\n",
       "      <td>7043</td>\n",
       "      <td>2</td>\n",
       "      <td>NaN</td>\n",
       "      <td>2</td>\n",
       "      <td>2</td>\n",
       "    </tr>\n",
       "    <tr>\n",
       "      <th>top</th>\n",
       "      <td>7590-VHVEG</td>\n",
       "      <td>Male</td>\n",
       "      <td>NaN</td>\n",
       "      <td>No</td>\n",
       "      <td>No</td>\n",
       "    </tr>\n",
       "    <tr>\n",
       "      <th>freq</th>\n",
       "      <td>1</td>\n",
       "      <td>3555</td>\n",
       "      <td>NaN</td>\n",
       "      <td>3641</td>\n",
       "      <td>4933</td>\n",
       "    </tr>\n",
       "    <tr>\n",
       "      <th>mean</th>\n",
       "      <td>NaN</td>\n",
       "      <td>NaN</td>\n",
       "      <td>0.162147</td>\n",
       "      <td>NaN</td>\n",
       "      <td>NaN</td>\n",
       "    </tr>\n",
       "    <tr>\n",
       "      <th>std</th>\n",
       "      <td>NaN</td>\n",
       "      <td>NaN</td>\n",
       "      <td>0.368612</td>\n",
       "      <td>NaN</td>\n",
       "      <td>NaN</td>\n",
       "    </tr>\n",
       "    <tr>\n",
       "      <th>min</th>\n",
       "      <td>NaN</td>\n",
       "      <td>NaN</td>\n",
       "      <td>0.000000</td>\n",
       "      <td>NaN</td>\n",
       "      <td>NaN</td>\n",
       "    </tr>\n",
       "    <tr>\n",
       "      <th>25%</th>\n",
       "      <td>NaN</td>\n",
       "      <td>NaN</td>\n",
       "      <td>0.000000</td>\n",
       "      <td>NaN</td>\n",
       "      <td>NaN</td>\n",
       "    </tr>\n",
       "    <tr>\n",
       "      <th>50%</th>\n",
       "      <td>NaN</td>\n",
       "      <td>NaN</td>\n",
       "      <td>0.000000</td>\n",
       "      <td>NaN</td>\n",
       "      <td>NaN</td>\n",
       "    </tr>\n",
       "    <tr>\n",
       "      <th>75%</th>\n",
       "      <td>NaN</td>\n",
       "      <td>NaN</td>\n",
       "      <td>0.000000</td>\n",
       "      <td>NaN</td>\n",
       "      <td>NaN</td>\n",
       "    </tr>\n",
       "    <tr>\n",
       "      <th>max</th>\n",
       "      <td>NaN</td>\n",
       "      <td>NaN</td>\n",
       "      <td>1.000000</td>\n",
       "      <td>NaN</td>\n",
       "      <td>NaN</td>\n",
       "    </tr>\n",
       "  </tbody>\n",
       "</table>\n",
       "</div>"
      ],
      "text/plain": [
       "        customerID gender  SeniorCitizen Partner Dependents\n",
       "count         7043   7043    7043.000000    7043       7043\n",
       "unique        7043      2            NaN       2          2\n",
       "top     7590-VHVEG   Male            NaN      No         No\n",
       "freq             1   3555            NaN    3641       4933\n",
       "mean           NaN    NaN       0.162147     NaN        NaN\n",
       "std            NaN    NaN       0.368612     NaN        NaN\n",
       "min            NaN    NaN       0.000000     NaN        NaN\n",
       "25%            NaN    NaN       0.000000     NaN        NaN\n",
       "50%            NaN    NaN       0.000000     NaN        NaN\n",
       "75%            NaN    NaN       0.000000     NaN        NaN\n",
       "max            NaN    NaN       1.000000     NaN        NaN"
      ]
     },
     "metadata": {},
     "output_type": "display_data"
    }
   ],
   "source": [
    "display(personal.describe(include = 'all')) "
   ]
  },
  {
   "cell_type": "code",
   "execution_count": 23,
   "metadata": {},
   "outputs": [
    {
     "name": "stdout",
     "output_type": "stream",
     "text": [
      "Дублирующих строк таблицы personal: 0\n"
     ]
    }
   ],
   "source": [
    "print('Дублирующих строк таблицы personal:', personal['customerID'].duplicated().sum())"
   ]
  },
  {
   "cell_type": "code",
   "execution_count": 24,
   "metadata": {},
   "outputs": [
    {
     "data": {
      "text/plain": [
       "customerID       0\n",
       "gender           0\n",
       "SeniorCitizen    0\n",
       "Partner          0\n",
       "Dependents       0\n",
       "dtype: int64"
      ]
     },
     "execution_count": 24,
     "metadata": {},
     "output_type": "execute_result"
    }
   ],
   "source": [
    "personal.isna().sum()"
   ]
  },
  {
   "cell_type": "markdown",
   "metadata": {},
   "source": [
    "Таблица contract содержит 7043 строки и 5 столбцов. Пропусков и дубликатов нет.\n",
    "\n",
    "В таблице personal представлена информация о клиентах, и включает:\n",
    "- customerID - уникальный ID клиента\n",
    "- gender - пол клиента\n",
    "- SeniorCitizen - наличие пенсионного статуса по возрасту\n",
    "- Partner - наличие супруга(и)\n",
    "- Dependents - наличие иждивенцев"
   ]
  },
  {
   "cell_type": "markdown",
   "metadata": {},
   "source": [
    "По результату ознокомления с данными таблицы personal определяем необходимые действия по предобработке данных:\n",
    "- привести названия столбцов в соответствие с хорошим стилем\n",
    "- изменить тип данных в столбцах gender, Partner, Dependents на категориальный "
   ]
  },
  {
   "cell_type": "markdown",
   "metadata": {},
   "source": [
    "#### 1.3.2 Предобработка данных таблицы personal"
   ]
  },
  {
   "cell_type": "code",
   "execution_count": 25,
   "metadata": {},
   "outputs": [
    {
     "name": "stdout",
     "output_type": "stream",
     "text": [
      "<class 'pandas.core.frame.DataFrame'>\n",
      "RangeIndex: 7043 entries, 0 to 7042\n",
      "Data columns (total 5 columns):\n",
      " #   Column         Non-Null Count  Dtype \n",
      "---  ------         --------------  ----- \n",
      " 0   customerID     7043 non-null   object\n",
      " 1   gender         7043 non-null   object\n",
      " 2   SeniorCitizen  7043 non-null   int64 \n",
      " 3   Partner        7043 non-null   object\n",
      " 4   Dependents     7043 non-null   object\n",
      "dtypes: int64(1), object(4)\n",
      "memory usage: 275.2+ KB\n"
     ]
    }
   ],
   "source": [
    "personal.info()"
   ]
  },
  {
   "cell_type": "markdown",
   "metadata": {},
   "source": [
    "Названия столбцов приводим в соответствие с хорошим стилем"
   ]
  },
  {
   "cell_type": "code",
   "execution_count": 26,
   "metadata": {},
   "outputs": [
    {
     "name": "stdout",
     "output_type": "stream",
     "text": [
      "<class 'pandas.core.frame.DataFrame'>\n",
      "RangeIndex: 7043 entries, 0 to 7042\n",
      "Data columns (total 5 columns):\n",
      " #   Column          Non-Null Count  Dtype \n",
      "---  ------          --------------  ----- \n",
      " 0   customer_id     7043 non-null   object\n",
      " 1   gender          7043 non-null   object\n",
      " 2   senior_sitizen  7043 non-null   int64 \n",
      " 3   partner         7043 non-null   object\n",
      " 4   dependents      7043 non-null   object\n",
      "dtypes: int64(1), object(4)\n",
      "memory usage: 275.2+ KB\n"
     ]
    },
    {
     "data": {
      "text/plain": [
       "None"
      ]
     },
     "metadata": {},
     "output_type": "display_data"
    }
   ],
   "source": [
    "personal = personal.rename(columns={'customerID' : 'customer_id',\n",
    "                                              'SeniorCitizen' : 'senior_sitizen',\n",
    "                                              'Partner' : 'partner',\n",
    "                                              'Dependents' : 'dependents'})\n",
    "display(personal.info())"
   ]
  },
  {
   "cell_type": "markdown",
   "metadata": {},
   "source": [
    "Изменение типа данных в столбцах  gender, partner, dependents на категориальный"
   ]
  },
  {
   "cell_type": "code",
   "execution_count": 27,
   "metadata": {},
   "outputs": [
    {
     "name": "stdout",
     "output_type": "stream",
     "text": [
      "<class 'pandas.core.frame.DataFrame'>\n",
      "RangeIndex: 7043 entries, 0 to 7042\n",
      "Data columns (total 5 columns):\n",
      " #   Column          Non-Null Count  Dtype   \n",
      "---  ------          --------------  -----   \n",
      " 0   customer_id     7043 non-null   object  \n",
      " 1   gender          7043 non-null   category\n",
      " 2   senior_sitizen  7043 non-null   category\n",
      " 3   partner         7043 non-null   category\n",
      " 4   dependents      7043 non-null   category\n",
      "dtypes: category(4), object(1)\n",
      "memory usage: 83.1+ KB\n"
     ]
    }
   ],
   "source": [
    "personal['gender'] = personal['gender'].astype('category')\n",
    "personal['partner'] = personal['partner'].astype('category')\n",
    "personal['dependents'] = personal['dependents'].astype('category')\n",
    "personal['senior_sitizen'] = personal['senior_sitizen'].astype('category')\n",
    "personal.info()"
   ]
  },
  {
   "cell_type": "code",
   "execution_count": 28,
   "metadata": {},
   "outputs": [
    {
     "data": {
      "text/html": [
       "<div>\n",
       "<style scoped>\n",
       "    .dataframe tbody tr th:only-of-type {\n",
       "        vertical-align: middle;\n",
       "    }\n",
       "\n",
       "    .dataframe tbody tr th {\n",
       "        vertical-align: top;\n",
       "    }\n",
       "\n",
       "    .dataframe thead th {\n",
       "        text-align: right;\n",
       "    }\n",
       "</style>\n",
       "<table border=\"1\" class=\"dataframe\">\n",
       "  <thead>\n",
       "    <tr style=\"text-align: right;\">\n",
       "      <th></th>\n",
       "      <th>customer_id</th>\n",
       "      <th>gender</th>\n",
       "      <th>senior_sitizen</th>\n",
       "      <th>partner</th>\n",
       "      <th>dependents</th>\n",
       "    </tr>\n",
       "  </thead>\n",
       "  <tbody>\n",
       "    <tr>\n",
       "      <th>0</th>\n",
       "      <td>7590-VHVEG</td>\n",
       "      <td>Female</td>\n",
       "      <td>0</td>\n",
       "      <td>Yes</td>\n",
       "      <td>No</td>\n",
       "    </tr>\n",
       "    <tr>\n",
       "      <th>1</th>\n",
       "      <td>5575-GNVDE</td>\n",
       "      <td>Male</td>\n",
       "      <td>0</td>\n",
       "      <td>No</td>\n",
       "      <td>No</td>\n",
       "    </tr>\n",
       "    <tr>\n",
       "      <th>2</th>\n",
       "      <td>3668-QPYBK</td>\n",
       "      <td>Male</td>\n",
       "      <td>0</td>\n",
       "      <td>No</td>\n",
       "      <td>No</td>\n",
       "    </tr>\n",
       "    <tr>\n",
       "      <th>3</th>\n",
       "      <td>7795-CFOCW</td>\n",
       "      <td>Male</td>\n",
       "      <td>0</td>\n",
       "      <td>No</td>\n",
       "      <td>No</td>\n",
       "    </tr>\n",
       "    <tr>\n",
       "      <th>4</th>\n",
       "      <td>9237-HQITU</td>\n",
       "      <td>Female</td>\n",
       "      <td>0</td>\n",
       "      <td>No</td>\n",
       "      <td>No</td>\n",
       "    </tr>\n",
       "    <tr>\n",
       "      <th>5</th>\n",
       "      <td>9305-CDSKC</td>\n",
       "      <td>Female</td>\n",
       "      <td>0</td>\n",
       "      <td>No</td>\n",
       "      <td>No</td>\n",
       "    </tr>\n",
       "    <tr>\n",
       "      <th>6</th>\n",
       "      <td>1452-KIOVK</td>\n",
       "      <td>Male</td>\n",
       "      <td>0</td>\n",
       "      <td>No</td>\n",
       "      <td>Yes</td>\n",
       "    </tr>\n",
       "    <tr>\n",
       "      <th>7</th>\n",
       "      <td>6713-OKOMC</td>\n",
       "      <td>Female</td>\n",
       "      <td>0</td>\n",
       "      <td>No</td>\n",
       "      <td>No</td>\n",
       "    </tr>\n",
       "    <tr>\n",
       "      <th>8</th>\n",
       "      <td>7892-POOKP</td>\n",
       "      <td>Female</td>\n",
       "      <td>0</td>\n",
       "      <td>Yes</td>\n",
       "      <td>No</td>\n",
       "    </tr>\n",
       "    <tr>\n",
       "      <th>9</th>\n",
       "      <td>6388-TABGU</td>\n",
       "      <td>Male</td>\n",
       "      <td>0</td>\n",
       "      <td>No</td>\n",
       "      <td>Yes</td>\n",
       "    </tr>\n",
       "  </tbody>\n",
       "</table>\n",
       "</div>"
      ],
      "text/plain": [
       "  customer_id  gender senior_sitizen partner dependents\n",
       "0  7590-VHVEG  Female              0     Yes         No\n",
       "1  5575-GNVDE    Male              0      No         No\n",
       "2  3668-QPYBK    Male              0      No         No\n",
       "3  7795-CFOCW    Male              0      No         No\n",
       "4  9237-HQITU  Female              0      No         No\n",
       "5  9305-CDSKC  Female              0      No         No\n",
       "6  1452-KIOVK    Male              0      No        Yes\n",
       "7  6713-OKOMC  Female              0      No         No\n",
       "8  7892-POOKP  Female              0     Yes         No\n",
       "9  6388-TABGU    Male              0      No        Yes"
      ]
     },
     "metadata": {},
     "output_type": "display_data"
    }
   ],
   "source": [
    "display(personal.head(10))"
   ]
  },
  {
   "cell_type": "markdown",
   "metadata": {},
   "source": [
    "### 1.4 Изучение и предобработка данных таблицы internet"
   ]
  },
  {
   "cell_type": "markdown",
   "metadata": {},
   "source": [
    "#### 1.4.1 Изучение данных таблицы internet"
   ]
  },
  {
   "cell_type": "code",
   "execution_count": 29,
   "metadata": {},
   "outputs": [
    {
     "name": "stdout",
     "output_type": "stream",
     "text": [
      "<class 'pandas.core.frame.DataFrame'>\n",
      "RangeIndex: 5517 entries, 0 to 5516\n",
      "Data columns (total 8 columns):\n",
      " #   Column            Non-Null Count  Dtype \n",
      "---  ------            --------------  ----- \n",
      " 0   customerID        5517 non-null   object\n",
      " 1   InternetService   5517 non-null   object\n",
      " 2   OnlineSecurity    5517 non-null   object\n",
      " 3   OnlineBackup      5517 non-null   object\n",
      " 4   DeviceProtection  5517 non-null   object\n",
      " 5   TechSupport       5517 non-null   object\n",
      " 6   StreamingTV       5517 non-null   object\n",
      " 7   StreamingMovies   5517 non-null   object\n",
      "dtypes: object(8)\n",
      "memory usage: 344.9+ KB\n"
     ]
    },
    {
     "data": {
      "text/plain": [
       "None"
      ]
     },
     "metadata": {},
     "output_type": "display_data"
    }
   ],
   "source": [
    "display(internet.info())"
   ]
  },
  {
   "cell_type": "code",
   "execution_count": 30,
   "metadata": {},
   "outputs": [
    {
     "data": {
      "text/html": [
       "<div>\n",
       "<style scoped>\n",
       "    .dataframe tbody tr th:only-of-type {\n",
       "        vertical-align: middle;\n",
       "    }\n",
       "\n",
       "    .dataframe tbody tr th {\n",
       "        vertical-align: top;\n",
       "    }\n",
       "\n",
       "    .dataframe thead th {\n",
       "        text-align: right;\n",
       "    }\n",
       "</style>\n",
       "<table border=\"1\" class=\"dataframe\">\n",
       "  <thead>\n",
       "    <tr style=\"text-align: right;\">\n",
       "      <th></th>\n",
       "      <th>customerID</th>\n",
       "      <th>InternetService</th>\n",
       "      <th>OnlineSecurity</th>\n",
       "      <th>OnlineBackup</th>\n",
       "      <th>DeviceProtection</th>\n",
       "      <th>TechSupport</th>\n",
       "      <th>StreamingTV</th>\n",
       "      <th>StreamingMovies</th>\n",
       "    </tr>\n",
       "  </thead>\n",
       "  <tbody>\n",
       "    <tr>\n",
       "      <th>0</th>\n",
       "      <td>7590-VHVEG</td>\n",
       "      <td>DSL</td>\n",
       "      <td>No</td>\n",
       "      <td>Yes</td>\n",
       "      <td>No</td>\n",
       "      <td>No</td>\n",
       "      <td>No</td>\n",
       "      <td>No</td>\n",
       "    </tr>\n",
       "    <tr>\n",
       "      <th>1</th>\n",
       "      <td>5575-GNVDE</td>\n",
       "      <td>DSL</td>\n",
       "      <td>Yes</td>\n",
       "      <td>No</td>\n",
       "      <td>Yes</td>\n",
       "      <td>No</td>\n",
       "      <td>No</td>\n",
       "      <td>No</td>\n",
       "    </tr>\n",
       "    <tr>\n",
       "      <th>2</th>\n",
       "      <td>3668-QPYBK</td>\n",
       "      <td>DSL</td>\n",
       "      <td>Yes</td>\n",
       "      <td>Yes</td>\n",
       "      <td>No</td>\n",
       "      <td>No</td>\n",
       "      <td>No</td>\n",
       "      <td>No</td>\n",
       "    </tr>\n",
       "    <tr>\n",
       "      <th>3</th>\n",
       "      <td>7795-CFOCW</td>\n",
       "      <td>DSL</td>\n",
       "      <td>Yes</td>\n",
       "      <td>No</td>\n",
       "      <td>Yes</td>\n",
       "      <td>Yes</td>\n",
       "      <td>No</td>\n",
       "      <td>No</td>\n",
       "    </tr>\n",
       "    <tr>\n",
       "      <th>4</th>\n",
       "      <td>9237-HQITU</td>\n",
       "      <td>Fiber optic</td>\n",
       "      <td>No</td>\n",
       "      <td>No</td>\n",
       "      <td>No</td>\n",
       "      <td>No</td>\n",
       "      <td>No</td>\n",
       "      <td>No</td>\n",
       "    </tr>\n",
       "  </tbody>\n",
       "</table>\n",
       "</div>"
      ],
      "text/plain": [
       "   customerID InternetService OnlineSecurity OnlineBackup DeviceProtection  \\\n",
       "0  7590-VHVEG             DSL             No          Yes               No   \n",
       "1  5575-GNVDE             DSL            Yes           No              Yes   \n",
       "2  3668-QPYBK             DSL            Yes          Yes               No   \n",
       "3  7795-CFOCW             DSL            Yes           No              Yes   \n",
       "4  9237-HQITU     Fiber optic             No           No               No   \n",
       "\n",
       "  TechSupport StreamingTV StreamingMovies  \n",
       "0          No          No              No  \n",
       "1          No          No              No  \n",
       "2          No          No              No  \n",
       "3         Yes          No              No  \n",
       "4          No          No              No  "
      ]
     },
     "metadata": {},
     "output_type": "display_data"
    }
   ],
   "source": [
    "display(internet.head())"
   ]
  },
  {
   "cell_type": "code",
   "execution_count": 31,
   "metadata": {},
   "outputs": [
    {
     "data": {
      "text/html": [
       "<div>\n",
       "<style scoped>\n",
       "    .dataframe tbody tr th:only-of-type {\n",
       "        vertical-align: middle;\n",
       "    }\n",
       "\n",
       "    .dataframe tbody tr th {\n",
       "        vertical-align: top;\n",
       "    }\n",
       "\n",
       "    .dataframe thead th {\n",
       "        text-align: right;\n",
       "    }\n",
       "</style>\n",
       "<table border=\"1\" class=\"dataframe\">\n",
       "  <thead>\n",
       "    <tr style=\"text-align: right;\">\n",
       "      <th></th>\n",
       "      <th>customer_id</th>\n",
       "      <th>gender</th>\n",
       "      <th>senior_sitizen</th>\n",
       "      <th>partner</th>\n",
       "      <th>dependents</th>\n",
       "    </tr>\n",
       "  </thead>\n",
       "  <tbody>\n",
       "    <tr>\n",
       "      <th>count</th>\n",
       "      <td>7043</td>\n",
       "      <td>7043</td>\n",
       "      <td>7043</td>\n",
       "      <td>7043</td>\n",
       "      <td>7043</td>\n",
       "    </tr>\n",
       "    <tr>\n",
       "      <th>unique</th>\n",
       "      <td>7043</td>\n",
       "      <td>2</td>\n",
       "      <td>2</td>\n",
       "      <td>2</td>\n",
       "      <td>2</td>\n",
       "    </tr>\n",
       "    <tr>\n",
       "      <th>top</th>\n",
       "      <td>7590-VHVEG</td>\n",
       "      <td>Male</td>\n",
       "      <td>0</td>\n",
       "      <td>No</td>\n",
       "      <td>No</td>\n",
       "    </tr>\n",
       "    <tr>\n",
       "      <th>freq</th>\n",
       "      <td>1</td>\n",
       "      <td>3555</td>\n",
       "      <td>5901</td>\n",
       "      <td>3641</td>\n",
       "      <td>4933</td>\n",
       "    </tr>\n",
       "  </tbody>\n",
       "</table>\n",
       "</div>"
      ],
      "text/plain": [
       "       customer_id gender  senior_sitizen partner dependents\n",
       "count         7043   7043            7043    7043       7043\n",
       "unique        7043      2               2       2          2\n",
       "top     7590-VHVEG   Male               0      No         No\n",
       "freq             1   3555            5901    3641       4933"
      ]
     },
     "metadata": {},
     "output_type": "display_data"
    }
   ],
   "source": [
    "display(personal.describe(include = 'all')) "
   ]
  },
  {
   "cell_type": "code",
   "execution_count": 32,
   "metadata": {},
   "outputs": [
    {
     "name": "stdout",
     "output_type": "stream",
     "text": [
      "Дублирующих строк таблицы internet: 0\n"
     ]
    }
   ],
   "source": [
    "print('Дублирующих строк таблицы internet:', internet['customerID'].duplicated().sum())"
   ]
  },
  {
   "cell_type": "code",
   "execution_count": 33,
   "metadata": {},
   "outputs": [
    {
     "data": {
      "text/plain": [
       "customerID          0\n",
       "InternetService     0\n",
       "OnlineSecurity      0\n",
       "OnlineBackup        0\n",
       "DeviceProtection    0\n",
       "TechSupport         0\n",
       "StreamingTV         0\n",
       "StreamingMovies     0\n",
       "dtype: int64"
      ]
     },
     "execution_count": 33,
     "metadata": {},
     "output_type": "execute_result"
    }
   ],
   "source": [
    "internet.isna().sum()"
   ]
  },
  {
   "cell_type": "markdown",
   "metadata": {},
   "source": [
    "Таблица internet содержит 5517 строки и 8 столбцов. Пропусков и дубликатов нет.\n",
    "\n",
    "Количество записей в таблице internet меньше чем в таблицах personal и contract.  Вероятно таблицы personal и contract содержат записи о пользователях отказавшихся от услуг. \n",
    "\n",
    "В таблице internet представлена информация об интернет-услугах, и включает:\n",
    "- customerID - уникальный ID клиента\n",
    "- InternetService - варианты подключения интернет-соединения\n",
    "- OnlineSecurity - услуга блокировки небезопасных сайтов\n",
    "- OnlineBackup - услуга Облачного хранилища файлов\n",
    "- DeviceProtection - наличие услуги антивируса\n",
    "- TechSupport - услуга выделенной линии технической поддержки\n",
    "- StreamingTV - услуга стримингового телевидения\n",
    "- StreamingMovies - услуга каталога фильмов"
   ]
  },
  {
   "cell_type": "markdown",
   "metadata": {},
   "source": [
    "По результату ознокомления с данными таблицы internet определяем необходимые действия по предобработке данных:\n",
    "- привести названия столбцов в соответствие с хорошим стилем\n",
    "- изменим тип данных в столбцах OnlineSecurity, OnlineBackup, DeviceProtection, TechSupport, StreamingTV, StreamingTV  на категориальный "
   ]
  },
  {
   "cell_type": "markdown",
   "metadata": {},
   "source": [
    "#### 1.4.2 Предобработка данных таблицы internet"
   ]
  },
  {
   "cell_type": "code",
   "execution_count": 34,
   "metadata": {},
   "outputs": [
    {
     "name": "stdout",
     "output_type": "stream",
     "text": [
      "<class 'pandas.core.frame.DataFrame'>\n",
      "RangeIndex: 5517 entries, 0 to 5516\n",
      "Data columns (total 8 columns):\n",
      " #   Column            Non-Null Count  Dtype \n",
      "---  ------            --------------  ----- \n",
      " 0   customerID        5517 non-null   object\n",
      " 1   InternetService   5517 non-null   object\n",
      " 2   OnlineSecurity    5517 non-null   object\n",
      " 3   OnlineBackup      5517 non-null   object\n",
      " 4   DeviceProtection  5517 non-null   object\n",
      " 5   TechSupport       5517 non-null   object\n",
      " 6   StreamingTV       5517 non-null   object\n",
      " 7   StreamingMovies   5517 non-null   object\n",
      "dtypes: object(8)\n",
      "memory usage: 344.9+ KB\n"
     ]
    }
   ],
   "source": [
    "internet.info()"
   ]
  },
  {
   "cell_type": "markdown",
   "metadata": {},
   "source": [
    "Названия столбцов приводим в соответствие с хорошим стилем"
   ]
  },
  {
   "cell_type": "code",
   "execution_count": 35,
   "metadata": {},
   "outputs": [
    {
     "name": "stdout",
     "output_type": "stream",
     "text": [
      "<class 'pandas.core.frame.DataFrame'>\n",
      "RangeIndex: 5517 entries, 0 to 5516\n",
      "Data columns (total 8 columns):\n",
      " #   Column             Non-Null Count  Dtype \n",
      "---  ------             --------------  ----- \n",
      " 0   customer_id        5517 non-null   object\n",
      " 1   internet_service   5517 non-null   object\n",
      " 2   online_security    5517 non-null   object\n",
      " 3   online_backup      5517 non-null   object\n",
      " 4   device_protection  5517 non-null   object\n",
      " 5   tech_support       5517 non-null   object\n",
      " 6   streaming_tv       5517 non-null   object\n",
      " 7   streaming_movies   5517 non-null   object\n",
      "dtypes: object(8)\n",
      "memory usage: 344.9+ KB\n"
     ]
    }
   ],
   "source": [
    "internet = internet.rename(columns={'customerID' : 'customer_id',\n",
    "                                              'InternetService' : 'internet_service',\n",
    "                                              'OnlineSecurity' : 'online_security',\n",
    "                                              'OnlineBackup' : 'online_backup',\n",
    "                                              'DeviceProtection' : 'device_protection',\n",
    "                                              'TechSupport' : 'tech_support',\n",
    "                                              'StreamingTV' : 'streaming_tv',\n",
    "                                              'StreamingMovies' : 'streaming_movies'})\n",
    "internet.info()"
   ]
  },
  {
   "cell_type": "markdown",
   "metadata": {},
   "source": [
    "Изменение типа данных в столбце услуг на категориальный"
   ]
  },
  {
   "cell_type": "code",
   "execution_count": 36,
   "metadata": {},
   "outputs": [
    {
     "name": "stdout",
     "output_type": "stream",
     "text": [
      "<class 'pandas.core.frame.DataFrame'>\n",
      "RangeIndex: 5517 entries, 0 to 5516\n",
      "Data columns (total 8 columns):\n",
      " #   Column             Non-Null Count  Dtype   \n",
      "---  ------             --------------  -----   \n",
      " 0   customer_id        5517 non-null   object  \n",
      " 1   internet_service   5517 non-null   object  \n",
      " 2   online_security    5517 non-null   category\n",
      " 3   online_backup      5517 non-null   category\n",
      " 4   device_protection  5517 non-null   category\n",
      " 5   tech_support       5517 non-null   category\n",
      " 6   streaming_tv       5517 non-null   category\n",
      " 7   streaming_movies   5517 non-null   category\n",
      "dtypes: category(6), object(2)\n",
      "memory usage: 119.4+ KB\n"
     ]
    }
   ],
   "source": [
    "cat_cols = ['online_security', 'online_backup', 'device_protection', \n",
    "            'tech_support', 'streaming_tv', 'streaming_movies']\n",
    "\n",
    "for col in cat_cols:\n",
    "    internet[col] = internet[col].astype('category')\n",
    "    \n",
    "internet.info()"
   ]
  },
  {
   "cell_type": "markdown",
   "metadata": {},
   "source": [
    "### 1.5 Изучение и предобработка данных таблицы phone"
   ]
  },
  {
   "cell_type": "markdown",
   "metadata": {},
   "source": [
    "#### 1.5.1 Изучение данных таблицы phone"
   ]
  },
  {
   "cell_type": "code",
   "execution_count": 37,
   "metadata": {},
   "outputs": [
    {
     "name": "stdout",
     "output_type": "stream",
     "text": [
      "<class 'pandas.core.frame.DataFrame'>\n",
      "RangeIndex: 6361 entries, 0 to 6360\n",
      "Data columns (total 2 columns):\n",
      " #   Column         Non-Null Count  Dtype \n",
      "---  ------         --------------  ----- \n",
      " 0   customerID     6361 non-null   object\n",
      " 1   MultipleLines  6361 non-null   object\n",
      "dtypes: object(2)\n",
      "memory usage: 99.5+ KB\n"
     ]
    },
    {
     "data": {
      "text/plain": [
       "None"
      ]
     },
     "metadata": {},
     "output_type": "display_data"
    }
   ],
   "source": [
    "display(phone.info())"
   ]
  },
  {
   "cell_type": "code",
   "execution_count": 38,
   "metadata": {},
   "outputs": [
    {
     "data": {
      "text/html": [
       "<div>\n",
       "<style scoped>\n",
       "    .dataframe tbody tr th:only-of-type {\n",
       "        vertical-align: middle;\n",
       "    }\n",
       "\n",
       "    .dataframe tbody tr th {\n",
       "        vertical-align: top;\n",
       "    }\n",
       "\n",
       "    .dataframe thead th {\n",
       "        text-align: right;\n",
       "    }\n",
       "</style>\n",
       "<table border=\"1\" class=\"dataframe\">\n",
       "  <thead>\n",
       "    <tr style=\"text-align: right;\">\n",
       "      <th></th>\n",
       "      <th>customerID</th>\n",
       "      <th>MultipleLines</th>\n",
       "    </tr>\n",
       "  </thead>\n",
       "  <tbody>\n",
       "    <tr>\n",
       "      <th>0</th>\n",
       "      <td>5575-GNVDE</td>\n",
       "      <td>No</td>\n",
       "    </tr>\n",
       "    <tr>\n",
       "      <th>1</th>\n",
       "      <td>3668-QPYBK</td>\n",
       "      <td>No</td>\n",
       "    </tr>\n",
       "    <tr>\n",
       "      <th>2</th>\n",
       "      <td>9237-HQITU</td>\n",
       "      <td>No</td>\n",
       "    </tr>\n",
       "    <tr>\n",
       "      <th>3</th>\n",
       "      <td>9305-CDSKC</td>\n",
       "      <td>Yes</td>\n",
       "    </tr>\n",
       "    <tr>\n",
       "      <th>4</th>\n",
       "      <td>1452-KIOVK</td>\n",
       "      <td>Yes</td>\n",
       "    </tr>\n",
       "  </tbody>\n",
       "</table>\n",
       "</div>"
      ],
      "text/plain": [
       "   customerID MultipleLines\n",
       "0  5575-GNVDE            No\n",
       "1  3668-QPYBK            No\n",
       "2  9237-HQITU            No\n",
       "3  9305-CDSKC           Yes\n",
       "4  1452-KIOVK           Yes"
      ]
     },
     "metadata": {},
     "output_type": "display_data"
    }
   ],
   "source": [
    "display(phone.head())"
   ]
  },
  {
   "cell_type": "code",
   "execution_count": 39,
   "metadata": {},
   "outputs": [
    {
     "name": "stdout",
     "output_type": "stream",
     "text": [
      "Дублирующих строк таблицы phone: 0\n"
     ]
    }
   ],
   "source": [
    "print('Дублирующих строк таблицы phone:', phone['customerID'].duplicated().sum())"
   ]
  },
  {
   "cell_type": "code",
   "execution_count": 40,
   "metadata": {},
   "outputs": [
    {
     "data": {
      "text/plain": [
       "customerID       0\n",
       "MultipleLines    0\n",
       "dtype: int64"
      ]
     },
     "execution_count": 40,
     "metadata": {},
     "output_type": "execute_result"
    }
   ],
   "source": [
    "phone.isna().sum()"
   ]
  },
  {
   "cell_type": "markdown",
   "metadata": {},
   "source": [
    "Таблица phone содержит 6361 строки и 2 столбца. Пропусков и дубликатов нет.\n",
    "\n",
    "Количество записей в таблице phone меньше чем в таблицах personal и contract. \n",
    "\n",
    "В таблице phone представлена информация об интернет-услугах, и включает:\n",
    "- customerID - уникальный ID клиента\n",
    "- MultipleLines - наличие возможности ведения параллельных линий во время звонка "
   ]
  },
  {
   "cell_type": "markdown",
   "metadata": {},
   "source": [
    "По результату ознокомления с данными таблицы phone определяем необходимые действия по предобработке данных:\n",
    "- привести названия столбцов в соответствие с хорошим стилем\n",
    "- заменим тип данных в столбце MultipleLines на категорийный"
   ]
  },
  {
   "cell_type": "markdown",
   "metadata": {},
   "source": [
    "#### 1.5.2 Предобработка данных таблицы phone"
   ]
  },
  {
   "cell_type": "markdown",
   "metadata": {},
   "source": [
    "Названия столбцов приводим в соответствие с хорошим стилем"
   ]
  },
  {
   "cell_type": "code",
   "execution_count": 41,
   "metadata": {},
   "outputs": [
    {
     "name": "stdout",
     "output_type": "stream",
     "text": [
      "<class 'pandas.core.frame.DataFrame'>\n",
      "RangeIndex: 6361 entries, 0 to 6360\n",
      "Data columns (total 2 columns):\n",
      " #   Column          Non-Null Count  Dtype \n",
      "---  ------          --------------  ----- \n",
      " 0   customer_id     6361 non-null   object\n",
      " 1   multiple_lines  6361 non-null   object\n",
      "dtypes: object(2)\n",
      "memory usage: 99.5+ KB\n"
     ]
    }
   ],
   "source": [
    "phone = phone.rename(columns={'customerID' : 'customer_id',\n",
    "                                        'MultipleLines' : 'multiple_lines'})\n",
    "phone.info()"
   ]
  },
  {
   "cell_type": "code",
   "execution_count": 42,
   "metadata": {},
   "outputs": [
    {
     "name": "stdout",
     "output_type": "stream",
     "text": [
      "<class 'pandas.core.frame.DataFrame'>\n",
      "RangeIndex: 5517 entries, 0 to 5516\n",
      "Data columns (total 8 columns):\n",
      " #   Column             Non-Null Count  Dtype   \n",
      "---  ------             --------------  -----   \n",
      " 0   customer_id        5517 non-null   object  \n",
      " 1   internet_service   5517 non-null   object  \n",
      " 2   online_security    5517 non-null   category\n",
      " 3   online_backup      5517 non-null   category\n",
      " 4   device_protection  5517 non-null   category\n",
      " 5   tech_support       5517 non-null   category\n",
      " 6   streaming_tv       5517 non-null   category\n",
      " 7   streaming_movies   5517 non-null   category\n",
      "dtypes: category(6), object(2)\n",
      "memory usage: 119.4+ KB\n"
     ]
    }
   ],
   "source": [
    "phone['multiple_lines'] = phone['multiple_lines'].astype('category')\n",
    "internet.info()"
   ]
  },
  {
   "cell_type": "code",
   "execution_count": 43,
   "metadata": {},
   "outputs": [
    {
     "name": "stdout",
     "output_type": "stream",
     "text": [
      "<class 'pandas.core.frame.DataFrame'>\n",
      "RangeIndex: 6361 entries, 0 to 6360\n",
      "Data columns (total 2 columns):\n",
      " #   Column          Non-Null Count  Dtype   \n",
      "---  ------          --------------  -----   \n",
      " 0   customer_id     6361 non-null   object  \n",
      " 1   multiple_lines  6361 non-null   category\n",
      "dtypes: category(1), object(1)\n",
      "memory usage: 56.2+ KB\n"
     ]
    }
   ],
   "source": [
    "phone.info()"
   ]
  },
  {
   "cell_type": "markdown",
   "metadata": {},
   "source": [
    "#### Выводы по ознакомлению и преобработке данных\n",
    "- данные в таблицах не имеют пропусков и дубликатов\n",
    "- названия столбцов привели в соответствие с хорошим стилем\n",
    "- изменены типы данных таблиц"
   ]
  },
  {
   "cell_type": "markdown",
   "metadata": {},
   "source": [
    "## 2. Анализ данных"
   ]
  },
  {
   "cell_type": "markdown",
   "metadata": {},
   "source": [
    "Для анализа данных необходимо объединить все таблицы в одну общую"
   ]
  },
  {
   "cell_type": "code",
   "execution_count": 44,
   "metadata": {},
   "outputs": [],
   "source": [
    "contract = contract.set_index(keys='customer_id')\n",
    "personal = personal.set_index(keys='customer_id')\n",
    "internet = internet.set_index(keys='customer_id')\n",
    "phone = phone.set_index(keys='customer_id')"
   ]
  },
  {
   "cell_type": "code",
   "execution_count": 45,
   "metadata": {},
   "outputs": [
    {
     "name": "stdout",
     "output_type": "stream",
     "text": [
      "<class 'pandas.core.frame.DataFrame'>\n",
      "Index: 7043 entries, 7590-VHVEG to 3186-AJIEK\n",
      "Data columns (total 7 columns):\n",
      " #   Column             Non-Null Count  Dtype         \n",
      "---  ------             --------------  -----         \n",
      " 0   begin_date         7043 non-null   datetime64[ns]\n",
      " 1   end_date           7043 non-null   datetime64[ns]\n",
      " 2   billing_type       7043 non-null   category      \n",
      " 3   paperless_billing  7043 non-null   category      \n",
      " 4   payment_method     7043 non-null   category      \n",
      " 5   monthly_charges    7043 non-null   float64       \n",
      " 6   total_charges      7043 non-null   float64       \n",
      "dtypes: category(3), datetime64[ns](2), float64(2)\n",
      "memory usage: 296.2+ KB\n",
      "<class 'pandas.core.frame.DataFrame'>\n",
      "Index: 7043 entries, 7590-VHVEG to 3186-AJIEK\n",
      "Data columns (total 4 columns):\n",
      " #   Column          Non-Null Count  Dtype   \n",
      "---  ------          --------------  -----   \n",
      " 0   gender          7043 non-null   category\n",
      " 1   senior_sitizen  7043 non-null   category\n",
      " 2   partner         7043 non-null   category\n",
      " 3   dependents      7043 non-null   category\n",
      "dtypes: category(4)\n",
      "memory usage: 83.0+ KB\n",
      "<class 'pandas.core.frame.DataFrame'>\n",
      "Index: 5517 entries, 7590-VHVEG to 3186-AJIEK\n",
      "Data columns (total 7 columns):\n",
      " #   Column             Non-Null Count  Dtype   \n",
      "---  ------             --------------  -----   \n",
      " 0   internet_service   5517 non-null   object  \n",
      " 1   online_security    5517 non-null   category\n",
      " 2   online_backup      5517 non-null   category\n",
      " 3   device_protection  5517 non-null   category\n",
      " 4   tech_support       5517 non-null   category\n",
      " 5   streaming_tv       5517 non-null   category\n",
      " 6   streaming_movies   5517 non-null   category\n",
      "dtypes: category(6), object(1)\n",
      "memory usage: 119.3+ KB\n",
      "<class 'pandas.core.frame.DataFrame'>\n",
      "Index: 6361 entries, 5575-GNVDE to 3186-AJIEK\n",
      "Data columns (total 1 columns):\n",
      " #   Column          Non-Null Count  Dtype   \n",
      "---  ------          --------------  -----   \n",
      " 0   multiple_lines  6361 non-null   category\n",
      "dtypes: category(1)\n",
      "memory usage: 56.0+ KB\n"
     ]
    }
   ],
   "source": [
    "contract.info()\n",
    "personal.info()\n",
    "internet.info()\n",
    "phone.info()"
   ]
  },
  {
   "cell_type": "code",
   "execution_count": 46,
   "metadata": {},
   "outputs": [
    {
     "data": {
      "text/html": [
       "<div>\n",
       "<style scoped>\n",
       "    .dataframe tbody tr th:only-of-type {\n",
       "        vertical-align: middle;\n",
       "    }\n",
       "\n",
       "    .dataframe tbody tr th {\n",
       "        vertical-align: top;\n",
       "    }\n",
       "\n",
       "    .dataframe thead th {\n",
       "        text-align: right;\n",
       "    }\n",
       "</style>\n",
       "<table border=\"1\" class=\"dataframe\">\n",
       "  <thead>\n",
       "    <tr style=\"text-align: right;\">\n",
       "      <th></th>\n",
       "      <th>begin_date</th>\n",
       "      <th>end_date</th>\n",
       "      <th>billing_type</th>\n",
       "      <th>paperless_billing</th>\n",
       "      <th>payment_method</th>\n",
       "      <th>monthly_charges</th>\n",
       "      <th>total_charges</th>\n",
       "      <th>gender</th>\n",
       "      <th>senior_sitizen</th>\n",
       "      <th>partner</th>\n",
       "      <th>dependents</th>\n",
       "      <th>internet_service</th>\n",
       "      <th>online_security</th>\n",
       "      <th>online_backup</th>\n",
       "      <th>device_protection</th>\n",
       "      <th>tech_support</th>\n",
       "      <th>streaming_tv</th>\n",
       "      <th>streaming_movies</th>\n",
       "      <th>multiple_lines</th>\n",
       "    </tr>\n",
       "    <tr>\n",
       "      <th>customer_id</th>\n",
       "      <th></th>\n",
       "      <th></th>\n",
       "      <th></th>\n",
       "      <th></th>\n",
       "      <th></th>\n",
       "      <th></th>\n",
       "      <th></th>\n",
       "      <th></th>\n",
       "      <th></th>\n",
       "      <th></th>\n",
       "      <th></th>\n",
       "      <th></th>\n",
       "      <th></th>\n",
       "      <th></th>\n",
       "      <th></th>\n",
       "      <th></th>\n",
       "      <th></th>\n",
       "      <th></th>\n",
       "      <th></th>\n",
       "    </tr>\n",
       "  </thead>\n",
       "  <tbody>\n",
       "    <tr>\n",
       "      <th>7590-VHVEG</th>\n",
       "      <td>2020-01-01</td>\n",
       "      <td>2020-02-01</td>\n",
       "      <td>Month-to-month</td>\n",
       "      <td>Yes</td>\n",
       "      <td>Electronic check</td>\n",
       "      <td>29.85</td>\n",
       "      <td>29.85</td>\n",
       "      <td>Female</td>\n",
       "      <td>0</td>\n",
       "      <td>Yes</td>\n",
       "      <td>No</td>\n",
       "      <td>DSL</td>\n",
       "      <td>No</td>\n",
       "      <td>Yes</td>\n",
       "      <td>No</td>\n",
       "      <td>No</td>\n",
       "      <td>No</td>\n",
       "      <td>No</td>\n",
       "      <td>NaN</td>\n",
       "    </tr>\n",
       "    <tr>\n",
       "      <th>5575-GNVDE</th>\n",
       "      <td>2017-04-01</td>\n",
       "      <td>2020-02-01</td>\n",
       "      <td>One year</td>\n",
       "      <td>No</td>\n",
       "      <td>Mailed check</td>\n",
       "      <td>56.95</td>\n",
       "      <td>1889.50</td>\n",
       "      <td>Male</td>\n",
       "      <td>0</td>\n",
       "      <td>No</td>\n",
       "      <td>No</td>\n",
       "      <td>DSL</td>\n",
       "      <td>Yes</td>\n",
       "      <td>No</td>\n",
       "      <td>Yes</td>\n",
       "      <td>No</td>\n",
       "      <td>No</td>\n",
       "      <td>No</td>\n",
       "      <td>No</td>\n",
       "    </tr>\n",
       "    <tr>\n",
       "      <th>3668-QPYBK</th>\n",
       "      <td>2019-10-01</td>\n",
       "      <td>2019-12-01</td>\n",
       "      <td>Month-to-month</td>\n",
       "      <td>Yes</td>\n",
       "      <td>Mailed check</td>\n",
       "      <td>53.85</td>\n",
       "      <td>108.15</td>\n",
       "      <td>Male</td>\n",
       "      <td>0</td>\n",
       "      <td>No</td>\n",
       "      <td>No</td>\n",
       "      <td>DSL</td>\n",
       "      <td>Yes</td>\n",
       "      <td>Yes</td>\n",
       "      <td>No</td>\n",
       "      <td>No</td>\n",
       "      <td>No</td>\n",
       "      <td>No</td>\n",
       "      <td>No</td>\n",
       "    </tr>\n",
       "    <tr>\n",
       "      <th>7795-CFOCW</th>\n",
       "      <td>2016-05-01</td>\n",
       "      <td>2020-02-01</td>\n",
       "      <td>One year</td>\n",
       "      <td>No</td>\n",
       "      <td>Bank transfer (automatic)</td>\n",
       "      <td>42.30</td>\n",
       "      <td>1840.75</td>\n",
       "      <td>Male</td>\n",
       "      <td>0</td>\n",
       "      <td>No</td>\n",
       "      <td>No</td>\n",
       "      <td>DSL</td>\n",
       "      <td>Yes</td>\n",
       "      <td>No</td>\n",
       "      <td>Yes</td>\n",
       "      <td>Yes</td>\n",
       "      <td>No</td>\n",
       "      <td>No</td>\n",
       "      <td>NaN</td>\n",
       "    </tr>\n",
       "    <tr>\n",
       "      <th>9237-HQITU</th>\n",
       "      <td>2019-09-01</td>\n",
       "      <td>2019-11-01</td>\n",
       "      <td>Month-to-month</td>\n",
       "      <td>Yes</td>\n",
       "      <td>Electronic check</td>\n",
       "      <td>70.70</td>\n",
       "      <td>151.65</td>\n",
       "      <td>Female</td>\n",
       "      <td>0</td>\n",
       "      <td>No</td>\n",
       "      <td>No</td>\n",
       "      <td>Fiber optic</td>\n",
       "      <td>No</td>\n",
       "      <td>No</td>\n",
       "      <td>No</td>\n",
       "      <td>No</td>\n",
       "      <td>No</td>\n",
       "      <td>No</td>\n",
       "      <td>No</td>\n",
       "    </tr>\n",
       "  </tbody>\n",
       "</table>\n",
       "</div>"
      ],
      "text/plain": [
       "            begin_date   end_date    billing_type paperless_billing  \\\n",
       "customer_id                                                           \n",
       "7590-VHVEG  2020-01-01 2020-02-01  Month-to-month               Yes   \n",
       "5575-GNVDE  2017-04-01 2020-02-01        One year                No   \n",
       "3668-QPYBK  2019-10-01 2019-12-01  Month-to-month               Yes   \n",
       "7795-CFOCW  2016-05-01 2020-02-01        One year                No   \n",
       "9237-HQITU  2019-09-01 2019-11-01  Month-to-month               Yes   \n",
       "\n",
       "                        payment_method  monthly_charges  total_charges  \\\n",
       "customer_id                                                              \n",
       "7590-VHVEG            Electronic check            29.85          29.85   \n",
       "5575-GNVDE                Mailed check            56.95        1889.50   \n",
       "3668-QPYBK                Mailed check            53.85         108.15   \n",
       "7795-CFOCW   Bank transfer (automatic)            42.30        1840.75   \n",
       "9237-HQITU            Electronic check            70.70         151.65   \n",
       "\n",
       "             gender senior_sitizen partner dependents internet_service  \\\n",
       "customer_id                                                              \n",
       "7590-VHVEG   Female              0     Yes         No              DSL   \n",
       "5575-GNVDE     Male              0      No         No              DSL   \n",
       "3668-QPYBK     Male              0      No         No              DSL   \n",
       "7795-CFOCW     Male              0      No         No              DSL   \n",
       "9237-HQITU   Female              0      No         No      Fiber optic   \n",
       "\n",
       "            online_security online_backup device_protection tech_support  \\\n",
       "customer_id                                                                \n",
       "7590-VHVEG               No           Yes                No           No   \n",
       "5575-GNVDE              Yes            No               Yes           No   \n",
       "3668-QPYBK              Yes           Yes                No           No   \n",
       "7795-CFOCW              Yes            No               Yes          Yes   \n",
       "9237-HQITU               No            No                No           No   \n",
       "\n",
       "            streaming_tv streaming_movies multiple_lines  \n",
       "customer_id                                               \n",
       "7590-VHVEG            No               No            NaN  \n",
       "5575-GNVDE            No               No             No  \n",
       "3668-QPYBK            No               No             No  \n",
       "7795-CFOCW            No               No            NaN  \n",
       "9237-HQITU            No               No             No  "
      ]
     },
     "metadata": {},
     "output_type": "display_data"
    }
   ],
   "source": [
    "data = contract.join(personal)\\\n",
    "                    .join(internet)\\\n",
    "                    .join(phone)\n",
    "display(data.head())"
   ]
  },
  {
   "cell_type": "code",
   "execution_count": 47,
   "metadata": {},
   "outputs": [
    {
     "name": "stdout",
     "output_type": "stream",
     "text": [
      "<class 'pandas.core.frame.DataFrame'>\n",
      "Index: 7043 entries, 7590-VHVEG to 3186-AJIEK\n",
      "Data columns (total 19 columns):\n",
      " #   Column             Non-Null Count  Dtype         \n",
      "---  ------             --------------  -----         \n",
      " 0   begin_date         7043 non-null   datetime64[ns]\n",
      " 1   end_date           7043 non-null   datetime64[ns]\n",
      " 2   billing_type       7043 non-null   category      \n",
      " 3   paperless_billing  7043 non-null   category      \n",
      " 4   payment_method     7043 non-null   category      \n",
      " 5   monthly_charges    7043 non-null   float64       \n",
      " 6   total_charges      7043 non-null   float64       \n",
      " 7   gender             7043 non-null   category      \n",
      " 8   senior_sitizen     7043 non-null   category      \n",
      " 9   partner            7043 non-null   category      \n",
      " 10  dependents         7043 non-null   category      \n",
      " 11  internet_service   5517 non-null   object        \n",
      " 12  online_security    5517 non-null   category      \n",
      " 13  online_backup      5517 non-null   category      \n",
      " 14  device_protection  5517 non-null   category      \n",
      " 15  tech_support       5517 non-null   category      \n",
      " 16  streaming_tv       5517 non-null   category      \n",
      " 17  streaming_movies   5517 non-null   category      \n",
      " 18  multiple_lines     6361 non-null   category      \n",
      "dtypes: category(14), datetime64[ns](2), float64(2), object(1)\n",
      "memory usage: 686.3+ KB\n"
     ]
    }
   ],
   "source": [
    "data.info()"
   ]
  },
  {
   "cell_type": "markdown",
   "metadata": {},
   "source": [
    "Имеются пропуски значний в столбцах с услугами online_security, online_backup, device_protection, tech_support, streaming_tv, streaming_movies, а также в столбце internet_service (варианты подключения интернет-соединения) и столбце multiple_lines (мультиканальная линия или нет).\n",
    "\n",
    "Пропуски значний в столбцах с услугами заменим на 'No' так услуга не предоставляется. Также 'No' заполним пропуски в столбце multiple_lines, предположив что данные клиенты не имеют подключения по мультиканальной линии."
   ]
  },
  {
   "cell_type": "code",
   "execution_count": 48,
   "metadata": {},
   "outputs": [
    {
     "name": "stdout",
     "output_type": "stream",
     "text": [
      "<class 'pandas.core.frame.DataFrame'>\n",
      "Index: 7043 entries, 7590-VHVEG to 3186-AJIEK\n",
      "Data columns (total 19 columns):\n",
      " #   Column             Non-Null Count  Dtype         \n",
      "---  ------             --------------  -----         \n",
      " 0   begin_date         7043 non-null   datetime64[ns]\n",
      " 1   end_date           7043 non-null   datetime64[ns]\n",
      " 2   billing_type       7043 non-null   category      \n",
      " 3   paperless_billing  7043 non-null   category      \n",
      " 4   payment_method     7043 non-null   category      \n",
      " 5   monthly_charges    7043 non-null   float64       \n",
      " 6   total_charges      7043 non-null   float64       \n",
      " 7   gender             7043 non-null   category      \n",
      " 8   senior_sitizen     7043 non-null   category      \n",
      " 9   partner            7043 non-null   category      \n",
      " 10  dependents         7043 non-null   category      \n",
      " 11  internet_service   5517 non-null   object        \n",
      " 12  online_security    7043 non-null   category      \n",
      " 13  online_backup      7043 non-null   category      \n",
      " 14  device_protection  7043 non-null   category      \n",
      " 15  tech_support       7043 non-null   category      \n",
      " 16  streaming_tv       7043 non-null   category      \n",
      " 17  streaming_movies   7043 non-null   category      \n",
      " 18  multiple_lines     7043 non-null   category      \n",
      "dtypes: category(14), datetime64[ns](2), float64(2), object(1)\n",
      "memory usage: 686.3+ KB\n"
     ]
    }
   ],
   "source": [
    "passes_cols = ['online_security', 'online_backup', 'device_protection', 'tech_support',\n",
    "               'streaming_tv', 'streaming_movies', 'multiple_lines']\n",
    "\n",
    "for col in passes_cols:\n",
    "    data[col] = data[col].fillna(value='No')\n",
    "\n",
    "data.info()"
   ]
  },
  {
   "cell_type": "markdown",
   "metadata": {},
   "source": [
    "Для замены пропусков в столбце internet_service посмотрим на уникальные значения "
   ]
  },
  {
   "cell_type": "code",
   "execution_count": 49,
   "metadata": {},
   "outputs": [
    {
     "data": {
      "text/plain": [
       "array(['DSL', 'Fiber optic', nan], dtype=object)"
      ]
     },
     "execution_count": 49,
     "metadata": {},
     "output_type": "execute_result"
    }
   ],
   "source": [
    "data['internet_service'].unique()"
   ]
  },
  {
   "cell_type": "markdown",
   "metadata": {},
   "source": [
    "Видим, что клиенты получают интернет или по телефонной линии DSL или оптоволокому кабелю Fiber optic. Можно предположить, что пропуски указывают на то, клиенты не используются интернет сервис."
   ]
  },
  {
   "cell_type": "code",
   "execution_count": 50,
   "metadata": {},
   "outputs": [
    {
     "name": "stdout",
     "output_type": "stream",
     "text": [
      "<class 'pandas.core.frame.DataFrame'>\n",
      "Index: 7043 entries, 7590-VHVEG to 3186-AJIEK\n",
      "Data columns (total 19 columns):\n",
      " #   Column             Non-Null Count  Dtype         \n",
      "---  ------             --------------  -----         \n",
      " 0   begin_date         7043 non-null   datetime64[ns]\n",
      " 1   end_date           7043 non-null   datetime64[ns]\n",
      " 2   billing_type       7043 non-null   category      \n",
      " 3   paperless_billing  7043 non-null   category      \n",
      " 4   payment_method     7043 non-null   category      \n",
      " 5   monthly_charges    7043 non-null   float64       \n",
      " 6   total_charges      7043 non-null   float64       \n",
      " 7   gender             7043 non-null   category      \n",
      " 8   senior_sitizen     7043 non-null   category      \n",
      " 9   partner            7043 non-null   category      \n",
      " 10  dependents         7043 non-null   category      \n",
      " 11  internet_service   7043 non-null   category      \n",
      " 12  online_security    7043 non-null   category      \n",
      " 13  online_backup      7043 non-null   category      \n",
      " 14  device_protection  7043 non-null   category      \n",
      " 15  tech_support       7043 non-null   category      \n",
      " 16  streaming_tv       7043 non-null   category      \n",
      " 17  streaming_movies   7043 non-null   category      \n",
      " 18  multiple_lines     7043 non-null   category      \n",
      "dtypes: category(15), datetime64[ns](2), float64(2)\n",
      "memory usage: 638.2+ KB\n"
     ]
    }
   ],
   "source": [
    "data['internet_service'] = data['internet_service'].fillna('Не используется')\n",
    "data['internet_service'] = data['internet_service'].astype('category')\n",
    "data.info()"
   ]
  },
  {
   "cell_type": "markdown",
   "metadata": {},
   "source": [
    "Пропуски заполнены.\n",
    "\n",
    "Создадим новый признак - продолжительность контракта с клиентом duration_contract "
   ]
  },
  {
   "cell_type": "code",
   "execution_count": 51,
   "metadata": {},
   "outputs": [
    {
     "data": {
      "text/html": [
       "<div>\n",
       "<style scoped>\n",
       "    .dataframe tbody tr th:only-of-type {\n",
       "        vertical-align: middle;\n",
       "    }\n",
       "\n",
       "    .dataframe tbody tr th {\n",
       "        vertical-align: top;\n",
       "    }\n",
       "\n",
       "    .dataframe thead th {\n",
       "        text-align: right;\n",
       "    }\n",
       "</style>\n",
       "<table border=\"1\" class=\"dataframe\">\n",
       "  <thead>\n",
       "    <tr style=\"text-align: right;\">\n",
       "      <th></th>\n",
       "      <th>begin_date</th>\n",
       "      <th>end_date</th>\n",
       "      <th>billing_type</th>\n",
       "      <th>paperless_billing</th>\n",
       "      <th>payment_method</th>\n",
       "      <th>monthly_charges</th>\n",
       "      <th>total_charges</th>\n",
       "      <th>gender</th>\n",
       "      <th>senior_sitizen</th>\n",
       "      <th>partner</th>\n",
       "      <th>dependents</th>\n",
       "      <th>internet_service</th>\n",
       "      <th>online_security</th>\n",
       "      <th>online_backup</th>\n",
       "      <th>device_protection</th>\n",
       "      <th>tech_support</th>\n",
       "      <th>streaming_tv</th>\n",
       "      <th>streaming_movies</th>\n",
       "      <th>multiple_lines</th>\n",
       "      <th>duration_contract</th>\n",
       "    </tr>\n",
       "    <tr>\n",
       "      <th>customer_id</th>\n",
       "      <th></th>\n",
       "      <th></th>\n",
       "      <th></th>\n",
       "      <th></th>\n",
       "      <th></th>\n",
       "      <th></th>\n",
       "      <th></th>\n",
       "      <th></th>\n",
       "      <th></th>\n",
       "      <th></th>\n",
       "      <th></th>\n",
       "      <th></th>\n",
       "      <th></th>\n",
       "      <th></th>\n",
       "      <th></th>\n",
       "      <th></th>\n",
       "      <th></th>\n",
       "      <th></th>\n",
       "      <th></th>\n",
       "      <th></th>\n",
       "    </tr>\n",
       "  </thead>\n",
       "  <tbody>\n",
       "    <tr>\n",
       "      <th>7590-VHVEG</th>\n",
       "      <td>2020-01-01</td>\n",
       "      <td>2020-02-01</td>\n",
       "      <td>Month-to-month</td>\n",
       "      <td>Yes</td>\n",
       "      <td>Electronic check</td>\n",
       "      <td>29.85</td>\n",
       "      <td>29.85</td>\n",
       "      <td>Female</td>\n",
       "      <td>0</td>\n",
       "      <td>Yes</td>\n",
       "      <td>No</td>\n",
       "      <td>DSL</td>\n",
       "      <td>No</td>\n",
       "      <td>Yes</td>\n",
       "      <td>No</td>\n",
       "      <td>No</td>\n",
       "      <td>No</td>\n",
       "      <td>No</td>\n",
       "      <td>No</td>\n",
       "      <td>31</td>\n",
       "    </tr>\n",
       "    <tr>\n",
       "      <th>5575-GNVDE</th>\n",
       "      <td>2017-04-01</td>\n",
       "      <td>2020-02-01</td>\n",
       "      <td>One year</td>\n",
       "      <td>No</td>\n",
       "      <td>Mailed check</td>\n",
       "      <td>56.95</td>\n",
       "      <td>1889.50</td>\n",
       "      <td>Male</td>\n",
       "      <td>0</td>\n",
       "      <td>No</td>\n",
       "      <td>No</td>\n",
       "      <td>DSL</td>\n",
       "      <td>Yes</td>\n",
       "      <td>No</td>\n",
       "      <td>Yes</td>\n",
       "      <td>No</td>\n",
       "      <td>No</td>\n",
       "      <td>No</td>\n",
       "      <td>No</td>\n",
       "      <td>1036</td>\n",
       "    </tr>\n",
       "    <tr>\n",
       "      <th>3668-QPYBK</th>\n",
       "      <td>2019-10-01</td>\n",
       "      <td>2019-12-01</td>\n",
       "      <td>Month-to-month</td>\n",
       "      <td>Yes</td>\n",
       "      <td>Mailed check</td>\n",
       "      <td>53.85</td>\n",
       "      <td>108.15</td>\n",
       "      <td>Male</td>\n",
       "      <td>0</td>\n",
       "      <td>No</td>\n",
       "      <td>No</td>\n",
       "      <td>DSL</td>\n",
       "      <td>Yes</td>\n",
       "      <td>Yes</td>\n",
       "      <td>No</td>\n",
       "      <td>No</td>\n",
       "      <td>No</td>\n",
       "      <td>No</td>\n",
       "      <td>No</td>\n",
       "      <td>61</td>\n",
       "    </tr>\n",
       "    <tr>\n",
       "      <th>7795-CFOCW</th>\n",
       "      <td>2016-05-01</td>\n",
       "      <td>2020-02-01</td>\n",
       "      <td>One year</td>\n",
       "      <td>No</td>\n",
       "      <td>Bank transfer (automatic)</td>\n",
       "      <td>42.30</td>\n",
       "      <td>1840.75</td>\n",
       "      <td>Male</td>\n",
       "      <td>0</td>\n",
       "      <td>No</td>\n",
       "      <td>No</td>\n",
       "      <td>DSL</td>\n",
       "      <td>Yes</td>\n",
       "      <td>No</td>\n",
       "      <td>Yes</td>\n",
       "      <td>Yes</td>\n",
       "      <td>No</td>\n",
       "      <td>No</td>\n",
       "      <td>No</td>\n",
       "      <td>1371</td>\n",
       "    </tr>\n",
       "    <tr>\n",
       "      <th>9237-HQITU</th>\n",
       "      <td>2019-09-01</td>\n",
       "      <td>2019-11-01</td>\n",
       "      <td>Month-to-month</td>\n",
       "      <td>Yes</td>\n",
       "      <td>Electronic check</td>\n",
       "      <td>70.70</td>\n",
       "      <td>151.65</td>\n",
       "      <td>Female</td>\n",
       "      <td>0</td>\n",
       "      <td>No</td>\n",
       "      <td>No</td>\n",
       "      <td>Fiber optic</td>\n",
       "      <td>No</td>\n",
       "      <td>No</td>\n",
       "      <td>No</td>\n",
       "      <td>No</td>\n",
       "      <td>No</td>\n",
       "      <td>No</td>\n",
       "      <td>No</td>\n",
       "      <td>61</td>\n",
       "    </tr>\n",
       "  </tbody>\n",
       "</table>\n",
       "</div>"
      ],
      "text/plain": [
       "            begin_date   end_date    billing_type paperless_billing  \\\n",
       "customer_id                                                           \n",
       "7590-VHVEG  2020-01-01 2020-02-01  Month-to-month               Yes   \n",
       "5575-GNVDE  2017-04-01 2020-02-01        One year                No   \n",
       "3668-QPYBK  2019-10-01 2019-12-01  Month-to-month               Yes   \n",
       "7795-CFOCW  2016-05-01 2020-02-01        One year                No   \n",
       "9237-HQITU  2019-09-01 2019-11-01  Month-to-month               Yes   \n",
       "\n",
       "                        payment_method  monthly_charges  total_charges  \\\n",
       "customer_id                                                              \n",
       "7590-VHVEG            Electronic check            29.85          29.85   \n",
       "5575-GNVDE                Mailed check            56.95        1889.50   \n",
       "3668-QPYBK                Mailed check            53.85         108.15   \n",
       "7795-CFOCW   Bank transfer (automatic)            42.30        1840.75   \n",
       "9237-HQITU            Electronic check            70.70         151.65   \n",
       "\n",
       "             gender senior_sitizen partner dependents internet_service  \\\n",
       "customer_id                                                              \n",
       "7590-VHVEG   Female              0     Yes         No              DSL   \n",
       "5575-GNVDE     Male              0      No         No              DSL   \n",
       "3668-QPYBK     Male              0      No         No              DSL   \n",
       "7795-CFOCW     Male              0      No         No              DSL   \n",
       "9237-HQITU   Female              0      No         No      Fiber optic   \n",
       "\n",
       "            online_security online_backup device_protection tech_support  \\\n",
       "customer_id                                                                \n",
       "7590-VHVEG               No           Yes                No           No   \n",
       "5575-GNVDE              Yes            No               Yes           No   \n",
       "3668-QPYBK              Yes           Yes                No           No   \n",
       "7795-CFOCW              Yes            No               Yes          Yes   \n",
       "9237-HQITU               No            No                No           No   \n",
       "\n",
       "            streaming_tv streaming_movies multiple_lines  duration_contract  \n",
       "customer_id                                                                  \n",
       "7590-VHVEG            No               No             No                 31  \n",
       "5575-GNVDE            No               No             No               1036  \n",
       "3668-QPYBK            No               No             No                 61  \n",
       "7795-CFOCW            No               No             No               1371  \n",
       "9237-HQITU            No               No             No                 61  "
      ]
     },
     "metadata": {},
     "output_type": "display_data"
    }
   ],
   "source": [
    "data['duration_contract'] = (data['end_date'] - data['begin_date']).astype('timedelta64[D]')\n",
    "data['duration_contract'] = data['duration_contract'].astype('int')\n",
    "display(data.head())"
   ]
  },
  {
   "cell_type": "markdown",
   "metadata": {},
   "source": [
    "Создадим столбец с годом начала предоставления услуг клиенту"
   ]
  },
  {
   "cell_type": "code",
   "execution_count": 52,
   "metadata": {},
   "outputs": [
    {
     "data": {
      "text/html": [
       "<div>\n",
       "<style scoped>\n",
       "    .dataframe tbody tr th:only-of-type {\n",
       "        vertical-align: middle;\n",
       "    }\n",
       "\n",
       "    .dataframe tbody tr th {\n",
       "        vertical-align: top;\n",
       "    }\n",
       "\n",
       "    .dataframe thead th {\n",
       "        text-align: right;\n",
       "    }\n",
       "</style>\n",
       "<table border=\"1\" class=\"dataframe\">\n",
       "  <thead>\n",
       "    <tr style=\"text-align: right;\">\n",
       "      <th></th>\n",
       "      <th>begin_date</th>\n",
       "      <th>end_date</th>\n",
       "      <th>billing_type</th>\n",
       "      <th>paperless_billing</th>\n",
       "      <th>payment_method</th>\n",
       "      <th>monthly_charges</th>\n",
       "      <th>total_charges</th>\n",
       "      <th>gender</th>\n",
       "      <th>senior_sitizen</th>\n",
       "      <th>partner</th>\n",
       "      <th>dependents</th>\n",
       "      <th>internet_service</th>\n",
       "      <th>online_security</th>\n",
       "      <th>online_backup</th>\n",
       "      <th>device_protection</th>\n",
       "      <th>tech_support</th>\n",
       "      <th>streaming_tv</th>\n",
       "      <th>streaming_movies</th>\n",
       "      <th>multiple_lines</th>\n",
       "      <th>duration_contract</th>\n",
       "      <th>begin_year</th>\n",
       "    </tr>\n",
       "    <tr>\n",
       "      <th>customer_id</th>\n",
       "      <th></th>\n",
       "      <th></th>\n",
       "      <th></th>\n",
       "      <th></th>\n",
       "      <th></th>\n",
       "      <th></th>\n",
       "      <th></th>\n",
       "      <th></th>\n",
       "      <th></th>\n",
       "      <th></th>\n",
       "      <th></th>\n",
       "      <th></th>\n",
       "      <th></th>\n",
       "      <th></th>\n",
       "      <th></th>\n",
       "      <th></th>\n",
       "      <th></th>\n",
       "      <th></th>\n",
       "      <th></th>\n",
       "      <th></th>\n",
       "      <th></th>\n",
       "    </tr>\n",
       "  </thead>\n",
       "  <tbody>\n",
       "    <tr>\n",
       "      <th>7590-VHVEG</th>\n",
       "      <td>2020-01-01</td>\n",
       "      <td>2020-02-01</td>\n",
       "      <td>Month-to-month</td>\n",
       "      <td>Yes</td>\n",
       "      <td>Electronic check</td>\n",
       "      <td>29.85</td>\n",
       "      <td>29.85</td>\n",
       "      <td>Female</td>\n",
       "      <td>0</td>\n",
       "      <td>Yes</td>\n",
       "      <td>No</td>\n",
       "      <td>DSL</td>\n",
       "      <td>No</td>\n",
       "      <td>Yes</td>\n",
       "      <td>No</td>\n",
       "      <td>No</td>\n",
       "      <td>No</td>\n",
       "      <td>No</td>\n",
       "      <td>No</td>\n",
       "      <td>31</td>\n",
       "      <td>2020</td>\n",
       "    </tr>\n",
       "    <tr>\n",
       "      <th>5575-GNVDE</th>\n",
       "      <td>2017-04-01</td>\n",
       "      <td>2020-02-01</td>\n",
       "      <td>One year</td>\n",
       "      <td>No</td>\n",
       "      <td>Mailed check</td>\n",
       "      <td>56.95</td>\n",
       "      <td>1889.50</td>\n",
       "      <td>Male</td>\n",
       "      <td>0</td>\n",
       "      <td>No</td>\n",
       "      <td>No</td>\n",
       "      <td>DSL</td>\n",
       "      <td>Yes</td>\n",
       "      <td>No</td>\n",
       "      <td>Yes</td>\n",
       "      <td>No</td>\n",
       "      <td>No</td>\n",
       "      <td>No</td>\n",
       "      <td>No</td>\n",
       "      <td>1036</td>\n",
       "      <td>2017</td>\n",
       "    </tr>\n",
       "    <tr>\n",
       "      <th>3668-QPYBK</th>\n",
       "      <td>2019-10-01</td>\n",
       "      <td>2019-12-01</td>\n",
       "      <td>Month-to-month</td>\n",
       "      <td>Yes</td>\n",
       "      <td>Mailed check</td>\n",
       "      <td>53.85</td>\n",
       "      <td>108.15</td>\n",
       "      <td>Male</td>\n",
       "      <td>0</td>\n",
       "      <td>No</td>\n",
       "      <td>No</td>\n",
       "      <td>DSL</td>\n",
       "      <td>Yes</td>\n",
       "      <td>Yes</td>\n",
       "      <td>No</td>\n",
       "      <td>No</td>\n",
       "      <td>No</td>\n",
       "      <td>No</td>\n",
       "      <td>No</td>\n",
       "      <td>61</td>\n",
       "      <td>2019</td>\n",
       "    </tr>\n",
       "    <tr>\n",
       "      <th>7795-CFOCW</th>\n",
       "      <td>2016-05-01</td>\n",
       "      <td>2020-02-01</td>\n",
       "      <td>One year</td>\n",
       "      <td>No</td>\n",
       "      <td>Bank transfer (automatic)</td>\n",
       "      <td>42.30</td>\n",
       "      <td>1840.75</td>\n",
       "      <td>Male</td>\n",
       "      <td>0</td>\n",
       "      <td>No</td>\n",
       "      <td>No</td>\n",
       "      <td>DSL</td>\n",
       "      <td>Yes</td>\n",
       "      <td>No</td>\n",
       "      <td>Yes</td>\n",
       "      <td>Yes</td>\n",
       "      <td>No</td>\n",
       "      <td>No</td>\n",
       "      <td>No</td>\n",
       "      <td>1371</td>\n",
       "      <td>2016</td>\n",
       "    </tr>\n",
       "    <tr>\n",
       "      <th>9237-HQITU</th>\n",
       "      <td>2019-09-01</td>\n",
       "      <td>2019-11-01</td>\n",
       "      <td>Month-to-month</td>\n",
       "      <td>Yes</td>\n",
       "      <td>Electronic check</td>\n",
       "      <td>70.70</td>\n",
       "      <td>151.65</td>\n",
       "      <td>Female</td>\n",
       "      <td>0</td>\n",
       "      <td>No</td>\n",
       "      <td>No</td>\n",
       "      <td>Fiber optic</td>\n",
       "      <td>No</td>\n",
       "      <td>No</td>\n",
       "      <td>No</td>\n",
       "      <td>No</td>\n",
       "      <td>No</td>\n",
       "      <td>No</td>\n",
       "      <td>No</td>\n",
       "      <td>61</td>\n",
       "      <td>2019</td>\n",
       "    </tr>\n",
       "  </tbody>\n",
       "</table>\n",
       "</div>"
      ],
      "text/plain": [
       "            begin_date   end_date    billing_type paperless_billing  \\\n",
       "customer_id                                                           \n",
       "7590-VHVEG  2020-01-01 2020-02-01  Month-to-month               Yes   \n",
       "5575-GNVDE  2017-04-01 2020-02-01        One year                No   \n",
       "3668-QPYBK  2019-10-01 2019-12-01  Month-to-month               Yes   \n",
       "7795-CFOCW  2016-05-01 2020-02-01        One year                No   \n",
       "9237-HQITU  2019-09-01 2019-11-01  Month-to-month               Yes   \n",
       "\n",
       "                        payment_method  monthly_charges  total_charges  \\\n",
       "customer_id                                                              \n",
       "7590-VHVEG            Electronic check            29.85          29.85   \n",
       "5575-GNVDE                Mailed check            56.95        1889.50   \n",
       "3668-QPYBK                Mailed check            53.85         108.15   \n",
       "7795-CFOCW   Bank transfer (automatic)            42.30        1840.75   \n",
       "9237-HQITU            Electronic check            70.70         151.65   \n",
       "\n",
       "             gender senior_sitizen partner dependents internet_service  \\\n",
       "customer_id                                                              \n",
       "7590-VHVEG   Female              0     Yes         No              DSL   \n",
       "5575-GNVDE     Male              0      No         No              DSL   \n",
       "3668-QPYBK     Male              0      No         No              DSL   \n",
       "7795-CFOCW     Male              0      No         No              DSL   \n",
       "9237-HQITU   Female              0      No         No      Fiber optic   \n",
       "\n",
       "            online_security online_backup device_protection tech_support  \\\n",
       "customer_id                                                                \n",
       "7590-VHVEG               No           Yes                No           No   \n",
       "5575-GNVDE              Yes            No               Yes           No   \n",
       "3668-QPYBK              Yes           Yes                No           No   \n",
       "7795-CFOCW              Yes            No               Yes          Yes   \n",
       "9237-HQITU               No            No                No           No   \n",
       "\n",
       "            streaming_tv streaming_movies multiple_lines  duration_contract  \\\n",
       "customer_id                                                                   \n",
       "7590-VHVEG            No               No             No                 31   \n",
       "5575-GNVDE            No               No             No               1036   \n",
       "3668-QPYBK            No               No             No                 61   \n",
       "7795-CFOCW            No               No             No               1371   \n",
       "9237-HQITU            No               No             No                 61   \n",
       "\n",
       "             begin_year  \n",
       "customer_id              \n",
       "7590-VHVEG         2020  \n",
       "5575-GNVDE         2017  \n",
       "3668-QPYBK         2019  \n",
       "7795-CFOCW         2016  \n",
       "9237-HQITU         2019  "
      ]
     },
     "metadata": {},
     "output_type": "display_data"
    }
   ],
   "source": [
    "data['begin_year'] = pd.DatetimeIndex(data['begin_date']).year\n",
    "display(data.head())"
   ]
  },
  {
   "cell_type": "markdown",
   "metadata": {},
   "source": [
    "Выделим целевой признак"
   ]
  },
  {
   "cell_type": "code",
   "execution_count": 53,
   "metadata": {},
   "outputs": [],
   "source": [
    "actual_date = pd.to_datetime('2020-02-01', format='%Y-%m-%d')\n",
    "data['client_left'] = data['end_date'].apply(lambda x: 1 if x<actual_date else 0)"
   ]
  },
  {
   "cell_type": "markdown",
   "metadata": {},
   "source": [
    "Проверим выделение целевого признака"
   ]
  },
  {
   "cell_type": "code",
   "execution_count": 54,
   "metadata": {},
   "outputs": [
    {
     "data": {
      "text/html": [
       "<div>\n",
       "<style scoped>\n",
       "    .dataframe tbody tr th:only-of-type {\n",
       "        vertical-align: middle;\n",
       "    }\n",
       "\n",
       "    .dataframe tbody tr th {\n",
       "        vertical-align: top;\n",
       "    }\n",
       "\n",
       "    .dataframe thead th {\n",
       "        text-align: right;\n",
       "    }\n",
       "</style>\n",
       "<table border=\"1\" class=\"dataframe\">\n",
       "  <thead>\n",
       "    <tr style=\"text-align: right;\">\n",
       "      <th></th>\n",
       "      <th>end_date</th>\n",
       "      <th>client_left</th>\n",
       "    </tr>\n",
       "    <tr>\n",
       "      <th>customer_id</th>\n",
       "      <th></th>\n",
       "      <th></th>\n",
       "    </tr>\n",
       "  </thead>\n",
       "  <tbody>\n",
       "    <tr>\n",
       "      <th>3668-QPYBK</th>\n",
       "      <td>2019-12-01</td>\n",
       "      <td>1</td>\n",
       "    </tr>\n",
       "    <tr>\n",
       "      <th>9237-HQITU</th>\n",
       "      <td>2019-11-01</td>\n",
       "      <td>1</td>\n",
       "    </tr>\n",
       "    <tr>\n",
       "      <th>9305-CDSKC</th>\n",
       "      <td>2019-11-01</td>\n",
       "      <td>1</td>\n",
       "    </tr>\n",
       "    <tr>\n",
       "      <th>7892-POOKP</th>\n",
       "      <td>2019-11-01</td>\n",
       "      <td>1</td>\n",
       "    </tr>\n",
       "    <tr>\n",
       "      <th>0280-XJGEX</th>\n",
       "      <td>2019-10-01</td>\n",
       "      <td>1</td>\n",
       "    </tr>\n",
       "    <tr>\n",
       "      <th>...</th>\n",
       "      <td>...</td>\n",
       "      <td>...</td>\n",
       "    </tr>\n",
       "    <tr>\n",
       "      <th>1699-HPSBG</th>\n",
       "      <td>2019-11-01</td>\n",
       "      <td>1</td>\n",
       "    </tr>\n",
       "    <tr>\n",
       "      <th>8775-CEBBJ</th>\n",
       "      <td>2019-11-01</td>\n",
       "      <td>1</td>\n",
       "    </tr>\n",
       "    <tr>\n",
       "      <th>6894-LFHLY</th>\n",
       "      <td>2019-11-01</td>\n",
       "      <td>1</td>\n",
       "    </tr>\n",
       "    <tr>\n",
       "      <th>0639-TSIQW</th>\n",
       "      <td>2019-10-01</td>\n",
       "      <td>1</td>\n",
       "    </tr>\n",
       "    <tr>\n",
       "      <th>8361-LTMKD</th>\n",
       "      <td>2019-11-01</td>\n",
       "      <td>1</td>\n",
       "    </tr>\n",
       "  </tbody>\n",
       "</table>\n",
       "<p>1869 rows × 2 columns</p>\n",
       "</div>"
      ],
      "text/plain": [
       "              end_date  client_left\n",
       "customer_id                        \n",
       "3668-QPYBK  2019-12-01            1\n",
       "9237-HQITU  2019-11-01            1\n",
       "9305-CDSKC  2019-11-01            1\n",
       "7892-POOKP  2019-11-01            1\n",
       "0280-XJGEX  2019-10-01            1\n",
       "...                ...          ...\n",
       "1699-HPSBG  2019-11-01            1\n",
       "8775-CEBBJ  2019-11-01            1\n",
       "6894-LFHLY  2019-11-01            1\n",
       "0639-TSIQW  2019-10-01            1\n",
       "8361-LTMKD  2019-11-01            1\n",
       "\n",
       "[1869 rows x 2 columns]"
      ]
     },
     "metadata": {},
     "output_type": "display_data"
    },
    {
     "data": {
      "text/html": [
       "<div>\n",
       "<style scoped>\n",
       "    .dataframe tbody tr th:only-of-type {\n",
       "        vertical-align: middle;\n",
       "    }\n",
       "\n",
       "    .dataframe tbody tr th {\n",
       "        vertical-align: top;\n",
       "    }\n",
       "\n",
       "    .dataframe thead th {\n",
       "        text-align: right;\n",
       "    }\n",
       "</style>\n",
       "<table border=\"1\" class=\"dataframe\">\n",
       "  <thead>\n",
       "    <tr style=\"text-align: right;\">\n",
       "      <th></th>\n",
       "      <th>end_date</th>\n",
       "      <th>client_left</th>\n",
       "    </tr>\n",
       "    <tr>\n",
       "      <th>customer_id</th>\n",
       "      <th></th>\n",
       "      <th></th>\n",
       "    </tr>\n",
       "  </thead>\n",
       "  <tbody>\n",
       "    <tr>\n",
       "      <th>7590-VHVEG</th>\n",
       "      <td>2020-02-01</td>\n",
       "      <td>0</td>\n",
       "    </tr>\n",
       "    <tr>\n",
       "      <th>5575-GNVDE</th>\n",
       "      <td>2020-02-01</td>\n",
       "      <td>0</td>\n",
       "    </tr>\n",
       "    <tr>\n",
       "      <th>7795-CFOCW</th>\n",
       "      <td>2020-02-01</td>\n",
       "      <td>0</td>\n",
       "    </tr>\n",
       "    <tr>\n",
       "      <th>1452-KIOVK</th>\n",
       "      <td>2020-02-01</td>\n",
       "      <td>0</td>\n",
       "    </tr>\n",
       "    <tr>\n",
       "      <th>6713-OKOMC</th>\n",
       "      <td>2020-02-01</td>\n",
       "      <td>0</td>\n",
       "    </tr>\n",
       "    <tr>\n",
       "      <th>...</th>\n",
       "      <td>...</td>\n",
       "      <td>...</td>\n",
       "    </tr>\n",
       "    <tr>\n",
       "      <th>2569-WGERO</th>\n",
       "      <td>2020-02-01</td>\n",
       "      <td>0</td>\n",
       "    </tr>\n",
       "    <tr>\n",
       "      <th>6840-RESVB</th>\n",
       "      <td>2020-02-01</td>\n",
       "      <td>0</td>\n",
       "    </tr>\n",
       "    <tr>\n",
       "      <th>2234-XADUH</th>\n",
       "      <td>2020-02-01</td>\n",
       "      <td>0</td>\n",
       "    </tr>\n",
       "    <tr>\n",
       "      <th>4801-JZAZL</th>\n",
       "      <td>2020-02-01</td>\n",
       "      <td>0</td>\n",
       "    </tr>\n",
       "    <tr>\n",
       "      <th>3186-AJIEK</th>\n",
       "      <td>2020-02-01</td>\n",
       "      <td>0</td>\n",
       "    </tr>\n",
       "  </tbody>\n",
       "</table>\n",
       "<p>5174 rows × 2 columns</p>\n",
       "</div>"
      ],
      "text/plain": [
       "              end_date  client_left\n",
       "customer_id                        \n",
       "7590-VHVEG  2020-02-01            0\n",
       "5575-GNVDE  2020-02-01            0\n",
       "7795-CFOCW  2020-02-01            0\n",
       "1452-KIOVK  2020-02-01            0\n",
       "6713-OKOMC  2020-02-01            0\n",
       "...                ...          ...\n",
       "2569-WGERO  2020-02-01            0\n",
       "6840-RESVB  2020-02-01            0\n",
       "2234-XADUH  2020-02-01            0\n",
       "4801-JZAZL  2020-02-01            0\n",
       "3186-AJIEK  2020-02-01            0\n",
       "\n",
       "[5174 rows x 2 columns]"
      ]
     },
     "metadata": {},
     "output_type": "display_data"
    }
   ],
   "source": [
    "display(data[['end_date','client_left']].query('end_date < @actual_date'))\n",
    "display(data[['end_date','client_left']].query('end_date == @actual_date'))"
   ]
  },
  {
   "cell_type": "code",
   "execution_count": 55,
   "metadata": {},
   "outputs": [
    {
     "data": {
      "text/html": [
       "<div>\n",
       "<style scoped>\n",
       "    .dataframe tbody tr th:only-of-type {\n",
       "        vertical-align: middle;\n",
       "    }\n",
       "\n",
       "    .dataframe tbody tr th {\n",
       "        vertical-align: top;\n",
       "    }\n",
       "\n",
       "    .dataframe thead th {\n",
       "        text-align: right;\n",
       "    }\n",
       "</style>\n",
       "<table border=\"1\" class=\"dataframe\">\n",
       "  <thead>\n",
       "    <tr style=\"text-align: right;\">\n",
       "      <th></th>\n",
       "      <th>begin_date</th>\n",
       "      <th>end_date</th>\n",
       "      <th>billing_type</th>\n",
       "      <th>paperless_billing</th>\n",
       "      <th>payment_method</th>\n",
       "      <th>monthly_charges</th>\n",
       "      <th>total_charges</th>\n",
       "      <th>gender</th>\n",
       "      <th>senior_sitizen</th>\n",
       "      <th>partner</th>\n",
       "      <th>dependents</th>\n",
       "      <th>internet_service</th>\n",
       "      <th>online_security</th>\n",
       "      <th>online_backup</th>\n",
       "      <th>device_protection</th>\n",
       "      <th>tech_support</th>\n",
       "      <th>streaming_tv</th>\n",
       "      <th>streaming_movies</th>\n",
       "      <th>multiple_lines</th>\n",
       "      <th>duration_contract</th>\n",
       "      <th>begin_year</th>\n",
       "      <th>client_left</th>\n",
       "    </tr>\n",
       "    <tr>\n",
       "      <th>customer_id</th>\n",
       "      <th></th>\n",
       "      <th></th>\n",
       "      <th></th>\n",
       "      <th></th>\n",
       "      <th></th>\n",
       "      <th></th>\n",
       "      <th></th>\n",
       "      <th></th>\n",
       "      <th></th>\n",
       "      <th></th>\n",
       "      <th></th>\n",
       "      <th></th>\n",
       "      <th></th>\n",
       "      <th></th>\n",
       "      <th></th>\n",
       "      <th></th>\n",
       "      <th></th>\n",
       "      <th></th>\n",
       "      <th></th>\n",
       "      <th></th>\n",
       "      <th></th>\n",
       "      <th></th>\n",
       "    </tr>\n",
       "  </thead>\n",
       "  <tbody>\n",
       "    <tr>\n",
       "      <th>7590-VHVEG</th>\n",
       "      <td>2020-01-01</td>\n",
       "      <td>2020-02-01</td>\n",
       "      <td>Month-to-month</td>\n",
       "      <td>Yes</td>\n",
       "      <td>Electronic check</td>\n",
       "      <td>29.85</td>\n",
       "      <td>29.85</td>\n",
       "      <td>Female</td>\n",
       "      <td>0</td>\n",
       "      <td>Yes</td>\n",
       "      <td>No</td>\n",
       "      <td>DSL</td>\n",
       "      <td>No</td>\n",
       "      <td>Yes</td>\n",
       "      <td>No</td>\n",
       "      <td>No</td>\n",
       "      <td>No</td>\n",
       "      <td>No</td>\n",
       "      <td>No</td>\n",
       "      <td>31</td>\n",
       "      <td>2020</td>\n",
       "      <td>0</td>\n",
       "    </tr>\n",
       "    <tr>\n",
       "      <th>5575-GNVDE</th>\n",
       "      <td>2017-04-01</td>\n",
       "      <td>2020-02-01</td>\n",
       "      <td>One year</td>\n",
       "      <td>No</td>\n",
       "      <td>Mailed check</td>\n",
       "      <td>56.95</td>\n",
       "      <td>1889.50</td>\n",
       "      <td>Male</td>\n",
       "      <td>0</td>\n",
       "      <td>No</td>\n",
       "      <td>No</td>\n",
       "      <td>DSL</td>\n",
       "      <td>Yes</td>\n",
       "      <td>No</td>\n",
       "      <td>Yes</td>\n",
       "      <td>No</td>\n",
       "      <td>No</td>\n",
       "      <td>No</td>\n",
       "      <td>No</td>\n",
       "      <td>1036</td>\n",
       "      <td>2017</td>\n",
       "      <td>0</td>\n",
       "    </tr>\n",
       "    <tr>\n",
       "      <th>3668-QPYBK</th>\n",
       "      <td>2019-10-01</td>\n",
       "      <td>2019-12-01</td>\n",
       "      <td>Month-to-month</td>\n",
       "      <td>Yes</td>\n",
       "      <td>Mailed check</td>\n",
       "      <td>53.85</td>\n",
       "      <td>108.15</td>\n",
       "      <td>Male</td>\n",
       "      <td>0</td>\n",
       "      <td>No</td>\n",
       "      <td>No</td>\n",
       "      <td>DSL</td>\n",
       "      <td>Yes</td>\n",
       "      <td>Yes</td>\n",
       "      <td>No</td>\n",
       "      <td>No</td>\n",
       "      <td>No</td>\n",
       "      <td>No</td>\n",
       "      <td>No</td>\n",
       "      <td>61</td>\n",
       "      <td>2019</td>\n",
       "      <td>1</td>\n",
       "    </tr>\n",
       "    <tr>\n",
       "      <th>7795-CFOCW</th>\n",
       "      <td>2016-05-01</td>\n",
       "      <td>2020-02-01</td>\n",
       "      <td>One year</td>\n",
       "      <td>No</td>\n",
       "      <td>Bank transfer (automatic)</td>\n",
       "      <td>42.30</td>\n",
       "      <td>1840.75</td>\n",
       "      <td>Male</td>\n",
       "      <td>0</td>\n",
       "      <td>No</td>\n",
       "      <td>No</td>\n",
       "      <td>DSL</td>\n",
       "      <td>Yes</td>\n",
       "      <td>No</td>\n",
       "      <td>Yes</td>\n",
       "      <td>Yes</td>\n",
       "      <td>No</td>\n",
       "      <td>No</td>\n",
       "      <td>No</td>\n",
       "      <td>1371</td>\n",
       "      <td>2016</td>\n",
       "      <td>0</td>\n",
       "    </tr>\n",
       "    <tr>\n",
       "      <th>9237-HQITU</th>\n",
       "      <td>2019-09-01</td>\n",
       "      <td>2019-11-01</td>\n",
       "      <td>Month-to-month</td>\n",
       "      <td>Yes</td>\n",
       "      <td>Electronic check</td>\n",
       "      <td>70.70</td>\n",
       "      <td>151.65</td>\n",
       "      <td>Female</td>\n",
       "      <td>0</td>\n",
       "      <td>No</td>\n",
       "      <td>No</td>\n",
       "      <td>Fiber optic</td>\n",
       "      <td>No</td>\n",
       "      <td>No</td>\n",
       "      <td>No</td>\n",
       "      <td>No</td>\n",
       "      <td>No</td>\n",
       "      <td>No</td>\n",
       "      <td>No</td>\n",
       "      <td>61</td>\n",
       "      <td>2019</td>\n",
       "      <td>1</td>\n",
       "    </tr>\n",
       "  </tbody>\n",
       "</table>\n",
       "</div>"
      ],
      "text/plain": [
       "            begin_date   end_date    billing_type paperless_billing  \\\n",
       "customer_id                                                           \n",
       "7590-VHVEG  2020-01-01 2020-02-01  Month-to-month               Yes   \n",
       "5575-GNVDE  2017-04-01 2020-02-01        One year                No   \n",
       "3668-QPYBK  2019-10-01 2019-12-01  Month-to-month               Yes   \n",
       "7795-CFOCW  2016-05-01 2020-02-01        One year                No   \n",
       "9237-HQITU  2019-09-01 2019-11-01  Month-to-month               Yes   \n",
       "\n",
       "                        payment_method  monthly_charges  total_charges  \\\n",
       "customer_id                                                              \n",
       "7590-VHVEG            Electronic check            29.85          29.85   \n",
       "5575-GNVDE                Mailed check            56.95        1889.50   \n",
       "3668-QPYBK                Mailed check            53.85         108.15   \n",
       "7795-CFOCW   Bank transfer (automatic)            42.30        1840.75   \n",
       "9237-HQITU            Electronic check            70.70         151.65   \n",
       "\n",
       "             gender senior_sitizen partner dependents internet_service  \\\n",
       "customer_id                                                              \n",
       "7590-VHVEG   Female              0     Yes         No              DSL   \n",
       "5575-GNVDE     Male              0      No         No              DSL   \n",
       "3668-QPYBK     Male              0      No         No              DSL   \n",
       "7795-CFOCW     Male              0      No         No              DSL   \n",
       "9237-HQITU   Female              0      No         No      Fiber optic   \n",
       "\n",
       "            online_security online_backup device_protection tech_support  \\\n",
       "customer_id                                                                \n",
       "7590-VHVEG               No           Yes                No           No   \n",
       "5575-GNVDE              Yes            No               Yes           No   \n",
       "3668-QPYBK              Yes           Yes                No           No   \n",
       "7795-CFOCW              Yes            No               Yes          Yes   \n",
       "9237-HQITU               No            No                No           No   \n",
       "\n",
       "            streaming_tv streaming_movies multiple_lines  duration_contract  \\\n",
       "customer_id                                                                   \n",
       "7590-VHVEG            No               No             No                 31   \n",
       "5575-GNVDE            No               No             No               1036   \n",
       "3668-QPYBK            No               No             No                 61   \n",
       "7795-CFOCW            No               No             No               1371   \n",
       "9237-HQITU            No               No             No                 61   \n",
       "\n",
       "             begin_year  client_left  \n",
       "customer_id                           \n",
       "7590-VHVEG         2020            0  \n",
       "5575-GNVDE         2017            0  \n",
       "3668-QPYBK         2019            1  \n",
       "7795-CFOCW         2016            0  \n",
       "9237-HQITU         2019            1  "
      ]
     },
     "metadata": {},
     "output_type": "display_data"
    }
   ],
   "source": [
    "display(data.head())"
   ]
  },
  {
   "cell_type": "markdown",
   "metadata": {},
   "source": [
    "Посмотрим на распределение целевого признака"
   ]
  },
  {
   "cell_type": "code",
   "execution_count": 56,
   "metadata": {},
   "outputs": [
    {
     "data": {
      "text/plain": [
       "0    5174\n",
       "1    1869\n",
       "Name: client_left, dtype: int64"
      ]
     },
     "execution_count": 56,
     "metadata": {},
     "output_type": "execute_result"
    }
   ],
   "source": [
    "data['client_left'].value_counts()"
   ]
  },
  {
   "cell_type": "code",
   "execution_count": 57,
   "metadata": {},
   "outputs": [
    {
     "name": "stdout",
     "output_type": "stream",
     "text": [
      "0    0.73463\n",
      "1    0.26537\n",
      "Name: client_left, dtype: float64\n"
     ]
    },
    {
     "data": {
      "text/plain": [
       "<AxesSubplot:>"
      ]
     },
     "execution_count": 57,
     "metadata": {},
     "output_type": "execute_result"
    },
    {
     "data": {
      "image/png": "[encoded data removed]",
      "text/plain": [
       "<Figure size 432x288 with 1 Axes>"
      ]
     },
     "metadata": {},
     "output_type": "display_data"
    }
   ],
   "source": [
    "class_frequency = data['client_left'].value_counts(normalize=True)\n",
    "print(class_frequency)\n",
    "class_frequency.plot(kind='bar')"
   ]
  },
  {
   "cell_type": "markdown",
   "metadata": {},
   "source": [
    "Целевой признак распределён в примерно в сооотношении 3:1. Необходимо учесть дисбаланс при обучении модели"
   ]
  },
  {
   "cell_type": "markdown",
   "metadata": {},
   "source": [
    "Посмотрим корреляцию между количественными признаками"
   ]
  },
  {
   "cell_type": "code",
   "execution_count": 58,
   "metadata": {},
   "outputs": [
    {
     "data": {
      "image/png": "[encoded data removed]",
      "text/plain": [
       "<Figure size 936x648 with 2 Axes>"
      ]
     },
     "metadata": {},
     "output_type": "display_data"
    }
   ],
   "source": [
    "\n",
    "plt.figure(figsize=(13,9))\n",
    "sns.heatmap(data.loc[:, ['monthly_charges','total_charges','duration_contract']].corr(), annot=True, fmt=\".3f\", linewidths=.5,linecolor='black')\n",
    "plt.title(\"Корреляция между признаками\")\n",
    "plt.show()"
   ]
  },
  {
   "cell_type": "markdown",
   "metadata": {},
   "source": [
    "Видим, что сильная корреляция наблюдается между признакаями duration_contract и total_charges. monthly_charges и total_charges скоррелированы довольно средне. Удалим признак total_charges, чтобы он не мешал модели."
   ]
  },
  {
   "cell_type": "markdown",
   "metadata": {},
   "source": [
    "Посмотрим на гистограмму ушедших клиентов по году их подключения"
   ]
  },
  {
   "cell_type": "code",
   "execution_count": 59,
   "metadata": {},
   "outputs": [
    {
     "data": {
      "image/png": "[encoded data removed]",
      "text/plain": [
       "<Figure size 864x576 with 1 Axes>"
      ]
     },
     "metadata": {},
     "output_type": "display_data"
    }
   ],
   "source": [
    "plt.figure(figsize=(12,8))\n",
    "data.query('client_left == 1')['begin_year'].plot(kind='hist', bins=50, grid=True)\n",
    "plt.title('Гистограмма ушедших клиентов по году начала пользования услугами')\n",
    "plt.xlabel('Год подключения')\n",
    "plt.ylabel('Количество ушедших клиентов')\n",
    "plt.show()"
   ]
  },
  {
   "cell_type": "markdown",
   "metadata": {},
   "source": [
    "На графике видим, что действительно последнее время от оператора начали уходить клиенты."
   ]
  },
  {
   "cell_type": "markdown",
   "metadata": {},
   "source": [
    "Построим распределения длительности пользования услугами для дейструющих и ушедших клиентов."
   ]
  },
  {
   "cell_type": "code",
   "execution_count": 60,
   "metadata": {},
   "outputs": [
    {
     "data": {
      "text/plain": [
       "Text(0.5, 1.0, 'Клиент ушел')"
      ]
     },
     "execution_count": 60,
     "metadata": {},
     "output_type": "execute_result"
    },
    {
     "data": {
      "image/png": "[encoded data removed]",
      "text/plain": [
       "<Figure size 1152x360 with 2 Axes>"
      ]
     },
     "metadata": {},
     "output_type": "display_data"
    }
   ],
   "source": [
    "fig, (ax1, ax2) = plt.subplots(1, 2, figsize=(16,5))\n",
    "sns.distplot(data[data['client_left'] == 0]['duration_contract'], ax = ax1).set_title('Действующий клиент')\n",
    "sns.distplot(data[data['client_left'] == 1]['duration_contract'], ax = ax2).set_title('Клиент ушел')"
   ]
  },
  {
   "cell_type": "markdown",
   "metadata": {},
   "source": [
    "Большинство клиентов уходит в первый год. Маркетингу надо обратить на это внимание. Таких клиентов нужно удерживать"
   ]
  },
  {
   "cell_type": "markdown",
   "metadata": {},
   "source": [
    "Построим распределения месячной оплаты для действующих и ушедших клиентов."
   ]
  },
  {
   "cell_type": "code",
   "execution_count": 61,
   "metadata": {},
   "outputs": [
    {
     "data": {
      "text/plain": [
       "Text(0.5, 1.0, 'Клиент ушел')"
      ]
     },
     "execution_count": 61,
     "metadata": {},
     "output_type": "execute_result"
    },
    {
     "data": {
      "image/png": "[encoded data removed]",
      "text/plain": [
       "<Figure size 1152x360 with 2 Axes>"
      ]
     },
     "metadata": {},
     "output_type": "display_data"
    }
   ],
   "source": [
    "fig, (ax1, ax2) = plt.subplots(1, 2, figsize=(16,5))\n",
    "sns.distplot(data[data['client_left'] == 0]['monthly_charges'], ax = ax1).set_title('Действующий клиент')\n",
    "sns.distplot(data[data['client_left'] == 1]['monthly_charges'], ax = ax2).set_title('Клиент ушел')"
   ]
  },
  {
   "cell_type": "markdown",
   "metadata": {},
   "source": [
    "Это важный признак. Чаще всего уходили клиенты, у которых месячные платежи были больше."
   ]
  },
  {
   "cell_type": "markdown",
   "metadata": {},
   "source": [
    "Для анализа распределения категорийных признаков выделим все категории и целевой признак в отдельный DataFrame"
   ]
  },
  {
   "cell_type": "code",
   "execution_count": 62,
   "metadata": {},
   "outputs": [
    {
     "name": "stdout",
     "output_type": "stream",
     "text": [
      "<class 'pandas.core.frame.DataFrame'>\n",
      "Index: 7043 entries, 7590-VHVEG to 3186-AJIEK\n",
      "Data columns (total 22 columns):\n",
      " #   Column             Non-Null Count  Dtype         \n",
      "---  ------             --------------  -----         \n",
      " 0   begin_date         7043 non-null   datetime64[ns]\n",
      " 1   end_date           7043 non-null   datetime64[ns]\n",
      " 2   billing_type       7043 non-null   category      \n",
      " 3   paperless_billing  7043 non-null   category      \n",
      " 4   payment_method     7043 non-null   category      \n",
      " 5   monthly_charges    7043 non-null   float64       \n",
      " 6   total_charges      7043 non-null   float64       \n",
      " 7   gender             7043 non-null   category      \n",
      " 8   senior_sitizen     7043 non-null   category      \n",
      " 9   partner            7043 non-null   category      \n",
      " 10  dependents         7043 non-null   category      \n",
      " 11  internet_service   7043 non-null   category      \n",
      " 12  online_security    7043 non-null   category      \n",
      " 13  online_backup      7043 non-null   category      \n",
      " 14  device_protection  7043 non-null   category      \n",
      " 15  tech_support       7043 non-null   category      \n",
      " 16  streaming_tv       7043 non-null   category      \n",
      " 17  streaming_movies   7043 non-null   category      \n",
      " 18  multiple_lines     7043 non-null   category      \n",
      " 19  duration_contract  7043 non-null   int32         \n",
      " 20  begin_year         7043 non-null   int64         \n",
      " 21  client_left        7043 non-null   int64         \n",
      "dtypes: category(15), datetime64[ns](2), float64(2), int32(1), int64(2)\n",
      "memory usage: 775.8+ KB\n"
     ]
    }
   ],
   "source": [
    "data.info()"
   ]
  },
  {
   "cell_type": "code",
   "execution_count": 63,
   "metadata": {},
   "outputs": [
    {
     "name": "stdout",
     "output_type": "stream",
     "text": [
      "<class 'pandas.core.frame.DataFrame'>\n",
      "Index: 7043 entries, 7590-VHVEG to 3186-AJIEK\n",
      "Data columns (total 16 columns):\n",
      " #   Column             Non-Null Count  Dtype   \n",
      "---  ------             --------------  -----   \n",
      " 0   billing_type       7043 non-null   category\n",
      " 1   paperless_billing  7043 non-null   category\n",
      " 2   payment_method     7043 non-null   category\n",
      " 3   gender             7043 non-null   category\n",
      " 4   senior_sitizen     7043 non-null   category\n",
      " 5   partner            7043 non-null   category\n",
      " 6   dependents         7043 non-null   category\n",
      " 7   internet_service   7043 non-null   category\n",
      " 8   online_security    7043 non-null   category\n",
      " 9   online_backup      7043 non-null   category\n",
      " 10  device_protection  7043 non-null   category\n",
      " 11  tech_support       7043 non-null   category\n",
      " 12  streaming_tv       7043 non-null   category\n",
      " 13  streaming_movies   7043 non-null   category\n",
      " 14  multiple_lines     7043 non-null   category\n",
      " 15  client_left        7043 non-null   int64   \n",
      "dtypes: category(15), int64(1)\n",
      "memory usage: 473.2+ KB\n"
     ]
    }
   ],
   "source": [
    "data_categorial = data.drop(['begin_date', 'end_date', 'monthly_charges', 'total_charges', \n",
    "                             'duration_contract', 'begin_year'], axis = 1)\n",
    "data_categorial.info()"
   ]
  },
  {
   "cell_type": "code",
   "execution_count": 64,
   "metadata": {},
   "outputs": [
    {
     "data": {
      "text/html": [
       "<div>\n",
       "<style scoped>\n",
       "    .dataframe tbody tr th:only-of-type {\n",
       "        vertical-align: middle;\n",
       "    }\n",
       "\n",
       "    .dataframe tbody tr th {\n",
       "        vertical-align: top;\n",
       "    }\n",
       "\n",
       "    .dataframe thead th {\n",
       "        text-align: right;\n",
       "    }\n",
       "</style>\n",
       "<table border=\"1\" class=\"dataframe\">\n",
       "  <thead>\n",
       "    <tr style=\"text-align: right;\">\n",
       "      <th></th>\n",
       "      <th>billing_type</th>\n",
       "      <th>paperless_billing</th>\n",
       "      <th>payment_method</th>\n",
       "      <th>gender</th>\n",
       "      <th>senior_sitizen</th>\n",
       "      <th>partner</th>\n",
       "      <th>dependents</th>\n",
       "      <th>internet_service</th>\n",
       "      <th>online_security</th>\n",
       "      <th>online_backup</th>\n",
       "      <th>device_protection</th>\n",
       "      <th>tech_support</th>\n",
       "      <th>streaming_tv</th>\n",
       "      <th>streaming_movies</th>\n",
       "      <th>multiple_lines</th>\n",
       "      <th>client_left</th>\n",
       "    </tr>\n",
       "    <tr>\n",
       "      <th>customer_id</th>\n",
       "      <th></th>\n",
       "      <th></th>\n",
       "      <th></th>\n",
       "      <th></th>\n",
       "      <th></th>\n",
       "      <th></th>\n",
       "      <th></th>\n",
       "      <th></th>\n",
       "      <th></th>\n",
       "      <th></th>\n",
       "      <th></th>\n",
       "      <th></th>\n",
       "      <th></th>\n",
       "      <th></th>\n",
       "      <th></th>\n",
       "      <th></th>\n",
       "    </tr>\n",
       "  </thead>\n",
       "  <tbody>\n",
       "    <tr>\n",
       "      <th>7590-VHVEG</th>\n",
       "      <td>Month-to-month</td>\n",
       "      <td>Yes</td>\n",
       "      <td>Electronic check</td>\n",
       "      <td>Female</td>\n",
       "      <td>0</td>\n",
       "      <td>Yes</td>\n",
       "      <td>No</td>\n",
       "      <td>DSL</td>\n",
       "      <td>No</td>\n",
       "      <td>Yes</td>\n",
       "      <td>No</td>\n",
       "      <td>No</td>\n",
       "      <td>No</td>\n",
       "      <td>No</td>\n",
       "      <td>No</td>\n",
       "      <td>0</td>\n",
       "    </tr>\n",
       "    <tr>\n",
       "      <th>5575-GNVDE</th>\n",
       "      <td>One year</td>\n",
       "      <td>No</td>\n",
       "      <td>Mailed check</td>\n",
       "      <td>Male</td>\n",
       "      <td>0</td>\n",
       "      <td>No</td>\n",
       "      <td>No</td>\n",
       "      <td>DSL</td>\n",
       "      <td>Yes</td>\n",
       "      <td>No</td>\n",
       "      <td>Yes</td>\n",
       "      <td>No</td>\n",
       "      <td>No</td>\n",
       "      <td>No</td>\n",
       "      <td>No</td>\n",
       "      <td>0</td>\n",
       "    </tr>\n",
       "    <tr>\n",
       "      <th>3668-QPYBK</th>\n",
       "      <td>Month-to-month</td>\n",
       "      <td>Yes</td>\n",
       "      <td>Mailed check</td>\n",
       "      <td>Male</td>\n",
       "      <td>0</td>\n",
       "      <td>No</td>\n",
       "      <td>No</td>\n",
       "      <td>DSL</td>\n",
       "      <td>Yes</td>\n",
       "      <td>Yes</td>\n",
       "      <td>No</td>\n",
       "      <td>No</td>\n",
       "      <td>No</td>\n",
       "      <td>No</td>\n",
       "      <td>No</td>\n",
       "      <td>1</td>\n",
       "    </tr>\n",
       "    <tr>\n",
       "      <th>7795-CFOCW</th>\n",
       "      <td>One year</td>\n",
       "      <td>No</td>\n",
       "      <td>Bank transfer (automatic)</td>\n",
       "      <td>Male</td>\n",
       "      <td>0</td>\n",
       "      <td>No</td>\n",
       "      <td>No</td>\n",
       "      <td>DSL</td>\n",
       "      <td>Yes</td>\n",
       "      <td>No</td>\n",
       "      <td>Yes</td>\n",
       "      <td>Yes</td>\n",
       "      <td>No</td>\n",
       "      <td>No</td>\n",
       "      <td>No</td>\n",
       "      <td>0</td>\n",
       "    </tr>\n",
       "    <tr>\n",
       "      <th>9237-HQITU</th>\n",
       "      <td>Month-to-month</td>\n",
       "      <td>Yes</td>\n",
       "      <td>Electronic check</td>\n",
       "      <td>Female</td>\n",
       "      <td>0</td>\n",
       "      <td>No</td>\n",
       "      <td>No</td>\n",
       "      <td>Fiber optic</td>\n",
       "      <td>No</td>\n",
       "      <td>No</td>\n",
       "      <td>No</td>\n",
       "      <td>No</td>\n",
       "      <td>No</td>\n",
       "      <td>No</td>\n",
       "      <td>No</td>\n",
       "      <td>1</td>\n",
       "    </tr>\n",
       "  </tbody>\n",
       "</table>\n",
       "</div>"
      ],
      "text/plain": [
       "               billing_type paperless_billing             payment_method  \\\n",
       "customer_id                                                                \n",
       "7590-VHVEG   Month-to-month               Yes           Electronic check   \n",
       "5575-GNVDE         One year                No               Mailed check   \n",
       "3668-QPYBK   Month-to-month               Yes               Mailed check   \n",
       "7795-CFOCW         One year                No  Bank transfer (automatic)   \n",
       "9237-HQITU   Month-to-month               Yes           Electronic check   \n",
       "\n",
       "             gender senior_sitizen partner dependents internet_service  \\\n",
       "customer_id                                                              \n",
       "7590-VHVEG   Female              0     Yes         No              DSL   \n",
       "5575-GNVDE     Male              0      No         No              DSL   \n",
       "3668-QPYBK     Male              0      No         No              DSL   \n",
       "7795-CFOCW     Male              0      No         No              DSL   \n",
       "9237-HQITU   Female              0      No         No      Fiber optic   \n",
       "\n",
       "            online_security online_backup device_protection tech_support  \\\n",
       "customer_id                                                                \n",
       "7590-VHVEG               No           Yes                No           No   \n",
       "5575-GNVDE              Yes            No               Yes           No   \n",
       "3668-QPYBK              Yes           Yes                No           No   \n",
       "7795-CFOCW              Yes            No               Yes          Yes   \n",
       "9237-HQITU               No            No                No           No   \n",
       "\n",
       "            streaming_tv streaming_movies multiple_lines  client_left  \n",
       "customer_id                                                            \n",
       "7590-VHVEG            No               No             No            0  \n",
       "5575-GNVDE            No               No             No            0  \n",
       "3668-QPYBK            No               No             No            1  \n",
       "7795-CFOCW            No               No             No            0  \n",
       "9237-HQITU            No               No             No            1  "
      ]
     },
     "metadata": {},
     "output_type": "display_data"
    }
   ],
   "source": [
    "display(data_categorial.head())"
   ]
  },
  {
   "cell_type": "markdown",
   "metadata": {},
   "source": [
    "Построим графики распределения категорийных признаков"
   ]
  },
  {
   "cell_type": "code",
   "execution_count": 65,
   "metadata": {},
   "outputs": [
    {
     "data": {
      "text/plain": [
       "['billing_type',\n",
       " 'paperless_billing',\n",
       " 'payment_method',\n",
       " 'gender',\n",
       " 'senior_sitizen',\n",
       " 'partner',\n",
       " 'dependents',\n",
       " 'internet_service',\n",
       " 'online_security',\n",
       " 'online_backup',\n",
       " 'device_protection',\n",
       " 'tech_support',\n",
       " 'streaming_tv',\n",
       " 'streaming_movies',\n",
       " 'client_left']"
      ]
     },
     "execution_count": 65,
     "metadata": {},
     "output_type": "execute_result"
    }
   ],
   "source": [
    "data_categorial_list = list(data_categorial.columns)[0:14]\n",
    "data_categorial_list.append('client_left')\n",
    "data_categorial_list"
   ]
  },
  {
   "cell_type": "code",
   "execution_count": 66,
   "metadata": {
    "scrolled": false
   },
   "outputs": [
    {
     "data": {
      "image/png": "[encoded data removed]",
      "text/plain": [
       "<Figure size 864x360 with 1 Axes>"
      ]
     },
     "metadata": {},
     "output_type": "display_data"
    },
    {
     "data": {
      "image/png": "[encoded data removed]",
      "text/plain": [
       "<Figure size 864x360 with 1 Axes>"
      ]
     },
     "metadata": {},
     "output_type": "display_data"
    },
    {
     "data": {
      "image/png": "[encoded data removed]",
      "text/plain": [
       "<Figure size 864x360 with 1 Axes>"
      ]
     },
     "metadata": {},
     "output_type": "display_data"
    },
    {
     "data": {
      "image/png": "[encoded data removed]",
      "text/plain": [
       "<Figure size 864x360 with 1 Axes>"
      ]
     },
     "metadata": {},
     "output_type": "display_data"
    },
    {
     "data": {
      "image/png": "[encoded data removed]",
      "text/plain": [
       "<Figure size 864x360 with 1 Axes>"
      ]
     },
     "metadata": {},
     "output_type": "display_data"
    },
    {
     "data": {
      "image/png": "[encoded data removed]",
      "text/plain": [
       "<Figure size 864x360 with 1 Axes>"
      ]
     },
     "metadata": {},
     "output_type": "display_data"
    },
    {
     "data": {
      "image/png": "[encoded data removed]",
      "text/plain": [
       "<Figure size 864x360 with 1 Axes>"
      ]
     },
     "metadata": {},
     "output_type": "display_data"
    },
    {
     "data": {
      "image/png": "[encoded data removed]",
      "text/plain": [
       "<Figure size 864x360 with 1 Axes>"
      ]
     },
     "metadata": {},
     "output_type": "display_data"
    },
    {
     "data": {
      "image/png": "[encoded data removed]",
      "text/plain": [
       "<Figure size 864x360 with 1 Axes>"
      ]
     },
     "metadata": {},
     "output_type": "display_data"
    },
    {
     "data": {
      "image/png": "[encoded data removed]",
      "text/plain": [
       "<Figure size 864x360 with 1 Axes>"
      ]
     },
     "metadata": {},
     "output_type": "display_data"
    },
    {
     "data": {
      "image/png": "[encoded data removed]",
      "text/plain": [
       "<Figure size 864x360 with 1 Axes>"
      ]
     },
     "metadata": {},
     "output_type": "display_data"
    },
    {
     "data": {
      "image/png": "[encoded data removed]",
      "text/plain": [
       "<Figure size 864x360 with 1 Axes>"
      ]
     },
     "metadata": {},
     "output_type": "display_data"
    },
    {
     "data": {
      "image/png": "[encoded data removed]",
      "text/plain": [
       "<Figure size 864x360 with 1 Axes>"
      ]
     },
     "metadata": {},
     "output_type": "display_data"
    },
    {
     "data": {
      "image/png": "[encoded data removed]",
      "text/plain": [
       "<Figure size 864x360 with 1 Axes>"
      ]
     },
     "metadata": {},
     "output_type": "display_data"
    },
    {
     "data": {
      "image/png": "[encoded data removed]",
      "text/plain": [
       "<Figure size 864x360 with 1 Axes>"
      ]
     },
     "metadata": {},
     "output_type": "display_data"
    }
   ],
   "source": [
    "for column in data_categorial_list:\n",
    "    fig, ax = plt.subplots(figsize=(12, 5))\n",
    "    plt.xticks(rotation=0)\n",
    "    sns.countplot(x=column, hue= 'client_left', data=data_categorial)\n",
    "    ax.set_title('Распределение по ' + column)\n",
    "    plt.ylabel('Количество');    "
   ]
  },
  {
   "cell_type": "markdown",
   "metadata": {},
   "source": [
    "Из графиков рапределения категорийных признаков определим их важность для обучении моделей\n",
    "1. Важные признаки\n",
    "- billing_type\n",
    "- paperless_billing\n",
    "- payment_method\n",
    "- internet_service\n",
    "- dependents\n",
    "- senior_sitizen\n",
    "- online_security\n",
    "- online_backup\n",
    "- device_protection\n",
    "2. Имеется некоторое влияние признака на целевой признак\n",
    "- partner\n",
    "- tech_support\n",
    "- streaming_tv\n",
    "- streaming_movies\n",
    "- multiple_lines\n",
    "3. Признак не важен (можно удалить)\n",
    "- gender "
   ]
  },
  {
   "cell_type": "markdown",
   "metadata": {},
   "source": [
    "Теперь можем убрать не нужные признаки\n",
    "- monthly_charges, total_charges - удаляем ввиду сильной корреляции с длительностью контракта\n",
    "- begin_year - удаляем как фактор времени\n",
    "- end_date - удаляем как фактор времени\n",
    "- begin_year - столбец с годом начала предоставления услуг клиенту\n",
    "- gender - не имеет влияния на целевой признак "
   ]
  },
  {
   "cell_type": "code",
   "execution_count": 67,
   "metadata": {},
   "outputs": [
    {
     "data": {
      "text/html": [
       "<div>\n",
       "<style scoped>\n",
       "    .dataframe tbody tr th:only-of-type {\n",
       "        vertical-align: middle;\n",
       "    }\n",
       "\n",
       "    .dataframe tbody tr th {\n",
       "        vertical-align: top;\n",
       "    }\n",
       "\n",
       "    .dataframe thead th {\n",
       "        text-align: right;\n",
       "    }\n",
       "</style>\n",
       "<table border=\"1\" class=\"dataframe\">\n",
       "  <thead>\n",
       "    <tr style=\"text-align: right;\">\n",
       "      <th></th>\n",
       "      <th>billing_type</th>\n",
       "      <th>paperless_billing</th>\n",
       "      <th>payment_method</th>\n",
       "      <th>senior_sitizen</th>\n",
       "      <th>partner</th>\n",
       "      <th>dependents</th>\n",
       "      <th>internet_service</th>\n",
       "      <th>online_security</th>\n",
       "      <th>online_backup</th>\n",
       "      <th>device_protection</th>\n",
       "      <th>tech_support</th>\n",
       "      <th>streaming_tv</th>\n",
       "      <th>streaming_movies</th>\n",
       "      <th>multiple_lines</th>\n",
       "      <th>duration_contract</th>\n",
       "      <th>client_left</th>\n",
       "    </tr>\n",
       "    <tr>\n",
       "      <th>customer_id</th>\n",
       "      <th></th>\n",
       "      <th></th>\n",
       "      <th></th>\n",
       "      <th></th>\n",
       "      <th></th>\n",
       "      <th></th>\n",
       "      <th></th>\n",
       "      <th></th>\n",
       "      <th></th>\n",
       "      <th></th>\n",
       "      <th></th>\n",
       "      <th></th>\n",
       "      <th></th>\n",
       "      <th></th>\n",
       "      <th></th>\n",
       "      <th></th>\n",
       "    </tr>\n",
       "  </thead>\n",
       "  <tbody>\n",
       "    <tr>\n",
       "      <th>7590-VHVEG</th>\n",
       "      <td>Month-to-month</td>\n",
       "      <td>Yes</td>\n",
       "      <td>Electronic check</td>\n",
       "      <td>0</td>\n",
       "      <td>Yes</td>\n",
       "      <td>No</td>\n",
       "      <td>DSL</td>\n",
       "      <td>No</td>\n",
       "      <td>Yes</td>\n",
       "      <td>No</td>\n",
       "      <td>No</td>\n",
       "      <td>No</td>\n",
       "      <td>No</td>\n",
       "      <td>No</td>\n",
       "      <td>31</td>\n",
       "      <td>0</td>\n",
       "    </tr>\n",
       "    <tr>\n",
       "      <th>5575-GNVDE</th>\n",
       "      <td>One year</td>\n",
       "      <td>No</td>\n",
       "      <td>Mailed check</td>\n",
       "      <td>0</td>\n",
       "      <td>No</td>\n",
       "      <td>No</td>\n",
       "      <td>DSL</td>\n",
       "      <td>Yes</td>\n",
       "      <td>No</td>\n",
       "      <td>Yes</td>\n",
       "      <td>No</td>\n",
       "      <td>No</td>\n",
       "      <td>No</td>\n",
       "      <td>No</td>\n",
       "      <td>1036</td>\n",
       "      <td>0</td>\n",
       "    </tr>\n",
       "    <tr>\n",
       "      <th>3668-QPYBK</th>\n",
       "      <td>Month-to-month</td>\n",
       "      <td>Yes</td>\n",
       "      <td>Mailed check</td>\n",
       "      <td>0</td>\n",
       "      <td>No</td>\n",
       "      <td>No</td>\n",
       "      <td>DSL</td>\n",
       "      <td>Yes</td>\n",
       "      <td>Yes</td>\n",
       "      <td>No</td>\n",
       "      <td>No</td>\n",
       "      <td>No</td>\n",
       "      <td>No</td>\n",
       "      <td>No</td>\n",
       "      <td>61</td>\n",
       "      <td>1</td>\n",
       "    </tr>\n",
       "    <tr>\n",
       "      <th>7795-CFOCW</th>\n",
       "      <td>One year</td>\n",
       "      <td>No</td>\n",
       "      <td>Bank transfer (automatic)</td>\n",
       "      <td>0</td>\n",
       "      <td>No</td>\n",
       "      <td>No</td>\n",
       "      <td>DSL</td>\n",
       "      <td>Yes</td>\n",
       "      <td>No</td>\n",
       "      <td>Yes</td>\n",
       "      <td>Yes</td>\n",
       "      <td>No</td>\n",
       "      <td>No</td>\n",
       "      <td>No</td>\n",
       "      <td>1371</td>\n",
       "      <td>0</td>\n",
       "    </tr>\n",
       "    <tr>\n",
       "      <th>9237-HQITU</th>\n",
       "      <td>Month-to-month</td>\n",
       "      <td>Yes</td>\n",
       "      <td>Electronic check</td>\n",
       "      <td>0</td>\n",
       "      <td>No</td>\n",
       "      <td>No</td>\n",
       "      <td>Fiber optic</td>\n",
       "      <td>No</td>\n",
       "      <td>No</td>\n",
       "      <td>No</td>\n",
       "      <td>No</td>\n",
       "      <td>No</td>\n",
       "      <td>No</td>\n",
       "      <td>No</td>\n",
       "      <td>61</td>\n",
       "      <td>1</td>\n",
       "    </tr>\n",
       "  </tbody>\n",
       "</table>\n",
       "</div>"
      ],
      "text/plain": [
       "               billing_type paperless_billing             payment_method  \\\n",
       "customer_id                                                                \n",
       "7590-VHVEG   Month-to-month               Yes           Electronic check   \n",
       "5575-GNVDE         One year                No               Mailed check   \n",
       "3668-QPYBK   Month-to-month               Yes               Mailed check   \n",
       "7795-CFOCW         One year                No  Bank transfer (automatic)   \n",
       "9237-HQITU   Month-to-month               Yes           Electronic check   \n",
       "\n",
       "            senior_sitizen partner dependents internet_service  \\\n",
       "customer_id                                                      \n",
       "7590-VHVEG               0     Yes         No              DSL   \n",
       "5575-GNVDE               0      No         No              DSL   \n",
       "3668-QPYBK               0      No         No              DSL   \n",
       "7795-CFOCW               0      No         No              DSL   \n",
       "9237-HQITU               0      No         No      Fiber optic   \n",
       "\n",
       "            online_security online_backup device_protection tech_support  \\\n",
       "customer_id                                                                \n",
       "7590-VHVEG               No           Yes                No           No   \n",
       "5575-GNVDE              Yes            No               Yes           No   \n",
       "3668-QPYBK              Yes           Yes                No           No   \n",
       "7795-CFOCW              Yes            No               Yes          Yes   \n",
       "9237-HQITU               No            No                No           No   \n",
       "\n",
       "            streaming_tv streaming_movies multiple_lines  duration_contract  \\\n",
       "customer_id                                                                   \n",
       "7590-VHVEG            No               No             No                 31   \n",
       "5575-GNVDE            No               No             No               1036   \n",
       "3668-QPYBK            No               No             No                 61   \n",
       "7795-CFOCW            No               No             No               1371   \n",
       "9237-HQITU            No               No             No                 61   \n",
       "\n",
       "             client_left  \n",
       "customer_id               \n",
       "7590-VHVEG             0  \n",
       "5575-GNVDE             0  \n",
       "3668-QPYBK             1  \n",
       "7795-CFOCW             0  \n",
       "9237-HQITU             1  "
      ]
     },
     "metadata": {},
     "output_type": "display_data"
    }
   ],
   "source": [
    "data = data.drop(['begin_date', 'end_date', 'total_charges', 'monthly_charges', 'begin_year', 'gender'], axis = 1)\n",
    "display(data.head())"
   ]
  },
  {
   "cell_type": "code",
   "execution_count": 68,
   "metadata": {},
   "outputs": [
    {
     "name": "stdout",
     "output_type": "stream",
     "text": [
      "<class 'pandas.core.frame.DataFrame'>\n",
      "Index: 7043 entries, 7590-VHVEG to 3186-AJIEK\n",
      "Data columns (total 16 columns):\n",
      " #   Column             Non-Null Count  Dtype   \n",
      "---  ------             --------------  -----   \n",
      " 0   billing_type       7043 non-null   category\n",
      " 1   paperless_billing  7043 non-null   category\n",
      " 2   payment_method     7043 non-null   category\n",
      " 3   senior_sitizen     7043 non-null   category\n",
      " 4   partner            7043 non-null   category\n",
      " 5   dependents         7043 non-null   category\n",
      " 6   internet_service   7043 non-null   category\n",
      " 7   online_security    7043 non-null   category\n",
      " 8   online_backup      7043 non-null   category\n",
      " 9   device_protection  7043 non-null   category\n",
      " 10  tech_support       7043 non-null   category\n",
      " 11  streaming_tv       7043 non-null   category\n",
      " 12  streaming_movies   7043 non-null   category\n",
      " 13  multiple_lines     7043 non-null   category\n",
      " 14  duration_contract  7043 non-null   int32   \n",
      " 15  client_left        7043 non-null   int64   \n",
      "dtypes: category(14), int32(1), int64(1)\n",
      "memory usage: 493.7+ KB\n"
     ]
    }
   ],
   "source": [
    "data.info()"
   ]
  },
  {
   "cell_type": "markdown",
   "metadata": {},
   "source": [
    "#### Вывод:\n",
    "\n",
    "В ходе выполнения исследовательского анализа данных\n",
    "- загрузили и ознакомились с данными, провели предобратобку\n",
    "- явных аномалий в в признаках не выявлено\n",
    "- привели типы данных к нужным\n",
    "- заполнили пропуски\n",
    "- добавили новые признаки\n",
    "- объединили таблицы в один DataFrame\n",
    "- выделели целевой признак. Целевой признак не сбалансирован. Это надо учесть при обучении моделей\n",
    "- привели анализ влияния признаков на целевой признак. Определили важные признаки для обучении моделей\n",
    "- ненужные признаки удалили"
   ]
  },
  {
   "cell_type": "markdown",
   "metadata": {},
   "source": [
    "## 3. Моделирование"
   ]
  },
  {
   "cell_type": "markdown",
   "metadata": {},
   "source": [
    "### 3.1 Кодирование и масштабирование данных/разделение данных на треновочный и тестовый наборы"
   ]
  },
  {
   "cell_type": "markdown",
   "metadata": {},
   "source": [
    "Разделим данные на треновочный и тестовый наборы"
   ]
  },
  {
   "cell_type": "code",
   "execution_count": 69,
   "metadata": {},
   "outputs": [],
   "source": [
    "features = data.drop(['client_left'], axis=1)\n",
    "target = data['client_left']"
   ]
  },
  {
   "cell_type": "code",
   "execution_count": 70,
   "metadata": {},
   "outputs": [
    {
     "name": "stdout",
     "output_type": "stream",
     "text": [
      "Размер обучающей выборки: 5282\n",
      "Размер тестовой выборки: 1761\n",
      "Общий размер исходного датасета: 7043 (сумма выборок: 7043)\n"
     ]
    }
   ],
   "source": [
    "features_train, features_test, target_train, target_test = train_test_split(features, target,\n",
    "                                                                              test_size = 0.25,\n",
    "                                                                              random_state=RANDOM_STATE)\n",
    "\n",
    "print('Размер обучающей выборки:',features_train.shape[0])\n",
    "print('Размер тестовой выборки:',features_test.shape[0])\n",
    "print('Общий размер исходного датасета: {} (сумма выборок: {})'.\n",
    "      format(data.shape[0], features_train.shape[0]+features_test.shape[0]))"
   ]
  },
  {
   "cell_type": "markdown",
   "metadata": {},
   "source": [
    "Отмасштабировируем количественные признаки методов масштабирования — StandardScaler"
   ]
  },
  {
   "cell_type": "code",
   "execution_count": 71,
   "metadata": {},
   "outputs": [],
   "source": [
    "numeric = ['duration_contract']\n",
    "\n",
    "scaler = StandardScaler()\n",
    "scaler.fit(features_train[numeric])\n",
    "features_train[numeric] = scaler.transform(features_train[numeric])\n",
    "features_test[numeric] = scaler.transform(features_test[numeric])"
   ]
  },
  {
   "cell_type": "code",
   "execution_count": 72,
   "metadata": {},
   "outputs": [
    {
     "data": {
      "text/html": [
       "<div>\n",
       "<style scoped>\n",
       "    .dataframe tbody tr th:only-of-type {\n",
       "        vertical-align: middle;\n",
       "    }\n",
       "\n",
       "    .dataframe tbody tr th {\n",
       "        vertical-align: top;\n",
       "    }\n",
       "\n",
       "    .dataframe thead th {\n",
       "        text-align: right;\n",
       "    }\n",
       "</style>\n",
       "<table border=\"1\" class=\"dataframe\">\n",
       "  <thead>\n",
       "    <tr style=\"text-align: right;\">\n",
       "      <th></th>\n",
       "      <th>billing_type</th>\n",
       "      <th>paperless_billing</th>\n",
       "      <th>payment_method</th>\n",
       "      <th>senior_sitizen</th>\n",
       "      <th>partner</th>\n",
       "      <th>dependents</th>\n",
       "      <th>internet_service</th>\n",
       "      <th>online_security</th>\n",
       "      <th>online_backup</th>\n",
       "      <th>device_protection</th>\n",
       "      <th>tech_support</th>\n",
       "      <th>streaming_tv</th>\n",
       "      <th>streaming_movies</th>\n",
       "      <th>multiple_lines</th>\n",
       "      <th>duration_contract</th>\n",
       "    </tr>\n",
       "    <tr>\n",
       "      <th>customer_id</th>\n",
       "      <th></th>\n",
       "      <th></th>\n",
       "      <th></th>\n",
       "      <th></th>\n",
       "      <th></th>\n",
       "      <th></th>\n",
       "      <th></th>\n",
       "      <th></th>\n",
       "      <th></th>\n",
       "      <th></th>\n",
       "      <th></th>\n",
       "      <th></th>\n",
       "      <th></th>\n",
       "      <th></th>\n",
       "      <th></th>\n",
       "    </tr>\n",
       "  </thead>\n",
       "  <tbody>\n",
       "    <tr>\n",
       "      <th>0259-GBZSH</th>\n",
       "      <td>Month-to-month</td>\n",
       "      <td>Yes</td>\n",
       "      <td>Electronic check</td>\n",
       "      <td>0</td>\n",
       "      <td>No</td>\n",
       "      <td>No</td>\n",
       "      <td>Fiber optic</td>\n",
       "      <td>No</td>\n",
       "      <td>No</td>\n",
       "      <td>No</td>\n",
       "      <td>No</td>\n",
       "      <td>Yes</td>\n",
       "      <td>No</td>\n",
       "      <td>Yes</td>\n",
       "      <td>-1.229095</td>\n",
       "    </tr>\n",
       "    <tr>\n",
       "      <th>0363-QJVFX</th>\n",
       "      <td>Month-to-month</td>\n",
       "      <td>Yes</td>\n",
       "      <td>Credit card (automatic)</td>\n",
       "      <td>0</td>\n",
       "      <td>No</td>\n",
       "      <td>No</td>\n",
       "      <td>Fiber optic</td>\n",
       "      <td>Yes</td>\n",
       "      <td>Yes</td>\n",
       "      <td>No</td>\n",
       "      <td>Yes</td>\n",
       "      <td>Yes</td>\n",
       "      <td>Yes</td>\n",
       "      <td>Yes</td>\n",
       "      <td>-0.004084</td>\n",
       "    </tr>\n",
       "    <tr>\n",
       "      <th>5514-YQENT</th>\n",
       "      <td>Two year</td>\n",
       "      <td>Yes</td>\n",
       "      <td>Electronic check</td>\n",
       "      <td>0</td>\n",
       "      <td>No</td>\n",
       "      <td>Yes</td>\n",
       "      <td>Fiber optic</td>\n",
       "      <td>Yes</td>\n",
       "      <td>Yes</td>\n",
       "      <td>Yes</td>\n",
       "      <td>Yes</td>\n",
       "      <td>Yes</td>\n",
       "      <td>Yes</td>\n",
       "      <td>No</td>\n",
       "      <td>0.363553</td>\n",
       "    </tr>\n",
       "    <tr>\n",
       "      <th>2718-GAXQD</th>\n",
       "      <td>Month-to-month</td>\n",
       "      <td>No</td>\n",
       "      <td>Electronic check</td>\n",
       "      <td>1</td>\n",
       "      <td>Yes</td>\n",
       "      <td>Yes</td>\n",
       "      <td>DSL</td>\n",
       "      <td>No</td>\n",
       "      <td>No</td>\n",
       "      <td>No</td>\n",
       "      <td>No</td>\n",
       "      <td>No</td>\n",
       "      <td>No</td>\n",
       "      <td>No</td>\n",
       "      <td>-1.147248</td>\n",
       "    </tr>\n",
       "    <tr>\n",
       "      <th>1304-SEGFY</th>\n",
       "      <td>Two year</td>\n",
       "      <td>Yes</td>\n",
       "      <td>Electronic check</td>\n",
       "      <td>0</td>\n",
       "      <td>Yes</td>\n",
       "      <td>No</td>\n",
       "      <td>Fiber optic</td>\n",
       "      <td>No</td>\n",
       "      <td>No</td>\n",
       "      <td>Yes</td>\n",
       "      <td>No</td>\n",
       "      <td>Yes</td>\n",
       "      <td>Yes</td>\n",
       "      <td>Yes</td>\n",
       "      <td>1.628815</td>\n",
       "    </tr>\n",
       "  </tbody>\n",
       "</table>\n",
       "</div>"
      ],
      "text/plain": [
       "               billing_type paperless_billing           payment_method  \\\n",
       "customer_id                                                              \n",
       "0259-GBZSH   Month-to-month               Yes         Electronic check   \n",
       "0363-QJVFX   Month-to-month               Yes  Credit card (automatic)   \n",
       "5514-YQENT         Two year               Yes         Electronic check   \n",
       "2718-GAXQD   Month-to-month                No         Electronic check   \n",
       "1304-SEGFY         Two year               Yes         Electronic check   \n",
       "\n",
       "            senior_sitizen partner dependents internet_service  \\\n",
       "customer_id                                                      \n",
       "0259-GBZSH               0      No         No      Fiber optic   \n",
       "0363-QJVFX               0      No         No      Fiber optic   \n",
       "5514-YQENT               0      No        Yes      Fiber optic   \n",
       "2718-GAXQD               1     Yes        Yes              DSL   \n",
       "1304-SEGFY               0     Yes         No      Fiber optic   \n",
       "\n",
       "            online_security online_backup device_protection tech_support  \\\n",
       "customer_id                                                                \n",
       "0259-GBZSH               No            No                No           No   \n",
       "0363-QJVFX              Yes           Yes                No          Yes   \n",
       "5514-YQENT              Yes           Yes               Yes          Yes   \n",
       "2718-GAXQD               No            No                No           No   \n",
       "1304-SEGFY               No            No               Yes           No   \n",
       "\n",
       "            streaming_tv streaming_movies multiple_lines  duration_contract  \n",
       "customer_id                                                                  \n",
       "0259-GBZSH           Yes               No            Yes          -1.229095  \n",
       "0363-QJVFX           Yes              Yes            Yes          -0.004084  \n",
       "5514-YQENT           Yes              Yes             No           0.363553  \n",
       "2718-GAXQD            No               No             No          -1.147248  \n",
       "1304-SEGFY           Yes              Yes            Yes           1.628815  "
      ]
     },
     "metadata": {},
     "output_type": "display_data"
    }
   ],
   "source": [
    "display(features_train.head())"
   ]
  },
  {
   "cell_type": "code",
   "execution_count": 73,
   "metadata": {},
   "outputs": [
    {
     "data": {
      "text/html": [
       "<div>\n",
       "<style scoped>\n",
       "    .dataframe tbody tr th:only-of-type {\n",
       "        vertical-align: middle;\n",
       "    }\n",
       "\n",
       "    .dataframe tbody tr th {\n",
       "        vertical-align: top;\n",
       "    }\n",
       "\n",
       "    .dataframe thead th {\n",
       "        text-align: right;\n",
       "    }\n",
       "</style>\n",
       "<table border=\"1\" class=\"dataframe\">\n",
       "  <thead>\n",
       "    <tr style=\"text-align: right;\">\n",
       "      <th></th>\n",
       "      <th>billing_type</th>\n",
       "      <th>paperless_billing</th>\n",
       "      <th>payment_method</th>\n",
       "      <th>senior_sitizen</th>\n",
       "      <th>partner</th>\n",
       "      <th>dependents</th>\n",
       "      <th>internet_service</th>\n",
       "      <th>online_security</th>\n",
       "      <th>online_backup</th>\n",
       "      <th>device_protection</th>\n",
       "      <th>tech_support</th>\n",
       "      <th>streaming_tv</th>\n",
       "      <th>streaming_movies</th>\n",
       "      <th>multiple_lines</th>\n",
       "      <th>duration_contract</th>\n",
       "    </tr>\n",
       "    <tr>\n",
       "      <th>customer_id</th>\n",
       "      <th></th>\n",
       "      <th></th>\n",
       "      <th></th>\n",
       "      <th></th>\n",
       "      <th></th>\n",
       "      <th></th>\n",
       "      <th></th>\n",
       "      <th></th>\n",
       "      <th></th>\n",
       "      <th></th>\n",
       "      <th></th>\n",
       "      <th></th>\n",
       "      <th></th>\n",
       "      <th></th>\n",
       "      <th></th>\n",
       "    </tr>\n",
       "  </thead>\n",
       "  <tbody>\n",
       "    <tr>\n",
       "      <th>2656-FMOKZ</th>\n",
       "      <td>Month-to-month</td>\n",
       "      <td>Yes</td>\n",
       "      <td>Mailed check</td>\n",
       "      <td>1</td>\n",
       "      <td>No</td>\n",
       "      <td>No</td>\n",
       "      <td>Fiber optic</td>\n",
       "      <td>No</td>\n",
       "      <td>No</td>\n",
       "      <td>No</td>\n",
       "      <td>No</td>\n",
       "      <td>No</td>\n",
       "      <td>No</td>\n",
       "      <td>Yes</td>\n",
       "      <td>-0.697765</td>\n",
       "    </tr>\n",
       "    <tr>\n",
       "      <th>8966-OIQHG</th>\n",
       "      <td>One year</td>\n",
       "      <td>No</td>\n",
       "      <td>Bank transfer (automatic)</td>\n",
       "      <td>0</td>\n",
       "      <td>Yes</td>\n",
       "      <td>Yes</td>\n",
       "      <td>Не используется</td>\n",
       "      <td>No</td>\n",
       "      <td>No</td>\n",
       "      <td>No</td>\n",
       "      <td>No</td>\n",
       "      <td>No</td>\n",
       "      <td>No</td>\n",
       "      <td>No</td>\n",
       "      <td>-0.410632</td>\n",
       "    </tr>\n",
       "    <tr>\n",
       "      <th>4854-SSLTN</th>\n",
       "      <td>Two year</td>\n",
       "      <td>No</td>\n",
       "      <td>Mailed check</td>\n",
       "      <td>0</td>\n",
       "      <td>Yes</td>\n",
       "      <td>Yes</td>\n",
       "      <td>DSL</td>\n",
       "      <td>Yes</td>\n",
       "      <td>Yes</td>\n",
       "      <td>No</td>\n",
       "      <td>Yes</td>\n",
       "      <td>No</td>\n",
       "      <td>No</td>\n",
       "      <td>No</td>\n",
       "      <td>-1.227753</td>\n",
       "    </tr>\n",
       "    <tr>\n",
       "      <th>5172-RKOCB</th>\n",
       "      <td>Two year</td>\n",
       "      <td>Yes</td>\n",
       "      <td>Credit card (automatic)</td>\n",
       "      <td>0</td>\n",
       "      <td>Yes</td>\n",
       "      <td>No</td>\n",
       "      <td>Fiber optic</td>\n",
       "      <td>Yes</td>\n",
       "      <td>Yes</td>\n",
       "      <td>No</td>\n",
       "      <td>Yes</td>\n",
       "      <td>Yes</td>\n",
       "      <td>Yes</td>\n",
       "      <td>Yes</td>\n",
       "      <td>1.628815</td>\n",
       "    </tr>\n",
       "    <tr>\n",
       "      <th>5419-JPRRN</th>\n",
       "      <td>Month-to-month</td>\n",
       "      <td>Yes</td>\n",
       "      <td>Electronic check</td>\n",
       "      <td>0</td>\n",
       "      <td>No</td>\n",
       "      <td>No</td>\n",
       "      <td>Fiber optic</td>\n",
       "      <td>No</td>\n",
       "      <td>No</td>\n",
       "      <td>Yes</td>\n",
       "      <td>No</td>\n",
       "      <td>Yes</td>\n",
       "      <td>Yes</td>\n",
       "      <td>Yes</td>\n",
       "      <td>-1.270689</td>\n",
       "    </tr>\n",
       "  </tbody>\n",
       "</table>\n",
       "</div>"
      ],
      "text/plain": [
       "               billing_type paperless_billing             payment_method  \\\n",
       "customer_id                                                                \n",
       "2656-FMOKZ   Month-to-month               Yes               Mailed check   \n",
       "8966-OIQHG         One year                No  Bank transfer (automatic)   \n",
       "4854-SSLTN         Two year                No               Mailed check   \n",
       "5172-RKOCB         Two year               Yes    Credit card (automatic)   \n",
       "5419-JPRRN   Month-to-month               Yes           Electronic check   \n",
       "\n",
       "            senior_sitizen partner dependents internet_service  \\\n",
       "customer_id                                                      \n",
       "2656-FMOKZ               1      No         No      Fiber optic   \n",
       "8966-OIQHG               0     Yes        Yes  Не используется   \n",
       "4854-SSLTN               0     Yes        Yes              DSL   \n",
       "5172-RKOCB               0     Yes         No      Fiber optic   \n",
       "5419-JPRRN               0      No         No      Fiber optic   \n",
       "\n",
       "            online_security online_backup device_protection tech_support  \\\n",
       "customer_id                                                                \n",
       "2656-FMOKZ               No            No                No           No   \n",
       "8966-OIQHG               No            No                No           No   \n",
       "4854-SSLTN              Yes           Yes                No          Yes   \n",
       "5172-RKOCB              Yes           Yes                No          Yes   \n",
       "5419-JPRRN               No            No               Yes           No   \n",
       "\n",
       "            streaming_tv streaming_movies multiple_lines  duration_contract  \n",
       "customer_id                                                                  \n",
       "2656-FMOKZ            No               No            Yes          -0.697765  \n",
       "8966-OIQHG            No               No             No          -0.410632  \n",
       "4854-SSLTN            No               No             No          -1.227753  \n",
       "5172-RKOCB           Yes              Yes            Yes           1.628815  \n",
       "5419-JPRRN           Yes              Yes            Yes          -1.270689  "
      ]
     },
     "metadata": {},
     "output_type": "display_data"
    }
   ],
   "source": [
    "display(features_test.head())"
   ]
  },
  {
   "cell_type": "markdown",
   "metadata": {},
   "source": [
    "Преобразуем категориальные признаки в количественные с помощью техники прямого кодирования (OHE). Для того, чтобы избежать дамми-ловушки, используем аргумент drop_first=True"
   ]
  },
  {
   "cell_type": "code",
   "execution_count": 74,
   "metadata": {},
   "outputs": [
    {
     "name": "stdout",
     "output_type": "stream",
     "text": [
      "<class 'pandas.core.frame.DataFrame'>\n",
      "Index: 5282 entries, 0259-GBZSH to 0060-FUALY\n",
      "Data columns (total 19 columns):\n",
      " #   Column                                  Non-Null Count  Dtype  \n",
      "---  ------                                  --------------  -----  \n",
      " 0   duration_contract                       5282 non-null   float64\n",
      " 1   billing_type_One year                   5282 non-null   uint8  \n",
      " 2   billing_type_Two year                   5282 non-null   uint8  \n",
      " 3   paperless_billing_Yes                   5282 non-null   uint8  \n",
      " 4   payment_method_Credit card (automatic)  5282 non-null   uint8  \n",
      " 5   payment_method_Electronic check         5282 non-null   uint8  \n",
      " 6   payment_method_Mailed check             5282 non-null   uint8  \n",
      " 7   senior_sitizen_1                        5282 non-null   uint8  \n",
      " 8   partner_Yes                             5282 non-null   uint8  \n",
      " 9   dependents_Yes                          5282 non-null   uint8  \n",
      " 10  internet_service_Fiber optic            5282 non-null   uint8  \n",
      " 11  internet_service_Не используется        5282 non-null   uint8  \n",
      " 12  online_security_Yes                     5282 non-null   uint8  \n",
      " 13  online_backup_Yes                       5282 non-null   uint8  \n",
      " 14  device_protection_Yes                   5282 non-null   uint8  \n",
      " 15  tech_support_Yes                        5282 non-null   uint8  \n",
      " 16  streaming_tv_Yes                        5282 non-null   uint8  \n",
      " 17  streaming_movies_Yes                    5282 non-null   uint8  \n",
      " 18  multiple_lines_Yes                      5282 non-null   uint8  \n",
      "dtypes: float64(1), uint8(18)\n",
      "memory usage: 175.4+ KB\n"
     ]
    },
    {
     "data": {
      "text/html": [
       "<div>\n",
       "<style scoped>\n",
       "    .dataframe tbody tr th:only-of-type {\n",
       "        vertical-align: middle;\n",
       "    }\n",
       "\n",
       "    .dataframe tbody tr th {\n",
       "        vertical-align: top;\n",
       "    }\n",
       "\n",
       "    .dataframe thead th {\n",
       "        text-align: right;\n",
       "    }\n",
       "</style>\n",
       "<table border=\"1\" class=\"dataframe\">\n",
       "  <thead>\n",
       "    <tr style=\"text-align: right;\">\n",
       "      <th></th>\n",
       "      <th>duration_contract</th>\n",
       "      <th>billing_type_One year</th>\n",
       "      <th>billing_type_Two year</th>\n",
       "      <th>paperless_billing_Yes</th>\n",
       "      <th>payment_method_Credit card (automatic)</th>\n",
       "      <th>payment_method_Electronic check</th>\n",
       "      <th>payment_method_Mailed check</th>\n",
       "      <th>senior_sitizen_1</th>\n",
       "      <th>partner_Yes</th>\n",
       "      <th>dependents_Yes</th>\n",
       "      <th>internet_service_Fiber optic</th>\n",
       "      <th>internet_service_Не используется</th>\n",
       "      <th>online_security_Yes</th>\n",
       "      <th>online_backup_Yes</th>\n",
       "      <th>device_protection_Yes</th>\n",
       "      <th>tech_support_Yes</th>\n",
       "      <th>streaming_tv_Yes</th>\n",
       "      <th>streaming_movies_Yes</th>\n",
       "      <th>multiple_lines_Yes</th>\n",
       "    </tr>\n",
       "    <tr>\n",
       "      <th>customer_id</th>\n",
       "      <th></th>\n",
       "      <th></th>\n",
       "      <th></th>\n",
       "      <th></th>\n",
       "      <th></th>\n",
       "      <th></th>\n",
       "      <th></th>\n",
       "      <th></th>\n",
       "      <th></th>\n",
       "      <th></th>\n",
       "      <th></th>\n",
       "      <th></th>\n",
       "      <th></th>\n",
       "      <th></th>\n",
       "      <th></th>\n",
       "      <th></th>\n",
       "      <th></th>\n",
       "      <th></th>\n",
       "      <th></th>\n",
       "    </tr>\n",
       "  </thead>\n",
       "  <tbody>\n",
       "    <tr>\n",
       "      <th>0259-GBZSH</th>\n",
       "      <td>-1.229095</td>\n",
       "      <td>0</td>\n",
       "      <td>0</td>\n",
       "      <td>1</td>\n",
       "      <td>0</td>\n",
       "      <td>1</td>\n",
       "      <td>0</td>\n",
       "      <td>0</td>\n",
       "      <td>0</td>\n",
       "      <td>0</td>\n",
       "      <td>1</td>\n",
       "      <td>0</td>\n",
       "      <td>0</td>\n",
       "      <td>0</td>\n",
       "      <td>0</td>\n",
       "      <td>0</td>\n",
       "      <td>1</td>\n",
       "      <td>0</td>\n",
       "      <td>1</td>\n",
       "    </tr>\n",
       "    <tr>\n",
       "      <th>0363-QJVFX</th>\n",
       "      <td>-0.004084</td>\n",
       "      <td>0</td>\n",
       "      <td>0</td>\n",
       "      <td>1</td>\n",
       "      <td>1</td>\n",
       "      <td>0</td>\n",
       "      <td>0</td>\n",
       "      <td>0</td>\n",
       "      <td>0</td>\n",
       "      <td>0</td>\n",
       "      <td>1</td>\n",
       "      <td>0</td>\n",
       "      <td>1</td>\n",
       "      <td>1</td>\n",
       "      <td>0</td>\n",
       "      <td>1</td>\n",
       "      <td>1</td>\n",
       "      <td>1</td>\n",
       "      <td>1</td>\n",
       "    </tr>\n",
       "    <tr>\n",
       "      <th>5514-YQENT</th>\n",
       "      <td>0.363553</td>\n",
       "      <td>0</td>\n",
       "      <td>1</td>\n",
       "      <td>1</td>\n",
       "      <td>0</td>\n",
       "      <td>1</td>\n",
       "      <td>0</td>\n",
       "      <td>0</td>\n",
       "      <td>0</td>\n",
       "      <td>1</td>\n",
       "      <td>1</td>\n",
       "      <td>0</td>\n",
       "      <td>1</td>\n",
       "      <td>1</td>\n",
       "      <td>1</td>\n",
       "      <td>1</td>\n",
       "      <td>1</td>\n",
       "      <td>1</td>\n",
       "      <td>0</td>\n",
       "    </tr>\n",
       "    <tr>\n",
       "      <th>2718-GAXQD</th>\n",
       "      <td>-1.147248</td>\n",
       "      <td>0</td>\n",
       "      <td>0</td>\n",
       "      <td>0</td>\n",
       "      <td>0</td>\n",
       "      <td>1</td>\n",
       "      <td>0</td>\n",
       "      <td>1</td>\n",
       "      <td>1</td>\n",
       "      <td>1</td>\n",
       "      <td>0</td>\n",
       "      <td>0</td>\n",
       "      <td>0</td>\n",
       "      <td>0</td>\n",
       "      <td>0</td>\n",
       "      <td>0</td>\n",
       "      <td>0</td>\n",
       "      <td>0</td>\n",
       "      <td>0</td>\n",
       "    </tr>\n",
       "    <tr>\n",
       "      <th>1304-SEGFY</th>\n",
       "      <td>1.628815</td>\n",
       "      <td>0</td>\n",
       "      <td>1</td>\n",
       "      <td>1</td>\n",
       "      <td>0</td>\n",
       "      <td>1</td>\n",
       "      <td>0</td>\n",
       "      <td>0</td>\n",
       "      <td>1</td>\n",
       "      <td>0</td>\n",
       "      <td>1</td>\n",
       "      <td>0</td>\n",
       "      <td>0</td>\n",
       "      <td>0</td>\n",
       "      <td>1</td>\n",
       "      <td>0</td>\n",
       "      <td>1</td>\n",
       "      <td>1</td>\n",
       "      <td>1</td>\n",
       "    </tr>\n",
       "  </tbody>\n",
       "</table>\n",
       "</div>"
      ],
      "text/plain": [
       "             duration_contract  billing_type_One year  billing_type_Two year  \\\n",
       "customer_id                                                                    \n",
       "0259-GBZSH           -1.229095                      0                      0   \n",
       "0363-QJVFX           -0.004084                      0                      0   \n",
       "5514-YQENT            0.363553                      0                      1   \n",
       "2718-GAXQD           -1.147248                      0                      0   \n",
       "1304-SEGFY            1.628815                      0                      1   \n",
       "\n",
       "             paperless_billing_Yes  payment_method_Credit card (automatic)  \\\n",
       "customer_id                                                                  \n",
       "0259-GBZSH                       1                                       0   \n",
       "0363-QJVFX                       1                                       1   \n",
       "5514-YQENT                       1                                       0   \n",
       "2718-GAXQD                       0                                       0   \n",
       "1304-SEGFY                       1                                       0   \n",
       "\n",
       "             payment_method_Electronic check  payment_method_Mailed check  \\\n",
       "customer_id                                                                 \n",
       "0259-GBZSH                                 1                            0   \n",
       "0363-QJVFX                                 0                            0   \n",
       "5514-YQENT                                 1                            0   \n",
       "2718-GAXQD                                 1                            0   \n",
       "1304-SEGFY                                 1                            0   \n",
       "\n",
       "             senior_sitizen_1  partner_Yes  dependents_Yes  \\\n",
       "customer_id                                                  \n",
       "0259-GBZSH                  0            0               0   \n",
       "0363-QJVFX                  0            0               0   \n",
       "5514-YQENT                  0            0               1   \n",
       "2718-GAXQD                  1            1               1   \n",
       "1304-SEGFY                  0            1               0   \n",
       "\n",
       "             internet_service_Fiber optic  internet_service_Не используется  \\\n",
       "customer_id                                                                   \n",
       "0259-GBZSH                              1                                 0   \n",
       "0363-QJVFX                              1                                 0   \n",
       "5514-YQENT                              1                                 0   \n",
       "2718-GAXQD                              0                                 0   \n",
       "1304-SEGFY                              1                                 0   \n",
       "\n",
       "             online_security_Yes  online_backup_Yes  device_protection_Yes  \\\n",
       "customer_id                                                                  \n",
       "0259-GBZSH                     0                  0                      0   \n",
       "0363-QJVFX                     1                  1                      0   \n",
       "5514-YQENT                     1                  1                      1   \n",
       "2718-GAXQD                     0                  0                      0   \n",
       "1304-SEGFY                     0                  0                      1   \n",
       "\n",
       "             tech_support_Yes  streaming_tv_Yes  streaming_movies_Yes  \\\n",
       "customer_id                                                             \n",
       "0259-GBZSH                  0                 1                     0   \n",
       "0363-QJVFX                  1                 1                     1   \n",
       "5514-YQENT                  1                 1                     1   \n",
       "2718-GAXQD                  0                 0                     0   \n",
       "1304-SEGFY                  0                 1                     1   \n",
       "\n",
       "             multiple_lines_Yes  \n",
       "customer_id                      \n",
       "0259-GBZSH                    1  \n",
       "0363-QJVFX                    1  \n",
       "5514-YQENT                    0  \n",
       "2718-GAXQD                    0  \n",
       "1304-SEGFY                    1  "
      ]
     },
     "metadata": {},
     "output_type": "display_data"
    }
   ],
   "source": [
    "features_train = pd.get_dummies(features_train, drop_first=True)\n",
    "features_train.info()\n",
    "display(features_train.head())"
   ]
  },
  {
   "cell_type": "code",
   "execution_count": 75,
   "metadata": {},
   "outputs": [
    {
     "name": "stdout",
     "output_type": "stream",
     "text": [
      "<class 'pandas.core.frame.DataFrame'>\n",
      "Index: 1761 entries, 2656-FMOKZ to 4119-ZYPZY\n",
      "Data columns (total 19 columns):\n",
      " #   Column                                  Non-Null Count  Dtype  \n",
      "---  ------                                  --------------  -----  \n",
      " 0   duration_contract                       1761 non-null   float64\n",
      " 1   billing_type_One year                   1761 non-null   uint8  \n",
      " 2   billing_type_Two year                   1761 non-null   uint8  \n",
      " 3   paperless_billing_Yes                   1761 non-null   uint8  \n",
      " 4   payment_method_Credit card (automatic)  1761 non-null   uint8  \n",
      " 5   payment_method_Electronic check         1761 non-null   uint8  \n",
      " 6   payment_method_Mailed check             1761 non-null   uint8  \n",
      " 7   senior_sitizen_1                        1761 non-null   uint8  \n",
      " 8   partner_Yes                             1761 non-null   uint8  \n",
      " 9   dependents_Yes                          1761 non-null   uint8  \n",
      " 10  internet_service_Fiber optic            1761 non-null   uint8  \n",
      " 11  internet_service_Не используется        1761 non-null   uint8  \n",
      " 12  online_security_Yes                     1761 non-null   uint8  \n",
      " 13  online_backup_Yes                       1761 non-null   uint8  \n",
      " 14  device_protection_Yes                   1761 non-null   uint8  \n",
      " 15  tech_support_Yes                        1761 non-null   uint8  \n",
      " 16  streaming_tv_Yes                        1761 non-null   uint8  \n",
      " 17  streaming_movies_Yes                    1761 non-null   uint8  \n",
      " 18  multiple_lines_Yes                      1761 non-null   uint8  \n",
      "dtypes: float64(1), uint8(18)\n",
      "memory usage: 58.5+ KB\n"
     ]
    },
    {
     "data": {
      "text/html": [
       "<div>\n",
       "<style scoped>\n",
       "    .dataframe tbody tr th:only-of-type {\n",
       "        vertical-align: middle;\n",
       "    }\n",
       "\n",
       "    .dataframe tbody tr th {\n",
       "        vertical-align: top;\n",
       "    }\n",
       "\n",
       "    .dataframe thead th {\n",
       "        text-align: right;\n",
       "    }\n",
       "</style>\n",
       "<table border=\"1\" class=\"dataframe\">\n",
       "  <thead>\n",
       "    <tr style=\"text-align: right;\">\n",
       "      <th></th>\n",
       "      <th>duration_contract</th>\n",
       "      <th>billing_type_One year</th>\n",
       "      <th>billing_type_Two year</th>\n",
       "      <th>paperless_billing_Yes</th>\n",
       "      <th>payment_method_Credit card (automatic)</th>\n",
       "      <th>payment_method_Electronic check</th>\n",
       "      <th>payment_method_Mailed check</th>\n",
       "      <th>senior_sitizen_1</th>\n",
       "      <th>partner_Yes</th>\n",
       "      <th>dependents_Yes</th>\n",
       "      <th>internet_service_Fiber optic</th>\n",
       "      <th>internet_service_Не используется</th>\n",
       "      <th>online_security_Yes</th>\n",
       "      <th>online_backup_Yes</th>\n",
       "      <th>device_protection_Yes</th>\n",
       "      <th>tech_support_Yes</th>\n",
       "      <th>streaming_tv_Yes</th>\n",
       "      <th>streaming_movies_Yes</th>\n",
       "      <th>multiple_lines_Yes</th>\n",
       "    </tr>\n",
       "    <tr>\n",
       "      <th>customer_id</th>\n",
       "      <th></th>\n",
       "      <th></th>\n",
       "      <th></th>\n",
       "      <th></th>\n",
       "      <th></th>\n",
       "      <th></th>\n",
       "      <th></th>\n",
       "      <th></th>\n",
       "      <th></th>\n",
       "      <th></th>\n",
       "      <th></th>\n",
       "      <th></th>\n",
       "      <th></th>\n",
       "      <th></th>\n",
       "      <th></th>\n",
       "      <th></th>\n",
       "      <th></th>\n",
       "      <th></th>\n",
       "      <th></th>\n",
       "    </tr>\n",
       "  </thead>\n",
       "  <tbody>\n",
       "    <tr>\n",
       "      <th>2656-FMOKZ</th>\n",
       "      <td>-0.697765</td>\n",
       "      <td>0</td>\n",
       "      <td>0</td>\n",
       "      <td>1</td>\n",
       "      <td>0</td>\n",
       "      <td>0</td>\n",
       "      <td>1</td>\n",
       "      <td>1</td>\n",
       "      <td>0</td>\n",
       "      <td>0</td>\n",
       "      <td>1</td>\n",
       "      <td>0</td>\n",
       "      <td>0</td>\n",
       "      <td>0</td>\n",
       "      <td>0</td>\n",
       "      <td>0</td>\n",
       "      <td>0</td>\n",
       "      <td>0</td>\n",
       "      <td>1</td>\n",
       "    </tr>\n",
       "    <tr>\n",
       "      <th>8966-OIQHG</th>\n",
       "      <td>-0.410632</td>\n",
       "      <td>1</td>\n",
       "      <td>0</td>\n",
       "      <td>0</td>\n",
       "      <td>0</td>\n",
       "      <td>0</td>\n",
       "      <td>0</td>\n",
       "      <td>0</td>\n",
       "      <td>1</td>\n",
       "      <td>1</td>\n",
       "      <td>0</td>\n",
       "      <td>1</td>\n",
       "      <td>0</td>\n",
       "      <td>0</td>\n",
       "      <td>0</td>\n",
       "      <td>0</td>\n",
       "      <td>0</td>\n",
       "      <td>0</td>\n",
       "      <td>0</td>\n",
       "    </tr>\n",
       "    <tr>\n",
       "      <th>4854-SSLTN</th>\n",
       "      <td>-1.227753</td>\n",
       "      <td>0</td>\n",
       "      <td>1</td>\n",
       "      <td>0</td>\n",
       "      <td>0</td>\n",
       "      <td>0</td>\n",
       "      <td>1</td>\n",
       "      <td>0</td>\n",
       "      <td>1</td>\n",
       "      <td>1</td>\n",
       "      <td>0</td>\n",
       "      <td>0</td>\n",
       "      <td>1</td>\n",
       "      <td>1</td>\n",
       "      <td>0</td>\n",
       "      <td>1</td>\n",
       "      <td>0</td>\n",
       "      <td>0</td>\n",
       "      <td>0</td>\n",
       "    </tr>\n",
       "    <tr>\n",
       "      <th>5172-RKOCB</th>\n",
       "      <td>1.628815</td>\n",
       "      <td>0</td>\n",
       "      <td>1</td>\n",
       "      <td>1</td>\n",
       "      <td>1</td>\n",
       "      <td>0</td>\n",
       "      <td>0</td>\n",
       "      <td>0</td>\n",
       "      <td>1</td>\n",
       "      <td>0</td>\n",
       "      <td>1</td>\n",
       "      <td>0</td>\n",
       "      <td>1</td>\n",
       "      <td>1</td>\n",
       "      <td>0</td>\n",
       "      <td>1</td>\n",
       "      <td>1</td>\n",
       "      <td>1</td>\n",
       "      <td>1</td>\n",
       "    </tr>\n",
       "    <tr>\n",
       "      <th>5419-JPRRN</th>\n",
       "      <td>-1.270689</td>\n",
       "      <td>0</td>\n",
       "      <td>0</td>\n",
       "      <td>1</td>\n",
       "      <td>0</td>\n",
       "      <td>1</td>\n",
       "      <td>0</td>\n",
       "      <td>0</td>\n",
       "      <td>0</td>\n",
       "      <td>0</td>\n",
       "      <td>1</td>\n",
       "      <td>0</td>\n",
       "      <td>0</td>\n",
       "      <td>0</td>\n",
       "      <td>1</td>\n",
       "      <td>0</td>\n",
       "      <td>1</td>\n",
       "      <td>1</td>\n",
       "      <td>1</td>\n",
       "    </tr>\n",
       "  </tbody>\n",
       "</table>\n",
       "</div>"
      ],
      "text/plain": [
       "             duration_contract  billing_type_One year  billing_type_Two year  \\\n",
       "customer_id                                                                    \n",
       "2656-FMOKZ           -0.697765                      0                      0   \n",
       "8966-OIQHG           -0.410632                      1                      0   \n",
       "4854-SSLTN           -1.227753                      0                      1   \n",
       "5172-RKOCB            1.628815                      0                      1   \n",
       "5419-JPRRN           -1.270689                      0                      0   \n",
       "\n",
       "             paperless_billing_Yes  payment_method_Credit card (automatic)  \\\n",
       "customer_id                                                                  \n",
       "2656-FMOKZ                       1                                       0   \n",
       "8966-OIQHG                       0                                       0   \n",
       "4854-SSLTN                       0                                       0   \n",
       "5172-RKOCB                       1                                       1   \n",
       "5419-JPRRN                       1                                       0   \n",
       "\n",
       "             payment_method_Electronic check  payment_method_Mailed check  \\\n",
       "customer_id                                                                 \n",
       "2656-FMOKZ                                 0                            1   \n",
       "8966-OIQHG                                 0                            0   \n",
       "4854-SSLTN                                 0                            1   \n",
       "5172-RKOCB                                 0                            0   \n",
       "5419-JPRRN                                 1                            0   \n",
       "\n",
       "             senior_sitizen_1  partner_Yes  dependents_Yes  \\\n",
       "customer_id                                                  \n",
       "2656-FMOKZ                  1            0               0   \n",
       "8966-OIQHG                  0            1               1   \n",
       "4854-SSLTN                  0            1               1   \n",
       "5172-RKOCB                  0            1               0   \n",
       "5419-JPRRN                  0            0               0   \n",
       "\n",
       "             internet_service_Fiber optic  internet_service_Не используется  \\\n",
       "customer_id                                                                   \n",
       "2656-FMOKZ                              1                                 0   \n",
       "8966-OIQHG                              0                                 1   \n",
       "4854-SSLTN                              0                                 0   \n",
       "5172-RKOCB                              1                                 0   \n",
       "5419-JPRRN                              1                                 0   \n",
       "\n",
       "             online_security_Yes  online_backup_Yes  device_protection_Yes  \\\n",
       "customer_id                                                                  \n",
       "2656-FMOKZ                     0                  0                      0   \n",
       "8966-OIQHG                     0                  0                      0   \n",
       "4854-SSLTN                     1                  1                      0   \n",
       "5172-RKOCB                     1                  1                      0   \n",
       "5419-JPRRN                     0                  0                      1   \n",
       "\n",
       "             tech_support_Yes  streaming_tv_Yes  streaming_movies_Yes  \\\n",
       "customer_id                                                             \n",
       "2656-FMOKZ                  0                 0                     0   \n",
       "8966-OIQHG                  0                 0                     0   \n",
       "4854-SSLTN                  1                 0                     0   \n",
       "5172-RKOCB                  1                 1                     1   \n",
       "5419-JPRRN                  0                 1                     1   \n",
       "\n",
       "             multiple_lines_Yes  \n",
       "customer_id                      \n",
       "2656-FMOKZ                    1  \n",
       "8966-OIQHG                    0  \n",
       "4854-SSLTN                    0  \n",
       "5172-RKOCB                    1  \n",
       "5419-JPRRN                    1  "
      ]
     },
     "metadata": {},
     "output_type": "display_data"
    }
   ],
   "source": [
    "features_test = pd.get_dummies(features_test, drop_first=True)\n",
    "features_test.info()\n",
    "display(features_test.head())"
   ]
  },
  {
   "cell_type": "markdown",
   "metadata": {},
   "source": [
    "### 3.2 Подбор гиперпараметров, обучение моделей, оценка качества моделей на кросс-валидации"
   ]
  },
  {
   "cell_type": "markdown",
   "metadata": {},
   "source": [
    "#### 3.2.1 Модель LGBMClassifier"
   ]
  },
  {
   "cell_type": "code",
   "execution_count": 76,
   "metadata": {
    "scrolled": true
   },
   "outputs": [
    {
     "name": "stdout",
     "output_type": "stream",
     "text": [
      "Fitting 6 folds for each of 12 candidates, totalling 72 fits\n",
      "[LightGBM] [Warning] Unknown parameter: l2_leaf_reg\n",
      "Лучшие параметры LGBMRegressor: LGBMClassifier(class_weight='balanced', l2_leaf_reg=1, learning_rate=0.155,\n",
      "               max_depth=2, n_estimators=1190, random_state=121222)\n",
      "Wall time: 24.2 s\n"
     ]
    }
   ],
   "source": [
    "%%time\n",
    "model_lgmb = LGBMClassifier(class_weight='balanced', random_state=RANDOM_STATE) \n",
    "     \n",
    "parameter_lgmb = {\n",
    "                  'max_depth' : [2,3],\n",
    "                  'learning_rate' : np.arange(0.155, 0.157, 0.01),\n",
    "                  'l2_leaf_reg': [1, 2],\n",
    "                  'n_estimators' : range(1190,1193,1)                \n",
    "                  }\n",
    "    \n",
    "grid_searcher_LGMB_roc = GridSearchCV(model_lgmb, parameter_lgmb, scoring='roc_auc', verbose=3, cv=6, n_jobs=-1)\n",
    "\n",
    "grid_searcher_LGMB_roc.fit(features_train, target_train)                    \n",
    "                    \n",
    "print('Лучшие параметры LGBMRegressor:', grid_searcher_LGMB_roc.best_estimator_)"
   ]
  },
  {
   "cell_type": "code",
   "execution_count": 77,
   "metadata": {},
   "outputs": [
    {
     "data": {
      "text/plain": [
       "'ROC_AUC на модели LGBMClassifier: 0.933'"
      ]
     },
     "execution_count": 77,
     "metadata": {},
     "output_type": "execute_result"
    }
   ],
   "source": [
    "f\"ROC_AUC на модели LGBMClassifier: {round((grid_searcher_LGMB_roc.best_score_).mean(),3)}\""
   ]
  },
  {
   "cell_type": "code",
   "execution_count": 78,
   "metadata": {},
   "outputs": [
    {
     "name": "stdout",
     "output_type": "stream",
     "text": [
      "Fitting 6 folds for each of 12 candidates, totalling 72 fits\n",
      "Wall time: 9.99 s\n"
     ]
    },
    {
     "data": {
      "text/plain": [
       "'Accuracy на модели LogisticRegression: 0.858'"
      ]
     },
     "execution_count": 78,
     "metadata": {},
     "output_type": "execute_result"
    }
   ],
   "source": [
    "%%time\n",
    "grid_searcher_LGMB_acc = GridSearchCV(model_lgmb, parameter_lgmb, scoring='accuracy', verbose=3, cv=6, n_jobs=-1)\n",
    "grid_searcher_LGMB_acc.fit(features_train, target_train) \n",
    "f\"Accuracy на модели LogisticRegression: {round((grid_searcher_LGMB_acc.best_score_).mean(),3)}\""
   ]
  },
  {
   "cell_type": "markdown",
   "metadata": {},
   "source": [
    "#### 3.2.2 Модель LogisticRegression"
   ]
  },
  {
   "cell_type": "code",
   "execution_count": 79,
   "metadata": {},
   "outputs": [
    {
     "name": "stdout",
     "output_type": "stream",
     "text": [
      "Fitting 5 folds for each of 100 candidates, totalling 500 fits\n",
      "Лучшие параметры LogisticRegression: LogisticRegression(C=0.55, class_weight='balanced', random_state=121222,\n",
      "                   solver='sag')\n",
      "Wall time: 4.39 s\n"
     ]
    }
   ],
   "source": [
    "%%time\n",
    "model_lr = LogisticRegression(class_weight='balanced', random_state=RANDOM_STATE)\n",
    "\n",
    "parameters_lr = {'penalty':['l1','l2'],\n",
    "              'C':np.arange(0.5,1.0,0.05),\n",
    "              'solver':['newton-cg', 'lbfgs', 'liblinear', 'sag', 'saga']\n",
    "              }\n",
    "\n",
    "grid_searcher_lr_roc = GridSearchCV(model_lr, parameters_lr, scoring='roc_auc', verbose=10, cv=5, n_jobs=-1)\n",
    "\n",
    "grid_searcher_lr_roc.fit(features_train, target_train)\n",
    "                    \n",
    "print('Лучшие параметры LogisticRegression:', grid_searcher_lr_roc.best_estimator_)"
   ]
  },
  {
   "cell_type": "code",
   "execution_count": 80,
   "metadata": {},
   "outputs": [
    {
     "data": {
      "text/plain": [
       "'ROC_AUC на модели LogisticRegression: 0.839'"
      ]
     },
     "execution_count": 80,
     "metadata": {},
     "output_type": "execute_result"
    }
   ],
   "source": [
    "f\"ROC_AUC на модели LogisticRegression: {round((grid_searcher_lr_roc.best_score_).mean(),3)}\""
   ]
  },
  {
   "cell_type": "code",
   "execution_count": 81,
   "metadata": {},
   "outputs": [
    {
     "name": "stdout",
     "output_type": "stream",
     "text": [
      "Fitting 5 folds for each of 100 candidates, totalling 500 fits\n",
      "Wall time: 4.48 s\n"
     ]
    },
    {
     "data": {
      "text/plain": [
       "'Accuracy на модели LogisticRegression: 0.743'"
      ]
     },
     "execution_count": 81,
     "metadata": {},
     "output_type": "execute_result"
    }
   ],
   "source": [
    "%%time\n",
    "grid_searcher_lr_acc = GridSearchCV(model_lr, parameters_lr, scoring='accuracy', verbose=10, cv=5, n_jobs=-1)\n",
    "grid_searcher_lr_acc.fit(features_train, target_train) \n",
    "f\"Accuracy на модели LogisticRegression: {round((grid_searcher_lr_acc.best_score_).mean(),3)}\""
   ]
  },
  {
   "cell_type": "markdown",
   "metadata": {},
   "source": [
    "#### 3.2.3 Модель XGBClassifier"
   ]
  },
  {
   "cell_type": "code",
   "execution_count": 82,
   "metadata": {},
   "outputs": [
    {
     "name": "stdout",
     "output_type": "stream",
     "text": [
      "Fitting 4 folds for each of 16 candidates, totalling 64 fits\n",
      "[16:00:26] WARNING: C:/Users/administrator/workspace/xgboost-win64_release_1.6.0/src/learner.cc:627: \n",
      "Parameters: { \"class_weight\" } might not be used.\n",
      "\n",
      "  This could be a false alarm, with some parameters getting used by language bindings but\n",
      "  then being mistakenly passed down to XGBoost core, or some parameter actually being used\n",
      "  but getting flagged wrongly here. Please open an issue if you find any such cases.\n",
      "\n",
      "\n",
      "Лучшие параметры XGBClassifier: XGBClassifier(base_score=0.5, booster='gbtree', callbacks=None,\n",
      "              class_weight='balanced', colsample_bylevel=1, colsample_bynode=1,\n",
      "              colsample_bytree=1, early_stopping_rounds=None,\n",
      "              enable_categorical=False, eval_metric=None, gamma=0, gpu_id=-1,\n",
      "              grow_policy='depthwise', importance_type=None,\n",
      "              interaction_constraints='', learning_rate=0.07, max_bin=256,\n",
      "              max_cat_to_onehot=4, max_delta_step=0, max_depth=3, max_leaves=0,\n",
      "              min_child_weight=1, missing=nan, monotone_constraints='()',\n",
      "              n_estimators=700, n_jobs=0, num_parallel_tree=1, predictor='auto',\n",
      "              random_state=121222, reg_alpha=0, ...)\n",
      "Wall time: 28 s\n"
     ]
    }
   ],
   "source": [
    "%%time\n",
    "model_xgb = XGBClassifier(class_weight='balanced', random_state=RANDOM_STATE)\n",
    "\n",
    "parameter_xgb = { 'max_depth' : [2, 3],\n",
    "                  'min_child_weight' : [1, 2],\n",
    "                  'n_estimators' : [600, 700],\n",
    "                  'learning_rate' : [0.06, 0.07] }\n",
    "\n",
    "grid_searcher_xgb_roc = GridSearchCV(model_xgb, parameter_xgb, scoring='roc_auc', verbose=3, cv=4, n_jobs=-1)\n",
    "\n",
    "grid_searcher_xgb_roc.fit(features_train, target_train)\n",
    "\n",
    "print('Лучшие параметры XGBClassifier:', grid_searcher_xgb_roc.best_estimator_)"
   ]
  },
  {
   "cell_type": "code",
   "execution_count": 83,
   "metadata": {},
   "outputs": [
    {
     "data": {
      "text/plain": [
       "'ROC_AUC на модели XGBClassifier: 0.92'"
      ]
     },
     "execution_count": 83,
     "metadata": {},
     "output_type": "execute_result"
    }
   ],
   "source": [
    "f\"ROC_AUC на модели XGBClassifier: {round((grid_searcher_xgb_roc.best_score_).mean(),3)}\""
   ]
  },
  {
   "cell_type": "code",
   "execution_count": 84,
   "metadata": {},
   "outputs": [
    {
     "name": "stdout",
     "output_type": "stream",
     "text": [
      "Fitting 4 folds for each of 16 candidates, totalling 64 fits\n",
      "[16:00:52] WARNING: C:/Users/administrator/workspace/xgboost-win64_release_1.6.0/src/learner.cc:627: \n",
      "Parameters: { \"class_weight\" } might not be used.\n",
      "\n",
      "  This could be a false alarm, with some parameters getting used by language bindings but\n",
      "  then being mistakenly passed down to XGBoost core, or some parameter actually being used\n",
      "  but getting flagged wrongly here. Please open an issue if you find any such cases.\n",
      "\n",
      "\n",
      "Wall time: 26.2 s\n"
     ]
    },
    {
     "data": {
      "text/plain": [
       "'Accuracy на модели XGBClassifier: 0.875'"
      ]
     },
     "execution_count": 84,
     "metadata": {},
     "output_type": "execute_result"
    }
   ],
   "source": [
    "%%time\n",
    "grid_searcher_xgb_acc = GridSearchCV(model_xgb, parameter_xgb, scoring='accuracy', verbose=3, cv=4, n_jobs=-1)\n",
    "grid_searcher_xgb_acc.fit(features_train, target_train) \n",
    "f\"Accuracy на модели XGBClassifier: {round((grid_searcher_xgb_acc.best_score_).mean(),3)}\""
   ]
  },
  {
   "cell_type": "markdown",
   "metadata": {},
   "source": [
    "## 3. Тестирование и выводы"
   ]
  },
  {
   "cell_type": "markdown",
   "metadata": {},
   "source": [
    "Лучшее качество на кросс-валидации показала модель LGBMClassifier.\n",
    "\n",
    "Значение метрики ROC_AUC - 0.933.\n",
    "\n",
    "Значение метрики Accuracy - 0.858.\n",
    "\n",
    "Выполним тестирование на тестовой выборке модели LGBMClassifier, которая показала лучшую метрику ROC_AUC"
   ]
  },
  {
   "cell_type": "code",
   "execution_count": 85,
   "metadata": {},
   "outputs": [
    {
     "name": "stdout",
     "output_type": "stream",
     "text": [
      "ROC_AUC на модели LGBMClassifier на тестовой выборке: 0.862\n"
     ]
    }
   ],
   "source": [
    "predicted_LGBM_roc = grid_searcher_LGMB_roc.predict(features_test)\n",
    "roc_auc = roc_auc_score(target_test, predicted_LGBM_roc)\n",
    "print('ROC_AUC на модели LGBMClassifier на тестовой выборке:',round(roc_auc,3))"
   ]
  },
  {
   "cell_type": "code",
   "execution_count": 86,
   "metadata": {},
   "outputs": [
    {
     "name": "stdout",
     "output_type": "stream",
     "text": [
      "Accuracy на модели LGBMClassifier на тестовой выборке: 0.86\n"
     ]
    }
   ],
   "source": [
    "predicted_LGBM_acc = grid_searcher_LGMB_acc.predict(features_test)\n",
    "accuracy = accuracy_score(target_test, predicted_LGBM_acc)\n",
    "print('Accuracy на модели LGBMClassifier на тестовой выборке:',round(accuracy,3))"
   ]
  },
  {
   "cell_type": "markdown",
   "metadata": {},
   "source": [
    "Значение метрики ROC_AUC лучшей модели LGBMClassifier на тестовой выборке 0.862\n",
    "\n",
    "Значение метрики Accuracy лучшей модели LGBMClassifier на тестовой выборке 0.860"
   ]
  },
  {
   "cell_type": "markdown",
   "metadata": {},
   "source": [
    "Как сильно наша модель отличается от случайной наглядно показывает метрика качества ROC-кривая "
   ]
  },
  {
   "cell_type": "code",
   "execution_count": 87,
   "metadata": {},
   "outputs": [],
   "source": [
    "def draw_ROC(target_test, features_test, grid_searcher_LGMB):\n",
    "    fpr, tpr, thresholds = roc_curve(target_test, grid_searcher_LGMB.predict_proba(features_test)[:,1], pos_label=1)\n",
    "    plt.figure(figsize=(12, 10))\n",
    "    plt.plot(fpr, tpr)\n",
    "    plt.xlim([0.0, 1.0])\n",
    "    plt.ylim([0.0, 1.0])\n",
    "    plt.xlabel('False Positive Rate')\n",
    "    plt.ylabel('True Positive Rate')\n",
    "    plt.title('ROC-кривая')\n",
    "    plt.plot([0, 1], [0, 1], linestyle='--')\n",
    "    plt.show() "
   ]
  },
  {
   "cell_type": "code",
   "execution_count": 88,
   "metadata": {},
   "outputs": [
    {
     "data": {
      "image/png": "[encoded data removed]",
      "text/plain": [
       "<Figure size 864x720 with 1 Axes>"
      ]
     },
     "metadata": {},
     "output_type": "display_data"
    }
   ],
   "source": [
    "draw_ROC(target_test, features_test, grid_searcher_LGMB_roc)"
   ]
  },
  {
   "cell_type": "markdown",
   "metadata": {},
   "source": [
    "### Выводы\n",
    "\n",
    "###### В проекте выполнены следующие этапы\n",
    "\n",
    "1. Первичное знакомство с данными/загрузка данных\n",
    "- загружены библиотеки и данные\n",
    "- данные изучены, определена необходимость их предобработки и исследования\n",
    "2. Предобработка данных/исследовательский анализ данных\n",
    "- заполнены пропуски и изменены типы данных\n",
    "- создан новый признак: продолжительность контракта с клиентом duration_contract\n",
    "- выделен целевой признак client_left: уйдет клиент или нет \n",
    "- данные обьединены в единый датасет\n",
    "- проведен анализ распределения признаков, опредена их их важность для обучении моделей\n",
    "- удалены ненужные признаки для обучения моделей\n",
    "\n",
    "Итоговый список признаков:\n",
    "- billing_type      \n",
    "- paperless_billing  \n",
    "- payment_method     \n",
    "- senior_sitizen     \n",
    "- partner            \n",
    "- dependents         \n",
    "- internet_service   \n",
    "- online_security    \n",
    "- online_backup      \n",
    "- device_protection  \n",
    "- tech_support       \n",
    "- streaming_tv       \n",
    "- streaming_movies   \n",
    "- multiple_lines     \n",
    "- duration_contract (новый созданный признак) \n",
    "3. Моделирование\n",
    "- данные разделенны на треновочный и тестовый наборы \n",
    "- выполнено кодирование и масштабирование данных\n",
    "- при обучении моделей применена балансировка целевого признака class_weight='balanced'\n",
    "- выполнены подбор гиперпараметров, обучение, оценка качества по метрике ROC_AUC\n",
    "на кросс-валидации для трех моделей LGBMClassifier, LogisticRegression и XGBClassifier\n",
    "- лучшую метрику качества ROC_AUC показала модель LGBMClassifier - 0.933\n",
    "- значение метрики Accuracy на моделе LGBMClassifier - 0.858\n",
    "\n",
    "Гиперпараметры LGBMRegressor: \n",
    "- class_weight='balanced',\n",
    "- learning_rate=0.155,\n",
    "- max_depth=2,\n",
    "- n_estimators=1190,\n",
    "- l2_leaf_reg=1, \n",
    "- random_state=121222,\n",
    "- cv=6\n",
    " \n",
    "4. Тестирование \n",
    "- выпонено тестирование лучшей модели LGBMClassifier на тестовой выборке\n",
    "- метрика качества ROC_AUC модели LGBMClassifier на тестовой выборке - 0.862\n",
    "- метрики качества Accuracy на моделе LGBMClassifier на тестовой выборке - 0.860\n",
    "\n",
    "###### Модель бинарной классификации LGBMClassifier может быть рекомендована оператору связи для прогнозирования оттока клиентов с целью принятия упреждающих мер по удержанию клиентов "
   ]
  },
  {
   "cell_type": "markdown",
   "metadata": {},
   "source": [
    "### Отчет по представленному решению\n",
    "\n",
    "1. Какие пункты плана были выполнены, а какие — нет (поясните почему)?\n",
    "\n",
    "Все пункты плана решения задачи выполнены.\n",
    "\n",
    "2. Какие трудности возникли и как вы их преодолели?\n",
    "\n",
    "Особых трудностей не было. Много времени ушло на подбор гиперпараметров моделей для получения высокого качества метрик.\n",
    "\n",
    "3. Какие ключевые шаги в решении задачи выделили?\n",
    "- подготовка данных, заполнение пропусков, создание нового признака, объединение\n",
    "- анализ данных, выделение целевого признака\n",
    "- отбор признаков для обучения\n",
    "- подбор гиперпараметров, обучение моделей\n",
    "- выбор лучшей модели по результатам кросс-валидации, тестирование.\n",
    "\n",
    "4. Какая ваша итоговая модель и какое у неё качество?\n",
    "\n",
    "Итоговая модель LGBMClassifier показала следущие метрики качества:\n",
    "- на кросс-валидации ROC AUC: 0.933\n",
    "- на кросс-валидации Accuracy: 0.858\n",
    "- на тестовых данных ROC AUC: 0.862\n",
    "- на тестовых данных Accuracy: 0.860\n",
    "\n",
    "Данные метрики качества модели LGBMClassifier получены на гиперпараметрах:\n",
    "- class_weight='balanced',\n",
    "- learning_rate=0.155,\n",
    "- max_depth=2,\n",
    "- n_estimators=1190,\n",
    "- l2_leaf_reg=1, \n",
    "- random_state=121222\n",
    "- cv=6\n",
    "\n",
    "Данные метрики качества модели LGBMClassifier получены на итоговых признаках:\n",
    "- billing_type      \n",
    "- paperless_billing  \n",
    "- payment_method     \n",
    "- senior_sitizen     \n",
    "- partner            \n",
    "- dependents         \n",
    "- internet_service   \n",
    "- online_security    \n",
    "- online_backup      \n",
    "- device_protection  \n",
    "- tech_support       \n",
    "- streaming_tv       \n",
    "- streaming_movies   \n",
    "- multiple_lines     \n",
    "- duration_contract  (новый созданный признак - продолжительность контракта с клиентом)\n",
    "\n",
    "Для итоговых признаков проведена следующая преобработка:\n",
    "- создан новый признак продолжительность контракта с клиентом duration_contract. Признак рассчитывается как разница между датами окончания пользования услугами end_date и датой начала пользования услугами begin_date. Перед этим, данные в столбце end_date с обозначением 'No' заменили на дату выгрузки данных '2020-02-01'. Замена сделана на предположении, что отсутствие даты в столбце end_date означает, что на момент выгрузки данных договор не с клиентом расторгнут\n",
    "- пропуски значений в столбцах с услугами online_security, online_backup, device_protection, tech_support, streaming_tv, streaming_movies заменили на обозначение 'No', предположив что услуги не предоставляется \n",
    "- пропуски значений в столбце multiple_lines заменили на обозначение 'No', предположив что данные клиенты не имеют подключения по мультиканальной линии\n",
    "- пропуски значений в столбце internet_service заменили на обозначение 'Не используется', предположив что данные клиенты не используются интернет сервисом"
   ]
  }
 ],
 "metadata": {
  "ExecuteTimeLog": [
   {
    "duration": 1260,
    "start_time": "2022-12-14T18:25:25.804Z"
   },
   {
    "duration": 107,
    "start_time": "2022-12-14T18:25:27.066Z"
   },
   {
    "duration": 16,
    "start_time": "2022-12-14T18:25:27.383Z"
   },
   {
    "duration": 15,
    "start_time": "2022-12-14T18:25:27.893Z"
   },
   {
    "duration": 5,
    "start_time": "2022-12-14T18:25:28.353Z"
   },
   {
    "duration": 8,
    "start_time": "2022-12-14T18:25:28.872Z"
   },
   {
    "duration": 14,
    "start_time": "2022-12-14T18:25:29.872Z"
   },
   {
    "duration": 14,
    "start_time": "2022-12-14T18:25:30.250Z"
   },
   {
    "duration": 17,
    "start_time": "2022-12-14T18:25:30.623Z"
   },
   {
    "duration": 16,
    "start_time": "2022-12-14T18:25:30.966Z"
   },
   {
    "duration": 7,
    "start_time": "2022-12-14T18:25:31.344Z"
   },
   {
    "duration": 17,
    "start_time": "2022-12-14T18:25:31.965Z"
   },
   {
    "duration": 21,
    "start_time": "2022-12-14T18:25:32.130Z"
   },
   {
    "duration": 17,
    "start_time": "2022-12-14T18:25:32.293Z"
   },
   {
    "duration": 15,
    "start_time": "2022-12-14T18:25:32.454Z"
   },
   {
    "duration": 16,
    "start_time": "2022-12-14T18:25:32.544Z"
   },
   {
    "duration": 15,
    "start_time": "2022-12-14T18:25:32.629Z"
   },
   {
    "duration": 12,
    "start_time": "2022-12-14T18:25:32.732Z"
   },
   {
    "duration": 13,
    "start_time": "2022-12-14T18:25:32.975Z"
   },
   {
    "duration": 9,
    "start_time": "2022-12-14T18:25:33.043Z"
   },
   {
    "duration": 5,
    "start_time": "2022-12-14T18:25:33.123Z"
   },
   {
    "duration": 7,
    "start_time": "2022-12-14T18:25:33.232Z"
   },
   {
    "duration": 11,
    "start_time": "2022-12-14T18:25:33.895Z"
   },
   {
    "duration": 14,
    "start_time": "2022-12-14T18:25:34.654Z"
   },
   {
    "duration": 17,
    "start_time": "2022-12-14T18:25:34.994Z"
   },
   {
    "duration": 9,
    "start_time": "2022-12-14T18:25:35.171Z"
   },
   {
    "duration": 11,
    "start_time": "2022-12-14T18:25:35.702Z"
   },
   {
    "duration": 10,
    "start_time": "2022-12-14T18:25:35.883Z"
   },
   {
    "duration": 5,
    "start_time": "2022-12-14T18:25:36.071Z"
   },
   {
    "duration": 7,
    "start_time": "2022-12-14T18:25:36.225Z"
   },
   {
    "duration": 11,
    "start_time": "2022-12-14T18:25:36.974Z"
   },
   {
    "duration": 13,
    "start_time": "2022-12-14T18:25:37.388Z"
   },
   {
    "duration": 19,
    "start_time": "2022-12-14T18:25:37.751Z"
   },
   {
    "duration": 10,
    "start_time": "2022-12-14T18:25:38.441Z"
   },
   {
    "duration": 7,
    "start_time": "2022-12-14T18:25:38.502Z"
   },
   {
    "duration": 5,
    "start_time": "2022-12-14T18:25:38.600Z"
   },
   {
    "duration": 6,
    "start_time": "2022-12-14T18:25:38.673Z"
   },
   {
    "duration": 11,
    "start_time": "2022-12-14T18:25:39.179Z"
   },
   {
    "duration": 16,
    "start_time": "2022-12-14T18:25:39.271Z"
   },
   {
    "duration": 16,
    "start_time": "2022-12-14T18:25:39.341Z"
   },
   {
    "duration": 9,
    "start_time": "2022-12-14T18:25:39.673Z"
   },
   {
    "duration": 31,
    "start_time": "2022-12-14T18:25:39.752Z"
   },
   {
    "duration": 21,
    "start_time": "2022-12-14T18:25:39.833Z"
   },
   {
    "duration": 26,
    "start_time": "2022-12-14T18:25:40.001Z"
   },
   {
    "duration": 6,
    "start_time": "2022-12-14T18:25:40.174Z"
   },
   {
    "duration": 23,
    "start_time": "2022-12-14T18:25:40.325Z"
   },
   {
    "duration": 23,
    "start_time": "2022-12-14T18:25:40.502Z"
   },
   {
    "duration": 22,
    "start_time": "2022-12-14T18:25:40.671Z"
   },
   {
    "duration": 23,
    "start_time": "2022-12-14T18:25:40.753Z"
   },
   {
    "duration": 25,
    "start_time": "2022-12-14T18:25:40.924Z"
   },
   {
    "duration": 25,
    "start_time": "2022-12-14T18:25:41.093Z"
   },
   {
    "duration": 6,
    "start_time": "2022-12-14T18:25:41.271Z"
   },
   {
    "duration": 114,
    "start_time": "2022-12-14T18:25:41.342Z"
   },
   {
    "duration": 359,
    "start_time": "2022-12-14T18:25:41.593Z"
   },
   {
    "duration": 238,
    "start_time": "2022-12-14T18:25:41.954Z"
   },
   {
    "duration": 351,
    "start_time": "2022-12-14T18:25:42.194Z"
   },
   {
    "duration": 418,
    "start_time": "2022-12-14T18:25:42.547Z"
   },
   {
    "duration": 172,
    "start_time": "2022-12-14T18:25:42.967Z"
   },
   {
    "duration": 203,
    "start_time": "2022-12-14T18:25:43.141Z"
   },
   {
    "duration": 163,
    "start_time": "2022-12-14T18:25:43.345Z"
   },
   {
    "duration": 156,
    "start_time": "2022-12-14T18:25:43.512Z"
   },
   {
    "duration": 166,
    "start_time": "2022-12-14T18:25:43.669Z"
   },
   {
    "duration": 167,
    "start_time": "2022-12-14T18:25:43.852Z"
   },
   {
    "duration": 180,
    "start_time": "2022-12-14T18:25:44.113Z"
   },
   {
    "duration": 189,
    "start_time": "2022-12-14T18:25:44.370Z"
   },
   {
    "duration": 197,
    "start_time": "2022-12-14T18:25:44.561Z"
   },
   {
    "duration": 270,
    "start_time": "2022-12-14T18:25:44.760Z"
   },
   {
    "duration": 170,
    "start_time": "2022-12-14T18:25:45.031Z"
   },
   {
    "duration": 177,
    "start_time": "2022-12-14T18:25:45.211Z"
   },
   {
    "duration": 196,
    "start_time": "2022-12-14T18:25:45.390Z"
   },
   {
    "duration": 172,
    "start_time": "2022-12-14T18:25:45.588Z"
   },
   {
    "duration": 181,
    "start_time": "2022-12-14T18:25:45.762Z"
   },
   {
    "duration": 22,
    "start_time": "2022-12-14T18:25:45.945Z"
   },
   {
    "duration": 47,
    "start_time": "2022-12-14T18:26:41.173Z"
   },
   {
    "duration": 45,
    "start_time": "2022-12-14T18:41:07.083Z"
   },
   {
    "duration": 59,
    "start_time": "2022-12-14T18:41:45.353Z"
   },
   {
    "duration": 47,
    "start_time": "2022-12-14T18:43:02.935Z"
   },
   {
    "duration": 34,
    "start_time": "2022-12-14T18:43:34.704Z"
   },
   {
    "duration": 60,
    "start_time": "2022-12-14T18:44:06.784Z"
   },
   {
    "duration": 43,
    "start_time": "2022-12-14T18:45:28.604Z"
   },
   {
    "duration": 49,
    "start_time": "2022-12-14T18:47:52.693Z"
   },
   {
    "duration": 44,
    "start_time": "2022-12-14T18:49:35.915Z"
   },
   {
    "duration": 63,
    "start_time": "2022-12-14T18:50:02.274Z"
   },
   {
    "duration": 50,
    "start_time": "2022-12-14T18:50:14.778Z"
   },
   {
    "duration": 53,
    "start_time": "2022-12-17T17:20:25.198Z"
   },
   {
    "duration": 43,
    "start_time": "2022-12-17T17:20:53.752Z"
   },
   {
    "duration": 1312,
    "start_time": "2022-12-17T17:21:28.572Z"
   },
   {
    "duration": 323,
    "start_time": "2022-12-17T17:21:29.886Z"
   },
   {
    "duration": 15,
    "start_time": "2022-12-17T17:21:30.210Z"
   },
   {
    "duration": 63,
    "start_time": "2022-12-17T17:21:30.227Z"
   },
   {
    "duration": 72,
    "start_time": "2022-12-17T17:21:30.291Z"
   },
   {
    "duration": 117,
    "start_time": "2022-12-17T17:21:30.365Z"
   },
   {
    "duration": 46,
    "start_time": "2022-12-17T17:21:30.483Z"
   },
   {
    "duration": 83,
    "start_time": "2022-12-17T17:21:30.531Z"
   },
   {
    "duration": 35,
    "start_time": "2022-12-17T17:21:30.616Z"
   },
   {
    "duration": 83,
    "start_time": "2022-12-17T17:21:30.653Z"
   },
   {
    "duration": 25,
    "start_time": "2022-12-17T17:21:30.738Z"
   },
   {
    "duration": 27,
    "start_time": "2022-12-17T17:21:30.764Z"
   },
   {
    "duration": 37,
    "start_time": "2022-12-17T17:21:30.793Z"
   },
   {
    "duration": 38,
    "start_time": "2022-12-17T17:21:30.832Z"
   },
   {
    "duration": 37,
    "start_time": "2022-12-17T17:21:30.872Z"
   },
   {
    "duration": 26,
    "start_time": "2022-12-17T17:21:30.911Z"
   },
   {
    "duration": 44,
    "start_time": "2022-12-17T17:21:30.940Z"
   },
   {
    "duration": 42,
    "start_time": "2022-12-17T17:21:30.986Z"
   },
   {
    "duration": 23,
    "start_time": "2022-12-17T17:21:31.030Z"
   },
   {
    "duration": 47,
    "start_time": "2022-12-17T17:21:31.055Z"
   },
   {
    "duration": 31,
    "start_time": "2022-12-17T17:21:31.104Z"
   },
   {
    "duration": 55,
    "start_time": "2022-12-17T17:21:31.136Z"
   },
   {
    "duration": 39,
    "start_time": "2022-12-17T17:21:31.193Z"
   },
   {
    "duration": 58,
    "start_time": "2022-12-17T17:21:31.233Z"
   },
   {
    "duration": 36,
    "start_time": "2022-12-17T17:21:31.293Z"
   },
   {
    "duration": 46,
    "start_time": "2022-12-17T17:21:31.331Z"
   },
   {
    "duration": 45,
    "start_time": "2022-12-17T17:21:31.379Z"
   },
   {
    "duration": 17,
    "start_time": "2022-12-17T17:21:31.428Z"
   },
   {
    "duration": 21,
    "start_time": "2022-12-17T17:21:31.446Z"
   },
   {
    "duration": 18,
    "start_time": "2022-12-17T17:21:31.468Z"
   },
   {
    "duration": 74,
    "start_time": "2022-12-17T17:21:31.487Z"
   },
   {
    "duration": 4,
    "start_time": "2022-12-17T17:21:31.563Z"
   },
   {
    "duration": 14,
    "start_time": "2022-12-17T17:21:31.568Z"
   },
   {
    "duration": 20,
    "start_time": "2022-12-17T17:21:31.583Z"
   },
   {
    "duration": 31,
    "start_time": "2022-12-17T17:21:31.604Z"
   },
   {
    "duration": 19,
    "start_time": "2022-12-17T17:21:31.637Z"
   },
   {
    "duration": 2,
    "start_time": "2022-12-17T17:21:31.657Z"
   },
   {
    "duration": 54,
    "start_time": "2022-12-17T17:21:31.661Z"
   },
   {
    "duration": 22,
    "start_time": "2022-12-17T17:21:31.717Z"
   },
   {
    "duration": 7,
    "start_time": "2022-12-17T17:21:31.741Z"
   },
   {
    "duration": 16,
    "start_time": "2022-12-17T17:21:31.749Z"
   },
   {
    "duration": 15,
    "start_time": "2022-12-17T17:21:31.767Z"
   },
   {
    "duration": 44,
    "start_time": "2022-12-17T17:21:31.783Z"
   },
   {
    "duration": 18,
    "start_time": "2022-12-17T17:21:31.828Z"
   },
   {
    "duration": 12,
    "start_time": "2022-12-17T17:21:31.848Z"
   },
   {
    "duration": 80,
    "start_time": "2022-12-17T17:21:31.862Z"
   },
   {
    "duration": 32,
    "start_time": "2022-12-17T17:21:31.944Z"
   },
   {
    "duration": 37,
    "start_time": "2022-12-17T17:21:31.978Z"
   },
   {
    "duration": 28,
    "start_time": "2022-12-17T17:21:32.016Z"
   },
   {
    "duration": 2,
    "start_time": "2022-12-17T17:21:32.046Z"
   },
   {
    "duration": 20,
    "start_time": "2022-12-17T17:21:32.050Z"
   },
   {
    "duration": 37,
    "start_time": "2022-12-17T17:21:32.073Z"
   },
   {
    "duration": 24,
    "start_time": "2022-12-17T17:21:32.112Z"
   },
   {
    "duration": 23,
    "start_time": "2022-12-17T17:21:32.137Z"
   },
   {
    "duration": 49,
    "start_time": "2022-12-17T17:21:32.161Z"
   },
   {
    "duration": 29,
    "start_time": "2022-12-17T17:21:32.211Z"
   },
   {
    "duration": 22,
    "start_time": "2022-12-17T17:21:32.242Z"
   },
   {
    "duration": 7,
    "start_time": "2022-12-17T17:21:32.266Z"
   },
   {
    "duration": 137,
    "start_time": "2022-12-17T17:21:32.297Z"
   },
   {
    "duration": 417,
    "start_time": "2022-12-17T17:21:32.436Z"
   },
   {
    "duration": 279,
    "start_time": "2022-12-17T17:21:32.854Z"
   },
   {
    "duration": 385,
    "start_time": "2022-12-17T17:21:33.135Z"
   },
   {
    "duration": 520,
    "start_time": "2022-12-17T17:21:33.522Z"
   },
   {
    "duration": 22,
    "start_time": "2022-12-17T17:21:34.043Z"
   },
   {
    "duration": 39,
    "start_time": "2022-12-17T17:21:34.067Z"
   },
   {
    "duration": 18,
    "start_time": "2022-12-17T17:21:34.108Z"
   },
   {
    "duration": 6,
    "start_time": "2022-12-17T17:21:34.127Z"
   },
   {
    "duration": 2564,
    "start_time": "2022-12-17T17:21:34.135Z"
   },
   {
    "duration": 20,
    "start_time": "2022-12-17T17:21:36.701Z"
   },
   {
    "duration": 30,
    "start_time": "2022-12-17T17:21:36.723Z"
   },
   {
    "duration": 44,
    "start_time": "2022-12-17T17:22:04.528Z"
   },
   {
    "duration": 44,
    "start_time": "2022-12-17T17:22:10.444Z"
   },
   {
    "duration": 3129,
    "start_time": "2022-12-19T22:27:35.001Z"
   },
   {
    "duration": 3,
    "start_time": "2022-12-19T22:27:38.132Z"
   },
   {
    "duration": 28,
    "start_time": "2022-12-19T22:27:38.136Z"
   },
   {
    "duration": 491,
    "start_time": "2022-12-19T22:27:38.166Z"
   },
   {
    "duration": 18,
    "start_time": "2022-12-19T22:27:38.659Z"
   },
   {
    "duration": 23,
    "start_time": "2022-12-19T22:27:38.679Z"
   },
   {
    "duration": 63,
    "start_time": "2022-12-19T22:27:38.704Z"
   },
   {
    "duration": 29,
    "start_time": "2022-12-19T22:27:38.768Z"
   },
   {
    "duration": 15,
    "start_time": "2022-12-19T22:27:38.799Z"
   },
   {
    "duration": 31,
    "start_time": "2022-12-19T22:27:38.817Z"
   },
   {
    "duration": 28,
    "start_time": "2022-12-19T22:27:38.849Z"
   },
   {
    "duration": 45,
    "start_time": "2022-12-19T22:27:38.879Z"
   },
   {
    "duration": 18,
    "start_time": "2022-12-19T22:27:38.925Z"
   },
   {
    "duration": 6,
    "start_time": "2022-12-19T22:27:38.945Z"
   },
   {
    "duration": 37,
    "start_time": "2022-12-19T22:27:38.952Z"
   },
   {
    "duration": 32,
    "start_time": "2022-12-19T22:27:38.991Z"
   },
   {
    "duration": 21,
    "start_time": "2022-12-19T22:27:39.024Z"
   },
   {
    "duration": 23,
    "start_time": "2022-12-19T22:27:39.047Z"
   },
   {
    "duration": 15,
    "start_time": "2022-12-19T22:27:39.072Z"
   },
   {
    "duration": 33,
    "start_time": "2022-12-19T22:27:39.089Z"
   },
   {
    "duration": 20,
    "start_time": "2022-12-19T22:27:39.124Z"
   },
   {
    "duration": 35,
    "start_time": "2022-12-19T22:27:39.146Z"
   },
   {
    "duration": 32,
    "start_time": "2022-12-19T22:27:39.183Z"
   },
   {
    "duration": 41,
    "start_time": "2022-12-19T22:27:39.217Z"
   },
   {
    "duration": 15,
    "start_time": "2022-12-19T22:27:39.259Z"
   },
   {
    "duration": 42,
    "start_time": "2022-12-19T22:27:39.276Z"
   },
   {
    "duration": 15,
    "start_time": "2022-12-19T22:27:39.320Z"
   },
   {
    "duration": 28,
    "start_time": "2022-12-19T22:27:39.340Z"
   },
   {
    "duration": 30,
    "start_time": "2022-12-19T22:27:39.370Z"
   },
   {
    "duration": 23,
    "start_time": "2022-12-19T22:27:39.402Z"
   },
   {
    "duration": 22,
    "start_time": "2022-12-19T22:27:39.426Z"
   },
   {
    "duration": 18,
    "start_time": "2022-12-19T22:27:39.449Z"
   },
   {
    "duration": 42,
    "start_time": "2022-12-19T22:27:39.469Z"
   },
   {
    "duration": 13,
    "start_time": "2022-12-19T22:27:39.512Z"
   },
   {
    "duration": 28,
    "start_time": "2022-12-19T22:27:39.526Z"
   },
   {
    "duration": 40,
    "start_time": "2022-12-19T22:27:39.555Z"
   },
   {
    "duration": 43,
    "start_time": "2022-12-19T22:27:39.598Z"
   },
   {
    "duration": 69,
    "start_time": "2022-12-19T22:27:39.643Z"
   },
   {
    "duration": 5,
    "start_time": "2022-12-19T22:27:39.715Z"
   },
   {
    "duration": 50,
    "start_time": "2022-12-19T22:27:39.722Z"
   },
   {
    "duration": 26,
    "start_time": "2022-12-19T22:27:39.774Z"
   },
   {
    "duration": 28,
    "start_time": "2022-12-19T22:27:39.803Z"
   },
   {
    "duration": 39,
    "start_time": "2022-12-19T22:27:39.834Z"
   },
   {
    "duration": 11,
    "start_time": "2022-12-19T22:27:39.875Z"
   },
   {
    "duration": 32,
    "start_time": "2022-12-19T22:27:39.888Z"
   },
   {
    "duration": 26,
    "start_time": "2022-12-19T22:27:39.922Z"
   },
   {
    "duration": 28,
    "start_time": "2022-12-19T22:27:39.950Z"
   },
   {
    "duration": 75,
    "start_time": "2022-12-19T22:27:39.980Z"
   },
   {
    "duration": 30,
    "start_time": "2022-12-19T22:27:40.056Z"
   },
   {
    "duration": 31,
    "start_time": "2022-12-19T22:27:40.088Z"
   },
   {
    "duration": 42,
    "start_time": "2022-12-19T22:27:40.121Z"
   },
   {
    "duration": 21,
    "start_time": "2022-12-19T22:27:40.165Z"
   },
   {
    "duration": 31,
    "start_time": "2022-12-19T22:27:40.189Z"
   },
   {
    "duration": 39,
    "start_time": "2022-12-19T22:27:40.222Z"
   },
   {
    "duration": 38,
    "start_time": "2022-12-19T22:27:40.263Z"
   },
   {
    "duration": 23,
    "start_time": "2022-12-19T22:27:40.303Z"
   },
   {
    "duration": 125,
    "start_time": "2022-12-19T22:27:40.327Z"
   },
   {
    "duration": 54,
    "start_time": "2022-12-19T22:27:40.454Z"
   },
   {
    "duration": 49,
    "start_time": "2022-12-19T22:27:40.510Z"
   },
   {
    "duration": 24,
    "start_time": "2022-12-19T22:27:40.561Z"
   },
   {
    "duration": 148,
    "start_time": "2022-12-19T22:27:40.587Z"
   },
   {
    "duration": 411,
    "start_time": "2022-12-19T22:27:40.736Z"
   },
   {
    "duration": 272,
    "start_time": "2022-12-19T22:27:41.150Z"
   },
   {
    "duration": 420,
    "start_time": "2022-12-19T22:27:41.424Z"
   },
   {
    "duration": 425,
    "start_time": "2022-12-19T22:27:41.850Z"
   },
   {
    "duration": 20,
    "start_time": "2022-12-19T22:27:42.276Z"
   },
   {
    "duration": 19,
    "start_time": "2022-12-19T22:27:42.297Z"
   },
   {
    "duration": 42,
    "start_time": "2022-12-19T22:27:42.318Z"
   },
   {
    "duration": 5,
    "start_time": "2022-12-19T22:27:42.362Z"
   },
   {
    "duration": 2618,
    "start_time": "2022-12-19T22:27:42.369Z"
   },
   {
    "duration": 22,
    "start_time": "2022-12-19T22:27:44.989Z"
   },
   {
    "duration": 39,
    "start_time": "2022-12-19T22:27:45.012Z"
   },
   {
    "duration": 39,
    "start_time": "2022-12-19T22:27:45.053Z"
   },
   {
    "duration": 15,
    "start_time": "2022-12-19T22:27:45.093Z"
   },
   {
    "duration": 5,
    "start_time": "2022-12-19T22:27:45.110Z"
   },
   {
    "duration": 39,
    "start_time": "2022-12-19T22:27:45.116Z"
   },
   {
    "duration": 18,
    "start_time": "2022-12-19T22:27:45.157Z"
   },
   {
    "duration": 88,
    "start_time": "2022-12-22T16:48:19.538Z"
   }
  ],
  "kernelspec": {
   "display_name": "Python 3 (ipykernel)",
   "language": "python",
   "name": "python3"
  },
  "language_info": {
   "codemirror_mode": {
    "name": "ipython",
    "version": 3
   },
   "file_extension": ".py",
   "mimetype": "text/x-python",
   "name": "python",
   "nbconvert_exporter": "python",
   "pygments_lexer": "ipython3",
   "version": "3.9.7"
  },
  "toc": {
   "base_numbering": 1,
   "nav_menu": {},
   "number_sections": true,
   "sideBar": true,
   "skip_h1_title": true,
   "title_cell": "Table of Contents",
   "title_sidebar": "Contents",
   "toc_cell": false,
   "toc_position": {},
   "toc_section_display": true,
   "toc_window_display": false
  }
 },
 "nbformat": 4,
 "nbformat_minor": 2
}
